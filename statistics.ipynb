{
 "cells": [
  {
   "cell_type": "code",
   "execution_count": 1,
   "outputs": [
    {
     "data": {
      "text/html": "            <div id=\"kotlin_out_0\"/>\n            <script type=\"text/javascript\">\n                            if(!window.kotlinQueues) {\n                window.kotlinQueues = {};\n            }\n            if(!window.kotlinQueues[\"kandyLetsPlot\"]) {\n                var resQueue = [];\n                window.kotlinQueues[\"kandyLetsPlot\"] = resQueue;\n                window[\"call_kandyLetsPlot\"] = function(f) {\n                    resQueue.push(f);\n                }\n            }\n            (function (){\n                var modifiers = [(function(script) {\n    script.src = \"https://cdn.jsdelivr.net/gh/JetBrains/lets-plot@v3.1.0/js-package/distr/lets-plot.min.js\"\n    script.type = \"text/javascript\";\n})];\n                var e = document.getElementById(\"kotlin_out_0\");\n                modifiers.forEach(function (gen) {\n                    var script = document.createElement(\"script\");\n                    gen(script)\n                    script.addEventListener(\"load\", function() {\n                        window[\"call_kandyLetsPlot\"] = function(f) {f();};\n                        window.kotlinQueues[\"kandyLetsPlot\"].forEach(function(f) {f();});\n                        window.kotlinQueues[\"kandyLetsPlot\"] = [];\n                    }, false);\n                    script.addEventListener(\"error\", function() {\n                        window[\"call_kandyLetsPlot\"] = function(f) {};\n                        window.kotlinQueues[\"kandyLetsPlot\"] = [];\n                        var div = document.createElement(\"div\");\n                        div.style.color = 'darkred';\n                        div.textContent = 'Error loading resource kandyLetsPlot';\n                        document.getElementById(\"kotlin_out_0\").appendChild(div);\n                    }, false);\n                    \n                    e.appendChild(script);\n                });\n            })();\n            </script>"
     },
     "metadata": {},
     "output_type": "display_data"
    }
   ],
   "source": [
    "%use kandy, dataframe"
   ],
   "metadata": {
    "collapsed": false,
    "ExecuteTime": {
     "end_time": "2023-05-09T13:13:22.314237Z",
     "start_time": "2023-05-09T13:13:16.507231Z"
    }
   }
  },
  {
   "cell_type": "code",
   "execution_count": 2,
   "outputs": [
    {
     "data": {
      "text/html": "            <iframe onload=\"o_resize_iframe_out_1()\" style=\"width:100%;\" class=\"result_container\" id=\"iframe_out_1\" frameBorder=\"0\" srcdoc=\"        &lt;html theme='dark'&gt;\n        &lt;head&gt;\n            &lt;style type=&quot;text&sol;css&quot;&gt;\n                :root {\n    --background: #fff;\n    --background-odd: #f5f5f5;\n    --background-hover: #d9edfd;\n    --header-text-color: #474747;\n    --text-color: #848484;\n    --text-color-dark: #000;\n    --text-color-medium: #737373;\n    --text-color-pale: #b3b3b3;\n    --inner-border-color: #aaa;\n    --bold-border-color: #000;\n    --link-color: #296eaa;\n    --link-color-pale: #296eaa;\n    --link-hover: #1a466c;\n}\n\n:root[theme=&quot;dark&quot;], :root [data-jp-theme-light=&quot;false&quot;], .dataframe_dark{\n    --background: #303030;\n    --background-odd: #3c3c3c;\n    --background-hover: #464646;\n    --header-text-color: #dddddd;\n    --text-color: #b3b3b3;\n    --text-color-dark: #dddddd;\n    --text-color-medium: #b2b2b2;\n    --text-color-pale: #737373;\n    --inner-border-color: #707070;\n    --bold-border-color: #777777;\n    --link-color: #008dc0;\n    --link-color-pale: #97e1fb;\n    --link-hover: #00688e;\n}\n\np.dataframe_description {\n    color: var(--text-color-dark);\n}\n\ntable.dataframe {\n    font-family: &quot;Helvetica Neue&quot;, Helvetica, Arial, sans-serif;\n    font-size: 12px;\n    background-color: var(--background);\n    color: var(--text-color-dark);\n    border: none;\n    border-collapse: collapse;\n}\n\ntable.dataframe th, td {\n    padding: 6px;\n    border: 1px solid transparent;\n    text-align: left;\n}\n\ntable.dataframe th {\n    background-color: var(--background);\n    color: var(--header-text-color);\n}\n\ntable.dataframe td {\n    vertical-align: top;\n}\n\ntable.dataframe th.bottomBorder {\n    border-bottom-color: var(--bold-border-color);\n}\n\ntable.dataframe tbody &gt; tr:nth-child(odd) {\n    background: var(--background-odd);\n}\n\ntable.dataframe tbody &gt; tr:nth-child(even) {\n    background: var(--background);\n}\n\ntable.dataframe tbody &gt; tr:hover {\n    background: var(--background-hover);\n}\n\ntable.dataframe a {\n    cursor: pointer;\n    color: var(--link-color);\n    text-decoration: none;\n}\n\ntable.dataframe tr:hover &gt; td a {\n    color: var(--link-color-pale);\n}\n\ntable.dataframe a:hover {\n    color: var(--link-hover);\n    text-decoration: underline;\n}\n\ntable.dataframe img {\n    max-width: fit-content;\n}\n\ntable.dataframe th.complex {\n    background-color: var(--background);\n    border: 1px solid var(--background);\n}\n\ntable.dataframe .leftBorder {\n    border-left-color: var(--inner-border-color);\n}\n\ntable.dataframe .rightBorder {\n    border-right-color: var(--inner-border-color);\n}\n\ntable.dataframe .rightAlign {\n    text-align: right;\n}\n\ntable.dataframe .expanderSvg {\n    width: 8px;\n    height: 8px;\n    margin-right: 3px;\n}\n\ntable.dataframe .expander {\n    display: flex;\n    align-items: center;\n}\n\n&sol;* formatting *&sol;\n\ntable.dataframe .null {\n    color: var(--text-color-pale);\n}\n\ntable.dataframe .structural {\n    color: var(--text-color-medium);\n    font-weight: bold;\n}\n\ntable.dataframe .dataFrameCaption {\n    font-weight: bold;\n}\n\ntable.dataframe .numbers {\n    color: var(--text-color-dark);\n}\n\ntable.dataframe td:hover .formatted .structural, .null {\n    color: var(--text-color-dark);\n}\n\ntable.dataframe tr:hover .formatted .structural, .null {\n    color: var(--text-color-dark);\n}\n\n\n\n\n:root {\n    --scroll-bg: #f5f5f5;\n    --scroll-fg: #b3b3b3;\n}\n:root[theme=&quot;dark&quot;], :root [data-jp-theme-light=&quot;false&quot;]{\n    --scroll-bg: #3c3c3c;\n    --scroll-fg: #97e1fb;\n}\nbody {\n    scrollbar-color: var(--scroll-fg) var(--scroll-bg);\n}\nbody::-webkit-scrollbar {\n    width: 10px; &sol;* Mostly for vertical scrollbars *&sol;\n    height: 10px; &sol;* Mostly for horizontal scrollbars *&sol;\n}\nbody::-webkit-scrollbar-thumb {\n    background-color: var(--scroll-fg);\n}\nbody::-webkit-scrollbar-track {\n    background-color: var(--scroll-bg);\n}\n            &lt;&sol;style&gt;\n        &lt;&sol;head&gt;\n        &lt;body&gt;\n            \n&lt;table class=&quot;dataframe&quot; id=&quot;df_-738197504&quot;&gt;&lt;&sol;table&gt;\n\n&lt;p class=&quot;dataframe_description&quot;&gt;DataFrame: rowsCount = 16, columnsCount = 4&lt;&sol;p&gt;\n\n        &lt;&sol;body&gt;\n        &lt;script&gt;\n            (function () {\n    window.DataFrame = window.DataFrame || new (function () {\n        this.addTable = function (df) {\n            let cols = df.cols;\n            for (let i = 0; i &lt; cols.length; i++) {\n                for (let c of cols[i].children) {\n                    cols[c].parent = i;\n                }\n            }\n            df.nrow = 0\n            for (let i = 0; i &lt; df.cols.length; i++) {\n                if (df.cols[i].values.length &gt; df.nrow) df.nrow = df.cols[i].values.length\n            }\n            if (df.id === df.rootId) {\n                df.expandedFrames = new Set()\n                df.childFrames = {}\n                const table = this.getTableElement(df.id)\n                table.df = df\n                for (let i = 0; i &lt; df.cols.length; i++) {\n                    let col = df.cols[i]\n                    if (col.parent === undefined &amp;&amp; col.children.length &gt; 0) col.expanded = true\n                }\n            } else {\n                const rootDf = this.getTableData(df.rootId)\n                rootDf.childFrames[df.id] = df\n            }\n        }\n\n        this.computeRenderData = function (df) {\n            let result = []\n            let pos = 0\n            for (let col = 0; col &lt; df.cols.length; col++) {\n                if (df.cols[col].parent === undefined)\n                    pos += this.computeRenderDataRec(df.cols, col, pos, 0, result, false, false)\n            }\n            for (let i = 0; i &lt; result.length; i++) {\n                let row = result[i]\n                for (let j = 0; j &lt; row.length; j++) {\n                    let cell = row[j]\n                    if (j === 0)\n                        cell.leftBd = false\n                    if (j &lt; row.length - 1) {\n                        let nextData = row[j + 1]\n                        if (nextData.leftBd) cell.rightBd = true\n                        else if (cell.rightBd) nextData.leftBd = true\n                    } else cell.rightBd = false\n                }\n            }\n            return result\n        }\n\n        this.computeRenderDataRec = function (cols, colId, pos, depth, result, leftBorder, rightBorder) {\n            if (result.length === depth) {\n                const array = [];\n                if (pos &gt; 0) {\n                    let j = 0\n                    for (let i = 0; j &lt; pos; i++) {\n                        let c = result[depth - 1][i]\n                        j += c.span\n                        let copy = Object.assign({empty: true}, c)\n                        array.push(copy)\n                    }\n                }\n                result.push(array)\n            }\n            const col = cols[colId];\n            let size = 0;\n            if (col.expanded) {\n                let childPos = pos\n                for (let i = 0; i &lt; col.children.length; i++) {\n                    let child = col.children[i]\n                    let childLeft = i === 0 &amp;&amp; (col.children.length &gt; 1 || leftBorder)\n                    let childRight = i === col.children.length - 1 &amp;&amp; (col.children.length &gt; 1 || rightBorder)\n                    let childSize = this.computeRenderDataRec(cols, child, childPos, depth + 1, result, childLeft, childRight)\n                    childPos += childSize\n                    size += childSize\n                }\n            } else {\n                for (let i = depth + 1; i &lt; result.length; i++)\n                    result[i].push({id: colId, span: 1, leftBd: leftBorder, rightBd: rightBorder, empty: true})\n                size = 1\n            }\n            let left = leftBorder\n            let right = rightBorder\n            if (size &gt; 1) {\n                left = true\n                right = true\n            }\n            result[depth].push({id: colId, span: size, leftBd: left, rightBd: right})\n            return size\n        }\n\n        this.getTableElement = function (id) {\n            return document.getElementById(&quot;df_&quot; + id)\n        }\n\n        this.getTableData = function (id) {\n            return this.getTableElement(id).df\n        }\n\n        this.createExpander = function (isExpanded) {\n            const svgNs = &quot;http:&sol;&sol;www.w3.org&sol;2000&sol;svg&quot;\n            let svg = document.createElementNS(svgNs, &quot;svg&quot;)\n            svg.classList.add(&quot;expanderSvg&quot;)\n            let path = document.createElementNS(svgNs, &quot;path&quot;)\n            if (isExpanded) {\n                svg.setAttribute(&quot;viewBox&quot;, &quot;0 -2 8 8&quot;)\n                path.setAttribute(&quot;d&quot;, &quot;M1 0 l-1 1 4 4 4 -4 -1 -1 -3 3Z&quot;)\n            } else {\n                svg.setAttribute(&quot;viewBox&quot;, &quot;-2 0 8 8&quot;)\n                path.setAttribute(&quot;d&quot;, &quot;M1 0 l-1 1 3 3 -3 3 1 1 4 -4Z&quot;)\n            }\n            path.setAttribute(&quot;fill&quot;, &quot;currentColor&quot;)\n            svg.appendChild(path)\n            return svg\n        }\n\n        this.renderTable = function (id) {\n\n            let table = this.getTableElement(id)\n\n            if (table === null) return\n\n            table.innerHTML = &quot;&quot;\n\n            let df = table.df\n            let rootDf = df.rootId === df.id ? df : this.getTableData(df.rootId)\n\n            &sol;&sol; header\n            let header = document.createElement(&quot;thead&quot;)\n            table.appendChild(header)\n\n            let renderData = this.computeRenderData(df)\n            for (let j = 0; j &lt; renderData.length; j++) {\n                let rowData = renderData[j]\n                let tr = document.createElement(&quot;tr&quot;);\n                let isLastRow = j === renderData.length - 1\n                header.appendChild(tr);\n                for (let i = 0; i &lt; rowData.length; i++) {\n                    let cell = rowData[i]\n                    let th = document.createElement(&quot;th&quot;);\n                    th.setAttribute(&quot;colspan&quot;, cell.span)\n                    let colId = cell.id\n                    let col = df.cols[colId];\n                    if (!cell.empty) {\n                        if (col.children.length === 0) {\n                            th.innerHTML = col.name\n                        } else {\n                            let link = document.createElement(&quot;a&quot;)\n                            link.className = &quot;expander&quot;\n                            let that = this\n                            link.onclick = function () {\n                                col.expanded = !col.expanded\n                                that.renderTable(id)\n                            }\n                            link.appendChild(this.createExpander(col.expanded))\n                            link.innerHTML += col.name\n                            th.appendChild(link)\n                        }\n                    }\n                    let classes = (cell.leftBd ? &quot; leftBorder&quot; : &quot;&quot;) + (cell.rightBd ? &quot; rightBorder&quot; : &quot;&quot;)\n                    if (col.rightAlign)\n                        classes += &quot; rightAlign&quot;\n                    if (isLastRow)\n                        classes += &quot; bottomBorder&quot;\n                    if (classes.length &gt; 0)\n                        th.setAttribute(&quot;class&quot;, classes)\n                    tr.appendChild(th)\n                }\n            }\n\n            &sol;&sol; body\n            let body = document.createElement(&quot;tbody&quot;)\n            table.appendChild(body)\n\n            let columns = renderData.pop()\n            for (let row = 0; row &lt; df.nrow; row++) {\n                let tr = document.createElement(&quot;tr&quot;);\n                body.appendChild(tr)\n                for (let i = 0; i &lt; columns.length; i++) {\n                    let cell = columns[i]\n                    let td = document.createElement(&quot;td&quot;);\n                    let colId = cell.id\n                    let col = df.cols[colId]\n                    let classes = (cell.leftBd ? &quot; leftBorder&quot; : &quot;&quot;) + (cell.rightBd ? &quot; rightBorder&quot; : &quot;&quot;)\n                    if (col.rightAlign)\n                        classes += &quot; rightAlign&quot;\n                    if (classes.length &gt; 0)\n                        td.setAttribute(&quot;class&quot;, classes)\n                    tr.appendChild(td)\n                    let value = col.values[row]\n                    if (value.frameId !== undefined) {\n                        let frameId = value.frameId\n                        let expanded = rootDf.expandedFrames.has(frameId)\n                        let link = document.createElement(&quot;a&quot;)\n                        link.className = &quot;expander&quot;\n                        let that = this\n                        link.onclick = function () {\n                            if (rootDf.expandedFrames.has(frameId))\n                                rootDf.expandedFrames.delete(frameId)\n                            else rootDf.expandedFrames.add(frameId)\n                            that.renderTable(id)\n                        }\n                        link.appendChild(this.createExpander(expanded))\n                        link.innerHTML += value.value\n                        if (expanded) {\n                            td.appendChild(link)\n                            td.appendChild(document.createElement(&quot;p&quot;))\n                            const childTable = document.createElement(&quot;table&quot;)\n                            childTable.className = &quot;dataframe&quot;\n                            childTable.id = &quot;df_&quot; + frameId\n                            let childDf = rootDf.childFrames[frameId]\n                            childTable.df = childDf\n                            td.appendChild(childTable)\n                            this.renderTable(frameId)\n                            if (childDf.nrow !== childDf.totalRows) {\n                                const footer = document.createElement(&quot;p&quot;)\n                                footer.innerText = `... showing only top ${childDf.nrow} of ${childDf.totalRows} rows`\n                                td.appendChild(footer)\n                            }\n                        } else {\n                            td.appendChild(link)\n                        }\n                    } else if (value.style !== undefined) {\n                        td.innerHTML = value.value\n                        td.setAttribute(&quot;style&quot;, value.style)\n                    } else td.innerHTML = value\n                    this.nodeScriptReplace(td)\n                }\n            }\n        }\n\n        this.nodeScriptReplace = function (node) {\n            if (this.nodeScriptIs(node) === true) {\n                node.parentNode.replaceChild(this.nodeScriptClone(node), node);\n            } else {\n                let i = -1, children = node.childNodes;\n                while (++i &lt; children.length) {\n                    this.nodeScriptReplace(children[i]);\n                }\n            }\n\n            return node;\n        }\n\n        this.nodeScriptClone = function (node) {\n            let script = document.createElement(&quot;script&quot;);\n            script.text = node.innerHTML;\n\n            let i = -1, attrs = node.attributes, attr;\n            while (++i &lt; attrs.length) {\n                script.setAttribute((attr = attrs[i]).name, attr.value);\n            }\n            return script;\n        }\n\n        this.nodeScriptIs = function (node) {\n            return node.tagName === 'SCRIPT';\n        }\n    })()\n\n    window.call_DataFrame = function (f) {\n        return f();\n    };\n\n    let funQueue = window[&quot;kotlinQueues&quot;] &amp;&amp; window[&quot;kotlinQueues&quot;][&quot;DataFrame&quot;];\n    if (funQueue) {\n        funQueue.forEach(function (f) {\n            f();\n        });\n        funQueue = [];\n    }\n})()\n\n&sol;*&lt;!--*&sol;\ncall_DataFrame(function() { DataFrame.addTable({ cols: [{ name: &quot;&lt;span title=&bsol;&quot;name: String&bsol;&quot;&gt;name&lt;&sol;span&gt;&quot;, children: [], rightAlign: false, values: [&quot;baselineFloat&quot;,&quot;inlineFloat&quot;,&quot;longPackFloat&quot;,&quot;mutableSpecificRefFloat&quot;,&quot;mutableUniversalRefFloatIn1Long&quot;,&quot;mutableUniversalRefFloatIn2Longs&quot;,&quot;valueFloat&quot;,&quot;valueInlineFloat&quot;,&quot;valuePreserveBoxFloat&quot;,&quot;baselineDouble&quot;,&quot;inlineDouble&quot;,&quot;mutableSpecificRefDouble&quot;,&quot;mutableUniversalRefDouble&quot;,&quot;valueDouble&quot;,&quot;valueInlineDouble&quot;,&quot;valuePreserveBoxDouble&quot;] }, \n{ name: &quot;&lt;span title=&bsol;&quot;score: Double&bsol;&quot;&gt;score&lt;&sol;span&gt;&quot;, children: [], rightAlign: true, values: [&quot;&lt;span class=&bsol;&quot;formatted&bsol;&quot; title=&bsol;&quot;&bsol;&quot;&gt;&lt;span class=&bsol;&quot;numbers&bsol;&quot;&gt;32777794.122&lt;&sol;span&gt;&lt;&sol;span&gt;&quot;,&quot;&lt;span class=&bsol;&quot;formatted&bsol;&quot; title=&bsol;&quot;&bsol;&quot;&gt;&lt;span class=&bsol;&quot;numbers&bsol;&quot;&gt;32454402.942&lt;&sol;span&gt;&lt;&sol;span&gt;&quot;,&quot;&lt;span class=&bsol;&quot;formatted&bsol;&quot; title=&bsol;&quot;&bsol;&quot;&gt;&lt;span class=&bsol;&quot;numbers&bsol;&quot;&gt;56637237.703&lt;&sol;span&gt;&lt;&sol;span&gt;&quot;,&quot;&lt;span class=&bsol;&quot;formatted&bsol;&quot; title=&bsol;&quot;&bsol;&quot;&gt;&lt;span class=&bsol;&quot;numbers&bsol;&quot;&gt;23727817.417&lt;&sol;span&gt;&lt;&sol;span&gt;&quot;,&quot;&lt;span class=&bsol;&quot;formatted&bsol;&quot; title=&bsol;&quot;&bsol;&quot;&gt;&lt;span class=&bsol;&quot;numbers&bsol;&quot;&gt;63879335.429&lt;&sol;span&gt;&lt;&sol;span&gt;&quot;,&quot;&lt;span class=&bsol;&quot;formatted&bsol;&quot; title=&bsol;&quot;&bsol;&quot;&gt;&lt;span class=&bsol;&quot;numbers&bsol;&quot;&gt;38662847.293&lt;&sol;span&gt;&lt;&sol;span&gt;&quot;,&quot;&lt;span class=&bsol;&quot;formatted&bsol;&quot; title=&bsol;&quot;&bsol;&quot;&gt;&lt;span class=&bsol;&quot;numbers&bsol;&quot;&gt;24604456.636&lt;&sol;span&gt;&lt;&sol;span&gt;&quot;,&quot;&lt;span class=&bsol;&quot;formatted&bsol;&quot; title=&bsol;&quot;&bsol;&quot;&gt;&lt;span class=&bsol;&quot;numbers&bsol;&quot;&gt;24917343.507&lt;&sol;span&gt;&lt;&sol;span&gt;&quot;,&quot;&lt;span class=&bsol;&quot;formatted&bsol;&quot; title=&bsol;&quot;&bsol;&quot;&gt;&lt;span class=&bsol;&quot;numbers&bsol;&quot;&gt;25026109.333&lt;&sol;span&gt;&lt;&sol;span&gt;&quot;,&quot;&lt;span class=&bsol;&quot;formatted&bsol;&quot; title=&bsol;&quot;&bsol;&quot;&gt;&lt;span class=&bsol;&quot;numbers&bsol;&quot;&gt;33724536.015&lt;&sol;span&gt;&lt;&sol;span&gt;&quot;,&quot;&lt;span class=&bsol;&quot;formatted&bsol;&quot; title=&bsol;&quot;&bsol;&quot;&gt;&lt;span class=&bsol;&quot;numbers&bsol;&quot;&gt;34364489.472&lt;&sol;span&gt;&lt;&sol;span&gt;&quot;,&quot;&lt;span class=&bsol;&quot;formatted&bsol;&quot; title=&bsol;&quot;&bsol;&quot;&gt;&lt;span class=&bsol;&quot;numbers&bsol;&quot;&gt;23247218.375&lt;&sol;span&gt;&lt;&sol;span&gt;&quot;,&quot;&lt;span class=&bsol;&quot;formatted&bsol;&quot; title=&bsol;&quot;&bsol;&quot;&gt;&lt;span class=&bsol;&quot;numbers&bsol;&quot;&gt;39424299.820&lt;&sol;span&gt;&lt;&sol;span&gt;&quot;,&quot;&lt;span class=&bsol;&quot;formatted&bsol;&quot; title=&bsol;&quot;&bsol;&quot;&gt;&lt;span class=&bsol;&quot;numbers&bsol;&quot;&gt;24616159.057&lt;&sol;span&gt;&lt;&sol;span&gt;&quot;,&quot;&lt;span class=&bsol;&quot;formatted&bsol;&quot; title=&bsol;&quot;&bsol;&quot;&gt;&lt;span class=&bsol;&quot;numbers&bsol;&quot;&gt;24570258.084&lt;&sol;span&gt;&lt;&sol;span&gt;&quot;,&quot;&lt;span class=&bsol;&quot;formatted&bsol;&quot; title=&bsol;&quot;&bsol;&quot;&gt;&lt;span class=&bsol;&quot;numbers&bsol;&quot;&gt;24515243.674&lt;&sol;span&gt;&lt;&sol;span&gt;&quot;] }, \n{ name: &quot;&lt;span title=&bsol;&quot;error: Double&bsol;&quot;&gt;error&lt;&sol;span&gt;&quot;, children: [], rightAlign: true, values: [&quot;&lt;span class=&bsol;&quot;formatted&bsol;&quot; title=&bsol;&quot;&bsol;&quot;&gt;&lt;span class=&bsol;&quot;numbers&bsol;&quot;&gt;117599.149&lt;&sol;span&gt;&lt;&sol;span&gt;&quot;,&quot;&lt;span class=&bsol;&quot;formatted&bsol;&quot; title=&bsol;&quot;&bsol;&quot;&gt;&lt;span class=&bsol;&quot;numbers&bsol;&quot;&gt;71914.263&lt;&sol;span&gt;&lt;&sol;span&gt;&quot;,&quot;&lt;span class=&bsol;&quot;formatted&bsol;&quot; title=&bsol;&quot;&bsol;&quot;&gt;&lt;span class=&bsol;&quot;numbers&bsol;&quot;&gt;30654.969&lt;&sol;span&gt;&lt;&sol;span&gt;&quot;,&quot;&lt;span class=&bsol;&quot;formatted&bsol;&quot; title=&bsol;&quot;&bsol;&quot;&gt;&lt;span class=&bsol;&quot;numbers&bsol;&quot;&gt;38906.477&lt;&sol;span&gt;&lt;&sol;span&gt;&quot;,&quot;&lt;span class=&bsol;&quot;formatted&bsol;&quot; title=&bsol;&quot;&bsol;&quot;&gt;&lt;span class=&bsol;&quot;numbers&bsol;&quot;&gt;207183.718&lt;&sol;span&gt;&lt;&sol;span&gt;&quot;,&quot;&lt;span class=&bsol;&quot;formatted&bsol;&quot; title=&bsol;&quot;&bsol;&quot;&gt;&lt;span class=&bsol;&quot;numbers&bsol;&quot;&gt;62597.210&lt;&sol;span&gt;&lt;&sol;span&gt;&quot;,&quot;&lt;span class=&bsol;&quot;formatted&bsol;&quot; title=&bsol;&quot;&bsol;&quot;&gt;&lt;span class=&bsol;&quot;numbers&bsol;&quot;&gt;363608.407&lt;&sol;span&gt;&lt;&sol;span&gt;&quot;,&quot;&lt;span class=&bsol;&quot;formatted&bsol;&quot; title=&bsol;&quot;&bsol;&quot;&gt;&lt;span class=&bsol;&quot;numbers&bsol;&quot;&gt;35561.195&lt;&sol;span&gt;&lt;&sol;span&gt;&quot;,&quot;&lt;span class=&bsol;&quot;formatted&bsol;&quot; title=&bsol;&quot;&bsol;&quot;&gt;&lt;span class=&bsol;&quot;numbers&bsol;&quot;&gt;75842.585&lt;&sol;span&gt;&lt;&sol;span&gt;&quot;,&quot;&lt;span class=&bsol;&quot;formatted&bsol;&quot; title=&bsol;&quot;&bsol;&quot;&gt;&lt;span class=&bsol;&quot;numbers&bsol;&quot;&gt;90546.797&lt;&sol;span&gt;&lt;&sol;span&gt;&quot;,&quot;&lt;span class=&bsol;&quot;formatted&bsol;&quot; title=&bsol;&quot;&bsol;&quot;&gt;&lt;span class=&bsol;&quot;numbers&bsol;&quot;&gt;204342.150&lt;&sol;span&gt;&lt;&sol;span&gt;&quot;,&quot;&lt;span class=&bsol;&quot;formatted&bsol;&quot; title=&bsol;&quot;&bsol;&quot;&gt;&lt;span class=&bsol;&quot;numbers&bsol;&quot;&gt;37047.305&lt;&sol;span&gt;&lt;&sol;span&gt;&quot;,&quot;&lt;span class=&bsol;&quot;formatted&bsol;&quot; title=&bsol;&quot;&bsol;&quot;&gt;&lt;span class=&bsol;&quot;numbers&bsol;&quot;&gt;65405.138&lt;&sol;span&gt;&lt;&sol;span&gt;&quot;,&quot;&lt;span class=&bsol;&quot;formatted&bsol;&quot; title=&bsol;&quot;&bsol;&quot;&gt;&lt;span class=&bsol;&quot;numbers&bsol;&quot;&gt;108055.950&lt;&sol;span&gt;&lt;&sol;span&gt;&quot;,&quot;&lt;span class=&bsol;&quot;formatted&bsol;&quot; title=&bsol;&quot;&bsol;&quot;&gt;&lt;span class=&bsol;&quot;numbers&bsol;&quot;&gt;157137.427&lt;&sol;span&gt;&lt;&sol;span&gt;&quot;,&quot;&lt;span class=&bsol;&quot;formatted&bsol;&quot; title=&bsol;&quot;&bsol;&quot;&gt;&lt;span class=&bsol;&quot;numbers&bsol;&quot;&gt;99634.239&lt;&sol;span&gt;&lt;&sol;span&gt;&quot;] }, \n{ name: &quot;&lt;span title=&bsol;&quot;type: Line_9_jupyter.Type&bsol;&quot;&gt;type&lt;&sol;span&gt;&quot;, children: [], rightAlign: false, values: [&quot;Float&quot;,&quot;Float&quot;,&quot;Float&quot;,&quot;Float&quot;,&quot;Float&quot;,&quot;Float&quot;,&quot;Float&quot;,&quot;Float&quot;,&quot;Float&quot;,&quot;Double&quot;,&quot;Double&quot;,&quot;Double&quot;,&quot;Double&quot;,&quot;Double&quot;,&quot;Double&quot;,&quot;Double&quot;] }, \n], id: -738197504, rootId: -738197504, totalRows: 16 } ) });\n&sol;*--&gt;*&sol;\n\ncall_DataFrame(function() { DataFrame.renderTable(-738197504) });\n\n\n\n        &lt;&sol;script&gt;\n        &lt;&sol;html&gt;\"></iframe>\n            <script>\n                function o_resize_iframe_out_1() {\n                    let elem = document.getElementById(\"iframe_out_1\");\n                    resize_iframe_out_1(elem);\n                    setInterval(resize_iframe_out_1, 5000, elem);\n                }\n                function resize_iframe_out_1(el) {\n                    let h = el.contentWindow.document.body.scrollHeight;\n                    el.height = h === 0 ? 0 : h + 41;\n                }\n            </script>",
      "application/kotlindataframe+json": "{\"nrow\":16,\"ncol\":4,\"columns\":[\"name\",\"score\",\"error\",\"type\"],\"kotlin_dataframe\":[{\"name\":\"baselineFloat\",\"score\":3.2777794122E7,\"error\":117599.149,\"type\":\"Float\"},{\"name\":\"inlineFloat\",\"score\":3.2454402942E7,\"error\":71914.263,\"type\":\"Float\"},{\"name\":\"longPackFloat\",\"score\":5.6637237703E7,\"error\":30654.969,\"type\":\"Float\"},{\"name\":\"mutableSpecificRefFloat\",\"score\":2.3727817417E7,\"error\":38906.477,\"type\":\"Float\"},{\"name\":\"mutableUniversalRefFloatIn1Long\",\"score\":6.3879335429E7,\"error\":207183.718,\"type\":\"Float\"},{\"name\":\"mutableUniversalRefFloatIn2Longs\",\"score\":3.8662847293E7,\"error\":62597.21,\"type\":\"Float\"},{\"name\":\"valueFloat\",\"score\":2.4604456636E7,\"error\":363608.407,\"type\":\"Float\"},{\"name\":\"valueInlineFloat\",\"score\":2.4917343507E7,\"error\":35561.195,\"type\":\"Float\"},{\"name\":\"valuePreserveBoxFloat\",\"score\":2.5026109333E7,\"error\":75842.585,\"type\":\"Float\"},{\"name\":\"baselineDouble\",\"score\":3.3724536015E7,\"error\":90546.797,\"type\":\"Double\"},{\"name\":\"inlineDouble\",\"score\":3.4364489472E7,\"error\":204342.15,\"type\":\"Double\"},{\"name\":\"mutableSpecificRefDouble\",\"score\":2.3247218375E7,\"error\":37047.305,\"type\":\"Double\"},{\"name\":\"mutableUniversalRefDouble\",\"score\":3.942429982E7,\"error\":65405.138,\"type\":\"Double\"},{\"name\":\"valueDouble\",\"score\":2.4616159057E7,\"error\":108055.95,\"type\":\"Double\"},{\"name\":\"valueInlineDouble\",\"score\":2.4570258084E7,\"error\":157137.427,\"type\":\"Double\"},{\"name\":\"valuePreserveBoxDouble\",\"score\":2.4515243674E7,\"error\":99634.239,\"type\":\"Double\"}]}"
     },
     "execution_count": 2,
     "metadata": {},
     "output_type": "execute_result"
    }
   ],
   "source": [
    "import java.nio.file.Files\n",
    "import java.nio.file.Path\n",
    "\n",
    "@DataSchema\n",
    "data class BenchmarkData(\n",
    "    val name: String,\n",
    "    val score: Double,\n",
    "    val error: Double,\n",
    "    val type: Type = getType(name),\n",
    ") {\n",
    "    override fun toString(): String = \"$name: $score ± $error ns/op\"\n",
    "}\n",
    "\n",
    "enum class Type { Int, Long, Float, Double }\n",
    "\n",
    "fun getType(name: String) = when {\n",
    "    name.contains(\"Float\") -> Type.Float\n",
    "    name.contains(\"Int\") -> Type.Int\n",
    "    name.contains(\"Double\") -> Type.Double\n",
    "    name.contains(\"Long\") -> Type.Long // Long must be the last as it is contained in other test names\n",
    "    else -> error(\"Unknown type: ${name}\")\n",
    "}\n",
    "\n",
    "fun List<String>.parseBenchmarkData(regex: Regex) = mapNotNull {\n",
    "    val match = regex.matchEntire(it) ?: return@mapNotNull null\n",
    "    BenchmarkData(\n",
    "        name = match.groups[\"name\"]!!.value,\n",
    "        score = match.groups[\"score\"]!!.value.toDouble(),\n",
    "        error = match.groups[\"error\"]!!.value.toDouble(),\n",
    "    )\n",
    "}.toDataFrame().sortBy(\"type\", \"name\")\n",
    "\n",
    "fun readHotspotBenchmarkData(benchmarkName: String) =\n",
    "    Files.readAllLines(Path.of(\"build\", \"results\", \"jmh\", \"results.txt\"))\n",
    "        .parseBenchmarkData(Regex(\"$benchmarkName\\\\.(?<name>[^ ]+) +avgt +\\\\d+ +(?<score>[0-9.]+) +± +(?<error>[0-9.]+) +ns/op\"))\n",
    "readHotspotBenchmarkData(\"Wolf3dBenchmark\").concat(readHotspotBenchmarkData(\"FibonacciBenchmark\"))"
   ],
   "metadata": {
    "collapsed": false,
    "ExecuteTime": {
     "end_time": "2023-05-09T13:13:24.391608Z",
     "start_time": "2023-05-09T13:13:22.309940Z"
    }
   }
  },
  {
   "cell_type": "code",
   "execution_count": 3,
   "outputs": [],
   "source": [
    "import org.jetbrains.kotlinx.kandy.ir.Plot\n",
    "import org.jetbrains.letsPlot.intern.PosKind\n",
    "import org.jetbrains.letsPlot.intern.StatKind\n",
    "import org.jetbrains.letsPlot.intern.layer.PosOptions\n",
    "import org.jetbrains.letsPlot.intern.layer.StatOptions\n",
    "import org.jetbrains.letsPlot.pos.positionIdentity\n",
    "\n",
    "fun makePlot(benchmarkName: String, platform: String, df: DataFrame<BenchmarkData>): Plot? {\n",
    "    if (df.isEmpty()) return null\n",
    "    val nameWithoutType by column<String>()\n",
    "\n",
    "    val data = df.add(nameWithoutType) {\n",
    "        name.replace(type.name, \"\")\n",
    "    }\n",
    "    val shortNames = data.map { name to it[nameWithoutType] }\n",
    "    val maxScore = data.maxOf { score + error }\n",
    "    return data.sortBy { type }.plot {\n",
    "        layout {\n",
    "            size = 800 to 600\n",
    "            title = benchmarkName\n",
    "            flavor = Flavor.SOLARIZED_LIGHT\n",
    "            subtitle = platform\n",
    "        }\n",
    "        bars {\n",
    "            x(name) {\n",
    "                axis {\n",
    "                    name = \"Benchmark\"\n",
    "                    breaksLabeled(*shortNames.toTypedArray())\n",
    "                }\n",
    "            }\n",
    "            y(score) { axis { name = \"ns/op\" } }\n",
    "            fillColor(type) {\n",
    "                legend {\n",
    "                    type = discreteLegend()\n",
    "                    name = \"Type\"\n",
    "                }\n",
    "                scale = categorical()\n",
    "            }\n",
    "            tooltips {\n",
    "                line(\"Type\", \"${value(type)}\")\n",
    "                line(\"Benchmark\", \"${value(name)}\")\n",
    "                line(\"Score\", \"${value(score)}\")\n",
    "            }\n",
    "        }\n",
    "        errorBar {\n",
    "            x(name)\n",
    "            width = 0.5\n",
    "            yMin(getColumn { expr { score - error } named \"minErr\" })\n",
    "            yMax(getColumn { expr { score + error } named \"maxErr\" })\n",
    "        }\n",
    "        text {\n",
    "            x(name)\n",
    "            y(getColumn {\n",
    "                expr {\n",
    "                    val threshold = 0.12\n",
    "                    if (score < maxScore * threshold) score + threshold * maxScore / 2\n",
    "                    else score / 2\n",
    "                } named \"textPosition\"\n",
    "            })\n",
    "            label(getColumn {\n",
    "                expr { currentRow ->\n",
    "                    val baselineScore = df().single {\n",
    "                        type == currentRow.type && it[nameWithoutType] == \"baseline\"\n",
    "                    }.score\n",
    "                    val score = score / baselineScore\n",
    "                    val error = error / baselineScore\n",
    "                    \"${String.format(\"%.0f\", score * 100)}%\\n±\\n${String.format(\"%.1f\", error * 100)}%\\n${type}\"\n",
    "                } named \"label\"\n",
    "            })\n",
    "            font.size = 8.0 - data.rowsCount().toDouble() / 5\n",
    "        }\n",
    "    }.apply { save(\"$benchmarkName ($platform).svg\") }\n",
    "}\n"
   ],
   "metadata": {
    "collapsed": false,
    "ExecuteTime": {
     "end_time": "2023-05-09T13:13:26.026682Z",
     "start_time": "2023-05-09T13:13:24.391327Z"
    }
   }
  },
  {
   "cell_type": "code",
   "execution_count": 4,
   "outputs": [
    {
     "data": {
      "text/html": "            <script type=\"text/javascript\" data-lets-plot-script=\"library\" src=\"https://cdn.jsdelivr.net/gh/JetBrains/lets-plot@v3.1.0/js-package/distr/lets-plot.min.js\"></script>    \n               <div id=\"nwkXjD\"></div>\n   <script type=\"text/javascript\" data-lets-plot-script=\"plot\">\n       var plotSpec={\n\"ggtitle\":{\n\"text\":\"Wolf3d\",\n\"subtitle\":\"Hotspot\"\n},\n\"mapping\":{\n},\n\"data\":{\n\"score\":[3.2777794122E7,3.2454402942E7,5.6637237703E7,2.3727817417E7,6.3879335429E7,3.8662847293E7,2.4604456636E7,2.4917343507E7,2.5026109333E7,3.3724536015E7,3.4364489472E7,2.3247218375E7,3.942429982E7,2.4616159057E7,2.4570258084E7,2.4515243674E7],\n\"textPosition\":[1.6388897061E7,1.6227201471E7,2.83186188515E7,1.18639087085E7,3.19396677145E7,1.93314236465E7,1.2302228318E7,1.24586717535E7,1.25130546665E7,1.68622680075E7,1.7182244736E7,1.16236091875E7,1.971214991E7,1.23080795285E7,1.2285129042E7,1.2257621837E7],\n\"name\":[\"baselineFloat\",\"inlineFloat\",\"longPackFloat\",\"mutableSpecificRefFloat\",\"mutableUniversalRefFloatIn1Long\",\"mutableUniversalRefFloatIn2Longs\",\"valueFloat\",\"valueInlineFloat\",\"valuePreserveBoxFloat\",\"baselineDouble\",\"inlineDouble\",\"mutableSpecificRefDouble\",\"mutableUniversalRefDouble\",\"valueDouble\",\"valueInlineDouble\",\"valuePreserveBoxDouble\"],\n\"minErr\":[3.2660194973E7,3.2382488679E7,5.6606582734000005E7,2.3688910939999998E7,6.3672151710999995E7,3.8600250083E7,2.4240848229E7,2.4881782312E7,2.4950266748E7,3.3633989218E7,3.4160147322000004E7,2.321017107E7,3.9358894682000004E7,2.4508103107E7,2.4413120656999998E7,2.4415609435E7],\n\"label\":[\"100%\\n±\\n0.4%\\nFloat\",\"99%\\n±\\n0.2%\\nFloat\",\"173%\\n±\\n0.1%\\nFloat\",\"72%\\n±\\n0.1%\\nFloat\",\"195%\\n±\\n0.6%\\nFloat\",\"118%\\n±\\n0.2%\\nFloat\",\"75%\\n±\\n1.1%\\nFloat\",\"76%\\n±\\n0.1%\\nFloat\",\"76%\\n±\\n0.2%\\nFloat\",\"100%\\n±\\n0.3%\\nDouble\",\"102%\\n±\\n0.6%\\nDouble\",\"69%\\n±\\n0.1%\\nDouble\",\"117%\\n±\\n0.2%\\nDouble\",\"73%\\n±\\n0.3%\\nDouble\",\"73%\\n±\\n0.5%\\nDouble\",\"73%\\n±\\n0.3%\\nDouble\"],\n\"type\":[\"Float\",\"Float\",\"Float\",\"Float\",\"Float\",\"Float\",\"Float\",\"Float\",\"Float\",\"Double\",\"Double\",\"Double\",\"Double\",\"Double\",\"Double\",\"Double\"],\n\"maxErr\":[3.2895393271E7,3.2526317205000002E7,5.6667892672E7,2.3766723894E7,6.4086519147E7,3.8725444503E7,2.4968065043E7,2.4952904702E7,2.5101951918E7,3.3815082812E7,3.4568831622E7,2.328426568E7,3.9489704958E7,2.4724215007E7,2.4727395511E7,2.4614877913E7]\n},\n\"ggsize\":{\n\"width\":800.0,\n\"height\":600.0\n},\n\"kind\":\"plot\",\n\"scales\":[{\n\"aesthetic\":\"x\",\n\"breaks\":[\"baselineFloat\",\"inlineFloat\",\"longPackFloat\",\"mutableSpecificRefFloat\",\"mutableUniversalRefFloatIn1Long\",\"mutableUniversalRefFloatIn2Longs\",\"valueFloat\",\"valueInlineFloat\",\"valuePreserveBoxFloat\",\"baselineDouble\",\"inlineDouble\",\"mutableSpecificRefDouble\",\"mutableUniversalRefDouble\",\"valueDouble\",\"valueInlineDouble\",\"valuePreserveBoxDouble\"],\n\"name\":\"Benchmark\",\n\"labels\":[\"baseline\",\"inline\",\"longPack\",\"mutableSpecificRef\",\"mutableUniversalRefIn1Long\",\"mutableUniversalRefIn2Longs\",\"value\",\"valueInline\",\"valuePreserveBox\",\"baseline\",\"inline\",\"mutableSpecificRef\",\"mutableUniversalRef\",\"value\",\"valueInline\",\"valuePreserveBox\"]\n},{\n\"aesthetic\":\"y\",\n\"name\":\"ns/op\",\n\"limits\":[null,null]\n},{\n\"aesthetic\":\"fill\",\n\"discrete\":true,\n\"name\":\"Type\",\n\"guide\":{\n\"name\":\"legend\"\n}\n},{\n\"aesthetic\":\"x\"\n},{\n\"aesthetic\":\"x\"\n},{\n\"aesthetic\":\"y\",\n\"limits\":[null,null]\n}],\n\"layers\":[{\n\"mapping\":{\n\"x\":\"name\",\n\"y\":\"score\",\n\"fill\":\"type\"\n},\n\"stat\":\"identity\",\n\"sampling\":\"none\",\n\"position\":\"dodge\",\n\"geom\":\"bar\",\n\"tooltips\":{\n\"lines\":[\"Type|@type\",\"Benchmark|@name\",\"Score|@score\"]\n},\n\"data\":{\n}\n},{\n\"mapping\":{\n\"x\":\"name\",\n\"ymin\":\"minErr\",\n\"ymax\":\"maxErr\"\n},\n\"stat\":\"identity\",\n\"sampling\":\"none\",\n\"width\":0.5,\n\"position\":\"identity\",\n\"geom\":\"errorbar\",\n\"data\":{\n}\n},{\n\"mapping\":{\n\"x\":\"name\",\n\"y\":\"textPosition\",\n\"label\":\"label\"\n},\n\"stat\":\"identity\",\n\"size\":4.8,\n\"sampling\":\"none\",\n\"position\":\"identity\",\n\"geom\":\"text\",\n\"data\":{\n}\n}],\n\"theme\":{\n\"flavor\":\"solarized_light\"\n}\n};\n       var plotContainer = document.getElementById(\"nwkXjD\");\n       LetsPlot.buildPlotFromProcessedSpecs(plotSpec, -1, -1, plotContainer);\n   </script>    ",
      "application/plot+json": {
       "output_type": "lets_plot_spec",
       "output": {
        "ggtitle": {
         "text": "Wolf3d",
         "subtitle": "Hotspot"
        },
        "mapping": {},
        "data": {
         "score": [
          3.2777794E7,
          3.2454402E7,
          5.6637236E7,
          2.3727818E7,
          6.3879336E7,
          3.8662848E7,
          2.4604456E7,
          2.4917344E7,
          2.502611E7,
          3.3724536E7,
          3.4364488E7,
          2.3247218E7,
          3.94243E7,
          2.461616E7,
          2.4570258E7,
          2.4515244E7
         ],
         "textPosition": [
          1.6388897E7,
          1.6227201E7,
          2.8318618E7,
          1.1863909E7,
          3.1939668E7,
          1.9331424E7,
          1.2302228E7,
          1.2458672E7,
          1.2513055E7,
          1.6862268E7,
          1.7182244E7,
          1.1623609E7,
          1.971215E7,
          1.230808E7,
          1.2285129E7,
          1.2257622E7
         ],
         "name": [
          "baselineFloat",
          "inlineFloat",
          "longPackFloat",
          "mutableSpecificRefFloat",
          "mutableUniversalRefFloatIn1Long",
          "mutableUniversalRefFloatIn2Longs",
          "valueFloat",
          "valueInlineFloat",
          "valuePreserveBoxFloat",
          "baselineDouble",
          "inlineDouble",
          "mutableSpecificRefDouble",
          "mutableUniversalRefDouble",
          "valueDouble",
          "valueInlineDouble",
          "valuePreserveBoxDouble"
         ],
         "minErr": [
          3.2660194E7,
          3.2382488E7,
          5.6606584E7,
          2.368891E7,
          6.3672152E7,
          3.8600252E7,
          2.4240848E7,
          2.4881782E7,
          2.4950266E7,
          3.3633988E7,
          3.4160148E7,
          2.3210172E7,
          3.9358896E7,
          2.4508104E7,
          2.441312E7,
          2.441561E7
         ],
         "label": [
          "100%\n±\n0.4%\nFloat",
          "99%\n±\n0.2%\nFloat",
          "173%\n±\n0.1%\nFloat",
          "72%\n±\n0.1%\nFloat",
          "195%\n±\n0.6%\nFloat",
          "118%\n±\n0.2%\nFloat",
          "75%\n±\n1.1%\nFloat",
          "76%\n±\n0.1%\nFloat",
          "76%\n±\n0.2%\nFloat",
          "100%\n±\n0.3%\nDouble",
          "102%\n±\n0.6%\nDouble",
          "69%\n±\n0.1%\nDouble",
          "117%\n±\n0.2%\nDouble",
          "73%\n±\n0.3%\nDouble",
          "73%\n±\n0.5%\nDouble",
          "73%\n±\n0.3%\nDouble"
         ],
         "type": [
          "Float",
          "Float",
          "Float",
          "Float",
          "Float",
          "Float",
          "Float",
          "Float",
          "Float",
          "Double",
          "Double",
          "Double",
          "Double",
          "Double",
          "Double",
          "Double"
         ],
         "maxErr": [
          3.2895394E7,
          3.2526318E7,
          5.6667892E7,
          2.3766724E7,
          6.408652E7,
          3.8725444E7,
          2.4968066E7,
          2.4952904E7,
          2.5101952E7,
          3.3815084E7,
          3.4568832E7,
          2.3284266E7,
          3.9489704E7,
          2.4724216E7,
          2.4727396E7,
          2.4614878E7
         ]
        },
        "ggsize": {
         "width": 800.0,
         "height": 600.0
        },
        "kind": "plot",
        "scales": [
         {
          "aesthetic": "x",
          "breaks": [
           "baselineFloat",
           "inlineFloat",
           "longPackFloat",
           "mutableSpecificRefFloat",
           "mutableUniversalRefFloatIn1Long",
           "mutableUniversalRefFloatIn2Longs",
           "valueFloat",
           "valueInlineFloat",
           "valuePreserveBoxFloat",
           "baselineDouble",
           "inlineDouble",
           "mutableSpecificRefDouble",
           "mutableUniversalRefDouble",
           "valueDouble",
           "valueInlineDouble",
           "valuePreserveBoxDouble"
          ],
          "name": "Benchmark",
          "labels": [
           "baseline",
           "inline",
           "longPack",
           "mutableSpecificRef",
           "mutableUniversalRefIn1Long",
           "mutableUniversalRefIn2Longs",
           "value",
           "valueInline",
           "valuePreserveBox",
           "baseline",
           "inline",
           "mutableSpecificRef",
           "mutableUniversalRef",
           "value",
           "valueInline",
           "valuePreserveBox"
          ]
         },
         {
          "aesthetic": "y",
          "name": "ns/op",
          "limits": [
           null,
           null
          ]
         },
         {
          "aesthetic": "fill",
          "discrete": true,
          "name": "Type",
          "guide": {
           "name": "legend"
          }
         },
         {
          "aesthetic": "x"
         },
         {
          "aesthetic": "x"
         },
         {
          "aesthetic": "y",
          "limits": [
           null,
           null
          ]
         }
        ],
        "layers": [
         {
          "mapping": {
           "x": "name",
           "y": "score",
           "fill": "type"
          },
          "stat": "identity",
          "sampling": "none",
          "position": "dodge",
          "geom": "bar",
          "tooltips": {
           "lines": [
            "Type|@type",
            "Benchmark|@name",
            "Score|@score"
           ]
          }
         },
         {
          "mapping": {
           "x": "name",
           "ymin": "minErr",
           "ymax": "maxErr"
          },
          "stat": "identity",
          "sampling": "none",
          "width": 0.5,
          "position": "identity",
          "geom": "errorbar"
         },
         {
          "mapping": {
           "x": "name",
           "y": "textPosition",
           "label": "label"
          },
          "stat": "identity",
          "size": 4.8,
          "sampling": "none",
          "position": "identity",
          "geom": "text"
         }
        ],
        "theme": {
         "flavor": "solarized_light"
        }
       },
       "apply_color_scheme": true,
       "swing_enabled": true
      }
     },
     "metadata": {},
     "output_type": "display_data"
    },
    {
     "data": {
      "text/html": "            <script type=\"text/javascript\" data-lets-plot-script=\"library\" src=\"https://cdn.jsdelivr.net/gh/JetBrains/lets-plot@v3.1.0/js-package/distr/lets-plot.min.js\"></script>    \n               <div id=\"5nf0up\"></div>\n   <script type=\"text/javascript\" data-lets-plot-script=\"plot\">\n       var plotSpec={\n\"ggtitle\":{\n\"text\":\"Ackermann\",\n\"subtitle\":\"Hotspot\"\n},\n\"mapping\":{\n},\n\"data\":{\n\"score\":[16706.888,8798.778,10009.3,10395.76,10728.522,12545.294,12183.677,20998.324,10745.603,10610.873,14384.498,14127.382,16757.997,16572.572,11432.889,23735.494,19835.003,13197.878,13384.458,22531.406,12295.09,17881.186,15124.234,15250.282],\n\"textPosition\":[8353.444,4399.389,5004.65,5197.88,5364.261,6272.647,6091.8385,10499.162,5372.8015,5305.4365,7192.249,7063.691,8378.9985,8286.286,5716.4445,11867.747,9917.5015,6598.939,6692.229,11265.703,6147.545,8940.593,7562.117,7625.141],\n\"name\":[\"baselineInt\",\"longPackInt\",\"mutableSpecificRefInt\",\"mutableUniversalRefIntIn1Long\",\"mutableUniversalRefIntIn2Longs\",\"valueInt\",\"valuePreserveBoxInt\",\"baselineLong\",\"mutableSpecificRefLong\",\"mutableUniversalRefLong\",\"valueLong\",\"valuePreserveBoxLong\",\"baselineFloat\",\"longPackFloat\",\"mutableSpecificRefFloat\",\"mutableUniversalRefFloatIn1Long\",\"mutableUniversalRefFloatIn2Longs\",\"valueFloat\",\"valuePreserveBoxFloat\",\"baselineDouble\",\"mutableSpecificRefDouble\",\"mutableUniversalRefDouble\",\"valueDouble\",\"valuePreserveBoxDouble\"],\n\"minErr\":[16372.142,8605.293,9956.902,10328.876,10416.084,12305.387,12074.705,15800.093,10490.125999999998,10523.984999999999,14214.553,13982.869999999999,16604.555,16524.116,11354.182999999999,18879.353,14093.212,13096.497000000001,13168.512,17240.310999999998,12225.826000000001,12530.562000000002,14892.007,14937.590999999999],\n\"label\":[\"100%\\n±\\n2.0%\\nInt\",\"53%\\n±\\n1.2%\\nInt\",\"60%\\n±\\n0.3%\\nInt\",\"62%\\n±\\n0.4%\\nInt\",\"64%\\n±\\n1.9%\\nInt\",\"75%\\n±\\n1.4%\\nInt\",\"73%\\n±\\n0.7%\\nInt\",\"100%\\n±\\n24.8%\\nLong\",\"51%\\n±\\n1.2%\\nLong\",\"51%\\n±\\n0.4%\\nLong\",\"69%\\n±\\n0.8%\\nLong\",\"67%\\n±\\n0.7%\\nLong\",\"100%\\n±\\n0.9%\\nFloat\",\"99%\\n±\\n0.3%\\nFloat\",\"68%\\n±\\n0.5%\\nFloat\",\"142%\\n±\\n29.0%\\nFloat\",\"118%\\n±\\n34.3%\\nFloat\",\"79%\\n±\\n0.6%\\nFloat\",\"80%\\n±\\n1.3%\\nFloat\",\"100%\\n±\\n23.5%\\nDouble\",\"55%\\n±\\n0.3%\\nDouble\",\"79%\\n±\\n23.7%\\nDouble\",\"67%\\n±\\n1.0%\\nDouble\",\"68%\\n±\\n1.4%\\nDouble\"],\n\"type\":[\"Int\",\"Int\",\"Int\",\"Int\",\"Int\",\"Int\",\"Int\",\"Long\",\"Long\",\"Long\",\"Long\",\"Long\",\"Float\",\"Float\",\"Float\",\"Float\",\"Float\",\"Float\",\"Float\",\"Double\",\"Double\",\"Double\",\"Double\",\"Double\"],\n\"maxErr\":[17041.634,8992.263,10061.697999999999,10462.644,11040.960000000001,12785.201,12292.649,26196.555,11001.08,10697.761,14554.443,14271.894,16911.439,16621.028,11511.595,28591.635,25576.794,13299.259,13600.404,27822.501,12364.354,23231.81,15356.461000000001,15562.973]\n},\n\"ggsize\":{\n\"width\":800.0,\n\"height\":600.0\n},\n\"kind\":\"plot\",\n\"scales\":[{\n\"aesthetic\":\"x\",\n\"breaks\":[\"baselineInt\",\"longPackInt\",\"mutableSpecificRefInt\",\"mutableUniversalRefIntIn1Long\",\"mutableUniversalRefIntIn2Longs\",\"valueInt\",\"valuePreserveBoxInt\",\"baselineLong\",\"mutableSpecificRefLong\",\"mutableUniversalRefLong\",\"valueLong\",\"valuePreserveBoxLong\",\"baselineFloat\",\"longPackFloat\",\"mutableSpecificRefFloat\",\"mutableUniversalRefFloatIn1Long\",\"mutableUniversalRefFloatIn2Longs\",\"valueFloat\",\"valuePreserveBoxFloat\",\"baselineDouble\",\"mutableSpecificRefDouble\",\"mutableUniversalRefDouble\",\"valueDouble\",\"valuePreserveBoxDouble\"],\n\"name\":\"Benchmark\",\n\"labels\":[\"baseline\",\"longPack\",\"mutableSpecificRef\",\"mutableUniversalRefIn1Long\",\"mutableUniversalRefIn2Longs\",\"value\",\"valuePreserveBox\",\"baseline\",\"mutableSpecificRef\",\"mutableUniversalRef\",\"value\",\"valuePreserveBox\",\"baseline\",\"longPack\",\"mutableSpecificRef\",\"mutableUniversalRefIn1Long\",\"mutableUniversalRefIn2Longs\",\"value\",\"valuePreserveBox\",\"baseline\",\"mutableSpecificRef\",\"mutableUniversalRef\",\"value\",\"valuePreserveBox\"]\n},{\n\"aesthetic\":\"y\",\n\"name\":\"ns/op\",\n\"limits\":[null,null]\n},{\n\"aesthetic\":\"fill\",\n\"discrete\":true,\n\"name\":\"Type\",\n\"guide\":{\n\"name\":\"legend\"\n}\n},{\n\"aesthetic\":\"x\"\n},{\n\"aesthetic\":\"x\"\n},{\n\"aesthetic\":\"y\",\n\"limits\":[null,null]\n}],\n\"layers\":[{\n\"mapping\":{\n\"x\":\"name\",\n\"y\":\"score\",\n\"fill\":\"type\"\n},\n\"stat\":\"identity\",\n\"sampling\":\"none\",\n\"position\":\"dodge\",\n\"geom\":\"bar\",\n\"tooltips\":{\n\"lines\":[\"Type|@type\",\"Benchmark|@name\",\"Score|@score\"]\n},\n\"data\":{\n}\n},{\n\"mapping\":{\n\"x\":\"name\",\n\"ymin\":\"minErr\",\n\"ymax\":\"maxErr\"\n},\n\"stat\":\"identity\",\n\"sampling\":\"none\",\n\"width\":0.5,\n\"position\":\"identity\",\n\"geom\":\"errorbar\",\n\"data\":{\n}\n},{\n\"mapping\":{\n\"x\":\"name\",\n\"y\":\"textPosition\",\n\"label\":\"label\"\n},\n\"stat\":\"identity\",\n\"size\":3.2,\n\"sampling\":\"none\",\n\"position\":\"identity\",\n\"geom\":\"text\",\n\"data\":{\n}\n}],\n\"theme\":{\n\"flavor\":\"solarized_light\"\n}\n};\n       var plotContainer = document.getElementById(\"5nf0up\");\n       LetsPlot.buildPlotFromProcessedSpecs(plotSpec, -1, -1, plotContainer);\n   </script>    ",
      "application/plot+json": {
       "output_type": "lets_plot_spec",
       "output": {
        "ggtitle": {
         "text": "Ackermann",
         "subtitle": "Hotspot"
        },
        "mapping": {},
        "data": {
         "score": [
          16706.889,
          8798.778,
          10009.3,
          10395.76,
          10728.522,
          12545.294,
          12183.677,
          20998.324,
          10745.603,
          10610.873,
          14384.498,
          14127.382,
          16757.996,
          16572.572,
          11432.889,
          23735.494,
          19835.004,
          13197.878,
          13384.458,
          22531.406,
          12295.09,
          17881.186,
          15124.234,
          15250.282
         ],
         "textPosition": [
          8353.444,
          4399.389,
          5004.65,
          5197.88,
          5364.261,
          6272.647,
          6091.8384,
          10499.162,
          5372.8013,
          5305.4365,
          7192.249,
          7063.691,
          8378.998,
          8286.286,
          5716.4443,
          11867.747,
          9917.502,
          6598.939,
          6692.229,
          11265.703,
          6147.545,
          8940.593,
          7562.117,
          7625.141
         ],
         "name": [
          "baselineInt",
          "longPackInt",
          "mutableSpecificRefInt",
          "mutableUniversalRefIntIn1Long",
          "mutableUniversalRefIntIn2Longs",
          "valueInt",
          "valuePreserveBoxInt",
          "baselineLong",
          "mutableSpecificRefLong",
          "mutableUniversalRefLong",
          "valueLong",
          "valuePreserveBoxLong",
          "baselineFloat",
          "longPackFloat",
          "mutableSpecificRefFloat",
          "mutableUniversalRefFloatIn1Long",
          "mutableUniversalRefFloatIn2Longs",
          "valueFloat",
          "valuePreserveBoxFloat",
          "baselineDouble",
          "mutableSpecificRefDouble",
          "mutableUniversalRefDouble",
          "valueDouble",
          "valuePreserveBoxDouble"
         ],
         "minErr": [
          16372.142,
          8605.293,
          9956.902,
          10328.876,
          10416.084,
          12305.387,
          12074.705,
          15800.093,
          10490.126,
          10523.985,
          14214.553,
          13982.87,
          16604.555,
          16524.115,
          11354.183,
          18879.354,
          14093.212,
          13096.497,
          13168.512,
          17240.31,
          12225.826,
          12530.562,
          14892.007,
          14937.591
         ],
         "label": [
          "100%\n±\n2.0%\nInt",
          "53%\n±\n1.2%\nInt",
          "60%\n±\n0.3%\nInt",
          "62%\n±\n0.4%\nInt",
          "64%\n±\n1.9%\nInt",
          "75%\n±\n1.4%\nInt",
          "73%\n±\n0.7%\nInt",
          "100%\n±\n24.8%\nLong",
          "51%\n±\n1.2%\nLong",
          "51%\n±\n0.4%\nLong",
          "69%\n±\n0.8%\nLong",
          "67%\n±\n0.7%\nLong",
          "100%\n±\n0.9%\nFloat",
          "99%\n±\n0.3%\nFloat",
          "68%\n±\n0.5%\nFloat",
          "142%\n±\n29.0%\nFloat",
          "118%\n±\n34.3%\nFloat",
          "79%\n±\n0.6%\nFloat",
          "80%\n±\n1.3%\nFloat",
          "100%\n±\n23.5%\nDouble",
          "55%\n±\n0.3%\nDouble",
          "79%\n±\n23.7%\nDouble",
          "67%\n±\n1.0%\nDouble",
          "68%\n±\n1.4%\nDouble"
         ],
         "type": [
          "Int",
          "Int",
          "Int",
          "Int",
          "Int",
          "Int",
          "Int",
          "Long",
          "Long",
          "Long",
          "Long",
          "Long",
          "Float",
          "Float",
          "Float",
          "Float",
          "Float",
          "Float",
          "Float",
          "Double",
          "Double",
          "Double",
          "Double",
          "Double"
         ],
         "maxErr": [
          17041.635,
          8992.263,
          10061.698,
          10462.644,
          11040.96,
          12785.201,
          12292.649,
          26196.555,
          11001.08,
          10697.761,
          14554.443,
          14271.894,
          16911.44,
          16621.027,
          11511.595,
          28591.635,
          25576.795,
          13299.259,
          13600.404,
          27822.502,
          12364.354,
          23231.81,
          15356.461,
          15562.973
         ]
        },
        "ggsize": {
         "width": 800.0,
         "height": 600.0
        },
        "kind": "plot",
        "scales": [
         {
          "aesthetic": "x",
          "breaks": [
           "baselineInt",
           "longPackInt",
           "mutableSpecificRefInt",
           "mutableUniversalRefIntIn1Long",
           "mutableUniversalRefIntIn2Longs",
           "valueInt",
           "valuePreserveBoxInt",
           "baselineLong",
           "mutableSpecificRefLong",
           "mutableUniversalRefLong",
           "valueLong",
           "valuePreserveBoxLong",
           "baselineFloat",
           "longPackFloat",
           "mutableSpecificRefFloat",
           "mutableUniversalRefFloatIn1Long",
           "mutableUniversalRefFloatIn2Longs",
           "valueFloat",
           "valuePreserveBoxFloat",
           "baselineDouble",
           "mutableSpecificRefDouble",
           "mutableUniversalRefDouble",
           "valueDouble",
           "valuePreserveBoxDouble"
          ],
          "name": "Benchmark",
          "labels": [
           "baseline",
           "longPack",
           "mutableSpecificRef",
           "mutableUniversalRefIn1Long",
           "mutableUniversalRefIn2Longs",
           "value",
           "valuePreserveBox",
           "baseline",
           "mutableSpecificRef",
           "mutableUniversalRef",
           "value",
           "valuePreserveBox",
           "baseline",
           "longPack",
           "mutableSpecificRef",
           "mutableUniversalRefIn1Long",
           "mutableUniversalRefIn2Longs",
           "value",
           "valuePreserveBox",
           "baseline",
           "mutableSpecificRef",
           "mutableUniversalRef",
           "value",
           "valuePreserveBox"
          ]
         },
         {
          "aesthetic": "y",
          "name": "ns/op",
          "limits": [
           null,
           null
          ]
         },
         {
          "aesthetic": "fill",
          "discrete": true,
          "name": "Type",
          "guide": {
           "name": "legend"
          }
         },
         {
          "aesthetic": "x"
         },
         {
          "aesthetic": "x"
         },
         {
          "aesthetic": "y",
          "limits": [
           null,
           null
          ]
         }
        ],
        "layers": [
         {
          "mapping": {
           "x": "name",
           "y": "score",
           "fill": "type"
          },
          "stat": "identity",
          "sampling": "none",
          "position": "dodge",
          "geom": "bar",
          "tooltips": {
           "lines": [
            "Type|@type",
            "Benchmark|@name",
            "Score|@score"
           ]
          }
         },
         {
          "mapping": {
           "x": "name",
           "ymin": "minErr",
           "ymax": "maxErr"
          },
          "stat": "identity",
          "sampling": "none",
          "width": 0.5,
          "position": "identity",
          "geom": "errorbar"
         },
         {
          "mapping": {
           "x": "name",
           "y": "textPosition",
           "label": "label"
          },
          "stat": "identity",
          "size": 3.2,
          "sampling": "none",
          "position": "identity",
          "geom": "text"
         }
        ],
        "theme": {
         "flavor": "solarized_light"
        }
       },
       "apply_color_scheme": true,
       "swing_enabled": true
      }
     },
     "metadata": {},
     "output_type": "display_data"
    },
    {
     "data": {
      "text/html": "            <script type=\"text/javascript\" data-lets-plot-script=\"library\" src=\"https://cdn.jsdelivr.net/gh/JetBrains/lets-plot@v3.1.0/js-package/distr/lets-plot.min.js\"></script>    \n               <div id=\"A8Tdr2\"></div>\n   <script type=\"text/javascript\" data-lets-plot-script=\"plot\">\n       var plotSpec={\n\"ggtitle\":{\n\"text\":\"BoxRecreation\",\n\"subtitle\":\"Hotspot\"\n},\n\"mapping\":{\n},\n\"data\":{\n\"score\":[63.495,592.82,619.262,61.855,65.777,650.124,66.623,64.785,613.593,621.495,61.182,67.827,648.595,63.997],\n\"textPosition\":[102.63018,296.41,309.631,100.99018,104.91218,325.062,105.75818000000001,103.92017999999999,306.7965,310.7475,100.31718000000001,106.96217999999999,324.2975,103.13218],\n\"name\":[\"baselineInt\",\"longPackInt\",\"valueInt\",\"valuePreserveBoxInt\",\"baselineLong\",\"valueLong\",\"valuePreserveBoxLong\",\"baselineFloat\",\"longPackFloat\",\"valueFloat\",\"valuePreserveBoxFloat\",\"baselineDouble\",\"valueDouble\",\"valuePreserveBoxDouble\"],\n\"minErr\":[63.401999999999994,592.1940000000001,617.531,61.72,65.513,647.995,66.412,64.553,612.015,620.175,61.059000000000005,67.611,647.217,63.706],\n\"label\":[\"100%\\n±\\n0.1%\\nInt\",\"934%\\n±\\n1.0%\\nInt\",\"975%\\n±\\n2.7%\\nInt\",\"97%\\n±\\n0.2%\\nInt\",\"100%\\n±\\n0.4%\\nLong\",\"988%\\n±\\n3.2%\\nLong\",\"101%\\n±\\n0.3%\\nLong\",\"100%\\n±\\n0.4%\\nFloat\",\"947%\\n±\\n2.4%\\nFloat\",\"959%\\n±\\n2.0%\\nFloat\",\"94%\\n±\\n0.2%\\nFloat\",\"100%\\n±\\n0.3%\\nDouble\",\"956%\\n±\\n2.0%\\nDouble\",\"94%\\n±\\n0.4%\\nDouble\"],\n\"type\":[\"Int\",\"Int\",\"Int\",\"Int\",\"Long\",\"Long\",\"Long\",\"Float\",\"Float\",\"Float\",\"Float\",\"Double\",\"Double\",\"Double\"],\n\"maxErr\":[63.588,593.446,620.9929999999999,61.989999999999995,66.041,652.253,66.834,65.017,615.1709999999999,622.815,61.305,68.04299999999999,649.9730000000001,64.288]\n},\n\"ggsize\":{\n\"width\":800.0,\n\"height\":600.0\n},\n\"kind\":\"plot\",\n\"scales\":[{\n\"aesthetic\":\"x\",\n\"breaks\":[\"baselineInt\",\"longPackInt\",\"valueInt\",\"valuePreserveBoxInt\",\"baselineLong\",\"valueLong\",\"valuePreserveBoxLong\",\"baselineFloat\",\"longPackFloat\",\"valueFloat\",\"valuePreserveBoxFloat\",\"baselineDouble\",\"valueDouble\",\"valuePreserveBoxDouble\"],\n\"name\":\"Benchmark\",\n\"labels\":[\"baseline\",\"longPack\",\"value\",\"valuePreserveBox\",\"baseline\",\"value\",\"valuePreserveBox\",\"baseline\",\"longPack\",\"value\",\"valuePreserveBox\",\"baseline\",\"value\",\"valuePreserveBox\"]\n},{\n\"aesthetic\":\"y\",\n\"name\":\"ns/op\",\n\"limits\":[null,null]\n},{\n\"aesthetic\":\"fill\",\n\"discrete\":true,\n\"name\":\"Type\",\n\"guide\":{\n\"name\":\"legend\"\n}\n},{\n\"aesthetic\":\"x\"\n},{\n\"aesthetic\":\"x\"\n},{\n\"aesthetic\":\"y\",\n\"limits\":[null,null]\n}],\n\"layers\":[{\n\"mapping\":{\n\"x\":\"name\",\n\"y\":\"score\",\n\"fill\":\"type\"\n},\n\"stat\":\"identity\",\n\"sampling\":\"none\",\n\"position\":\"dodge\",\n\"geom\":\"bar\",\n\"tooltips\":{\n\"lines\":[\"Type|@type\",\"Benchmark|@name\",\"Score|@score\"]\n},\n\"data\":{\n}\n},{\n\"mapping\":{\n\"x\":\"name\",\n\"ymin\":\"minErr\",\n\"ymax\":\"maxErr\"\n},\n\"stat\":\"identity\",\n\"sampling\":\"none\",\n\"width\":0.5,\n\"position\":\"identity\",\n\"geom\":\"errorbar\",\n\"data\":{\n}\n},{\n\"mapping\":{\n\"x\":\"name\",\n\"y\":\"textPosition\",\n\"label\":\"label\"\n},\n\"stat\":\"identity\",\n\"size\":5.2,\n\"sampling\":\"none\",\n\"position\":\"identity\",\n\"geom\":\"text\",\n\"data\":{\n}\n}],\n\"theme\":{\n\"flavor\":\"solarized_light\"\n}\n};\n       var plotContainer = document.getElementById(\"A8Tdr2\");\n       LetsPlot.buildPlotFromProcessedSpecs(plotSpec, -1, -1, plotContainer);\n   </script>    ",
      "application/plot+json": {
       "output_type": "lets_plot_spec",
       "output": {
        "ggtitle": {
         "text": "BoxRecreation",
         "subtitle": "Hotspot"
        },
        "mapping": {},
        "data": {
         "score": [
          63.495,
          592.82,
          619.262,
          61.855,
          65.777,
          650.124,
          66.623,
          64.785,
          613.593,
          621.495,
          61.182,
          67.827,
          648.595,
          63.997
         ],
         "textPosition": [
          102.63018,
          296.41,
          309.631,
          100.99018,
          104.91218,
          325.062,
          105.75818,
          103.92018,
          306.7965,
          310.7475,
          100.31718,
          106.96218,
          324.2975,
          103.13218
         ],
         "name": [
          "baselineInt",
          "longPackInt",
          "valueInt",
          "valuePreserveBoxInt",
          "baselineLong",
          "valueLong",
          "valuePreserveBoxLong",
          "baselineFloat",
          "longPackFloat",
          "valueFloat",
          "valuePreserveBoxFloat",
          "baselineDouble",
          "valueDouble",
          "valuePreserveBoxDouble"
         ],
         "minErr": [
          63.402,
          592.194,
          617.531,
          61.72,
          65.513,
          647.995,
          66.412,
          64.553,
          612.015,
          620.175,
          61.059,
          67.611,
          647.217,
          63.706
         ],
         "label": [
          "100%\n±\n0.1%\nInt",
          "934%\n±\n1.0%\nInt",
          "975%\n±\n2.7%\nInt",
          "97%\n±\n0.2%\nInt",
          "100%\n±\n0.4%\nLong",
          "988%\n±\n3.2%\nLong",
          "101%\n±\n0.3%\nLong",
          "100%\n±\n0.4%\nFloat",
          "947%\n±\n2.4%\nFloat",
          "959%\n±\n2.0%\nFloat",
          "94%\n±\n0.2%\nFloat",
          "100%\n±\n0.3%\nDouble",
          "956%\n±\n2.0%\nDouble",
          "94%\n±\n0.4%\nDouble"
         ],
         "type": [
          "Int",
          "Int",
          "Int",
          "Int",
          "Long",
          "Long",
          "Long",
          "Float",
          "Float",
          "Float",
          "Float",
          "Double",
          "Double",
          "Double"
         ],
         "maxErr": [
          63.588,
          593.446,
          620.993,
          61.99,
          66.041,
          652.253,
          66.834,
          65.017,
          615.171,
          622.815,
          61.305,
          68.043,
          649.973,
          64.288
         ]
        },
        "ggsize": {
         "width": 800.0,
         "height": 600.0
        },
        "kind": "plot",
        "scales": [
         {
          "aesthetic": "x",
          "breaks": [
           "baselineInt",
           "longPackInt",
           "valueInt",
           "valuePreserveBoxInt",
           "baselineLong",
           "valueLong",
           "valuePreserveBoxLong",
           "baselineFloat",
           "longPackFloat",
           "valueFloat",
           "valuePreserveBoxFloat",
           "baselineDouble",
           "valueDouble",
           "valuePreserveBoxDouble"
          ],
          "name": "Benchmark",
          "labels": [
           "baseline",
           "longPack",
           "value",
           "valuePreserveBox",
           "baseline",
           "value",
           "valuePreserveBox",
           "baseline",
           "longPack",
           "value",
           "valuePreserveBox",
           "baseline",
           "value",
           "valuePreserveBox"
          ]
         },
         {
          "aesthetic": "y",
          "name": "ns/op",
          "limits": [
           null,
           null
          ]
         },
         {
          "aesthetic": "fill",
          "discrete": true,
          "name": "Type",
          "guide": {
           "name": "legend"
          }
         },
         {
          "aesthetic": "x"
         },
         {
          "aesthetic": "x"
         },
         {
          "aesthetic": "y",
          "limits": [
           null,
           null
          ]
         }
        ],
        "layers": [
         {
          "mapping": {
           "x": "name",
           "y": "score",
           "fill": "type"
          },
          "stat": "identity",
          "sampling": "none",
          "position": "dodge",
          "geom": "bar",
          "tooltips": {
           "lines": [
            "Type|@type",
            "Benchmark|@name",
            "Score|@score"
           ]
          }
         },
         {
          "mapping": {
           "x": "name",
           "ymin": "minErr",
           "ymax": "maxErr"
          },
          "stat": "identity",
          "sampling": "none",
          "width": 0.5,
          "position": "identity",
          "geom": "errorbar"
         },
         {
          "mapping": {
           "x": "name",
           "y": "textPosition",
           "label": "label"
          },
          "stat": "identity",
          "size": 5.2,
          "sampling": "none",
          "position": "identity",
          "geom": "text"
         }
        ],
        "theme": {
         "flavor": "solarized_light"
        }
       },
       "apply_color_scheme": true,
       "swing_enabled": true
      }
     },
     "metadata": {},
     "output_type": "display_data"
    }
   ],
   "source": [
    "makePlot(\"Wolf3d\", \"Hotspot\", readHotspotBenchmarkData(\"Wolf3dBenchmark\"))?.let { DISPLAY(it) }\n",
    "makePlot(\"Ackermann\", \"Hotspot\", readHotspotBenchmarkData(\"AckermannBenchmark\"))?.let { DISPLAY(it) }\n",
    "makePlot(\"BoxRecreation\", \"Hotspot\", readHotspotBenchmarkData(\"BoxRecreationBenchmark\"))?.let { DISPLAY(it) }"
   ],
   "metadata": {
    "collapsed": false,
    "ExecuteTime": {
     "end_time": "2023-05-09T13:13:26.841868Z",
     "start_time": "2023-05-09T13:13:26.003096Z"
    }
   }
  },
  {
   "cell_type": "code",
   "execution_count": 5,
   "outputs": [
    {
     "data": {
      "text/html": "            <iframe onload=\"o_resize_iframe_out_2()\" style=\"width:100%;\" class=\"result_container\" id=\"iframe_out_2\" frameBorder=\"0\" srcdoc=\"        &lt;html theme='dark'&gt;\n        &lt;head&gt;\n            &lt;style type=&quot;text&sol;css&quot;&gt;\n                :root {\n    --background: #fff;\n    --background-odd: #f5f5f5;\n    --background-hover: #d9edfd;\n    --header-text-color: #474747;\n    --text-color: #848484;\n    --text-color-dark: #000;\n    --text-color-medium: #737373;\n    --text-color-pale: #b3b3b3;\n    --inner-border-color: #aaa;\n    --bold-border-color: #000;\n    --link-color: #296eaa;\n    --link-color-pale: #296eaa;\n    --link-hover: #1a466c;\n}\n\n:root[theme=&quot;dark&quot;], :root [data-jp-theme-light=&quot;false&quot;], .dataframe_dark{\n    --background: #303030;\n    --background-odd: #3c3c3c;\n    --background-hover: #464646;\n    --header-text-color: #dddddd;\n    --text-color: #b3b3b3;\n    --text-color-dark: #dddddd;\n    --text-color-medium: #b2b2b2;\n    --text-color-pale: #737373;\n    --inner-border-color: #707070;\n    --bold-border-color: #777777;\n    --link-color: #008dc0;\n    --link-color-pale: #97e1fb;\n    --link-hover: #00688e;\n}\n\np.dataframe_description {\n    color: var(--text-color-dark);\n}\n\ntable.dataframe {\n    font-family: &quot;Helvetica Neue&quot;, Helvetica, Arial, sans-serif;\n    font-size: 12px;\n    background-color: var(--background);\n    color: var(--text-color-dark);\n    border: none;\n    border-collapse: collapse;\n}\n\ntable.dataframe th, td {\n    padding: 6px;\n    border: 1px solid transparent;\n    text-align: left;\n}\n\ntable.dataframe th {\n    background-color: var(--background);\n    color: var(--header-text-color);\n}\n\ntable.dataframe td {\n    vertical-align: top;\n}\n\ntable.dataframe th.bottomBorder {\n    border-bottom-color: var(--bold-border-color);\n}\n\ntable.dataframe tbody &gt; tr:nth-child(odd) {\n    background: var(--background-odd);\n}\n\ntable.dataframe tbody &gt; tr:nth-child(even) {\n    background: var(--background);\n}\n\ntable.dataframe tbody &gt; tr:hover {\n    background: var(--background-hover);\n}\n\ntable.dataframe a {\n    cursor: pointer;\n    color: var(--link-color);\n    text-decoration: none;\n}\n\ntable.dataframe tr:hover &gt; td a {\n    color: var(--link-color-pale);\n}\n\ntable.dataframe a:hover {\n    color: var(--link-hover);\n    text-decoration: underline;\n}\n\ntable.dataframe img {\n    max-width: fit-content;\n}\n\ntable.dataframe th.complex {\n    background-color: var(--background);\n    border: 1px solid var(--background);\n}\n\ntable.dataframe .leftBorder {\n    border-left-color: var(--inner-border-color);\n}\n\ntable.dataframe .rightBorder {\n    border-right-color: var(--inner-border-color);\n}\n\ntable.dataframe .rightAlign {\n    text-align: right;\n}\n\ntable.dataframe .expanderSvg {\n    width: 8px;\n    height: 8px;\n    margin-right: 3px;\n}\n\ntable.dataframe .expander {\n    display: flex;\n    align-items: center;\n}\n\n&sol;* formatting *&sol;\n\ntable.dataframe .null {\n    color: var(--text-color-pale);\n}\n\ntable.dataframe .structural {\n    color: var(--text-color-medium);\n    font-weight: bold;\n}\n\ntable.dataframe .dataFrameCaption {\n    font-weight: bold;\n}\n\ntable.dataframe .numbers {\n    color: var(--text-color-dark);\n}\n\ntable.dataframe td:hover .formatted .structural, .null {\n    color: var(--text-color-dark);\n}\n\ntable.dataframe tr:hover .formatted .structural, .null {\n    color: var(--text-color-dark);\n}\n\n\n\n\n:root {\n    --scroll-bg: #f5f5f5;\n    --scroll-fg: #b3b3b3;\n}\n:root[theme=&quot;dark&quot;], :root [data-jp-theme-light=&quot;false&quot;]{\n    --scroll-bg: #3c3c3c;\n    --scroll-fg: #97e1fb;\n}\nbody {\n    scrollbar-color: var(--scroll-fg) var(--scroll-bg);\n}\nbody::-webkit-scrollbar {\n    width: 10px; &sol;* Mostly for vertical scrollbars *&sol;\n    height: 10px; &sol;* Mostly for horizontal scrollbars *&sol;\n}\nbody::-webkit-scrollbar-thumb {\n    background-color: var(--scroll-fg);\n}\nbody::-webkit-scrollbar-track {\n    background-color: var(--scroll-bg);\n}\n            &lt;&sol;style&gt;\n        &lt;&sol;head&gt;\n        &lt;body&gt;\n            \n&lt;table class=&quot;dataframe&quot; id=&quot;df_-738197503&quot;&gt;&lt;&sol;table&gt;\n\n&lt;p class=&quot;dataframe_description&quot;&gt;DataFrame: rowsCount = 16, columnsCount = 4&lt;&sol;p&gt;\n\n        &lt;&sol;body&gt;\n        &lt;script&gt;\n            (function () {\n    window.DataFrame = window.DataFrame || new (function () {\n        this.addTable = function (df) {\n            let cols = df.cols;\n            for (let i = 0; i &lt; cols.length; i++) {\n                for (let c of cols[i].children) {\n                    cols[c].parent = i;\n                }\n            }\n            df.nrow = 0\n            for (let i = 0; i &lt; df.cols.length; i++) {\n                if (df.cols[i].values.length &gt; df.nrow) df.nrow = df.cols[i].values.length\n            }\n            if (df.id === df.rootId) {\n                df.expandedFrames = new Set()\n                df.childFrames = {}\n                const table = this.getTableElement(df.id)\n                table.df = df\n                for (let i = 0; i &lt; df.cols.length; i++) {\n                    let col = df.cols[i]\n                    if (col.parent === undefined &amp;&amp; col.children.length &gt; 0) col.expanded = true\n                }\n            } else {\n                const rootDf = this.getTableData(df.rootId)\n                rootDf.childFrames[df.id] = df\n            }\n        }\n\n        this.computeRenderData = function (df) {\n            let result = []\n            let pos = 0\n            for (let col = 0; col &lt; df.cols.length; col++) {\n                if (df.cols[col].parent === undefined)\n                    pos += this.computeRenderDataRec(df.cols, col, pos, 0, result, false, false)\n            }\n            for (let i = 0; i &lt; result.length; i++) {\n                let row = result[i]\n                for (let j = 0; j &lt; row.length; j++) {\n                    let cell = row[j]\n                    if (j === 0)\n                        cell.leftBd = false\n                    if (j &lt; row.length - 1) {\n                        let nextData = row[j + 1]\n                        if (nextData.leftBd) cell.rightBd = true\n                        else if (cell.rightBd) nextData.leftBd = true\n                    } else cell.rightBd = false\n                }\n            }\n            return result\n        }\n\n        this.computeRenderDataRec = function (cols, colId, pos, depth, result, leftBorder, rightBorder) {\n            if (result.length === depth) {\n                const array = [];\n                if (pos &gt; 0) {\n                    let j = 0\n                    for (let i = 0; j &lt; pos; i++) {\n                        let c = result[depth - 1][i]\n                        j += c.span\n                        let copy = Object.assign({empty: true}, c)\n                        array.push(copy)\n                    }\n                }\n                result.push(array)\n            }\n            const col = cols[colId];\n            let size = 0;\n            if (col.expanded) {\n                let childPos = pos\n                for (let i = 0; i &lt; col.children.length; i++) {\n                    let child = col.children[i]\n                    let childLeft = i === 0 &amp;&amp; (col.children.length &gt; 1 || leftBorder)\n                    let childRight = i === col.children.length - 1 &amp;&amp; (col.children.length &gt; 1 || rightBorder)\n                    let childSize = this.computeRenderDataRec(cols, child, childPos, depth + 1, result, childLeft, childRight)\n                    childPos += childSize\n                    size += childSize\n                }\n            } else {\n                for (let i = depth + 1; i &lt; result.length; i++)\n                    result[i].push({id: colId, span: 1, leftBd: leftBorder, rightBd: rightBorder, empty: true})\n                size = 1\n            }\n            let left = leftBorder\n            let right = rightBorder\n            if (size &gt; 1) {\n                left = true\n                right = true\n            }\n            result[depth].push({id: colId, span: size, leftBd: left, rightBd: right})\n            return size\n        }\n\n        this.getTableElement = function (id) {\n            return document.getElementById(&quot;df_&quot; + id)\n        }\n\n        this.getTableData = function (id) {\n            return this.getTableElement(id).df\n        }\n\n        this.createExpander = function (isExpanded) {\n            const svgNs = &quot;http:&sol;&sol;www.w3.org&sol;2000&sol;svg&quot;\n            let svg = document.createElementNS(svgNs, &quot;svg&quot;)\n            svg.classList.add(&quot;expanderSvg&quot;)\n            let path = document.createElementNS(svgNs, &quot;path&quot;)\n            if (isExpanded) {\n                svg.setAttribute(&quot;viewBox&quot;, &quot;0 -2 8 8&quot;)\n                path.setAttribute(&quot;d&quot;, &quot;M1 0 l-1 1 4 4 4 -4 -1 -1 -3 3Z&quot;)\n            } else {\n                svg.setAttribute(&quot;viewBox&quot;, &quot;-2 0 8 8&quot;)\n                path.setAttribute(&quot;d&quot;, &quot;M1 0 l-1 1 3 3 -3 3 1 1 4 -4Z&quot;)\n            }\n            path.setAttribute(&quot;fill&quot;, &quot;currentColor&quot;)\n            svg.appendChild(path)\n            return svg\n        }\n\n        this.renderTable = function (id) {\n\n            let table = this.getTableElement(id)\n\n            if (table === null) return\n\n            table.innerHTML = &quot;&quot;\n\n            let df = table.df\n            let rootDf = df.rootId === df.id ? df : this.getTableData(df.rootId)\n\n            &sol;&sol; header\n            let header = document.createElement(&quot;thead&quot;)\n            table.appendChild(header)\n\n            let renderData = this.computeRenderData(df)\n            for (let j = 0; j &lt; renderData.length; j++) {\n                let rowData = renderData[j]\n                let tr = document.createElement(&quot;tr&quot;);\n                let isLastRow = j === renderData.length - 1\n                header.appendChild(tr);\n                for (let i = 0; i &lt; rowData.length; i++) {\n                    let cell = rowData[i]\n                    let th = document.createElement(&quot;th&quot;);\n                    th.setAttribute(&quot;colspan&quot;, cell.span)\n                    let colId = cell.id\n                    let col = df.cols[colId];\n                    if (!cell.empty) {\n                        if (col.children.length === 0) {\n                            th.innerHTML = col.name\n                        } else {\n                            let link = document.createElement(&quot;a&quot;)\n                            link.className = &quot;expander&quot;\n                            let that = this\n                            link.onclick = function () {\n                                col.expanded = !col.expanded\n                                that.renderTable(id)\n                            }\n                            link.appendChild(this.createExpander(col.expanded))\n                            link.innerHTML += col.name\n                            th.appendChild(link)\n                        }\n                    }\n                    let classes = (cell.leftBd ? &quot; leftBorder&quot; : &quot;&quot;) + (cell.rightBd ? &quot; rightBorder&quot; : &quot;&quot;)\n                    if (col.rightAlign)\n                        classes += &quot; rightAlign&quot;\n                    if (isLastRow)\n                        classes += &quot; bottomBorder&quot;\n                    if (classes.length &gt; 0)\n                        th.setAttribute(&quot;class&quot;, classes)\n                    tr.appendChild(th)\n                }\n            }\n\n            &sol;&sol; body\n            let body = document.createElement(&quot;tbody&quot;)\n            table.appendChild(body)\n\n            let columns = renderData.pop()\n            for (let row = 0; row &lt; df.nrow; row++) {\n                let tr = document.createElement(&quot;tr&quot;);\n                body.appendChild(tr)\n                for (let i = 0; i &lt; columns.length; i++) {\n                    let cell = columns[i]\n                    let td = document.createElement(&quot;td&quot;);\n                    let colId = cell.id\n                    let col = df.cols[colId]\n                    let classes = (cell.leftBd ? &quot; leftBorder&quot; : &quot;&quot;) + (cell.rightBd ? &quot; rightBorder&quot; : &quot;&quot;)\n                    if (col.rightAlign)\n                        classes += &quot; rightAlign&quot;\n                    if (classes.length &gt; 0)\n                        td.setAttribute(&quot;class&quot;, classes)\n                    tr.appendChild(td)\n                    let value = col.values[row]\n                    if (value.frameId !== undefined) {\n                        let frameId = value.frameId\n                        let expanded = rootDf.expandedFrames.has(frameId)\n                        let link = document.createElement(&quot;a&quot;)\n                        link.className = &quot;expander&quot;\n                        let that = this\n                        link.onclick = function () {\n                            if (rootDf.expandedFrames.has(frameId))\n                                rootDf.expandedFrames.delete(frameId)\n                            else rootDf.expandedFrames.add(frameId)\n                            that.renderTable(id)\n                        }\n                        link.appendChild(this.createExpander(expanded))\n                        link.innerHTML += value.value\n                        if (expanded) {\n                            td.appendChild(link)\n                            td.appendChild(document.createElement(&quot;p&quot;))\n                            const childTable = document.createElement(&quot;table&quot;)\n                            childTable.className = &quot;dataframe&quot;\n                            childTable.id = &quot;df_&quot; + frameId\n                            let childDf = rootDf.childFrames[frameId]\n                            childTable.df = childDf\n                            td.appendChild(childTable)\n                            this.renderTable(frameId)\n                            if (childDf.nrow !== childDf.totalRows) {\n                                const footer = document.createElement(&quot;p&quot;)\n                                footer.innerText = `... showing only top ${childDf.nrow} of ${childDf.totalRows} rows`\n                                td.appendChild(footer)\n                            }\n                        } else {\n                            td.appendChild(link)\n                        }\n                    } else if (value.style !== undefined) {\n                        td.innerHTML = value.value\n                        td.setAttribute(&quot;style&quot;, value.style)\n                    } else td.innerHTML = value\n                    this.nodeScriptReplace(td)\n                }\n            }\n        }\n\n        this.nodeScriptReplace = function (node) {\n            if (this.nodeScriptIs(node) === true) {\n                node.parentNode.replaceChild(this.nodeScriptClone(node), node);\n            } else {\n                let i = -1, children = node.childNodes;\n                while (++i &lt; children.length) {\n                    this.nodeScriptReplace(children[i]);\n                }\n            }\n\n            return node;\n        }\n\n        this.nodeScriptClone = function (node) {\n            let script = document.createElement(&quot;script&quot;);\n            script.text = node.innerHTML;\n\n            let i = -1, attrs = node.attributes, attr;\n            while (++i &lt; attrs.length) {\n                script.setAttribute((attr = attrs[i]).name, attr.value);\n            }\n            return script;\n        }\n\n        this.nodeScriptIs = function (node) {\n            return node.tagName === 'SCRIPT';\n        }\n    })()\n\n    window.call_DataFrame = function (f) {\n        return f();\n    };\n\n    let funQueue = window[&quot;kotlinQueues&quot;] &amp;&amp; window[&quot;kotlinQueues&quot;][&quot;DataFrame&quot;];\n    if (funQueue) {\n        funQueue.forEach(function (f) {\n            f();\n        });\n        funQueue = [];\n    }\n})()\n\n&sol;*&lt;!--*&sol;\ncall_DataFrame(function() { DataFrame.addTable({ cols: [{ name: &quot;&lt;span title=&bsol;&quot;name: String&bsol;&quot;&gt;name&lt;&sol;span&gt;&quot;, children: [], rightAlign: false, values: [&quot;baselineFloat&quot;,&quot;inlineFloat&quot;,&quot;longPackFloat&quot;,&quot;mutableSpecificRefFloat&quot;,&quot;mutableUniversalRefFloatIn1Long&quot;,&quot;mutableUniversalRefFloatIn2Longs&quot;,&quot;valueFloat&quot;,&quot;valueInlineFloat&quot;,&quot;valuePreserveBoxFloat&quot;,&quot;baselineDouble&quot;,&quot;inlineDouble&quot;,&quot;mutableSpecificRefDouble&quot;,&quot;mutableUniversalRefDouble&quot;,&quot;valueDouble&quot;,&quot;valueInlineDouble&quot;,&quot;valuePreserveBoxDouble&quot;] }, \n{ name: &quot;&lt;span title=&bsol;&quot;score: Double&bsol;&quot;&gt;score&lt;&sol;span&gt;&quot;, children: [], rightAlign: true, values: [&quot;&lt;span class=&bsol;&quot;formatted&bsol;&quot; title=&bsol;&quot;&bsol;&quot;&gt;&lt;span class=&bsol;&quot;numbers&bsol;&quot;&gt;313401038.5&lt;&sol;span&gt;&lt;&sol;span&gt;&quot;,&quot;&lt;span class=&bsol;&quot;formatted&bsol;&quot; title=&bsol;&quot;&bsol;&quot;&gt;&lt;span class=&bsol;&quot;numbers&bsol;&quot;&gt;666222095.5&lt;&sol;span&gt;&lt;&sol;span&gt;&quot;,&quot;&lt;span class=&bsol;&quot;formatted&bsol;&quot; title=&bsol;&quot;&bsol;&quot;&gt;&lt;span class=&bsol;&quot;numbers&bsol;&quot;&gt;77769000.5&lt;&sol;span&gt;&lt;&sol;span&gt;&quot;,&quot;&lt;span class=&bsol;&quot;formatted&bsol;&quot; title=&bsol;&quot;&bsol;&quot;&gt;&lt;span class=&bsol;&quot;numbers&bsol;&quot;&gt;47566432.5&lt;&sol;span&gt;&lt;&sol;span&gt;&quot;,&quot;&lt;span class=&bsol;&quot;formatted&bsol;&quot; title=&bsol;&quot;&bsol;&quot;&gt;&lt;span class=&bsol;&quot;numbers&bsol;&quot;&gt;159654807.5&lt;&sol;span&gt;&lt;&sol;span&gt;&quot;,&quot;&lt;span class=&bsol;&quot;formatted&bsol;&quot; title=&bsol;&quot;&bsol;&quot;&gt;&lt;span class=&bsol;&quot;numbers&bsol;&quot;&gt;101884019.0&lt;&sol;span&gt;&lt;&sol;span&gt;&quot;,&quot;&lt;span class=&bsol;&quot;formatted&bsol;&quot; title=&bsol;&quot;&bsol;&quot;&gt;&lt;span class=&bsol;&quot;numbers&bsol;&quot;&gt;280749904.0&lt;&sol;span&gt;&lt;&sol;span&gt;&quot;,&quot;&lt;span class=&bsol;&quot;formatted&bsol;&quot; title=&bsol;&quot;&bsol;&quot;&gt;&lt;span class=&bsol;&quot;numbers&bsol;&quot;&gt;17621915.3&lt;&sol;span&gt;&lt;&sol;span&gt;&quot;,&quot;&lt;span class=&bsol;&quot;formatted&bsol;&quot; title=&bsol;&quot;&bsol;&quot;&gt;&lt;span class=&bsol;&quot;numbers&bsol;&quot;&gt;265442077.0&lt;&sol;span&gt;&lt;&sol;span&gt;&quot;,&quot;&lt;span class=&bsol;&quot;formatted&bsol;&quot; title=&bsol;&quot;&bsol;&quot;&gt;&lt;span class=&bsol;&quot;numbers&bsol;&quot;&gt;384350191.5&lt;&sol;span&gt;&lt;&sol;span&gt;&quot;,&quot;&lt;span class=&bsol;&quot;formatted&bsol;&quot; title=&bsol;&quot;&bsol;&quot;&gt;&lt;span class=&bsol;&quot;numbers&bsol;&quot;&gt;811293614.5&lt;&sol;span&gt;&lt;&sol;span&gt;&quot;,&quot;&lt;span class=&bsol;&quot;formatted&bsol;&quot; title=&bsol;&quot;&bsol;&quot;&gt;&lt;span class=&bsol;&quot;numbers&bsol;&quot;&gt;80806442.0&lt;&sol;span&gt;&lt;&sol;span&gt;&quot;,&quot;&lt;span class=&bsol;&quot;formatted&bsol;&quot; title=&bsol;&quot;&bsol;&quot;&gt;&lt;span class=&bsol;&quot;numbers&bsol;&quot;&gt;106634980.5&lt;&sol;span&gt;&lt;&sol;span&gt;&quot;,&quot;&lt;span class=&bsol;&quot;formatted&bsol;&quot; title=&bsol;&quot;&bsol;&quot;&gt;&lt;span class=&bsol;&quot;numbers&bsol;&quot;&gt;450340845.5&lt;&sol;span&gt;&lt;&sol;span&gt;&quot;,&quot;&lt;span class=&bsol;&quot;formatted&bsol;&quot; title=&bsol;&quot;&bsol;&quot;&gt;&lt;span class=&bsol;&quot;numbers&bsol;&quot;&gt;18647888.4&lt;&sol;span&gt;&lt;&sol;span&gt;&quot;,&quot;&lt;span class=&bsol;&quot;formatted&bsol;&quot; title=&bsol;&quot;&bsol;&quot;&gt;&lt;span class=&bsol;&quot;numbers&bsol;&quot;&gt;428552750.0&lt;&sol;span&gt;&lt;&sol;span&gt;&quot;] }, \n{ name: &quot;&lt;span title=&bsol;&quot;error: Double&bsol;&quot;&gt;error&lt;&sol;span&gt;&quot;, children: [], rightAlign: true, values: [&quot;&lt;span class=&bsol;&quot;formatted&bsol;&quot; title=&bsol;&quot;&bsol;&quot;&gt;&lt;span class=&bsol;&quot;numbers&bsol;&quot;&gt;8248733.538497&lt;&sol;span&gt;&lt;&sol;span&gt;&quot;,&quot;&lt;span class=&bsol;&quot;formatted&bsol;&quot; title=&bsol;&quot;&bsol;&quot;&gt;&lt;span class=&bsol;&quot;numbers&bsol;&quot;&gt;11067735.643873&lt;&sol;span&gt;&lt;&sol;span&gt;&quot;,&quot;&lt;span class=&bsol;&quot;formatted&bsol;&quot; title=&bsol;&quot;&bsol;&quot;&gt;&lt;span class=&bsol;&quot;numbers&bsol;&quot;&gt;945778.974827&lt;&sol;span&gt;&lt;&sol;span&gt;&quot;,&quot;&lt;span class=&bsol;&quot;formatted&bsol;&quot; title=&bsol;&quot;&bsol;&quot;&gt;&lt;span class=&bsol;&quot;numbers&bsol;&quot;&gt;510325.653655&lt;&sol;span&gt;&lt;&sol;span&gt;&quot;,&quot;&lt;span class=&bsol;&quot;formatted&bsol;&quot; title=&bsol;&quot;&bsol;&quot;&gt;&lt;span class=&bsol;&quot;numbers&bsol;&quot;&gt;2580378.485720&lt;&sol;span&gt;&lt;&sol;span&gt;&quot;,&quot;&lt;span class=&bsol;&quot;formatted&bsol;&quot; title=&bsol;&quot;&bsol;&quot;&gt;&lt;span class=&bsol;&quot;numbers&bsol;&quot;&gt;1765958.410935&lt;&sol;span&gt;&lt;&sol;span&gt;&quot;,&quot;&lt;span class=&bsol;&quot;formatted&bsol;&quot; title=&bsol;&quot;&bsol;&quot;&gt;&lt;span class=&bsol;&quot;numbers&bsol;&quot;&gt;8948120.506572&lt;&sol;span&gt;&lt;&sol;span&gt;&quot;,&quot;&lt;span class=&bsol;&quot;formatted&bsol;&quot; title=&bsol;&quot;&bsol;&quot;&gt;&lt;span class=&bsol;&quot;numbers&bsol;&quot;&gt;189853.644690&lt;&sol;span&gt;&lt;&sol;span&gt;&quot;,&quot;&lt;span class=&bsol;&quot;formatted&bsol;&quot; title=&bsol;&quot;&bsol;&quot;&gt;&lt;span class=&bsol;&quot;numbers&bsol;&quot;&gt;9930493.792832&lt;&sol;span&gt;&lt;&sol;span&gt;&quot;,&quot;&lt;span class=&bsol;&quot;formatted&bsol;&quot; title=&bsol;&quot;&bsol;&quot;&gt;&lt;span class=&bsol;&quot;numbers&bsol;&quot;&gt;11195484.698001&lt;&sol;span&gt;&lt;&sol;span&gt;&quot;,&quot;&lt;span class=&bsol;&quot;formatted&bsol;&quot; title=&bsol;&quot;&bsol;&quot;&gt;&lt;span class=&bsol;&quot;numbers&bsol;&quot;&gt;29147372.356727&lt;&sol;span&gt;&lt;&sol;span&gt;&quot;,&quot;&lt;span class=&bsol;&quot;formatted&bsol;&quot; title=&bsol;&quot;&bsol;&quot;&gt;&lt;span class=&bsol;&quot;numbers&bsol;&quot;&gt;1347884.090426&lt;&sol;span&gt;&lt;&sol;span&gt;&quot;,&quot;&lt;span class=&bsol;&quot;formatted&bsol;&quot; title=&bsol;&quot;&bsol;&quot;&gt;&lt;span class=&bsol;&quot;numbers&bsol;&quot;&gt;1892386.403155&lt;&sol;span&gt;&lt;&sol;span&gt;&quot;,&quot;&lt;span class=&bsol;&quot;formatted&bsol;&quot; title=&bsol;&quot;&bsol;&quot;&gt;&lt;span class=&bsol;&quot;numbers&bsol;&quot;&gt;10045910.013594&lt;&sol;span&gt;&lt;&sol;span&gt;&quot;,&quot;&lt;span class=&bsol;&quot;formatted&bsol;&quot; title=&bsol;&quot;&bsol;&quot;&gt;&lt;span class=&bsol;&quot;numbers&bsol;&quot;&gt;243807.877542&lt;&sol;span&gt;&lt;&sol;span&gt;&quot;,&quot;&lt;span class=&bsol;&quot;formatted&bsol;&quot; title=&bsol;&quot;&bsol;&quot;&gt;&lt;span class=&bsol;&quot;numbers&bsol;&quot;&gt;11082285.551533&lt;&sol;span&gt;&lt;&sol;span&gt;&quot;] }, \n{ name: &quot;&lt;span title=&bsol;&quot;type: Line_9_jupyter.Type&bsol;&quot;&gt;type&lt;&sol;span&gt;&quot;, children: [], rightAlign: false, values: [&quot;Float&quot;,&quot;Float&quot;,&quot;Float&quot;,&quot;Float&quot;,&quot;Float&quot;,&quot;Float&quot;,&quot;Float&quot;,&quot;Float&quot;,&quot;Float&quot;,&quot;Double&quot;,&quot;Double&quot;,&quot;Double&quot;,&quot;Double&quot;,&quot;Double&quot;,&quot;Double&quot;,&quot;Double&quot;] }, \n], id: -738197503, rootId: -738197503, totalRows: 16 } ) });\n&sol;*--&gt;*&sol;\n\ncall_DataFrame(function() { DataFrame.renderTable(-738197503) });\n\n\n\n        &lt;&sol;script&gt;\n        &lt;&sol;html&gt;\"></iframe>\n            <script>\n                function o_resize_iframe_out_2() {\n                    let elem = document.getElementById(\"iframe_out_2\");\n                    resize_iframe_out_2(elem);\n                    setInterval(resize_iframe_out_2, 5000, elem);\n                }\n                function resize_iframe_out_2(el) {\n                    let h = el.contentWindow.document.body.scrollHeight;\n                    el.height = h === 0 ? 0 : h + 41;\n                }\n            </script>",
      "application/kotlindataframe+json": "{\"nrow\":16,\"ncol\":4,\"columns\":[\"name\",\"score\",\"error\",\"type\"],\"kotlin_dataframe\":[{\"name\":\"baselineFloat\",\"score\":3.134010385E8,\"error\":8248733.538496841,\"type\":\"Float\"},{\"name\":\"inlineFloat\",\"score\":6.662220955E8,\"error\":1.1067735643873254E7,\"type\":\"Float\"},{\"name\":\"longPackFloat\",\"score\":7.77690005E7,\"error\":945778.9748266232,\"type\":\"Float\"},{\"name\":\"mutableSpecificRefFloat\",\"score\":4.75664325E7,\"error\":510325.65365526336,\"type\":\"Float\"},{\"name\":\"mutableUniversalRefFloatIn1Long\",\"score\":1.596548075E8,\"error\":2580378.4857196654,\"type\":\"Float\"},{\"name\":\"mutableUniversalRefFloatIn2Longs\",\"score\":1.01884019E8,\"error\":1765958.4109350513,\"type\":\"Float\"},{\"name\":\"valueFloat\",\"score\":2.80749904E8,\"error\":8948120.506571705,\"type\":\"Float\"},{\"name\":\"valueInlineFloat\",\"score\":1.76219153E7,\"error\":189853.64468979265,\"type\":\"Float\"},{\"name\":\"valuePreserveBoxFloat\",\"score\":2.65442077E8,\"error\":9930493.792832123,\"type\":\"Float\"},{\"name\":\"baselineDouble\",\"score\":3.843501915E8,\"error\":1.1195484698001184E7,\"type\":\"Double\"},{\"name\":\"inlineDouble\",\"score\":8.112936145E8,\"error\":2.9147372356726736E7,\"type\":\"Double\"},{\"name\":\"mutableSpecificRefDouble\",\"score\":8.0806442E7,\"error\":1347884.0904255523,\"type\":\"Double\"},{\"name\":\"mutableUniversalRefDouble\",\"score\":1.066349805E8,\"error\":1892386.4031551124,\"type\":\"Double\"},{\"name\":\"valueDouble\",\"score\":4.503408455E8,\"error\":1.0045910013593635E7,\"type\":\"Double\"},{\"name\":\"valueInlineDouble\",\"score\":1.86478884E7,\"error\":243807.8775418186,\"type\":\"Double\"},{\"name\":\"valuePreserveBoxDouble\",\"score\":4.2855275E8,\"error\":1.1082285551532617E7,\"type\":\"Double\"}]}"
     },
     "execution_count": 5,
     "metadata": {},
     "output_type": "execute_result"
    }
   ],
   "source": [
    "import java.io.FileFilter\n",
    "import kotlin.io.path.listDirectoryEntries\n",
    "\n",
    "fun readArtBenchmarkData(benchmarkName: String) = Path.of(\"android-benchmark/build/outputs/androidTest-results/connected\")\n",
    "    .toFile().listFiles(FileFilter { it.isDirectory })!!.single()\n",
    "    .listFiles { _, name -> name.startsWith(\"logcat-org.jetbrains.\") }!!.flatMap { it.readLines() }\n",
    "    .parseBenchmarkData(Regex(\"^\\\\d{2}-\\\\d{2} +\\\\d+:\\\\d+:\\\\d+.\\\\d+ +\\\\d+ +\\\\d+ +I +Benchmark: +$benchmarkName\\\\.(?<name>[^\\\\[]+)\\\\[Metric \\\\(timeNs\\\\) +results: +median +(?<score>[^,]+), +min [^,]+, +max [^,]+, +standardDeviation: +(?<error>[^,]+), +.*\"))\n",
    "readArtBenchmarkData(\"Wolf3dBenchmark\").concat(readArtBenchmarkData(\"FibonacciBenchmark\"))"
   ],
   "metadata": {
    "collapsed": false,
    "ExecuteTime": {
     "end_time": "2023-05-09T13:13:27.261338Z",
     "start_time": "2023-05-09T13:13:26.835836Z"
    }
   }
  },
  {
   "cell_type": "code",
   "execution_count": 6,
   "outputs": [
    {
     "data": {
      "text/html": "            <script type=\"text/javascript\" data-lets-plot-script=\"library\" src=\"https://cdn.jsdelivr.net/gh/JetBrains/lets-plot@v3.1.0/js-package/distr/lets-plot.min.js\"></script>    \n               <div id=\"X1ydfn\"></div>\n   <script type=\"text/javascript\" data-lets-plot-script=\"plot\">\n       var plotSpec={\n\"ggtitle\":{\n\"text\":\"Wolf3d\",\n\"subtitle\":\"ART\"\n},\n\"mapping\":{\n},\n\"data\":{\n\"score\":[3.134010385E8,6.662220955E8,7.77690005E7,4.75664325E7,1.596548075E8,1.01884019E8,2.80749904E8,1.76219153E7,2.65442077E8,3.843501915E8,8.112936145E8,8.0806442E7,1.066349805E8,4.503408455E8,1.86478884E7,4.2855275E8],\n\"textPosition\":[1.5670051925E8,3.3311104775E8,1.2819545971140361E8,9.799289171140361E7,7.982740375E7,5.09420095E7,1.40374952E8,6.80483745114036E7,1.327210385E8,1.9217509575E8,4.0564680725E8,1.3123290121140361E8,5.331749025E7,2.2517042275E8,6.90743476114036E7,2.14276375E8],\n\"name\":[\"baselineFloat\",\"inlineFloat\",\"longPackFloat\",\"mutableSpecificRefFloat\",\"mutableUniversalRefFloatIn1Long\",\"mutableUniversalRefFloatIn2Longs\",\"valueFloat\",\"valueInlineFloat\",\"valuePreserveBoxFloat\",\"baselineDouble\",\"inlineDouble\",\"mutableSpecificRefDouble\",\"mutableUniversalRefDouble\",\"valueDouble\",\"valueInlineDouble\",\"valuePreserveBoxDouble\"],\n\"minErr\":[3.0515230496150315E8,6.551543598561268E8,7.682322152517338E7,4.705610684634474E7,1.5707442901428035E8,1.0011806058906496E8,2.718017834934283E8,1.743206165531021E7,2.5551158320716786E8,3.731547068019988E8,7.821462421432732E8,7.945855790957445E7,1.0474259409684488E8,4.402949354864064E8,1.840408052245818E7,4.174704644484674E8],\n\"label\":[\"100%\\n±\\n2.6%\\nFloat\",\"213%\\n±\\n3.5%\\nFloat\",\"25%\\n±\\n0.3%\\nFloat\",\"15%\\n±\\n0.2%\\nFloat\",\"51%\\n±\\n0.8%\\nFloat\",\"33%\\n±\\n0.6%\\nFloat\",\"90%\\n±\\n2.9%\\nFloat\",\"6%\\n±\\n0.1%\\nFloat\",\"85%\\n±\\n3.2%\\nFloat\",\"100%\\n±\\n2.9%\\nDouble\",\"211%\\n±\\n7.6%\\nDouble\",\"21%\\n±\\n0.4%\\nDouble\",\"28%\\n±\\n0.5%\\nDouble\",\"117%\\n±\\n2.6%\\nDouble\",\"5%\\n±\\n0.1%\\nDouble\",\"112%\\n±\\n2.9%\\nDouble\"],\n\"type\":[\"Float\",\"Float\",\"Float\",\"Float\",\"Float\",\"Float\",\"Float\",\"Float\",\"Float\",\"Double\",\"Double\",\"Double\",\"Double\",\"Double\",\"Double\",\"Double\"],\n\"maxErr\":[3.2164977203849685E8,6.772898311438732E8,7.871477947482662E7,4.807675815365526E7,1.6223518598571965E8,1.0364997741093504E8,2.896980245065717E8,1.781176894468979E7,2.7537257079283214E8,3.955456761980012E8,8.404409868567268E8,8.215432609042555E7,1.0852736690315512E8,4.603867555135936E8,1.8891696277541816E7,4.396350355515326E8]\n},\n\"ggsize\":{\n\"width\":800.0,\n\"height\":600.0\n},\n\"kind\":\"plot\",\n\"scales\":[{\n\"aesthetic\":\"x\",\n\"breaks\":[\"baselineFloat\",\"inlineFloat\",\"longPackFloat\",\"mutableSpecificRefFloat\",\"mutableUniversalRefFloatIn1Long\",\"mutableUniversalRefFloatIn2Longs\",\"valueFloat\",\"valueInlineFloat\",\"valuePreserveBoxFloat\",\"baselineDouble\",\"inlineDouble\",\"mutableSpecificRefDouble\",\"mutableUniversalRefDouble\",\"valueDouble\",\"valueInlineDouble\",\"valuePreserveBoxDouble\"],\n\"name\":\"Benchmark\",\n\"labels\":[\"baseline\",\"inline\",\"longPack\",\"mutableSpecificRef\",\"mutableUniversalRefIn1Long\",\"mutableUniversalRefIn2Longs\",\"value\",\"valueInline\",\"valuePreserveBox\",\"baseline\",\"inline\",\"mutableSpecificRef\",\"mutableUniversalRef\",\"value\",\"valueInline\",\"valuePreserveBox\"]\n},{\n\"aesthetic\":\"y\",\n\"name\":\"ns/op\",\n\"limits\":[null,null]\n},{\n\"aesthetic\":\"fill\",\n\"discrete\":true,\n\"name\":\"Type\",\n\"guide\":{\n\"name\":\"legend\"\n}\n},{\n\"aesthetic\":\"x\"\n},{\n\"aesthetic\":\"x\"\n},{\n\"aesthetic\":\"y\",\n\"limits\":[null,null]\n}],\n\"layers\":[{\n\"mapping\":{\n\"x\":\"name\",\n\"y\":\"score\",\n\"fill\":\"type\"\n},\n\"stat\":\"identity\",\n\"sampling\":\"none\",\n\"position\":\"dodge\",\n\"geom\":\"bar\",\n\"tooltips\":{\n\"lines\":[\"Type|@type\",\"Benchmark|@name\",\"Score|@score\"]\n},\n\"data\":{\n}\n},{\n\"mapping\":{\n\"x\":\"name\",\n\"ymin\":\"minErr\",\n\"ymax\":\"maxErr\"\n},\n\"stat\":\"identity\",\n\"sampling\":\"none\",\n\"width\":0.5,\n\"position\":\"identity\",\n\"geom\":\"errorbar\",\n\"data\":{\n}\n},{\n\"mapping\":{\n\"x\":\"name\",\n\"y\":\"textPosition\",\n\"label\":\"label\"\n},\n\"stat\":\"identity\",\n\"size\":4.8,\n\"sampling\":\"none\",\n\"position\":\"identity\",\n\"geom\":\"text\",\n\"data\":{\n}\n}],\n\"theme\":{\n\"flavor\":\"solarized_light\"\n}\n};\n       var plotContainer = document.getElementById(\"X1ydfn\");\n       LetsPlot.buildPlotFromProcessedSpecs(plotSpec, -1, -1, plotContainer);\n   </script>    ",
      "application/plot+json": {
       "output_type": "lets_plot_spec",
       "output": {
        "ggtitle": {
         "text": "Wolf3d",
         "subtitle": "ART"
        },
        "mapping": {},
        "data": {
         "score": [
          3.13401024E8,
          6.6622208E8,
          7.7769E7,
          4.7566432E7,
          1.596548E8,
          1.01884016E8,
          2.80749888E8,
          1.7621916E7,
          2.6544208E8,
          3.84350176E8,
          8.1129363E8,
          8.080644E7,
          1.06634984E8,
          4.50340832E8,
          1.8647888E7,
          4.28552736E8
         ],
         "textPosition": [
          1.56700512E8,
          3.3311104E8,
          1.28195456E8,
          9.7992888E7,
          7.98274E7,
          5.0942008E7,
          1.40374944E8,
          6.8048376E7,
          1.3272104E8,
          1.92175088E8,
          4.05646816E8,
          1.31232904E8,
          5.3317492E7,
          2.25170416E8,
          6.9074344E7,
          2.14276368E8
         ],
         "name": [
          "baselineFloat",
          "inlineFloat",
          "longPackFloat",
          "mutableSpecificRefFloat",
          "mutableUniversalRefFloatIn1Long",
          "mutableUniversalRefFloatIn2Longs",
          "valueFloat",
          "valueInlineFloat",
          "valuePreserveBoxFloat",
          "baselineDouble",
          "inlineDouble",
          "mutableSpecificRefDouble",
          "mutableUniversalRefDouble",
          "valueDouble",
          "valueInlineDouble",
          "valuePreserveBoxDouble"
         ],
         "minErr": [
          3.0515232E8,
          6.5515437E8,
          7.6823224E7,
          4.7056108E7,
          1.57074432E8,
          1.00118064E8,
          2.71801792E8,
          1.7432062E7,
          2.55511584E8,
          3.7315472E8,
          7.8214624E8,
          7.945856E7,
          1.04742592E8,
          4.40294944E8,
          1.840408E7,
          4.17470464E8
         ],
         "label": [
          "100%\n±\n2.6%\nFloat",
          "213%\n±\n3.5%\nFloat",
          "25%\n±\n0.3%\nFloat",
          "15%\n±\n0.2%\nFloat",
          "51%\n±\n0.8%\nFloat",
          "33%\n±\n0.6%\nFloat",
          "90%\n±\n2.9%\nFloat",
          "6%\n±\n0.1%\nFloat",
          "85%\n±\n3.2%\nFloat",
          "100%\n±\n2.9%\nDouble",
          "211%\n±\n7.6%\nDouble",
          "21%\n±\n0.4%\nDouble",
          "28%\n±\n0.5%\nDouble",
          "117%\n±\n2.6%\nDouble",
          "5%\n±\n0.1%\nDouble",
          "112%\n±\n2.9%\nDouble"
         ],
         "type": [
          "Float",
          "Float",
          "Float",
          "Float",
          "Float",
          "Float",
          "Float",
          "Float",
          "Float",
          "Double",
          "Double",
          "Double",
          "Double",
          "Double",
          "Double",
          "Double"
         ],
         "maxErr": [
          3.2164976E8,
          6.7728986E8,
          7.8714776E7,
          4.807676E7,
          1.62235184E8,
          1.03649976E8,
          2.89698016E8,
          1.7811768E7,
          2.75372576E8,
          3.95545664E8,
          8.4044096E8,
          8.2154328E7,
          1.08527368E8,
          4.60386752E8,
          1.8891696E7,
          4.3963504E8
         ]
        },
        "ggsize": {
         "width": 800.0,
         "height": 600.0
        },
        "kind": "plot",
        "scales": [
         {
          "aesthetic": "x",
          "breaks": [
           "baselineFloat",
           "inlineFloat",
           "longPackFloat",
           "mutableSpecificRefFloat",
           "mutableUniversalRefFloatIn1Long",
           "mutableUniversalRefFloatIn2Longs",
           "valueFloat",
           "valueInlineFloat",
           "valuePreserveBoxFloat",
           "baselineDouble",
           "inlineDouble",
           "mutableSpecificRefDouble",
           "mutableUniversalRefDouble",
           "valueDouble",
           "valueInlineDouble",
           "valuePreserveBoxDouble"
          ],
          "name": "Benchmark",
          "labels": [
           "baseline",
           "inline",
           "longPack",
           "mutableSpecificRef",
           "mutableUniversalRefIn1Long",
           "mutableUniversalRefIn2Longs",
           "value",
           "valueInline",
           "valuePreserveBox",
           "baseline",
           "inline",
           "mutableSpecificRef",
           "mutableUniversalRef",
           "value",
           "valueInline",
           "valuePreserveBox"
          ]
         },
         {
          "aesthetic": "y",
          "name": "ns/op",
          "limits": [
           null,
           null
          ]
         },
         {
          "aesthetic": "fill",
          "discrete": true,
          "name": "Type",
          "guide": {
           "name": "legend"
          }
         },
         {
          "aesthetic": "x"
         },
         {
          "aesthetic": "x"
         },
         {
          "aesthetic": "y",
          "limits": [
           null,
           null
          ]
         }
        ],
        "layers": [
         {
          "mapping": {
           "x": "name",
           "y": "score",
           "fill": "type"
          },
          "stat": "identity",
          "sampling": "none",
          "position": "dodge",
          "geom": "bar",
          "tooltips": {
           "lines": [
            "Type|@type",
            "Benchmark|@name",
            "Score|@score"
           ]
          }
         },
         {
          "mapping": {
           "x": "name",
           "ymin": "minErr",
           "ymax": "maxErr"
          },
          "stat": "identity",
          "sampling": "none",
          "width": 0.5,
          "position": "identity",
          "geom": "errorbar"
         },
         {
          "mapping": {
           "x": "name",
           "y": "textPosition",
           "label": "label"
          },
          "stat": "identity",
          "size": 4.8,
          "sampling": "none",
          "position": "identity",
          "geom": "text"
         }
        ],
        "theme": {
         "flavor": "solarized_light"
        }
       },
       "apply_color_scheme": true,
       "swing_enabled": true
      }
     },
     "metadata": {},
     "output_type": "display_data"
    },
    {
     "data": {
      "text/html": "            <script type=\"text/javascript\" data-lets-plot-script=\"library\" src=\"https://cdn.jsdelivr.net/gh/JetBrains/lets-plot@v3.1.0/js-package/distr/lets-plot.min.js\"></script>    \n               <div id=\"VdyRgg\"></div>\n   <script type=\"text/javascript\" data-lets-plot-script=\"plot\">\n       var plotSpec={\n\"ggtitle\":{\n\"text\":\"Ackermann\",\n\"subtitle\":\"ART\"\n},\n\"mapping\":{\n},\n\"data\":{\n\"score\":[71677.96735395188,14091.220315479286,22283.482007822684,24621.914360098657,23054.71682590234,43624.320844099915,42738.23814597762,91385.74977658624,35936.967117624954,39191.096291331545,100441.68181818182,92036.8205689278,77265.52750809061,21235.138340414895,25383.076069078947,26710.39159811986,26186.331397037466,46622.73366394399,51256.340563991325,96883.83782483157,35166.95891443649,36189.11452054794,103134.21739130435,99621.77114427861],\n\"textPosition\":[35838.98367697594,7045.610157739643,11141.741003911342,12310.957180049329,11527.35841295117,21812.160422049958,21369.11907298881,45692.87488829312,17968.483558812477,19595.548145665773,50220.84090909091,46018.4102844639,38632.76375404531,10617.569170207447,12691.538034539473,13355.19579905993,13093.165698518733,23311.366831971995,25628.170281995663,48441.918912415786,17583.479457218244,18094.55726027397,51567.108695652176,49810.885572139305],\n\"name\":[\"baselineInt\",\"longPackInt\",\"mutableSpecificRefInt\",\"mutableUniversalRefIntIn1Long\",\"mutableUniversalRefIntIn2Longs\",\"valueInt\",\"valuePreserveBoxInt\",\"baselineLong\",\"mutableSpecificRefLong\",\"mutableUniversalRefLong\",\"valueLong\",\"valuePreserveBoxLong\",\"baselineFloat\",\"longPackFloat\",\"mutableSpecificRefFloat\",\"mutableUniversalRefFloatIn1Long\",\"mutableUniversalRefFloatIn2Longs\",\"valueFloat\",\"valuePreserveBoxFloat\",\"baselineDouble\",\"mutableSpecificRefDouble\",\"mutableUniversalRefDouble\",\"valueDouble\",\"valuePreserveBoxDouble\"],\n\"minErr\":[68847.48808909033,13835.265979812444,21518.624398917378,23270.729369216537,22192.05248199842,41522.05763188045,40620.2686862987,86437.65728324662,34621.80940251625,36649.849469045475,95775.60865178794,86474.45306966621,74166.92764598606,20913.8094657058,23679.493902557853,25596.49687285845,25325.453257841225,43905.32550076346,48188.70094071386,92808.41870800682,33906.905698880095,34693.37893000299,99139.44916225896,93478.77378920373],\n\"label\":[\"100%\\n±\\n3.9%\\nInt\",\"20%\\n±\\n0.4%\\nInt\",\"31%\\n±\\n1.1%\\nInt\",\"34%\\n±\\n1.9%\\nInt\",\"32%\\n±\\n1.2%\\nInt\",\"61%\\n±\\n2.9%\\nInt\",\"60%\\n±\\n3.0%\\nInt\",\"100%\\n±\\n5.4%\\nLong\",\"39%\\n±\\n1.4%\\nLong\",\"43%\\n±\\n2.8%\\nLong\",\"110%\\n±\\n5.1%\\nLong\",\"101%\\n±\\n6.1%\\nLong\",\"100%\\n±\\n4.0%\\nFloat\",\"27%\\n±\\n0.4%\\nFloat\",\"33%\\n±\\n2.2%\\nFloat\",\"35%\\n±\\n1.4%\\nFloat\",\"34%\\n±\\n1.1%\\nFloat\",\"60%\\n±\\n3.5%\\nFloat\",\"66%\\n±\\n4.0%\\nFloat\",\"100%\\n±\\n4.2%\\nDouble\",\"36%\\n±\\n1.3%\\nDouble\",\"37%\\n±\\n1.5%\\nDouble\",\"106%\\n±\\n4.1%\\nDouble\",\"103%\\n±\\n6.3%\\nDouble\"],\n\"type\":[\"Int\",\"Int\",\"Int\",\"Int\",\"Int\",\"Int\",\"Int\",\"Long\",\"Long\",\"Long\",\"Long\",\"Long\",\"Float\",\"Float\",\"Float\",\"Float\",\"Float\",\"Float\",\"Float\",\"Double\",\"Double\",\"Double\",\"Double\",\"Double\"],\n\"maxErr\":[74508.44661881344,14347.174651146128,23048.33961672799,25973.099350980778,23917.381169806256,45726.58405631938,44856.20760565654,96333.84226992585,37252.12483273366,41732.343113617615,105107.7549845757,97599.18806818938,80364.12737019517,21556.46721512399,27086.65823560004,27824.286323381268,27047.209536233706,49340.14182712452,54323.98018726879,100959.25694165632,36427.01212999288,37684.85011109289,107128.98562034975,105764.7684993535]\n},\n\"ggsize\":{\n\"width\":800.0,\n\"height\":600.0\n},\n\"kind\":\"plot\",\n\"scales\":[{\n\"aesthetic\":\"x\",\n\"breaks\":[\"baselineInt\",\"longPackInt\",\"mutableSpecificRefInt\",\"mutableUniversalRefIntIn1Long\",\"mutableUniversalRefIntIn2Longs\",\"valueInt\",\"valuePreserveBoxInt\",\"baselineLong\",\"mutableSpecificRefLong\",\"mutableUniversalRefLong\",\"valueLong\",\"valuePreserveBoxLong\",\"baselineFloat\",\"longPackFloat\",\"mutableSpecificRefFloat\",\"mutableUniversalRefFloatIn1Long\",\"mutableUniversalRefFloatIn2Longs\",\"valueFloat\",\"valuePreserveBoxFloat\",\"baselineDouble\",\"mutableSpecificRefDouble\",\"mutableUniversalRefDouble\",\"valueDouble\",\"valuePreserveBoxDouble\"],\n\"name\":\"Benchmark\",\n\"labels\":[\"baseline\",\"longPack\",\"mutableSpecificRef\",\"mutableUniversalRefIn1Long\",\"mutableUniversalRefIn2Longs\",\"value\",\"valuePreserveBox\",\"baseline\",\"mutableSpecificRef\",\"mutableUniversalRef\",\"value\",\"valuePreserveBox\",\"baseline\",\"longPack\",\"mutableSpecificRef\",\"mutableUniversalRefIn1Long\",\"mutableUniversalRefIn2Longs\",\"value\",\"valuePreserveBox\",\"baseline\",\"mutableSpecificRef\",\"mutableUniversalRef\",\"value\",\"valuePreserveBox\"]\n},{\n\"aesthetic\":\"y\",\n\"name\":\"ns/op\",\n\"limits\":[null,null]\n},{\n\"aesthetic\":\"fill\",\n\"discrete\":true,\n\"name\":\"Type\",\n\"guide\":{\n\"name\":\"legend\"\n}\n},{\n\"aesthetic\":\"x\"\n},{\n\"aesthetic\":\"x\"\n},{\n\"aesthetic\":\"y\",\n\"limits\":[null,null]\n}],\n\"layers\":[{\n\"mapping\":{\n\"x\":\"name\",\n\"y\":\"score\",\n\"fill\":\"type\"\n},\n\"stat\":\"identity\",\n\"sampling\":\"none\",\n\"position\":\"dodge\",\n\"geom\":\"bar\",\n\"tooltips\":{\n\"lines\":[\"Type|@type\",\"Benchmark|@name\",\"Score|@score\"]\n},\n\"data\":{\n}\n},{\n\"mapping\":{\n\"x\":\"name\",\n\"ymin\":\"minErr\",\n\"ymax\":\"maxErr\"\n},\n\"stat\":\"identity\",\n\"sampling\":\"none\",\n\"width\":0.5,\n\"position\":\"identity\",\n\"geom\":\"errorbar\",\n\"data\":{\n}\n},{\n\"mapping\":{\n\"x\":\"name\",\n\"y\":\"textPosition\",\n\"label\":\"label\"\n},\n\"stat\":\"identity\",\n\"size\":3.2,\n\"sampling\":\"none\",\n\"position\":\"identity\",\n\"geom\":\"text\",\n\"data\":{\n}\n}],\n\"theme\":{\n\"flavor\":\"solarized_light\"\n}\n};\n       var plotContainer = document.getElementById(\"VdyRgg\");\n       LetsPlot.buildPlotFromProcessedSpecs(plotSpec, -1, -1, plotContainer);\n   </script>    ",
      "application/plot+json": {
       "output_type": "lets_plot_spec",
       "output": {
        "ggtitle": {
         "text": "Ackermann",
         "subtitle": "ART"
        },
        "mapping": {},
        "data": {
         "score": [
          71677.97,
          14091.221,
          22283.482,
          24621.914,
          23054.717,
          43624.32,
          42738.24,
          91385.75,
          35936.97,
          39191.098,
          100441.68,
          92036.82,
          77265.53,
          21235.139,
          25383.076,
          26710.39,
          26186.332,
          46622.734,
          51256.34,
          96883.836,
          35166.957,
          36189.113,
          103134.22,
          99621.77
         ],
         "textPosition": [
          35838.984,
          7045.6104,
          11141.741,
          12310.957,
          11527.358,
          21812.16,
          21369.12,
          45692.875,
          17968.484,
          19595.549,
          50220.84,
          46018.41,
          38632.766,
          10617.569,
          12691.538,
          13355.195,
          13093.166,
          23311.367,
          25628.17,
          48441.918,
          17583.479,
          18094.557,
          51567.11,
          49810.887
         ],
         "name": [
          "baselineInt",
          "longPackInt",
          "mutableSpecificRefInt",
          "mutableUniversalRefIntIn1Long",
          "mutableUniversalRefIntIn2Longs",
          "valueInt",
          "valuePreserveBoxInt",
          "baselineLong",
          "mutableSpecificRefLong",
          "mutableUniversalRefLong",
          "valueLong",
          "valuePreserveBoxLong",
          "baselineFloat",
          "longPackFloat",
          "mutableSpecificRefFloat",
          "mutableUniversalRefFloatIn1Long",
          "mutableUniversalRefFloatIn2Longs",
          "valueFloat",
          "valuePreserveBoxFloat",
          "baselineDouble",
          "mutableSpecificRefDouble",
          "mutableUniversalRefDouble",
          "valueDouble",
          "valuePreserveBoxDouble"
         ],
         "minErr": [
          68847.484,
          13835.266,
          21518.625,
          23270.729,
          22192.053,
          41522.06,
          40620.27,
          86437.66,
          34621.81,
          36649.848,
          95775.61,
          86474.45,
          74166.93,
          20913.809,
          23679.494,
          25596.496,
          25325.453,
          43905.324,
          48188.7,
          92808.42,
          33906.906,
          34693.38,
          99139.445,
          93478.77
         ],
         "label": [
          "100%\n±\n3.9%\nInt",
          "20%\n±\n0.4%\nInt",
          "31%\n±\n1.1%\nInt",
          "34%\n±\n1.9%\nInt",
          "32%\n±\n1.2%\nInt",
          "61%\n±\n2.9%\nInt",
          "60%\n±\n3.0%\nInt",
          "100%\n±\n5.4%\nLong",
          "39%\n±\n1.4%\nLong",
          "43%\n±\n2.8%\nLong",
          "110%\n±\n5.1%\nLong",
          "101%\n±\n6.1%\nLong",
          "100%\n±\n4.0%\nFloat",
          "27%\n±\n0.4%\nFloat",
          "33%\n±\n2.2%\nFloat",
          "35%\n±\n1.4%\nFloat",
          "34%\n±\n1.1%\nFloat",
          "60%\n±\n3.5%\nFloat",
          "66%\n±\n4.0%\nFloat",
          "100%\n±\n4.2%\nDouble",
          "36%\n±\n1.3%\nDouble",
          "37%\n±\n1.5%\nDouble",
          "106%\n±\n4.1%\nDouble",
          "103%\n±\n6.3%\nDouble"
         ],
         "type": [
          "Int",
          "Int",
          "Int",
          "Int",
          "Int",
          "Int",
          "Int",
          "Long",
          "Long",
          "Long",
          "Long",
          "Long",
          "Float",
          "Float",
          "Float",
          "Float",
          "Float",
          "Float",
          "Float",
          "Double",
          "Double",
          "Double",
          "Double",
          "Double"
         ],
         "maxErr": [
          74508.445,
          14347.175,
          23048.34,
          25973.1,
          23917.38,
          45726.586,
          44856.207,
          96333.84,
          37252.125,
          41732.344,
          105107.76,
          97599.19,
          80364.125,
          21556.467,
          27086.658,
          27824.287,
          27047.209,
          49340.14,
          54323.98,
          100959.26,
          36427.01,
          37684.85,
          107128.984,
          105764.766
         ]
        },
        "ggsize": {
         "width": 800.0,
         "height": 600.0
        },
        "kind": "plot",
        "scales": [
         {
          "aesthetic": "x",
          "breaks": [
           "baselineInt",
           "longPackInt",
           "mutableSpecificRefInt",
           "mutableUniversalRefIntIn1Long",
           "mutableUniversalRefIntIn2Longs",
           "valueInt",
           "valuePreserveBoxInt",
           "baselineLong",
           "mutableSpecificRefLong",
           "mutableUniversalRefLong",
           "valueLong",
           "valuePreserveBoxLong",
           "baselineFloat",
           "longPackFloat",
           "mutableSpecificRefFloat",
           "mutableUniversalRefFloatIn1Long",
           "mutableUniversalRefFloatIn2Longs",
           "valueFloat",
           "valuePreserveBoxFloat",
           "baselineDouble",
           "mutableSpecificRefDouble",
           "mutableUniversalRefDouble",
           "valueDouble",
           "valuePreserveBoxDouble"
          ],
          "name": "Benchmark",
          "labels": [
           "baseline",
           "longPack",
           "mutableSpecificRef",
           "mutableUniversalRefIn1Long",
           "mutableUniversalRefIn2Longs",
           "value",
           "valuePreserveBox",
           "baseline",
           "mutableSpecificRef",
           "mutableUniversalRef",
           "value",
           "valuePreserveBox",
           "baseline",
           "longPack",
           "mutableSpecificRef",
           "mutableUniversalRefIn1Long",
           "mutableUniversalRefIn2Longs",
           "value",
           "valuePreserveBox",
           "baseline",
           "mutableSpecificRef",
           "mutableUniversalRef",
           "value",
           "valuePreserveBox"
          ]
         },
         {
          "aesthetic": "y",
          "name": "ns/op",
          "limits": [
           null,
           null
          ]
         },
         {
          "aesthetic": "fill",
          "discrete": true,
          "name": "Type",
          "guide": {
           "name": "legend"
          }
         },
         {
          "aesthetic": "x"
         },
         {
          "aesthetic": "x"
         },
         {
          "aesthetic": "y",
          "limits": [
           null,
           null
          ]
         }
        ],
        "layers": [
         {
          "mapping": {
           "x": "name",
           "y": "score",
           "fill": "type"
          },
          "stat": "identity",
          "sampling": "none",
          "position": "dodge",
          "geom": "bar",
          "tooltips": {
           "lines": [
            "Type|@type",
            "Benchmark|@name",
            "Score|@score"
           ]
          }
         },
         {
          "mapping": {
           "x": "name",
           "ymin": "minErr",
           "ymax": "maxErr"
          },
          "stat": "identity",
          "sampling": "none",
          "width": 0.5,
          "position": "identity",
          "geom": "errorbar"
         },
         {
          "mapping": {
           "x": "name",
           "y": "textPosition",
           "label": "label"
          },
          "stat": "identity",
          "size": 3.2,
          "sampling": "none",
          "position": "identity",
          "geom": "text"
         }
        ],
        "theme": {
         "flavor": "solarized_light"
        }
       },
       "apply_color_scheme": true,
       "swing_enabled": true
      }
     },
     "metadata": {},
     "output_type": "display_data"
    },
    {
     "data": {
      "text/html": "            <script type=\"text/javascript\" data-lets-plot-script=\"library\" src=\"https://cdn.jsdelivr.net/gh/JetBrains/lets-plot@v3.1.0/js-package/distr/lets-plot.min.js\"></script>    \n               <div id=\"Y3p5nZ\"></div>\n   <script type=\"text/javascript\" data-lets-plot-script=\"plot\">\n       var plotSpec={\n\"ggtitle\":{\n\"text\":\"BoxRecreation\",\n\"subtitle\":\"ART\"\n},\n\"mapping\":{\n},\n\"data\":{\n\"score\":[509.3815440689198,2977.4636085901698,2981.6962758164373,526.6759110583636,608.4585138162809,3860.2713205509044,605.6329822949428,536.9258544505963,2951.1509140700173,3071.300551645425,514.655346627409,627.8472856047607,3857.210134739309,606.4925663843322],\n\"textPosition\":[254.6907720344599,1488.7318042950849,1490.8481379082186,263.3379555291818,304.2292569081404,1930.1356602754522,302.8164911474714,268.46292722529813,1475.5754570350086,1535.6502758227125,257.3276733137045,313.92364280238036,1928.6050673696545,303.2462831921661],\n\"name\":[\"baselineInt\",\"longPackInt\",\"valueInt\",\"valuePreserveBoxInt\",\"baselineLong\",\"valueLong\",\"valuePreserveBoxLong\",\"baselineFloat\",\"longPackFloat\",\"valueFloat\",\"valuePreserveBoxFloat\",\"baselineDouble\",\"valueDouble\",\"valuePreserveBoxDouble\"],\n\"minErr\":[482.7133491918886,2797.7576614785303,2823.4262464317057,486.5704784132406,588.1793724471569,3609.914752280496,572.7121108925181,511.59754845317394,2759.0887794555456,2888.608047252783,495.7949530561966,593.0593137627293,3650.136301196156,571.5899968706043],\n\"label\":[\"100%\\n±\\n5.2%\\nInt\",\"585%\\n±\\n35.3%\\nInt\",\"585%\\n±\\n31.1%\\nInt\",\"103%\\n±\\n7.9%\\nInt\",\"100%\\n±\\n3.3%\\nLong\",\"634%\\n±\\n41.1%\\nLong\",\"100%\\n±\\n5.4%\\nLong\",\"100%\\n±\\n4.7%\\nFloat\",\"550%\\n±\\n35.8%\\nFloat\",\"572%\\n±\\n34.0%\\nFloat\",\"96%\\n±\\n3.5%\\nFloat\",\"100%\\n±\\n5.5%\\nDouble\",\"614%\\n±\\n33.0%\\nDouble\",\"97%\\n±\\n5.6%\\nDouble\"],\n\"type\":[\"Int\",\"Int\",\"Int\",\"Int\",\"Long\",\"Long\",\"Long\",\"Float\",\"Float\",\"Float\",\"Float\",\"Double\",\"Double\",\"Double\"],\n\"maxErr\":[536.049738945951,3157.1695557018093,3139.966305201169,566.7813437034865,628.7376551854048,4110.627888821313,638.5538536973676,562.2541604480186,3143.213048684489,3253.993056038067,533.5157401986214,662.6352574467921,4064.283968282462,641.3951358980602]\n},\n\"ggsize\":{\n\"width\":800.0,\n\"height\":600.0\n},\n\"kind\":\"plot\",\n\"scales\":[{\n\"aesthetic\":\"x\",\n\"breaks\":[\"baselineInt\",\"longPackInt\",\"valueInt\",\"valuePreserveBoxInt\",\"baselineLong\",\"valueLong\",\"valuePreserveBoxLong\",\"baselineFloat\",\"longPackFloat\",\"valueFloat\",\"valuePreserveBoxFloat\",\"baselineDouble\",\"valueDouble\",\"valuePreserveBoxDouble\"],\n\"name\":\"Benchmark\",\n\"labels\":[\"baseline\",\"longPack\",\"value\",\"valuePreserveBox\",\"baseline\",\"value\",\"valuePreserveBox\",\"baseline\",\"longPack\",\"value\",\"valuePreserveBox\",\"baseline\",\"value\",\"valuePreserveBox\"]\n},{\n\"aesthetic\":\"y\",\n\"name\":\"ns/op\",\n\"limits\":[null,null]\n},{\n\"aesthetic\":\"fill\",\n\"discrete\":true,\n\"name\":\"Type\",\n\"guide\":{\n\"name\":\"legend\"\n}\n},{\n\"aesthetic\":\"x\"\n},{\n\"aesthetic\":\"x\"\n},{\n\"aesthetic\":\"y\",\n\"limits\":[null,null]\n}],\n\"layers\":[{\n\"mapping\":{\n\"x\":\"name\",\n\"y\":\"score\",\n\"fill\":\"type\"\n},\n\"stat\":\"identity\",\n\"sampling\":\"none\",\n\"position\":\"dodge\",\n\"geom\":\"bar\",\n\"tooltips\":{\n\"lines\":[\"Type|@type\",\"Benchmark|@name\",\"Score|@score\"]\n},\n\"data\":{\n}\n},{\n\"mapping\":{\n\"x\":\"name\",\n\"ymin\":\"minErr\",\n\"ymax\":\"maxErr\"\n},\n\"stat\":\"identity\",\n\"sampling\":\"none\",\n\"width\":0.5,\n\"position\":\"identity\",\n\"geom\":\"errorbar\",\n\"data\":{\n}\n},{\n\"mapping\":{\n\"x\":\"name\",\n\"y\":\"textPosition\",\n\"label\":\"label\"\n},\n\"stat\":\"identity\",\n\"size\":5.2,\n\"sampling\":\"none\",\n\"position\":\"identity\",\n\"geom\":\"text\",\n\"data\":{\n}\n}],\n\"theme\":{\n\"flavor\":\"solarized_light\"\n}\n};\n       var plotContainer = document.getElementById(\"Y3p5nZ\");\n       LetsPlot.buildPlotFromProcessedSpecs(plotSpec, -1, -1, plotContainer);\n   </script>    ",
      "application/plot+json": {
       "output_type": "lets_plot_spec",
       "output": {
        "ggtitle": {
         "text": "BoxRecreation",
         "subtitle": "ART"
        },
        "mapping": {},
        "data": {
         "score": [
          509.38153,
          2977.4636,
          2981.6963,
          526.6759,
          608.4585,
          3860.2712,
          605.633,
          536.92584,
          2951.151,
          3071.3005,
          514.65533,
          627.8473,
          3857.2102,
          606.49255
         ],
         "textPosition": [
          254.69077,
          1488.7318,
          1490.8481,
          263.33795,
          304.22925,
          1930.1356,
          302.8165,
          268.46292,
          1475.5754,
          1535.6503,
          257.32767,
          313.92365,
          1928.6051,
          303.24628
         ],
         "name": [
          "baselineInt",
          "longPackInt",
          "valueInt",
          "valuePreserveBoxInt",
          "baselineLong",
          "valueLong",
          "valuePreserveBoxLong",
          "baselineFloat",
          "longPackFloat",
          "valueFloat",
          "valuePreserveBoxFloat",
          "baselineDouble",
          "valueDouble",
          "valuePreserveBoxDouble"
         ],
         "minErr": [
          482.71335,
          2797.7576,
          2823.4263,
          486.57047,
          588.1794,
          3609.9148,
          572.7121,
          511.59753,
          2759.0889,
          2888.6082,
          495.79495,
          593.0593,
          3650.1362,
          571.59
         ],
         "label": [
          "100%\n±\n5.2%\nInt",
          "585%\n±\n35.3%\nInt",
          "585%\n±\n31.1%\nInt",
          "103%\n±\n7.9%\nInt",
          "100%\n±\n3.3%\nLong",
          "634%\n±\n41.1%\nLong",
          "100%\n±\n5.4%\nLong",
          "100%\n±\n4.7%\nFloat",
          "550%\n±\n35.8%\nFloat",
          "572%\n±\n34.0%\nFloat",
          "96%\n±\n3.5%\nFloat",
          "100%\n±\n5.5%\nDouble",
          "614%\n±\n33.0%\nDouble",
          "97%\n±\n5.6%\nDouble"
         ],
         "type": [
          "Int",
          "Int",
          "Int",
          "Int",
          "Long",
          "Long",
          "Long",
          "Float",
          "Float",
          "Float",
          "Float",
          "Double",
          "Double",
          "Double"
         ],
         "maxErr": [
          536.04974,
          3157.1697,
          3139.9663,
          566.7814,
          628.7377,
          4110.628,
          638.55383,
          562.25415,
          3143.2131,
          3253.9932,
          533.51575,
          662.63525,
          4064.284,
          641.39514
         ]
        },
        "ggsize": {
         "width": 800.0,
         "height": 600.0
        },
        "kind": "plot",
        "scales": [
         {
          "aesthetic": "x",
          "breaks": [
           "baselineInt",
           "longPackInt",
           "valueInt",
           "valuePreserveBoxInt",
           "baselineLong",
           "valueLong",
           "valuePreserveBoxLong",
           "baselineFloat",
           "longPackFloat",
           "valueFloat",
           "valuePreserveBoxFloat",
           "baselineDouble",
           "valueDouble",
           "valuePreserveBoxDouble"
          ],
          "name": "Benchmark",
          "labels": [
           "baseline",
           "longPack",
           "value",
           "valuePreserveBox",
           "baseline",
           "value",
           "valuePreserveBox",
           "baseline",
           "longPack",
           "value",
           "valuePreserveBox",
           "baseline",
           "value",
           "valuePreserveBox"
          ]
         },
         {
          "aesthetic": "y",
          "name": "ns/op",
          "limits": [
           null,
           null
          ]
         },
         {
          "aesthetic": "fill",
          "discrete": true,
          "name": "Type",
          "guide": {
           "name": "legend"
          }
         },
         {
          "aesthetic": "x"
         },
         {
          "aesthetic": "x"
         },
         {
          "aesthetic": "y",
          "limits": [
           null,
           null
          ]
         }
        ],
        "layers": [
         {
          "mapping": {
           "x": "name",
           "y": "score",
           "fill": "type"
          },
          "stat": "identity",
          "sampling": "none",
          "position": "dodge",
          "geom": "bar",
          "tooltips": {
           "lines": [
            "Type|@type",
            "Benchmark|@name",
            "Score|@score"
           ]
          }
         },
         {
          "mapping": {
           "x": "name",
           "ymin": "minErr",
           "ymax": "maxErr"
          },
          "stat": "identity",
          "sampling": "none",
          "width": 0.5,
          "position": "identity",
          "geom": "errorbar"
         },
         {
          "mapping": {
           "x": "name",
           "y": "textPosition",
           "label": "label"
          },
          "stat": "identity",
          "size": 5.2,
          "sampling": "none",
          "position": "identity",
          "geom": "text"
         }
        ],
        "theme": {
         "flavor": "solarized_light"
        }
       },
       "apply_color_scheme": true,
       "swing_enabled": true
      }
     },
     "metadata": {},
     "output_type": "display_data"
    }
   ],
   "source": [
    "makePlot(\"Wolf3d\", \"ART\", readArtBenchmarkData(\"Wolf3dBenchmark\"))?.let { DISPLAY(it) }\n",
    "makePlot(\"Ackermann\", \"ART\", readArtBenchmarkData(\"AckermannBenchmark\"))?.let { DISPLAY(it) }\n",
    "makePlot(\"BoxRecreation\", \"ART\", readArtBenchmarkData(\"BoxRecreationBenchmark\"))?.let { DISPLAY(it) }"
   ],
   "metadata": {
    "collapsed": false,
    "ExecuteTime": {
     "end_time": "2023-05-09T13:13:27.752889Z",
     "start_time": "2023-05-09T13:13:27.250653Z"
    }
   }
  }
 ],
 "metadata": {
  "kernelspec": {
   "display_name": "Kotlin",
   "language": "kotlin",
   "name": "kotlin"
  },
  "language_info": {
   "name": "kotlin",
   "version": "1.8.0",
   "mimetype": "text/x-kotlin",
   "file_extension": ".kt",
   "pygments_lexer": "kotlin",
   "codemirror_mode": "text/x-kotlin",
   "nbconvert_exporter": ""
  },
  "ktnbPluginMetadata": {
   "isAddProjectLibrariesToClasspath": false
  }
 },
 "nbformat": 4,
 "nbformat_minor": 0
}
