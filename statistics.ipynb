{
 "cells": [
  {
   "cell_type": "code",
   "execution_count": 111,
   "metadata": {
    "collapsed": true,
    "ExecuteTime": {
     "start_time": "2023-04-09T09:10:13.197605Z",
     "end_time": "2023-04-09T09:10:13.364461Z"
    }
   },
   "outputs": [
    {
     "data": {
      "text/plain": "baselineDouble: 412211.953 ± 2577.468 ns/op\nbaselineFloat: 354736.155 ± 11537.748 ns/op\ninlineDouble: 369105.338 ± 3491.826 ns/op\ninlineFloat: 356722.872 ± 12582.934 ns/op\nlongPackFloat: 586244.873 ± 37386.012 ns/op\nmutableRefDouble: 365144.456 ± 2842.053 ns/op\nmutableRefFloatIn1Long: 565775.282 ± 2495.777 ns/op\nmutableRefFloatIn2Longs: 353739.675 ± 1365.508 ns/op\nvalueDouble: 247183.059 ± 1857.298 ns/op\nvalueFloat: 248457.325 ± 2510.454 ns/op\nvalueInlineDouble: 251691.341 ± 704.228 ns/op\nvalueInlineFloat: 255053.067 ± 5392.743 ns/op"
     },
     "execution_count": 111,
     "metadata": {},
     "output_type": "execute_result"
    }
   ],
   "source": [
    "import java.nio.file.Files\n",
    "import java.nio.file.Path\n",
    "\n",
    "data class BenchmarkData(val name: String, val score: Double, val error: Double) {\n",
    "    override fun toString(): String = \"$name: $score ± $error ns/op\"\n",
    "}\n",
    "\n",
    "val benchmarkLines = Files.readAllLines(Path.of(\"build\", \"results\", \"jmh\", \"results.txt\"))\n",
    "    .mapNotNull {\n",
    "        val r = Regex(\"JmhBenchmark\\\\.([^ ]+) +avgt +\\\\d+ +([0-9.]+) +± +([0-9.]+) +ns/op\")\n",
    "        val match = r.matchEntire(it) ?: return@mapNotNull null\n",
    "        BenchmarkData(\n",
    "            match.groups[1]!!.value,\n",
    "            match.groups[2]!!.value.toDouble(),\n",
    "            match.groups[3]!!.value.toDouble(),\n",
    "        )\n",
    "    }\n",
    "benchmarkLines.joinToString(\"\\n\")"
   ]
  },
  {
   "cell_type": "code",
   "execution_count": 112,
   "outputs": [
    {
     "data": {
      "text/html": "   <div id=\"fZQEa2\"></div>\n   <script type=\"text/javascript\" data-lets-plot-script=\"library\">\n       if(!window.letsPlotCallQueue) {\n           window.letsPlotCallQueue = [];\n       }; \n       window.letsPlotCall = function(f) {\n           window.letsPlotCallQueue.push(f);\n       };\n       (function() {\n           var script = document.createElement(\"script\");\n           script.type = \"text/javascript\";\n           script.src = \"https://cdn.jsdelivr.net/gh/JetBrains/lets-plot@v3.0.0/js-package/distr/lets-plot.min.js\";\n           script.onload = function() {\n               window.letsPlotCall = function(f) {f();};\n               window.letsPlotCallQueue.forEach(function(f) {f();});\n               window.letsPlotCallQueue = [];\n               \n               \n           };\n           script.onerror = function(event) {\n               window.letsPlotCall = function(f) {};\n               window.letsPlotCallQueue = [];\n               var div = document.createElement(\"div\");\n               div.style.color = 'darkred';\n               div.textContent = 'Error loading Lets-Plot JS';\n               document.getElementById(\"fZQEa2\").appendChild(div);\n           };\n           var e = document.getElementById(\"fZQEa2\");\n           e.appendChild(script);\n       })();\n   </script>"
     },
     "metadata": {},
     "output_type": "display_data"
    }
   ],
   "source": [
    "%use lets-plot"
   ],
   "metadata": {
    "collapsed": false,
    "ExecuteTime": {
     "start_time": "2023-04-09T09:10:13.360106Z",
     "end_time": "2023-04-09T09:10:18.219853Z"
    }
   }
  },
  {
   "cell_type": "code",
   "execution_count": 113,
   "outputs": [
    {
     "data": {
      "text/html": "   <div id=\"PRbmpC\"></div>\n   <script type=\"text/javascript\" data-lets-plot-script=\"plot\">\n       (function() {\n           var plotSpec={\n\"ggtitle\":{\n\"text\":\"Microbenchmark of 3D scene rendering\"\n},\n\"mapping\":{\n},\n\"ggsize\":{\n\"width\":1000.0,\n\"height\":800.0\n},\n\"kind\":\"plot\",\n\"scales\":[{\n\"aesthetic\":\"y\",\n\"name\":\"ns/op\"\n},{\n\"aesthetic\":\"fill\",\n\"name\":\"Benchmark\"\n},{\n\"aesthetic\":\"x\",\n\"breaks\":[\"baselineDouble\",\"baselineFloat\",\"inlineDouble\",\"inlineFloat\",\"longPackFloat\",\"mutableRefDouble\",\"mutableRefFloatIn1Long\",\"mutableRefFloatIn2Longs\",\"valueDouble\",\"valueFloat\",\"valueInlineDouble\",\"valueInlineFloat\"],\n\"name\":\"\",\n\"limits\":[\"baselineDouble\",\"baselineFloat\",\"inlineDouble\",\"inlineFloat\",\"longPackFloat\",\"mutableRefDouble\",\"mutableRefFloatIn1Long\",\"mutableRefFloatIn2Longs\",\"valueDouble\",\"valueFloat\",\"valueInlineDouble\",\"valueInlineFloat\",\"\"],\n\"labels\":[\"baselineDouble\",\"baselineFloat\",\"inlineDouble\",\"inlineFloat\",\"longPackFloat\",\"mutableRefDouble\",\"mutableRefFloatIn1Long\",\"mutableRefFloatIn2Longs\",\"valueDouble\",\"valueFloat\",\"valueInlineDouble\",\"valueInlineFloat\"]\n},{\n\"aesthetic\":\"y\",\n\"name\":\"ns/op\",\n\"limits\":[0.0,604937.8790000001]\n}],\n\"layers\":[{\n\"mapping\":{\n\"x\":\"x\",\n\"y\":\"y\",\n\"fill\":\"fill\"\n},\n\"stat\":\"identity\",\n\"position\":\"stack\",\n\"geom\":\"bar\",\n\"data\":{\n\"x\":[\"baselineDouble\",\"baselineFloat\",\"inlineDouble\",\"inlineFloat\",\"longPackFloat\",\"mutableRefDouble\",\"mutableRefFloatIn1Long\",\"mutableRefFloatIn2Longs\",\"valueDouble\",\"valueFloat\",\"valueInlineDouble\",\"valueInlineFloat\"],\n\"y\":[412211.953,354736.155,369105.338,356722.872,586244.873,365144.456,565775.282,353739.675,247183.059,248457.325,251691.341,255053.067],\n\"fill\":[\"baselineDouble\",\"baselineFloat\",\"inlineDouble\",\"inlineFloat\",\"longPackFloat\",\"mutableRefDouble\",\"mutableRefFloatIn1Long\",\"mutableRefFloatIn2Longs\",\"valueDouble\",\"valueFloat\",\"valueInlineDouble\",\"valueInlineFloat\"]\n}\n},{\n\"mapping\":{\n\"x\":\"x1\",\n\"ymin\":\"ymin\",\n\"ymax\":\"ymax\"\n},\n\"stat\":\"identity\",\n\"size\":0.6,\n\"width\":0.5,\n\"position\":\"dodge\",\n\"geom\":\"errorbar\",\n\"data\":{\n\"ymin\":[410923.219,348967.281,367359.425,350431.40499999997,567551.867,363723.4295,564527.3935,353056.921,246254.41,247202.098,251339.22699999998,252356.6955],\n\"ymax\":[413500.687,360505.02900000004,370851.251,363014.339,604937.8790000001,366565.4825,567023.1705,354422.429,248111.708,249712.55200000003,252043.455,257749.43850000002],\n\"x1\":[\"baselineDouble\",\"baselineFloat\",\"inlineDouble\",\"inlineFloat\",\"longPackFloat\",\"mutableRefDouble\",\"mutableRefFloatIn1Long\",\"mutableRefFloatIn2Longs\",\"valueDouble\",\"valueFloat\",\"valueInlineDouble\",\"valueInlineFloat\"]\n}\n},{\n\"mapping\":{\n\"x\":\"x2\",\n\"y\":\"y1\",\n\"label\":\"label\"\n},\n\"stat\":\"identity\",\n\"size\":5.0,\n\"position\":{\n\"name\":\"stack\",\n\"vjust\":0.5,\n\"kind\":\"pos\"\n},\n\"geom\":\"text\",\n\"data\":{\n\"y1\":[412211.953,354736.155,369105.338,356722.872,586244.873,365144.456,565775.282,353739.675,247183.059,248457.325,251691.341,255053.067],\n\"x2\":[\"baselineDouble\",\"baselineFloat\",\"inlineDouble\",\"inlineFloat\",\"longPackFloat\",\"mutableRefDouble\",\"mutableRefFloatIn1Long\",\"mutableRefFloatIn2Longs\",\"valueDouble\",\"valueFloat\",\"valueInlineDouble\",\"valueInlineFloat\"],\n\"label\":[\"100%\\n±\\n0.6%\\nDouble\",\"100%\\n±\\n3.3%\\nFloat\",\"90%\\n±\\n0.8%\\nDouble\",\"101%\\n±\\n3.5%\\nFloat\",\"165%\\n±\\n10.5%\\nFloat\",\"89%\\n±\\n0.7%\\nDouble\",\"159%\\n±\\n0.7%\\nFloat\",\"100%\\n±\\n0.4%\\nFloat\",\"60%\\n±\\n0.5%\\nDouble\",\"70%\\n±\\n0.7%\\nFloat\",\"61%\\n±\\n0.2%\\nDouble\",\"72%\\n±\\n1.5%\\nFloat\"]\n}\n}],\n\"theme\":{\n\"plot_title\":{\n\"hjust\":0.5,\n\"blank\":false\n},\n\"legend_position\":\"right\"\n}\n};\n           var plotContainer = document.getElementById(\"PRbmpC\");\n           window.letsPlotCall(function() {{\n               LetsPlot.buildPlotFromProcessedSpecs(plotSpec, -1, -1, plotContainer);\n           }});\n       })();    \n   </script>"
     },
     "metadata": {},
     "output_type": "display_data"
    }
   ],
   "source": [
    "import org.jetbrains.letsPlot.intern.PosKind\n",
    "import org.jetbrains.letsPlot.intern.StatKind\n",
    "import org.jetbrains.letsPlot.intern.layer.PosOptions\n",
    "import org.jetbrains.letsPlot.intern.layer.StatOptions\n",
    "\n",
    "val names = benchmarkLines.map { it.name }\n",
    "val scores = benchmarkLines.map { it.score }\n",
    "val scoresMinusErrors = benchmarkLines.map { it.score - it.error / 2 }\n",
    "val scoresPlusErrors = benchmarkLines.map { it.score + it.error / 2 }\n",
    "val baseline = listOf(\"Float\", \"Double\").associateWith { type ->\n",
    "    benchmarkLines.single { it.name == \"baseline$type\" }\n",
    "}\n",
    "val plot = letsPlot() +\n",
    "        labs(\"Microbenchmark of 3D scene rendering\", fill = \"Benchmark\", y = \"ns/op\") +\n",
    "        geomBar(stat = StatOptions(kind = StatKind.IDENTITY)) {\n",
    "            x = names\n",
    "            y = scores\n",
    "            fill = names\n",
    "        } +\n",
    "        geomErrorBar(\n",
    "            width = 0.5,\n",
    "            position = PosOptions(kind = PosKind.DODGE),\n",
    "            size = 0.6\n",
    "        ) {\n",
    "            x = names\n",
    "            ymin = scoresMinusErrors\n",
    "            ymax = scoresPlusErrors\n",
    "        } +\n",
    "        geomText(\n",
    "            stat = StatOptions(kind = StatKind.IDENTITY),\n",
    "            position = positionStack(vjust = 0.5),\n",
    "            size = 5,\n",
    "        ) {\n",
    "            x = names\n",
    "            y = scores\n",
    "            label = benchmarkLines.map {\n",
    "                val isFloat = it.name.contains(\"Float\")\n",
    "                val type = if (isFloat) \"Float\" else \"Double\"\n",
    "                val score = it.score / baseline[type]!!.score\n",
    "                val error = it.error / baseline[type]!!.score\n",
    "                \"${String.format(\"%.0f\", score * 100)}%\\n±\\n${String.format(\"%.1f\", error * 100)}%\\n${type}\"\n",
    "            }\n",
    "        } +\n",
    "        scaleXDiscrete(\n",
    "            labels = names,\n",
    "            name = \"\",\n",
    "            limits = names + listOf(\"\"),\n",
    "            breaks = names.toList()\n",
    "        ) +\n",
    "        scaleYContinuous(limits = 0 to scoresPlusErrors.max(), name = \"ns/op\") +\n",
    "        theme(plotTitle = elementText(hjust = 0.5)).legendPositionRight() +\n",
    "        ggsize(1000, 800)\n",
    "\n",
    "\n",
    "plot.show()"
   ],
   "metadata": {
    "collapsed": false,
    "ExecuteTime": {
     "start_time": "2023-04-09T09:10:18.212061Z",
     "end_time": "2023-04-09T09:10:18.758043Z"
    }
   }
  },
  {
   "cell_type": "code",
   "execution_count": 114,
   "outputs": [
    {
     "data": {
      "text/plain": "/Users/Evgeniy.Zhelenskiy/IdeaProjects/Wolf3d/lets-plot-images/results.svg"
     },
     "execution_count": 114,
     "metadata": {},
     "output_type": "execute_result"
    }
   ],
   "source": [
    "ggsave(plot = plot, filename = \"results.svg\")"
   ],
   "metadata": {
    "collapsed": false,
    "ExecuteTime": {
     "start_time": "2023-04-09T09:10:18.755395Z",
     "end_time": "2023-04-09T09:10:18.827251Z"
    }
   }
  }
 ],
 "metadata": {
  "kernelspec": {
   "display_name": "Kotlin",
   "language": "kotlin",
   "name": "kotlin"
  },
  "language_info": {
   "name": "kotlin",
   "version": "1.8.0",
   "mimetype": "text/x-kotlin",
   "file_extension": ".kt",
   "pygments_lexer": "kotlin",
   "codemirror_mode": "text/x-kotlin",
   "nbconvert_exporter": ""
  }
 },
 "nbformat": 4,
 "nbformat_minor": 0
}
