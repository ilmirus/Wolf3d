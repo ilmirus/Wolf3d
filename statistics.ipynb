{
 "cells": [
  {
   "cell_type": "code",
   "execution_count": 49,
   "metadata": {
    "collapsed": true,
    "ExecuteTime": {
     "start_time": "2023-04-24T15:19:44.023329Z",
     "end_time": "2023-04-24T15:19:44.385624Z"
    }
   },
   "outputs": [
    {
     "data": {
      "text/plain": "baselineFloat: 3.3197973525E7 ± 154895.663 ns/op\ninlineFloat: 3.2854524192E7 ± 187687.244 ns/op\nlongPackFloat: 5.6029136127E7 ± 49003.45 ns/op\nmutableRefFloatIn1Long: 6.4553914124E7 ± 389302.707 ns/op\nmutableRefFloatIn2Longs: 3.9385519158E7 ± 228039.197 ns/op\nvalueFloat: 2.5007839893E7 ± 61239.655 ns/op\nvalueInlineFloat: 2.5033691073E7 ± 43272.321 ns/op\nvaluePreserveBoxFloat: 2.5045356928E7 ± 39915.856 ns/op\nbaselineDouble: 3.4183342161E7 ± 179414.77 ns/op\ninlineDouble: 3.4746828463E7 ± 215704.987 ns/op\nmutableRefDouble: 4.0317501886E7 ± 565618.853 ns/op\nvalueDouble: 2.4596098315E7 ± 40779.822 ns/op\nvalueInlineDouble: 2.4578034483E7 ± 57816.984 ns/op\nvaluePreserveBoxDouble: 2.4637674513E7 ± 46559.077 ns/op"
     },
     "execution_count": 49,
     "metadata": {},
     "output_type": "execute_result"
    }
   ],
   "source": [
    "import java.nio.file.Files\n",
    "import java.nio.file.Path\n",
    "\n",
    "data class BenchmarkData(val name: String, val score: Double, val error: Double) {\n",
    "    val type = getType(name)\n",
    "    override fun toString(): String = \"$name: $score ± $error ns/op\"\n",
    "}\n",
    "\n",
    "enum class Type { Int, Long, Float, Double }\n",
    "\n",
    "fun getType(name: String) = when {\n",
    "    name.contains(\"Float\") -> Type.Float\n",
    "    name.contains(\"Int\") -> Type.Int\n",
    "    name.contains(\"Double\") -> Type.Double\n",
    "    name.contains(\"Long\") -> Type.Long // Long must be the last as it is contained in other test names\n",
    "    else -> error(\"Unknown type: ${name}\")\n",
    "}\n",
    "\n",
    "fun readHotspotBenchmarkData(benchmarkName: String) = Files.readAllLines(Path.of(\"build\", \"results\", \"jmh\", \"results.txt\"))\n",
    "    .mapNotNull {\n",
    "        val r = Regex(\"$benchmarkName\\\\.([^ ]+) +avgt +\\\\d+ +([0-9.]+) +± +([0-9.]+) +ns/op\")\n",
    "        val match = r.matchEntire(it) ?: return@mapNotNull null\n",
    "        BenchmarkData(\n",
    "            name = match.groups[1]!!.value,\n",
    "            score = match.groups[2]!!.value.toDouble(),\n",
    "            error = match.groups[3]!!.value.toDouble(),\n",
    "        )\n",
    "    }.sortedBy { it.type }\n",
    "(readHotspotBenchmarkData(\"Wolf3dBenchmark\") + readHotspotBenchmarkData(\"FibonacciBenchmark\")).joinToString(\"\\n\")"
   ]
  },
  {
   "cell_type": "code",
   "execution_count": 50,
   "outputs": [
    {
     "data": {
      "text/html": "   <div id=\"IYd0kB\"></div>\n   <script type=\"text/javascript\" data-lets-plot-script=\"library\">\n       if(!window.letsPlotCallQueue) {\n           window.letsPlotCallQueue = [];\n       }; \n       window.letsPlotCall = function(f) {\n           window.letsPlotCallQueue.push(f);\n       };\n       (function() {\n           var script = document.createElement(\"script\");\n           script.type = \"text/javascript\";\n           script.src = \"https://cdn.jsdelivr.net/gh/JetBrains/lets-plot@v3.0.0/js-package/distr/lets-plot.min.js\";\n           script.onload = function() {\n               window.letsPlotCall = function(f) {f();};\n               window.letsPlotCallQueue.forEach(function(f) {f();});\n               window.letsPlotCallQueue = [];\n               \n               \n           };\n           script.onerror = function(event) {\n               window.letsPlotCall = function(f) {};\n               window.letsPlotCallQueue = [];\n               var div = document.createElement(\"div\");\n               div.style.color = 'darkred';\n               div.textContent = 'Error loading Lets-Plot JS';\n               document.getElementById(\"IYd0kB\").appendChild(div);\n           };\n           var e = document.getElementById(\"IYd0kB\");\n           e.appendChild(script);\n       })();\n   </script>"
     },
     "metadata": {},
     "output_type": "display_data"
    }
   ],
   "source": [
    "%use lets-plot"
   ],
   "metadata": {
    "collapsed": false,
    "ExecuteTime": {
     "start_time": "2023-04-24T15:19:44.380650Z",
     "end_time": "2023-04-24T15:20:50.358802Z"
    }
   }
  },
  {
   "cell_type": "code",
   "execution_count": 51,
   "outputs": [],
   "source": [
    "import org.jetbrains.letsPlot.intern.PosKind\n",
    "import org.jetbrains.letsPlot.intern.StatKind\n",
    "import org.jetbrains.letsPlot.intern.layer.PosOptions\n",
    "import org.jetbrains.letsPlot.intern.layer.StatOptions\n",
    "\n",
    "fun makePlot(name: String, platform: String, benchmarkLines: List<BenchmarkData>) {\n",
    "    if (benchmarkLines.isEmpty()) return\n",
    "    val names = benchmarkLines.map { it.name }\n",
    "    val scores = benchmarkLines.map { it.score }\n",
    "    val scoresMinusErrors = benchmarkLines.map { it.score - it.error / 2 }\n",
    "    val scoresPlusErrors = benchmarkLines.map { it.score + it.error / 2 }\n",
    "    val baseline = benchmarkLines.filter { it.name.startsWith(\"baseline\") }.groupBy { it.type }.mapValues { (_, v) -> v.single() }\n",
    "    val maxScore = scoresPlusErrors.max()\n",
    "    val plot = letsPlot() +\n",
    "            labs(\"$name ($platform)\", fill = \"Benchmark\", y = \"ns/op\") +\n",
    "            geomBar(stat = StatOptions(kind = StatKind.IDENTITY)) {\n",
    "                x = names\n",
    "                y = scores\n",
    "                fill = names\n",
    "            } +\n",
    "            geomErrorBar(\n",
    "                width = 0.5,\n",
    "                position = PosOptions(kind = PosKind.DODGE),\n",
    "                size = 0.6\n",
    "            ) {\n",
    "                x = names\n",
    "                ymin = scoresMinusErrors\n",
    "                ymax = scoresPlusErrors\n",
    "            } +\n",
    "            geomText(\n",
    "                stat = StatOptions(kind = StatKind.IDENTITY),\n",
    "                position = positionStack(vjust = 1.0),\n",
    "                size = 4.5,\n",
    "            ) {\n",
    "                x = names\n",
    "                y = scores.map {\n",
    "                    val threshold = 0.08\n",
    "                    if (it < maxScore * threshold) it + threshold * maxScore / 2 else it / 2\n",
    "                }\n",
    "                label = benchmarkLines.map {\n",
    "                    val score = it.score / baseline[it.type]!!.score\n",
    "                    val error = it.error / baseline[it.type]!!.score\n",
    "                    \"${String.format(\"%.0f\", score * 100)}%\\n±\\n${String.format(\"%.1f\", error * 100)}%\\n${it.type}\"\n",
    "                }\n",
    "            } +\n",
    "            scaleXDiscrete(\n",
    "                labels = names,\n",
    "                name = \"\",\n",
    "                limits = names + listOf(\"\"),\n",
    "                breaks = names.toList()\n",
    "            ) +\n",
    "            scaleYContinuous(limits = 0 to maxScore, name = \"ns/op\") +\n",
    "            theme(plotTitle = elementText(hjust = 0.5)).legendPositionRight() +\n",
    "            ggsize(1000, 800)\n",
    "    ggsave(plot = plot, filename = \"$name ($platform).svg\")\n",
    "    plot.show()\n",
    "}\n"
   ],
   "metadata": {
    "collapsed": false,
    "ExecuteTime": {
     "start_time": "2023-04-24T15:20:50.352454Z",
     "end_time": "2023-04-24T15:20:51.041828Z"
    }
   }
  },
  {
   "cell_type": "code",
   "execution_count": 52,
   "outputs": [
    {
     "data": {
      "text/html": "   <div id=\"LzEA9K\"></div>\n   <script type=\"text/javascript\" data-lets-plot-script=\"plot\">\n       (function() {\n           var plotSpec={\n\"ggtitle\":{\n\"text\":\"Wolf3d (Hotspot)\"\n},\n\"mapping\":{\n},\n\"ggsize\":{\n\"width\":1000.0,\n\"height\":800.0\n},\n\"kind\":\"plot\",\n\"scales\":[{\n\"aesthetic\":\"y\",\n\"name\":\"ns/op\"\n},{\n\"aesthetic\":\"fill\",\n\"name\":\"Benchmark\"\n},{\n\"aesthetic\":\"x\",\n\"breaks\":[\"baselineFloat\",\"inlineFloat\",\"longPackFloat\",\"mutableRefFloatIn1Long\",\"mutableRefFloatIn2Longs\",\"valueFloat\",\"valueInlineFloat\",\"valuePreserveBoxFloat\",\"baselineDouble\",\"inlineDouble\",\"mutableRefDouble\",\"valueDouble\",\"valueInlineDouble\",\"valuePreserveBoxDouble\"],\n\"name\":\"\",\n\"limits\":[\"baselineFloat\",\"inlineFloat\",\"longPackFloat\",\"mutableRefFloatIn1Long\",\"mutableRefFloatIn2Longs\",\"valueFloat\",\"valueInlineFloat\",\"valuePreserveBoxFloat\",\"baselineDouble\",\"inlineDouble\",\"mutableRefDouble\",\"valueDouble\",\"valueInlineDouble\",\"valuePreserveBoxDouble\",\"\"],\n\"labels\":[\"baselineFloat\",\"inlineFloat\",\"longPackFloat\",\"mutableRefFloatIn1Long\",\"mutableRefFloatIn2Longs\",\"valueFloat\",\"valueInlineFloat\",\"valuePreserveBoxFloat\",\"baselineDouble\",\"inlineDouble\",\"mutableRefDouble\",\"valueDouble\",\"valueInlineDouble\",\"valuePreserveBoxDouble\"]\n},{\n\"aesthetic\":\"y\",\n\"name\":\"ns/op\",\n\"limits\":[0.0,6.47485654775E7]\n}],\n\"layers\":[{\n\"mapping\":{\n\"x\":\"x\",\n\"y\":\"y\",\n\"fill\":\"fill\"\n},\n\"stat\":\"identity\",\n\"position\":\"stack\",\n\"geom\":\"bar\",\n\"data\":{\n\"x\":[\"baselineFloat\",\"inlineFloat\",\"longPackFloat\",\"mutableRefFloatIn1Long\",\"mutableRefFloatIn2Longs\",\"valueFloat\",\"valueInlineFloat\",\"valuePreserveBoxFloat\",\"baselineDouble\",\"inlineDouble\",\"mutableRefDouble\",\"valueDouble\",\"valueInlineDouble\",\"valuePreserveBoxDouble\"],\n\"y\":[3.3197973525E7,3.2854524192E7,5.6029136127E7,6.4553914124E7,3.9385519158E7,2.5007839893E7,2.5033691073E7,2.5045356928E7,3.4183342161E7,3.4746828463E7,4.0317501886E7,2.4596098315E7,2.4578034483E7,2.4637674513E7],\n\"fill\":[\"baselineFloat\",\"inlineFloat\",\"longPackFloat\",\"mutableRefFloatIn1Long\",\"mutableRefFloatIn2Longs\",\"valueFloat\",\"valueInlineFloat\",\"valuePreserveBoxFloat\",\"baselineDouble\",\"inlineDouble\",\"mutableRefDouble\",\"valueDouble\",\"valueInlineDouble\",\"valuePreserveBoxDouble\"]\n}\n},{\n\"mapping\":{\n\"x\":\"x1\",\n\"ymin\":\"ymin\",\n\"ymax\":\"ymax\"\n},\n\"stat\":\"identity\",\n\"size\":0.6,\n\"width\":0.5,\n\"position\":\"dodge\",\n\"geom\":\"errorbar\",\n\"data\":{\n\"ymin\":[3.3120525693499997E7,3.276068057E7,5.6004634401999995E7,6.43592627705E7,3.92714995595E7,2.49772200655E7,2.5012054912499998E7,2.5025399E7,3.4093634776E7,3.46389759695E7,4.00346924595E7,2.4575708404000003E7,2.4549125991E7,2.46143949745E7],\n\"ymax\":[3.32754213565E7,3.2948367814000003E7,5.6053637852E7,6.47485654775E7,3.94995387565E7,2.50384597205E7,2.50553272335E7,2.5065314856E7,3.4273049546E7,3.48546809565E7,4.06003113125E7,2.4616488226E7,2.4606942974999998E7,2.46609540515E7],\n\"x1\":[\"baselineFloat\",\"inlineFloat\",\"longPackFloat\",\"mutableRefFloatIn1Long\",\"mutableRefFloatIn2Longs\",\"valueFloat\",\"valueInlineFloat\",\"valuePreserveBoxFloat\",\"baselineDouble\",\"inlineDouble\",\"mutableRefDouble\",\"valueDouble\",\"valueInlineDouble\",\"valuePreserveBoxDouble\"]\n}\n},{\n\"mapping\":{\n\"x\":\"x2\",\n\"y\":\"y1\",\n\"label\":\"label\"\n},\n\"stat\":\"identity\",\n\"size\":4.5,\n\"position\":{\n\"name\":\"stack\",\n\"vjust\":1.0,\n\"kind\":\"pos\"\n},\n\"geom\":\"text\",\n\"data\":{\n\"y1\":[1.65989867625E7,1.6427262096E7,2.80145680635E7,3.2276957062E7,1.9692759579E7,1.25039199465E7,1.25168455365E7,1.2522678464E7,1.70916710805E7,1.73734142315E7,2.0158750943E7,1.22980491575E7,1.22890172415E7,1.23188372565E7],\n\"x2\":[\"baselineFloat\",\"inlineFloat\",\"longPackFloat\",\"mutableRefFloatIn1Long\",\"mutableRefFloatIn2Longs\",\"valueFloat\",\"valueInlineFloat\",\"valuePreserveBoxFloat\",\"baselineDouble\",\"inlineDouble\",\"mutableRefDouble\",\"valueDouble\",\"valueInlineDouble\",\"valuePreserveBoxDouble\"],\n\"label\":[\"100%\\n±\\n0.5%\\nFloat\",\"99%\\n±\\n0.6%\\nFloat\",\"169%\\n±\\n0.1%\\nFloat\",\"194%\\n±\\n1.2%\\nFloat\",\"119%\\n±\\n0.7%\\nFloat\",\"75%\\n±\\n0.2%\\nFloat\",\"75%\\n±\\n0.1%\\nFloat\",\"75%\\n±\\n0.1%\\nFloat\",\"100%\\n±\\n0.5%\\nDouble\",\"102%\\n±\\n0.6%\\nDouble\",\"118%\\n±\\n1.7%\\nDouble\",\"72%\\n±\\n0.1%\\nDouble\",\"72%\\n±\\n0.2%\\nDouble\",\"72%\\n±\\n0.1%\\nDouble\"]\n}\n}],\n\"theme\":{\n\"plot_title\":{\n\"hjust\":0.5,\n\"blank\":false\n},\n\"legend_position\":\"right\"\n}\n};\n           var plotContainer = document.getElementById(\"LzEA9K\");\n           window.letsPlotCall(function() {{\n               LetsPlot.buildPlotFromProcessedSpecs(plotSpec, -1, -1, plotContainer);\n           }});\n       })();    \n   </script>"
     },
     "metadata": {},
     "output_type": "display_data"
    },
    {
     "data": {
      "text/html": "   <div id=\"9aQbye\"></div>\n   <script type=\"text/javascript\" data-lets-plot-script=\"plot\">\n       (function() {\n           var plotSpec={\n\"ggtitle\":{\n\"text\":\"Ackermann (Hotspot)\"\n},\n\"mapping\":{\n},\n\"ggsize\":{\n\"width\":1000.0,\n\"height\":800.0\n},\n\"kind\":\"plot\",\n\"scales\":[{\n\"aesthetic\":\"y\",\n\"name\":\"ns/op\"\n},{\n\"aesthetic\":\"fill\",\n\"name\":\"Benchmark\"\n},{\n\"aesthetic\":\"x\",\n\"breaks\":[\"baselineInt\",\"longPackInt\",\"mutableRefIntIn1Long\",\"mutableRefIntIn2Longs\",\"valueInt\",\"valuePreserveBoxInt\",\"baselineLong\",\"mutableRefLong\",\"valueLong\",\"valuePreserveBoxLong\",\"baselineFloat\",\"longPackFloat\",\"mutableRefFloatIn1Long\",\"mutableRefFloatIn2Longs\",\"valueFloat\",\"valuePreserveBoxFloat\",\"baselineDouble\",\"mutableRefDouble\",\"valueDouble\",\"valuePreserveBoxDouble\"],\n\"name\":\"\",\n\"limits\":[\"baselineInt\",\"longPackInt\",\"mutableRefIntIn1Long\",\"mutableRefIntIn2Longs\",\"valueInt\",\"valuePreserveBoxInt\",\"baselineLong\",\"mutableRefLong\",\"valueLong\",\"valuePreserveBoxLong\",\"baselineFloat\",\"longPackFloat\",\"mutableRefFloatIn1Long\",\"mutableRefFloatIn2Longs\",\"valueFloat\",\"valuePreserveBoxFloat\",\"baselineDouble\",\"mutableRefDouble\",\"valueDouble\",\"valuePreserveBoxDouble\",\"\"],\n\"labels\":[\"baselineInt\",\"longPackInt\",\"mutableRefIntIn1Long\",\"mutableRefIntIn2Longs\",\"valueInt\",\"valuePreserveBoxInt\",\"baselineLong\",\"mutableRefLong\",\"valueLong\",\"valuePreserveBoxLong\",\"baselineFloat\",\"longPackFloat\",\"mutableRefFloatIn1Long\",\"mutableRefFloatIn2Longs\",\"valueFloat\",\"valuePreserveBoxFloat\",\"baselineDouble\",\"mutableRefDouble\",\"valueDouble\",\"valuePreserveBoxDouble\"]\n},{\n\"aesthetic\":\"y\",\n\"name\":\"ns/op\",\n\"limits\":[0.0,30037.2405]\n}],\n\"layers\":[{\n\"mapping\":{\n\"x\":\"x\",\n\"y\":\"y\",\n\"fill\":\"fill\"\n},\n\"stat\":\"identity\",\n\"position\":\"stack\",\n\"geom\":\"bar\",\n\"data\":{\n\"x\":[\"baselineInt\",\"longPackInt\",\"mutableRefIntIn1Long\",\"mutableRefIntIn2Longs\",\"valueInt\",\"valuePreserveBoxInt\",\"baselineLong\",\"mutableRefLong\",\"valueLong\",\"valuePreserveBoxLong\",\"baselineFloat\",\"longPackFloat\",\"mutableRefFloatIn1Long\",\"mutableRefFloatIn2Longs\",\"valueFloat\",\"valuePreserveBoxFloat\",\"baselineDouble\",\"mutableRefDouble\",\"valueDouble\",\"valuePreserveBoxDouble\"],\n\"y\":[16817.567,8753.621,10593.6,10704.258,12449.932,12456.811,24905.929,10760.196,14782.127,14513.471,17456.444,16996.381,24145.814,18642.238,13634.874,13449.107,26736.253,14153.873,15503.94,15415.45],\n\"fill\":[\"baselineInt\",\"longPackInt\",\"mutableRefIntIn1Long\",\"mutableRefIntIn2Longs\",\"valueInt\",\"valuePreserveBoxInt\",\"baselineLong\",\"mutableRefLong\",\"valueLong\",\"valuePreserveBoxLong\",\"baselineFloat\",\"longPackFloat\",\"mutableRefFloatIn1Long\",\"mutableRefFloatIn2Longs\",\"valueFloat\",\"valuePreserveBoxFloat\",\"baselineDouble\",\"mutableRefDouble\",\"valueDouble\",\"valuePreserveBoxDouble\"]\n}\n},{\n\"mapping\":{\n\"x\":\"x1\",\n\"ymin\":\"ymin\",\n\"ymax\":\"ymax\"\n},\n\"stat\":\"identity\",\n\"size\":0.6,\n\"width\":0.5,\n\"position\":\"dodge\",\n\"geom\":\"errorbar\",\n\"data\":{\n\"ymin\":[16699.5955,8713.568,10560.1415,10643.2845,12379.497000000001,12367.7915,21651.472,10702.182,14611.023000000001,14441.369499999999,17293.929,16957.5145,21620.949,16417.1775,13508.610999999999,13404.072,23435.2655,12905.200499999999,15429.5175,15285.057],\n\"ymax\":[16935.5385,8793.673999999999,10627.058500000001,10765.2315,12520.367,12545.8305,28160.386,10818.21,14953.231,14585.5725,17618.959,17035.2475,26670.678999999996,20867.2985,13761.137,13494.142,30037.2405,15402.5455,15578.362500000001,15545.843],\n\"x1\":[\"baselineInt\",\"longPackInt\",\"mutableRefIntIn1Long\",\"mutableRefIntIn2Longs\",\"valueInt\",\"valuePreserveBoxInt\",\"baselineLong\",\"mutableRefLong\",\"valueLong\",\"valuePreserveBoxLong\",\"baselineFloat\",\"longPackFloat\",\"mutableRefFloatIn1Long\",\"mutableRefFloatIn2Longs\",\"valueFloat\",\"valuePreserveBoxFloat\",\"baselineDouble\",\"mutableRefDouble\",\"valueDouble\",\"valuePreserveBoxDouble\"]\n}\n},{\n\"mapping\":{\n\"x\":\"x2\",\n\"y\":\"y1\",\n\"label\":\"label\"\n},\n\"stat\":\"identity\",\n\"size\":4.5,\n\"position\":{\n\"name\":\"stack\",\n\"vjust\":1.0,\n\"kind\":\"pos\"\n},\n\"geom\":\"text\",\n\"data\":{\n\"y1\":[8408.7835,4376.8105,5296.8,5352.129,6224.966,6228.4055,12452.9645,5380.098,7391.0635,7256.7355,8728.222,8498.1905,12072.907,9321.119,6817.437,6724.5535,13368.1265,7076.9365,7751.97,7707.725],\n\"x2\":[\"baselineInt\",\"longPackInt\",\"mutableRefIntIn1Long\",\"mutableRefIntIn2Longs\",\"valueInt\",\"valuePreserveBoxInt\",\"baselineLong\",\"mutableRefLong\",\"valueLong\",\"valuePreserveBoxLong\",\"baselineFloat\",\"longPackFloat\",\"mutableRefFloatIn1Long\",\"mutableRefFloatIn2Longs\",\"valueFloat\",\"valuePreserveBoxFloat\",\"baselineDouble\",\"mutableRefDouble\",\"valueDouble\",\"valuePreserveBoxDouble\"],\n\"label\":[\"100%\\n±\\n1.4%\\nInt\",\"52%\\n±\\n0.5%\\nInt\",\"63%\\n±\\n0.4%\\nInt\",\"64%\\n±\\n0.7%\\nInt\",\"74%\\n±\\n0.8%\\nInt\",\"74%\\n±\\n1.1%\\nInt\",\"100%\\n±\\n26.1%\\nLong\",\"43%\\n±\\n0.5%\\nLong\",\"59%\\n±\\n1.4%\\nLong\",\"58%\\n±\\n0.6%\\nLong\",\"100%\\n±\\n1.9%\\nFloat\",\"97%\\n±\\n0.4%\\nFloat\",\"138%\\n±\\n28.9%\\nFloat\",\"107%\\n±\\n25.5%\\nFloat\",\"78%\\n±\\n1.4%\\nFloat\",\"77%\\n±\\n0.5%\\nFloat\",\"100%\\n±\\n24.7%\\nDouble\",\"53%\\n±\\n9.3%\\nDouble\",\"58%\\n±\\n0.6%\\nDouble\",\"58%\\n±\\n1.0%\\nDouble\"]\n}\n}],\n\"theme\":{\n\"plot_title\":{\n\"hjust\":0.5,\n\"blank\":false\n},\n\"legend_position\":\"right\"\n}\n};\n           var plotContainer = document.getElementById(\"9aQbye\");\n           window.letsPlotCall(function() {{\n               LetsPlot.buildPlotFromProcessedSpecs(plotSpec, -1, -1, plotContainer);\n           }});\n       })();    \n   </script>"
     },
     "metadata": {},
     "output_type": "display_data"
    },
    {
     "data": {
      "text/html": "   <div id=\"GvntaD\"></div>\n   <script type=\"text/javascript\" data-lets-plot-script=\"plot\">\n       (function() {\n           var plotSpec={\n\"ggtitle\":{\n\"text\":\"BoxRecreation (Hotspot)\"\n},\n\"mapping\":{\n},\n\"ggsize\":{\n\"width\":1000.0,\n\"height\":800.0\n},\n\"kind\":\"plot\",\n\"scales\":[{\n\"aesthetic\":\"y\",\n\"name\":\"ns/op\"\n},{\n\"aesthetic\":\"fill\",\n\"name\":\"Benchmark\"\n},{\n\"aesthetic\":\"x\",\n\"breaks\":[\"baselineInt\",\"longPackInt\",\"valueInt\",\"valuePreserveBoxInt\",\"baselineLong\",\"valueLong\",\"valuePreserveBoxLong\",\"baselineFloat\",\"longPackFloat\",\"valueFloat\",\"valuePreserveBoxFloat\",\"baselineDouble\",\"valueDouble\",\"valuePreserveBoxDouble\"],\n\"name\":\"\",\n\"limits\":[\"baselineInt\",\"longPackInt\",\"valueInt\",\"valuePreserveBoxInt\",\"baselineLong\",\"valueLong\",\"valuePreserveBoxLong\",\"baselineFloat\",\"longPackFloat\",\"valueFloat\",\"valuePreserveBoxFloat\",\"baselineDouble\",\"valueDouble\",\"valuePreserveBoxDouble\",\"\"],\n\"labels\":[\"baselineInt\",\"longPackInt\",\"valueInt\",\"valuePreserveBoxInt\",\"baselineLong\",\"valueLong\",\"valuePreserveBoxLong\",\"baselineFloat\",\"longPackFloat\",\"valueFloat\",\"valuePreserveBoxFloat\",\"baselineDouble\",\"valueDouble\",\"valuePreserveBoxDouble\"]\n},{\n\"aesthetic\":\"y\",\n\"name\":\"ns/op\",\n\"limits\":[0.0,664.147]\n}],\n\"layers\":[{\n\"mapping\":{\n\"x\":\"x\",\n\"y\":\"y\",\n\"fill\":\"fill\"\n},\n\"stat\":\"identity\",\n\"position\":\"stack\",\n\"geom\":\"bar\",\n\"data\":{\n\"x\":[\"baselineInt\",\"longPackInt\",\"valueInt\",\"valuePreserveBoxInt\",\"baselineLong\",\"valueLong\",\"valuePreserveBoxLong\",\"baselineFloat\",\"longPackFloat\",\"valueFloat\",\"valuePreserveBoxFloat\",\"baselineDouble\",\"valueDouble\",\"valuePreserveBoxDouble\"],\n\"y\":[64.029,599.127,625.645,62.527,66.616,662.894,67.744,65.237,621.674,628.039,61.959,68.532,661.004,65.379],\n\"fill\":[\"baselineInt\",\"longPackInt\",\"valueInt\",\"valuePreserveBoxInt\",\"baselineLong\",\"valueLong\",\"valuePreserveBoxLong\",\"baselineFloat\",\"longPackFloat\",\"valueFloat\",\"valuePreserveBoxFloat\",\"baselineDouble\",\"valueDouble\",\"valuePreserveBoxDouble\"]\n}\n},{\n\"mapping\":{\n\"x\":\"x1\",\n\"ymin\":\"ymin\",\n\"ymax\":\"ymax\"\n},\n\"stat\":\"identity\",\n\"size\":0.6,\n\"width\":0.5,\n\"position\":\"dodge\",\n\"geom\":\"errorbar\",\n\"data\":{\n\"ymin\":[63.93749999999999,598.4865,624.6324999999999,62.455,66.4695,661.641,67.5785,65.167,619.7795,627.2005,61.8605,68.4255,659.9455,65.24650000000001],\n\"ymax\":[64.12049999999999,599.7674999999999,626.6575,62.599000000000004,66.7625,664.147,67.9095,65.30699999999999,623.5685,628.8774999999999,62.057500000000005,68.6385,662.0625,65.5115],\n\"x1\":[\"baselineInt\",\"longPackInt\",\"valueInt\",\"valuePreserveBoxInt\",\"baselineLong\",\"valueLong\",\"valuePreserveBoxLong\",\"baselineFloat\",\"longPackFloat\",\"valueFloat\",\"valuePreserveBoxFloat\",\"baselineDouble\",\"valueDouble\",\"valuePreserveBoxDouble\"]\n}\n},{\n\"mapping\":{\n\"x\":\"x2\",\n\"y\":\"y1\",\n\"label\":\"label\"\n},\n\"stat\":\"identity\",\n\"size\":4.5,\n\"position\":{\n\"name\":\"stack\",\n\"vjust\":1.0,\n\"kind\":\"pos\"\n},\n\"geom\":\"text\",\n\"data\":{\n\"y1\":[32.0145,299.5635,312.8225,31.2635,33.308,331.447,33.872,32.6185,310.837,314.0195,30.9795,34.266,330.502,32.6895],\n\"x2\":[\"baselineInt\",\"longPackInt\",\"valueInt\",\"valuePreserveBoxInt\",\"baselineLong\",\"valueLong\",\"valuePreserveBoxLong\",\"baselineFloat\",\"longPackFloat\",\"valueFloat\",\"valuePreserveBoxFloat\",\"baselineDouble\",\"valueDouble\",\"valuePreserveBoxDouble\"],\n\"label\":[\"100%\\n±\\n0.3%\\nInt\",\"936%\\n±\\n2.0%\\nInt\",\"977%\\n±\\n3.2%\\nInt\",\"98%\\n±\\n0.2%\\nInt\",\"100%\\n±\\n0.4%\\nLong\",\"995%\\n±\\n3.8%\\nLong\",\"102%\\n±\\n0.5%\\nLong\",\"100%\\n±\\n0.2%\\nFloat\",\"953%\\n±\\n5.8%\\nFloat\",\"963%\\n±\\n2.6%\\nFloat\",\"95%\\n±\\n0.3%\\nFloat\",\"100%\\n±\\n0.3%\\nDouble\",\"965%\\n±\\n3.1%\\nDouble\",\"95%\\n±\\n0.4%\\nDouble\"]\n}\n}],\n\"theme\":{\n\"plot_title\":{\n\"hjust\":0.5,\n\"blank\":false\n},\n\"legend_position\":\"right\"\n}\n};\n           var plotContainer = document.getElementById(\"GvntaD\");\n           window.letsPlotCall(function() {{\n               LetsPlot.buildPlotFromProcessedSpecs(plotSpec, -1, -1, plotContainer);\n           }});\n       })();    \n   </script>"
     },
     "metadata": {},
     "output_type": "display_data"
    }
   ],
   "source": [
    "makePlot(\"Wolf3d\", \"Hotspot\", readHotspotBenchmarkData(\"Wolf3dBenchmark\"))\n",
    "makePlot(\"Ackermann\", \"Hotspot\", readHotspotBenchmarkData(\"AckermannBenchmark\"))\n",
    "makePlot(\"BoxRecreation\", \"Hotspot\", readHotspotBenchmarkData(\"BoxRecreationBenchmark\"))"
   ],
   "metadata": {
    "collapsed": false,
    "ExecuteTime": {
     "start_time": "2023-04-24T15:20:50.953900Z",
     "end_time": "2023-04-24T15:20:51.089360Z"
    }
   }
  },
  {
   "cell_type": "code",
   "execution_count": 53,
   "outputs": [
    {
     "data": {
      "text/plain": "baselineFloat: 3.95458115E8 ± 7258662.437255299 ns/op\ninlineFloat: 6.781380575E8 ± 2.5450937315296076E7 ns/op\nlongPackFloat: 1.63413904E8 ± 147385.38704067026 ns/op\nmutableRefFloatIn1Long: 2.21802289E8 ± 1332887.060087233 ns/op\nmutableRefFloatIn2Longs: 1.409159425E8 ± 600245.721043732 ns/op\nvalueFloat: 3.607298075E8 ± 5847946.481234766 ns/op\nvalueInlineFloat: 2.4474173125E7 ± 31436.598048008324 ns/op\nvaluePreserveBoxFloat: 3.548367305E8 ± 6702955.516523047 ns/op\nbaselineDouble: 4.81480923E8 ± 6803477.62664473 ns/op\ninlineDouble: 1.0713920375E9 ± 1.261424518724434E7 ns/op\nmutableRefDouble: 1.478356155E8 ± 254485.43250355776 ns/op\nvalueDouble: 4.38175519E8 ± 7438010.360965897 ns/op\nvalueInlineDouble: 2.5891435833333336E7 ± 43994.457027732926 ns/op\nvaluePreserveBoxDouble: 5.368072305E8 ± 1.1805937592653433E7 ns/op"
     },
     "execution_count": 53,
     "metadata": {},
     "output_type": "execute_result"
    }
   ],
   "source": [
    "import java.io.FileFilter\n",
    "import kotlin.io.path.listDirectoryEntries\n",
    "\n",
    "fun readArtBenchmarkData(benchmarkName: String) = Path.of(\"android-benchmark/build/outputs/androidTest-results/connected\")\n",
    "    .toFile().listFiles(FileFilter { it.isDirectory })!!.single()\n",
    "    .listFiles { dir, name -> name.startsWith(\"logcat-org.jetbrains.\") }!!.flatMap { it.readLines() }\n",
    "    .mapNotNull {\n",
    "        val pattern = Regex(\"^\\\\d{2}-\\\\d{2} +\\\\d+:\\\\d+:\\\\d+.\\\\d+ +\\\\d+ +\\\\d+ +I +Benchmark: +$benchmarkName\\\\.([^\\\\[]+)\\\\[Metric \\\\(timeNs\\\\) +results: +median +([^,]+), +min [^,]+, +max [^,]+, +standardDeviation: +([^,]+), +.*\")\n",
    "        val match = pattern.matchEntire(it) ?: return@mapNotNull null\n",
    "        BenchmarkData(\n",
    "            name = match.groups[1]!!.value,\n",
    "            score = match.groups[2]!!.value.toDouble(),\n",
    "            error = match.groups[3]!!.value.toDouble(),\n",
    "        )\n",
    "     }.let { lines ->\n",
    "         val indexes = readHotspotBenchmarkData(benchmarkName).mapIndexed { index, benchmarkData -> benchmarkData.name to index }.toMap()\n",
    "         if (lines.all { it.name in indexes }) lines.sortedBy { indexes[it.name]!! } else lines.sortedBy { it.type }\n",
    "     }\n",
    "(readArtBenchmarkData(\"Wolf3dBenchmark\") + readArtBenchmarkData(\"FibonacciBenchmark\")).joinToString(\"\\n\")"
   ],
   "metadata": {
    "collapsed": false,
    "ExecuteTime": {
     "start_time": "2023-04-24T15:20:51.088457Z",
     "end_time": "2023-04-24T15:20:52.183729Z"
    }
   }
  },
  {
   "cell_type": "code",
   "execution_count": 54,
   "outputs": [
    {
     "data": {
      "text/html": "   <div id=\"2QBrL8\"></div>\n   <script type=\"text/javascript\" data-lets-plot-script=\"plot\">\n       (function() {\n           var plotSpec={\n\"ggtitle\":{\n\"text\":\"Wolf3d (ART)\"\n},\n\"mapping\":{\n},\n\"ggsize\":{\n\"width\":1000.0,\n\"height\":800.0\n},\n\"kind\":\"plot\",\n\"scales\":[{\n\"aesthetic\":\"y\",\n\"name\":\"ns/op\"\n},{\n\"aesthetic\":\"fill\",\n\"name\":\"Benchmark\"\n},{\n\"aesthetic\":\"x\",\n\"breaks\":[\"baselineFloat\",\"inlineFloat\",\"longPackFloat\",\"mutableRefFloatIn1Long\",\"mutableRefFloatIn2Longs\",\"valueFloat\",\"valueInlineFloat\",\"valuePreserveBoxFloat\",\"baselineDouble\",\"inlineDouble\",\"mutableRefDouble\",\"valueDouble\",\"valueInlineDouble\",\"valuePreserveBoxDouble\"],\n\"name\":\"\",\n\"limits\":[\"baselineFloat\",\"inlineFloat\",\"longPackFloat\",\"mutableRefFloatIn1Long\",\"mutableRefFloatIn2Longs\",\"valueFloat\",\"valueInlineFloat\",\"valuePreserveBoxFloat\",\"baselineDouble\",\"inlineDouble\",\"mutableRefDouble\",\"valueDouble\",\"valueInlineDouble\",\"valuePreserveBoxDouble\",\"\"],\n\"labels\":[\"baselineFloat\",\"inlineFloat\",\"longPackFloat\",\"mutableRefFloatIn1Long\",\"mutableRefFloatIn2Longs\",\"valueFloat\",\"valueInlineFloat\",\"valuePreserveBoxFloat\",\"baselineDouble\",\"inlineDouble\",\"mutableRefDouble\",\"valueDouble\",\"valueInlineDouble\",\"valuePreserveBoxDouble\"]\n},{\n\"aesthetic\":\"y\",\n\"name\":\"ns/op\",\n\"limits\":[0.0,1.0776991600936222E9]\n}],\n\"layers\":[{\n\"mapping\":{\n\"x\":\"x\",\n\"y\":\"y\",\n\"fill\":\"fill\"\n},\n\"stat\":\"identity\",\n\"position\":\"stack\",\n\"geom\":\"bar\",\n\"data\":{\n\"x\":[\"baselineFloat\",\"inlineFloat\",\"longPackFloat\",\"mutableRefFloatIn1Long\",\"mutableRefFloatIn2Longs\",\"valueFloat\",\"valueInlineFloat\",\"valuePreserveBoxFloat\",\"baselineDouble\",\"inlineDouble\",\"mutableRefDouble\",\"valueDouble\",\"valueInlineDouble\",\"valuePreserveBoxDouble\"],\n\"y\":[3.95458115E8,6.781380575E8,1.63413904E8,2.21802289E8,1.409159425E8,3.607298075E8,2.4474173125E7,3.548367305E8,4.81480923E8,1.0713920375E9,1.478356155E8,4.38175519E8,2.5891435833333336E7,5.368072305E8],\n\"fill\":[\"baselineFloat\",\"inlineFloat\",\"longPackFloat\",\"mutableRefFloatIn1Long\",\"mutableRefFloatIn2Longs\",\"valueFloat\",\"valueInlineFloat\",\"valuePreserveBoxFloat\",\"baselineDouble\",\"inlineDouble\",\"mutableRefDouble\",\"valueDouble\",\"valueInlineDouble\",\"valuePreserveBoxDouble\"]\n}\n},{\n\"mapping\":{\n\"x\":\"x1\",\n\"ymin\":\"ymin\",\n\"ymax\":\"ymax\"\n},\n\"stat\":\"identity\",\n\"size\":0.6,\n\"width\":0.5,\n\"position\":\"dodge\",\n\"geom\":\"errorbar\",\n\"data\":{\n\"ymin\":[3.9182878378137237E8,6.654125888423519E8,1.6334021130647966E8,2.211358454699564E8,1.4061581963947815E8,3.578058342593826E8,2.4458454825975996E7,3.514852527417385E8,4.7807918418667763E8,1.0650849149063778E9,1.477083727837482E8,4.344565138195171E8,2.586943860481947E7,5.309042617036733E8],\n\"ymax\":[3.9908744621862763E8,6.908635261576481E8,1.6348759669352034E8,2.224687325300436E8,1.4121606536052185E8,3.636537807406174E8,2.4489891424024004E7,3.581882082582615E8,4.8488266181332237E8,1.0776991600936222E9,1.479628582162518E8,4.418945241804829E8,2.5913433061847202E7,5.427101992963268E8],\n\"x1\":[\"baselineFloat\",\"inlineFloat\",\"longPackFloat\",\"mutableRefFloatIn1Long\",\"mutableRefFloatIn2Longs\",\"valueFloat\",\"valueInlineFloat\",\"valuePreserveBoxFloat\",\"baselineDouble\",\"inlineDouble\",\"mutableRefDouble\",\"valueDouble\",\"valueInlineDouble\",\"valuePreserveBoxDouble\"]\n}\n},{\n\"mapping\":{\n\"x\":\"x2\",\n\"y\":\"y1\",\n\"label\":\"label\"\n},\n\"stat\":\"identity\",\n\"size\":4.5,\n\"position\":{\n\"name\":\"stack\",\n\"vjust\":1.0,\n\"kind\":\"pos\"\n},\n\"geom\":\"text\",\n\"data\":{\n\"y1\":[1.977290575E8,3.3906902875E8,8.1706952E7,1.109011445E8,7.045797125E7,1.8036490375E8,6.758213952874489E7,1.7741836525E8,2.407404615E8,5.3569601875E8,7.391780775E7,2.190877595E8,6.899940223707822E7,2.6840361525E8],\n\"x2\":[\"baselineFloat\",\"inlineFloat\",\"longPackFloat\",\"mutableRefFloatIn1Long\",\"mutableRefFloatIn2Longs\",\"valueFloat\",\"valueInlineFloat\",\"valuePreserveBoxFloat\",\"baselineDouble\",\"inlineDouble\",\"mutableRefDouble\",\"valueDouble\",\"valueInlineDouble\",\"valuePreserveBoxDouble\"],\n\"label\":[\"100%\\n±\\n1.8%\\nFloat\",\"171%\\n±\\n6.4%\\nFloat\",\"41%\\n±\\n0.0%\\nFloat\",\"56%\\n±\\n0.3%\\nFloat\",\"36%\\n±\\n0.2%\\nFloat\",\"91%\\n±\\n1.5%\\nFloat\",\"6%\\n±\\n0.0%\\nFloat\",\"90%\\n±\\n1.7%\\nFloat\",\"100%\\n±\\n1.4%\\nDouble\",\"223%\\n±\\n2.6%\\nDouble\",\"31%\\n±\\n0.1%\\nDouble\",\"91%\\n±\\n1.5%\\nDouble\",\"5%\\n±\\n0.0%\\nDouble\",\"111%\\n±\\n2.5%\\nDouble\"]\n}\n}],\n\"theme\":{\n\"plot_title\":{\n\"hjust\":0.5,\n\"blank\":false\n},\n\"legend_position\":\"right\"\n}\n};\n           var plotContainer = document.getElementById(\"2QBrL8\");\n           window.letsPlotCall(function() {{\n               LetsPlot.buildPlotFromProcessedSpecs(plotSpec, -1, -1, plotContainer);\n           }});\n       })();    \n   </script>"
     },
     "metadata": {},
     "output_type": "display_data"
    },
    {
     "data": {
      "text/html": "   <div id=\"zBCtTt\"></div>\n   <script type=\"text/javascript\" data-lets-plot-script=\"plot\">\n       (function() {\n           var plotSpec={\n\"ggtitle\":{\n\"text\":\"Ackermann (ART)\"\n},\n\"mapping\":{\n},\n\"ggsize\":{\n\"width\":1000.0,\n\"height\":800.0\n},\n\"kind\":\"plot\",\n\"scales\":[{\n\"aesthetic\":\"y\",\n\"name\":\"ns/op\"\n},{\n\"aesthetic\":\"fill\",\n\"name\":\"Benchmark\"\n},{\n\"aesthetic\":\"x\",\n\"breaks\":[\"baselineInt\",\"longPackInt\",\"mutableRefIntIn1Long\",\"mutableRefIntIn2Longs\",\"valueInt\",\"valuePreserveBoxInt\",\"baselineLong\",\"mutableRefLong\",\"valueLong\",\"valuePreserveBoxLong\",\"baselineFloat\",\"longPackFloat\",\"mutableRefFloatIn1Long\",\"mutableRefFloatIn2Longs\",\"valueFloat\",\"valuePreserveBoxFloat\",\"baselineDouble\",\"mutableRefDouble\",\"valueDouble\",\"valuePreserveBoxDouble\"],\n\"name\":\"\",\n\"limits\":[\"baselineInt\",\"longPackInt\",\"mutableRefIntIn1Long\",\"mutableRefIntIn2Longs\",\"valueInt\",\"valuePreserveBoxInt\",\"baselineLong\",\"mutableRefLong\",\"valueLong\",\"valuePreserveBoxLong\",\"baselineFloat\",\"longPackFloat\",\"mutableRefFloatIn1Long\",\"mutableRefFloatIn2Longs\",\"valueFloat\",\"valuePreserveBoxFloat\",\"baselineDouble\",\"mutableRefDouble\",\"valueDouble\",\"valuePreserveBoxDouble\",\"\"],\n\"labels\":[\"baselineInt\",\"longPackInt\",\"mutableRefIntIn1Long\",\"mutableRefIntIn2Longs\",\"valueInt\",\"valuePreserveBoxInt\",\"baselineLong\",\"mutableRefLong\",\"valueLong\",\"valuePreserveBoxLong\",\"baselineFloat\",\"longPackFloat\",\"mutableRefFloatIn1Long\",\"mutableRefFloatIn2Longs\",\"valueFloat\",\"valuePreserveBoxFloat\",\"baselineDouble\",\"mutableRefDouble\",\"valueDouble\",\"valuePreserveBoxDouble\"]\n},{\n\"aesthetic\":\"y\",\n\"name\":\"ns/op\",\n\"limits\":[0.0,105945.48998399383]\n}],\n\"layers\":[{\n\"mapping\":{\n\"x\":\"x\",\n\"y\":\"y\",\n\"fill\":\"fill\"\n},\n\"stat\":\"identity\",\n\"position\":\"stack\",\n\"geom\":\"bar\",\n\"data\":{\n\"x\":[\"baselineInt\",\"longPackInt\",\"mutableRefIntIn1Long\",\"mutableRefIntIn2Longs\",\"valueInt\",\"valuePreserveBoxInt\",\"baselineLong\",\"mutableRefLong\",\"valueLong\",\"valuePreserveBoxLong\",\"baselineFloat\",\"longPackFloat\",\"mutableRefFloatIn1Long\",\"mutableRefFloatIn2Longs\",\"valueFloat\",\"valuePreserveBoxFloat\",\"baselineDouble\",\"mutableRefDouble\",\"valueDouble\",\"valuePreserveBoxDouble\"],\n\"y\":[66880.34347231715,12924.972482339412,25087.7168040944,22915.226437117013,44564.96160130719,44729.16892808684,89025.81486042694,35596.33997678019,94934.33545918367,95546.8540183113,71733.36782094595,22498.502112490096,28242.18767207097,26401.146220930234,43842.750850753524,46680.34224779959,96417.69335347431,37756.91980808773,103822.58873056996,98654.26485148515],\n\"fill\":[\"baselineInt\",\"longPackInt\",\"mutableRefIntIn1Long\",\"mutableRefIntIn2Longs\",\"valueInt\",\"valuePreserveBoxInt\",\"baselineLong\",\"mutableRefLong\",\"valueLong\",\"valuePreserveBoxLong\",\"baselineFloat\",\"longPackFloat\",\"mutableRefFloatIn1Long\",\"mutableRefFloatIn2Longs\",\"valueFloat\",\"valuePreserveBoxFloat\",\"baselineDouble\",\"mutableRefDouble\",\"valueDouble\",\"valuePreserveBoxDouble\"]\n}\n},{\n\"mapping\":{\n\"x\":\"x1\",\n\"ymin\":\"ymin\",\n\"ymax\":\"ymax\"\n},\n\"stat\":\"identity\",\n\"size\":0.6,\n\"width\":0.5,\n\"position\":\"dodge\",\n\"geom\":\"errorbar\",\n\"data\":{\n\"ymin\":[65340.726848826176,12881.500221379782,24255.027826708185,22384.834824440353,43271.84896086049,44023.4638145018,87365.7119042255,35024.76164216221,92693.16048010091,93331.398975498,69298.8263529997,22161.60356229362,27751.845504744928,25732.069307879465,42840.876070313854,45702.739795647496,94667.36232263297,36577.24174044389,101699.68747714609,96849.20849215618],\n\"ymax\":[68419.96009580813,12968.444743299042,25920.40578148062,23445.618049793673,45858.0742417539,45434.87404167187,90685.91781662837,36167.91831139817,97175.51043826643,97762.30906112459,74167.90928889219,22835.40066268657,28732.52983939701,27070.223133981002,44844.625631193194,47657.94469995169,98168.02438431566,38936.597875731575,105945.48998399383,100459.32121081412],\n\"x1\":[\"baselineInt\",\"longPackInt\",\"mutableRefIntIn1Long\",\"mutableRefIntIn2Longs\",\"valueInt\",\"valuePreserveBoxInt\",\"baselineLong\",\"mutableRefLong\",\"valueLong\",\"valuePreserveBoxLong\",\"baselineFloat\",\"longPackFloat\",\"mutableRefFloatIn1Long\",\"mutableRefFloatIn2Longs\",\"valueFloat\",\"valuePreserveBoxFloat\",\"baselineDouble\",\"mutableRefDouble\",\"valueDouble\",\"valuePreserveBoxDouble\"]\n}\n},{\n\"mapping\":{\n\"x\":\"x2\",\n\"y\":\"y1\",\n\"label\":\"label\"\n},\n\"stat\":\"identity\",\n\"size\":4.5,\n\"position\":{\n\"name\":\"stack\",\n\"vjust\":1.0,\n\"kind\":\"pos\"\n},\n\"geom\":\"text\",\n\"data\":{\n\"y1\":[33440.171736158576,6462.486241169706,12543.8584020472,11457.613218558507,22282.480800653597,22364.58446404342,44512.90743021347,17798.169988390095,47467.167729591834,47773.42700915565,35866.68391047297,11249.251056245048,14121.093836035485,13200.573110465117,21921.375425376762,23340.171123899796,48208.84667673716,18878.459904043866,51911.29436528498,49327.13242574257],\n\"x2\":[\"baselineInt\",\"longPackInt\",\"mutableRefIntIn1Long\",\"mutableRefIntIn2Longs\",\"valueInt\",\"valuePreserveBoxInt\",\"baselineLong\",\"mutableRefLong\",\"valueLong\",\"valuePreserveBoxLong\",\"baselineFloat\",\"longPackFloat\",\"mutableRefFloatIn1Long\",\"mutableRefFloatIn2Longs\",\"valueFloat\",\"valuePreserveBoxFloat\",\"baselineDouble\",\"mutableRefDouble\",\"valueDouble\",\"valuePreserveBoxDouble\"],\n\"label\":[\"100%\\n±\\n4.6%\\nInt\",\"19%\\n±\\n0.1%\\nInt\",\"38%\\n±\\n2.5%\\nInt\",\"34%\\n±\\n1.6%\\nInt\",\"67%\\n±\\n3.9%\\nInt\",\"67%\\n±\\n2.1%\\nInt\",\"100%\\n±\\n3.7%\\nLong\",\"40%\\n±\\n1.3%\\nLong\",\"107%\\n±\\n5.0%\\nLong\",\"107%\\n±\\n5.0%\\nLong\",\"100%\\n±\\n6.8%\\nFloat\",\"31%\\n±\\n0.9%\\nFloat\",\"39%\\n±\\n1.4%\\nFloat\",\"37%\\n±\\n1.9%\\nFloat\",\"61%\\n±\\n2.8%\\nFloat\",\"65%\\n±\\n2.7%\\nFloat\",\"100%\\n±\\n3.6%\\nDouble\",\"39%\\n±\\n2.4%\\nDouble\",\"108%\\n±\\n4.4%\\nDouble\",\"102%\\n±\\n3.7%\\nDouble\"]\n}\n}],\n\"theme\":{\n\"plot_title\":{\n\"hjust\":0.5,\n\"blank\":false\n},\n\"legend_position\":\"right\"\n}\n};\n           var plotContainer = document.getElementById(\"zBCtTt\");\n           window.letsPlotCall(function() {{\n               LetsPlot.buildPlotFromProcessedSpecs(plotSpec, -1, -1, plotContainer);\n           }});\n       })();    \n   </script>"
     },
     "metadata": {},
     "output_type": "display_data"
    },
    {
     "data": {
      "text/html": "   <div id=\"OSvs3j\"></div>\n   <script type=\"text/javascript\" data-lets-plot-script=\"plot\">\n       (function() {\n           var plotSpec={\n\"ggtitle\":{\n\"text\":\"BoxRecreation (ART)\"\n},\n\"mapping\":{\n},\n\"ggsize\":{\n\"width\":1000.0,\n\"height\":800.0\n},\n\"kind\":\"plot\",\n\"scales\":[{\n\"aesthetic\":\"y\",\n\"name\":\"ns/op\"\n},{\n\"aesthetic\":\"fill\",\n\"name\":\"Benchmark\"\n},{\n\"aesthetic\":\"x\",\n\"breaks\":[\"baselineInt\",\"longPackInt\",\"valueInt\",\"valuePreserveBoxInt\",\"baselineLong\",\"valueLong\",\"valuePreserveBoxLong\",\"baselineFloat\",\"longPackFloat\",\"valueFloat\",\"valuePreserveBoxFloat\",\"baselineDouble\",\"valueDouble\",\"valuePreserveBoxDouble\"],\n\"name\":\"\",\n\"limits\":[\"baselineInt\",\"longPackInt\",\"valueInt\",\"valuePreserveBoxInt\",\"baselineLong\",\"valueLong\",\"valuePreserveBoxLong\",\"baselineFloat\",\"longPackFloat\",\"valueFloat\",\"valuePreserveBoxFloat\",\"baselineDouble\",\"valueDouble\",\"valuePreserveBoxDouble\",\"\"],\n\"labels\":[\"baselineInt\",\"longPackInt\",\"valueInt\",\"valuePreserveBoxInt\",\"baselineLong\",\"valueLong\",\"valuePreserveBoxLong\",\"baselineFloat\",\"longPackFloat\",\"valueFloat\",\"valuePreserveBoxFloat\",\"baselineDouble\",\"valueDouble\",\"valuePreserveBoxDouble\"]\n},{\n\"aesthetic\":\"y\",\n\"name\":\"ns/op\",\n\"limits\":[0.0,3968.163290021929]\n}],\n\"layers\":[{\n\"mapping\":{\n\"x\":\"x\",\n\"y\":\"y\",\n\"fill\":\"fill\"\n},\n\"stat\":\"identity\",\n\"position\":\"stack\",\n\"geom\":\"bar\",\n\"data\":{\n\"x\":[\"baselineInt\",\"longPackInt\",\"valueInt\",\"valuePreserveBoxInt\",\"baselineLong\",\"valueLong\",\"valuePreserveBoxLong\",\"baselineFloat\",\"longPackFloat\",\"valueFloat\",\"valuePreserveBoxFloat\",\"baselineDouble\",\"valueDouble\",\"valuePreserveBoxDouble\"],\n\"y\":[502.76372528670026,3661.6259478515367,2825.0839531017587,515.6697358567635,766.2360204810669,3859.6056942533255,615.72564553018,533.747803008999,2855.5456109134047,2943.8793528505394,524.8354001667361,610.6475032763647,3840.211811800197,615.3498345996795],\n\"fill\":[\"baselineInt\",\"longPackInt\",\"valueInt\",\"valuePreserveBoxInt\",\"baselineLong\",\"valueLong\",\"valuePreserveBoxLong\",\"baselineFloat\",\"longPackFloat\",\"valueFloat\",\"valuePreserveBoxFloat\",\"baselineDouble\",\"valueDouble\",\"valuePreserveBoxDouble\"]\n}\n},{\n\"mapping\":{\n\"x\":\"x1\",\n\"ymin\":\"ymin\",\n\"ymax\":\"ymax\"\n},\n\"stat\":\"identity\",\n\"size\":0.6,\n\"width\":0.5,\n\"position\":\"dodge\",\n\"geom\":\"errorbar\",\n\"data\":{\n\"ymin\":[488.6622630416551,3598.72772068619,2753.761136215911,505.52979929293235,740.0494900548363,3751.0480984847222,587.3798495301903,508.7139676146336,2733.2193446759547,2854.3617013025764,496.1377598049812,599.2757253298582,3753.038685357128,590.2231597711602],\n\"ymax\":[516.8651875317454,3724.5241750168834,2896.4067699876064,525.8096724205947,792.4225509072976,3968.163290021929,644.0714415301697,558.7816384033644,2977.8718771508547,3033.3970043985023,553.533040528491,622.0192812228711,3927.3849382432663,640.4765094281988],\n\"x1\":[\"baselineInt\",\"longPackInt\",\"valueInt\",\"valuePreserveBoxInt\",\"baselineLong\",\"valueLong\",\"valuePreserveBoxLong\",\"baselineFloat\",\"longPackFloat\",\"valueFloat\",\"valuePreserveBoxFloat\",\"baselineDouble\",\"valueDouble\",\"valuePreserveBoxDouble\"]\n}\n},{\n\"mapping\":{\n\"x\":\"x2\",\n\"y\":\"y1\",\n\"label\":\"label\"\n},\n\"stat\":\"identity\",\n\"size\":4.5,\n\"position\":{\n\"name\":\"stack\",\n\"vjust\":1.0,\n\"kind\":\"pos\"\n},\n\"geom\":\"text\",\n\"data\":{\n\"y1\":[251.38186264335013,1830.8129739257683,1412.5419765508793,257.83486792838175,383.11801024053347,1929.8028471266628,307.86282276509,266.8739015044995,1427.7728054567024,1471.9396764252697,262.41770008336806,305.32375163818233,1920.1059059000986,307.67491729983976],\n\"x2\":[\"baselineInt\",\"longPackInt\",\"valueInt\",\"valuePreserveBoxInt\",\"baselineLong\",\"valueLong\",\"valuePreserveBoxLong\",\"baselineFloat\",\"longPackFloat\",\"valueFloat\",\"valuePreserveBoxFloat\",\"baselineDouble\",\"valueDouble\",\"valuePreserveBoxDouble\"],\n\"label\":[\"100%\\n±\\n5.6%\\nInt\",\"728%\\n±\\n25.0%\\nInt\",\"562%\\n±\\n28.4%\\nInt\",\"103%\\n±\\n4.0%\\nInt\",\"100%\\n±\\n6.8%\\nLong\",\"504%\\n±\\n28.3%\\nLong\",\"80%\\n±\\n7.4%\\nLong\",\"100%\\n±\\n9.4%\\nFloat\",\"535%\\n±\\n45.8%\\nFloat\",\"552%\\n±\\n33.5%\\nFloat\",\"98%\\n±\\n10.8%\\nFloat\",\"100%\\n±\\n3.7%\\nDouble\",\"629%\\n±\\n28.6%\\nDouble\",\"101%\\n±\\n8.2%\\nDouble\"]\n}\n}],\n\"theme\":{\n\"plot_title\":{\n\"hjust\":0.5,\n\"blank\":false\n},\n\"legend_position\":\"right\"\n}\n};\n           var plotContainer = document.getElementById(\"OSvs3j\");\n           window.letsPlotCall(function() {{\n               LetsPlot.buildPlotFromProcessedSpecs(plotSpec, -1, -1, plotContainer);\n           }});\n       })();    \n   </script>"
     },
     "metadata": {},
     "output_type": "display_data"
    }
   ],
   "source": [
    "makePlot(\"Wolf3d\", \"ART\", readArtBenchmarkData(\"Wolf3dBenchmark\"))\n",
    "makePlot(\"Ackermann\", \"ART\", readArtBenchmarkData(\"AckermannBenchmark\"))\n",
    "makePlot(\"BoxRecreation\", \"ART\", readArtBenchmarkData(\"BoxRecreationBenchmark\"))"
   ],
   "metadata": {
    "collapsed": false,
    "ExecuteTime": {
     "start_time": "2023-04-24T15:20:52.172098Z",
     "end_time": "2023-04-24T15:20:53.044124Z"
    }
   }
  }
 ],
 "metadata": {
  "kernelspec": {
   "display_name": "Kotlin",
   "language": "kotlin",
   "name": "kotlin"
  },
  "language_info": {
   "name": "kotlin",
   "version": "1.8.0",
   "mimetype": "text/x-kotlin",
   "file_extension": ".kt",
   "pygments_lexer": "kotlin",
   "codemirror_mode": "text/x-kotlin",
   "nbconvert_exporter": ""
  }
 },
 "nbformat": 4,
 "nbformat_minor": 0
}
