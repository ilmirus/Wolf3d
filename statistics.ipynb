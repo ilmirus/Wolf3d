{
 "cells": [
  {
   "cell_type": "code",
   "execution_count": 10,
   "metadata": {
    "collapsed": true,
    "ExecuteTime": {
     "start_time": "2023-04-09T04:35:18.791288Z",
     "end_time": "2023-04-09T04:35:19.036421Z"
    }
   },
   "outputs": [
    {
     "data": {
      "text/plain": "baselineDouble: 432985.231 ± 6282.656 ns/op\nbaselineFloat: 397230.028 ± 6585.957 ns/op\ninlineDouble: 417976.64 ± 2090.571 ns/op\ninlineFloat: 374227.096 ± 22341.993 ns/op\nlongPackFloat: 560257.619 ± 2098.395 ns/op\nmutableRefDouble: 495305.964 ± 5703.62 ns/op\nmutableRefFloatIn1Long: 647383.728 ± 23365.986 ns/op\nmutableRefFloatIn2Longs: 605447.803 ± 168414.078 ns/op\nvalueDouble: 240165.956 ± 869.292 ns/op\nvalueFloat: 242068.048 ± 2168.529 ns/op\nvalueInlineDouble: 246084.514 ± 1248.266 ns/op\nvalueInlineFloat: 243148.481 ± 3241.839 ns/op"
     },
     "execution_count": 10,
     "metadata": {},
     "output_type": "execute_result"
    }
   ],
   "source": [
    "import java.nio.file.Files\n",
    "import java.nio.file.Path\n",
    "\n",
    "data class BenchmarkData(val name: String, val score: Double, val error: Double) {\n",
    "    override fun toString(): String = \"$name: $score ± $error ns/op\"\n",
    "}\n",
    "\n",
    "val benchmarkLines = Files.readAllLines(Path.of(\"build\", \"results\", \"jmh\", \"results.txt\"))\n",
    "    .mapNotNull {\n",
    "        val r = Regex(\"JmhBenchmark\\\\.([^ ]+) +avgt +\\\\d+ +([0-9.]+) +± +([0-9.]+) +ns/op\")\n",
    "        val match = r.matchEntire(it) ?: return@mapNotNull null\n",
    "        BenchmarkData(\n",
    "            match.groups[1]!!.value,\n",
    "            match.groups[2]!!.value.toDouble(),\n",
    "            match.groups[3]!!.value.toDouble(),\n",
    "        )\n",
    "    }\n",
    "benchmarkLines.joinToString(\"\\n\")"
   ]
  },
  {
   "cell_type": "code",
   "execution_count": 11,
   "outputs": [
    {
     "data": {
      "text/html": "   <div id=\"DQbCcD\"></div>\n   <script type=\"text/javascript\" data-lets-plot-script=\"library\">\n       if(!window.letsPlotCallQueue) {\n           window.letsPlotCallQueue = [];\n       }; \n       window.letsPlotCall = function(f) {\n           window.letsPlotCallQueue.push(f);\n       };\n       (function() {\n           var script = document.createElement(\"script\");\n           script.type = \"text/javascript\";\n           script.src = \"https://cdn.jsdelivr.net/gh/JetBrains/lets-plot@v3.0.0/js-package/distr/lets-plot.min.js\";\n           script.onload = function() {\n               window.letsPlotCall = function(f) {f();};\n               window.letsPlotCallQueue.forEach(function(f) {f();});\n               window.letsPlotCallQueue = [];\n               \n               \n           };\n           script.onerror = function(event) {\n               window.letsPlotCall = function(f) {};\n               window.letsPlotCallQueue = [];\n               var div = document.createElement(\"div\");\n               div.style.color = 'darkred';\n               div.textContent = 'Error loading Lets-Plot JS';\n               document.getElementById(\"DQbCcD\").appendChild(div);\n           };\n           var e = document.getElementById(\"DQbCcD\");\n           e.appendChild(script);\n       })();\n   </script>"
     },
     "metadata": {},
     "output_type": "display_data"
    }
   ],
   "source": [
    "%use lets-plot"
   ],
   "metadata": {
    "collapsed": false,
    "ExecuteTime": {
     "start_time": "2023-04-09T04:35:19.034371Z",
     "end_time": "2023-04-09T04:35:20.726687Z"
    }
   }
  },
  {
   "cell_type": "code",
   "execution_count": 97,
   "outputs": [
    {
     "data": {
      "text/html": "   <div id=\"QvWsjr\"></div>\n   <script type=\"text/javascript\" data-lets-plot-script=\"plot\">\n       (function() {\n           var plotSpec={\n\"ggtitle\":{\n\"text\":\"Microbenchmark of 3D scene rendering\"\n},\n\"mapping\":{\n},\n\"ggsize\":{\n\"width\":1000.0,\n\"height\":800.0\n},\n\"kind\":\"plot\",\n\"scales\":[{\n\"aesthetic\":\"y\",\n\"name\":\"ns/op\"\n},{\n\"aesthetic\":\"fill\",\n\"name\":\"Benchmark\"\n},{\n\"aesthetic\":\"x\",\n\"breaks\":[\"baselineDouble\",\"baselineFloat\",\"inlineDouble\",\"inlineFloat\",\"longPackFloat\",\"mutableRefDouble\",\"mutableRefFloatIn1Long\",\"mutableRefFloatIn2Longs\",\"valueDouble\",\"valueFloat\",\"valueInlineDouble\",\"valueInlineFloat\"],\n\"name\":\"\",\n\"limits\":[\"baselineDouble\",\"baselineFloat\",\"inlineDouble\",\"inlineFloat\",\"longPackFloat\",\"mutableRefDouble\",\"mutableRefFloatIn1Long\",\"mutableRefFloatIn2Longs\",\"valueDouble\",\"valueFloat\",\"valueInlineDouble\",\"valueInlineFloat\",\"\"],\n\"labels\":[\"baselineDouble\",\"baselineFloat\",\"inlineDouble\",\"inlineFloat\",\"longPackFloat\",\"mutableRefDouble\",\"mutableRefFloatIn1Long\",\"mutableRefFloatIn2Longs\",\"valueDouble\",\"valueFloat\",\"valueInlineDouble\",\"valueInlineFloat\"]\n},{\n\"aesthetic\":\"y\",\n\"name\":\"ns/op\",\n\"limits\":[0.0,689654.842]\n}],\n\"layers\":[{\n\"mapping\":{\n\"x\":\"x\",\n\"y\":\"y\",\n\"fill\":\"fill\"\n},\n\"stat\":\"identity\",\n\"position\":\"stack\",\n\"geom\":\"bar\",\n\"data\":{\n\"x\":[\"baselineDouble\",\"baselineFloat\",\"inlineDouble\",\"inlineFloat\",\"longPackFloat\",\"mutableRefDouble\",\"mutableRefFloatIn1Long\",\"mutableRefFloatIn2Longs\",\"valueDouble\",\"valueFloat\",\"valueInlineDouble\",\"valueInlineFloat\"],\n\"y\":[432985.231,397230.028,417976.64,374227.096,560257.619,495305.964,647383.728,605447.803,240165.956,242068.048,246084.514,243148.481],\n\"fill\":[\"baselineDouble\",\"baselineFloat\",\"inlineDouble\",\"inlineFloat\",\"longPackFloat\",\"mutableRefDouble\",\"mutableRefFloatIn1Long\",\"mutableRefFloatIn2Longs\",\"valueDouble\",\"valueFloat\",\"valueInlineDouble\",\"valueInlineFloat\"]\n}\n},{\n\"mapping\":{\n\"x\":\"x1\",\n\"ymin\":\"ymin\",\n\"ymax\":\"ymax\"\n},\n\"stat\":\"identity\",\n\"size\":0.6,\n\"width\":0.5,\n\"position\":\"dodge\",\n\"geom\":\"errorbar\",\n\"data\":{\n\"ymin\":[429843.90300000005,393937.04949999996,416931.3545,363056.0995,559208.4214999999,492454.154,635700.735,521240.76399999997,239731.31,240983.78350000002,245460.381,241527.5615],\n\"ymax\":[436126.559,400523.0065,419021.9255,385398.0925,561306.8165,498157.774,659066.721,689654.842,240600.602,243152.3125,246708.647,244769.4005],\n\"x1\":[\"baselineDouble\",\"baselineFloat\",\"inlineDouble\",\"inlineFloat\",\"longPackFloat\",\"mutableRefDouble\",\"mutableRefFloatIn1Long\",\"mutableRefFloatIn2Longs\",\"valueDouble\",\"valueFloat\",\"valueInlineDouble\",\"valueInlineFloat\"]\n}\n},{\n\"mapping\":{\n\"x\":\"x2\",\n\"y\":\"y1\",\n\"label\":\"label\"\n},\n\"stat\":\"identity\",\n\"size\":5.0,\n\"position\":{\n\"name\":\"stack\",\n\"vjust\":0.5,\n\"kind\":\"pos\"\n},\n\"geom\":\"text\",\n\"data\":{\n\"y1\":[432985.231,397230.028,417976.64,374227.096,560257.619,495305.964,647383.728,605447.803,240165.956,242068.048,246084.514,243148.481],\n\"x2\":[\"baselineDouble\",\"baselineFloat\",\"inlineDouble\",\"inlineFloat\",\"longPackFloat\",\"mutableRefDouble\",\"mutableRefFloatIn1Long\",\"mutableRefFloatIn2Longs\",\"valueDouble\",\"valueFloat\",\"valueInlineDouble\",\"valueInlineFloat\"],\n\"label\":[\"100%\\n±\\n1.5%\\nDouble\",\"100%\\n±\\n1.7%\\nFloat\",\"97%\\n±\\n0.5%\\nDouble\",\"94%\\n±\\n5.6%\\nFloat\",\"141%\\n±\\n0.5%\\nFloat\",\"114%\\n±\\n1.3%\\nDouble\",\"163%\\n±\\n5.9%\\nFloat\",\"152%\\n±\\n42.4%\\nFloat\",\"55%\\n±\\n0.2%\\nDouble\",\"61%\\n±\\n0.5%\\nFloat\",\"57%\\n±\\n0.3%\\nDouble\",\"61%\\n±\\n0.8%\\nFloat\"]\n}\n}],\n\"theme\":{\n\"plot_title\":{\n\"hjust\":0.5,\n\"blank\":false\n},\n\"legend_position\":\"right\"\n}\n};\n           var plotContainer = document.getElementById(\"QvWsjr\");\n           window.letsPlotCall(function() {{\n               LetsPlot.buildPlotFromProcessedSpecs(plotSpec, -1, -1, plotContainer);\n           }});\n       })();    \n   </script>"
     },
     "metadata": {},
     "output_type": "display_data"
    }
   ],
   "source": [
    "import org.jetbrains.letsPlot.intern.PosKind\n",
    "import org.jetbrains.letsPlot.intern.StatKind\n",
    "import org.jetbrains.letsPlot.intern.layer.PosOptions\n",
    "import org.jetbrains.letsPlot.intern.layer.StatOptions\n",
    "\n",
    "val names = benchmarkLines.map { it.name }\n",
    "val scores = benchmarkLines.map { it.score }\n",
    "val scoresMinusErrors = benchmarkLines.map { it.score - it.error / 2 }\n",
    "val scoresPlusErrors = benchmarkLines.map { it.score + it.error / 2 }\n",
    "val baseline = listOf(\"Float\", \"Double\").associateWith { type ->\n",
    "    benchmarkLines.single { it.name == \"baseline$type\" }\n",
    "}\n",
    "val plot = letsPlot() +\n",
    "        labs(\"Microbenchmark of 3D scene rendering\", fill = \"Benchmark\", y = \"ns/op\") +\n",
    "        geomBar(stat = StatOptions(kind = StatKind.IDENTITY)) {\n",
    "            x = names\n",
    "            y = scores\n",
    "            fill = names\n",
    "        } +\n",
    "        geomErrorBar(\n",
    "            width = 0.5,\n",
    "            position = PosOptions(kind = PosKind.DODGE),\n",
    "            size = 0.6\n",
    "        ) {\n",
    "            x = names\n",
    "            ymin = scoresMinusErrors\n",
    "            ymax = scoresPlusErrors\n",
    "        } +\n",
    "        geomText(\n",
    "            stat = StatOptions(kind = StatKind.IDENTITY),\n",
    "            position = positionStack(vjust = 0.5),\n",
    "            size = 5,\n",
    "        ) {\n",
    "            x = names\n",
    "            y = scores\n",
    "            label = benchmarkLines.map {\n",
    "                val isFloat = it.name.contains(\"Float\")\n",
    "                val type = if (isFloat) \"Float\" else \"Double\"\n",
    "                val score = it.score / baseline[type]!!.score\n",
    "                val error = it.error / baseline[type]!!.score\n",
    "                \"${String.format(\"%.0f\", score * 100)}%\\n±\\n${String.format(\"%.1f\", error * 100)}%\\n${type}\"\n",
    "            }\n",
    "        } +\n",
    "        scaleXDiscrete(\n",
    "            labels = names,\n",
    "            name = \"\",\n",
    "            limits = names + listOf(\"\"),\n",
    "            breaks = names.toList()\n",
    "        ) +\n",
    "        scaleYContinuous(limits = 0 to scoresPlusErrors.max(), name = \"ns/op\") +\n",
    "        theme(plotTitle = elementText(hjust = 0.5)).legendPositionRight() +\n",
    "        ggsize(1000, 800)\n",
    "\n",
    "\n",
    "plot.show()"
   ],
   "metadata": {
    "collapsed": false,
    "ExecuteTime": {
     "start_time": "2023-04-09T06:37:07.967525Z",
     "end_time": "2023-04-09T06:37:08.420046Z"
    }
   }
  },
  {
   "cell_type": "code",
   "execution_count": 98,
   "outputs": [
    {
     "data": {
      "text/plain": "/Users/Evgeniy.Zhelenskiy/IdeaProjects/Wolf3d/lets-plot-images/results.svg"
     },
     "execution_count": 98,
     "metadata": {},
     "output_type": "execute_result"
    }
   ],
   "source": [
    "ggsave(plot = plot, filename = \"results.svg\")"
   ],
   "metadata": {
    "collapsed": false,
    "ExecuteTime": {
     "start_time": "2023-04-09T06:37:18.088878Z",
     "end_time": "2023-04-09T06:37:18.172805Z"
    }
   }
  }
 ],
 "metadata": {
  "kernelspec": {
   "display_name": "Kotlin",
   "language": "kotlin",
   "name": "kotlin"
  },
  "language_info": {
   "name": "kotlin",
   "version": "1.8.0",
   "mimetype": "text/x-kotlin",
   "file_extension": ".kt",
   "pygments_lexer": "kotlin",
   "codemirror_mode": "text/x-kotlin",
   "nbconvert_exporter": ""
  }
 },
 "nbformat": 4,
 "nbformat_minor": 0
}
