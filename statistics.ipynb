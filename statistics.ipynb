{
 "cells": [
  {
   "cell_type": "code",
   "execution_count": 1,
   "metadata": {
    "collapsed": true,
    "ExecuteTime": {
     "start_time": "2023-04-10T00:48:56.375505Z",
     "end_time": "2023-04-10T00:48:57.686439Z"
    }
   },
   "outputs": [
    {
     "data": {
      "text/plain": "baselineDouble: 931858.124 ± 2707.644 ns/op\nbaselineFloat: 928123.143 ± 12428.765 ns/op\ninlineDouble: 930382.882 ± 6153.134 ns/op\ninlineFloat: 900125.64 ± 3895.555 ns/op\nlongPackFloat: 1547488.939 ± 2048.011 ns/op\nmutableRefDouble: 663923.418 ± 1923.981 ns/op\nmutableRefFloatIn1Long: 1535125.654 ± 1731.307 ns/op\nmutableRefFloatIn2Longs: 660791.922 ± 1326.528 ns/op\nvalueDouble: 656028.937 ± 884.5 ns/op\nvalueFloat: 667792.942 ± 18023.542 ns/op\nvalueInlineDouble: 653461.746 ± 6090.136 ns/op\nvalueInlineFloat: 674163.867 ± 16781.843 ns/op"
     },
     "execution_count": 1,
     "metadata": {},
     "output_type": "execute_result"
    }
   ],
   "source": [
    "import java.nio.file.Files\n",
    "import java.nio.file.Path\n",
    "\n",
    "data class BenchmarkData(val name: String, val score: Double, val error: Double) {\n",
    "    override fun toString(): String = \"$name: $score ± $error ns/op\"\n",
    "}\n",
    "\n",
    "val hotspotBenchmarkLines = Files.readAllLines(Path.of(\"build\", \"results\", \"jmh\", \"results.txt\"))\n",
    "    .mapNotNull {\n",
    "        val r = Regex(\"JmhBenchmark\\\\.([^ ]+) +avgt +\\\\d+ +([0-9.]+) +± +([0-9.]+) +ns/op\")\n",
    "        val match = r.matchEntire(it) ?: return@mapNotNull null\n",
    "        BenchmarkData(\n",
    "            match.groups[1]!!.value,\n",
    "            match.groups[2]!!.value.toDouble(),\n",
    "            match.groups[3]!!.value.toDouble(),\n",
    "        )\n",
    "    }\n",
    "hotspotBenchmarkLines.joinToString(\"\\n\")"
   ]
  },
  {
   "cell_type": "code",
   "execution_count": 2,
   "outputs": [
    {
     "data": {
      "text/html": "   <div id=\"8fldAx\"></div>\n   <script type=\"text/javascript\" data-lets-plot-script=\"library\">\n       if(!window.letsPlotCallQueue) {\n           window.letsPlotCallQueue = [];\n       }; \n       window.letsPlotCall = function(f) {\n           window.letsPlotCallQueue.push(f);\n       };\n       (function() {\n           var script = document.createElement(\"script\");\n           script.type = \"text/javascript\";\n           script.src = \"https://cdn.jsdelivr.net/gh/JetBrains/lets-plot@v3.0.0/js-package/distr/lets-plot.min.js\";\n           script.onload = function() {\n               window.letsPlotCall = function(f) {f();};\n               window.letsPlotCallQueue.forEach(function(f) {f();});\n               window.letsPlotCallQueue = [];\n               \n               \n           };\n           script.onerror = function(event) {\n               window.letsPlotCall = function(f) {};\n               window.letsPlotCallQueue = [];\n               var div = document.createElement(\"div\");\n               div.style.color = 'darkred';\n               div.textContent = 'Error loading Lets-Plot JS';\n               document.getElementById(\"8fldAx\").appendChild(div);\n           };\n           var e = document.getElementById(\"8fldAx\");\n           e.appendChild(script);\n       })();\n   </script>"
     },
     "metadata": {},
     "output_type": "display_data"
    }
   ],
   "source": [
    "%use lets-plot"
   ],
   "metadata": {
    "collapsed": false,
    "ExecuteTime": {
     "start_time": "2023-04-10T00:48:57.687774Z",
     "end_time": "2023-04-10T00:49:02.149052Z"
    }
   }
  },
  {
   "cell_type": "code",
   "execution_count": 3,
   "outputs": [],
   "source": [
    "import org.jetbrains.letsPlot.intern.PosKind\n",
    "import org.jetbrains.letsPlot.intern.StatKind\n",
    "import org.jetbrains.letsPlot.intern.layer.PosOptions\n",
    "import org.jetbrains.letsPlot.intern.layer.StatOptions\n",
    "\n",
    "fun makePlot(platform: String, benchmarkLines: List<BenchmarkData>) {\n",
    "    val names = benchmarkLines.map { it.name }\n",
    "    val scores = benchmarkLines.map { it.score }\n",
    "    val scoresMinusErrors = benchmarkLines.map { it.score - it.error / 2 }\n",
    "    val scoresPlusErrors = benchmarkLines.map { it.score + it.error / 2 }\n",
    "    val baseline = listOf(\"Float\", \"Double\").associateWith { type ->\n",
    "        benchmarkLines.single { it.name == \"baseline$type\" }\n",
    "    }\n",
    "    val plot = letsPlot() +\n",
    "            labs(\"Microbenchmark of 3D scene rendering ($platform)\", fill = \"Benchmark\", y = \"ns/op\") +\n",
    "            geomBar(stat = StatOptions(kind = StatKind.IDENTITY)) {\n",
    "                x = names\n",
    "                y = scores\n",
    "                fill = names\n",
    "            } +\n",
    "            geomErrorBar(\n",
    "                width = 0.5,\n",
    "                position = PosOptions(kind = PosKind.DODGE),\n",
    "                size = 0.6\n",
    "            ) {\n",
    "                x = names\n",
    "                ymin = scoresMinusErrors\n",
    "                ymax = scoresPlusErrors\n",
    "            } +\n",
    "            geomText(\n",
    "                stat = StatOptions(kind = StatKind.IDENTITY),\n",
    "                position = positionStack(vjust = 0.5),\n",
    "                size = 5,\n",
    "            ) {\n",
    "                x = names\n",
    "                y = scores\n",
    "                label = benchmarkLines.map {\n",
    "                    val isFloat = it.name.contains(\"Float\")\n",
    "                    val type = if (isFloat) \"Float\" else \"Double\"\n",
    "                    val score = it.score / baseline[type]!!.score\n",
    "                    val error = it.error / baseline[type]!!.score\n",
    "                    \"${String.format(\"%.0f\", score * 100)}%\\n±\\n${String.format(\"%.1f\", error * 100)}%\\n${type}\"\n",
    "                }\n",
    "            } +\n",
    "            scaleXDiscrete(\n",
    "                labels = names,\n",
    "                name = \"\",\n",
    "                limits = names + listOf(\"\"),\n",
    "                breaks = names.toList()\n",
    "            ) +\n",
    "            scaleYContinuous(limits = 0 to scoresPlusErrors.max(), name = \"ns/op\") +\n",
    "            theme(plotTitle = elementText(hjust = 0.5)).legendPositionRight() +\n",
    "            ggsize(1000, 800)\n",
    "    ggsave(plot = plot, filename = \"$platform.svg\")\n",
    "    plot.show()\n",
    "}\n"
   ],
   "metadata": {
    "collapsed": false,
    "ExecuteTime": {
     "start_time": "2023-04-10T00:49:02.132871Z",
     "end_time": "2023-04-10T00:49:03.598562Z"
    }
   }
  },
  {
   "cell_type": "code",
   "execution_count": 4,
   "outputs": [
    {
     "data": {
      "text/html": "   <div id=\"IfIici\"></div>\n   <script type=\"text/javascript\" data-lets-plot-script=\"plot\">\n       (function() {\n           var plotSpec={\n\"ggtitle\":{\n\"text\":\"Microbenchmark of 3D scene rendering (Hotspot)\"\n},\n\"mapping\":{\n},\n\"ggsize\":{\n\"width\":1000.0,\n\"height\":800.0\n},\n\"kind\":\"plot\",\n\"scales\":[{\n\"aesthetic\":\"y\",\n\"name\":\"ns/op\"\n},{\n\"aesthetic\":\"fill\",\n\"name\":\"Benchmark\"\n},{\n\"aesthetic\":\"x\",\n\"breaks\":[\"baselineDouble\",\"baselineFloat\",\"inlineDouble\",\"inlineFloat\",\"longPackFloat\",\"mutableRefDouble\",\"mutableRefFloatIn1Long\",\"mutableRefFloatIn2Longs\",\"valueDouble\",\"valueFloat\",\"valueInlineDouble\",\"valueInlineFloat\"],\n\"name\":\"\",\n\"limits\":[\"baselineDouble\",\"baselineFloat\",\"inlineDouble\",\"inlineFloat\",\"longPackFloat\",\"mutableRefDouble\",\"mutableRefFloatIn1Long\",\"mutableRefFloatIn2Longs\",\"valueDouble\",\"valueFloat\",\"valueInlineDouble\",\"valueInlineFloat\",\"\"],\n\"labels\":[\"baselineDouble\",\"baselineFloat\",\"inlineDouble\",\"inlineFloat\",\"longPackFloat\",\"mutableRefDouble\",\"mutableRefFloatIn1Long\",\"mutableRefFloatIn2Longs\",\"valueDouble\",\"valueFloat\",\"valueInlineDouble\",\"valueInlineFloat\"]\n},{\n\"aesthetic\":\"y\",\n\"name\":\"ns/op\",\n\"limits\":[0.0,1548512.9445]\n}],\n\"layers\":[{\n\"mapping\":{\n\"x\":\"x\",\n\"y\":\"y\",\n\"fill\":\"fill\"\n},\n\"stat\":\"identity\",\n\"position\":\"stack\",\n\"geom\":\"bar\",\n\"data\":{\n\"x\":[\"baselineDouble\",\"baselineFloat\",\"inlineDouble\",\"inlineFloat\",\"longPackFloat\",\"mutableRefDouble\",\"mutableRefFloatIn1Long\",\"mutableRefFloatIn2Longs\",\"valueDouble\",\"valueFloat\",\"valueInlineDouble\",\"valueInlineFloat\"],\n\"y\":[931858.124,928123.143,930382.882,900125.64,1547488.939,663923.418,1535125.654,660791.922,656028.937,667792.942,653461.746,674163.867],\n\"fill\":[\"baselineDouble\",\"baselineFloat\",\"inlineDouble\",\"inlineFloat\",\"longPackFloat\",\"mutableRefDouble\",\"mutableRefFloatIn1Long\",\"mutableRefFloatIn2Longs\",\"valueDouble\",\"valueFloat\",\"valueInlineDouble\",\"valueInlineFloat\"]\n}\n},{\n\"mapping\":{\n\"x\":\"x1\",\n\"ymin\":\"ymin\",\n\"ymax\":\"ymax\"\n},\n\"stat\":\"identity\",\n\"size\":0.6,\n\"width\":0.5,\n\"position\":\"dodge\",\n\"geom\":\"errorbar\",\n\"data\":{\n\"ymin\":[930504.3019999999,921908.7605000001,927306.315,898177.8625,1546464.9335,662961.4275,1534260.0005,660128.658,655586.687,658781.1710000001,650416.6780000001,665772.9454999999],\n\"ymax\":[933211.946,934337.5255,933459.449,902073.4175,1548512.9445,664885.4084999999,1535991.3075,661455.186,656471.187,676804.713,656506.814,682554.7885],\n\"x1\":[\"baselineDouble\",\"baselineFloat\",\"inlineDouble\",\"inlineFloat\",\"longPackFloat\",\"mutableRefDouble\",\"mutableRefFloatIn1Long\",\"mutableRefFloatIn2Longs\",\"valueDouble\",\"valueFloat\",\"valueInlineDouble\",\"valueInlineFloat\"]\n}\n},{\n\"mapping\":{\n\"x\":\"x2\",\n\"y\":\"y1\",\n\"label\":\"label\"\n},\n\"stat\":\"identity\",\n\"size\":5.0,\n\"position\":{\n\"name\":\"stack\",\n\"vjust\":0.5,\n\"kind\":\"pos\"\n},\n\"geom\":\"text\",\n\"data\":{\n\"y1\":[931858.124,928123.143,930382.882,900125.64,1547488.939,663923.418,1535125.654,660791.922,656028.937,667792.942,653461.746,674163.867],\n\"x2\":[\"baselineDouble\",\"baselineFloat\",\"inlineDouble\",\"inlineFloat\",\"longPackFloat\",\"mutableRefDouble\",\"mutableRefFloatIn1Long\",\"mutableRefFloatIn2Longs\",\"valueDouble\",\"valueFloat\",\"valueInlineDouble\",\"valueInlineFloat\"],\n\"label\":[\"100%\\n±\\n0.3%\\nDouble\",\"100%\\n±\\n1.3%\\nFloat\",\"100%\\n±\\n0.7%\\nDouble\",\"97%\\n±\\n0.4%\\nFloat\",\"167%\\n±\\n0.2%\\nFloat\",\"71%\\n±\\n0.2%\\nDouble\",\"165%\\n±\\n0.2%\\nFloat\",\"71%\\n±\\n0.1%\\nFloat\",\"70%\\n±\\n0.1%\\nDouble\",\"72%\\n±\\n1.9%\\nFloat\",\"70%\\n±\\n0.7%\\nDouble\",\"73%\\n±\\n1.8%\\nFloat\"]\n}\n}],\n\"theme\":{\n\"plot_title\":{\n\"hjust\":0.5,\n\"blank\":false\n},\n\"legend_position\":\"right\"\n}\n};\n           var plotContainer = document.getElementById(\"IfIici\");\n           window.letsPlotCall(function() {{\n               LetsPlot.buildPlotFromProcessedSpecs(plotSpec, -1, -1, plotContainer);\n           }});\n       })();    \n   </script>"
     },
     "metadata": {},
     "output_type": "display_data"
    }
   ],
   "source": [
    "makePlot(\"Hotspot\", hotspotBenchmarkLines)"
   ],
   "metadata": {
    "collapsed": false,
    "ExecuteTime": {
     "start_time": "2023-04-10T00:49:03.598669Z",
     "end_time": "2023-04-10T00:49:04.412696Z"
    }
   }
  },
  {
   "cell_type": "code",
   "execution_count": 5,
   "outputs": [
    {
     "data": {
      "text/plain": "baselineDouble: 1.3673541214285715E7 ± 464189.40463535936 ns/op\nbaselineFloat: 1.10071105625E7 ± 447734.83275383944 ns/op\ninlineDouble: 2.9116641E7 ± 511091.9874000335 ns/op\ninlineFloat: 2.3972317375E7 ± 789086.517194392 ns/op\nlongPackFloat: 4589821.404761905 ± 181221.69948283318 ns/op\nmutableRefDouble: 4071994.395833333 ± 94852.11880345125 ns/op\nmutableRefFloatIn1Long: 5817654.970588235 ± 90707.2457200662 ns/op\nmutableRefFloatIn2Longs: 3926813.84 ± 364146.09072056296 ns/op\nvalueDouble: 1.6103076916666666E7 ± 527015.1355947905 ns/op\nvalueFloat: 1.0287985055555556E7 ± 310452.581539556 ns/op\nvalueInlineDouble: 851587.8884297521 ± 32680.665557614568 ns/op\nvalueInlineFloat: 807025.7384615385 ± 31382.075228020225 ns/op"
     },
     "execution_count": 5,
     "metadata": {},
     "output_type": "execute_result"
    }
   ],
   "source": [
    "import java.io.FileFilter\n",
    "import kotlin.io.path.listDirectoryEntries\n",
    "\n",
    "val artBenchmarkLines = Path.of(\"android-benchmark/build/outputs/androidTest-results/connected\")\n",
    "    .toFile().listFiles(FileFilter { it.isDirectory })!!.single()\n",
    "    .listFiles { dir, name -> name.startsWith(\"logcat-org.jetbrains.\") }!!.flatMap { it.readLines() }\n",
    "    .mapNotNull {\n",
    "        val pattern = Regex(\"^\\\\d{2}-\\\\d{2} \\\\d+:\\\\d+:\\\\d+.\\\\d+ \\\\d+ \\\\d+ I Benchmark: AndroidBenchmark.([^\\\\[]+)\\\\[Metric \\\\(timeNs\\\\) results: median ([^,]+), min [^,]+, max [^,]+, standardDeviation: ([^,]+), .*\")\n",
    "        val match = pattern.matchEntire(it) ?: return@mapNotNull null\n",
    "        BenchmarkData(\n",
    "            match.groups[1]!!.value,\n",
    "            match.groups[2]!!.value.toDouble(),\n",
    "            match.groups[3]!!.value.toDouble(),\n",
    "        )\n",
    "     }.let { lines ->\n",
    "         val indexes = hotspotBenchmarkLines.mapIndexed { index, benchmarkData -> benchmarkData.name to index }.toMap()\n",
    "         lines.sortedBy { indexes[it.name]!! }\n",
    "     }\n",
    "artBenchmarkLines.joinToString(\"\\n\")"
   ],
   "metadata": {
    "collapsed": false,
    "ExecuteTime": {
     "start_time": "2023-04-10T00:49:04.413453Z",
     "end_time": "2023-04-10T00:49:06.053003Z"
    }
   }
  },
  {
   "cell_type": "code",
   "execution_count": 6,
   "outputs": [
    {
     "data": {
      "text/html": "   <div id=\"8upMwt\"></div>\n   <script type=\"text/javascript\" data-lets-plot-script=\"plot\">\n       (function() {\n           var plotSpec={\n\"ggtitle\":{\n\"text\":\"Microbenchmark of 3D scene rendering (ART)\"\n},\n\"mapping\":{\n},\n\"ggsize\":{\n\"width\":1000.0,\n\"height\":800.0\n},\n\"kind\":\"plot\",\n\"scales\":[{\n\"aesthetic\":\"y\",\n\"name\":\"ns/op\"\n},{\n\"aesthetic\":\"fill\",\n\"name\":\"Benchmark\"\n},{\n\"aesthetic\":\"x\",\n\"breaks\":[\"baselineDouble\",\"baselineFloat\",\"inlineDouble\",\"inlineFloat\",\"longPackFloat\",\"mutableRefDouble\",\"mutableRefFloatIn1Long\",\"mutableRefFloatIn2Longs\",\"valueDouble\",\"valueFloat\",\"valueInlineDouble\",\"valueInlineFloat\"],\n\"name\":\"\",\n\"limits\":[\"baselineDouble\",\"baselineFloat\",\"inlineDouble\",\"inlineFloat\",\"longPackFloat\",\"mutableRefDouble\",\"mutableRefFloatIn1Long\",\"mutableRefFloatIn2Longs\",\"valueDouble\",\"valueFloat\",\"valueInlineDouble\",\"valueInlineFloat\",\"\"],\n\"labels\":[\"baselineDouble\",\"baselineFloat\",\"inlineDouble\",\"inlineFloat\",\"longPackFloat\",\"mutableRefDouble\",\"mutableRefFloatIn1Long\",\"mutableRefFloatIn2Longs\",\"valueDouble\",\"valueFloat\",\"valueInlineDouble\",\"valueInlineFloat\"]\n},{\n\"aesthetic\":\"y\",\n\"name\":\"ns/op\",\n\"limits\":[0.0,2.9372186993700016E7]\n}],\n\"layers\":[{\n\"mapping\":{\n\"x\":\"x\",\n\"y\":\"y\",\n\"fill\":\"fill\"\n},\n\"stat\":\"identity\",\n\"position\":\"stack\",\n\"geom\":\"bar\",\n\"data\":{\n\"x\":[\"baselineDouble\",\"baselineFloat\",\"inlineDouble\",\"inlineFloat\",\"longPackFloat\",\"mutableRefDouble\",\"mutableRefFloatIn1Long\",\"mutableRefFloatIn2Longs\",\"valueDouble\",\"valueFloat\",\"valueInlineDouble\",\"valueInlineFloat\"],\n\"y\":[1.3673541214285715E7,1.10071105625E7,2.9116641E7,2.3972317375E7,4589821.404761905,4071994.395833333,5817654.970588235,3926813.84,1.6103076916666666E7,1.0287985055555556E7,851587.8884297521,807025.7384615385],\n\"fill\":[\"baselineDouble\",\"baselineFloat\",\"inlineDouble\",\"inlineFloat\",\"longPackFloat\",\"mutableRefDouble\",\"mutableRefFloatIn1Long\",\"mutableRefFloatIn2Longs\",\"valueDouble\",\"valueFloat\",\"valueInlineDouble\",\"valueInlineFloat\"]\n}\n},{\n\"mapping\":{\n\"x\":\"x1\",\n\"ymin\":\"ymin\",\n\"ymax\":\"ymax\"\n},\n\"stat\":\"identity\",\n\"size\":0.6,\n\"width\":0.5,\n\"position\":\"dodge\",\n\"geom\":\"errorbar\",\n\"data\":{\n\"ymin\":[1.3441446511968035E7,1.078324314612308E7,2.8861095006299984E7,2.3577774116402805E7,4499210.555020488,4024568.3364316076,5772301.347728202,3744740.7946397183,1.5839569348869272E7,1.0132758764785778E7,835247.5556509448,791334.7008475283],\n\"ymax\":[1.3905635916603394E7,1.123097797887692E7,2.9372186993700016E7,2.4366860633597195E7,4680432.254503322,4119420.4552350584,5863008.593448268,4108886.8853602814,1.636658448446406E7,1.0443211346325334E7,867928.2212085593,822716.7760755486],\n\"x1\":[\"baselineDouble\",\"baselineFloat\",\"inlineDouble\",\"inlineFloat\",\"longPackFloat\",\"mutableRefDouble\",\"mutableRefFloatIn1Long\",\"mutableRefFloatIn2Longs\",\"valueDouble\",\"valueFloat\",\"valueInlineDouble\",\"valueInlineFloat\"]\n}\n},{\n\"mapping\":{\n\"x\":\"x2\",\n\"y\":\"y1\",\n\"label\":\"label\"\n},\n\"stat\":\"identity\",\n\"size\":5.0,\n\"position\":{\n\"name\":\"stack\",\n\"vjust\":0.5,\n\"kind\":\"pos\"\n},\n\"geom\":\"text\",\n\"data\":{\n\"y1\":[1.3673541214285715E7,1.10071105625E7,2.9116641E7,2.3972317375E7,4589821.404761905,4071994.395833333,5817654.970588235,3926813.84,1.6103076916666666E7,1.0287985055555556E7,851587.8884297521,807025.7384615385],\n\"x2\":[\"baselineDouble\",\"baselineFloat\",\"inlineDouble\",\"inlineFloat\",\"longPackFloat\",\"mutableRefDouble\",\"mutableRefFloatIn1Long\",\"mutableRefFloatIn2Longs\",\"valueDouble\",\"valueFloat\",\"valueInlineDouble\",\"valueInlineFloat\"],\n\"label\":[\"100%\\n±\\n3.4%\\nDouble\",\"100%\\n±\\n4.1%\\nFloat\",\"213%\\n±\\n3.7%\\nDouble\",\"218%\\n±\\n7.2%\\nFloat\",\"42%\\n±\\n1.6%\\nFloat\",\"30%\\n±\\n0.7%\\nDouble\",\"53%\\n±\\n0.8%\\nFloat\",\"36%\\n±\\n3.3%\\nFloat\",\"118%\\n±\\n3.9%\\nDouble\",\"93%\\n±\\n2.8%\\nFloat\",\"6%\\n±\\n0.2%\\nDouble\",\"7%\\n±\\n0.3%\\nFloat\"]\n}\n}],\n\"theme\":{\n\"plot_title\":{\n\"hjust\":0.5,\n\"blank\":false\n},\n\"legend_position\":\"right\"\n}\n};\n           var plotContainer = document.getElementById(\"8upMwt\");\n           window.letsPlotCall(function() {{\n               LetsPlot.buildPlotFromProcessedSpecs(plotSpec, -1, -1, plotContainer);\n           }});\n       })();    \n   </script>"
     },
     "metadata": {},
     "output_type": "display_data"
    }
   ],
   "source": [
    "makePlot(\"ART\", artBenchmarkLines)"
   ],
   "metadata": {
    "collapsed": false,
    "ExecuteTime": {
     "start_time": "2023-04-10T00:49:06.052491Z",
     "end_time": "2023-04-10T00:49:06.322902Z"
    }
   }
  }
 ],
 "metadata": {
  "kernelspec": {
   "display_name": "Kotlin",
   "language": "kotlin",
   "name": "kotlin"
  },
  "language_info": {
   "name": "kotlin",
   "version": "1.8.0",
   "mimetype": "text/x-kotlin",
   "file_extension": ".kt",
   "pygments_lexer": "kotlin",
   "codemirror_mode": "text/x-kotlin",
   "nbconvert_exporter": ""
  }
 },
 "nbformat": 4,
 "nbformat_minor": 0
}
