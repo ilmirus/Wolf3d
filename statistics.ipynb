{
 "cells": [
  {
   "cell_type": "code",
   "execution_count": 103,
   "metadata": {
    "collapsed": true,
    "ExecuteTime": {
     "start_time": "2023-04-09T09:05:30.534648Z",
     "end_time": "2023-04-09T09:05:30.726823Z"
    }
   },
   "outputs": [
    {
     "data": {
      "text/plain": "baselineDouble: 936774.42 ± 1380.126 ns/op\nbaselineFloat: 923287.075 ± 11462.162 ns/op\ninlineDouble: 932035.84 ± 4943.213 ns/op\ninlineFloat: 897810.246 ± 1695.109 ns/op\nlongPackFloat: 1585716.339 ± 25744.925 ns/op\nmutableRefDouble: 1093688.2 ± 1988.159 ns/op\nmutableRefFloatIn1Long: 1748488.235 ± 5183.316 ns/op\nmutableRefFloatIn2Longs: 1079365.369 ± 3498.671 ns/op\nvalueDouble: 655928.157 ± 2584.086 ns/op\nvalueFloat: 668845.568 ± 18528.289 ns/op\nvalueInlineDouble: 651329.162 ± 6638.435 ns/op\nvalueInlineFloat: 685287.53 ± 1895.324 ns/op"
     },
     "execution_count": 103,
     "metadata": {},
     "output_type": "execute_result"
    }
   ],
   "source": [
    "import java.nio.file.Files\n",
    "import java.nio.file.Path\n",
    "\n",
    "data class BenchmarkData(val name: String, val score: Double, val error: Double) {\n",
    "    override fun toString(): String = \"$name: $score ± $error ns/op\"\n",
    "}\n",
    "\n",
    "val benchmarkLines = Files.readAllLines(Path.of(\"build\", \"results\", \"jmh\", \"results.txt\"))\n",
    "    .mapNotNull {\n",
    "        val r = Regex(\"JmhBenchmark\\\\.([^ ]+) +avgt +\\\\d+ +([0-9.]+) +± +([0-9.]+) +ns/op\")\n",
    "        val match = r.matchEntire(it) ?: return@mapNotNull null\n",
    "        BenchmarkData(\n",
    "            match.groups[1]!!.value,\n",
    "            match.groups[2]!!.value.toDouble(),\n",
    "            match.groups[3]!!.value.toDouble(),\n",
    "        )\n",
    "    }\n",
    "benchmarkLines.joinToString(\"\\n\")"
   ]
  },
  {
   "cell_type": "code",
   "execution_count": 104,
   "outputs": [
    {
     "data": {
      "text/html": "   <div id=\"N1cJk4\"></div>\n   <script type=\"text/javascript\" data-lets-plot-script=\"library\">\n       if(!window.letsPlotCallQueue) {\n           window.letsPlotCallQueue = [];\n       }; \n       window.letsPlotCall = function(f) {\n           window.letsPlotCallQueue.push(f);\n       };\n       (function() {\n           var script = document.createElement(\"script\");\n           script.type = \"text/javascript\";\n           script.src = \"https://cdn.jsdelivr.net/gh/JetBrains/lets-plot@v3.0.0/js-package/distr/lets-plot.min.js\";\n           script.onload = function() {\n               window.letsPlotCall = function(f) {f();};\n               window.letsPlotCallQueue.forEach(function(f) {f();});\n               window.letsPlotCallQueue = [];\n               \n               \n           };\n           script.onerror = function(event) {\n               window.letsPlotCall = function(f) {};\n               window.letsPlotCallQueue = [];\n               var div = document.createElement(\"div\");\n               div.style.color = 'darkred';\n               div.textContent = 'Error loading Lets-Plot JS';\n               document.getElementById(\"N1cJk4\").appendChild(div);\n           };\n           var e = document.getElementById(\"N1cJk4\");\n           e.appendChild(script);\n       })();\n   </script>"
     },
     "metadata": {},
     "output_type": "display_data"
    }
   ],
   "source": [
    "%use lets-plot"
   ],
   "metadata": {
    "collapsed": false,
    "ExecuteTime": {
     "start_time": "2023-04-09T09:05:30.721115Z",
     "end_time": "2023-04-09T09:05:36.071156Z"
    }
   }
  },
  {
   "cell_type": "code",
   "execution_count": 105,
   "outputs": [
    {
     "data": {
      "text/html": "   <div id=\"aOsO3G\"></div>\n   <script type=\"text/javascript\" data-lets-plot-script=\"plot\">\n       (function() {\n           var plotSpec={\n\"ggtitle\":{\n\"text\":\"Microbenchmark of 3D scene rendering\"\n},\n\"mapping\":{\n},\n\"ggsize\":{\n\"width\":1000.0,\n\"height\":800.0\n},\n\"kind\":\"plot\",\n\"scales\":[{\n\"aesthetic\":\"y\",\n\"name\":\"ns/op\"\n},{\n\"aesthetic\":\"fill\",\n\"name\":\"Benchmark\"\n},{\n\"aesthetic\":\"x\",\n\"breaks\":[\"baselineDouble\",\"baselineFloat\",\"inlineDouble\",\"inlineFloat\",\"longPackFloat\",\"mutableRefDouble\",\"mutableRefFloatIn1Long\",\"mutableRefFloatIn2Longs\",\"valueDouble\",\"valueFloat\",\"valueInlineDouble\",\"valueInlineFloat\"],\n\"name\":\"\",\n\"limits\":[\"baselineDouble\",\"baselineFloat\",\"inlineDouble\",\"inlineFloat\",\"longPackFloat\",\"mutableRefDouble\",\"mutableRefFloatIn1Long\",\"mutableRefFloatIn2Longs\",\"valueDouble\",\"valueFloat\",\"valueInlineDouble\",\"valueInlineFloat\",\"\"],\n\"labels\":[\"baselineDouble\",\"baselineFloat\",\"inlineDouble\",\"inlineFloat\",\"longPackFloat\",\"mutableRefDouble\",\"mutableRefFloatIn1Long\",\"mutableRefFloatIn2Longs\",\"valueDouble\",\"valueFloat\",\"valueInlineDouble\",\"valueInlineFloat\"]\n},{\n\"aesthetic\":\"y\",\n\"name\":\"ns/op\",\n\"limits\":[0.0,1751079.8930000002]\n}],\n\"layers\":[{\n\"mapping\":{\n\"x\":\"x\",\n\"y\":\"y\",\n\"fill\":\"fill\"\n},\n\"stat\":\"identity\",\n\"position\":\"stack\",\n\"geom\":\"bar\",\n\"data\":{\n\"x\":[\"baselineDouble\",\"baselineFloat\",\"inlineDouble\",\"inlineFloat\",\"longPackFloat\",\"mutableRefDouble\",\"mutableRefFloatIn1Long\",\"mutableRefFloatIn2Longs\",\"valueDouble\",\"valueFloat\",\"valueInlineDouble\",\"valueInlineFloat\"],\n\"y\":[936774.42,923287.075,932035.84,897810.246,1585716.339,1093688.2,1748488.235,1079365.369,655928.157,668845.568,651329.162,685287.53],\n\"fill\":[\"baselineDouble\",\"baselineFloat\",\"inlineDouble\",\"inlineFloat\",\"longPackFloat\",\"mutableRefDouble\",\"mutableRefFloatIn1Long\",\"mutableRefFloatIn2Longs\",\"valueDouble\",\"valueFloat\",\"valueInlineDouble\",\"valueInlineFloat\"]\n}\n},{\n\"mapping\":{\n\"x\":\"x1\",\n\"ymin\":\"ymin\",\n\"ymax\":\"ymax\"\n},\n\"stat\":\"identity\",\n\"size\":0.6,\n\"width\":0.5,\n\"position\":\"dodge\",\n\"geom\":\"errorbar\",\n\"data\":{\n\"ymin\":[936084.3570000001,917555.994,929564.2335,896962.6915000001,1572843.8765,1092694.1205,1745896.577,1077616.0335,654636.1140000001,659581.4234999999,648009.9445,684339.868],\n\"ymax\":[937464.483,929018.156,934507.4465,898657.8005,1598588.8014999998,1094682.2795,1751079.8930000002,1081114.7045,657220.2,678109.7125,654648.3795,686235.192],\n\"x1\":[\"baselineDouble\",\"baselineFloat\",\"inlineDouble\",\"inlineFloat\",\"longPackFloat\",\"mutableRefDouble\",\"mutableRefFloatIn1Long\",\"mutableRefFloatIn2Longs\",\"valueDouble\",\"valueFloat\",\"valueInlineDouble\",\"valueInlineFloat\"]\n}\n},{\n\"mapping\":{\n\"x\":\"x2\",\n\"y\":\"y1\",\n\"label\":\"label\"\n},\n\"stat\":\"identity\",\n\"size\":5.0,\n\"position\":{\n\"name\":\"stack\",\n\"vjust\":0.5,\n\"kind\":\"pos\"\n},\n\"geom\":\"text\",\n\"data\":{\n\"y1\":[936774.42,923287.075,932035.84,897810.246,1585716.339,1093688.2,1748488.235,1079365.369,655928.157,668845.568,651329.162,685287.53],\n\"x2\":[\"baselineDouble\",\"baselineFloat\",\"inlineDouble\",\"inlineFloat\",\"longPackFloat\",\"mutableRefDouble\",\"mutableRefFloatIn1Long\",\"mutableRefFloatIn2Longs\",\"valueDouble\",\"valueFloat\",\"valueInlineDouble\",\"valueInlineFloat\"],\n\"label\":[\"100%\\n±\\n0.1%\\nDouble\",\"100%\\n±\\n1.2%\\nFloat\",\"99%\\n±\\n0.5%\\nDouble\",\"97%\\n±\\n0.2%\\nFloat\",\"172%\\n±\\n2.8%\\nFloat\",\"117%\\n±\\n0.2%\\nDouble\",\"189%\\n±\\n0.6%\\nFloat\",\"117%\\n±\\n0.4%\\nFloat\",\"70%\\n±\\n0.3%\\nDouble\",\"72%\\n±\\n2.0%\\nFloat\",\"70%\\n±\\n0.7%\\nDouble\",\"74%\\n±\\n0.2%\\nFloat\"]\n}\n}],\n\"theme\":{\n\"plot_title\":{\n\"hjust\":0.5,\n\"blank\":false\n},\n\"legend_position\":\"right\"\n}\n};\n           var plotContainer = document.getElementById(\"aOsO3G\");\n           window.letsPlotCall(function() {{\n               LetsPlot.buildPlotFromProcessedSpecs(plotSpec, -1, -1, plotContainer);\n           }});\n       })();    \n   </script>"
     },
     "metadata": {},
     "output_type": "display_data"
    }
   ],
   "source": [
    "import org.jetbrains.letsPlot.intern.PosKind\n",
    "import org.jetbrains.letsPlot.intern.StatKind\n",
    "import org.jetbrains.letsPlot.intern.layer.PosOptions\n",
    "import org.jetbrains.letsPlot.intern.layer.StatOptions\n",
    "\n",
    "val names = benchmarkLines.map { it.name }\n",
    "val scores = benchmarkLines.map { it.score }\n",
    "val scoresMinusErrors = benchmarkLines.map { it.score - it.error / 2 }\n",
    "val scoresPlusErrors = benchmarkLines.map { it.score + it.error / 2 }\n",
    "val baseline = listOf(\"Float\", \"Double\").associateWith { type ->\n",
    "    benchmarkLines.single { it.name == \"baseline$type\" }\n",
    "}\n",
    "val plot = letsPlot() +\n",
    "        labs(\"Microbenchmark of 3D scene rendering\", fill = \"Benchmark\", y = \"ns/op\") +\n",
    "        geomBar(stat = StatOptions(kind = StatKind.IDENTITY)) {\n",
    "            x = names\n",
    "            y = scores\n",
    "            fill = names\n",
    "        } +\n",
    "        geomErrorBar(\n",
    "            width = 0.5,\n",
    "            position = PosOptions(kind = PosKind.DODGE),\n",
    "            size = 0.6\n",
    "        ) {\n",
    "            x = names\n",
    "            ymin = scoresMinusErrors\n",
    "            ymax = scoresPlusErrors\n",
    "        } +\n",
    "        geomText(\n",
    "            stat = StatOptions(kind = StatKind.IDENTITY),\n",
    "            position = positionStack(vjust = 0.5),\n",
    "            size = 5,\n",
    "        ) {\n",
    "            x = names\n",
    "            y = scores\n",
    "            label = benchmarkLines.map {\n",
    "                val isFloat = it.name.contains(\"Float\")\n",
    "                val type = if (isFloat) \"Float\" else \"Double\"\n",
    "                val score = it.score / baseline[type]!!.score\n",
    "                val error = it.error / baseline[type]!!.score\n",
    "                \"${String.format(\"%.0f\", score * 100)}%\\n±\\n${String.format(\"%.1f\", error * 100)}%\\n${type}\"\n",
    "            }\n",
    "        } +\n",
    "        scaleXDiscrete(\n",
    "            labels = names,\n",
    "            name = \"\",\n",
    "            limits = names + listOf(\"\"),\n",
    "            breaks = names.toList()\n",
    "        ) +\n",
    "        scaleYContinuous(limits = 0 to scoresPlusErrors.max(), name = \"ns/op\") +\n",
    "        theme(plotTitle = elementText(hjust = 0.5)).legendPositionRight() +\n",
    "        ggsize(1000, 800)\n",
    "\n",
    "\n",
    "plot.show()"
   ],
   "metadata": {
    "collapsed": false,
    "ExecuteTime": {
     "start_time": "2023-04-09T09:05:36.063089Z",
     "end_time": "2023-04-09T09:05:36.566829Z"
    }
   }
  },
  {
   "cell_type": "code",
   "execution_count": 106,
   "outputs": [
    {
     "data": {
      "text/plain": "/Users/Evgeniy.Zhelenskiy/IdeaProjects/Wolf3d/lets-plot-images/results.svg"
     },
     "execution_count": 106,
     "metadata": {},
     "output_type": "execute_result"
    }
   ],
   "source": [
    "ggsave(plot = plot, filename = \"results.svg\")"
   ],
   "metadata": {
    "collapsed": false,
    "ExecuteTime": {
     "start_time": "2023-04-09T09:05:36.563435Z",
     "end_time": "2023-04-09T09:05:36.656463Z"
    }
   }
  }
 ],
 "metadata": {
  "kernelspec": {
   "display_name": "Kotlin",
   "language": "kotlin",
   "name": "kotlin"
  },
  "language_info": {
   "name": "kotlin",
   "version": "1.8.0",
   "mimetype": "text/x-kotlin",
   "file_extension": ".kt",
   "pygments_lexer": "kotlin",
   "codemirror_mode": "text/x-kotlin",
   "nbconvert_exporter": ""
  }
 },
 "nbformat": 4,
 "nbformat_minor": 0
}
