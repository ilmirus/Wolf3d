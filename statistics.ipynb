{
 "cells": [
  {
   "cell_type": "code",
   "execution_count": 1,
   "metadata": {
    "collapsed": true,
    "ExecuteTime": {
     "start_time": "2023-04-10T04:46:51.694569Z",
     "end_time": "2023-04-10T04:46:52.463954Z"
    }
   },
   "outputs": [
    {
     "data": {
      "text/plain": "baselineDouble: 941916.132 ± 4429.574 ns/op\nbaselineFloat: 910182.882 ± 3525.255 ns/op\ninlineDouble: 950208.459 ± 19364.968 ns/op\ninlineFloat: 914927.291 ± 6581.754 ns/op\nlongPackFloat: 1589400.572 ± 17887.677 ns/op\nmutableRefDouble: 649870.736 ± 5998.91 ns/op\nmutableRefFloatIn1Long: 1566596.328 ± 7695.366 ns/op\nmutableRefFloatIn2Longs: 657675.499 ± 10049.779 ns/op\nvalueDouble: 679555.47 ± 3147.92 ns/op\nvalueFloat: 666612.502 ± 8971.526 ns/op\nvalueInlineDouble: 657662.914 ± 7954.246 ns/op\nvalueInlineFloat: 673786.95 ± 9490.854 ns/op"
     },
     "execution_count": 1,
     "metadata": {},
     "output_type": "execute_result"
    }
   ],
   "source": [
    "import java.nio.file.Files\n",
    "import java.nio.file.Path\n",
    "\n",
    "data class BenchmarkData(val name: String, val score: Double, val error: Double) {\n",
    "    override fun toString(): String = \"$name: $score ± $error ns/op\"\n",
    "}\n",
    "\n",
    "val hotspotBenchmarkLines = Files.readAllLines(Path.of(\"build\", \"results\", \"jmh\", \"results.txt\"))\n",
    "    .mapNotNull {\n",
    "        val r = Regex(\"JmhBenchmark\\\\.([^ ]+) +avgt +\\\\d+ +([0-9.]+) +± +([0-9.]+) +ns/op\")\n",
    "        val match = r.matchEntire(it) ?: return@mapNotNull null\n",
    "        BenchmarkData(\n",
    "            match.groups[1]!!.value,\n",
    "            match.groups[2]!!.value.toDouble(),\n",
    "            match.groups[3]!!.value.toDouble(),\n",
    "        )\n",
    "    }\n",
    "hotspotBenchmarkLines.joinToString(\"\\n\")"
   ]
  },
  {
   "cell_type": "code",
   "execution_count": 2,
   "outputs": [
    {
     "data": {
      "text/html": "   <div id=\"ZdUOpS\"></div>\n   <script type=\"text/javascript\" data-lets-plot-script=\"library\">\n       if(!window.letsPlotCallQueue) {\n           window.letsPlotCallQueue = [];\n       }; \n       window.letsPlotCall = function(f) {\n           window.letsPlotCallQueue.push(f);\n       };\n       (function() {\n           var script = document.createElement(\"script\");\n           script.type = \"text/javascript\";\n           script.src = \"https://cdn.jsdelivr.net/gh/JetBrains/lets-plot@v3.0.0/js-package/distr/lets-plot.min.js\";\n           script.onload = function() {\n               window.letsPlotCall = function(f) {f();};\n               window.letsPlotCallQueue.forEach(function(f) {f();});\n               window.letsPlotCallQueue = [];\n               \n               \n           };\n           script.onerror = function(event) {\n               window.letsPlotCall = function(f) {};\n               window.letsPlotCallQueue = [];\n               var div = document.createElement(\"div\");\n               div.style.color = 'darkred';\n               div.textContent = 'Error loading Lets-Plot JS';\n               document.getElementById(\"ZdUOpS\").appendChild(div);\n           };\n           var e = document.getElementById(\"ZdUOpS\");\n           e.appendChild(script);\n       })();\n   </script>"
     },
     "metadata": {},
     "output_type": "display_data"
    }
   ],
   "source": [
    "%use lets-plot"
   ],
   "metadata": {
    "collapsed": false,
    "ExecuteTime": {
     "start_time": "2023-04-10T04:46:52.464541Z",
     "end_time": "2023-04-10T04:46:56.489011Z"
    }
   }
  },
  {
   "cell_type": "code",
   "execution_count": 3,
   "outputs": [],
   "source": [
    "import org.jetbrains.letsPlot.intern.PosKind\n",
    "import org.jetbrains.letsPlot.intern.StatKind\n",
    "import org.jetbrains.letsPlot.intern.layer.PosOptions\n",
    "import org.jetbrains.letsPlot.intern.layer.StatOptions\n",
    "\n",
    "fun makePlot(platform: String, benchmarkLines: List<BenchmarkData>) {\n",
    "    val names = benchmarkLines.map { it.name }\n",
    "    val scores = benchmarkLines.map { it.score }\n",
    "    val scoresMinusErrors = benchmarkLines.map { it.score - it.error / 2 }\n",
    "    val scoresPlusErrors = benchmarkLines.map { it.score + it.error / 2 }\n",
    "    val baseline = listOf(\"Float\", \"Double\").associateWith { type ->\n",
    "        benchmarkLines.single { it.name == \"baseline$type\" }\n",
    "    }\n",
    "    val plot = letsPlot() +\n",
    "            labs(\"Microbenchmark of 3D scene rendering ($platform)\", fill = \"Benchmark\", y = \"ns/op\") +\n",
    "            geomBar(stat = StatOptions(kind = StatKind.IDENTITY)) {\n",
    "                x = names\n",
    "                y = scores\n",
    "                fill = names\n",
    "            } +\n",
    "            geomErrorBar(\n",
    "                width = 0.5,\n",
    "                position = PosOptions(kind = PosKind.DODGE),\n",
    "                size = 0.6\n",
    "            ) {\n",
    "                x = names\n",
    "                ymin = scoresMinusErrors\n",
    "                ymax = scoresPlusErrors\n",
    "            } +\n",
    "            geomText(\n",
    "                stat = StatOptions(kind = StatKind.IDENTITY),\n",
    "                position = positionStack(vjust = 0.5),\n",
    "                size = 5,\n",
    "            ) {\n",
    "                x = names\n",
    "                y = scores\n",
    "                label = benchmarkLines.map {\n",
    "                    val isFloat = it.name.contains(\"Float\")\n",
    "                    val type = if (isFloat) \"Float\" else \"Double\"\n",
    "                    val score = it.score / baseline[type]!!.score\n",
    "                    val error = it.error / baseline[type]!!.score\n",
    "                    \"${String.format(\"%.0f\", score * 100)}%\\n±\\n${String.format(\"%.1f\", error * 100)}%\\n${type}\"\n",
    "                }\n",
    "            } +\n",
    "            scaleXDiscrete(\n",
    "                labels = names,\n",
    "                name = \"\",\n",
    "                limits = names + listOf(\"\"),\n",
    "                breaks = names.toList()\n",
    "            ) +\n",
    "            scaleYContinuous(limits = 0 to scoresPlusErrors.max(), name = \"ns/op\") +\n",
    "            theme(plotTitle = elementText(hjust = 0.5)).legendPositionRight() +\n",
    "            ggsize(1000, 800)\n",
    "    ggsave(plot = plot, filename = \"$platform.svg\")\n",
    "    plot.show()\n",
    "}\n"
   ],
   "metadata": {
    "collapsed": false,
    "ExecuteTime": {
     "start_time": "2023-04-10T04:46:56.481889Z",
     "end_time": "2023-04-10T04:46:57.789531Z"
    }
   }
  },
  {
   "cell_type": "code",
   "execution_count": 4,
   "outputs": [
    {
     "data": {
      "text/html": "   <div id=\"qHQetP\"></div>\n   <script type=\"text/javascript\" data-lets-plot-script=\"plot\">\n       (function() {\n           var plotSpec={\n\"ggtitle\":{\n\"text\":\"Microbenchmark of 3D scene rendering (Hotspot)\"\n},\n\"mapping\":{\n},\n\"ggsize\":{\n\"width\":1000.0,\n\"height\":1200.0\n},\n\"kind\":\"plot\",\n\"scales\":[{\n\"aesthetic\":\"y\",\n\"name\":\"ns/op\"\n},{\n\"aesthetic\":\"fill\",\n\"name\":\"Benchmark\"\n},{\n\"aesthetic\":\"x\",\n\"breaks\":[\"baselineDouble\",\"baselineFloat\",\"inlineDouble\",\"inlineFloat\",\"longPackFloat\",\"mutableRefDouble\",\"mutableRefFloatIn1Long\",\"mutableRefFloatIn2Longs\",\"valueDouble\",\"valueFloat\",\"valueInlineDouble\",\"valueInlineFloat\"],\n\"name\":\"\",\n\"limits\":[\"baselineDouble\",\"baselineFloat\",\"inlineDouble\",\"inlineFloat\",\"longPackFloat\",\"mutableRefDouble\",\"mutableRefFloatIn1Long\",\"mutableRefFloatIn2Longs\",\"valueDouble\",\"valueFloat\",\"valueInlineDouble\",\"valueInlineFloat\",\"\"],\n\"labels\":[\"baselineDouble\",\"baselineFloat\",\"inlineDouble\",\"inlineFloat\",\"longPackFloat\",\"mutableRefDouble\",\"mutableRefFloatIn1Long\",\"mutableRefFloatIn2Longs\",\"valueDouble\",\"valueFloat\",\"valueInlineDouble\",\"valueInlineFloat\"]\n},{\n\"aesthetic\":\"y\",\n\"name\":\"ns/op\",\n\"limits\":[0.0,1598344.4105]\n}],\n\"layers\":[{\n\"mapping\":{\n\"x\":\"x\",\n\"y\":\"y\",\n\"fill\":\"fill\"\n},\n\"stat\":\"identity\",\n\"position\":\"stack\",\n\"geom\":\"bar\",\n\"data\":{\n\"x\":[\"baselineDouble\",\"baselineFloat\",\"inlineDouble\",\"inlineFloat\",\"longPackFloat\",\"mutableRefDouble\",\"mutableRefFloatIn1Long\",\"mutableRefFloatIn2Longs\",\"valueDouble\",\"valueFloat\",\"valueInlineDouble\",\"valueInlineFloat\"],\n\"y\":[941916.132,910182.882,950208.459,914927.291,1589400.572,649870.736,1566596.328,657675.499,679555.47,666612.502,657662.914,673786.95],\n\"fill\":[\"baselineDouble\",\"baselineFloat\",\"inlineDouble\",\"inlineFloat\",\"longPackFloat\",\"mutableRefDouble\",\"mutableRefFloatIn1Long\",\"mutableRefFloatIn2Longs\",\"valueDouble\",\"valueFloat\",\"valueInlineDouble\",\"valueInlineFloat\"]\n}\n},{\n\"mapping\":{\n\"x\":\"x1\",\n\"ymin\":\"ymin\",\n\"ymax\":\"ymax\"\n},\n\"stat\":\"identity\",\n\"size\":0.6,\n\"width\":0.5,\n\"position\":\"dodge\",\n\"geom\":\"errorbar\",\n\"data\":{\n\"ymin\":[939701.345,908420.2545,940525.975,911636.414,1580456.7334999999,646871.2810000001,1562748.645,652650.6094999999,677981.51,662126.739,653685.791,669041.5229999999],\n\"ymax\":[944130.919,911945.5094999999,959890.9430000001,918218.168,1598344.4105,652870.191,1570444.011,662700.3885,681129.4299999999,671098.265,661640.037,678532.377],\n\"x1\":[\"baselineDouble\",\"baselineFloat\",\"inlineDouble\",\"inlineFloat\",\"longPackFloat\",\"mutableRefDouble\",\"mutableRefFloatIn1Long\",\"mutableRefFloatIn2Longs\",\"valueDouble\",\"valueFloat\",\"valueInlineDouble\",\"valueInlineFloat\"]\n}\n},{\n\"mapping\":{\n\"x\":\"x2\",\n\"y\":\"y1\",\n\"label\":\"label\"\n},\n\"stat\":\"identity\",\n\"size\":5.0,\n\"position\":\"identity\",\n\"geom\":\"text\",\n\"data\":{\n\"y1\":[472065.4595,455972.75474999996,479945.47150000004,459109.084,799172.20525,326435.0955,785222.0055,331350.19425,340564.71499999997,335549.1325,330820.0185,339266.1885],\n\"x2\":[\"baselineDouble\",\"baselineFloat\",\"inlineDouble\",\"inlineFloat\",\"longPackFloat\",\"mutableRefDouble\",\"mutableRefFloatIn1Long\",\"mutableRefFloatIn2Longs\",\"valueDouble\",\"valueFloat\",\"valueInlineDouble\",\"valueInlineFloat\"],\n\"label\":[\"100%\\n±\\n0.5%\\nDouble\",\"100%\\n±\\n0.4%\\nFloat\",\"101%\\n±\\n2.1%\\nDouble\",\"101%\\n±\\n0.7%\\nFloat\",\"175%\\n±\\n2.0%\\nFloat\",\"69%\\n±\\n0.6%\\nDouble\",\"172%\\n±\\n0.8%\\nFloat\",\"72%\\n±\\n1.1%\\nFloat\",\"72%\\n±\\n0.3%\\nDouble\",\"73%\\n±\\n1.0%\\nFloat\",\"70%\\n±\\n0.8%\\nDouble\",\"74%\\n±\\n1.0%\\nFloat\"]\n}\n}],\n\"theme\":{\n\"plot_title\":{\n\"hjust\":0.5,\n\"blank\":false\n},\n\"legend_position\":\"right\"\n}\n};\n           var plotContainer = document.getElementById(\"qHQetP\");\n           window.letsPlotCall(function() {{\n               LetsPlot.buildPlotFromProcessedSpecs(plotSpec, -1, -1, plotContainer);\n           }});\n       })();    \n   </script>"
     },
     "metadata": {},
     "output_type": "display_data"
    }
   ],
   "source": [
    "makePlot(\"Hotspot\", hotspotBenchmarkLines)"
   ],
   "metadata": {
    "collapsed": false,
    "ExecuteTime": {
     "start_time": "2023-04-10T04:46:57.787375Z",
     "end_time": "2023-04-10T04:46:58.435358Z"
    }
   }
  },
  {
   "cell_type": "code",
   "execution_count": 5,
   "outputs": [
    {
     "data": {
      "text/plain": "baselineDouble: 1.0222239277777778E7 ± 400030.9104534168 ns/op\nbaselineFloat: 1.1463365375E7 ± 401479.2494035714 ns/op\ninlineDouble: 2.3791822125E7 ± 875003.7124902818 ns/op\ninlineFloat: 1.8160392299999997E7 ± 862164.0314703624 ns/op\nlongPackFloat: 4500319.068181818 ± 15783.62096242716 ns/op\nmutableRefDouble: 3191629.8125 ± 57969.18846950532 ns/op\nmutableRefFloatIn1Long: 5753390.375 ± 13898.516651497792 ns/op\nmutableRefFloatIn2Longs: 2723149.423076923 ± 51419.33878301706 ns/op\nvalueDouble: 1.19470865E7 ± 508585.7098869036 ns/op\nvalueFloat: 7555263.307692308 ± 351407.9795457559 ns/op\nvalueInlineDouble: 497368.9797979798 ± 10144.918485427219 ns/op\nvalueInlineFloat: 480918.3381642512 ± 12565.344512456217 ns/op"
     },
     "execution_count": 5,
     "metadata": {},
     "output_type": "execute_result"
    }
   ],
   "source": [
    "import java.io.FileFilter\n",
    "import kotlin.io.path.listDirectoryEntries\n",
    "\n",
    "val artBenchmarkLines = Path.of(\"android-benchmark/build/outputs/androidTest-results/connected\")\n",
    "    .toFile().listFiles(FileFilter { it.isDirectory })!!.single()\n",
    "    .listFiles { dir, name -> name.startsWith(\"logcat-org.jetbrains.\") }!!.flatMap { it.readLines() }\n",
    "    .mapNotNull {\n",
    "        val pattern = Regex(\"^\\\\d{2}-\\\\d{2} \\\\d+:\\\\d+:\\\\d+.\\\\d+ \\\\d+ \\\\d+ I Benchmark: AndroidBenchmark.([^\\\\[]+)\\\\[Metric \\\\(timeNs\\\\) results: median ([^,]+), min [^,]+, max [^,]+, standardDeviation: ([^,]+), .*\")\n",
    "        val match = pattern.matchEntire(it) ?: return@mapNotNull null\n",
    "        BenchmarkData(\n",
    "            match.groups[1]!!.value,\n",
    "            match.groups[2]!!.value.toDouble(),\n",
    "            match.groups[3]!!.value.toDouble(),\n",
    "        )\n",
    "     }.let { lines ->\n",
    "         val indexes = hotspotBenchmarkLines.mapIndexed { index, benchmarkData -> benchmarkData.name to index }.toMap()\n",
    "         lines.sortedBy { indexes[it.name]!! }\n",
    "     }\n",
    "artBenchmarkLines.joinToString(\"\\n\")"
   ],
   "metadata": {
    "collapsed": false,
    "ExecuteTime": {
     "start_time": "2023-04-10T04:46:58.409255Z",
     "end_time": "2023-04-10T04:46:59.258165Z"
    }
   }
  },
  {
   "cell_type": "code",
   "execution_count": 6,
   "outputs": [
    {
     "data": {
      "text/html": "   <div id=\"8Tyylw\"></div>\n   <script type=\"text/javascript\" data-lets-plot-script=\"plot\">\n       (function() {\n           var plotSpec={\n\"ggtitle\":{\n\"text\":\"Microbenchmark of 3D scene rendering (ART)\"\n},\n\"mapping\":{\n},\n\"ggsize\":{\n\"width\":1000.0,\n\"height\":1200.0\n},\n\"kind\":\"plot\",\n\"scales\":[{\n\"aesthetic\":\"y\",\n\"name\":\"ns/op\"\n},{\n\"aesthetic\":\"fill\",\n\"name\":\"Benchmark\"\n},{\n\"aesthetic\":\"x\",\n\"breaks\":[\"baselineDouble\",\"baselineFloat\",\"inlineDouble\",\"inlineFloat\",\"longPackFloat\",\"mutableRefDouble\",\"mutableRefFloatIn1Long\",\"mutableRefFloatIn2Longs\",\"valueDouble\",\"valueFloat\",\"valueInlineDouble\",\"valueInlineFloat\"],\n\"name\":\"\",\n\"limits\":[\"baselineDouble\",\"baselineFloat\",\"inlineDouble\",\"inlineFloat\",\"longPackFloat\",\"mutableRefDouble\",\"mutableRefFloatIn1Long\",\"mutableRefFloatIn2Longs\",\"valueDouble\",\"valueFloat\",\"valueInlineDouble\",\"valueInlineFloat\",\"\"],\n\"labels\":[\"baselineDouble\",\"baselineFloat\",\"inlineDouble\",\"inlineFloat\",\"longPackFloat\",\"mutableRefDouble\",\"mutableRefFloatIn1Long\",\"mutableRefFloatIn2Longs\",\"valueDouble\",\"valueFloat\",\"valueInlineDouble\",\"valueInlineFloat\"]\n},{\n\"aesthetic\":\"y\",\n\"name\":\"ns/op\",\n\"limits\":[0.0,2.422932398124514E7]\n}],\n\"layers\":[{\n\"mapping\":{\n\"x\":\"x\",\n\"y\":\"y\",\n\"fill\":\"fill\"\n},\n\"stat\":\"identity\",\n\"position\":\"stack\",\n\"geom\":\"bar\",\n\"data\":{\n\"x\":[\"baselineDouble\",\"baselineFloat\",\"inlineDouble\",\"inlineFloat\",\"longPackFloat\",\"mutableRefDouble\",\"mutableRefFloatIn1Long\",\"mutableRefFloatIn2Longs\",\"valueDouble\",\"valueFloat\",\"valueInlineDouble\",\"valueInlineFloat\"],\n\"y\":[1.0222239277777778E7,1.1463365375E7,2.3791822125E7,1.8160392299999997E7,4500319.068181818,3191629.8125,5753390.375,2723149.423076923,1.19470865E7,7555263.307692308,497368.9797979798,480918.3381642512],\n\"fill\":[\"baselineDouble\",\"baselineFloat\",\"inlineDouble\",\"inlineFloat\",\"longPackFloat\",\"mutableRefDouble\",\"mutableRefFloatIn1Long\",\"mutableRefFloatIn2Longs\",\"valueDouble\",\"valueFloat\",\"valueInlineDouble\",\"valueInlineFloat\"]\n}\n},{\n\"mapping\":{\n\"x\":\"x1\",\n\"ymin\":\"ymin\",\n\"ymax\":\"ymax\"\n},\n\"stat\":\"identity\",\n\"size\":0.6,\n\"width\":0.5,\n\"position\":\"dodge\",\n\"geom\":\"errorbar\",\n\"data\":{\n\"ymin\":[1.002222382255107E7,1.1262625750298215E7,2.335432026875486E7,1.7729310284264814E7,4492427.257700604,3162645.2182652475,5746441.116674251,2697439.7536854143,1.1692793645056548E7,7379559.31791943,492296.5205552662,474635.6659080231],\n\"ymax\":[1.0422254733004486E7,1.1664104999701785E7,2.422932398124514E7,1.859147431573518E7,4508210.878663032,3220614.4067347525,5760339.633325749,2748859.0924684317,1.2201379354943452E7,7730967.297465186,502441.43904069345,487201.0104204793],\n\"x1\":[\"baselineDouble\",\"baselineFloat\",\"inlineDouble\",\"inlineFloat\",\"longPackFloat\",\"mutableRefDouble\",\"mutableRefFloatIn1Long\",\"mutableRefFloatIn2Longs\",\"valueDouble\",\"valueFloat\",\"valueInlineDouble\",\"valueInlineFloat\"]\n}\n},{\n\"mapping\":{\n\"x\":\"x2\",\n\"y\":\"y1\",\n\"label\":\"label\"\n},\n\"stat\":\"identity\",\n\"size\":5.0,\n\"position\":\"identity\",\n\"geom\":\"text\",\n\"data\":{\n\"y1\":[5211127.366502243,5832052.499850892,1.211466199062257E7,9295737.15786759,2254105.439331516,1610307.2033673762,2880169.8166628745,1374429.5462342158,6100689.677471726,3865483.648732593,1938345.9184996113,1938345.9184996113],\n\"x2\":[\"baselineDouble\",\"baselineFloat\",\"inlineDouble\",\"inlineFloat\",\"longPackFloat\",\"mutableRefDouble\",\"mutableRefFloatIn1Long\",\"mutableRefFloatIn2Longs\",\"valueDouble\",\"valueFloat\",\"valueInlineDouble\",\"valueInlineFloat\"],\n\"label\":[\"100%\\n±\\n3.9%\\nDouble\",\"100%\\n±\\n3.5%\\nFloat\",\"233%\\n±\\n8.6%\\nDouble\",\"158%\\n±\\n7.5%\\nFloat\",\"39%\\n±\\n0.1%\\nFloat\",\"31%\\n±\\n0.6%\\nDouble\",\"50%\\n±\\n0.1%\\nFloat\",\"24%\\n±\\n0.4%\\nFloat\",\"117%\\n±\\n5.0%\\nDouble\",\"66%\\n±\\n3.1%\\nFloat\",\"5%\\n±\\n0.1%\\nDouble\",\"4%\\n±\\n0.1%\\nFloat\"]\n}\n}],\n\"theme\":{\n\"plot_title\":{\n\"hjust\":0.5,\n\"blank\":false\n},\n\"legend_position\":\"right\"\n}\n};\n           var plotContainer = document.getElementById(\"8Tyylw\");\n           window.letsPlotCall(function() {{\n               LetsPlot.buildPlotFromProcessedSpecs(plotSpec, -1, -1, plotContainer);\n           }});\n       })();    \n   </script>"
     },
     "metadata": {},
     "output_type": "display_data"
    }
   ],
   "source": [
    "makePlot(\"ART\", artBenchmarkLines)"
   ],
   "metadata": {
    "collapsed": false,
    "ExecuteTime": {
     "start_time": "2023-04-10T04:46:59.255342Z",
     "end_time": "2023-04-10T04:46:59.462197Z"
    }
   }
  }
 ],
 "metadata": {
  "kernelspec": {
   "display_name": "Kotlin",
   "language": "kotlin",
   "name": "kotlin"
  },
  "language_info": {
   "name": "kotlin",
   "version": "1.8.0",
   "mimetype": "text/x-kotlin",
   "file_extension": ".kt",
   "pygments_lexer": "kotlin",
   "codemirror_mode": "text/x-kotlin",
   "nbconvert_exporter": ""
  }
 },
 "nbformat": 4,
 "nbformat_minor": 0
}
