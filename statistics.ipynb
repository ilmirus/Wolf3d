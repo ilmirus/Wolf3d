{
 "cells": [
  {
   "cell_type": "code",
   "execution_count": 1,
   "metadata": {
    "collapsed": true,
    "ExecuteTime": {
     "end_time": "2023-04-29T23:30:11.547789Z",
     "start_time": "2023-04-29T23:30:10.392597Z"
    }
   },
   "outputs": [
    {
     "data": {
      "text/plain": "baselineFloat: 3.2777794122E7 ± 117599.149 ns/op\ninlineFloat: 3.2454402942E7 ± 71914.263 ns/op\nlongPackFloat: 5.6637237703E7 ± 30654.969 ns/op\nmutableSpecificRefFloat: 2.3727817417E7 ± 38906.477 ns/op\nmutableUniversalRefFloatIn1Long: 6.3879335429E7 ± 207183.718 ns/op\nmutableUniversalRefFloatIn2Longs: 3.8662847293E7 ± 62597.21 ns/op\nvalueFloat: 2.4604456636E7 ± 363608.407 ns/op\nvalueInlineFloat: 2.4917343507E7 ± 35561.195 ns/op\nvaluePreserveBoxFloat: 2.5026109333E7 ± 75842.585 ns/op\nbaselineDouble: 3.3724536015E7 ± 90546.797 ns/op\ninlineDouble: 3.4364489472E7 ± 204342.15 ns/op\nmutableSpecificRefDouble: 2.3247218375E7 ± 37047.305 ns/op\nmutableUniversalRefDouble: 3.942429982E7 ± 65405.138 ns/op\nvalueDouble: 2.4616159057E7 ± 108055.95 ns/op\nvalueInlineDouble: 2.4570258084E7 ± 157137.427 ns/op\nvaluePreserveBoxDouble: 2.4515243674E7 ± 99634.239 ns/op"
     },
     "execution_count": 1,
     "metadata": {},
     "output_type": "execute_result"
    }
   ],
   "source": [
    "import java.nio.file.Files\n",
    "import java.nio.file.Path\n",
    "\n",
    "data class BenchmarkData(val name: String, val score: Double, val error: Double) {\n",
    "    val type = getType(name)\n",
    "    override fun toString(): String = \"$name: $score ± $error ns/op\"\n",
    "}\n",
    "\n",
    "enum class Type { Int, Long, Float, Double }\n",
    "\n",
    "fun getType(name: String) = when {\n",
    "    name.contains(\"Float\") -> Type.Float\n",
    "    name.contains(\"Int\") -> Type.Int\n",
    "    name.contains(\"Double\") -> Type.Double\n",
    "    name.contains(\"Long\") -> Type.Long // Long must be the last as it is contained in other test names\n",
    "    else -> error(\"Unknown type: ${name}\")\n",
    "}\n",
    "\n",
    "fun readHotspotBenchmarkData(benchmarkName: String) = Files.readAllLines(Path.of(\"build\", \"results\", \"jmh\", \"results.txt\"))\n",
    "    .mapNotNull {\n",
    "        val r = Regex(\"$benchmarkName\\\\.([^ ]+) +avgt +\\\\d+ +([0-9.]+) +± +([0-9.]+) +ns/op\")\n",
    "        val match = r.matchEntire(it) ?: return@mapNotNull null\n",
    "        BenchmarkData(\n",
    "            name = match.groups[1]!!.value,\n",
    "            score = match.groups[2]!!.value.toDouble(),\n",
    "            error = match.groups[3]!!.value.toDouble(),\n",
    "        )\n",
    "    }.sortedBy { it.type }\n",
    "(readHotspotBenchmarkData(\"Wolf3dBenchmark\") + readHotspotBenchmarkData(\"FibonacciBenchmark\")).joinToString(\"\\n\")"
   ]
  },
  {
   "cell_type": "code",
   "execution_count": 2,
   "outputs": [
    {
     "data": {
      "text/html": "   <div id=\"WJJ8OR\"></div>\n   <script type=\"text/javascript\" data-lets-plot-script=\"library\">\n       if(!window.letsPlotCallQueue) {\n           window.letsPlotCallQueue = [];\n       }; \n       window.letsPlotCall = function(f) {\n           window.letsPlotCallQueue.push(f);\n       };\n       (function() {\n           var script = document.createElement(\"script\");\n           script.type = \"text/javascript\";\n           script.src = \"https://cdn.jsdelivr.net/gh/JetBrains/lets-plot@v3.1.0/js-package/distr/lets-plot.min.js\";\n           script.onload = function() {\n               window.letsPlotCall = function(f) {f();};\n               window.letsPlotCallQueue.forEach(function(f) {f();});\n               window.letsPlotCallQueue = [];\n               \n               \n           };\n           script.onerror = function(event) {\n               window.letsPlotCall = function(f) {};\n               window.letsPlotCallQueue = [];\n               var div = document.createElement(\"div\");\n               div.style.color = 'darkred';\n               div.textContent = 'Error loading Lets-Plot JS';\n               document.getElementById(\"WJJ8OR\").appendChild(div);\n           };\n           var e = document.getElementById(\"WJJ8OR\");\n           e.appendChild(script);\n       })();\n   </script>"
     },
     "metadata": {},
     "output_type": "display_data"
    }
   ],
   "source": [
    "%use lets-plot"
   ],
   "metadata": {
    "collapsed": false,
    "ExecuteTime": {
     "end_time": "2023-04-29T23:30:14.440674Z",
     "start_time": "2023-04-29T23:30:11.548680Z"
    }
   }
  },
  {
   "cell_type": "code",
   "execution_count": 3,
   "outputs": [],
   "source": [
    "import org.jetbrains.letsPlot.intern.PosKind\n",
    "import org.jetbrains.letsPlot.intern.StatKind\n",
    "import org.jetbrains.letsPlot.intern.layer.PosOptions\n",
    "import org.jetbrains.letsPlot.intern.layer.StatOptions\n",
    "\n",
    "fun makePlot(name: String, platform: String, benchmarkLines: List<BenchmarkData>) {\n",
    "    if (benchmarkLines.isEmpty()) return\n",
    "    val names = benchmarkLines.map { it.name }\n",
    "    val scores = benchmarkLines.map { it.score }\n",
    "    val scoresMinusErrors = benchmarkLines.map { it.score - it.error / 2 }\n",
    "    val scoresPlusErrors = benchmarkLines.map { it.score + it.error / 2 }\n",
    "    val baseline = benchmarkLines.filter { it.name.startsWith(\"baseline\") }.groupBy { it.type }.mapValues { (_, v) -> v.single() }\n",
    "    val maxScore = scoresPlusErrors.max()\n",
    "    val plot = letsPlot() +\n",
    "            labs(\"$name ($platform)\", fill = \"Benchmark\", y = \"ns/op\") +\n",
    "            geomBar(stat = StatOptions(kind = StatKind.IDENTITY)) {\n",
    "                x = names\n",
    "                y = scores\n",
    "                fill = names\n",
    "            } +\n",
    "            geomErrorBar(\n",
    "                width = 0.5,\n",
    "                position = PosOptions(kind = PosKind.DODGE),\n",
    "                size = 0.6\n",
    "            ) {\n",
    "                x = names\n",
    "                ymin = scoresMinusErrors\n",
    "                ymax = scoresPlusErrors\n",
    "            } +\n",
    "            geomText(\n",
    "                stat = StatOptions(kind = StatKind.IDENTITY),\n",
    "                position = positionStack(vjust = 1.0),\n",
    "                size = 8.0 - names.size.toDouble() / 5,\n",
    "            ) {\n",
    "                x = names\n",
    "                y = scores.map {\n",
    "                    val threshold = 0.09\n",
    "                    if (it < maxScore * threshold) it + threshold * maxScore / 2 else it / 2\n",
    "                }\n",
    "                label = benchmarkLines.map {\n",
    "                    val score = it.score / baseline[it.type]!!.score\n",
    "                    val error = it.error / baseline[it.type]!!.score\n",
    "                    \"${String.format(\"%.0f\", score * 100)}%\\n±\\n${String.format(\"%.1f\", error * 100)}%\\n${it.type}\"\n",
    "                }\n",
    "            } +\n",
    "            scaleXDiscrete(\n",
    "                labels = names,\n",
    "                name = \"\",\n",
    "                limits = names + listOf(\"\"),\n",
    "                breaks = names.toList()\n",
    "            ) +\n",
    "            scaleYContinuous(limits = 0 to maxScore, name = \"ns/op\") +\n",
    "            theme(plotTitle = elementText(hjust = 0.5)).legendPositionRight() +\n",
    "            ggsize(1000, 800)\n",
    "    ggsave(plot = plot, filename = \"$name ($platform).svg\")\n",
    "    plot.show()\n",
    "}\n"
   ],
   "metadata": {
    "collapsed": false,
    "ExecuteTime": {
     "end_time": "2023-04-29T23:30:15.479528Z",
     "start_time": "2023-04-29T23:30:14.437328Z"
    }
   }
  },
  {
   "cell_type": "code",
   "execution_count": 4,
   "outputs": [
    {
     "data": {
      "text/html": "   <div id=\"2gGmZS\"></div>\n   <script type=\"text/javascript\" data-lets-plot-script=\"plot\">\n       (function() {\n           var plotSpec={\n\"ggtitle\":{\n\"text\":\"Wolf3d (Hotspot)\"\n},\n\"mapping\":{\n},\n\"ggsize\":{\n\"width\":1000.0,\n\"height\":800.0\n},\n\"kind\":\"plot\",\n\"scales\":[{\n\"aesthetic\":\"y\",\n\"name\":\"ns/op\"\n},{\n\"aesthetic\":\"fill\",\n\"name\":\"Benchmark\"\n},{\n\"aesthetic\":\"x\",\n\"breaks\":[\"baselineFloat\",\"inlineFloat\",\"longPackFloat\",\"mutableSpecificRefFloat\",\"mutableUniversalRefFloatIn1Long\",\"mutableUniversalRefFloatIn2Longs\",\"valueFloat\",\"valueInlineFloat\",\"valuePreserveBoxFloat\",\"baselineDouble\",\"inlineDouble\",\"mutableSpecificRefDouble\",\"mutableUniversalRefDouble\",\"valueDouble\",\"valueInlineDouble\",\"valuePreserveBoxDouble\"],\n\"name\":\"\",\n\"limits\":[\"baselineFloat\",\"inlineFloat\",\"longPackFloat\",\"mutableSpecificRefFloat\",\"mutableUniversalRefFloatIn1Long\",\"mutableUniversalRefFloatIn2Longs\",\"valueFloat\",\"valueInlineFloat\",\"valuePreserveBoxFloat\",\"baselineDouble\",\"inlineDouble\",\"mutableSpecificRefDouble\",\"mutableUniversalRefDouble\",\"valueDouble\",\"valueInlineDouble\",\"valuePreserveBoxDouble\",\"\"],\n\"labels\":[\"baselineFloat\",\"inlineFloat\",\"longPackFloat\",\"mutableSpecificRefFloat\",\"mutableUniversalRefFloatIn1Long\",\"mutableUniversalRefFloatIn2Longs\",\"valueFloat\",\"valueInlineFloat\",\"valuePreserveBoxFloat\",\"baselineDouble\",\"inlineDouble\",\"mutableSpecificRefDouble\",\"mutableUniversalRefDouble\",\"valueDouble\",\"valueInlineDouble\",\"valuePreserveBoxDouble\"]\n},{\n\"aesthetic\":\"y\",\n\"name\":\"ns/op\",\n\"limits\":[0.0,6.3982927287999995E7]\n}],\n\"layers\":[{\n\"mapping\":{\n\"x\":\"x\",\n\"y\":\"y\",\n\"fill\":\"fill\"\n},\n\"stat\":\"identity\",\n\"position\":\"stack\",\n\"geom\":\"bar\",\n\"data\":{\n\"x\":[\"baselineFloat\",\"inlineFloat\",\"longPackFloat\",\"mutableSpecificRefFloat\",\"mutableUniversalRefFloatIn1Long\",\"mutableUniversalRefFloatIn2Longs\",\"valueFloat\",\"valueInlineFloat\",\"valuePreserveBoxFloat\",\"baselineDouble\",\"inlineDouble\",\"mutableSpecificRefDouble\",\"mutableUniversalRefDouble\",\"valueDouble\",\"valueInlineDouble\",\"valuePreserveBoxDouble\"],\n\"y\":[3.2777794122E7,3.2454402942E7,5.6637237703E7,2.3727817417E7,6.3879335429E7,3.8662847293E7,2.4604456636E7,2.4917343507E7,2.5026109333E7,3.3724536015E7,3.4364489472E7,2.3247218375E7,3.942429982E7,2.4616159057E7,2.4570258084E7,2.4515243674E7],\n\"fill\":[\"baselineFloat\",\"inlineFloat\",\"longPackFloat\",\"mutableSpecificRefFloat\",\"mutableUniversalRefFloatIn1Long\",\"mutableUniversalRefFloatIn2Longs\",\"valueFloat\",\"valueInlineFloat\",\"valuePreserveBoxFloat\",\"baselineDouble\",\"inlineDouble\",\"mutableSpecificRefDouble\",\"mutableUniversalRefDouble\",\"valueDouble\",\"valueInlineDouble\",\"valuePreserveBoxDouble\"]\n}\n},{\n\"mapping\":{\n\"x\":\"x1\",\n\"ymin\":\"ymin\",\n\"ymax\":\"ymax\"\n},\n\"stat\":\"identity\",\n\"size\":0.6,\n\"width\":0.5,\n\"position\":\"dodge\",\n\"geom\":\"errorbar\",\n\"data\":{\n\"ymin\":[3.2718994547500003E7,3.2418445810500003E7,5.66219102185E7,2.37083641785E7,6.377574357E7,3.8631548688E7,2.44226524325E7,2.48995629095E7,2.49881880405E7,3.36792626165E7,3.4262318397E7,2.32286947225E7,3.9391597251E7,2.4562131082E7,2.44916893705E7,2.44654265545E7],\n\"ymax\":[3.28365936965E7,3.24903600735E7,5.66525651875E7,2.37472706555E7,6.3982927287999995E7,3.8694145897999994E7,2.47862608395E7,2.49351241045E7,2.50640306255E7,3.37698094135E7,3.4466660547000006E7,2.32657420275E7,3.9457002389E7,2.4670187032E7,2.46488267975E7,2.45650607935E7],\n\"x1\":[\"baselineFloat\",\"inlineFloat\",\"longPackFloat\",\"mutableSpecificRefFloat\",\"mutableUniversalRefFloatIn1Long\",\"mutableUniversalRefFloatIn2Longs\",\"valueFloat\",\"valueInlineFloat\",\"valuePreserveBoxFloat\",\"baselineDouble\",\"inlineDouble\",\"mutableSpecificRefDouble\",\"mutableUniversalRefDouble\",\"valueDouble\",\"valueInlineDouble\",\"valuePreserveBoxDouble\"]\n}\n},{\n\"mapping\":{\n\"x\":\"x2\",\n\"y\":\"y1\",\n\"label\":\"label\"\n},\n\"stat\":\"identity\",\n\"size\":4.8,\n\"position\":{\n\"name\":\"stack\",\n\"vjust\":1.0\n},\n\"geom\":\"text\",\n\"data\":{\n\"y1\":[1.6388897061E7,1.6227201471E7,2.83186188515E7,1.18639087085E7,3.19396677145E7,1.93314236465E7,1.2302228318E7,1.24586717535E7,1.25130546665E7,1.68622680075E7,1.7182244736E7,1.16236091875E7,1.971214991E7,1.23080795285E7,1.2285129042E7,1.2257621837E7],\n\"x2\":[\"baselineFloat\",\"inlineFloat\",\"longPackFloat\",\"mutableSpecificRefFloat\",\"mutableUniversalRefFloatIn1Long\",\"mutableUniversalRefFloatIn2Longs\",\"valueFloat\",\"valueInlineFloat\",\"valuePreserveBoxFloat\",\"baselineDouble\",\"inlineDouble\",\"mutableSpecificRefDouble\",\"mutableUniversalRefDouble\",\"valueDouble\",\"valueInlineDouble\",\"valuePreserveBoxDouble\"],\n\"label\":[\"100%\\n±\\n0.4%\\nFloat\",\"99%\\n±\\n0.2%\\nFloat\",\"173%\\n±\\n0.1%\\nFloat\",\"72%\\n±\\n0.1%\\nFloat\",\"195%\\n±\\n0.6%\\nFloat\",\"118%\\n±\\n0.2%\\nFloat\",\"75%\\n±\\n1.1%\\nFloat\",\"76%\\n±\\n0.1%\\nFloat\",\"76%\\n±\\n0.2%\\nFloat\",\"100%\\n±\\n0.3%\\nDouble\",\"102%\\n±\\n0.6%\\nDouble\",\"69%\\n±\\n0.1%\\nDouble\",\"117%\\n±\\n0.2%\\nDouble\",\"73%\\n±\\n0.3%\\nDouble\",\"73%\\n±\\n0.5%\\nDouble\",\"73%\\n±\\n0.3%\\nDouble\"]\n}\n}],\n\"theme\":{\n\"plot_title\":{\n\"hjust\":0.5,\n\"blank\":false\n},\n\"legend_position\":\"right\"\n}\n};\n           var plotContainer = document.getElementById(\"2gGmZS\");\n           window.letsPlotCall(function() {{\n               LetsPlot.buildPlotFromProcessedSpecs(plotSpec, -1, -1, plotContainer);\n           }});\n       })();    \n   </script>"
     },
     "metadata": {},
     "output_type": "display_data"
    },
    {
     "data": {
      "text/html": "   <div id=\"KOCu8B\"></div>\n   <script type=\"text/javascript\" data-lets-plot-script=\"plot\">\n       (function() {\n           var plotSpec={\n\"ggtitle\":{\n\"text\":\"Ackermann (Hotspot)\"\n},\n\"mapping\":{\n},\n\"ggsize\":{\n\"width\":1000.0,\n\"height\":800.0\n},\n\"kind\":\"plot\",\n\"scales\":[{\n\"aesthetic\":\"y\",\n\"name\":\"ns/op\"\n},{\n\"aesthetic\":\"fill\",\n\"name\":\"Benchmark\"\n},{\n\"aesthetic\":\"x\",\n\"breaks\":[\"baselineInt\",\"longPackInt\",\"mutableSpecificRefInt\",\"mutableUniversalRefIntIn1Long\",\"mutableUniversalRefIntIn2Longs\",\"valueInt\",\"valuePreserveBoxInt\",\"baselineLong\",\"mutableSpecificRefLong\",\"mutableUniversalRefLong\",\"valueLong\",\"valuePreserveBoxLong\",\"baselineFloat\",\"longPackFloat\",\"mutableSpecificRefFloat\",\"mutableUniversalRefFloatIn1Long\",\"mutableUniversalRefFloatIn2Longs\",\"valueFloat\",\"valuePreserveBoxFloat\",\"baselineDouble\",\"mutableSpecificRefDouble\",\"mutableUniversalRefDouble\",\"valueDouble\",\"valuePreserveBoxDouble\"],\n\"name\":\"\",\n\"limits\":[\"baselineInt\",\"longPackInt\",\"mutableSpecificRefInt\",\"mutableUniversalRefIntIn1Long\",\"mutableUniversalRefIntIn2Longs\",\"valueInt\",\"valuePreserveBoxInt\",\"baselineLong\",\"mutableSpecificRefLong\",\"mutableUniversalRefLong\",\"valueLong\",\"valuePreserveBoxLong\",\"baselineFloat\",\"longPackFloat\",\"mutableSpecificRefFloat\",\"mutableUniversalRefFloatIn1Long\",\"mutableUniversalRefFloatIn2Longs\",\"valueFloat\",\"valuePreserveBoxFloat\",\"baselineDouble\",\"mutableSpecificRefDouble\",\"mutableUniversalRefDouble\",\"valueDouble\",\"valuePreserveBoxDouble\",\"\"],\n\"labels\":[\"baselineInt\",\"longPackInt\",\"mutableSpecificRefInt\",\"mutableUniversalRefIntIn1Long\",\"mutableUniversalRefIntIn2Longs\",\"valueInt\",\"valuePreserveBoxInt\",\"baselineLong\",\"mutableSpecificRefLong\",\"mutableUniversalRefLong\",\"valueLong\",\"valuePreserveBoxLong\",\"baselineFloat\",\"longPackFloat\",\"mutableSpecificRefFloat\",\"mutableUniversalRefFloatIn1Long\",\"mutableUniversalRefFloatIn2Longs\",\"valueFloat\",\"valuePreserveBoxFloat\",\"baselineDouble\",\"mutableSpecificRefDouble\",\"mutableUniversalRefDouble\",\"valueDouble\",\"valuePreserveBoxDouble\"]\n},{\n\"aesthetic\":\"y\",\n\"name\":\"ns/op\",\n\"limits\":[0.0,26163.5645]\n}],\n\"layers\":[{\n\"mapping\":{\n\"x\":\"x\",\n\"y\":\"y\",\n\"fill\":\"fill\"\n},\n\"stat\":\"identity\",\n\"position\":\"stack\",\n\"geom\":\"bar\",\n\"data\":{\n\"x\":[\"baselineInt\",\"longPackInt\",\"mutableSpecificRefInt\",\"mutableUniversalRefIntIn1Long\",\"mutableUniversalRefIntIn2Longs\",\"valueInt\",\"valuePreserveBoxInt\",\"baselineLong\",\"mutableSpecificRefLong\",\"mutableUniversalRefLong\",\"valueLong\",\"valuePreserveBoxLong\",\"baselineFloat\",\"longPackFloat\",\"mutableSpecificRefFloat\",\"mutableUniversalRefFloatIn1Long\",\"mutableUniversalRefFloatIn2Longs\",\"valueFloat\",\"valuePreserveBoxFloat\",\"baselineDouble\",\"mutableSpecificRefDouble\",\"mutableUniversalRefDouble\",\"valueDouble\",\"valuePreserveBoxDouble\"],\n\"y\":[16706.888,8798.778,10009.3,10395.76,10728.522,12545.294,12183.677,20998.324,10745.603,10610.873,14384.498,14127.382,16757.997,16572.572,11432.889,23735.494,19835.003,13197.878,13384.458,22531.406,12295.09,17881.186,15124.234,15250.282],\n\"fill\":[\"baselineInt\",\"longPackInt\",\"mutableSpecificRefInt\",\"mutableUniversalRefIntIn1Long\",\"mutableUniversalRefIntIn2Longs\",\"valueInt\",\"valuePreserveBoxInt\",\"baselineLong\",\"mutableSpecificRefLong\",\"mutableUniversalRefLong\",\"valueLong\",\"valuePreserveBoxLong\",\"baselineFloat\",\"longPackFloat\",\"mutableSpecificRefFloat\",\"mutableUniversalRefFloatIn1Long\",\"mutableUniversalRefFloatIn2Longs\",\"valueFloat\",\"valuePreserveBoxFloat\",\"baselineDouble\",\"mutableSpecificRefDouble\",\"mutableUniversalRefDouble\",\"valueDouble\",\"valuePreserveBoxDouble\"]\n}\n},{\n\"mapping\":{\n\"x\":\"x1\",\n\"ymin\":\"ymin\",\n\"ymax\":\"ymax\"\n},\n\"stat\":\"identity\",\n\"size\":0.6,\n\"width\":0.5,\n\"position\":\"dodge\",\n\"geom\":\"errorbar\",\n\"data\":{\n\"ymin\":[16539.515,8702.0355,9983.100999999999,10362.318000000001,10572.303000000002,12425.3405,12129.190999999999,18399.2085,10617.8645,10567.429,14299.5255,14055.126,16681.275999999998,16548.344,11393.536,21307.423499999997,16964.107500000002,13147.1875,13276.485,19885.8585,12260.458,15205.874000000002,15008.1205,15093.9365],\n\"ymax\":[16874.261,8895.5205,10035.499,10429.202,10884.741,12665.2475,12238.163,23597.4395,10873.341499999999,10654.317,14469.4705,14199.637999999999,16834.718,16596.8,11472.241999999998,26163.5645,22705.8985,13248.568500000001,13492.431,25176.9535,12329.722,20556.498,15240.3475,15406.627499999999],\n\"x1\":[\"baselineInt\",\"longPackInt\",\"mutableSpecificRefInt\",\"mutableUniversalRefIntIn1Long\",\"mutableUniversalRefIntIn2Longs\",\"valueInt\",\"valuePreserveBoxInt\",\"baselineLong\",\"mutableSpecificRefLong\",\"mutableUniversalRefLong\",\"valueLong\",\"valuePreserveBoxLong\",\"baselineFloat\",\"longPackFloat\",\"mutableSpecificRefFloat\",\"mutableUniversalRefFloatIn1Long\",\"mutableUniversalRefFloatIn2Longs\",\"valueFloat\",\"valuePreserveBoxFloat\",\"baselineDouble\",\"mutableSpecificRefDouble\",\"mutableUniversalRefDouble\",\"valueDouble\",\"valuePreserveBoxDouble\"]\n}\n},{\n\"mapping\":{\n\"x\":\"x2\",\n\"y\":\"y1\",\n\"label\":\"label\"\n},\n\"stat\":\"identity\",\n\"size\":3.2,\n\"position\":{\n\"name\":\"stack\",\n\"vjust\":1.0\n},\n\"geom\":\"text\",\n\"data\":{\n\"y1\":[8353.444,4399.389,5004.65,5197.88,5364.261,6272.647,6091.8385,10499.162,5372.8015,5305.4365,7192.249,7063.691,8378.9985,8286.286,5716.4445,11867.747,9917.5015,6598.939,6692.229,11265.703,6147.545,8940.593,7562.117,7625.141],\n\"x2\":[\"baselineInt\",\"longPackInt\",\"mutableSpecificRefInt\",\"mutableUniversalRefIntIn1Long\",\"mutableUniversalRefIntIn2Longs\",\"valueInt\",\"valuePreserveBoxInt\",\"baselineLong\",\"mutableSpecificRefLong\",\"mutableUniversalRefLong\",\"valueLong\",\"valuePreserveBoxLong\",\"baselineFloat\",\"longPackFloat\",\"mutableSpecificRefFloat\",\"mutableUniversalRefFloatIn1Long\",\"mutableUniversalRefFloatIn2Longs\",\"valueFloat\",\"valuePreserveBoxFloat\",\"baselineDouble\",\"mutableSpecificRefDouble\",\"mutableUniversalRefDouble\",\"valueDouble\",\"valuePreserveBoxDouble\"],\n\"label\":[\"100%\\n±\\n2.0%\\nInt\",\"53%\\n±\\n1.2%\\nInt\",\"60%\\n±\\n0.3%\\nInt\",\"62%\\n±\\n0.4%\\nInt\",\"64%\\n±\\n1.9%\\nInt\",\"75%\\n±\\n1.4%\\nInt\",\"73%\\n±\\n0.7%\\nInt\",\"100%\\n±\\n24.8%\\nLong\",\"51%\\n±\\n1.2%\\nLong\",\"51%\\n±\\n0.4%\\nLong\",\"69%\\n±\\n0.8%\\nLong\",\"67%\\n±\\n0.7%\\nLong\",\"100%\\n±\\n0.9%\\nFloat\",\"99%\\n±\\n0.3%\\nFloat\",\"68%\\n±\\n0.5%\\nFloat\",\"142%\\n±\\n29.0%\\nFloat\",\"118%\\n±\\n34.3%\\nFloat\",\"79%\\n±\\n0.6%\\nFloat\",\"80%\\n±\\n1.3%\\nFloat\",\"100%\\n±\\n23.5%\\nDouble\",\"55%\\n±\\n0.3%\\nDouble\",\"79%\\n±\\n23.7%\\nDouble\",\"67%\\n±\\n1.0%\\nDouble\",\"68%\\n±\\n1.4%\\nDouble\"]\n}\n}],\n\"theme\":{\n\"plot_title\":{\n\"hjust\":0.5,\n\"blank\":false\n},\n\"legend_position\":\"right\"\n}\n};\n           var plotContainer = document.getElementById(\"KOCu8B\");\n           window.letsPlotCall(function() {{\n               LetsPlot.buildPlotFromProcessedSpecs(plotSpec, -1, -1, plotContainer);\n           }});\n       })();    \n   </script>"
     },
     "metadata": {},
     "output_type": "display_data"
    },
    {
     "data": {
      "text/html": "   <div id=\"0wb2w2\"></div>\n   <script type=\"text/javascript\" data-lets-plot-script=\"plot\">\n       (function() {\n           var plotSpec={\n\"ggtitle\":{\n\"text\":\"BoxRecreation (Hotspot)\"\n},\n\"mapping\":{\n},\n\"ggsize\":{\n\"width\":1000.0,\n\"height\":800.0\n},\n\"kind\":\"plot\",\n\"scales\":[{\n\"aesthetic\":\"y\",\n\"name\":\"ns/op\"\n},{\n\"aesthetic\":\"fill\",\n\"name\":\"Benchmark\"\n},{\n\"aesthetic\":\"x\",\n\"breaks\":[\"baselineInt\",\"longPackInt\",\"valueInt\",\"valuePreserveBoxInt\",\"baselineLong\",\"valueLong\",\"valuePreserveBoxLong\",\"baselineFloat\",\"longPackFloat\",\"valueFloat\",\"valuePreserveBoxFloat\",\"baselineDouble\",\"valueDouble\",\"valuePreserveBoxDouble\"],\n\"name\":\"\",\n\"limits\":[\"baselineInt\",\"longPackInt\",\"valueInt\",\"valuePreserveBoxInt\",\"baselineLong\",\"valueLong\",\"valuePreserveBoxLong\",\"baselineFloat\",\"longPackFloat\",\"valueFloat\",\"valuePreserveBoxFloat\",\"baselineDouble\",\"valueDouble\",\"valuePreserveBoxDouble\",\"\"],\n\"labels\":[\"baselineInt\",\"longPackInt\",\"valueInt\",\"valuePreserveBoxInt\",\"baselineLong\",\"valueLong\",\"valuePreserveBoxLong\",\"baselineFloat\",\"longPackFloat\",\"valueFloat\",\"valuePreserveBoxFloat\",\"baselineDouble\",\"valueDouble\",\"valuePreserveBoxDouble\"]\n},{\n\"aesthetic\":\"y\",\n\"name\":\"ns/op\",\n\"limits\":[0.0,651.1885]\n}],\n\"layers\":[{\n\"mapping\":{\n\"x\":\"x\",\n\"y\":\"y\",\n\"fill\":\"fill\"\n},\n\"stat\":\"identity\",\n\"position\":\"stack\",\n\"geom\":\"bar\",\n\"data\":{\n\"x\":[\"baselineInt\",\"longPackInt\",\"valueInt\",\"valuePreserveBoxInt\",\"baselineLong\",\"valueLong\",\"valuePreserveBoxLong\",\"baselineFloat\",\"longPackFloat\",\"valueFloat\",\"valuePreserveBoxFloat\",\"baselineDouble\",\"valueDouble\",\"valuePreserveBoxDouble\"],\n\"y\":[63.495,592.82,619.262,61.855,65.777,650.124,66.623,64.785,613.593,621.495,61.182,67.827,648.595,63.997],\n\"fill\":[\"baselineInt\",\"longPackInt\",\"valueInt\",\"valuePreserveBoxInt\",\"baselineLong\",\"valueLong\",\"valuePreserveBoxLong\",\"baselineFloat\",\"longPackFloat\",\"valueFloat\",\"valuePreserveBoxFloat\",\"baselineDouble\",\"valueDouble\",\"valuePreserveBoxDouble\"]\n}\n},{\n\"mapping\":{\n\"x\":\"x1\",\n\"ymin\":\"ymin\",\n\"ymax\":\"ymax\"\n},\n\"stat\":\"identity\",\n\"size\":0.6,\n\"width\":0.5,\n\"position\":\"dodge\",\n\"geom\":\"errorbar\",\n\"data\":{\n\"ymin\":[63.448499999999996,592.5070000000001,618.3965,61.787499999999994,65.645,649.0595000000001,66.5175,64.669,612.804,620.835,61.1205,67.719,647.9060000000001,63.8515],\n\"ymax\":[63.5415,593.133,620.1274999999999,61.9225,65.909,651.1885,66.72850000000001,64.901,614.382,622.155,61.243500000000004,67.935,649.284,64.1425],\n\"x1\":[\"baselineInt\",\"longPackInt\",\"valueInt\",\"valuePreserveBoxInt\",\"baselineLong\",\"valueLong\",\"valuePreserveBoxLong\",\"baselineFloat\",\"longPackFloat\",\"valueFloat\",\"valuePreserveBoxFloat\",\"baselineDouble\",\"valueDouble\",\"valuePreserveBoxDouble\"]\n}\n},{\n\"mapping\":{\n\"x\":\"x2\",\n\"y\":\"y1\",\n\"label\":\"label\"\n},\n\"stat\":\"identity\",\n\"size\":5.2,\n\"position\":{\n\"name\":\"stack\",\n\"vjust\":1.0\n},\n\"geom\":\"text\",\n\"data\":{\n\"y1\":[31.7475,296.41,309.631,30.9275,32.8885,325.062,33.3115,32.3925,306.7965,310.7475,30.591,33.9135,324.2975,31.9985],\n\"x2\":[\"baselineInt\",\"longPackInt\",\"valueInt\",\"valuePreserveBoxInt\",\"baselineLong\",\"valueLong\",\"valuePreserveBoxLong\",\"baselineFloat\",\"longPackFloat\",\"valueFloat\",\"valuePreserveBoxFloat\",\"baselineDouble\",\"valueDouble\",\"valuePreserveBoxDouble\"],\n\"label\":[\"100%\\n±\\n0.1%\\nInt\",\"934%\\n±\\n1.0%\\nInt\",\"975%\\n±\\n2.7%\\nInt\",\"97%\\n±\\n0.2%\\nInt\",\"100%\\n±\\n0.4%\\nLong\",\"988%\\n±\\n3.2%\\nLong\",\"101%\\n±\\n0.3%\\nLong\",\"100%\\n±\\n0.4%\\nFloat\",\"947%\\n±\\n2.4%\\nFloat\",\"959%\\n±\\n2.0%\\nFloat\",\"94%\\n±\\n0.2%\\nFloat\",\"100%\\n±\\n0.3%\\nDouble\",\"956%\\n±\\n2.0%\\nDouble\",\"94%\\n±\\n0.4%\\nDouble\"]\n}\n}],\n\"theme\":{\n\"plot_title\":{\n\"hjust\":0.5,\n\"blank\":false\n},\n\"legend_position\":\"right\"\n}\n};\n           var plotContainer = document.getElementById(\"0wb2w2\");\n           window.letsPlotCall(function() {{\n               LetsPlot.buildPlotFromProcessedSpecs(plotSpec, -1, -1, plotContainer);\n           }});\n       })();    \n   </script>"
     },
     "metadata": {},
     "output_type": "display_data"
    }
   ],
   "source": [
    "makePlot(\"Wolf3d\", \"Hotspot\", readHotspotBenchmarkData(\"Wolf3dBenchmark\"))\n",
    "makePlot(\"Ackermann\", \"Hotspot\", readHotspotBenchmarkData(\"AckermannBenchmark\"))\n",
    "makePlot(\"BoxRecreation\", \"Hotspot\", readHotspotBenchmarkData(\"BoxRecreationBenchmark\"))"
   ],
   "metadata": {
    "collapsed": false,
    "ExecuteTime": {
     "end_time": "2023-04-29T23:30:16.137033Z",
     "start_time": "2023-04-29T23:30:15.479300Z"
    }
   }
  },
  {
   "cell_type": "code",
   "execution_count": 5,
   "outputs": [
    {
     "data": {
      "text/plain": "baselineFloat: 3.134010385E8 ± 8248733.538496841 ns/op\ninlineFloat: 6.662220955E8 ± 1.1067735643873254E7 ns/op\nlongPackFloat: 7.77690005E7 ± 945778.9748266232 ns/op\nmutableSpecificRefFloat: 4.75664325E7 ± 510325.65365526336 ns/op\nmutableUniversalRefFloatIn1Long: 1.596548075E8 ± 2580378.4857196654 ns/op\nmutableUniversalRefFloatIn2Longs: 1.01884019E8 ± 1765958.4109350513 ns/op\nvalueFloat: 2.80749904E8 ± 8948120.506571705 ns/op\nvalueInlineFloat: 1.76219153E7 ± 189853.64468979265 ns/op\nvaluePreserveBoxFloat: 2.65442077E8 ± 9930493.792832123 ns/op\nbaselineDouble: 3.843501915E8 ± 1.1195484698001184E7 ns/op\ninlineDouble: 8.112936145E8 ± 2.9147372356726736E7 ns/op\nmutableSpecificRefDouble: 8.0806442E7 ± 1347884.0904255523 ns/op\nmutableUniversalRefDouble: 1.066349805E8 ± 1892386.4031551124 ns/op\nvalueDouble: 4.503408455E8 ± 1.0045910013593635E7 ns/op\nvalueInlineDouble: 1.86478884E7 ± 243807.8775418186 ns/op\nvaluePreserveBoxDouble: 4.2855275E8 ± 1.1082285551532617E7 ns/op"
     },
     "execution_count": 5,
     "metadata": {},
     "output_type": "execute_result"
    }
   ],
   "source": [
    "import java.io.FileFilter\n",
    "import kotlin.io.path.listDirectoryEntries\n",
    "\n",
    "fun readArtBenchmarkData(benchmarkName: String) = Path.of(\"android-benchmark/build/outputs/androidTest-results/connected\")\n",
    "    .toFile().listFiles(FileFilter { it.isDirectory })!!.single()\n",
    "    .listFiles { dir, name -> name.startsWith(\"logcat-org.jetbrains.\") }!!.flatMap { it.readLines() }\n",
    "    .mapNotNull {\n",
    "        val pattern = Regex(\"^\\\\d{2}-\\\\d{2} +\\\\d+:\\\\d+:\\\\d+.\\\\d+ +\\\\d+ +\\\\d+ +I +Benchmark: +$benchmarkName\\\\.([^\\\\[]+)\\\\[Metric \\\\(timeNs\\\\) +results: +median +([^,]+), +min [^,]+, +max [^,]+, +standardDeviation: +([^,]+), +.*\")\n",
    "        val match = pattern.matchEntire(it) ?: return@mapNotNull null\n",
    "        BenchmarkData(\n",
    "            name = match.groups[1]!!.value,\n",
    "            score = match.groups[2]!!.value.toDouble(),\n",
    "            error = match.groups[3]!!.value.toDouble(),\n",
    "        )\n",
    "     }.let { lines ->\n",
    "         val indexes = readHotspotBenchmarkData(benchmarkName).mapIndexed { index, benchmarkData -> benchmarkData.name to index }.toMap()\n",
    "         if (lines.all { it.name in indexes }) lines.sortedBy { indexes[it.name]!! } else lines.sortedBy { it.type }\n",
    "     }\n",
    "(readArtBenchmarkData(\"Wolf3dBenchmark\") + readArtBenchmarkData(\"FibonacciBenchmark\")).joinToString(\"\\n\")"
   ],
   "metadata": {
    "collapsed": false,
    "ExecuteTime": {
     "end_time": "2023-04-29T23:30:17.224171Z",
     "start_time": "2023-04-29T23:30:16.137545Z"
    }
   }
  },
  {
   "cell_type": "code",
   "execution_count": 6,
   "outputs": [
    {
     "data": {
      "text/html": "   <div id=\"da1fDW\"></div>\n   <script type=\"text/javascript\" data-lets-plot-script=\"plot\">\n       (function() {\n           var plotSpec={\n\"ggtitle\":{\n\"text\":\"Wolf3d (ART)\"\n},\n\"mapping\":{\n},\n\"ggsize\":{\n\"width\":1000.0,\n\"height\":800.0\n},\n\"kind\":\"plot\",\n\"scales\":[{\n\"aesthetic\":\"y\",\n\"name\":\"ns/op\"\n},{\n\"aesthetic\":\"fill\",\n\"name\":\"Benchmark\"\n},{\n\"aesthetic\":\"x\",\n\"breaks\":[\"baselineFloat\",\"inlineFloat\",\"longPackFloat\",\"mutableSpecificRefFloat\",\"mutableUniversalRefFloatIn1Long\",\"mutableUniversalRefFloatIn2Longs\",\"valueFloat\",\"valueInlineFloat\",\"valuePreserveBoxFloat\",\"baselineDouble\",\"inlineDouble\",\"mutableSpecificRefDouble\",\"mutableUniversalRefDouble\",\"valueDouble\",\"valueInlineDouble\",\"valuePreserveBoxDouble\"],\n\"name\":\"\",\n\"limits\":[\"baselineFloat\",\"inlineFloat\",\"longPackFloat\",\"mutableSpecificRefFloat\",\"mutableUniversalRefFloatIn1Long\",\"mutableUniversalRefFloatIn2Longs\",\"valueFloat\",\"valueInlineFloat\",\"valuePreserveBoxFloat\",\"baselineDouble\",\"inlineDouble\",\"mutableSpecificRefDouble\",\"mutableUniversalRefDouble\",\"valueDouble\",\"valueInlineDouble\",\"valuePreserveBoxDouble\",\"\"],\n\"labels\":[\"baselineFloat\",\"inlineFloat\",\"longPackFloat\",\"mutableSpecificRefFloat\",\"mutableUniversalRefFloatIn1Long\",\"mutableUniversalRefFloatIn2Longs\",\"valueFloat\",\"valueInlineFloat\",\"valuePreserveBoxFloat\",\"baselineDouble\",\"inlineDouble\",\"mutableSpecificRefDouble\",\"mutableUniversalRefDouble\",\"valueDouble\",\"valueInlineDouble\",\"valuePreserveBoxDouble\"]\n},{\n\"aesthetic\":\"y\",\n\"name\":\"ns/op\",\n\"limits\":[0.0,8.258673006783633E8]\n}],\n\"layers\":[{\n\"mapping\":{\n\"x\":\"x\",\n\"y\":\"y\",\n\"fill\":\"fill\"\n},\n\"stat\":\"identity\",\n\"position\":\"stack\",\n\"geom\":\"bar\",\n\"data\":{\n\"x\":[\"baselineFloat\",\"inlineFloat\",\"longPackFloat\",\"mutableSpecificRefFloat\",\"mutableUniversalRefFloatIn1Long\",\"mutableUniversalRefFloatIn2Longs\",\"valueFloat\",\"valueInlineFloat\",\"valuePreserveBoxFloat\",\"baselineDouble\",\"inlineDouble\",\"mutableSpecificRefDouble\",\"mutableUniversalRefDouble\",\"valueDouble\",\"valueInlineDouble\",\"valuePreserveBoxDouble\"],\n\"y\":[3.134010385E8,6.662220955E8,7.77690005E7,4.75664325E7,1.596548075E8,1.01884019E8,2.80749904E8,1.76219153E7,2.65442077E8,3.843501915E8,8.112936145E8,8.0806442E7,1.066349805E8,4.503408455E8,1.86478884E7,4.2855275E8],\n\"fill\":[\"baselineFloat\",\"inlineFloat\",\"longPackFloat\",\"mutableSpecificRefFloat\",\"mutableUniversalRefFloatIn1Long\",\"mutableUniversalRefFloatIn2Longs\",\"valueFloat\",\"valueInlineFloat\",\"valuePreserveBoxFloat\",\"baselineDouble\",\"inlineDouble\",\"mutableSpecificRefDouble\",\"mutableUniversalRefDouble\",\"valueDouble\",\"valueInlineDouble\",\"valuePreserveBoxDouble\"]\n}\n},{\n\"mapping\":{\n\"x\":\"x1\",\n\"ymin\":\"ymin\",\n\"ymax\":\"ymax\"\n},\n\"stat\":\"identity\",\n\"size\":0.6,\n\"width\":0.5,\n\"position\":\"dodge\",\n\"geom\":\"errorbar\",\n\"data\":{\n\"ymin\":[3.092766717307516E8,6.606882276780634E8,7.729611101258668E7,4.731126967317237E7,1.5836461825714016E8,1.0100103979453248E8,2.762758437467142E8,1.7526988477655105E7,2.6047683010358393E8,3.787524491509994E8,7.967199283216367E8,8.013249995478722E7,1.0568878729842244E8,4.4531789049320316E8,1.852598446122909E7,4.230116072242337E8],\n\"ymax\":[3.175254052692484E8,6.717559633219366E8,7.824188998741332E7,4.782159532682763E7,1.6094499674285984E8,1.0276699820546752E8,2.852239642532858E8,1.7716842122344896E7,2.7040732389641607E8,3.899479338490006E8,8.258673006783633E8,8.148038404521278E7,1.0758117370157756E8,4.5536380050679684E8,1.8769792338770907E7,4.340938927757663E8],\n\"x1\":[\"baselineFloat\",\"inlineFloat\",\"longPackFloat\",\"mutableSpecificRefFloat\",\"mutableUniversalRefFloatIn1Long\",\"mutableUniversalRefFloatIn2Longs\",\"valueFloat\",\"valueInlineFloat\",\"valuePreserveBoxFloat\",\"baselineDouble\",\"inlineDouble\",\"mutableSpecificRefDouble\",\"mutableUniversalRefDouble\",\"valueDouble\",\"valueInlineDouble\",\"valuePreserveBoxDouble\"]\n}\n},{\n\"mapping\":{\n\"x\":\"x2\",\n\"y\":\"y1\",\n\"label\":\"label\"\n},\n\"stat\":\"identity\",\n\"size\":4.8,\n\"position\":{\n\"name\":\"stack\",\n\"vjust\":1.0\n},\n\"geom\":\"text\",\n\"data\":{\n\"y1\":[1.5670051925E8,3.3311104775E8,3.888450025E7,8.473046103052634E7,7.982740375E7,5.09420095E7,1.40374952E8,5.478594383052635E7,1.327210385E8,1.9217509575E8,4.0564680725E8,4.0403221E7,5.331749025E7,2.2517042275E8,5.5811916930526346E7,2.14276375E8],\n\"x2\":[\"baselineFloat\",\"inlineFloat\",\"longPackFloat\",\"mutableSpecificRefFloat\",\"mutableUniversalRefFloatIn1Long\",\"mutableUniversalRefFloatIn2Longs\",\"valueFloat\",\"valueInlineFloat\",\"valuePreserveBoxFloat\",\"baselineDouble\",\"inlineDouble\",\"mutableSpecificRefDouble\",\"mutableUniversalRefDouble\",\"valueDouble\",\"valueInlineDouble\",\"valuePreserveBoxDouble\"],\n\"label\":[\"100%\\n±\\n2.6%\\nFloat\",\"213%\\n±\\n3.5%\\nFloat\",\"25%\\n±\\n0.3%\\nFloat\",\"15%\\n±\\n0.2%\\nFloat\",\"51%\\n±\\n0.8%\\nFloat\",\"33%\\n±\\n0.6%\\nFloat\",\"90%\\n±\\n2.9%\\nFloat\",\"6%\\n±\\n0.1%\\nFloat\",\"85%\\n±\\n3.2%\\nFloat\",\"100%\\n±\\n2.9%\\nDouble\",\"211%\\n±\\n7.6%\\nDouble\",\"21%\\n±\\n0.4%\\nDouble\",\"28%\\n±\\n0.5%\\nDouble\",\"117%\\n±\\n2.6%\\nDouble\",\"5%\\n±\\n0.1%\\nDouble\",\"112%\\n±\\n2.9%\\nDouble\"]\n}\n}],\n\"theme\":{\n\"plot_title\":{\n\"hjust\":0.5,\n\"blank\":false\n},\n\"legend_position\":\"right\"\n}\n};\n           var plotContainer = document.getElementById(\"da1fDW\");\n           window.letsPlotCall(function() {{\n               LetsPlot.buildPlotFromProcessedSpecs(plotSpec, -1, -1, plotContainer);\n           }});\n       })();    \n   </script>"
     },
     "metadata": {},
     "output_type": "display_data"
    },
    {
     "data": {
      "text/html": "   <div id=\"JYaYno\"></div>\n   <script type=\"text/javascript\" data-lets-plot-script=\"plot\">\n       (function() {\n           var plotSpec={\n\"ggtitle\":{\n\"text\":\"Ackermann (ART)\"\n},\n\"mapping\":{\n},\n\"ggsize\":{\n\"width\":1000.0,\n\"height\":800.0\n},\n\"kind\":\"plot\",\n\"scales\":[{\n\"aesthetic\":\"y\",\n\"name\":\"ns/op\"\n},{\n\"aesthetic\":\"fill\",\n\"name\":\"Benchmark\"\n},{\n\"aesthetic\":\"x\",\n\"breaks\":[\"baselineInt\",\"longPackInt\",\"mutableSpecificRefInt\",\"mutableUniversalRefIntIn1Long\",\"mutableUniversalRefIntIn2Longs\",\"valueInt\",\"valuePreserveBoxInt\",\"baselineLong\",\"mutableSpecificRefLong\",\"mutableUniversalRefLong\",\"valueLong\",\"valuePreserveBoxLong\",\"baselineFloat\",\"longPackFloat\",\"mutableSpecificRefFloat\",\"mutableUniversalRefFloatIn1Long\",\"mutableUniversalRefFloatIn2Longs\",\"valueFloat\",\"valuePreserveBoxFloat\",\"baselineDouble\",\"mutableSpecificRefDouble\",\"mutableUniversalRefDouble\",\"valueDouble\",\"valuePreserveBoxDouble\"],\n\"name\":\"\",\n\"limits\":[\"baselineInt\",\"longPackInt\",\"mutableSpecificRefInt\",\"mutableUniversalRefIntIn1Long\",\"mutableUniversalRefIntIn2Longs\",\"valueInt\",\"valuePreserveBoxInt\",\"baselineLong\",\"mutableSpecificRefLong\",\"mutableUniversalRefLong\",\"valueLong\",\"valuePreserveBoxLong\",\"baselineFloat\",\"longPackFloat\",\"mutableSpecificRefFloat\",\"mutableUniversalRefFloatIn1Long\",\"mutableUniversalRefFloatIn2Longs\",\"valueFloat\",\"valuePreserveBoxFloat\",\"baselineDouble\",\"mutableSpecificRefDouble\",\"mutableUniversalRefDouble\",\"valueDouble\",\"valuePreserveBoxDouble\",\"\"],\n\"labels\":[\"baselineInt\",\"longPackInt\",\"mutableSpecificRefInt\",\"mutableUniversalRefIntIn1Long\",\"mutableUniversalRefIntIn2Longs\",\"valueInt\",\"valuePreserveBoxInt\",\"baselineLong\",\"mutableSpecificRefLong\",\"mutableUniversalRefLong\",\"valueLong\",\"valuePreserveBoxLong\",\"baselineFloat\",\"longPackFloat\",\"mutableSpecificRefFloat\",\"mutableUniversalRefFloatIn1Long\",\"mutableUniversalRefFloatIn2Longs\",\"valueFloat\",\"valuePreserveBoxFloat\",\"baselineDouble\",\"mutableSpecificRefDouble\",\"mutableUniversalRefDouble\",\"valueDouble\",\"valuePreserveBoxDouble\"]\n},{\n\"aesthetic\":\"y\",\n\"name\":\"ns/op\",\n\"limits\":[0.0,105131.60150582706]\n}],\n\"layers\":[{\n\"mapping\":{\n\"x\":\"x\",\n\"y\":\"y\",\n\"fill\":\"fill\"\n},\n\"stat\":\"identity\",\n\"position\":\"stack\",\n\"geom\":\"bar\",\n\"data\":{\n\"x\":[\"baselineInt\",\"longPackInt\",\"mutableSpecificRefInt\",\"mutableUniversalRefIntIn1Long\",\"mutableUniversalRefIntIn2Longs\",\"valueInt\",\"valuePreserveBoxInt\",\"baselineLong\",\"mutableSpecificRefLong\",\"mutableUniversalRefLong\",\"valueLong\",\"valuePreserveBoxLong\",\"baselineFloat\",\"longPackFloat\",\"mutableSpecificRefFloat\",\"mutableUniversalRefFloatIn1Long\",\"mutableUniversalRefFloatIn2Longs\",\"valueFloat\",\"valuePreserveBoxFloat\",\"baselineDouble\",\"mutableSpecificRefDouble\",\"mutableUniversalRefDouble\",\"valueDouble\",\"valuePreserveBoxDouble\"],\n\"y\":[71677.96735395188,14091.220315479286,22283.482007822684,24621.914360098657,23054.71682590234,43624.320844099915,42738.23814597762,91385.74977658624,35936.967117624954,39191.096291331545,100441.68181818182,92036.8205689278,77265.52750809061,21235.138340414895,25383.076069078947,26710.39159811986,26186.331397037466,46622.73366394399,51256.340563991325,96883.83782483157,35166.95891443649,36189.11452054794,103134.21739130435,99621.77114427861],\n\"fill\":[\"baselineInt\",\"longPackInt\",\"mutableSpecificRefInt\",\"mutableUniversalRefIntIn1Long\",\"mutableUniversalRefIntIn2Longs\",\"valueInt\",\"valuePreserveBoxInt\",\"baselineLong\",\"mutableSpecificRefLong\",\"mutableUniversalRefLong\",\"valueLong\",\"valuePreserveBoxLong\",\"baselineFloat\",\"longPackFloat\",\"mutableSpecificRefFloat\",\"mutableUniversalRefFloatIn1Long\",\"mutableUniversalRefFloatIn2Longs\",\"valueFloat\",\"valuePreserveBoxFloat\",\"baselineDouble\",\"mutableSpecificRefDouble\",\"mutableUniversalRefDouble\",\"valueDouble\",\"valuePreserveBoxDouble\"]\n}\n},{\n\"mapping\":{\n\"x\":\"x1\",\n\"ymin\":\"ymin\",\n\"ymax\":\"ymax\"\n},\n\"stat\":\"identity\",\n\"size\":0.6,\n\"width\":0.5,\n\"position\":\"dodge\",\n\"geom\":\"errorbar\",\n\"data\":{\n\"ymin\":[70262.7277215211,13963.243147645864,21901.053203370033,23946.3218646576,22623.38465395038,42573.189237990184,41679.25341613816,88911.70352991643,35279.388260070606,37920.47288018851,98108.64523498488,89255.63681929701,75716.22757703833,21074.473903060345,24531.284985818398,26153.444235489154,25755.892327439346,45264.02958235372,49722.5207523526,94846.1282664192,34536.93230665829,35441.246725275465,101136.83327678165,96550.27246674117],\n\"ymax\":[73093.20698638266,14219.197483312708,22665.910812275335,25297.506855539716,23486.048997854297,44675.45245020965,43797.22287581708,93859.79602325604,36594.5459751793,40461.719702474584,102774.71840137876,94818.00431855858,78814.8274391429,21395.802777769444,26234.867152339495,27267.338960750563,26616.770466635586,47981.437745534255,52790.160375630054,98921.54738324395,35796.98552221469,36936.982315820416,105131.60150582706,102693.26982181605],\n\"x1\":[\"baselineInt\",\"longPackInt\",\"mutableSpecificRefInt\",\"mutableUniversalRefIntIn1Long\",\"mutableUniversalRefIntIn2Longs\",\"valueInt\",\"valuePreserveBoxInt\",\"baselineLong\",\"mutableSpecificRefLong\",\"mutableUniversalRefLong\",\"valueLong\",\"valuePreserveBoxLong\",\"baselineFloat\",\"longPackFloat\",\"mutableSpecificRefFloat\",\"mutableUniversalRefFloatIn1Long\",\"mutableUniversalRefFloatIn2Longs\",\"valueFloat\",\"valuePreserveBoxFloat\",\"baselineDouble\",\"mutableSpecificRefDouble\",\"mutableUniversalRefDouble\",\"valueDouble\",\"valuePreserveBoxDouble\"]\n}\n},{\n\"mapping\":{\n\"x\":\"x2\",\n\"y\":\"y1\",\n\"label\":\"label\"\n},\n\"stat\":\"identity\",\n\"size\":3.2,\n\"position\":{\n\"name\":\"stack\",\n\"vjust\":1.0\n},\n\"geom\":\"text\",\n\"data\":{\n\"y1\":[35838.98367697594,7045.610157739643,11141.741003911342,12310.957180049329,11527.35841295117,21812.160422049958,21369.11907298881,45692.87488829312,17968.483558812477,19595.548145665773,50220.84090909091,46018.4102844639,38632.76375404531,10617.569170207447,12691.538034539473,13355.19579905993,13093.165698518733,23311.366831971995,25628.170281995663,48441.918912415786,17583.479457218244,18094.55726027397,51567.108695652176,49810.885572139305],\n\"x2\":[\"baselineInt\",\"longPackInt\",\"mutableSpecificRefInt\",\"mutableUniversalRefIntIn1Long\",\"mutableUniversalRefIntIn2Longs\",\"valueInt\",\"valuePreserveBoxInt\",\"baselineLong\",\"mutableSpecificRefLong\",\"mutableUniversalRefLong\",\"valueLong\",\"valuePreserveBoxLong\",\"baselineFloat\",\"longPackFloat\",\"mutableSpecificRefFloat\",\"mutableUniversalRefFloatIn1Long\",\"mutableUniversalRefFloatIn2Longs\",\"valueFloat\",\"valuePreserveBoxFloat\",\"baselineDouble\",\"mutableSpecificRefDouble\",\"mutableUniversalRefDouble\",\"valueDouble\",\"valuePreserveBoxDouble\"],\n\"label\":[\"100%\\n±\\n3.9%\\nInt\",\"20%\\n±\\n0.4%\\nInt\",\"31%\\n±\\n1.1%\\nInt\",\"34%\\n±\\n1.9%\\nInt\",\"32%\\n±\\n1.2%\\nInt\",\"61%\\n±\\n2.9%\\nInt\",\"60%\\n±\\n3.0%\\nInt\",\"100%\\n±\\n5.4%\\nLong\",\"39%\\n±\\n1.4%\\nLong\",\"43%\\n±\\n2.8%\\nLong\",\"110%\\n±\\n5.1%\\nLong\",\"101%\\n±\\n6.1%\\nLong\",\"100%\\n±\\n4.0%\\nFloat\",\"27%\\n±\\n0.4%\\nFloat\",\"33%\\n±\\n2.2%\\nFloat\",\"35%\\n±\\n1.4%\\nFloat\",\"34%\\n±\\n1.1%\\nFloat\",\"60%\\n±\\n3.5%\\nFloat\",\"66%\\n±\\n4.0%\\nFloat\",\"100%\\n±\\n4.2%\\nDouble\",\"36%\\n±\\n1.3%\\nDouble\",\"37%\\n±\\n1.5%\\nDouble\",\"106%\\n±\\n4.1%\\nDouble\",\"103%\\n±\\n6.3%\\nDouble\"]\n}\n}],\n\"theme\":{\n\"plot_title\":{\n\"hjust\":0.5,\n\"blank\":false\n},\n\"legend_position\":\"right\"\n}\n};\n           var plotContainer = document.getElementById(\"JYaYno\");\n           window.letsPlotCall(function() {{\n               LetsPlot.buildPlotFromProcessedSpecs(plotSpec, -1, -1, plotContainer);\n           }});\n       })();    \n   </script>"
     },
     "metadata": {},
     "output_type": "display_data"
    },
    {
     "data": {
      "text/html": "   <div id=\"ojvrmn\"></div>\n   <script type=\"text/javascript\" data-lets-plot-script=\"plot\">\n       (function() {\n           var plotSpec={\n\"ggtitle\":{\n\"text\":\"BoxRecreation (ART)\"\n},\n\"mapping\":{\n},\n\"ggsize\":{\n\"width\":1000.0,\n\"height\":800.0\n},\n\"kind\":\"plot\",\n\"scales\":[{\n\"aesthetic\":\"y\",\n\"name\":\"ns/op\"\n},{\n\"aesthetic\":\"fill\",\n\"name\":\"Benchmark\"\n},{\n\"aesthetic\":\"x\",\n\"breaks\":[\"baselineInt\",\"longPackInt\",\"valueInt\",\"valuePreserveBoxInt\",\"baselineLong\",\"valueLong\",\"valuePreserveBoxLong\",\"baselineFloat\",\"longPackFloat\",\"valueFloat\",\"valuePreserveBoxFloat\",\"baselineDouble\",\"valueDouble\",\"valuePreserveBoxDouble\"],\n\"name\":\"\",\n\"limits\":[\"baselineInt\",\"longPackInt\",\"valueInt\",\"valuePreserveBoxInt\",\"baselineLong\",\"valueLong\",\"valuePreserveBoxLong\",\"baselineFloat\",\"longPackFloat\",\"valueFloat\",\"valuePreserveBoxFloat\",\"baselineDouble\",\"valueDouble\",\"valuePreserveBoxDouble\",\"\"],\n\"labels\":[\"baselineInt\",\"longPackInt\",\"valueInt\",\"valuePreserveBoxInt\",\"baselineLong\",\"valueLong\",\"valuePreserveBoxLong\",\"baselineFloat\",\"longPackFloat\",\"valueFloat\",\"valuePreserveBoxFloat\",\"baselineDouble\",\"valueDouble\",\"valuePreserveBoxDouble\"]\n},{\n\"aesthetic\":\"y\",\n\"name\":\"ns/op\",\n\"limits\":[0.0,3985.4496046861086]\n}],\n\"layers\":[{\n\"mapping\":{\n\"x\":\"x\",\n\"y\":\"y\",\n\"fill\":\"fill\"\n},\n\"stat\":\"identity\",\n\"position\":\"stack\",\n\"geom\":\"bar\",\n\"data\":{\n\"x\":[\"baselineInt\",\"longPackInt\",\"valueInt\",\"valuePreserveBoxInt\",\"baselineLong\",\"valueLong\",\"valuePreserveBoxLong\",\"baselineFloat\",\"longPackFloat\",\"valueFloat\",\"valuePreserveBoxFloat\",\"baselineDouble\",\"valueDouble\",\"valuePreserveBoxDouble\"],\n\"y\":[509.3815440689198,2977.4636085901698,2981.6962758164373,526.6759110583636,608.4585138162809,3860.2713205509044,605.6329822949428,536.9258544505963,2951.1509140700173,3071.300551645425,514.655346627409,627.8472856047607,3857.210134739309,606.4925663843322],\n\"fill\":[\"baselineInt\",\"longPackInt\",\"valueInt\",\"valuePreserveBoxInt\",\"baselineLong\",\"valueLong\",\"valuePreserveBoxLong\",\"baselineFloat\",\"longPackFloat\",\"valueFloat\",\"valuePreserveBoxFloat\",\"baselineDouble\",\"valueDouble\",\"valuePreserveBoxDouble\"]\n}\n},{\n\"mapping\":{\n\"x\":\"x1\",\n\"ymin\":\"ymin\",\n\"ymax\":\"ymax\"\n},\n\"stat\":\"identity\",\n\"size\":0.6,\n\"width\":0.5,\n\"position\":\"dodge\",\n\"geom\":\"errorbar\",\n\"data\":{\n\"ymin\":[496.0474466304042,2887.6106350343503,2902.5612611240717,506.6231947358021,598.3189431317189,3735.0930364157,589.1725465937304,524.2617014518851,2855.1198467627814,2979.954299449104,505.2251498418028,610.4532996837451,3753.6732179677324,589.0412816274683],\n\"ymax\":[522.7156415074354,3067.3165821459893,3060.831290508803,546.728627380925,618.5980845008428,3985.4496046861086,622.0934179961553,549.5900074493074,3047.181981377253,3162.646803841746,524.0855434130152,645.2412715257764,3960.7470515108857,623.9438511411962],\n\"x1\":[\"baselineInt\",\"longPackInt\",\"valueInt\",\"valuePreserveBoxInt\",\"baselineLong\",\"valueLong\",\"valuePreserveBoxLong\",\"baselineFloat\",\"longPackFloat\",\"valueFloat\",\"valuePreserveBoxFloat\",\"baselineDouble\",\"valueDouble\",\"valuePreserveBoxDouble\"]\n}\n},{\n\"mapping\":{\n\"x\":\"x2\",\n\"y\":\"y1\",\n\"label\":\"label\"\n},\n\"stat\":\"identity\",\n\"size\":5.2,\n\"position\":{\n\"name\":\"stack\",\n\"vjust\":1.0\n},\n\"geom\":\"text\",\n\"data\":{\n\"y1\":[254.6907720344599,1488.7318042950849,1490.8481379082186,263.3379555291818,304.2292569081404,1930.1356602754522,302.8164911474714,268.46292722529813,1475.5754570350086,1535.6502758227125,257.3276733137045,313.92364280238036,1928.6050673696545,303.2462831921661],\n\"x2\":[\"baselineInt\",\"longPackInt\",\"valueInt\",\"valuePreserveBoxInt\",\"baselineLong\",\"valueLong\",\"valuePreserveBoxLong\",\"baselineFloat\",\"longPackFloat\",\"valueFloat\",\"valuePreserveBoxFloat\",\"baselineDouble\",\"valueDouble\",\"valuePreserveBoxDouble\"],\n\"label\":[\"100%\\n±\\n5.2%\\nInt\",\"585%\\n±\\n35.3%\\nInt\",\"585%\\n±\\n31.1%\\nInt\",\"103%\\n±\\n7.9%\\nInt\",\"100%\\n±\\n3.3%\\nLong\",\"634%\\n±\\n41.1%\\nLong\",\"100%\\n±\\n5.4%\\nLong\",\"100%\\n±\\n4.7%\\nFloat\",\"550%\\n±\\n35.8%\\nFloat\",\"572%\\n±\\n34.0%\\nFloat\",\"96%\\n±\\n3.5%\\nFloat\",\"100%\\n±\\n5.5%\\nDouble\",\"614%\\n±\\n33.0%\\nDouble\",\"97%\\n±\\n5.6%\\nDouble\"]\n}\n}],\n\"theme\":{\n\"plot_title\":{\n\"hjust\":0.5,\n\"blank\":false\n},\n\"legend_position\":\"right\"\n}\n};\n           var plotContainer = document.getElementById(\"ojvrmn\");\n           window.letsPlotCall(function() {{\n               LetsPlot.buildPlotFromProcessedSpecs(plotSpec, -1, -1, plotContainer);\n           }});\n       })();    \n   </script>"
     },
     "metadata": {},
     "output_type": "display_data"
    }
   ],
   "source": [
    "makePlot(\"Wolf3d\", \"ART\", readArtBenchmarkData(\"Wolf3dBenchmark\"))\n",
    "makePlot(\"Ackermann\", \"ART\", readArtBenchmarkData(\"AckermannBenchmark\"))\n",
    "makePlot(\"BoxRecreation\", \"ART\", readArtBenchmarkData(\"BoxRecreationBenchmark\"))"
   ],
   "metadata": {
    "collapsed": false,
    "ExecuteTime": {
     "end_time": "2023-04-29T23:30:18.019773Z",
     "start_time": "2023-04-29T23:30:17.222867Z"
    }
   }
  }
 ],
 "metadata": {
  "kernelspec": {
   "display_name": "Kotlin",
   "language": "kotlin",
   "name": "kotlin"
  },
  "language_info": {
   "name": "kotlin",
   "version": "1.8.0",
   "mimetype": "text/x-kotlin",
   "file_extension": ".kt",
   "pygments_lexer": "kotlin",
   "codemirror_mode": "text/x-kotlin",
   "nbconvert_exporter": ""
  },
  "ktnbPluginMetadata": {
   "isAddProjectLibrariesToClasspath": false
  }
 },
 "nbformat": 4,
 "nbformat_minor": 0
}
