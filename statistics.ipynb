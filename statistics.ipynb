{
 "cells": [
  {
   "cell_type": "code",
   "execution_count": 115,
   "metadata": {
    "collapsed": true,
    "ExecuteTime": {
     "start_time": "2023-04-09T16:03:02.105630Z",
     "end_time": "2023-04-09T16:03:02.434601Z"
    }
   },
   "outputs": [
    {
     "data": {
      "text/plain": "baselineDouble: 932464.375 ± 2713.929 ns/op\nbaselineFloat: 926898.244 ± 25509.823 ns/op\ninlineDouble: 929835.351 ± 5460.364 ns/op\ninlineFloat: 897395.583 ± 3147.077 ns/op\nlongPackFloat: 1570228.534 ± 2581.243 ns/op\nmutableRefDouble: 663759.758 ± 1754.501 ns/op\nmutableRefFloatIn1Long: 1534506.339 ± 1705.391 ns/op\nmutableRefFloatIn2Longs: 659498.949 ± 1241.868 ns/op\nvalueDouble: 654985.227 ± 1259.992 ns/op\nvalueFloat: 665660.67 ± 19447.343 ns/op\nvalueInlineDouble: 647665.428 ± 1423.229 ns/op\nvalueInlineFloat: 683757.834 ± 10675.009 ns/op"
     },
     "execution_count": 115,
     "metadata": {},
     "output_type": "execute_result"
    }
   ],
   "source": [
    "import java.nio.file.Files\n",
    "import java.nio.file.Path\n",
    "\n",
    "data class BenchmarkData(val name: String, val score: Double, val error: Double) {\n",
    "    override fun toString(): String = \"$name: $score ± $error ns/op\"\n",
    "}\n",
    "\n",
    "val benchmarkLines = Files.readAllLines(Path.of(\"build\", \"results\", \"jmh\", \"results.txt\"))\n",
    "    .mapNotNull {\n",
    "        val r = Regex(\"JmhBenchmark\\\\.([^ ]+) +avgt +\\\\d+ +([0-9.]+) +± +([0-9.]+) +ns/op\")\n",
    "        val match = r.matchEntire(it) ?: return@mapNotNull null\n",
    "        BenchmarkData(\n",
    "            match.groups[1]!!.value,\n",
    "            match.groups[2]!!.value.toDouble(),\n",
    "            match.groups[3]!!.value.toDouble(),\n",
    "        )\n",
    "    }\n",
    "benchmarkLines.joinToString(\"\\n\")"
   ]
  },
  {
   "cell_type": "code",
   "execution_count": 116,
   "outputs": [
    {
     "data": {
      "text/html": "   <div id=\"RL7TNc\"></div>\n   <script type=\"text/javascript\" data-lets-plot-script=\"library\">\n       if(!window.letsPlotCallQueue) {\n           window.letsPlotCallQueue = [];\n       }; \n       window.letsPlotCall = function(f) {\n           window.letsPlotCallQueue.push(f);\n       };\n       (function() {\n           var script = document.createElement(\"script\");\n           script.type = \"text/javascript\";\n           script.src = \"https://cdn.jsdelivr.net/gh/JetBrains/lets-plot@v3.0.0/js-package/distr/lets-plot.min.js\";\n           script.onload = function() {\n               window.letsPlotCall = function(f) {f();};\n               window.letsPlotCallQueue.forEach(function(f) {f();});\n               window.letsPlotCallQueue = [];\n               \n               \n           };\n           script.onerror = function(event) {\n               window.letsPlotCall = function(f) {};\n               window.letsPlotCallQueue = [];\n               var div = document.createElement(\"div\");\n               div.style.color = 'darkred';\n               div.textContent = 'Error loading Lets-Plot JS';\n               document.getElementById(\"RL7TNc\").appendChild(div);\n           };\n           var e = document.getElementById(\"RL7TNc\");\n           e.appendChild(script);\n       })();\n   </script>"
     },
     "metadata": {},
     "output_type": "display_data"
    }
   ],
   "source": [
    "%use lets-plot"
   ],
   "metadata": {
    "collapsed": false,
    "ExecuteTime": {
     "start_time": "2023-04-09T16:03:02.427950Z",
     "end_time": "2023-04-09T16:03:07.398587Z"
    }
   }
  },
  {
   "cell_type": "code",
   "execution_count": 117,
   "outputs": [
    {
     "data": {
      "text/html": "   <div id=\"FHMlW7\"></div>\n   <script type=\"text/javascript\" data-lets-plot-script=\"plot\">\n       (function() {\n           var plotSpec={\n\"ggtitle\":{\n\"text\":\"Microbenchmark of 3D scene rendering\"\n},\n\"mapping\":{\n},\n\"ggsize\":{\n\"width\":1000.0,\n\"height\":800.0\n},\n\"kind\":\"plot\",\n\"scales\":[{\n\"aesthetic\":\"y\",\n\"name\":\"ns/op\"\n},{\n\"aesthetic\":\"fill\",\n\"name\":\"Benchmark\"\n},{\n\"aesthetic\":\"x\",\n\"breaks\":[\"baselineDouble\",\"baselineFloat\",\"inlineDouble\",\"inlineFloat\",\"longPackFloat\",\"mutableRefDouble\",\"mutableRefFloatIn1Long\",\"mutableRefFloatIn2Longs\",\"valueDouble\",\"valueFloat\",\"valueInlineDouble\",\"valueInlineFloat\"],\n\"name\":\"\",\n\"limits\":[\"baselineDouble\",\"baselineFloat\",\"inlineDouble\",\"inlineFloat\",\"longPackFloat\",\"mutableRefDouble\",\"mutableRefFloatIn1Long\",\"mutableRefFloatIn2Longs\",\"valueDouble\",\"valueFloat\",\"valueInlineDouble\",\"valueInlineFloat\",\"\"],\n\"labels\":[\"baselineDouble\",\"baselineFloat\",\"inlineDouble\",\"inlineFloat\",\"longPackFloat\",\"mutableRefDouble\",\"mutableRefFloatIn1Long\",\"mutableRefFloatIn2Longs\",\"valueDouble\",\"valueFloat\",\"valueInlineDouble\",\"valueInlineFloat\"]\n},{\n\"aesthetic\":\"y\",\n\"name\":\"ns/op\",\n\"limits\":[0.0,1571519.1554999999]\n}],\n\"layers\":[{\n\"mapping\":{\n\"x\":\"x\",\n\"y\":\"y\",\n\"fill\":\"fill\"\n},\n\"stat\":\"identity\",\n\"position\":\"stack\",\n\"geom\":\"bar\",\n\"data\":{\n\"x\":[\"baselineDouble\",\"baselineFloat\",\"inlineDouble\",\"inlineFloat\",\"longPackFloat\",\"mutableRefDouble\",\"mutableRefFloatIn1Long\",\"mutableRefFloatIn2Longs\",\"valueDouble\",\"valueFloat\",\"valueInlineDouble\",\"valueInlineFloat\"],\n\"y\":[932464.375,926898.244,929835.351,897395.583,1570228.534,663759.758,1534506.339,659498.949,654985.227,665660.67,647665.428,683757.834],\n\"fill\":[\"baselineDouble\",\"baselineFloat\",\"inlineDouble\",\"inlineFloat\",\"longPackFloat\",\"mutableRefDouble\",\"mutableRefFloatIn1Long\",\"mutableRefFloatIn2Longs\",\"valueDouble\",\"valueFloat\",\"valueInlineDouble\",\"valueInlineFloat\"]\n}\n},{\n\"mapping\":{\n\"x\":\"x1\",\n\"ymin\":\"ymin\",\n\"ymax\":\"ymax\"\n},\n\"stat\":\"identity\",\n\"size\":0.6,\n\"width\":0.5,\n\"position\":\"dodge\",\n\"geom\":\"errorbar\",\n\"data\":{\n\"ymin\":[931107.4105,914143.3324999999,927105.169,895822.0445,1568937.9125,662882.5075000001,1533653.6435,658878.015,654355.2309999999,655936.9985,646953.8134999999,678420.3295],\n\"ymax\":[933821.3395,939653.1555,932565.533,898969.1215,1571519.1554999999,664637.0085,1535359.0344999998,660119.883,655615.223,675384.3415000001,648377.0425,689095.3385000001],\n\"x1\":[\"baselineDouble\",\"baselineFloat\",\"inlineDouble\",\"inlineFloat\",\"longPackFloat\",\"mutableRefDouble\",\"mutableRefFloatIn1Long\",\"mutableRefFloatIn2Longs\",\"valueDouble\",\"valueFloat\",\"valueInlineDouble\",\"valueInlineFloat\"]\n}\n},{\n\"mapping\":{\n\"x\":\"x2\",\n\"y\":\"y1\",\n\"label\":\"label\"\n},\n\"stat\":\"identity\",\n\"size\":5.0,\n\"position\":{\n\"name\":\"stack\",\n\"vjust\":0.5,\n\"kind\":\"pos\"\n},\n\"geom\":\"text\",\n\"data\":{\n\"y1\":[932464.375,926898.244,929835.351,897395.583,1570228.534,663759.758,1534506.339,659498.949,654985.227,665660.67,647665.428,683757.834],\n\"x2\":[\"baselineDouble\",\"baselineFloat\",\"inlineDouble\",\"inlineFloat\",\"longPackFloat\",\"mutableRefDouble\",\"mutableRefFloatIn1Long\",\"mutableRefFloatIn2Longs\",\"valueDouble\",\"valueFloat\",\"valueInlineDouble\",\"valueInlineFloat\"],\n\"label\":[\"100%\\n±\\n0.3%\\nDouble\",\"100%\\n±\\n2.8%\\nFloat\",\"100%\\n±\\n0.6%\\nDouble\",\"97%\\n±\\n0.3%\\nFloat\",\"169%\\n±\\n0.3%\\nFloat\",\"71%\\n±\\n0.2%\\nDouble\",\"166%\\n±\\n0.2%\\nFloat\",\"71%\\n±\\n0.1%\\nFloat\",\"70%\\n±\\n0.1%\\nDouble\",\"72%\\n±\\n2.1%\\nFloat\",\"69%\\n±\\n0.2%\\nDouble\",\"74%\\n±\\n1.2%\\nFloat\"]\n}\n}],\n\"theme\":{\n\"plot_title\":{\n\"hjust\":0.5,\n\"blank\":false\n},\n\"legend_position\":\"right\"\n}\n};\n           var plotContainer = document.getElementById(\"FHMlW7\");\n           window.letsPlotCall(function() {{\n               LetsPlot.buildPlotFromProcessedSpecs(plotSpec, -1, -1, plotContainer);\n           }});\n       })();    \n   </script>"
     },
     "metadata": {},
     "output_type": "display_data"
    }
   ],
   "source": [
    "import org.jetbrains.letsPlot.intern.PosKind\n",
    "import org.jetbrains.letsPlot.intern.StatKind\n",
    "import org.jetbrains.letsPlot.intern.layer.PosOptions\n",
    "import org.jetbrains.letsPlot.intern.layer.StatOptions\n",
    "\n",
    "val names = benchmarkLines.map { it.name }\n",
    "val scores = benchmarkLines.map { it.score }\n",
    "val scoresMinusErrors = benchmarkLines.map { it.score - it.error / 2 }\n",
    "val scoresPlusErrors = benchmarkLines.map { it.score + it.error / 2 }\n",
    "val baseline = listOf(\"Float\", \"Double\").associateWith { type ->\n",
    "    benchmarkLines.single { it.name == \"baseline$type\" }\n",
    "}\n",
    "val plot = letsPlot() +\n",
    "        labs(\"Microbenchmark of 3D scene rendering\", fill = \"Benchmark\", y = \"ns/op\") +\n",
    "        geomBar(stat = StatOptions(kind = StatKind.IDENTITY)) {\n",
    "            x = names\n",
    "            y = scores\n",
    "            fill = names\n",
    "        } +\n",
    "        geomErrorBar(\n",
    "            width = 0.5,\n",
    "            position = PosOptions(kind = PosKind.DODGE),\n",
    "            size = 0.6\n",
    "        ) {\n",
    "            x = names\n",
    "            ymin = scoresMinusErrors\n",
    "            ymax = scoresPlusErrors\n",
    "        } +\n",
    "        geomText(\n",
    "            stat = StatOptions(kind = StatKind.IDENTITY),\n",
    "            position = positionStack(vjust = 0.5),\n",
    "            size = 5,\n",
    "        ) {\n",
    "            x = names\n",
    "            y = scores\n",
    "            label = benchmarkLines.map {\n",
    "                val isFloat = it.name.contains(\"Float\")\n",
    "                val type = if (isFloat) \"Float\" else \"Double\"\n",
    "                val score = it.score / baseline[type]!!.score\n",
    "                val error = it.error / baseline[type]!!.score\n",
    "                \"${String.format(\"%.0f\", score * 100)}%\\n±\\n${String.format(\"%.1f\", error * 100)}%\\n${type}\"\n",
    "            }\n",
    "        } +\n",
    "        scaleXDiscrete(\n",
    "            labels = names,\n",
    "            name = \"\",\n",
    "            limits = names + listOf(\"\"),\n",
    "            breaks = names.toList()\n",
    "        ) +\n",
    "        scaleYContinuous(limits = 0 to scoresPlusErrors.max(), name = \"ns/op\") +\n",
    "        theme(plotTitle = elementText(hjust = 0.5)).legendPositionRight() +\n",
    "        ggsize(1000, 800)\n",
    "\n",
    "\n",
    "plot.show()"
   ],
   "metadata": {
    "collapsed": false,
    "ExecuteTime": {
     "start_time": "2023-04-09T16:03:07.387833Z",
     "end_time": "2023-04-09T16:03:08.042951Z"
    }
   }
  },
  {
   "cell_type": "code",
   "execution_count": 118,
   "outputs": [
    {
     "data": {
      "text/plain": "/Users/Evgeniy.Zhelenskiy/IdeaProjects/Wolf3d/lets-plot-images/results.svg"
     },
     "execution_count": 118,
     "metadata": {},
     "output_type": "execute_result"
    }
   ],
   "source": [
    "ggsave(plot = plot, filename = \"results.svg\")"
   ],
   "metadata": {
    "collapsed": false,
    "ExecuteTime": {
     "start_time": "2023-04-09T16:03:08.033429Z",
     "end_time": "2023-04-09T16:03:08.126662Z"
    }
   }
  }
 ],
 "metadata": {
  "kernelspec": {
   "display_name": "Kotlin",
   "language": "kotlin",
   "name": "kotlin"
  },
  "language_info": {
   "name": "kotlin",
   "version": "1.8.0",
   "mimetype": "text/x-kotlin",
   "file_extension": ".kt",
   "pygments_lexer": "kotlin",
   "codemirror_mode": "text/x-kotlin",
   "nbconvert_exporter": ""
  }
 },
 "nbformat": 4,
 "nbformat_minor": 0
}
