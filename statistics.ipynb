{
 "cells": [
  {
   "cell_type": "code",
   "execution_count": 1,
   "metadata": {
    "collapsed": true,
    "ExecuteTime": {
     "start_time": "2023-04-18T04:00:31.065231Z",
     "end_time": "2023-04-18T04:00:32.191082Z"
    }
   },
   "outputs": [
    {
     "data": {
      "text/plain": "baselineDouble: 3.4452692055E7 ± 179825.43 ns/op\nbaselineFloat: 3.3442081679E7 ± 155096.973 ns/op\ninlineDouble: 3.5092982538E7 ± 629680.522 ns/op\ninlineFloat: 3.3049489676E7 ± 132569.463 ns/op\nlongPackFloat: 5.6222059737E7 ± 187842.195 ns/op\nmutableRefDouble: 4.0280109959E7 ± 160454.464 ns/op\nmutableRefFloatIn1Long: 6.4718508885E7 ± 241321.275 ns/op\nmutableRefFloatIn2Longs: 3.9739173887E7 ± 308392.329 ns/op\nvalueDouble: 2.4705608547E7 ± 136760.005 ns/op\nvalueFloat: 2.5182216781E7 ± 172483.878 ns/op\nvalueInlineDouble: 2.4759526397E7 ± 203118.971 ns/op\nvalueInlineFloat: 2.5109059249E7 ± 119419.088 ns/op\nvaluePreserveBoxDouble: 2.4760650008E7 ± 105223.719 ns/op\nvaluePreserveBoxFloat: 2.5129968165E7 ± 144684.654 ns/op\nbaselineInt: 383.797 ± 1.769 ns/op\nbaselineLong: 408.784 ± 6.732 ns/op\nlongPackInt: 192.441 ± 1.612 ns/op\nmutableRefIntIn1Long: 303.433 ± 1.631 ns/op\nmutableRefIntIn2Longs: 254.153 ± 1.15 ns/op\nmutableRefLong: 244.623 ± 2.031 ns/op\nvalueInt: 367.184 ± 1.403 ns/op\nvalueLong: 371.089 ± 5.752 ns/op\nvaluePreserveBoxInt: 366.683 ± 1.398 ns/op\nvaluePreserveBoxLong: 370.515 ± 2.141 ns/op"
     },
     "execution_count": 1,
     "metadata": {},
     "output_type": "execute_result"
    }
   ],
   "source": [
    "import java.nio.file.Files\n",
    "import java.nio.file.Path\n",
    "\n",
    "data class BenchmarkData(val name: String, val score: Double, val error: Double) {\n",
    "    override fun toString(): String = \"$name: $score ± $error ns/op\"\n",
    "}\n",
    "\n",
    "fun readHotspotBenchmarkData(benchmarkName: String) = Files.readAllLines(Path.of(\"build\", \"results\", \"jmh\", \"results.txt\"))\n",
    "    .mapNotNull {\n",
    "        val r = Regex(\"$benchmarkName\\\\.([^ ]+) +avgt +\\\\d+ +([0-9.]+) +± +([0-9.]+) +ns/op\")\n",
    "        val match = r.matchEntire(it) ?: return@mapNotNull null\n",
    "        BenchmarkData(\n",
    "            match.groups[1]!!.value,\n",
    "            match.groups[2]!!.value.toDouble(),\n",
    "            match.groups[3]!!.value.toDouble(),\n",
    "        )\n",
    "    }\n",
    "(readHotspotBenchmarkData(\"Wolf3dBenchmark\") + readHotspotBenchmarkData(\"FibonacciBenchmark\")).joinToString(\"\\n\")"
   ]
  },
  {
   "cell_type": "code",
   "execution_count": 2,
   "outputs": [
    {
     "data": {
      "text/html": "   <div id=\"z1PdRd\"></div>\n   <script type=\"text/javascript\" data-lets-plot-script=\"library\">\n       if(!window.letsPlotCallQueue) {\n           window.letsPlotCallQueue = [];\n       }; \n       window.letsPlotCall = function(f) {\n           window.letsPlotCallQueue.push(f);\n       };\n       (function() {\n           var script = document.createElement(\"script\");\n           script.type = \"text/javascript\";\n           script.src = \"https://cdn.jsdelivr.net/gh/JetBrains/lets-plot@v3.0.0/js-package/distr/lets-plot.min.js\";\n           script.onload = function() {\n               window.letsPlotCall = function(f) {f();};\n               window.letsPlotCallQueue.forEach(function(f) {f();});\n               window.letsPlotCallQueue = [];\n               \n               \n           };\n           script.onerror = function(event) {\n               window.letsPlotCall = function(f) {};\n               window.letsPlotCallQueue = [];\n               var div = document.createElement(\"div\");\n               div.style.color = 'darkred';\n               div.textContent = 'Error loading Lets-Plot JS';\n               document.getElementById(\"z1PdRd\").appendChild(div);\n           };\n           var e = document.getElementById(\"z1PdRd\");\n           e.appendChild(script);\n       })();\n   </script>"
     },
     "metadata": {},
     "output_type": "display_data"
    }
   ],
   "source": [
    "%use lets-plot"
   ],
   "metadata": {
    "collapsed": false,
    "ExecuteTime": {
     "start_time": "2023-04-18T04:00:32.183991Z",
     "end_time": "2023-04-18T04:00:36.056193Z"
    }
   }
  },
  {
   "cell_type": "code",
   "execution_count": 3,
   "outputs": [],
   "source": [
    "import org.jetbrains.letsPlot.intern.PosKind\n",
    "import org.jetbrains.letsPlot.intern.StatKind\n",
    "import org.jetbrains.letsPlot.intern.layer.PosOptions\n",
    "import org.jetbrains.letsPlot.intern.layer.StatOptions\n",
    "\n",
    "fun makePlot(name: String, platform: String, benchmarkLines: List<BenchmarkData>) {\n",
    "    if (benchmarkLines.isEmpty()) return\n",
    "    val names = benchmarkLines.map { it.name }\n",
    "    val scores = benchmarkLines.map { it.score }\n",
    "    val scoresMinusErrors = benchmarkLines.map { it.score - it.error / 2 }\n",
    "    val scoresPlusErrors = benchmarkLines.map { it.score + it.error / 2 }\n",
    "    val baseline = listOf(\"Float\", \"Double\", \"Int\", \"Long\").mapNotNull { type ->\n",
    "        val result = benchmarkLines.singleOrNull { it.name == \"baseline$type\" }\n",
    "        if (result != null) type to result else null\n",
    "    }.toMap()\n",
    "    val maxScore = scoresPlusErrors.max()\n",
    "    val plot = letsPlot() +\n",
    "            labs(\"$name ($platform)\", fill = \"Benchmark\", y = \"ns/op\") +\n",
    "            geomBar(stat = StatOptions(kind = StatKind.IDENTITY)) {\n",
    "                x = names\n",
    "                y = scores\n",
    "                fill = names\n",
    "            } +\n",
    "            geomErrorBar(\n",
    "                width = 0.5,\n",
    "                position = PosOptions(kind = PosKind.DODGE),\n",
    "                size = 0.6\n",
    "            ) {\n",
    "                x = names\n",
    "                ymin = scoresMinusErrors\n",
    "                ymax = scoresPlusErrors\n",
    "            } +\n",
    "            geomText(\n",
    "                stat = StatOptions(kind = StatKind.IDENTITY),\n",
    "                position = positionStack(vjust = 1.0),\n",
    "                size = 5,\n",
    "            ) {\n",
    "                x = names\n",
    "                y = scores.map {\n",
    "                    val threshold = 0.08\n",
    "                    if (it < maxScore * threshold) it + threshold * maxScore / 2 else it / 2\n",
    "                }\n",
    "                label = benchmarkLines.map {\n",
    "                    val type = when {\n",
    "                        it.name.contains(\"Float\") -> \"Float\"\n",
    "                        it.name.contains(\"Int\") -> \"Int\"\n",
    "                        it.name.contains(\"Double\") -> \"Double\"\n",
    "                        it.name.contains(\"Long\") -> \"Long\"\n",
    "                        else -> error(\"Unknown name: ${it.name}\")\n",
    "                    }\n",
    "                    val score = it.score / baseline[type]!!.score\n",
    "                    val error = it.error / baseline[type]!!.score\n",
    "                    \"${String.format(\"%.0f\", score * 100)}%\\n±\\n${String.format(\"%.1f\", error * 100)}%\\n${type}\"\n",
    "                }\n",
    "            } +\n",
    "            scaleXDiscrete(\n",
    "                labels = names,\n",
    "                name = \"\",\n",
    "                limits = names + listOf(\"\"),\n",
    "                breaks = names.toList()\n",
    "            ) +\n",
    "            scaleYContinuous(limits = 0 to maxScore, name = \"ns/op\") +\n",
    "            theme(plotTitle = elementText(hjust = 0.5)).legendPositionRight() +\n",
    "            ggsize(1000, 800)\n",
    "    ggsave(plot = plot, filename = \"$name ($platform).svg\")\n",
    "    plot.show()\n",
    "}\n"
   ],
   "metadata": {
    "collapsed": false,
    "ExecuteTime": {
     "start_time": "2023-04-18T04:00:36.048966Z",
     "end_time": "2023-04-18T04:00:37.117886Z"
    }
   }
  },
  {
   "cell_type": "code",
   "execution_count": 4,
   "outputs": [
    {
     "data": {
      "text/html": "   <div id=\"AqoPnk\"></div>\n   <script type=\"text/javascript\" data-lets-plot-script=\"plot\">\n       (function() {\n           var plotSpec={\n\"ggtitle\":{\n\"text\":\"Wolf3d (Hotspot)\"\n},\n\"mapping\":{\n},\n\"ggsize\":{\n\"width\":1000.0,\n\"height\":800.0\n},\n\"kind\":\"plot\",\n\"scales\":[{\n\"aesthetic\":\"y\",\n\"name\":\"ns/op\"\n},{\n\"aesthetic\":\"fill\",\n\"name\":\"Benchmark\"\n},{\n\"aesthetic\":\"x\",\n\"breaks\":[\"baselineDouble\",\"baselineFloat\",\"inlineDouble\",\"inlineFloat\",\"longPackFloat\",\"mutableRefDouble\",\"mutableRefFloatIn1Long\",\"mutableRefFloatIn2Longs\",\"valueDouble\",\"valueFloat\",\"valueInlineDouble\",\"valueInlineFloat\",\"valuePreserveBoxDouble\",\"valuePreserveBoxFloat\"],\n\"name\":\"\",\n\"limits\":[\"baselineDouble\",\"baselineFloat\",\"inlineDouble\",\"inlineFloat\",\"longPackFloat\",\"mutableRefDouble\",\"mutableRefFloatIn1Long\",\"mutableRefFloatIn2Longs\",\"valueDouble\",\"valueFloat\",\"valueInlineDouble\",\"valueInlineFloat\",\"valuePreserveBoxDouble\",\"valuePreserveBoxFloat\",\"\"],\n\"labels\":[\"baselineDouble\",\"baselineFloat\",\"inlineDouble\",\"inlineFloat\",\"longPackFloat\",\"mutableRefDouble\",\"mutableRefFloatIn1Long\",\"mutableRefFloatIn2Longs\",\"valueDouble\",\"valueFloat\",\"valueInlineDouble\",\"valueInlineFloat\",\"valuePreserveBoxDouble\",\"valuePreserveBoxFloat\"]\n},{\n\"aesthetic\":\"y\",\n\"name\":\"ns/op\",\n\"limits\":[0.0,6.48391695225E7]\n}],\n\"layers\":[{\n\"mapping\":{\n\"x\":\"x\",\n\"y\":\"y\",\n\"fill\":\"fill\"\n},\n\"stat\":\"identity\",\n\"position\":\"stack\",\n\"geom\":\"bar\",\n\"data\":{\n\"x\":[\"baselineDouble\",\"baselineFloat\",\"inlineDouble\",\"inlineFloat\",\"longPackFloat\",\"mutableRefDouble\",\"mutableRefFloatIn1Long\",\"mutableRefFloatIn2Longs\",\"valueDouble\",\"valueFloat\",\"valueInlineDouble\",\"valueInlineFloat\",\"valuePreserveBoxDouble\",\"valuePreserveBoxFloat\"],\n\"y\":[3.4452692055E7,3.3442081679E7,3.5092982538E7,3.3049489676E7,5.6222059737E7,4.0280109959E7,6.4718508885E7,3.9739173887E7,2.4705608547E7,2.5182216781E7,2.4759526397E7,2.5109059249E7,2.4760650008E7,2.5129968165E7],\n\"fill\":[\"baselineDouble\",\"baselineFloat\",\"inlineDouble\",\"inlineFloat\",\"longPackFloat\",\"mutableRefDouble\",\"mutableRefFloatIn1Long\",\"mutableRefFloatIn2Longs\",\"valueDouble\",\"valueFloat\",\"valueInlineDouble\",\"valueInlineFloat\",\"valuePreserveBoxDouble\",\"valuePreserveBoxFloat\"]\n}\n},{\n\"mapping\":{\n\"x\":\"x1\",\n\"ymin\":\"ymin\",\n\"ymax\":\"ymax\"\n},\n\"stat\":\"identity\",\n\"size\":0.6,\n\"width\":0.5,\n\"position\":\"dodge\",\n\"geom\":\"errorbar\",\n\"data\":{\n\"ymin\":[3.4362779339999996E7,3.3364533192500003E7,3.4778142277E7,3.29832049445E7,5.612813863950001E7,4.0199882727E7,6.4597848247499995E7,3.9584977722500004E7,2.4637228544499997E7,2.5095974842E7,2.46579669115E7,2.5049349705000002E7,2.4708038148500003E7,2.5057625838E7],\n\"ymax\":[3.454260477E7,3.35196301655E7,3.5407822799E7,3.31157744075E7,5.63159808345E7,4.0360337191E7,6.48391695225E7,3.98933700515E7,2.47739885495E7,2.526845872E7,2.48610858825E7,2.5168768793E7,2.48132618675E7,2.5202310492E7],\n\"x1\":[\"baselineDouble\",\"baselineFloat\",\"inlineDouble\",\"inlineFloat\",\"longPackFloat\",\"mutableRefDouble\",\"mutableRefFloatIn1Long\",\"mutableRefFloatIn2Longs\",\"valueDouble\",\"valueFloat\",\"valueInlineDouble\",\"valueInlineFloat\",\"valuePreserveBoxDouble\",\"valuePreserveBoxFloat\"]\n}\n},{\n\"mapping\":{\n\"x\":\"x2\",\n\"y\":\"y1\",\n\"label\":\"label\"\n},\n\"stat\":\"identity\",\n\"size\":5.0,\n\"position\":{\n\"name\":\"stack\",\n\"vjust\":1.0,\n\"kind\":\"pos\"\n},\n\"geom\":\"text\",\n\"data\":{\n\"y1\":[1.72263460275E7,1.67210408395E7,1.7546491269E7,1.6524744838E7,2.81110298685E7,2.01400549795E7,3.23592544425E7,1.98695869435E7,1.23528042735E7,1.25911083905E7,1.23797631985E7,1.25545296245E7,1.2380325004E7,1.25649840825E7],\n\"x2\":[\"baselineDouble\",\"baselineFloat\",\"inlineDouble\",\"inlineFloat\",\"longPackFloat\",\"mutableRefDouble\",\"mutableRefFloatIn1Long\",\"mutableRefFloatIn2Longs\",\"valueDouble\",\"valueFloat\",\"valueInlineDouble\",\"valueInlineFloat\",\"valuePreserveBoxDouble\",\"valuePreserveBoxFloat\"],\n\"label\":[\"100%\\n±\\n0.5%\\nDouble\",\"100%\\n±\\n0.5%\\nFloat\",\"102%\\n±\\n1.8%\\nDouble\",\"99%\\n±\\n0.4%\\nFloat\",\"168%\\n±\\n0.6%\\nFloat\",\"117%\\n±\\n0.5%\\nDouble\",\"194%\\n±\\n0.7%\\nFloat\",\"119%\\n±\\n0.9%\\nFloat\",\"72%\\n±\\n0.4%\\nDouble\",\"75%\\n±\\n0.5%\\nFloat\",\"72%\\n±\\n0.6%\\nDouble\",\"75%\\n±\\n0.4%\\nFloat\",\"72%\\n±\\n0.3%\\nDouble\",\"75%\\n±\\n0.4%\\nFloat\"]\n}\n}],\n\"theme\":{\n\"plot_title\":{\n\"hjust\":0.5,\n\"blank\":false\n},\n\"legend_position\":\"right\"\n}\n};\n           var plotContainer = document.getElementById(\"AqoPnk\");\n           window.letsPlotCall(function() {{\n               LetsPlot.buildPlotFromProcessedSpecs(plotSpec, -1, -1, plotContainer);\n           }});\n       })();    \n   </script>"
     },
     "metadata": {},
     "output_type": "display_data"
    },
    {
     "data": {
      "text/html": "   <div id=\"DeuskV\"></div>\n   <script type=\"text/javascript\" data-lets-plot-script=\"plot\">\n       (function() {\n           var plotSpec={\n\"ggtitle\":{\n\"text\":\"Fibonacci (Hotspot)\"\n},\n\"mapping\":{\n},\n\"ggsize\":{\n\"width\":1000.0,\n\"height\":800.0\n},\n\"kind\":\"plot\",\n\"scales\":[{\n\"aesthetic\":\"y\",\n\"name\":\"ns/op\"\n},{\n\"aesthetic\":\"fill\",\n\"name\":\"Benchmark\"\n},{\n\"aesthetic\":\"x\",\n\"breaks\":[\"baselineInt\",\"baselineLong\",\"longPackInt\",\"mutableRefIntIn1Long\",\"mutableRefIntIn2Longs\",\"mutableRefLong\",\"valueInt\",\"valueLong\",\"valuePreserveBoxInt\",\"valuePreserveBoxLong\"],\n\"name\":\"\",\n\"limits\":[\"baselineInt\",\"baselineLong\",\"longPackInt\",\"mutableRefIntIn1Long\",\"mutableRefIntIn2Longs\",\"mutableRefLong\",\"valueInt\",\"valueLong\",\"valuePreserveBoxInt\",\"valuePreserveBoxLong\",\"\"],\n\"labels\":[\"baselineInt\",\"baselineLong\",\"longPackInt\",\"mutableRefIntIn1Long\",\"mutableRefIntIn2Longs\",\"mutableRefLong\",\"valueInt\",\"valueLong\",\"valuePreserveBoxInt\",\"valuePreserveBoxLong\"]\n},{\n\"aesthetic\":\"y\",\n\"name\":\"ns/op\",\n\"limits\":[0.0,412.15]\n}],\n\"layers\":[{\n\"mapping\":{\n\"x\":\"x\",\n\"y\":\"y\",\n\"fill\":\"fill\"\n},\n\"stat\":\"identity\",\n\"position\":\"stack\",\n\"geom\":\"bar\",\n\"data\":{\n\"x\":[\"baselineInt\",\"baselineLong\",\"longPackInt\",\"mutableRefIntIn1Long\",\"mutableRefIntIn2Longs\",\"mutableRefLong\",\"valueInt\",\"valueLong\",\"valuePreserveBoxInt\",\"valuePreserveBoxLong\"],\n\"y\":[383.797,408.784,192.441,303.433,254.153,244.623,367.184,371.089,366.683,370.515],\n\"fill\":[\"baselineInt\",\"baselineLong\",\"longPackInt\",\"mutableRefIntIn1Long\",\"mutableRefIntIn2Longs\",\"mutableRefLong\",\"valueInt\",\"valueLong\",\"valuePreserveBoxInt\",\"valuePreserveBoxLong\"]\n}\n},{\n\"mapping\":{\n\"x\":\"x1\",\n\"ymin\":\"ymin\",\n\"ymax\":\"ymax\"\n},\n\"stat\":\"identity\",\n\"size\":0.6,\n\"width\":0.5,\n\"position\":\"dodge\",\n\"geom\":\"errorbar\",\n\"data\":{\n\"ymin\":[382.9125,405.418,191.635,302.6175,253.578,243.6075,366.4825,368.213,365.984,369.4445],\n\"ymax\":[384.6815,412.15,193.247,304.2485,254.72799999999998,245.6385,367.88550000000004,373.965,367.382,371.58549999999997],\n\"x1\":[\"baselineInt\",\"baselineLong\",\"longPackInt\",\"mutableRefIntIn1Long\",\"mutableRefIntIn2Longs\",\"mutableRefLong\",\"valueInt\",\"valueLong\",\"valuePreserveBoxInt\",\"valuePreserveBoxLong\"]\n}\n},{\n\"mapping\":{\n\"x\":\"x2\",\n\"y\":\"y1\",\n\"label\":\"label\"\n},\n\"stat\":\"identity\",\n\"size\":5.0,\n\"position\":{\n\"name\":\"stack\",\n\"vjust\":1.0,\n\"kind\":\"pos\"\n},\n\"geom\":\"text\",\n\"data\":{\n\"y1\":[191.8985,204.392,96.2205,151.7165,127.0765,122.3115,183.592,185.5445,183.3415,185.2575],\n\"x2\":[\"baselineInt\",\"baselineLong\",\"longPackInt\",\"mutableRefIntIn1Long\",\"mutableRefIntIn2Longs\",\"mutableRefLong\",\"valueInt\",\"valueLong\",\"valuePreserveBoxInt\",\"valuePreserveBoxLong\"],\n\"label\":[\"100%\\n±\\n0.5%\\nInt\",\"100%\\n±\\n1.6%\\nLong\",\"50%\\n±\\n0.4%\\nInt\",\"79%\\n±\\n0.4%\\nInt\",\"66%\\n±\\n0.3%\\nInt\",\"60%\\n±\\n0.5%\\nLong\",\"96%\\n±\\n0.4%\\nInt\",\"91%\\n±\\n1.4%\\nLong\",\"96%\\n±\\n0.4%\\nInt\",\"91%\\n±\\n0.5%\\nLong\"]\n}\n}],\n\"theme\":{\n\"plot_title\":{\n\"hjust\":0.5,\n\"blank\":false\n},\n\"legend_position\":\"right\"\n}\n};\n           var plotContainer = document.getElementById(\"DeuskV\");\n           window.letsPlotCall(function() {{\n               LetsPlot.buildPlotFromProcessedSpecs(plotSpec, -1, -1, plotContainer);\n           }});\n       })();    \n   </script>"
     },
     "metadata": {},
     "output_type": "display_data"
    }
   ],
   "source": [
    "makePlot(\"Wolf3d\", \"Hotspot\", readHotspotBenchmarkData(\"Wolf3dBenchmark\"))\n",
    "makePlot(\"Fibonacci\", \"Hotspot\", readHotspotBenchmarkData(\"FibonacciBenchmark\"))"
   ],
   "metadata": {
    "collapsed": false,
    "ExecuteTime": {
     "start_time": "2023-04-18T04:00:37.113848Z",
     "end_time": "2023-04-18T04:00:37.861080Z"
    }
   }
  },
  {
   "cell_type": "code",
   "execution_count": 5,
   "outputs": [
    {
     "data": {
      "text/plain": "baselineDouble: 4.109314225E8 ± 3.785773000388188E7 ns/op\nbaselineFloat: 3.422955765E8 ± 2.2952346541190278E7 ns/op\ninlineDouble: 8.5637973E8 ± 5.4032954877539895E7 ns/op\ninlineFloat: 6.632091725E8 ± 1.3761962879633907E7 ns/op\nlongPackFloat: 1.30840923E8 ± 2536042.6577650066 ns/op\nmutableRefDouble: 1.06645961E8 ± 1626549.6038457053 ns/op\nmutableRefFloatIn1Long: 1.59625634E8 ± 2380701.772825691 ns/op\nmutableRefFloatIn2Longs: 1.246060385E8 ± 549912.3055080409 ns/op\nvalueDouble: 4.63633923E8 ± 1.735101079385085E7 ns/op\nvalueFloat: 3.58129654E8 ± 6399666.819567365 ns/op\nvalueInlineDouble: 1.86353808E7 ± 203653.63720301932 ns/op\nvalueInlineFloat: 2.3094235625E7 ± 707453.0228103918 ns/op\nvaluePreserveBoxDouble: 4.31563019E8 ± 1.0779540313346304E7 ns/op\nvaluePreserveBoxFloat: 2.852673265E8 ± 9893948.625326464 ns/op\nbaselineInt: 1523.277832867574 ± 68.64011825711752 ns/op\nbaselineLong: 2058.3171853555396 ± 114.82394964796192 ns/op\nlongPackInt: 175.15255678639363 ± 6.721273577379677 ns/op\nmutableRefIntIn1Long: 441.9812033525021 ± 35.959348663768935 ns/op\nmutableRefIntIn2Longs: 342.20849108990865 ± 21.44077075311623 ns/op\nmutableRefLong: 356.20925873099964 ± 36.258492856383235 ns/op\nvalueInt: 358.4104288627244 ± 41.77270686729105 ns/op\nvalueLong: 440.59436187780136 ± 53.62376857977736 ns/op\nvaluePreserveBoxInt: 1564.7288363860243 ± 36.69867801642128 ns/op\nvaluePreserveBoxLong: 2180.6107202813973 ± 159.8275863681799 ns/op"
     },
     "execution_count": 5,
     "metadata": {},
     "output_type": "execute_result"
    }
   ],
   "source": [
    "import java.io.FileFilter\n",
    "import kotlin.io.path.listDirectoryEntries\n",
    "\n",
    "fun readArtBenchmarkData(benchmarkName: String) = Path.of(\"android-benchmark/build/outputs/androidTest-results/connected\")\n",
    "    .toFile().listFiles(FileFilter { it.isDirectory })!!.single()\n",
    "    .listFiles { dir, name -> name.startsWith(\"logcat-org.jetbrains.\") }!!.flatMap { it.readLines() }\n",
    "    .mapNotNull {\n",
    "        val pattern = Regex(\"^\\\\d{2}-\\\\d{2} +\\\\d+:\\\\d+:\\\\d+.\\\\d+ +\\\\d+ +\\\\d+ +I +Benchmark: +$benchmarkName\\\\.([^\\\\[]+)\\\\[Metric \\\\(timeNs\\\\) +results: +median +([^,]+), +min [^,]+, +max [^,]+, +standardDeviation: +([^,]+), +.*\")\n",
    "        val match = pattern.matchEntire(it) ?: return@mapNotNull null\n",
    "        BenchmarkData(\n",
    "            match.groups[1]!!.value,\n",
    "            match.groups[2]!!.value.toDouble(),\n",
    "            match.groups[3]!!.value.toDouble(),\n",
    "        )\n",
    "     }.let { lines ->\n",
    "         val indexes = readHotspotBenchmarkData(benchmarkName).mapIndexed { index, benchmarkData -> benchmarkData.name to index }.toMap()\n",
    "         if (lines.all { it.name in indexes }) lines.sortedBy { indexes[it.name]!! } else lines\n",
    "     }\n",
    "(readArtBenchmarkData(\"Wolf3dBenchmark\") + readArtBenchmarkData(\"FibonacciBenchmark\")).joinToString(\"\\n\")"
   ],
   "metadata": {
    "collapsed": false,
    "ExecuteTime": {
     "start_time": "2023-04-18T04:00:37.850657Z",
     "end_time": "2023-04-18T04:00:39.485995Z"
    }
   }
  },
  {
   "cell_type": "code",
   "execution_count": 6,
   "outputs": [
    {
     "data": {
      "text/html": "   <div id=\"vyq9dn\"></div>\n   <script type=\"text/javascript\" data-lets-plot-script=\"plot\">\n       (function() {\n           var plotSpec={\n\"ggtitle\":{\n\"text\":\"Wolf3d (ART)\"\n},\n\"mapping\":{\n},\n\"ggsize\":{\n\"width\":1000.0,\n\"height\":800.0\n},\n\"kind\":\"plot\",\n\"scales\":[{\n\"aesthetic\":\"y\",\n\"name\":\"ns/op\"\n},{\n\"aesthetic\":\"fill\",\n\"name\":\"Benchmark\"\n},{\n\"aesthetic\":\"x\",\n\"breaks\":[\"baselineDouble\",\"baselineFloat\",\"inlineDouble\",\"inlineFloat\",\"longPackFloat\",\"mutableRefDouble\",\"mutableRefFloatIn1Long\",\"mutableRefFloatIn2Longs\",\"valueDouble\",\"valueFloat\",\"valueInlineDouble\",\"valueInlineFloat\",\"valuePreserveBoxDouble\",\"valuePreserveBoxFloat\"],\n\"name\":\"\",\n\"limits\":[\"baselineDouble\",\"baselineFloat\",\"inlineDouble\",\"inlineFloat\",\"longPackFloat\",\"mutableRefDouble\",\"mutableRefFloatIn1Long\",\"mutableRefFloatIn2Longs\",\"valueDouble\",\"valueFloat\",\"valueInlineDouble\",\"valueInlineFloat\",\"valuePreserveBoxDouble\",\"valuePreserveBoxFloat\",\"\"],\n\"labels\":[\"baselineDouble\",\"baselineFloat\",\"inlineDouble\",\"inlineFloat\",\"longPackFloat\",\"mutableRefDouble\",\"mutableRefFloatIn1Long\",\"mutableRefFloatIn2Longs\",\"valueDouble\",\"valueFloat\",\"valueInlineDouble\",\"valueInlineFloat\",\"valuePreserveBoxDouble\",\"valuePreserveBoxFloat\"]\n},{\n\"aesthetic\":\"y\",\n\"name\":\"ns/op\",\n\"limits\":[0.0,8.833962074387699E8]\n}],\n\"layers\":[{\n\"mapping\":{\n\"x\":\"x\",\n\"y\":\"y\",\n\"fill\":\"fill\"\n},\n\"stat\":\"identity\",\n\"position\":\"stack\",\n\"geom\":\"bar\",\n\"data\":{\n\"x\":[\"baselineDouble\",\"baselineFloat\",\"inlineDouble\",\"inlineFloat\",\"longPackFloat\",\"mutableRefDouble\",\"mutableRefFloatIn1Long\",\"mutableRefFloatIn2Longs\",\"valueDouble\",\"valueFloat\",\"valueInlineDouble\",\"valueInlineFloat\",\"valuePreserveBoxDouble\",\"valuePreserveBoxFloat\"],\n\"y\":[4.109314225E8,3.422955765E8,8.5637973E8,6.632091725E8,1.30840923E8,1.06645961E8,1.59625634E8,1.246060385E8,4.63633923E8,3.58129654E8,1.86353808E7,2.3094235625E7,4.31563019E8,2.852673265E8],\n\"fill\":[\"baselineDouble\",\"baselineFloat\",\"inlineDouble\",\"inlineFloat\",\"longPackFloat\",\"mutableRefDouble\",\"mutableRefFloatIn1Long\",\"mutableRefFloatIn2Longs\",\"valueDouble\",\"valueFloat\",\"valueInlineDouble\",\"valueInlineFloat\",\"valuePreserveBoxDouble\",\"valuePreserveBoxFloat\"]\n}\n},{\n\"mapping\":{\n\"x\":\"x1\",\n\"ymin\":\"ymin\",\n\"ymax\":\"ymax\"\n},\n\"stat\":\"identity\",\n\"size\":0.6,\n\"width\":0.5,\n\"position\":\"dodge\",\n\"geom\":\"errorbar\",\n\"data\":{\n\"ymin\":[3.9200255749805903E8,3.3081940322940487E8,8.293632525612301E8,6.56328191060183E8,1.295729016711175E8,1.0583268619807714E8,1.5843528311358714E8,1.2433108234724598E8,4.5495841760307455E8,3.5492982059021634E8,1.853355398139849E7,2.2740509113594804E7,4.2617324884332687E8,2.8032035218733674E8],\n\"ymax\":[4.2986028750194097E8,3.5377174977059513E8,8.833962074387699E8,6.70090153939817E8,1.321089443288825E8,1.0745923580192286E8,1.6081598488641286E8,1.2488099465275402E8,4.7230942839692545E8,3.6132948740978366E8,1.8737207618601512E7,2.3447962136405196E7,4.3695278915667313E8,2.9021430081266326E8],\n\"x1\":[\"baselineDouble\",\"baselineFloat\",\"inlineDouble\",\"inlineFloat\",\"longPackFloat\",\"mutableRefDouble\",\"mutableRefFloatIn1Long\",\"mutableRefFloatIn2Longs\",\"valueDouble\",\"valueFloat\",\"valueInlineDouble\",\"valueInlineFloat\",\"valuePreserveBoxDouble\",\"valuePreserveBoxFloat\"]\n}\n},{\n\"mapping\":{\n\"x\":\"x2\",\n\"y\":\"y1\",\n\"label\":\"label\"\n},\n\"stat\":\"identity\",\n\"size\":5.0,\n\"position\":{\n\"name\":\"stack\",\n\"vjust\":1.0,\n\"kind\":\"pos\"\n},\n\"geom\":\"text\",\n\"data\":{\n\"y1\":[2.0546571125E8,1.7114778825E8,4.28189865E8,3.3160458625E8,6.54204615E7,5.33229805E7,7.9812817E7,6.230301925E7,2.318169615E8,1.79064827E8,5.3971229097550794E7,5.84300839225508E7,2.157815095E8,1.4263366325E8],\n\"x2\":[\"baselineDouble\",\"baselineFloat\",\"inlineDouble\",\"inlineFloat\",\"longPackFloat\",\"mutableRefDouble\",\"mutableRefFloatIn1Long\",\"mutableRefFloatIn2Longs\",\"valueDouble\",\"valueFloat\",\"valueInlineDouble\",\"valueInlineFloat\",\"valuePreserveBoxDouble\",\"valuePreserveBoxFloat\"],\n\"label\":[\"100%\\n±\\n9.2%\\nDouble\",\"100%\\n±\\n6.7%\\nFloat\",\"208%\\n±\\n13.1%\\nDouble\",\"194%\\n±\\n4.0%\\nFloat\",\"38%\\n±\\n0.7%\\nFloat\",\"26%\\n±\\n0.4%\\nDouble\",\"47%\\n±\\n0.7%\\nFloat\",\"36%\\n±\\n0.2%\\nFloat\",\"113%\\n±\\n4.2%\\nDouble\",\"105%\\n±\\n1.9%\\nFloat\",\"5%\\n±\\n0.0%\\nDouble\",\"7%\\n±\\n0.2%\\nFloat\",\"105%\\n±\\n2.6%\\nDouble\",\"83%\\n±\\n2.9%\\nFloat\"]\n}\n}],\n\"theme\":{\n\"plot_title\":{\n\"hjust\":0.5,\n\"blank\":false\n},\n\"legend_position\":\"right\"\n}\n};\n           var plotContainer = document.getElementById(\"vyq9dn\");\n           window.letsPlotCall(function() {{\n               LetsPlot.buildPlotFromProcessedSpecs(plotSpec, -1, -1, plotContainer);\n           }});\n       })();    \n   </script>"
     },
     "metadata": {},
     "output_type": "display_data"
    },
    {
     "data": {
      "text/html": "   <div id=\"x5tdre\"></div>\n   <script type=\"text/javascript\" data-lets-plot-script=\"plot\">\n       (function() {\n           var plotSpec={\n\"ggtitle\":{\n\"text\":\"Fibonacci (ART)\"\n},\n\"mapping\":{\n},\n\"ggsize\":{\n\"width\":1000.0,\n\"height\":800.0\n},\n\"kind\":\"plot\",\n\"scales\":[{\n\"aesthetic\":\"y\",\n\"name\":\"ns/op\"\n},{\n\"aesthetic\":\"fill\",\n\"name\":\"Benchmark\"\n},{\n\"aesthetic\":\"x\",\n\"breaks\":[\"baselineInt\",\"baselineLong\",\"longPackInt\",\"mutableRefIntIn1Long\",\"mutableRefIntIn2Longs\",\"mutableRefLong\",\"valueInt\",\"valueLong\",\"valuePreserveBoxInt\",\"valuePreserveBoxLong\"],\n\"name\":\"\",\n\"limits\":[\"baselineInt\",\"baselineLong\",\"longPackInt\",\"mutableRefIntIn1Long\",\"mutableRefIntIn2Longs\",\"mutableRefLong\",\"valueInt\",\"valueLong\",\"valuePreserveBoxInt\",\"valuePreserveBoxLong\",\"\"],\n\"labels\":[\"baselineInt\",\"baselineLong\",\"longPackInt\",\"mutableRefIntIn1Long\",\"mutableRefIntIn2Longs\",\"mutableRefLong\",\"valueInt\",\"valueLong\",\"valuePreserveBoxInt\",\"valuePreserveBoxLong\"]\n},{\n\"aesthetic\":\"y\",\n\"name\":\"ns/op\",\n\"limits\":[0.0,2260.5245134654874]\n}],\n\"layers\":[{\n\"mapping\":{\n\"x\":\"x\",\n\"y\":\"y\",\n\"fill\":\"fill\"\n},\n\"stat\":\"identity\",\n\"position\":\"stack\",\n\"geom\":\"bar\",\n\"data\":{\n\"x\":[\"baselineInt\",\"baselineLong\",\"longPackInt\",\"mutableRefIntIn1Long\",\"mutableRefIntIn2Longs\",\"mutableRefLong\",\"valueInt\",\"valueLong\",\"valuePreserveBoxInt\",\"valuePreserveBoxLong\"],\n\"y\":[1523.277832867574,2058.3171853555396,175.15255678639363,441.9812033525021,342.20849108990865,356.20925873099964,358.4104288627244,440.59436187780136,1564.7288363860243,2180.6107202813973],\n\"fill\":[\"baselineInt\",\"baselineLong\",\"longPackInt\",\"mutableRefIntIn1Long\",\"mutableRefIntIn2Longs\",\"mutableRefLong\",\"valueInt\",\"valueLong\",\"valuePreserveBoxInt\",\"valuePreserveBoxLong\"]\n}\n},{\n\"mapping\":{\n\"x\":\"x1\",\n\"ymin\":\"ymin\",\n\"ymax\":\"ymax\"\n},\n\"stat\":\"identity\",\n\"size\":0.6,\n\"width\":0.5,\n\"position\":\"dodge\",\n\"geom\":\"errorbar\",\n\"data\":{\n\"ymin\":[1488.9577737390152,2000.9052105315586,171.7919199977038,424.0015290206177,331.48810571335054,338.08001230280803,337.5240754290789,413.7824775879127,1546.3794973778138,2100.6969270973073],\n\"ymax\":[1557.5978919961328,2115.7291601795205,178.51319357508348,459.96087768438656,352.92887646646676,374.33850515919124,379.29678229636994,467.40624616769,1583.078175394235,2260.5245134654874],\n\"x1\":[\"baselineInt\",\"baselineLong\",\"longPackInt\",\"mutableRefIntIn1Long\",\"mutableRefIntIn2Longs\",\"mutableRefLong\",\"valueInt\",\"valueLong\",\"valuePreserveBoxInt\",\"valuePreserveBoxLong\"]\n}\n},{\n\"mapping\":{\n\"x\":\"x2\",\n\"y\":\"y1\",\n\"label\":\"label\"\n},\n\"stat\":\"identity\",\n\"size\":5.0,\n\"position\":{\n\"name\":\"stack\",\n\"vjust\":1.0,\n\"kind\":\"pos\"\n},\n\"geom\":\"text\",\n\"data\":{\n\"y1\":[761.638916433787,1029.1585926777698,265.57353732501315,220.99060167625106,171.10424554495432,178.10462936549982,179.2052144313622,220.29718093890068,782.3644181930122,1090.3053601406987],\n\"x2\":[\"baselineInt\",\"baselineLong\",\"longPackInt\",\"mutableRefIntIn1Long\",\"mutableRefIntIn2Longs\",\"mutableRefLong\",\"valueInt\",\"valueLong\",\"valuePreserveBoxInt\",\"valuePreserveBoxLong\"],\n\"label\":[\"100%\\n±\\n4.5%\\nInt\",\"100%\\n±\\n5.6%\\nLong\",\"11%\\n±\\n0.4%\\nInt\",\"29%\\n±\\n2.4%\\nInt\",\"22%\\n±\\n1.4%\\nInt\",\"17%\\n±\\n1.8%\\nLong\",\"24%\\n±\\n2.7%\\nInt\",\"21%\\n±\\n2.6%\\nLong\",\"103%\\n±\\n2.4%\\nInt\",\"106%\\n±\\n7.8%\\nLong\"]\n}\n}],\n\"theme\":{\n\"plot_title\":{\n\"hjust\":0.5,\n\"blank\":false\n},\n\"legend_position\":\"right\"\n}\n};\n           var plotContainer = document.getElementById(\"x5tdre\");\n           window.letsPlotCall(function() {{\n               LetsPlot.buildPlotFromProcessedSpecs(plotSpec, -1, -1, plotContainer);\n           }});\n       })();    \n   </script>"
     },
     "metadata": {},
     "output_type": "display_data"
    }
   ],
   "source": [
    "makePlot(\"Wolf3d\", \"ART\", readArtBenchmarkData(\"Wolf3dBenchmark\"))\n",
    "makePlot(\"Fibonacci\", \"ART\", readArtBenchmarkData(\"FibonacciBenchmark\"))"
   ],
   "metadata": {
    "collapsed": false,
    "ExecuteTime": {
     "start_time": "2023-04-18T04:00:39.483173Z",
     "end_time": "2023-04-18T04:00:39.877970Z"
    }
   }
  }
 ],
 "metadata": {
  "kernelspec": {
   "display_name": "Kotlin",
   "language": "kotlin",
   "name": "kotlin"
  },
  "language_info": {
   "name": "kotlin",
   "version": "1.8.0",
   "mimetype": "text/x-kotlin",
   "file_extension": ".kt",
   "pygments_lexer": "kotlin",
   "codemirror_mode": "text/x-kotlin",
   "nbconvert_exporter": ""
  }
 },
 "nbformat": 4,
 "nbformat_minor": 0
}
