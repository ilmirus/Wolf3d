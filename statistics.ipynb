{
 "cells": [
  {
   "cell_type": "code",
   "execution_count": 1,
   "metadata": {
    "collapsed": true,
    "ExecuteTime": {
     "start_time": "2023-04-19T16:14:09.644730Z",
     "end_time": "2023-04-19T16:14:10.934309Z"
    }
   },
   "outputs": [
    {
     "data": {
      "text/plain": "baselineDouble: 3.4155478943E7 ± 159260.73 ns/op\nbaselineFloat: 3.3262500217E7 ± 163188.313 ns/op\ninlineDouble: 3.4809097983E7 ± 204029.492 ns/op\ninlineFloat: 3.2958106082E7 ± 201399.308 ns/op\nlongPackFloat: 5.6056574704E7 ± 57637.248 ns/op\nmutableRefDouble: 4.0088944943E7 ± 129946.423 ns/op\nmutableRefFloatIn1Long: 6.4626704545E7 ± 259191.875 ns/op\nmutableRefFloatIn2Longs: 3.942654435E7 ± 158509.538 ns/op\nvalueDouble: 2.4692335152E7 ± 96987.297 ns/op\nvalueFloat: 2.4975946511E7 ± 42944.141 ns/op\nvalueInlineDouble: 2.4727345047E7 ± 162216.549 ns/op\nvalueInlineFloat: 2.5028369897E7 ± 32173.83 ns/op\nvaluePreserveBoxDouble: 2.461521608E7 ± 38902.754 ns/op\nvaluePreserveBoxFloat: 2.5072672279E7 ± 47553.798 ns/op"
     },
     "execution_count": 1,
     "metadata": {},
     "output_type": "execute_result"
    }
   ],
   "source": [
    "import java.nio.file.Files\n",
    "import java.nio.file.Path\n",
    "\n",
    "data class BenchmarkData(val name: String, val score: Double, val error: Double) {\n",
    "    override fun toString(): String = \"$name: $score ± $error ns/op\"\n",
    "}\n",
    "\n",
    "fun readHotspotBenchmarkData(benchmarkName: String) = Files.readAllLines(Path.of(\"build\", \"results\", \"jmh\", \"results.txt\"))\n",
    "    .mapNotNull {\n",
    "        val r = Regex(\"$benchmarkName\\\\.([^ ]+) +avgt +\\\\d+ +([0-9.]+) +± +([0-9.]+) +ns/op\")\n",
    "        val match = r.matchEntire(it) ?: return@mapNotNull null\n",
    "        BenchmarkData(\n",
    "            match.groups[1]!!.value,\n",
    "            match.groups[2]!!.value.toDouble(),\n",
    "            match.groups[3]!!.value.toDouble(),\n",
    "        )\n",
    "    }\n",
    "(readHotspotBenchmarkData(\"Wolf3dBenchmark\") + readHotspotBenchmarkData(\"FibonacciBenchmark\")).joinToString(\"\\n\")"
   ]
  },
  {
   "cell_type": "code",
   "execution_count": 2,
   "outputs": [
    {
     "data": {
      "text/html": "   <div id=\"tv6YVT\"></div>\n   <script type=\"text/javascript\" data-lets-plot-script=\"library\">\n       if(!window.letsPlotCallQueue) {\n           window.letsPlotCallQueue = [];\n       }; \n       window.letsPlotCall = function(f) {\n           window.letsPlotCallQueue.push(f);\n       };\n       (function() {\n           var script = document.createElement(\"script\");\n           script.type = \"text/javascript\";\n           script.src = \"https://cdn.jsdelivr.net/gh/JetBrains/lets-plot@v3.0.0/js-package/distr/lets-plot.min.js\";\n           script.onload = function() {\n               window.letsPlotCall = function(f) {f();};\n               window.letsPlotCallQueue.forEach(function(f) {f();});\n               window.letsPlotCallQueue = [];\n               \n               \n           };\n           script.onerror = function(event) {\n               window.letsPlotCall = function(f) {};\n               window.letsPlotCallQueue = [];\n               var div = document.createElement(\"div\");\n               div.style.color = 'darkred';\n               div.textContent = 'Error loading Lets-Plot JS';\n               document.getElementById(\"tv6YVT\").appendChild(div);\n           };\n           var e = document.getElementById(\"tv6YVT\");\n           e.appendChild(script);\n       })();\n   </script>"
     },
     "metadata": {},
     "output_type": "display_data"
    }
   ],
   "source": [
    "%use lets-plot"
   ],
   "metadata": {
    "collapsed": false,
    "ExecuteTime": {
     "start_time": "2023-04-19T16:14:10.928986Z",
     "end_time": "2023-04-19T16:14:15.124861Z"
    }
   }
  },
  {
   "cell_type": "code",
   "execution_count": 3,
   "outputs": [],
   "source": [
    "import org.jetbrains.letsPlot.intern.PosKind\n",
    "import org.jetbrains.letsPlot.intern.StatKind\n",
    "import org.jetbrains.letsPlot.intern.layer.PosOptions\n",
    "import org.jetbrains.letsPlot.intern.layer.StatOptions\n",
    "\n",
    "fun makePlot(name: String, platform: String, benchmarkLines: List<BenchmarkData>) {\n",
    "    if (benchmarkLines.isEmpty()) return\n",
    "    val names = benchmarkLines.map { it.name }\n",
    "    val scores = benchmarkLines.map { it.score }\n",
    "    val scoresMinusErrors = benchmarkLines.map { it.score - it.error / 2 }\n",
    "    val scoresPlusErrors = benchmarkLines.map { it.score + it.error / 2 }\n",
    "    val baseline = listOf(\"Float\", \"Double\", \"Int\", \"Long\").mapNotNull { type ->\n",
    "        val result = benchmarkLines.singleOrNull { it.name == \"baseline$type\" }\n",
    "        if (result != null) type to result else null\n",
    "    }.toMap()\n",
    "    val maxScore = scoresPlusErrors.max()\n",
    "    val plot = letsPlot() +\n",
    "            labs(\"$name ($platform)\", fill = \"Benchmark\", y = \"ns/op\") +\n",
    "            geomBar(stat = StatOptions(kind = StatKind.IDENTITY)) {\n",
    "                x = names\n",
    "                y = scores\n",
    "                fill = names\n",
    "            } +\n",
    "            geomErrorBar(\n",
    "                width = 0.5,\n",
    "                position = PosOptions(kind = PosKind.DODGE),\n",
    "                size = 0.6\n",
    "            ) {\n",
    "                x = names\n",
    "                ymin = scoresMinusErrors\n",
    "                ymax = scoresPlusErrors\n",
    "            } +\n",
    "            geomText(\n",
    "                stat = StatOptions(kind = StatKind.IDENTITY),\n",
    "                position = positionStack(vjust = 1.0),\n",
    "                size = 5,\n",
    "            ) {\n",
    "                x = names\n",
    "                y = scores.map {\n",
    "                    val threshold = 0.08\n",
    "                    if (it < maxScore * threshold) it + threshold * maxScore / 2 else it / 2\n",
    "                }\n",
    "                label = benchmarkLines.map {\n",
    "                    val type = when {\n",
    "                        it.name.contains(\"Float\") -> \"Float\"\n",
    "                        it.name.contains(\"Int\") -> \"Int\"\n",
    "                        it.name.contains(\"Double\") -> \"Double\"\n",
    "                        it.name.contains(\"Long\") -> \"Long\"\n",
    "                        else -> error(\"Unknown name: ${it.name}\")\n",
    "                    }\n",
    "                    val score = it.score / baseline[type]!!.score\n",
    "                    val error = it.error / baseline[type]!!.score\n",
    "                    \"${String.format(\"%.0f\", score * 100)}%\\n±\\n${String.format(\"%.1f\", error * 100)}%\\n${type}\"\n",
    "                }\n",
    "            } +\n",
    "            scaleXDiscrete(\n",
    "                labels = names,\n",
    "                name = \"\",\n",
    "                limits = names + listOf(\"\"),\n",
    "                breaks = names.toList()\n",
    "            ) +\n",
    "            scaleYContinuous(limits = 0 to maxScore, name = \"ns/op\") +\n",
    "            theme(plotTitle = elementText(hjust = 0.5)).legendPositionRight() +\n",
    "            ggsize(1000, 800)\n",
    "    ggsave(plot = plot, filename = \"$name ($platform).svg\")\n",
    "    plot.show()\n",
    "}\n"
   ],
   "metadata": {
    "collapsed": false,
    "ExecuteTime": {
     "start_time": "2023-04-19T16:14:15.080587Z",
     "end_time": "2023-04-19T16:14:16.754510Z"
    }
   }
  },
  {
   "cell_type": "code",
   "execution_count": 4,
   "outputs": [
    {
     "data": {
      "text/html": "   <div id=\"ZtRc1A\"></div>\n   <script type=\"text/javascript\" data-lets-plot-script=\"plot\">\n       (function() {\n           var plotSpec={\n\"ggtitle\":{\n\"text\":\"Wolf3d (Hotspot)\"\n},\n\"mapping\":{\n},\n\"ggsize\":{\n\"width\":1000.0,\n\"height\":800.0\n},\n\"kind\":\"plot\",\n\"scales\":[{\n\"aesthetic\":\"y\",\n\"name\":\"ns/op\"\n},{\n\"aesthetic\":\"fill\",\n\"name\":\"Benchmark\"\n},{\n\"aesthetic\":\"x\",\n\"breaks\":[\"baselineDouble\",\"baselineFloat\",\"inlineDouble\",\"inlineFloat\",\"longPackFloat\",\"mutableRefDouble\",\"mutableRefFloatIn1Long\",\"mutableRefFloatIn2Longs\",\"valueDouble\",\"valueFloat\",\"valueInlineDouble\",\"valueInlineFloat\",\"valuePreserveBoxDouble\",\"valuePreserveBoxFloat\"],\n\"name\":\"\",\n\"limits\":[\"baselineDouble\",\"baselineFloat\",\"inlineDouble\",\"inlineFloat\",\"longPackFloat\",\"mutableRefDouble\",\"mutableRefFloatIn1Long\",\"mutableRefFloatIn2Longs\",\"valueDouble\",\"valueFloat\",\"valueInlineDouble\",\"valueInlineFloat\",\"valuePreserveBoxDouble\",\"valuePreserveBoxFloat\",\"\"],\n\"labels\":[\"baselineDouble\",\"baselineFloat\",\"inlineDouble\",\"inlineFloat\",\"longPackFloat\",\"mutableRefDouble\",\"mutableRefFloatIn1Long\",\"mutableRefFloatIn2Longs\",\"valueDouble\",\"valueFloat\",\"valueInlineDouble\",\"valueInlineFloat\",\"valuePreserveBoxDouble\",\"valuePreserveBoxFloat\"]\n},{\n\"aesthetic\":\"y\",\n\"name\":\"ns/op\",\n\"limits\":[0.0,6.47563004825E7]\n}],\n\"layers\":[{\n\"mapping\":{\n\"x\":\"x\",\n\"y\":\"y\",\n\"fill\":\"fill\"\n},\n\"stat\":\"identity\",\n\"position\":\"stack\",\n\"geom\":\"bar\",\n\"data\":{\n\"x\":[\"baselineDouble\",\"baselineFloat\",\"inlineDouble\",\"inlineFloat\",\"longPackFloat\",\"mutableRefDouble\",\"mutableRefFloatIn1Long\",\"mutableRefFloatIn2Longs\",\"valueDouble\",\"valueFloat\",\"valueInlineDouble\",\"valueInlineFloat\",\"valuePreserveBoxDouble\",\"valuePreserveBoxFloat\"],\n\"y\":[3.4155478943E7,3.3262500217E7,3.4809097983E7,3.2958106082E7,5.6056574704E7,4.0088944943E7,6.4626704545E7,3.942654435E7,2.4692335152E7,2.4975946511E7,2.4727345047E7,2.5028369897E7,2.461521608E7,2.5072672279E7],\n\"fill\":[\"baselineDouble\",\"baselineFloat\",\"inlineDouble\",\"inlineFloat\",\"longPackFloat\",\"mutableRefDouble\",\"mutableRefFloatIn1Long\",\"mutableRefFloatIn2Longs\",\"valueDouble\",\"valueFloat\",\"valueInlineDouble\",\"valueInlineFloat\",\"valuePreserveBoxDouble\",\"valuePreserveBoxFloat\"]\n}\n},{\n\"mapping\":{\n\"x\":\"x1\",\n\"ymin\":\"ymin\",\n\"ymax\":\"ymax\"\n},\n\"stat\":\"identity\",\n\"size\":0.6,\n\"width\":0.5,\n\"position\":\"dodge\",\n\"geom\":\"errorbar\",\n\"data\":{\n\"ymin\":[3.4075848578E7,3.31809060605E7,3.4707083237E7,3.2857406428E7,5.6027756080000006E7,4.002397173150001E7,6.44971086075E7,3.9347289581E7,2.46438415035E7,2.49544744405E7,2.4646236772499997E7,2.5012282982E7,2.4595764702999998E7,2.504889538E7],\n\"ymax\":[3.4235109308000006E7,3.33440943735E7,3.4911112729E7,3.3058805735999998E7,5.6085393328E7,4.01539181545E7,6.47563004825E7,3.9505799119E7,2.4740828800499998E7,2.49974185815E7,2.48084533215E7,2.5044456812E7,2.4634667457E7,2.5096449178E7],\n\"x1\":[\"baselineDouble\",\"baselineFloat\",\"inlineDouble\",\"inlineFloat\",\"longPackFloat\",\"mutableRefDouble\",\"mutableRefFloatIn1Long\",\"mutableRefFloatIn2Longs\",\"valueDouble\",\"valueFloat\",\"valueInlineDouble\",\"valueInlineFloat\",\"valuePreserveBoxDouble\",\"valuePreserveBoxFloat\"]\n}\n},{\n\"mapping\":{\n\"x\":\"x2\",\n\"y\":\"y1\",\n\"label\":\"label\"\n},\n\"stat\":\"identity\",\n\"size\":5.0,\n\"position\":{\n\"name\":\"stack\",\n\"vjust\":1.0,\n\"kind\":\"pos\"\n},\n\"geom\":\"text\",\n\"data\":{\n\"y1\":[1.70777394715E7,1.66312501085E7,1.74045489915E7,1.6479053041E7,2.8028287352E7,2.00444724715E7,3.23133522725E7,1.9713272175E7,1.2346167576E7,1.24879732555E7,1.23636725235E7,1.25141849485E7,1.230760804E7,1.25363361395E7],\n\"x2\":[\"baselineDouble\",\"baselineFloat\",\"inlineDouble\",\"inlineFloat\",\"longPackFloat\",\"mutableRefDouble\",\"mutableRefFloatIn1Long\",\"mutableRefFloatIn2Longs\",\"valueDouble\",\"valueFloat\",\"valueInlineDouble\",\"valueInlineFloat\",\"valuePreserveBoxDouble\",\"valuePreserveBoxFloat\"],\n\"label\":[\"100%\\n±\\n0.5%\\nDouble\",\"100%\\n±\\n0.5%\\nFloat\",\"102%\\n±\\n0.6%\\nDouble\",\"99%\\n±\\n0.6%\\nFloat\",\"169%\\n±\\n0.2%\\nFloat\",\"117%\\n±\\n0.4%\\nDouble\",\"194%\\n±\\n0.8%\\nFloat\",\"119%\\n±\\n0.5%\\nFloat\",\"72%\\n±\\n0.3%\\nDouble\",\"75%\\n±\\n0.1%\\nFloat\",\"72%\\n±\\n0.5%\\nDouble\",\"75%\\n±\\n0.1%\\nFloat\",\"72%\\n±\\n0.1%\\nDouble\",\"75%\\n±\\n0.1%\\nFloat\"]\n}\n}],\n\"theme\":{\n\"plot_title\":{\n\"hjust\":0.5,\n\"blank\":false\n},\n\"legend_position\":\"right\"\n}\n};\n           var plotContainer = document.getElementById(\"ZtRc1A\");\n           window.letsPlotCall(function() {{\n               LetsPlot.buildPlotFromProcessedSpecs(plotSpec, -1, -1, plotContainer);\n           }});\n       })();    \n   </script>"
     },
     "metadata": {},
     "output_type": "display_data"
    },
    {
     "data": {
      "text/html": "   <div id=\"vl7gKO\"></div>\n   <script type=\"text/javascript\" data-lets-plot-script=\"plot\">\n       (function() {\n           var plotSpec={\n\"ggtitle\":{\n\"text\":\"Ackermann (Hotspot)\"\n},\n\"mapping\":{\n},\n\"ggsize\":{\n\"width\":1000.0,\n\"height\":800.0\n},\n\"kind\":\"plot\",\n\"scales\":[{\n\"aesthetic\":\"y\",\n\"name\":\"ns/op\"\n},{\n\"aesthetic\":\"fill\",\n\"name\":\"Benchmark\"\n},{\n\"aesthetic\":\"x\",\n\"breaks\":[\"baselineInt\",\"baselineLong\",\"longPackInt\",\"mutableRefIntIn1Long\",\"mutableRefIntIn2Longs\",\"mutableRefLong\",\"valueInt\",\"valueLong\",\"valuePreserveBoxInt\",\"valuePreserveBoxLong\"],\n\"name\":\"\",\n\"limits\":[\"baselineInt\",\"baselineLong\",\"longPackInt\",\"mutableRefIntIn1Long\",\"mutableRefIntIn2Longs\",\"mutableRefLong\",\"valueInt\",\"valueLong\",\"valuePreserveBoxInt\",\"valuePreserveBoxLong\",\"\"],\n\"labels\":[\"baselineInt\",\"baselineLong\",\"longPackInt\",\"mutableRefIntIn1Long\",\"mutableRefIntIn2Longs\",\"mutableRefLong\",\"valueInt\",\"valueLong\",\"valuePreserveBoxInt\",\"valuePreserveBoxLong\"]\n},{\n\"aesthetic\":\"y\",\n\"name\":\"ns/op\",\n\"limits\":[0.0,24614.226]\n}],\n\"layers\":[{\n\"mapping\":{\n\"x\":\"x\",\n\"y\":\"y\",\n\"fill\":\"fill\"\n},\n\"stat\":\"identity\",\n\"position\":\"stack\",\n\"geom\":\"bar\",\n\"data\":{\n\"x\":[\"baselineInt\",\"baselineLong\",\"longPackInt\",\"mutableRefIntIn1Long\",\"mutableRefIntIn2Longs\",\"mutableRefLong\",\"valueInt\",\"valueLong\",\"valuePreserveBoxInt\",\"valuePreserveBoxLong\"],\n\"y\":[17059.284,21829.067,8784.784,10665.144,10634.146,10862.287,12565.544,14634.287,12475.167,14538.755],\n\"fill\":[\"baselineInt\",\"baselineLong\",\"longPackInt\",\"mutableRefIntIn1Long\",\"mutableRefIntIn2Longs\",\"mutableRefLong\",\"valueInt\",\"valueLong\",\"valuePreserveBoxInt\",\"valuePreserveBoxLong\"]\n}\n},{\n\"mapping\":{\n\"x\":\"x1\",\n\"ymin\":\"ymin\",\n\"ymax\":\"ymax\"\n},\n\"stat\":\"identity\",\n\"size\":0.6,\n\"width\":0.5,\n\"position\":\"dodge\",\n\"geom\":\"errorbar\",\n\"data\":{\n\"ymin\":[16977.692,19043.908,8757.818,10598.867,10602.1725,10808.272,12471.593499999999,14518.2395,12413.471,14459.1765],\n\"ymax\":[17140.876,24614.226,8811.75,10731.421,10666.1195,10916.302,12659.4945,14750.3345,12536.863,14618.333499999999],\n\"x1\":[\"baselineInt\",\"baselineLong\",\"longPackInt\",\"mutableRefIntIn1Long\",\"mutableRefIntIn2Longs\",\"mutableRefLong\",\"valueInt\",\"valueLong\",\"valuePreserveBoxInt\",\"valuePreserveBoxLong\"]\n}\n},{\n\"mapping\":{\n\"x\":\"x2\",\n\"y\":\"y1\",\n\"label\":\"label\"\n},\n\"stat\":\"identity\",\n\"size\":5.0,\n\"position\":{\n\"name\":\"stack\",\n\"vjust\":1.0,\n\"kind\":\"pos\"\n},\n\"geom\":\"text\",\n\"data\":{\n\"y1\":[8529.642,10914.5335,4392.392,5332.572,5317.073,5431.1435,6282.772,7317.1435,6237.5835,7269.3775],\n\"x2\":[\"baselineInt\",\"baselineLong\",\"longPackInt\",\"mutableRefIntIn1Long\",\"mutableRefIntIn2Longs\",\"mutableRefLong\",\"valueInt\",\"valueLong\",\"valuePreserveBoxInt\",\"valuePreserveBoxLong\"],\n\"label\":[\"100%\\n±\\n1.0%\\nInt\",\"100%\\n±\\n25.5%\\nLong\",\"51%\\n±\\n0.3%\\nInt\",\"63%\\n±\\n0.8%\\nInt\",\"62%\\n±\\n0.4%\\nInt\",\"50%\\n±\\n0.5%\\nLong\",\"74%\\n±\\n1.1%\\nInt\",\"67%\\n±\\n1.1%\\nLong\",\"73%\\n±\\n0.7%\\nInt\",\"67%\\n±\\n0.7%\\nLong\"]\n}\n}],\n\"theme\":{\n\"plot_title\":{\n\"hjust\":0.5,\n\"blank\":false\n},\n\"legend_position\":\"right\"\n}\n};\n           var plotContainer = document.getElementById(\"vl7gKO\");\n           window.letsPlotCall(function() {{\n               LetsPlot.buildPlotFromProcessedSpecs(plotSpec, -1, -1, plotContainer);\n           }});\n       })();    \n   </script>"
     },
     "metadata": {},
     "output_type": "display_data"
    }
   ],
   "source": [
    "makePlot(\"Wolf3d\", \"Hotspot\", readHotspotBenchmarkData(\"Wolf3dBenchmark\"))\n",
    "makePlot(\"Ackermann\", \"Hotspot\", readHotspotBenchmarkData(\"AckermannBenchmark\"))"
   ],
   "metadata": {
    "collapsed": false,
    "ExecuteTime": {
     "start_time": "2023-04-19T16:14:16.672069Z",
     "end_time": "2023-04-19T16:14:17.452440Z"
    }
   }
  },
  {
   "cell_type": "code",
   "execution_count": 5,
   "outputs": [
    {
     "data": {
      "text/plain": "baselineDouble: 3.83608346E8 ± 1.3389502088539738E7 ns/op\nbaselineFloat: 3.09443365E8 ± 6211590.393370372 ns/op\ninlineDouble: 8.392054805E8 ± 2.3634348439076178E7 ns/op\ninlineFloat: 6.72639326E8 ± 1.957563331133731E7 ns/op\nlongPackFloat: 1.17564808E8 ± 821793.8851736297 ns/op\nmutableRefDouble: 1.06691538E8 ± 2431715.160789974 ns/op\nmutableRefFloatIn1Long: 1.66585961E8 ± 2401852.2491979324 ns/op\nmutableRefFloatIn2Longs: 1.019348075E8 ± 1280932.56373119 ns/op\nvalueDouble: 4.32730596E8 ± 7161589.385863689 ns/op\nvalueFloat: 2.760663845E8 ± 7439224.6356679695 ns/op\nvalueInlineDouble: 1.86463692E7 ± 524902.0075929541 ns/op\nvalueInlineFloat: 1.76072307E7 ± 17422.680620258012 ns/op\nvaluePreserveBoxDouble: 4.10934673E8 ± 1.3126733572686173E7 ns/op\nvaluePreserveBoxFloat: 2.97113942E8 ± 6873206.490616193 ns/op"
     },
     "execution_count": 5,
     "metadata": {},
     "output_type": "execute_result"
    }
   ],
   "source": [
    "import java.io.FileFilter\n",
    "import kotlin.io.path.listDirectoryEntries\n",
    "\n",
    "fun readArtBenchmarkData(benchmarkName: String) = Path.of(\"android-benchmark/build/outputs/androidTest-results/connected\")\n",
    "    .toFile().listFiles(FileFilter { it.isDirectory })!!.single()\n",
    "    .listFiles { dir, name -> name.startsWith(\"logcat-org.jetbrains.\") }!!.flatMap { it.readLines() }\n",
    "    .mapNotNull {\n",
    "        val pattern = Regex(\"^\\\\d{2}-\\\\d{2} +\\\\d+:\\\\d+:\\\\d+.\\\\d+ +\\\\d+ +\\\\d+ +I +Benchmark: +$benchmarkName\\\\.([^\\\\[]+)\\\\[Metric \\\\(timeNs\\\\) +results: +median +([^,]+), +min [^,]+, +max [^,]+, +standardDeviation: +([^,]+), +.*\")\n",
    "        val match = pattern.matchEntire(it) ?: return@mapNotNull null\n",
    "        BenchmarkData(\n",
    "            match.groups[1]!!.value,\n",
    "            match.groups[2]!!.value.toDouble(),\n",
    "            match.groups[3]!!.value.toDouble(),\n",
    "        )\n",
    "     }.let { lines ->\n",
    "         val indexes = readHotspotBenchmarkData(benchmarkName).mapIndexed { index, benchmarkData -> benchmarkData.name to index }.toMap()\n",
    "         if (lines.all { it.name in indexes }) lines.sortedBy { indexes[it.name]!! } else lines\n",
    "     }\n",
    "(readArtBenchmarkData(\"Wolf3dBenchmark\") + readArtBenchmarkData(\"FibonacciBenchmark\")).joinToString(\"\\n\")"
   ],
   "metadata": {
    "collapsed": false,
    "ExecuteTime": {
     "start_time": "2023-04-19T16:14:17.378892Z",
     "end_time": "2023-04-19T16:14:18.832843Z"
    }
   }
  },
  {
   "cell_type": "code",
   "execution_count": 6,
   "outputs": [
    {
     "data": {
      "text/html": "   <div id=\"175vQ3\"></div>\n   <script type=\"text/javascript\" data-lets-plot-script=\"plot\">\n       (function() {\n           var plotSpec={\n\"ggtitle\":{\n\"text\":\"Wolf3d (ART)\"\n},\n\"mapping\":{\n},\n\"ggsize\":{\n\"width\":1000.0,\n\"height\":800.0\n},\n\"kind\":\"plot\",\n\"scales\":[{\n\"aesthetic\":\"y\",\n\"name\":\"ns/op\"\n},{\n\"aesthetic\":\"fill\",\n\"name\":\"Benchmark\"\n},{\n\"aesthetic\":\"x\",\n\"breaks\":[\"baselineDouble\",\"baselineFloat\",\"inlineDouble\",\"inlineFloat\",\"longPackFloat\",\"mutableRefDouble\",\"mutableRefFloatIn1Long\",\"mutableRefFloatIn2Longs\",\"valueDouble\",\"valueFloat\",\"valueInlineDouble\",\"valueInlineFloat\",\"valuePreserveBoxDouble\",\"valuePreserveBoxFloat\"],\n\"name\":\"\",\n\"limits\":[\"baselineDouble\",\"baselineFloat\",\"inlineDouble\",\"inlineFloat\",\"longPackFloat\",\"mutableRefDouble\",\"mutableRefFloatIn1Long\",\"mutableRefFloatIn2Longs\",\"valueDouble\",\"valueFloat\",\"valueInlineDouble\",\"valueInlineFloat\",\"valuePreserveBoxDouble\",\"valuePreserveBoxFloat\",\"\"],\n\"labels\":[\"baselineDouble\",\"baselineFloat\",\"inlineDouble\",\"inlineFloat\",\"longPackFloat\",\"mutableRefDouble\",\"mutableRefFloatIn1Long\",\"mutableRefFloatIn2Longs\",\"valueDouble\",\"valueFloat\",\"valueInlineDouble\",\"valueInlineFloat\",\"valuePreserveBoxDouble\",\"valuePreserveBoxFloat\"]\n},{\n\"aesthetic\":\"y\",\n\"name\":\"ns/op\",\n\"limits\":[0.0,8.510226547195381E8]\n}],\n\"layers\":[{\n\"mapping\":{\n\"x\":\"x\",\n\"y\":\"y\",\n\"fill\":\"fill\"\n},\n\"stat\":\"identity\",\n\"position\":\"stack\",\n\"geom\":\"bar\",\n\"data\":{\n\"x\":[\"baselineDouble\",\"baselineFloat\",\"inlineDouble\",\"inlineFloat\",\"longPackFloat\",\"mutableRefDouble\",\"mutableRefFloatIn1Long\",\"mutableRefFloatIn2Longs\",\"valueDouble\",\"valueFloat\",\"valueInlineDouble\",\"valueInlineFloat\",\"valuePreserveBoxDouble\",\"valuePreserveBoxFloat\"],\n\"y\":[3.83608346E8,3.09443365E8,8.392054805E8,6.72639326E8,1.17564808E8,1.06691538E8,1.66585961E8,1.019348075E8,4.32730596E8,2.760663845E8,1.86463692E7,1.76072307E7,4.10934673E8,2.97113942E8],\n\"fill\":[\"baselineDouble\",\"baselineFloat\",\"inlineDouble\",\"inlineFloat\",\"longPackFloat\",\"mutableRefDouble\",\"mutableRefFloatIn1Long\",\"mutableRefFloatIn2Longs\",\"valueDouble\",\"valueFloat\",\"valueInlineDouble\",\"valueInlineFloat\",\"valuePreserveBoxDouble\",\"valuePreserveBoxFloat\"]\n}\n},{\n\"mapping\":{\n\"x\":\"x1\",\n\"ymin\":\"ymin\",\n\"ymax\":\"ymax\"\n},\n\"stat\":\"identity\",\n\"size\":0.6,\n\"width\":0.5,\n\"position\":\"dodge\",\n\"geom\":\"errorbar\",\n\"data\":{\n\"ymin\":[3.7691359495573014E8,3.063375698033148E8,8.273883062804619E8,6.628515093443314E8,1.1715391105741319E8,1.0547568041960502E8,1.6538503487540102E8,1.012943412181344E8,4.2914980130706817E8,2.7234677218216604E8,1.8383918196203522E7,1.759851935968987E7,4.043713062136569E8,2.936773387546919E8],\n\"ymax\":[3.9030309704426986E8,3.125491601966852E8,8.510226547195381E8,6.824271426556686E8,1.1797570494258681E8,1.0790739558039498E8,1.6778688712459898E8,1.025752737818656E8,4.3631139069293183E8,2.7978599681783396E8,1.8908820203796476E7,1.761594204031013E7,4.174980397863431E8,3.005505452453081E8],\n\"x1\":[\"baselineDouble\",\"baselineFloat\",\"inlineDouble\",\"inlineFloat\",\"longPackFloat\",\"mutableRefDouble\",\"mutableRefFloatIn1Long\",\"mutableRefFloatIn2Longs\",\"valueDouble\",\"valueFloat\",\"valueInlineDouble\",\"valueInlineFloat\",\"valuePreserveBoxDouble\",\"valuePreserveBoxFloat\"]\n}\n},{\n\"mapping\":{\n\"x\":\"x2\",\n\"y\":\"y1\",\n\"label\":\"label\"\n},\n\"stat\":\"identity\",\n\"size\":5.0,\n\"position\":{\n\"name\":\"stack\",\n\"vjust\":1.0,\n\"kind\":\"pos\"\n},\n\"geom\":\"text\",\n\"data\":{\n\"y1\":[1.91804173E8,1.547216825E8,4.1960274025E8,3.36319663E8,5.8782404E7,5.3345769E7,8.32929805E7,5.096740375E7,2.16365298E8,1.3803319225E8,5.268727538878152E7,5.164813688878152E7,2.054673365E8,1.48556971E8],\n\"x2\":[\"baselineDouble\",\"baselineFloat\",\"inlineDouble\",\"inlineFloat\",\"longPackFloat\",\"mutableRefDouble\",\"mutableRefFloatIn1Long\",\"mutableRefFloatIn2Longs\",\"valueDouble\",\"valueFloat\",\"valueInlineDouble\",\"valueInlineFloat\",\"valuePreserveBoxDouble\",\"valuePreserveBoxFloat\"],\n\"label\":[\"100%\\n±\\n3.5%\\nDouble\",\"100%\\n±\\n2.0%\\nFloat\",\"219%\\n±\\n6.2%\\nDouble\",\"217%\\n±\\n6.3%\\nFloat\",\"38%\\n±\\n0.3%\\nFloat\",\"28%\\n±\\n0.6%\\nDouble\",\"54%\\n±\\n0.8%\\nFloat\",\"33%\\n±\\n0.4%\\nFloat\",\"113%\\n±\\n1.9%\\nDouble\",\"89%\\n±\\n2.4%\\nFloat\",\"5%\\n±\\n0.1%\\nDouble\",\"6%\\n±\\n0.0%\\nFloat\",\"107%\\n±\\n3.4%\\nDouble\",\"96%\\n±\\n2.2%\\nFloat\"]\n}\n}],\n\"theme\":{\n\"plot_title\":{\n\"hjust\":0.5,\n\"blank\":false\n},\n\"legend_position\":\"right\"\n}\n};\n           var plotContainer = document.getElementById(\"175vQ3\");\n           window.letsPlotCall(function() {{\n               LetsPlot.buildPlotFromProcessedSpecs(plotSpec, -1, -1, plotContainer);\n           }});\n       })();    \n   </script>"
     },
     "metadata": {},
     "output_type": "display_data"
    },
    {
     "data": {
      "text/html": "   <div id=\"RH9rvR\"></div>\n   <script type=\"text/javascript\" data-lets-plot-script=\"plot\">\n       (function() {\n           var plotSpec={\n\"ggtitle\":{\n\"text\":\"Ackermann (ART)\"\n},\n\"mapping\":{\n},\n\"ggsize\":{\n\"width\":1000.0,\n\"height\":800.0\n},\n\"kind\":\"plot\",\n\"scales\":[{\n\"aesthetic\":\"y\",\n\"name\":\"ns/op\"\n},{\n\"aesthetic\":\"fill\",\n\"name\":\"Benchmark\"\n},{\n\"aesthetic\":\"x\",\n\"breaks\":[\"baselineInt\",\"baselineLong\",\"longPackInt\",\"mutableRefIntIn1Long\",\"mutableRefIntIn2Longs\",\"mutableRefLong\",\"valueInt\",\"valueLong\",\"valuePreserveBoxInt\",\"valuePreserveBoxLong\"],\n\"name\":\"\",\n\"limits\":[\"baselineInt\",\"baselineLong\",\"longPackInt\",\"mutableRefIntIn1Long\",\"mutableRefIntIn2Longs\",\"mutableRefLong\",\"valueInt\",\"valueLong\",\"valuePreserveBoxInt\",\"valuePreserveBoxLong\",\"\"],\n\"labels\":[\"baselineInt\",\"baselineLong\",\"longPackInt\",\"mutableRefIntIn1Long\",\"mutableRefIntIn2Longs\",\"mutableRefLong\",\"valueInt\",\"valueLong\",\"valuePreserveBoxInt\",\"valuePreserveBoxLong\"]\n},{\n\"aesthetic\":\"y\",\n\"name\":\"ns/op\",\n\"limits\":[0.0,102483.41892762641]\n}],\n\"layers\":[{\n\"mapping\":{\n\"x\":\"x\",\n\"y\":\"y\",\n\"fill\":\"fill\"\n},\n\"stat\":\"identity\",\n\"position\":\"stack\",\n\"geom\":\"bar\",\n\"data\":{\n\"x\":[\"baselineInt\",\"baselineLong\",\"longPackInt\",\"mutableRefIntIn1Long\",\"mutableRefIntIn2Longs\",\"mutableRefLong\",\"valueInt\",\"valueLong\",\"valuePreserveBoxInt\",\"valuePreserveBoxLong\"],\n\"y\":[74123.71802721088,96270.38406445837,12380.313035884408,26262.369388937157,23351.714993481095,36048.22235157159,44441.38579447323,100243.01660939289,43922.527842770236,99837.1418703507],\n\"fill\":[\"baselineInt\",\"baselineLong\",\"longPackInt\",\"mutableRefIntIn1Long\",\"mutableRefIntIn2Longs\",\"mutableRefLong\",\"valueInt\",\"valueLong\",\"valuePreserveBoxInt\",\"valuePreserveBoxLong\"]\n}\n},{\n\"mapping\":{\n\"x\":\"x1\",\n\"ymin\":\"ymin\",\n\"ymax\":\"ymax\"\n},\n\"stat\":\"identity\",\n\"size\":0.6,\n\"width\":0.5,\n\"position\":\"dodge\",\n\"geom\":\"errorbar\",\n\"data\":{\n\"ymin\":[72085.4032581648,93864.00035038065,12152.284141869497,25217.656945538492,22823.872533435602,35463.01388203471,43489.665138016804,98002.61429115936,43073.64126908192,98042.23076581351],\n\"ymax\":[76162.03279625696,98676.76777853609,12608.34192989932,27307.08183233582,23879.557453526588,36633.430821108464,45393.106450929656,102483.41892762641,44771.41441645855,101632.05297488788],\n\"x1\":[\"baselineInt\",\"baselineLong\",\"longPackInt\",\"mutableRefIntIn1Long\",\"mutableRefIntIn2Longs\",\"mutableRefLong\",\"valueInt\",\"valueLong\",\"valuePreserveBoxInt\",\"valuePreserveBoxLong\"]\n}\n},{\n\"mapping\":{\n\"x\":\"x2\",\n\"y\":\"y1\",\n\"label\":\"label\"\n},\n\"stat\":\"identity\",\n\"size\":5.0,\n\"position\":{\n\"name\":\"stack\",\n\"vjust\":1.0,\n\"kind\":\"pos\"\n},\n\"geom\":\"text\",\n\"data\":{\n\"y1\":[37061.85901360544,48135.192032229184,6190.156517942204,13131.184694468579,11675.857496740548,18024.111175785794,22220.692897236615,50121.50830469644,21961.263921385118,49918.57093517535],\n\"x2\":[\"baselineInt\",\"baselineLong\",\"longPackInt\",\"mutableRefIntIn1Long\",\"mutableRefIntIn2Longs\",\"mutableRefLong\",\"valueInt\",\"valueLong\",\"valuePreserveBoxInt\",\"valuePreserveBoxLong\"],\n\"label\":[\"100%\\n±\\n5.5%\\nInt\",\"100%\\n±\\n5.0%\\nLong\",\"17%\\n±\\n0.6%\\nInt\",\"35%\\n±\\n2.8%\\nInt\",\"32%\\n±\\n1.4%\\nInt\",\"37%\\n±\\n1.2%\\nLong\",\"60%\\n±\\n2.6%\\nInt\",\"104%\\n±\\n4.7%\\nLong\",\"59%\\n±\\n2.3%\\nInt\",\"104%\\n±\\n3.7%\\nLong\"]\n}\n}],\n\"theme\":{\n\"plot_title\":{\n\"hjust\":0.5,\n\"blank\":false\n},\n\"legend_position\":\"right\"\n}\n};\n           var plotContainer = document.getElementById(\"RH9rvR\");\n           window.letsPlotCall(function() {{\n               LetsPlot.buildPlotFromProcessedSpecs(plotSpec, -1, -1, plotContainer);\n           }});\n       })();    \n   </script>"
     },
     "metadata": {},
     "output_type": "display_data"
    }
   ],
   "source": [
    "makePlot(\"Wolf3d\", \"ART\", readArtBenchmarkData(\"Wolf3dBenchmark\"))\n",
    "makePlot(\"Ackermann\", \"ART\", readArtBenchmarkData(\"AckermannBenchmark\"))"
   ],
   "metadata": {
    "collapsed": false,
    "ExecuteTime": {
     "start_time": "2023-04-19T16:14:18.832287Z",
     "end_time": "2023-04-19T16:14:19.302609Z"
    }
   }
  }
 ],
 "metadata": {
  "kernelspec": {
   "display_name": "Kotlin",
   "language": "kotlin",
   "name": "kotlin"
  },
  "language_info": {
   "name": "kotlin",
   "version": "1.8.0",
   "mimetype": "text/x-kotlin",
   "file_extension": ".kt",
   "pygments_lexer": "kotlin",
   "codemirror_mode": "text/x-kotlin",
   "nbconvert_exporter": ""
  }
 },
 "nbformat": 4,
 "nbformat_minor": 0
}
