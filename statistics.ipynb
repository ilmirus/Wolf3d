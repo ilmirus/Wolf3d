{
 "cells": [
  {
   "cell_type": "code",
   "execution_count": 1,
   "outputs": [
    {
     "data": {
      "text/html": "            <div id=\"kotlin_out_0\"/>\n            <script type=\"text/javascript\">\n                            if(!window.kotlinQueues) {\n                window.kotlinQueues = {};\n            }\n            if(!window.kotlinQueues[\"kandyLetsPlot\"]) {\n                var resQueue = [];\n                window.kotlinQueues[\"kandyLetsPlot\"] = resQueue;\n                window[\"call_kandyLetsPlot\"] = function(f) {\n                    resQueue.push(f);\n                }\n            }\n            (function (){\n                var modifiers = [(function(script) {\n    script.src = \"https://cdn.jsdelivr.net/gh/JetBrains/lets-plot@v3.1.0/js-package/distr/lets-plot.min.js\"\n    script.type = \"text/javascript\";\n})];\n                var e = document.getElementById(\"kotlin_out_0\");\n                modifiers.forEach(function (gen) {\n                    var script = document.createElement(\"script\");\n                    gen(script)\n                    script.addEventListener(\"load\", function() {\n                        window[\"call_kandyLetsPlot\"] = function(f) {f();};\n                        window.kotlinQueues[\"kandyLetsPlot\"].forEach(function(f) {f();});\n                        window.kotlinQueues[\"kandyLetsPlot\"] = [];\n                    }, false);\n                    script.addEventListener(\"error\", function() {\n                        window[\"call_kandyLetsPlot\"] = function(f) {};\n                        window.kotlinQueues[\"kandyLetsPlot\"] = [];\n                        var div = document.createElement(\"div\");\n                        div.style.color = 'darkred';\n                        div.textContent = 'Error loading resource kandyLetsPlot';\n                        document.getElementById(\"kotlin_out_0\").appendChild(div);\n                    }, false);\n                    \n                    e.appendChild(script);\n                });\n            })();\n            </script>"
     },
     "metadata": {},
     "output_type": "display_data"
    }
   ],
   "source": [
    "%use kandy, dataframe"
   ],
   "metadata": {
    "collapsed": false,
    "ExecuteTime": {
     "end_time": "2023-05-19T01:48:34.084679Z",
     "start_time": "2023-05-19T01:48:24.709153Z"
    }
   }
  },
  {
   "cell_type": "code",
   "execution_count": 2,
   "outputs": [],
   "source": [
    "import java.nio.file.Files\n",
    "import java.nio.file.Path\n",
    "\n",
    "@DataSchema\n",
    "data class BenchmarkData(\n",
    "    val name: String,\n",
    "    val score: Double,\n",
    "    val error: Double,\n",
    "    val type: Type = getType(name),\n",
    ") {\n",
    "    override fun toString(): String = \"$name: $score ± $error ns/op\"\n",
    "}\n",
    "\n",
    "enum class Type { Int, Long, Float, Double }\n",
    "\n",
    "fun getType(name: String) = when {\n",
    "    name.contains(\"Float\") -> Type.Float\n",
    "    name.contains(\"Int\") -> Type.Int\n",
    "    name.contains(\"Double\") -> Type.Double\n",
    "    name.contains(\"Long\") -> Type.Long // Long must be the last as it is contained in other test names\n",
    "    else -> error(\"Unknown type: ${name}\")\n",
    "}\n",
    "\n",
    "fun List<String>.parseBenchmarkData(regex: Regex) = mapNotNull {\n",
    "    val match = regex.matchEntire(it) ?: return@mapNotNull null\n",
    "    BenchmarkData(\n",
    "        name = match.groups[\"name\"]!!.value,\n",
    "        score = match.groups[\"score\"]!!.value.toDouble(),\n",
    "        error = match.groups[\"error\"]!!.value.toDouble(),\n",
    "    )\n",
    "}.toDataFrame().sortBy(\"type\", \"name\")\n",
    "\n",
    "fun readJmhBenchmarkData(fileName: String, benchmarkName: String) = Files.readAllLines(Path.of(\"results\", \"jmh\", fileName))\n",
    "        .parseBenchmarkData(Regex(\"$benchmarkName\\\\.(?<name>[^ ]+) +avgt +\\\\d+ +(?<score>[0-9.]+) +± +(?<error>[0-9.]+) +ns/op\"))\n",
    "\n",
    "fun readHotspotBenchmarkData(benchmarkName: String) = readJmhBenchmarkData(\"Hotspot.txt\", benchmarkName)\n",
    "\n",
    "fun readGraalBenchmarkData(benchmarkName: String) = readJmhBenchmarkData(\"Graal.txt\", benchmarkName)"
   ],
   "metadata": {
    "collapsed": false,
    "ExecuteTime": {
     "end_time": "2023-05-19T01:48:37.511641Z",
     "start_time": "2023-05-19T01:48:34.089184Z"
    }
   }
  },
  {
   "cell_type": "code",
   "execution_count": 3,
   "outputs": [
    {
     "data": {
      "text/html": "            <iframe onload=\"o_resize_iframe_out_1()\" style=\"width:100%;\" class=\"result_container\" id=\"iframe_out_1\" frameBorder=\"0\" srcdoc=\"        &lt;html theme='dark'&gt;\n        &lt;head&gt;\n            &lt;style type=&quot;text&sol;css&quot;&gt;\n                :root {\n    --background: #fff;\n    --background-odd: #f5f5f5;\n    --background-hover: #d9edfd;\n    --header-text-color: #474747;\n    --text-color: #848484;\n    --text-color-dark: #000;\n    --text-color-medium: #737373;\n    --text-color-pale: #b3b3b3;\n    --inner-border-color: #aaa;\n    --bold-border-color: #000;\n    --link-color: #296eaa;\n    --link-color-pale: #296eaa;\n    --link-hover: #1a466c;\n}\n\n:root[theme=&quot;dark&quot;], :root [data-jp-theme-light=&quot;false&quot;], .dataframe_dark{\n    --background: #303030;\n    --background-odd: #3c3c3c;\n    --background-hover: #464646;\n    --header-text-color: #dddddd;\n    --text-color: #b3b3b3;\n    --text-color-dark: #dddddd;\n    --text-color-medium: #b2b2b2;\n    --text-color-pale: #737373;\n    --inner-border-color: #707070;\n    --bold-border-color: #777777;\n    --link-color: #008dc0;\n    --link-color-pale: #97e1fb;\n    --link-hover: #00688e;\n}\n\np.dataframe_description {\n    color: var(--text-color-dark);\n}\n\ntable.dataframe {\n    font-family: &quot;Helvetica Neue&quot;, Helvetica, Arial, sans-serif;\n    font-size: 12px;\n    background-color: var(--background);\n    color: var(--text-color-dark);\n    border: none;\n    border-collapse: collapse;\n}\n\ntable.dataframe th, td {\n    padding: 6px;\n    border: 1px solid transparent;\n    text-align: left;\n}\n\ntable.dataframe th {\n    background-color: var(--background);\n    color: var(--header-text-color);\n}\n\ntable.dataframe td {\n    vertical-align: top;\n}\n\ntable.dataframe th.bottomBorder {\n    border-bottom-color: var(--bold-border-color);\n}\n\ntable.dataframe tbody &gt; tr:nth-child(odd) {\n    background: var(--background-odd);\n}\n\ntable.dataframe tbody &gt; tr:nth-child(even) {\n    background: var(--background);\n}\n\ntable.dataframe tbody &gt; tr:hover {\n    background: var(--background-hover);\n}\n\ntable.dataframe a {\n    cursor: pointer;\n    color: var(--link-color);\n    text-decoration: none;\n}\n\ntable.dataframe tr:hover &gt; td a {\n    color: var(--link-color-pale);\n}\n\ntable.dataframe a:hover {\n    color: var(--link-hover);\n    text-decoration: underline;\n}\n\ntable.dataframe img {\n    max-width: fit-content;\n}\n\ntable.dataframe th.complex {\n    background-color: var(--background);\n    border: 1px solid var(--background);\n}\n\ntable.dataframe .leftBorder {\n    border-left-color: var(--inner-border-color);\n}\n\ntable.dataframe .rightBorder {\n    border-right-color: var(--inner-border-color);\n}\n\ntable.dataframe .rightAlign {\n    text-align: right;\n}\n\ntable.dataframe .expanderSvg {\n    width: 8px;\n    height: 8px;\n    margin-right: 3px;\n}\n\ntable.dataframe .expander {\n    display: flex;\n    align-items: center;\n}\n\n&sol;* formatting *&sol;\n\ntable.dataframe .null {\n    color: var(--text-color-pale);\n}\n\ntable.dataframe .structural {\n    color: var(--text-color-medium);\n    font-weight: bold;\n}\n\ntable.dataframe .dataFrameCaption {\n    font-weight: bold;\n}\n\ntable.dataframe .numbers {\n    color: var(--text-color-dark);\n}\n\ntable.dataframe td:hover .formatted .structural, .null {\n    color: var(--text-color-dark);\n}\n\ntable.dataframe tr:hover .formatted .structural, .null {\n    color: var(--text-color-dark);\n}\n\n\n\n\n:root {\n    --scroll-bg: #f5f5f5;\n    --scroll-fg: #b3b3b3;\n}\n:root[theme=&quot;dark&quot;], :root [data-jp-theme-light=&quot;false&quot;]{\n    --scroll-bg: #3c3c3c;\n    --scroll-fg: #97e1fb;\n}\nbody {\n    scrollbar-color: var(--scroll-fg) var(--scroll-bg);\n}\nbody::-webkit-scrollbar {\n    width: 10px; &sol;* Mostly for vertical scrollbars *&sol;\n    height: 10px; &sol;* Mostly for horizontal scrollbars *&sol;\n}\nbody::-webkit-scrollbar-thumb {\n    background-color: var(--scroll-fg);\n}\nbody::-webkit-scrollbar-track {\n    background-color: var(--scroll-bg);\n}\n            &lt;&sol;style&gt;\n        &lt;&sol;head&gt;\n        &lt;body&gt;\n            \n&lt;table class=&quot;dataframe&quot; id=&quot;df_570425344&quot;&gt;&lt;&sol;table&gt;\n\n&lt;p class=&quot;dataframe_description&quot;&gt;DataFrame: rowsCount = 16, columnsCount = 4&lt;&sol;p&gt;\n\n        &lt;&sol;body&gt;\n        &lt;script&gt;\n            (function () {\n    window.DataFrame = window.DataFrame || new (function () {\n        this.addTable = function (df) {\n            let cols = df.cols;\n            for (let i = 0; i &lt; cols.length; i++) {\n                for (let c of cols[i].children) {\n                    cols[c].parent = i;\n                }\n            }\n            df.nrow = 0\n            for (let i = 0; i &lt; df.cols.length; i++) {\n                if (df.cols[i].values.length &gt; df.nrow) df.nrow = df.cols[i].values.length\n            }\n            if (df.id === df.rootId) {\n                df.expandedFrames = new Set()\n                df.childFrames = {}\n                const table = this.getTableElement(df.id)\n                table.df = df\n                for (let i = 0; i &lt; df.cols.length; i++) {\n                    let col = df.cols[i]\n                    if (col.parent === undefined &amp;&amp; col.children.length &gt; 0) col.expanded = true\n                }\n            } else {\n                const rootDf = this.getTableData(df.rootId)\n                rootDf.childFrames[df.id] = df\n            }\n        }\n\n        this.computeRenderData = function (df) {\n            let result = []\n            let pos = 0\n            for (let col = 0; col &lt; df.cols.length; col++) {\n                if (df.cols[col].parent === undefined)\n                    pos += this.computeRenderDataRec(df.cols, col, pos, 0, result, false, false)\n            }\n            for (let i = 0; i &lt; result.length; i++) {\n                let row = result[i]\n                for (let j = 0; j &lt; row.length; j++) {\n                    let cell = row[j]\n                    if (j === 0)\n                        cell.leftBd = false\n                    if (j &lt; row.length - 1) {\n                        let nextData = row[j + 1]\n                        if (nextData.leftBd) cell.rightBd = true\n                        else if (cell.rightBd) nextData.leftBd = true\n                    } else cell.rightBd = false\n                }\n            }\n            return result\n        }\n\n        this.computeRenderDataRec = function (cols, colId, pos, depth, result, leftBorder, rightBorder) {\n            if (result.length === depth) {\n                const array = [];\n                if (pos &gt; 0) {\n                    let j = 0\n                    for (let i = 0; j &lt; pos; i++) {\n                        let c = result[depth - 1][i]\n                        j += c.span\n                        let copy = Object.assign({empty: true}, c)\n                        array.push(copy)\n                    }\n                }\n                result.push(array)\n            }\n            const col = cols[colId];\n            let size = 0;\n            if (col.expanded) {\n                let childPos = pos\n                for (let i = 0; i &lt; col.children.length; i++) {\n                    let child = col.children[i]\n                    let childLeft = i === 0 &amp;&amp; (col.children.length &gt; 1 || leftBorder)\n                    let childRight = i === col.children.length - 1 &amp;&amp; (col.children.length &gt; 1 || rightBorder)\n                    let childSize = this.computeRenderDataRec(cols, child, childPos, depth + 1, result, childLeft, childRight)\n                    childPos += childSize\n                    size += childSize\n                }\n            } else {\n                for (let i = depth + 1; i &lt; result.length; i++)\n                    result[i].push({id: colId, span: 1, leftBd: leftBorder, rightBd: rightBorder, empty: true})\n                size = 1\n            }\n            let left = leftBorder\n            let right = rightBorder\n            if (size &gt; 1) {\n                left = true\n                right = true\n            }\n            result[depth].push({id: colId, span: size, leftBd: left, rightBd: right})\n            return size\n        }\n\n        this.getTableElement = function (id) {\n            return document.getElementById(&quot;df_&quot; + id)\n        }\n\n        this.getTableData = function (id) {\n            return this.getTableElement(id).df\n        }\n\n        this.createExpander = function (isExpanded) {\n            const svgNs = &quot;http:&sol;&sol;www.w3.org&sol;2000&sol;svg&quot;\n            let svg = document.createElementNS(svgNs, &quot;svg&quot;)\n            svg.classList.add(&quot;expanderSvg&quot;)\n            let path = document.createElementNS(svgNs, &quot;path&quot;)\n            if (isExpanded) {\n                svg.setAttribute(&quot;viewBox&quot;, &quot;0 -2 8 8&quot;)\n                path.setAttribute(&quot;d&quot;, &quot;M1 0 l-1 1 4 4 4 -4 -1 -1 -3 3Z&quot;)\n            } else {\n                svg.setAttribute(&quot;viewBox&quot;, &quot;-2 0 8 8&quot;)\n                path.setAttribute(&quot;d&quot;, &quot;M1 0 l-1 1 3 3 -3 3 1 1 4 -4Z&quot;)\n            }\n            path.setAttribute(&quot;fill&quot;, &quot;currentColor&quot;)\n            svg.appendChild(path)\n            return svg\n        }\n\n        this.renderTable = function (id) {\n\n            let table = this.getTableElement(id)\n\n            if (table === null) return\n\n            table.innerHTML = &quot;&quot;\n\n            let df = table.df\n            let rootDf = df.rootId === df.id ? df : this.getTableData(df.rootId)\n\n            &sol;&sol; header\n            let header = document.createElement(&quot;thead&quot;)\n            table.appendChild(header)\n\n            let renderData = this.computeRenderData(df)\n            for (let j = 0; j &lt; renderData.length; j++) {\n                let rowData = renderData[j]\n                let tr = document.createElement(&quot;tr&quot;);\n                let isLastRow = j === renderData.length - 1\n                header.appendChild(tr);\n                for (let i = 0; i &lt; rowData.length; i++) {\n                    let cell = rowData[i]\n                    let th = document.createElement(&quot;th&quot;);\n                    th.setAttribute(&quot;colspan&quot;, cell.span)\n                    let colId = cell.id\n                    let col = df.cols[colId];\n                    if (!cell.empty) {\n                        if (col.children.length === 0) {\n                            th.innerHTML = col.name\n                        } else {\n                            let link = document.createElement(&quot;a&quot;)\n                            link.className = &quot;expander&quot;\n                            let that = this\n                            link.onclick = function () {\n                                col.expanded = !col.expanded\n                                that.renderTable(id)\n                            }\n                            link.appendChild(this.createExpander(col.expanded))\n                            link.innerHTML += col.name\n                            th.appendChild(link)\n                        }\n                    }\n                    let classes = (cell.leftBd ? &quot; leftBorder&quot; : &quot;&quot;) + (cell.rightBd ? &quot; rightBorder&quot; : &quot;&quot;)\n                    if (col.rightAlign)\n                        classes += &quot; rightAlign&quot;\n                    if (isLastRow)\n                        classes += &quot; bottomBorder&quot;\n                    if (classes.length &gt; 0)\n                        th.setAttribute(&quot;class&quot;, classes)\n                    tr.appendChild(th)\n                }\n            }\n\n            &sol;&sol; body\n            let body = document.createElement(&quot;tbody&quot;)\n            table.appendChild(body)\n\n            let columns = renderData.pop()\n            for (let row = 0; row &lt; df.nrow; row++) {\n                let tr = document.createElement(&quot;tr&quot;);\n                body.appendChild(tr)\n                for (let i = 0; i &lt; columns.length; i++) {\n                    let cell = columns[i]\n                    let td = document.createElement(&quot;td&quot;);\n                    let colId = cell.id\n                    let col = df.cols[colId]\n                    let classes = (cell.leftBd ? &quot; leftBorder&quot; : &quot;&quot;) + (cell.rightBd ? &quot; rightBorder&quot; : &quot;&quot;)\n                    if (col.rightAlign)\n                        classes += &quot; rightAlign&quot;\n                    if (classes.length &gt; 0)\n                        td.setAttribute(&quot;class&quot;, classes)\n                    tr.appendChild(td)\n                    let value = col.values[row]\n                    if (value.frameId !== undefined) {\n                        let frameId = value.frameId\n                        let expanded = rootDf.expandedFrames.has(frameId)\n                        let link = document.createElement(&quot;a&quot;)\n                        link.className = &quot;expander&quot;\n                        let that = this\n                        link.onclick = function () {\n                            if (rootDf.expandedFrames.has(frameId))\n                                rootDf.expandedFrames.delete(frameId)\n                            else rootDf.expandedFrames.add(frameId)\n                            that.renderTable(id)\n                        }\n                        link.appendChild(this.createExpander(expanded))\n                        link.innerHTML += value.value\n                        if (expanded) {\n                            td.appendChild(link)\n                            td.appendChild(document.createElement(&quot;p&quot;))\n                            const childTable = document.createElement(&quot;table&quot;)\n                            childTable.className = &quot;dataframe&quot;\n                            childTable.id = &quot;df_&quot; + frameId\n                            let childDf = rootDf.childFrames[frameId]\n                            childTable.df = childDf\n                            td.appendChild(childTable)\n                            this.renderTable(frameId)\n                            if (childDf.nrow !== childDf.totalRows) {\n                                const footer = document.createElement(&quot;p&quot;)\n                                footer.innerText = `... showing only top ${childDf.nrow} of ${childDf.totalRows} rows`\n                                td.appendChild(footer)\n                            }\n                        } else {\n                            td.appendChild(link)\n                        }\n                    } else if (value.style !== undefined) {\n                        td.innerHTML = value.value\n                        td.setAttribute(&quot;style&quot;, value.style)\n                    } else td.innerHTML = value\n                    this.nodeScriptReplace(td)\n                }\n            }\n        }\n\n        this.nodeScriptReplace = function (node) {\n            if (this.nodeScriptIs(node) === true) {\n                node.parentNode.replaceChild(this.nodeScriptClone(node), node);\n            } else {\n                let i = -1, children = node.childNodes;\n                while (++i &lt; children.length) {\n                    this.nodeScriptReplace(children[i]);\n                }\n            }\n\n            return node;\n        }\n\n        this.nodeScriptClone = function (node) {\n            let script = document.createElement(&quot;script&quot;);\n            script.text = node.innerHTML;\n\n            let i = -1, attrs = node.attributes, attr;\n            while (++i &lt; attrs.length) {\n                script.setAttribute((attr = attrs[i]).name, attr.value);\n            }\n            return script;\n        }\n\n        this.nodeScriptIs = function (node) {\n            return node.tagName === 'SCRIPT';\n        }\n    })()\n\n    window.call_DataFrame = function (f) {\n        return f();\n    };\n\n    let funQueue = window[&quot;kotlinQueues&quot;] &amp;&amp; window[&quot;kotlinQueues&quot;][&quot;DataFrame&quot;];\n    if (funQueue) {\n        funQueue.forEach(function (f) {\n            f();\n        });\n        funQueue = [];\n    }\n})()\n\n&sol;*&lt;!--*&sol;\ncall_DataFrame(function() { DataFrame.addTable({ cols: [{ name: &quot;&lt;span title=&bsol;&quot;name: String&bsol;&quot;&gt;name&lt;&sol;span&gt;&quot;, children: [], rightAlign: false, values: [&quot;baselineFloat&quot;,&quot;inlineFloat&quot;,&quot;longPackFloat&quot;,&quot;mutableSpecificRefFloat&quot;,&quot;mutableUniversalRefFloatIn1Long&quot;,&quot;mutableUniversalRefFloatIn2Longs&quot;,&quot;valueFloat&quot;,&quot;valueInlineFloat&quot;,&quot;valuePreserveBoxFloat&quot;,&quot;baselineDouble&quot;,&quot;inlineDouble&quot;,&quot;mutableSpecificRefDouble&quot;,&quot;mutableUniversalRefDouble&quot;,&quot;valueDouble&quot;,&quot;valueInlineDouble&quot;,&quot;valuePreserveBoxDouble&quot;] }, \n{ name: &quot;&lt;span title=&bsol;&quot;score: Double&bsol;&quot;&gt;score&lt;&sol;span&gt;&quot;, children: [], rightAlign: true, values: [&quot;&lt;span class=&bsol;&quot;formatted&bsol;&quot; title=&bsol;&quot;&bsol;&quot;&gt;&lt;span class=&bsol;&quot;numbers&bsol;&quot;&gt;32777794.122&lt;&sol;span&gt;&lt;&sol;span&gt;&quot;,&quot;&lt;span class=&bsol;&quot;formatted&bsol;&quot; title=&bsol;&quot;&bsol;&quot;&gt;&lt;span class=&bsol;&quot;numbers&bsol;&quot;&gt;32454402.942&lt;&sol;span&gt;&lt;&sol;span&gt;&quot;,&quot;&lt;span class=&bsol;&quot;formatted&bsol;&quot; title=&bsol;&quot;&bsol;&quot;&gt;&lt;span class=&bsol;&quot;numbers&bsol;&quot;&gt;56637237.703&lt;&sol;span&gt;&lt;&sol;span&gt;&quot;,&quot;&lt;span class=&bsol;&quot;formatted&bsol;&quot; title=&bsol;&quot;&bsol;&quot;&gt;&lt;span class=&bsol;&quot;numbers&bsol;&quot;&gt;23727817.417&lt;&sol;span&gt;&lt;&sol;span&gt;&quot;,&quot;&lt;span class=&bsol;&quot;formatted&bsol;&quot; title=&bsol;&quot;&bsol;&quot;&gt;&lt;span class=&bsol;&quot;numbers&bsol;&quot;&gt;63879335.429&lt;&sol;span&gt;&lt;&sol;span&gt;&quot;,&quot;&lt;span class=&bsol;&quot;formatted&bsol;&quot; title=&bsol;&quot;&bsol;&quot;&gt;&lt;span class=&bsol;&quot;numbers&bsol;&quot;&gt;38662847.293&lt;&sol;span&gt;&lt;&sol;span&gt;&quot;,&quot;&lt;span class=&bsol;&quot;formatted&bsol;&quot; title=&bsol;&quot;&bsol;&quot;&gt;&lt;span class=&bsol;&quot;numbers&bsol;&quot;&gt;24604456.636&lt;&sol;span&gt;&lt;&sol;span&gt;&quot;,&quot;&lt;span class=&bsol;&quot;formatted&bsol;&quot; title=&bsol;&quot;&bsol;&quot;&gt;&lt;span class=&bsol;&quot;numbers&bsol;&quot;&gt;24917343.507&lt;&sol;span&gt;&lt;&sol;span&gt;&quot;,&quot;&lt;span class=&bsol;&quot;formatted&bsol;&quot; title=&bsol;&quot;&bsol;&quot;&gt;&lt;span class=&bsol;&quot;numbers&bsol;&quot;&gt;25026109.333&lt;&sol;span&gt;&lt;&sol;span&gt;&quot;,&quot;&lt;span class=&bsol;&quot;formatted&bsol;&quot; title=&bsol;&quot;&bsol;&quot;&gt;&lt;span class=&bsol;&quot;numbers&bsol;&quot;&gt;33724536.015&lt;&sol;span&gt;&lt;&sol;span&gt;&quot;,&quot;&lt;span class=&bsol;&quot;formatted&bsol;&quot; title=&bsol;&quot;&bsol;&quot;&gt;&lt;span class=&bsol;&quot;numbers&bsol;&quot;&gt;34364489.472&lt;&sol;span&gt;&lt;&sol;span&gt;&quot;,&quot;&lt;span class=&bsol;&quot;formatted&bsol;&quot; title=&bsol;&quot;&bsol;&quot;&gt;&lt;span class=&bsol;&quot;numbers&bsol;&quot;&gt;23247218.375&lt;&sol;span&gt;&lt;&sol;span&gt;&quot;,&quot;&lt;span class=&bsol;&quot;formatted&bsol;&quot; title=&bsol;&quot;&bsol;&quot;&gt;&lt;span class=&bsol;&quot;numbers&bsol;&quot;&gt;39424299.820&lt;&sol;span&gt;&lt;&sol;span&gt;&quot;,&quot;&lt;span class=&bsol;&quot;formatted&bsol;&quot; title=&bsol;&quot;&bsol;&quot;&gt;&lt;span class=&bsol;&quot;numbers&bsol;&quot;&gt;24616159.057&lt;&sol;span&gt;&lt;&sol;span&gt;&quot;,&quot;&lt;span class=&bsol;&quot;formatted&bsol;&quot; title=&bsol;&quot;&bsol;&quot;&gt;&lt;span class=&bsol;&quot;numbers&bsol;&quot;&gt;24570258.084&lt;&sol;span&gt;&lt;&sol;span&gt;&quot;,&quot;&lt;span class=&bsol;&quot;formatted&bsol;&quot; title=&bsol;&quot;&bsol;&quot;&gt;&lt;span class=&bsol;&quot;numbers&bsol;&quot;&gt;24515243.674&lt;&sol;span&gt;&lt;&sol;span&gt;&quot;] }, \n{ name: &quot;&lt;span title=&bsol;&quot;error: Double&bsol;&quot;&gt;error&lt;&sol;span&gt;&quot;, children: [], rightAlign: true, values: [&quot;&lt;span class=&bsol;&quot;formatted&bsol;&quot; title=&bsol;&quot;&bsol;&quot;&gt;&lt;span class=&bsol;&quot;numbers&bsol;&quot;&gt;117599.149&lt;&sol;span&gt;&lt;&sol;span&gt;&quot;,&quot;&lt;span class=&bsol;&quot;formatted&bsol;&quot; title=&bsol;&quot;&bsol;&quot;&gt;&lt;span class=&bsol;&quot;numbers&bsol;&quot;&gt;71914.263&lt;&sol;span&gt;&lt;&sol;span&gt;&quot;,&quot;&lt;span class=&bsol;&quot;formatted&bsol;&quot; title=&bsol;&quot;&bsol;&quot;&gt;&lt;span class=&bsol;&quot;numbers&bsol;&quot;&gt;30654.969&lt;&sol;span&gt;&lt;&sol;span&gt;&quot;,&quot;&lt;span class=&bsol;&quot;formatted&bsol;&quot; title=&bsol;&quot;&bsol;&quot;&gt;&lt;span class=&bsol;&quot;numbers&bsol;&quot;&gt;38906.477&lt;&sol;span&gt;&lt;&sol;span&gt;&quot;,&quot;&lt;span class=&bsol;&quot;formatted&bsol;&quot; title=&bsol;&quot;&bsol;&quot;&gt;&lt;span class=&bsol;&quot;numbers&bsol;&quot;&gt;207183.718&lt;&sol;span&gt;&lt;&sol;span&gt;&quot;,&quot;&lt;span class=&bsol;&quot;formatted&bsol;&quot; title=&bsol;&quot;&bsol;&quot;&gt;&lt;span class=&bsol;&quot;numbers&bsol;&quot;&gt;62597.210&lt;&sol;span&gt;&lt;&sol;span&gt;&quot;,&quot;&lt;span class=&bsol;&quot;formatted&bsol;&quot; title=&bsol;&quot;&bsol;&quot;&gt;&lt;span class=&bsol;&quot;numbers&bsol;&quot;&gt;363608.407&lt;&sol;span&gt;&lt;&sol;span&gt;&quot;,&quot;&lt;span class=&bsol;&quot;formatted&bsol;&quot; title=&bsol;&quot;&bsol;&quot;&gt;&lt;span class=&bsol;&quot;numbers&bsol;&quot;&gt;35561.195&lt;&sol;span&gt;&lt;&sol;span&gt;&quot;,&quot;&lt;span class=&bsol;&quot;formatted&bsol;&quot; title=&bsol;&quot;&bsol;&quot;&gt;&lt;span class=&bsol;&quot;numbers&bsol;&quot;&gt;75842.585&lt;&sol;span&gt;&lt;&sol;span&gt;&quot;,&quot;&lt;span class=&bsol;&quot;formatted&bsol;&quot; title=&bsol;&quot;&bsol;&quot;&gt;&lt;span class=&bsol;&quot;numbers&bsol;&quot;&gt;90546.797&lt;&sol;span&gt;&lt;&sol;span&gt;&quot;,&quot;&lt;span class=&bsol;&quot;formatted&bsol;&quot; title=&bsol;&quot;&bsol;&quot;&gt;&lt;span class=&bsol;&quot;numbers&bsol;&quot;&gt;204342.150&lt;&sol;span&gt;&lt;&sol;span&gt;&quot;,&quot;&lt;span class=&bsol;&quot;formatted&bsol;&quot; title=&bsol;&quot;&bsol;&quot;&gt;&lt;span class=&bsol;&quot;numbers&bsol;&quot;&gt;37047.305&lt;&sol;span&gt;&lt;&sol;span&gt;&quot;,&quot;&lt;span class=&bsol;&quot;formatted&bsol;&quot; title=&bsol;&quot;&bsol;&quot;&gt;&lt;span class=&bsol;&quot;numbers&bsol;&quot;&gt;65405.138&lt;&sol;span&gt;&lt;&sol;span&gt;&quot;,&quot;&lt;span class=&bsol;&quot;formatted&bsol;&quot; title=&bsol;&quot;&bsol;&quot;&gt;&lt;span class=&bsol;&quot;numbers&bsol;&quot;&gt;108055.950&lt;&sol;span&gt;&lt;&sol;span&gt;&quot;,&quot;&lt;span class=&bsol;&quot;formatted&bsol;&quot; title=&bsol;&quot;&bsol;&quot;&gt;&lt;span class=&bsol;&quot;numbers&bsol;&quot;&gt;157137.427&lt;&sol;span&gt;&lt;&sol;span&gt;&quot;,&quot;&lt;span class=&bsol;&quot;formatted&bsol;&quot; title=&bsol;&quot;&bsol;&quot;&gt;&lt;span class=&bsol;&quot;numbers&bsol;&quot;&gt;99634.239&lt;&sol;span&gt;&lt;&sol;span&gt;&quot;] }, \n{ name: &quot;&lt;span title=&bsol;&quot;type: Line_9_jupyter.Type&bsol;&quot;&gt;type&lt;&sol;span&gt;&quot;, children: [], rightAlign: false, values: [&quot;Float&quot;,&quot;Float&quot;,&quot;Float&quot;,&quot;Float&quot;,&quot;Float&quot;,&quot;Float&quot;,&quot;Float&quot;,&quot;Float&quot;,&quot;Float&quot;,&quot;Double&quot;,&quot;Double&quot;,&quot;Double&quot;,&quot;Double&quot;,&quot;Double&quot;,&quot;Double&quot;,&quot;Double&quot;] }, \n], id: 570425344, rootId: 570425344, totalRows: 16 } ) });\n&sol;*--&gt;*&sol;\n\ncall_DataFrame(function() { DataFrame.renderTable(570425344) });\n\n\n\n        &lt;&sol;script&gt;\n        &lt;&sol;html&gt;\"></iframe>\n            <script>\n                function o_resize_iframe_out_1() {\n                    let elem = document.getElementById(\"iframe_out_1\");\n                    resize_iframe_out_1(elem);\n                    setInterval(resize_iframe_out_1, 5000, elem);\n                }\n                function resize_iframe_out_1(el) {\n                    let h = el.contentWindow.document.body.scrollHeight;\n                    el.height = h === 0 ? 0 : h + 41;\n                }\n            </script>",
      "application/kotlindataframe+json": "{\"nrow\":16,\"ncol\":4,\"columns\":[\"name\",\"score\",\"error\",\"type\"],\"kotlin_dataframe\":[{\"name\":\"baselineFloat\",\"score\":3.2777794122E7,\"error\":117599.149,\"type\":\"Float\"},{\"name\":\"inlineFloat\",\"score\":3.2454402942E7,\"error\":71914.263,\"type\":\"Float\"},{\"name\":\"longPackFloat\",\"score\":5.6637237703E7,\"error\":30654.969,\"type\":\"Float\"},{\"name\":\"mutableSpecificRefFloat\",\"score\":2.3727817417E7,\"error\":38906.477,\"type\":\"Float\"},{\"name\":\"mutableUniversalRefFloatIn1Long\",\"score\":6.3879335429E7,\"error\":207183.718,\"type\":\"Float\"},{\"name\":\"mutableUniversalRefFloatIn2Longs\",\"score\":3.8662847293E7,\"error\":62597.21,\"type\":\"Float\"},{\"name\":\"valueFloat\",\"score\":2.4604456636E7,\"error\":363608.407,\"type\":\"Float\"},{\"name\":\"valueInlineFloat\",\"score\":2.4917343507E7,\"error\":35561.195,\"type\":\"Float\"},{\"name\":\"valuePreserveBoxFloat\",\"score\":2.5026109333E7,\"error\":75842.585,\"type\":\"Float\"},{\"name\":\"baselineDouble\",\"score\":3.3724536015E7,\"error\":90546.797,\"type\":\"Double\"},{\"name\":\"inlineDouble\",\"score\":3.4364489472E7,\"error\":204342.15,\"type\":\"Double\"},{\"name\":\"mutableSpecificRefDouble\",\"score\":2.3247218375E7,\"error\":37047.305,\"type\":\"Double\"},{\"name\":\"mutableUniversalRefDouble\",\"score\":3.942429982E7,\"error\":65405.138,\"type\":\"Double\"},{\"name\":\"valueDouble\",\"score\":2.4616159057E7,\"error\":108055.95,\"type\":\"Double\"},{\"name\":\"valueInlineDouble\",\"score\":2.4570258084E7,\"error\":157137.427,\"type\":\"Double\"},{\"name\":\"valuePreserveBoxDouble\",\"score\":2.4515243674E7,\"error\":99634.239,\"type\":\"Double\"}]}"
     },
     "execution_count": 3,
     "metadata": {},
     "output_type": "execute_result"
    }
   ],
   "source": [
    "readHotspotBenchmarkData(\"Wolf3dBenchmark\").concat(readHotspotBenchmarkData(\"FibonacciBenchmark\"))"
   ],
   "metadata": {
    "collapsed": false,
    "ExecuteTime": {
     "end_time": "2023-05-19T01:48:38.101434Z",
     "start_time": "2023-05-19T01:48:37.521245Z"
    }
   }
  },
  {
   "cell_type": "code",
   "execution_count": 4,
   "outputs": [
    {
     "data": {
      "text/html": "            <iframe onload=\"o_resize_iframe_out_2()\" style=\"width:100%;\" class=\"result_container\" id=\"iframe_out_2\" frameBorder=\"0\" srcdoc=\"        &lt;html theme='dark'&gt;\n        &lt;head&gt;\n            &lt;style type=&quot;text&sol;css&quot;&gt;\n                :root {\n    --background: #fff;\n    --background-odd: #f5f5f5;\n    --background-hover: #d9edfd;\n    --header-text-color: #474747;\n    --text-color: #848484;\n    --text-color-dark: #000;\n    --text-color-medium: #737373;\n    --text-color-pale: #b3b3b3;\n    --inner-border-color: #aaa;\n    --bold-border-color: #000;\n    --link-color: #296eaa;\n    --link-color-pale: #296eaa;\n    --link-hover: #1a466c;\n}\n\n:root[theme=&quot;dark&quot;], :root [data-jp-theme-light=&quot;false&quot;], .dataframe_dark{\n    --background: #303030;\n    --background-odd: #3c3c3c;\n    --background-hover: #464646;\n    --header-text-color: #dddddd;\n    --text-color: #b3b3b3;\n    --text-color-dark: #dddddd;\n    --text-color-medium: #b2b2b2;\n    --text-color-pale: #737373;\n    --inner-border-color: #707070;\n    --bold-border-color: #777777;\n    --link-color: #008dc0;\n    --link-color-pale: #97e1fb;\n    --link-hover: #00688e;\n}\n\np.dataframe_description {\n    color: var(--text-color-dark);\n}\n\ntable.dataframe {\n    font-family: &quot;Helvetica Neue&quot;, Helvetica, Arial, sans-serif;\n    font-size: 12px;\n    background-color: var(--background);\n    color: var(--text-color-dark);\n    border: none;\n    border-collapse: collapse;\n}\n\ntable.dataframe th, td {\n    padding: 6px;\n    border: 1px solid transparent;\n    text-align: left;\n}\n\ntable.dataframe th {\n    background-color: var(--background);\n    color: var(--header-text-color);\n}\n\ntable.dataframe td {\n    vertical-align: top;\n}\n\ntable.dataframe th.bottomBorder {\n    border-bottom-color: var(--bold-border-color);\n}\n\ntable.dataframe tbody &gt; tr:nth-child(odd) {\n    background: var(--background-odd);\n}\n\ntable.dataframe tbody &gt; tr:nth-child(even) {\n    background: var(--background);\n}\n\ntable.dataframe tbody &gt; tr:hover {\n    background: var(--background-hover);\n}\n\ntable.dataframe a {\n    cursor: pointer;\n    color: var(--link-color);\n    text-decoration: none;\n}\n\ntable.dataframe tr:hover &gt; td a {\n    color: var(--link-color-pale);\n}\n\ntable.dataframe a:hover {\n    color: var(--link-hover);\n    text-decoration: underline;\n}\n\ntable.dataframe img {\n    max-width: fit-content;\n}\n\ntable.dataframe th.complex {\n    background-color: var(--background);\n    border: 1px solid var(--background);\n}\n\ntable.dataframe .leftBorder {\n    border-left-color: var(--inner-border-color);\n}\n\ntable.dataframe .rightBorder {\n    border-right-color: var(--inner-border-color);\n}\n\ntable.dataframe .rightAlign {\n    text-align: right;\n}\n\ntable.dataframe .expanderSvg {\n    width: 8px;\n    height: 8px;\n    margin-right: 3px;\n}\n\ntable.dataframe .expander {\n    display: flex;\n    align-items: center;\n}\n\n&sol;* formatting *&sol;\n\ntable.dataframe .null {\n    color: var(--text-color-pale);\n}\n\ntable.dataframe .structural {\n    color: var(--text-color-medium);\n    font-weight: bold;\n}\n\ntable.dataframe .dataFrameCaption {\n    font-weight: bold;\n}\n\ntable.dataframe .numbers {\n    color: var(--text-color-dark);\n}\n\ntable.dataframe td:hover .formatted .structural, .null {\n    color: var(--text-color-dark);\n}\n\ntable.dataframe tr:hover .formatted .structural, .null {\n    color: var(--text-color-dark);\n}\n\n\n\n\n:root {\n    --scroll-bg: #f5f5f5;\n    --scroll-fg: #b3b3b3;\n}\n:root[theme=&quot;dark&quot;], :root [data-jp-theme-light=&quot;false&quot;]{\n    --scroll-bg: #3c3c3c;\n    --scroll-fg: #97e1fb;\n}\nbody {\n    scrollbar-color: var(--scroll-fg) var(--scroll-bg);\n}\nbody::-webkit-scrollbar {\n    width: 10px; &sol;* Mostly for vertical scrollbars *&sol;\n    height: 10px; &sol;* Mostly for horizontal scrollbars *&sol;\n}\nbody::-webkit-scrollbar-thumb {\n    background-color: var(--scroll-fg);\n}\nbody::-webkit-scrollbar-track {\n    background-color: var(--scroll-bg);\n}\n            &lt;&sol;style&gt;\n        &lt;&sol;head&gt;\n        &lt;body&gt;\n            \n&lt;table class=&quot;dataframe&quot; id=&quot;df_570425345&quot;&gt;&lt;&sol;table&gt;\n\n&lt;p class=&quot;dataframe_description&quot;&gt;DataFrame: rowsCount = 16, columnsCount = 4&lt;&sol;p&gt;\n\n        &lt;&sol;body&gt;\n        &lt;script&gt;\n            (function () {\n    window.DataFrame = window.DataFrame || new (function () {\n        this.addTable = function (df) {\n            let cols = df.cols;\n            for (let i = 0; i &lt; cols.length; i++) {\n                for (let c of cols[i].children) {\n                    cols[c].parent = i;\n                }\n            }\n            df.nrow = 0\n            for (let i = 0; i &lt; df.cols.length; i++) {\n                if (df.cols[i].values.length &gt; df.nrow) df.nrow = df.cols[i].values.length\n            }\n            if (df.id === df.rootId) {\n                df.expandedFrames = new Set()\n                df.childFrames = {}\n                const table = this.getTableElement(df.id)\n                table.df = df\n                for (let i = 0; i &lt; df.cols.length; i++) {\n                    let col = df.cols[i]\n                    if (col.parent === undefined &amp;&amp; col.children.length &gt; 0) col.expanded = true\n                }\n            } else {\n                const rootDf = this.getTableData(df.rootId)\n                rootDf.childFrames[df.id] = df\n            }\n        }\n\n        this.computeRenderData = function (df) {\n            let result = []\n            let pos = 0\n            for (let col = 0; col &lt; df.cols.length; col++) {\n                if (df.cols[col].parent === undefined)\n                    pos += this.computeRenderDataRec(df.cols, col, pos, 0, result, false, false)\n            }\n            for (let i = 0; i &lt; result.length; i++) {\n                let row = result[i]\n                for (let j = 0; j &lt; row.length; j++) {\n                    let cell = row[j]\n                    if (j === 0)\n                        cell.leftBd = false\n                    if (j &lt; row.length - 1) {\n                        let nextData = row[j + 1]\n                        if (nextData.leftBd) cell.rightBd = true\n                        else if (cell.rightBd) nextData.leftBd = true\n                    } else cell.rightBd = false\n                }\n            }\n            return result\n        }\n\n        this.computeRenderDataRec = function (cols, colId, pos, depth, result, leftBorder, rightBorder) {\n            if (result.length === depth) {\n                const array = [];\n                if (pos &gt; 0) {\n                    let j = 0\n                    for (let i = 0; j &lt; pos; i++) {\n                        let c = result[depth - 1][i]\n                        j += c.span\n                        let copy = Object.assign({empty: true}, c)\n                        array.push(copy)\n                    }\n                }\n                result.push(array)\n            }\n            const col = cols[colId];\n            let size = 0;\n            if (col.expanded) {\n                let childPos = pos\n                for (let i = 0; i &lt; col.children.length; i++) {\n                    let child = col.children[i]\n                    let childLeft = i === 0 &amp;&amp; (col.children.length &gt; 1 || leftBorder)\n                    let childRight = i === col.children.length - 1 &amp;&amp; (col.children.length &gt; 1 || rightBorder)\n                    let childSize = this.computeRenderDataRec(cols, child, childPos, depth + 1, result, childLeft, childRight)\n                    childPos += childSize\n                    size += childSize\n                }\n            } else {\n                for (let i = depth + 1; i &lt; result.length; i++)\n                    result[i].push({id: colId, span: 1, leftBd: leftBorder, rightBd: rightBorder, empty: true})\n                size = 1\n            }\n            let left = leftBorder\n            let right = rightBorder\n            if (size &gt; 1) {\n                left = true\n                right = true\n            }\n            result[depth].push({id: colId, span: size, leftBd: left, rightBd: right})\n            return size\n        }\n\n        this.getTableElement = function (id) {\n            return document.getElementById(&quot;df_&quot; + id)\n        }\n\n        this.getTableData = function (id) {\n            return this.getTableElement(id).df\n        }\n\n        this.createExpander = function (isExpanded) {\n            const svgNs = &quot;http:&sol;&sol;www.w3.org&sol;2000&sol;svg&quot;\n            let svg = document.createElementNS(svgNs, &quot;svg&quot;)\n            svg.classList.add(&quot;expanderSvg&quot;)\n            let path = document.createElementNS(svgNs, &quot;path&quot;)\n            if (isExpanded) {\n                svg.setAttribute(&quot;viewBox&quot;, &quot;0 -2 8 8&quot;)\n                path.setAttribute(&quot;d&quot;, &quot;M1 0 l-1 1 4 4 4 -4 -1 -1 -3 3Z&quot;)\n            } else {\n                svg.setAttribute(&quot;viewBox&quot;, &quot;-2 0 8 8&quot;)\n                path.setAttribute(&quot;d&quot;, &quot;M1 0 l-1 1 3 3 -3 3 1 1 4 -4Z&quot;)\n            }\n            path.setAttribute(&quot;fill&quot;, &quot;currentColor&quot;)\n            svg.appendChild(path)\n            return svg\n        }\n\n        this.renderTable = function (id) {\n\n            let table = this.getTableElement(id)\n\n            if (table === null) return\n\n            table.innerHTML = &quot;&quot;\n\n            let df = table.df\n            let rootDf = df.rootId === df.id ? df : this.getTableData(df.rootId)\n\n            &sol;&sol; header\n            let header = document.createElement(&quot;thead&quot;)\n            table.appendChild(header)\n\n            let renderData = this.computeRenderData(df)\n            for (let j = 0; j &lt; renderData.length; j++) {\n                let rowData = renderData[j]\n                let tr = document.createElement(&quot;tr&quot;);\n                let isLastRow = j === renderData.length - 1\n                header.appendChild(tr);\n                for (let i = 0; i &lt; rowData.length; i++) {\n                    let cell = rowData[i]\n                    let th = document.createElement(&quot;th&quot;);\n                    th.setAttribute(&quot;colspan&quot;, cell.span)\n                    let colId = cell.id\n                    let col = df.cols[colId];\n                    if (!cell.empty) {\n                        if (col.children.length === 0) {\n                            th.innerHTML = col.name\n                        } else {\n                            let link = document.createElement(&quot;a&quot;)\n                            link.className = &quot;expander&quot;\n                            let that = this\n                            link.onclick = function () {\n                                col.expanded = !col.expanded\n                                that.renderTable(id)\n                            }\n                            link.appendChild(this.createExpander(col.expanded))\n                            link.innerHTML += col.name\n                            th.appendChild(link)\n                        }\n                    }\n                    let classes = (cell.leftBd ? &quot; leftBorder&quot; : &quot;&quot;) + (cell.rightBd ? &quot; rightBorder&quot; : &quot;&quot;)\n                    if (col.rightAlign)\n                        classes += &quot; rightAlign&quot;\n                    if (isLastRow)\n                        classes += &quot; bottomBorder&quot;\n                    if (classes.length &gt; 0)\n                        th.setAttribute(&quot;class&quot;, classes)\n                    tr.appendChild(th)\n                }\n            }\n\n            &sol;&sol; body\n            let body = document.createElement(&quot;tbody&quot;)\n            table.appendChild(body)\n\n            let columns = renderData.pop()\n            for (let row = 0; row &lt; df.nrow; row++) {\n                let tr = document.createElement(&quot;tr&quot;);\n                body.appendChild(tr)\n                for (let i = 0; i &lt; columns.length; i++) {\n                    let cell = columns[i]\n                    let td = document.createElement(&quot;td&quot;);\n                    let colId = cell.id\n                    let col = df.cols[colId]\n                    let classes = (cell.leftBd ? &quot; leftBorder&quot; : &quot;&quot;) + (cell.rightBd ? &quot; rightBorder&quot; : &quot;&quot;)\n                    if (col.rightAlign)\n                        classes += &quot; rightAlign&quot;\n                    if (classes.length &gt; 0)\n                        td.setAttribute(&quot;class&quot;, classes)\n                    tr.appendChild(td)\n                    let value = col.values[row]\n                    if (value.frameId !== undefined) {\n                        let frameId = value.frameId\n                        let expanded = rootDf.expandedFrames.has(frameId)\n                        let link = document.createElement(&quot;a&quot;)\n                        link.className = &quot;expander&quot;\n                        let that = this\n                        link.onclick = function () {\n                            if (rootDf.expandedFrames.has(frameId))\n                                rootDf.expandedFrames.delete(frameId)\n                            else rootDf.expandedFrames.add(frameId)\n                            that.renderTable(id)\n                        }\n                        link.appendChild(this.createExpander(expanded))\n                        link.innerHTML += value.value\n                        if (expanded) {\n                            td.appendChild(link)\n                            td.appendChild(document.createElement(&quot;p&quot;))\n                            const childTable = document.createElement(&quot;table&quot;)\n                            childTable.className = &quot;dataframe&quot;\n                            childTable.id = &quot;df_&quot; + frameId\n                            let childDf = rootDf.childFrames[frameId]\n                            childTable.df = childDf\n                            td.appendChild(childTable)\n                            this.renderTable(frameId)\n                            if (childDf.nrow !== childDf.totalRows) {\n                                const footer = document.createElement(&quot;p&quot;)\n                                footer.innerText = `... showing only top ${childDf.nrow} of ${childDf.totalRows} rows`\n                                td.appendChild(footer)\n                            }\n                        } else {\n                            td.appendChild(link)\n                        }\n                    } else if (value.style !== undefined) {\n                        td.innerHTML = value.value\n                        td.setAttribute(&quot;style&quot;, value.style)\n                    } else td.innerHTML = value\n                    this.nodeScriptReplace(td)\n                }\n            }\n        }\n\n        this.nodeScriptReplace = function (node) {\n            if (this.nodeScriptIs(node) === true) {\n                node.parentNode.replaceChild(this.nodeScriptClone(node), node);\n            } else {\n                let i = -1, children = node.childNodes;\n                while (++i &lt; children.length) {\n                    this.nodeScriptReplace(children[i]);\n                }\n            }\n\n            return node;\n        }\n\n        this.nodeScriptClone = function (node) {\n            let script = document.createElement(&quot;script&quot;);\n            script.text = node.innerHTML;\n\n            let i = -1, attrs = node.attributes, attr;\n            while (++i &lt; attrs.length) {\n                script.setAttribute((attr = attrs[i]).name, attr.value);\n            }\n            return script;\n        }\n\n        this.nodeScriptIs = function (node) {\n            return node.tagName === 'SCRIPT';\n        }\n    })()\n\n    window.call_DataFrame = function (f) {\n        return f();\n    };\n\n    let funQueue = window[&quot;kotlinQueues&quot;] &amp;&amp; window[&quot;kotlinQueues&quot;][&quot;DataFrame&quot;];\n    if (funQueue) {\n        funQueue.forEach(function (f) {\n            f();\n        });\n        funQueue = [];\n    }\n})()\n\n&sol;*&lt;!--*&sol;\ncall_DataFrame(function() { DataFrame.addTable({ cols: [{ name: &quot;&lt;span title=&bsol;&quot;name: String&bsol;&quot;&gt;name&lt;&sol;span&gt;&quot;, children: [], rightAlign: false, values: [&quot;baselineFloat&quot;,&quot;inlineFloat&quot;,&quot;longPackFloat&quot;,&quot;mutableSpecificRefFloat&quot;,&quot;mutableUniversalRefFloatIn1Long&quot;,&quot;mutableUniversalRefFloatIn2Longs&quot;,&quot;valueFloat&quot;,&quot;valueInlineFloat&quot;,&quot;valuePreserveBoxFloat&quot;,&quot;baselineDouble&quot;,&quot;inlineDouble&quot;,&quot;mutableSpecificRefDouble&quot;,&quot;mutableUniversalRefDouble&quot;,&quot;valueDouble&quot;,&quot;valueInlineDouble&quot;,&quot;valuePreserveBoxDouble&quot;] }, \n{ name: &quot;&lt;span title=&bsol;&quot;score: Double&bsol;&quot;&gt;score&lt;&sol;span&gt;&quot;, children: [], rightAlign: true, values: [&quot;&lt;span class=&bsol;&quot;formatted&bsol;&quot; title=&bsol;&quot;&bsol;&quot;&gt;&lt;span class=&bsol;&quot;numbers&bsol;&quot;&gt;31267926.487&lt;&sol;span&gt;&lt;&sol;span&gt;&quot;,&quot;&lt;span class=&bsol;&quot;formatted&bsol;&quot; title=&bsol;&quot;&bsol;&quot;&gt;&lt;span class=&bsol;&quot;numbers&bsol;&quot;&gt;31407003.291&lt;&sol;span&gt;&lt;&sol;span&gt;&quot;,&quot;&lt;span class=&bsol;&quot;formatted&bsol;&quot; title=&bsol;&quot;&bsol;&quot;&gt;&lt;span class=&bsol;&quot;numbers&bsol;&quot;&gt;62640333.155&lt;&sol;span&gt;&lt;&sol;span&gt;&quot;,&quot;&lt;span class=&bsol;&quot;formatted&bsol;&quot; title=&bsol;&quot;&bsol;&quot;&gt;&lt;span class=&bsol;&quot;numbers&bsol;&quot;&gt;22641175.345&lt;&sol;span&gt;&lt;&sol;span&gt;&quot;,&quot;&lt;span class=&bsol;&quot;formatted&bsol;&quot; title=&bsol;&quot;&bsol;&quot;&gt;&lt;span class=&bsol;&quot;numbers&bsol;&quot;&gt;62505813.268&lt;&sol;span&gt;&lt;&sol;span&gt;&quot;,&quot;&lt;span class=&bsol;&quot;formatted&bsol;&quot; title=&bsol;&quot;&bsol;&quot;&gt;&lt;span class=&bsol;&quot;numbers&bsol;&quot;&gt;25785582.099&lt;&sol;span&gt;&lt;&sol;span&gt;&quot;,&quot;&lt;span class=&bsol;&quot;formatted&bsol;&quot; title=&bsol;&quot;&bsol;&quot;&gt;&lt;span class=&bsol;&quot;numbers&bsol;&quot;&gt;23615583.767&lt;&sol;span&gt;&lt;&sol;span&gt;&quot;,&quot;&lt;span class=&bsol;&quot;formatted&bsol;&quot; title=&bsol;&quot;&bsol;&quot;&gt;&lt;span class=&bsol;&quot;numbers&bsol;&quot;&gt;23766726.155&lt;&sol;span&gt;&lt;&sol;span&gt;&quot;,&quot;&lt;span class=&bsol;&quot;formatted&bsol;&quot; title=&bsol;&quot;&bsol;&quot;&gt;&lt;span class=&bsol;&quot;numbers&bsol;&quot;&gt;23750361.882&lt;&sol;span&gt;&lt;&sol;span&gt;&quot;,&quot;&lt;span class=&bsol;&quot;formatted&bsol;&quot; title=&bsol;&quot;&bsol;&quot;&gt;&lt;span class=&bsol;&quot;numbers&bsol;&quot;&gt;31812011.572&lt;&sol;span&gt;&lt;&sol;span&gt;&quot;,&quot;&lt;span class=&bsol;&quot;formatted&bsol;&quot; title=&bsol;&quot;&bsol;&quot;&gt;&lt;span class=&bsol;&quot;numbers&bsol;&quot;&gt;31750810.176&lt;&sol;span&gt;&lt;&sol;span&gt;&quot;,&quot;&lt;span class=&bsol;&quot;formatted&bsol;&quot; title=&bsol;&quot;&bsol;&quot;&gt;&lt;span class=&bsol;&quot;numbers&bsol;&quot;&gt;22904311.003&lt;&sol;span&gt;&lt;&sol;span&gt;&quot;,&quot;&lt;span class=&bsol;&quot;formatted&bsol;&quot; title=&bsol;&quot;&bsol;&quot;&gt;&lt;span class=&bsol;&quot;numbers&bsol;&quot;&gt;26214300.814&lt;&sol;span&gt;&lt;&sol;span&gt;&quot;,&quot;&lt;span class=&bsol;&quot;formatted&bsol;&quot; title=&bsol;&quot;&bsol;&quot;&gt;&lt;span class=&bsol;&quot;numbers&bsol;&quot;&gt;23965700.864&lt;&sol;span&gt;&lt;&sol;span&gt;&quot;,&quot;&lt;span class=&bsol;&quot;formatted&bsol;&quot; title=&bsol;&quot;&bsol;&quot;&gt;&lt;span class=&bsol;&quot;numbers&bsol;&quot;&gt;23840402.132&lt;&sol;span&gt;&lt;&sol;span&gt;&quot;,&quot;&lt;span class=&bsol;&quot;formatted&bsol;&quot; title=&bsol;&quot;&bsol;&quot;&gt;&lt;span class=&bsol;&quot;numbers&bsol;&quot;&gt;24041514.909&lt;&sol;span&gt;&lt;&sol;span&gt;&quot;] }, \n{ name: &quot;&lt;span title=&bsol;&quot;error: Double&bsol;&quot;&gt;error&lt;&sol;span&gt;&quot;, children: [], rightAlign: true, values: [&quot;&lt;span class=&bsol;&quot;formatted&bsol;&quot; title=&bsol;&quot;&bsol;&quot;&gt;&lt;span class=&bsol;&quot;numbers&bsol;&quot;&gt;93397.032&lt;&sol;span&gt;&lt;&sol;span&gt;&quot;,&quot;&lt;span class=&bsol;&quot;formatted&bsol;&quot; title=&bsol;&quot;&bsol;&quot;&gt;&lt;span class=&bsol;&quot;numbers&bsol;&quot;&gt;155635.311&lt;&sol;span&gt;&lt;&sol;span&gt;&quot;,&quot;&lt;span class=&bsol;&quot;formatted&bsol;&quot; title=&bsol;&quot;&bsol;&quot;&gt;&lt;span class=&bsol;&quot;numbers&bsol;&quot;&gt;164457.709&lt;&sol;span&gt;&lt;&sol;span&gt;&quot;,&quot;&lt;span class=&bsol;&quot;formatted&bsol;&quot; title=&bsol;&quot;&bsol;&quot;&gt;&lt;span class=&bsol;&quot;numbers&bsol;&quot;&gt;69672.066&lt;&sol;span&gt;&lt;&sol;span&gt;&quot;,&quot;&lt;span class=&bsol;&quot;formatted&bsol;&quot; title=&bsol;&quot;&bsol;&quot;&gt;&lt;span class=&bsol;&quot;numbers&bsol;&quot;&gt;117473.611&lt;&sol;span&gt;&lt;&sol;span&gt;&quot;,&quot;&lt;span class=&bsol;&quot;formatted&bsol;&quot; title=&bsol;&quot;&bsol;&quot;&gt;&lt;span class=&bsol;&quot;numbers&bsol;&quot;&gt;108057.401&lt;&sol;span&gt;&lt;&sol;span&gt;&quot;,&quot;&lt;span class=&bsol;&quot;formatted&bsol;&quot; title=&bsol;&quot;&bsol;&quot;&gt;&lt;span class=&bsol;&quot;numbers&bsol;&quot;&gt;81316.166&lt;&sol;span&gt;&lt;&sol;span&gt;&quot;,&quot;&lt;span class=&bsol;&quot;formatted&bsol;&quot; title=&bsol;&quot;&bsol;&quot;&gt;&lt;span class=&bsol;&quot;numbers&bsol;&quot;&gt;53093.979&lt;&sol;span&gt;&lt;&sol;span&gt;&quot;,&quot;&lt;span class=&bsol;&quot;formatted&bsol;&quot; title=&bsol;&quot;&bsol;&quot;&gt;&lt;span class=&bsol;&quot;numbers&bsol;&quot;&gt;138217.105&lt;&sol;span&gt;&lt;&sol;span&gt;&quot;,&quot;&lt;span class=&bsol;&quot;formatted&bsol;&quot; title=&bsol;&quot;&bsol;&quot;&gt;&lt;span class=&bsol;&quot;numbers&bsol;&quot;&gt;125017.406&lt;&sol;span&gt;&lt;&sol;span&gt;&quot;,&quot;&lt;span class=&bsol;&quot;formatted&bsol;&quot; title=&bsol;&quot;&bsol;&quot;&gt;&lt;span class=&bsol;&quot;numbers&bsol;&quot;&gt;99914.497&lt;&sol;span&gt;&lt;&sol;span&gt;&quot;,&quot;&lt;span class=&bsol;&quot;formatted&bsol;&quot; title=&bsol;&quot;&bsol;&quot;&gt;&lt;span class=&bsol;&quot;numbers&bsol;&quot;&gt;80562.723&lt;&sol;span&gt;&lt;&sol;span&gt;&quot;,&quot;&lt;span class=&bsol;&quot;formatted&bsol;&quot; title=&bsol;&quot;&bsol;&quot;&gt;&lt;span class=&bsol;&quot;numbers&bsol;&quot;&gt;150572.044&lt;&sol;span&gt;&lt;&sol;span&gt;&quot;,&quot;&lt;span class=&bsol;&quot;formatted&bsol;&quot; title=&bsol;&quot;&bsol;&quot;&gt;&lt;span class=&bsol;&quot;numbers&bsol;&quot;&gt;101720.659&lt;&sol;span&gt;&lt;&sol;span&gt;&quot;,&quot;&lt;span class=&bsol;&quot;formatted&bsol;&quot; title=&bsol;&quot;&bsol;&quot;&gt;&lt;span class=&bsol;&quot;numbers&bsol;&quot;&gt;104639.726&lt;&sol;span&gt;&lt;&sol;span&gt;&quot;,&quot;&lt;span class=&bsol;&quot;formatted&bsol;&quot; title=&bsol;&quot;&bsol;&quot;&gt;&lt;span class=&bsol;&quot;numbers&bsol;&quot;&gt;129140.022&lt;&sol;span&gt;&lt;&sol;span&gt;&quot;] }, \n{ name: &quot;&lt;span title=&bsol;&quot;type: Line_9_jupyter.Type&bsol;&quot;&gt;type&lt;&sol;span&gt;&quot;, children: [], rightAlign: false, values: [&quot;Float&quot;,&quot;Float&quot;,&quot;Float&quot;,&quot;Float&quot;,&quot;Float&quot;,&quot;Float&quot;,&quot;Float&quot;,&quot;Float&quot;,&quot;Float&quot;,&quot;Double&quot;,&quot;Double&quot;,&quot;Double&quot;,&quot;Double&quot;,&quot;Double&quot;,&quot;Double&quot;,&quot;Double&quot;] }, \n], id: 570425345, rootId: 570425345, totalRows: 16 } ) });\n&sol;*--&gt;*&sol;\n\ncall_DataFrame(function() { DataFrame.renderTable(570425345) });\n\n\n\n        &lt;&sol;script&gt;\n        &lt;&sol;html&gt;\"></iframe>\n            <script>\n                function o_resize_iframe_out_2() {\n                    let elem = document.getElementById(\"iframe_out_2\");\n                    resize_iframe_out_2(elem);\n                    setInterval(resize_iframe_out_2, 5000, elem);\n                }\n                function resize_iframe_out_2(el) {\n                    let h = el.contentWindow.document.body.scrollHeight;\n                    el.height = h === 0 ? 0 : h + 41;\n                }\n            </script>",
      "application/kotlindataframe+json": "{\"nrow\":16,\"ncol\":4,\"columns\":[\"name\",\"score\",\"error\",\"type\"],\"kotlin_dataframe\":[{\"name\":\"baselineFloat\",\"score\":3.1267926487E7,\"error\":93397.032,\"type\":\"Float\"},{\"name\":\"inlineFloat\",\"score\":3.1407003291E7,\"error\":155635.311,\"type\":\"Float\"},{\"name\":\"longPackFloat\",\"score\":6.2640333155E7,\"error\":164457.709,\"type\":\"Float\"},{\"name\":\"mutableSpecificRefFloat\",\"score\":2.2641175345E7,\"error\":69672.066,\"type\":\"Float\"},{\"name\":\"mutableUniversalRefFloatIn1Long\",\"score\":6.2505813268E7,\"error\":117473.611,\"type\":\"Float\"},{\"name\":\"mutableUniversalRefFloatIn2Longs\",\"score\":2.5785582099E7,\"error\":108057.401,\"type\":\"Float\"},{\"name\":\"valueFloat\",\"score\":2.3615583767E7,\"error\":81316.166,\"type\":\"Float\"},{\"name\":\"valueInlineFloat\",\"score\":2.3766726155E7,\"error\":53093.979,\"type\":\"Float\"},{\"name\":\"valuePreserveBoxFloat\",\"score\":2.3750361882E7,\"error\":138217.105,\"type\":\"Float\"},{\"name\":\"baselineDouble\",\"score\":3.1812011572E7,\"error\":125017.406,\"type\":\"Double\"},{\"name\":\"inlineDouble\",\"score\":3.1750810176E7,\"error\":99914.497,\"type\":\"Double\"},{\"name\":\"mutableSpecificRefDouble\",\"score\":2.2904311003E7,\"error\":80562.723,\"type\":\"Double\"},{\"name\":\"mutableUniversalRefDouble\",\"score\":2.6214300814E7,\"error\":150572.044,\"type\":\"Double\"},{\"name\":\"valueDouble\",\"score\":2.3965700864E7,\"error\":101720.659,\"type\":\"Double\"},{\"name\":\"valueInlineDouble\",\"score\":2.3840402132E7,\"error\":104639.726,\"type\":\"Double\"},{\"name\":\"valuePreserveBoxDouble\",\"score\":2.4041514909E7,\"error\":129140.022,\"type\":\"Double\"}]}"
     },
     "execution_count": 4,
     "metadata": {},
     "output_type": "execute_result"
    }
   ],
   "source": [
    "readGraalBenchmarkData(\"Wolf3dBenchmark\").concat(readGraalBenchmarkData(\"FibonacciBenchmark\"))"
   ],
   "metadata": {
    "collapsed": false,
    "ExecuteTime": {
     "end_time": "2023-05-19T01:48:38.549073Z",
     "start_time": "2023-05-19T01:48:38.107495Z"
    }
   }
  },
  {
   "cell_type": "code",
   "execution_count": 5,
   "outputs": [],
   "source": [
    "import org.jetbrains.kotlinx.kandy.ir.Plot\n",
    "import org.jetbrains.letsPlot.intern.PosKind\n",
    "import org.jetbrains.letsPlot.intern.StatKind\n",
    "import org.jetbrains.letsPlot.intern.layer.PosOptions\n",
    "import org.jetbrains.letsPlot.intern.layer.StatOptions\n",
    "import org.jetbrains.letsPlot.pos.positionIdentity\n",
    "\n",
    "fun makePlot(benchmarkName: String, platform: String, df: DataFrame<BenchmarkData>): Plot? {\n",
    "    if (df.isEmpty()) return null\n",
    "    val nameWithoutType by column<String>()\n",
    "\n",
    "    val data = df.add(nameWithoutType) {\n",
    "        name.replace(type.name, \"\")\n",
    "    }\n",
    "    val shortNames = data.map { name to it[nameWithoutType] }\n",
    "    val maxScore = data.maxOf { score + error }\n",
    "    return data.sortBy { type }.plot {\n",
    "        layout {\n",
    "            size = 800 to 600\n",
    "            title = benchmarkName\n",
    "            flavor = Flavor.SOLARIZED_LIGHT\n",
    "            subtitle = platform\n",
    "        }\n",
    "        bars {\n",
    "            x(name) {\n",
    "                axis {\n",
    "                    name = \"Benchmark\"\n",
    "                    breaksLabeled(*shortNames.toTypedArray())\n",
    "                }\n",
    "            }\n",
    "            y(score) { axis { name = \"ns/op\" } }\n",
    "            fillColor(type) {\n",
    "                legend {\n",
    "                    type = discreteLegend()\n",
    "                    name = \"Type\"\n",
    "                }\n",
    "                scale = categorical()\n",
    "            }\n",
    "            tooltips {\n",
    "                line(\"Type\", \"${value(type)}\")\n",
    "                line(\"Benchmark\", \"${value(name)}\")\n",
    "                line(\"Score\", \"${value(score)}\")\n",
    "            }\n",
    "        }\n",
    "        errorBar {\n",
    "            x(name)\n",
    "            width = 0.5\n",
    "            yMin(getColumn { expr { score - error } named \"minErr\" })\n",
    "            yMax(getColumn { expr { score + error } named \"maxErr\" })\n",
    "        }\n",
    "        text {\n",
    "            x(name)\n",
    "            y(getColumn {\n",
    "                expr {\n",
    "                    val threshold = 0.12\n",
    "                    if (score < maxScore * threshold) score + threshold * maxScore / 2\n",
    "                    else score / 2\n",
    "                } named \"textPosition\"\n",
    "            })\n",
    "            label(getColumn {\n",
    "                expr { currentRow ->\n",
    "                    val baselineScore = df().single {\n",
    "                        type == currentRow.type && it[nameWithoutType] == \"baseline\"\n",
    "                    }.score\n",
    "                    val score = score / baselineScore\n",
    "                    val error = error / baselineScore\n",
    "                    \"${String.format(\"%.0f\", score * 100)}%\\n±\\n${String.format(\"%.1f\", error * 100)}%\\n${type}\"\n",
    "                } named \"label\"\n",
    "            })\n",
    "            font.size = 8.0 - data.rowsCount().toDouble() / 5\n",
    "        }\n",
    "    }.apply { save(\"$benchmarkName ($platform).svg\") }\n",
    "}\n"
   ],
   "metadata": {
    "collapsed": false,
    "ExecuteTime": {
     "end_time": "2023-05-19T01:48:43.012423Z",
     "start_time": "2023-05-19T01:48:38.509846Z"
    }
   }
  },
  {
   "cell_type": "code",
   "execution_count": 6,
   "outputs": [
    {
     "data": {
      "text/html": "            <script type=\"text/javascript\" data-lets-plot-script=\"library\" src=\"https://cdn.jsdelivr.net/gh/JetBrains/lets-plot@v3.1.0/js-package/distr/lets-plot.min.js\"></script>    \n               <div id=\"f6oUdB\"></div>\n   <script type=\"text/javascript\" data-lets-plot-script=\"plot\">\n       var plotSpec={\n\"ggtitle\":{\n\"text\":\"Wolf3d\",\n\"subtitle\":\"Hotspot\"\n},\n\"mapping\":{\n},\n\"data\":{\n\"score\":[3.2777794122E7,3.2454402942E7,5.6637237703E7,2.3727817417E7,6.3879335429E7,3.8662847293E7,2.4604456636E7,2.4917343507E7,2.5026109333E7,3.3724536015E7,3.4364489472E7,2.3247218375E7,3.942429982E7,2.4616159057E7,2.4570258084E7,2.4515243674E7],\n\"textPosition\":[1.6388897061E7,1.6227201471E7,2.83186188515E7,1.18639087085E7,3.19396677145E7,1.93314236465E7,1.2302228318E7,1.24586717535E7,1.25130546665E7,1.68622680075E7,1.7182244736E7,1.16236091875E7,1.971214991E7,1.23080795285E7,1.2285129042E7,1.2257621837E7],\n\"name\":[\"baselineFloat\",\"inlineFloat\",\"longPackFloat\",\"mutableSpecificRefFloat\",\"mutableUniversalRefFloatIn1Long\",\"mutableUniversalRefFloatIn2Longs\",\"valueFloat\",\"valueInlineFloat\",\"valuePreserveBoxFloat\",\"baselineDouble\",\"inlineDouble\",\"mutableSpecificRefDouble\",\"mutableUniversalRefDouble\",\"valueDouble\",\"valueInlineDouble\",\"valuePreserveBoxDouble\"],\n\"minErr\":[3.2660194973E7,3.2382488679E7,5.6606582734000005E7,2.3688910939999998E7,6.3672151710999995E7,3.8600250083E7,2.4240848229E7,2.4881782312E7,2.4950266748E7,3.3633989218E7,3.4160147322000004E7,2.321017107E7,3.9358894682000004E7,2.4508103107E7,2.4413120656999998E7,2.4415609435E7],\n\"label\":[\"100%\\n±\\n0.4%\\nFloat\",\"99%\\n±\\n0.2%\\nFloat\",\"173%\\n±\\n0.1%\\nFloat\",\"72%\\n±\\n0.1%\\nFloat\",\"195%\\n±\\n0.6%\\nFloat\",\"118%\\n±\\n0.2%\\nFloat\",\"75%\\n±\\n1.1%\\nFloat\",\"76%\\n±\\n0.1%\\nFloat\",\"76%\\n±\\n0.2%\\nFloat\",\"100%\\n±\\n0.3%\\nDouble\",\"102%\\n±\\n0.6%\\nDouble\",\"69%\\n±\\n0.1%\\nDouble\",\"117%\\n±\\n0.2%\\nDouble\",\"73%\\n±\\n0.3%\\nDouble\",\"73%\\n±\\n0.5%\\nDouble\",\"73%\\n±\\n0.3%\\nDouble\"],\n\"type\":[\"Float\",\"Float\",\"Float\",\"Float\",\"Float\",\"Float\",\"Float\",\"Float\",\"Float\",\"Double\",\"Double\",\"Double\",\"Double\",\"Double\",\"Double\",\"Double\"],\n\"maxErr\":[3.2895393271E7,3.2526317205000002E7,5.6667892672E7,2.3766723894E7,6.4086519147E7,3.8725444503E7,2.4968065043E7,2.4952904702E7,2.5101951918E7,3.3815082812E7,3.4568831622E7,2.328426568E7,3.9489704958E7,2.4724215007E7,2.4727395511E7,2.4614877913E7]\n},\n\"ggsize\":{\n\"width\":800.0,\n\"height\":600.0\n},\n\"kind\":\"plot\",\n\"scales\":[{\n\"aesthetic\":\"x\",\n\"breaks\":[\"baselineFloat\",\"inlineFloat\",\"longPackFloat\",\"mutableSpecificRefFloat\",\"mutableUniversalRefFloatIn1Long\",\"mutableUniversalRefFloatIn2Longs\",\"valueFloat\",\"valueInlineFloat\",\"valuePreserveBoxFloat\",\"baselineDouble\",\"inlineDouble\",\"mutableSpecificRefDouble\",\"mutableUniversalRefDouble\",\"valueDouble\",\"valueInlineDouble\",\"valuePreserveBoxDouble\"],\n\"name\":\"Benchmark\",\n\"labels\":[\"baseline\",\"inline\",\"longPack\",\"mutableSpecificRef\",\"mutableUniversalRefIn1Long\",\"mutableUniversalRefIn2Longs\",\"value\",\"valueInline\",\"valuePreserveBox\",\"baseline\",\"inline\",\"mutableSpecificRef\",\"mutableUniversalRef\",\"value\",\"valueInline\",\"valuePreserveBox\"]\n},{\n\"aesthetic\":\"y\",\n\"name\":\"ns/op\",\n\"limits\":[null,null]\n},{\n\"aesthetic\":\"fill\",\n\"discrete\":true,\n\"name\":\"Type\",\n\"guide\":{\n\"name\":\"legend\"\n}\n},{\n\"aesthetic\":\"x\"\n},{\n\"aesthetic\":\"x\"\n},{\n\"aesthetic\":\"y\",\n\"limits\":[null,null]\n}],\n\"layers\":[{\n\"mapping\":{\n\"x\":\"name\",\n\"y\":\"score\",\n\"fill\":\"type\"\n},\n\"stat\":\"identity\",\n\"sampling\":\"none\",\n\"position\":\"dodge\",\n\"geom\":\"bar\",\n\"tooltips\":{\n\"lines\":[\"Type|@type\",\"Benchmark|@name\",\"Score|@score\"]\n},\n\"data\":{\n}\n},{\n\"mapping\":{\n\"x\":\"name\",\n\"ymin\":\"minErr\",\n\"ymax\":\"maxErr\"\n},\n\"stat\":\"identity\",\n\"sampling\":\"none\",\n\"width\":0.5,\n\"position\":\"identity\",\n\"geom\":\"errorbar\",\n\"data\":{\n}\n},{\n\"mapping\":{\n\"x\":\"name\",\n\"y\":\"textPosition\",\n\"label\":\"label\"\n},\n\"stat\":\"identity\",\n\"size\":4.8,\n\"sampling\":\"none\",\n\"position\":\"identity\",\n\"geom\":\"text\",\n\"data\":{\n}\n}],\n\"theme\":{\n\"flavor\":\"solarized_light\"\n}\n};\n       var plotContainer = document.getElementById(\"f6oUdB\");\n       LetsPlot.buildPlotFromProcessedSpecs(plotSpec, -1, -1, plotContainer);\n   </script>    ",
      "application/plot+json": {
       "output_type": "lets_plot_spec",
       "output": {
        "ggtitle": {
         "text": "Wolf3d",
         "subtitle": "Hotspot"
        },
        "mapping": {},
        "data": {
         "score": [
          3.2777794E7,
          3.2454402E7,
          5.6637236E7,
          2.3727818E7,
          6.3879336E7,
          3.8662848E7,
          2.4604456E7,
          2.4917344E7,
          2.502611E7,
          3.3724536E7,
          3.4364488E7,
          2.3247218E7,
          3.94243E7,
          2.461616E7,
          2.4570258E7,
          2.4515244E7
         ],
         "textPosition": [
          1.6388897E7,
          1.6227201E7,
          2.8318618E7,
          1.1863909E7,
          3.1939668E7,
          1.9331424E7,
          1.2302228E7,
          1.2458672E7,
          1.2513055E7,
          1.6862268E7,
          1.7182244E7,
          1.1623609E7,
          1.971215E7,
          1.230808E7,
          1.2285129E7,
          1.2257622E7
         ],
         "name": [
          "baselineFloat",
          "inlineFloat",
          "longPackFloat",
          "mutableSpecificRefFloat",
          "mutableUniversalRefFloatIn1Long",
          "mutableUniversalRefFloatIn2Longs",
          "valueFloat",
          "valueInlineFloat",
          "valuePreserveBoxFloat",
          "baselineDouble",
          "inlineDouble",
          "mutableSpecificRefDouble",
          "mutableUniversalRefDouble",
          "valueDouble",
          "valueInlineDouble",
          "valuePreserveBoxDouble"
         ],
         "minErr": [
          3.2660194E7,
          3.2382488E7,
          5.6606584E7,
          2.368891E7,
          6.3672152E7,
          3.8600252E7,
          2.4240848E7,
          2.4881782E7,
          2.4950266E7,
          3.3633988E7,
          3.4160148E7,
          2.3210172E7,
          3.9358896E7,
          2.4508104E7,
          2.441312E7,
          2.441561E7
         ],
         "label": [
          "100%\n±\n0.4%\nFloat",
          "99%\n±\n0.2%\nFloat",
          "173%\n±\n0.1%\nFloat",
          "72%\n±\n0.1%\nFloat",
          "195%\n±\n0.6%\nFloat",
          "118%\n±\n0.2%\nFloat",
          "75%\n±\n1.1%\nFloat",
          "76%\n±\n0.1%\nFloat",
          "76%\n±\n0.2%\nFloat",
          "100%\n±\n0.3%\nDouble",
          "102%\n±\n0.6%\nDouble",
          "69%\n±\n0.1%\nDouble",
          "117%\n±\n0.2%\nDouble",
          "73%\n±\n0.3%\nDouble",
          "73%\n±\n0.5%\nDouble",
          "73%\n±\n0.3%\nDouble"
         ],
         "type": [
          "Float",
          "Float",
          "Float",
          "Float",
          "Float",
          "Float",
          "Float",
          "Float",
          "Float",
          "Double",
          "Double",
          "Double",
          "Double",
          "Double",
          "Double",
          "Double"
         ],
         "maxErr": [
          3.2895394E7,
          3.2526318E7,
          5.6667892E7,
          2.3766724E7,
          6.408652E7,
          3.8725444E7,
          2.4968066E7,
          2.4952904E7,
          2.5101952E7,
          3.3815084E7,
          3.4568832E7,
          2.3284266E7,
          3.9489704E7,
          2.4724216E7,
          2.4727396E7,
          2.4614878E7
         ]
        },
        "ggsize": {
         "width": 800.0,
         "height": 600.0
        },
        "kind": "plot",
        "scales": [
         {
          "aesthetic": "x",
          "breaks": [
           "baselineFloat",
           "inlineFloat",
           "longPackFloat",
           "mutableSpecificRefFloat",
           "mutableUniversalRefFloatIn1Long",
           "mutableUniversalRefFloatIn2Longs",
           "valueFloat",
           "valueInlineFloat",
           "valuePreserveBoxFloat",
           "baselineDouble",
           "inlineDouble",
           "mutableSpecificRefDouble",
           "mutableUniversalRefDouble",
           "valueDouble",
           "valueInlineDouble",
           "valuePreserveBoxDouble"
          ],
          "name": "Benchmark",
          "labels": [
           "baseline",
           "inline",
           "longPack",
           "mutableSpecificRef",
           "mutableUniversalRefIn1Long",
           "mutableUniversalRefIn2Longs",
           "value",
           "valueInline",
           "valuePreserveBox",
           "baseline",
           "inline",
           "mutableSpecificRef",
           "mutableUniversalRef",
           "value",
           "valueInline",
           "valuePreserveBox"
          ]
         },
         {
          "aesthetic": "y",
          "name": "ns/op",
          "limits": [
           null,
           null
          ]
         },
         {
          "aesthetic": "fill",
          "discrete": true,
          "name": "Type",
          "guide": {
           "name": "legend"
          }
         },
         {
          "aesthetic": "x"
         },
         {
          "aesthetic": "x"
         },
         {
          "aesthetic": "y",
          "limits": [
           null,
           null
          ]
         }
        ],
        "layers": [
         {
          "mapping": {
           "x": "name",
           "y": "score",
           "fill": "type"
          },
          "stat": "identity",
          "sampling": "none",
          "position": "dodge",
          "geom": "bar",
          "tooltips": {
           "lines": [
            "Type|@type",
            "Benchmark|@name",
            "Score|@score"
           ]
          }
         },
         {
          "mapping": {
           "x": "name",
           "ymin": "minErr",
           "ymax": "maxErr"
          },
          "stat": "identity",
          "sampling": "none",
          "width": 0.5,
          "position": "identity",
          "geom": "errorbar"
         },
         {
          "mapping": {
           "x": "name",
           "y": "textPosition",
           "label": "label"
          },
          "stat": "identity",
          "size": 4.8,
          "sampling": "none",
          "position": "identity",
          "geom": "text"
         }
        ],
        "theme": {
         "flavor": "solarized_light"
        }
       },
       "apply_color_scheme": true,
       "swing_enabled": true
      }
     },
     "metadata": {},
     "output_type": "display_data"
    },
    {
     "data": {
      "text/html": "            <script type=\"text/javascript\" data-lets-plot-script=\"library\" src=\"https://cdn.jsdelivr.net/gh/JetBrains/lets-plot@v3.1.0/js-package/distr/lets-plot.min.js\"></script>    \n               <div id=\"MOBaSn\"></div>\n   <script type=\"text/javascript\" data-lets-plot-script=\"plot\">\n       var plotSpec={\n\"ggtitle\":{\n\"text\":\"Ackermann\",\n\"subtitle\":\"Hotspot\"\n},\n\"mapping\":{\n},\n\"data\":{\n\"score\":[16706.888,8798.778,10009.3,10395.76,10728.522,12545.294,12183.677,20998.324,10745.603,10610.873,14384.498,14127.382,16757.997,16572.572,11432.889,23735.494,19835.003,13197.878,13384.458,22531.406,12295.09,17881.186,15124.234,15250.282],\n\"textPosition\":[8353.444,4399.389,5004.65,5197.88,5364.261,6272.647,6091.8385,10499.162,5372.8015,5305.4365,7192.249,7063.691,8378.9985,8286.286,5716.4445,11867.747,9917.5015,6598.939,6692.229,11265.703,6147.545,8940.593,7562.117,7625.141],\n\"name\":[\"baselineInt\",\"longPackInt\",\"mutableSpecificRefInt\",\"mutableUniversalRefIntIn1Long\",\"mutableUniversalRefIntIn2Longs\",\"valueInt\",\"valuePreserveBoxInt\",\"baselineLong\",\"mutableSpecificRefLong\",\"mutableUniversalRefLong\",\"valueLong\",\"valuePreserveBoxLong\",\"baselineFloat\",\"longPackFloat\",\"mutableSpecificRefFloat\",\"mutableUniversalRefFloatIn1Long\",\"mutableUniversalRefFloatIn2Longs\",\"valueFloat\",\"valuePreserveBoxFloat\",\"baselineDouble\",\"mutableSpecificRefDouble\",\"mutableUniversalRefDouble\",\"valueDouble\",\"valuePreserveBoxDouble\"],\n\"minErr\":[16372.142,8605.293,9956.902,10328.876,10416.084,12305.387,12074.705,15800.093,10490.125999999998,10523.984999999999,14214.553,13982.869999999999,16604.555,16524.116,11354.182999999999,18879.353,14093.212,13096.497000000001,13168.512,17240.310999999998,12225.826000000001,12530.562000000002,14892.007,14937.590999999999],\n\"label\":[\"100%\\n±\\n2.0%\\nInt\",\"53%\\n±\\n1.2%\\nInt\",\"60%\\n±\\n0.3%\\nInt\",\"62%\\n±\\n0.4%\\nInt\",\"64%\\n±\\n1.9%\\nInt\",\"75%\\n±\\n1.4%\\nInt\",\"73%\\n±\\n0.7%\\nInt\",\"100%\\n±\\n24.8%\\nLong\",\"51%\\n±\\n1.2%\\nLong\",\"51%\\n±\\n0.4%\\nLong\",\"69%\\n±\\n0.8%\\nLong\",\"67%\\n±\\n0.7%\\nLong\",\"100%\\n±\\n0.9%\\nFloat\",\"99%\\n±\\n0.3%\\nFloat\",\"68%\\n±\\n0.5%\\nFloat\",\"142%\\n±\\n29.0%\\nFloat\",\"118%\\n±\\n34.3%\\nFloat\",\"79%\\n±\\n0.6%\\nFloat\",\"80%\\n±\\n1.3%\\nFloat\",\"100%\\n±\\n23.5%\\nDouble\",\"55%\\n±\\n0.3%\\nDouble\",\"79%\\n±\\n23.7%\\nDouble\",\"67%\\n±\\n1.0%\\nDouble\",\"68%\\n±\\n1.4%\\nDouble\"],\n\"type\":[\"Int\",\"Int\",\"Int\",\"Int\",\"Int\",\"Int\",\"Int\",\"Long\",\"Long\",\"Long\",\"Long\",\"Long\",\"Float\",\"Float\",\"Float\",\"Float\",\"Float\",\"Float\",\"Float\",\"Double\",\"Double\",\"Double\",\"Double\",\"Double\"],\n\"maxErr\":[17041.634,8992.263,10061.697999999999,10462.644,11040.960000000001,12785.201,12292.649,26196.555,11001.08,10697.761,14554.443,14271.894,16911.439,16621.028,11511.595,28591.635,25576.794,13299.259,13600.404,27822.501,12364.354,23231.81,15356.461000000001,15562.973]\n},\n\"ggsize\":{\n\"width\":800.0,\n\"height\":600.0\n},\n\"kind\":\"plot\",\n\"scales\":[{\n\"aesthetic\":\"x\",\n\"breaks\":[\"baselineInt\",\"longPackInt\",\"mutableSpecificRefInt\",\"mutableUniversalRefIntIn1Long\",\"mutableUniversalRefIntIn2Longs\",\"valueInt\",\"valuePreserveBoxInt\",\"baselineLong\",\"mutableSpecificRefLong\",\"mutableUniversalRefLong\",\"valueLong\",\"valuePreserveBoxLong\",\"baselineFloat\",\"longPackFloat\",\"mutableSpecificRefFloat\",\"mutableUniversalRefFloatIn1Long\",\"mutableUniversalRefFloatIn2Longs\",\"valueFloat\",\"valuePreserveBoxFloat\",\"baselineDouble\",\"mutableSpecificRefDouble\",\"mutableUniversalRefDouble\",\"valueDouble\",\"valuePreserveBoxDouble\"],\n\"name\":\"Benchmark\",\n\"labels\":[\"baseline\",\"longPack\",\"mutableSpecificRef\",\"mutableUniversalRefIn1Long\",\"mutableUniversalRefIn2Longs\",\"value\",\"valuePreserveBox\",\"baseline\",\"mutableSpecificRef\",\"mutableUniversalRef\",\"value\",\"valuePreserveBox\",\"baseline\",\"longPack\",\"mutableSpecificRef\",\"mutableUniversalRefIn1Long\",\"mutableUniversalRefIn2Longs\",\"value\",\"valuePreserveBox\",\"baseline\",\"mutableSpecificRef\",\"mutableUniversalRef\",\"value\",\"valuePreserveBox\"]\n},{\n\"aesthetic\":\"y\",\n\"name\":\"ns/op\",\n\"limits\":[null,null]\n},{\n\"aesthetic\":\"fill\",\n\"discrete\":true,\n\"name\":\"Type\",\n\"guide\":{\n\"name\":\"legend\"\n}\n},{\n\"aesthetic\":\"x\"\n},{\n\"aesthetic\":\"x\"\n},{\n\"aesthetic\":\"y\",\n\"limits\":[null,null]\n}],\n\"layers\":[{\n\"mapping\":{\n\"x\":\"name\",\n\"y\":\"score\",\n\"fill\":\"type\"\n},\n\"stat\":\"identity\",\n\"sampling\":\"none\",\n\"position\":\"dodge\",\n\"geom\":\"bar\",\n\"tooltips\":{\n\"lines\":[\"Type|@type\",\"Benchmark|@name\",\"Score|@score\"]\n},\n\"data\":{\n}\n},{\n\"mapping\":{\n\"x\":\"name\",\n\"ymin\":\"minErr\",\n\"ymax\":\"maxErr\"\n},\n\"stat\":\"identity\",\n\"sampling\":\"none\",\n\"width\":0.5,\n\"position\":\"identity\",\n\"geom\":\"errorbar\",\n\"data\":{\n}\n},{\n\"mapping\":{\n\"x\":\"name\",\n\"y\":\"textPosition\",\n\"label\":\"label\"\n},\n\"stat\":\"identity\",\n\"size\":3.2,\n\"sampling\":\"none\",\n\"position\":\"identity\",\n\"geom\":\"text\",\n\"data\":{\n}\n}],\n\"theme\":{\n\"flavor\":\"solarized_light\"\n}\n};\n       var plotContainer = document.getElementById(\"MOBaSn\");\n       LetsPlot.buildPlotFromProcessedSpecs(plotSpec, -1, -1, plotContainer);\n   </script>    ",
      "application/plot+json": {
       "output_type": "lets_plot_spec",
       "output": {
        "ggtitle": {
         "text": "Ackermann",
         "subtitle": "Hotspot"
        },
        "mapping": {},
        "data": {
         "score": [
          16706.889,
          8798.778,
          10009.3,
          10395.76,
          10728.522,
          12545.294,
          12183.677,
          20998.324,
          10745.603,
          10610.873,
          14384.498,
          14127.382,
          16757.996,
          16572.572,
          11432.889,
          23735.494,
          19835.004,
          13197.878,
          13384.458,
          22531.406,
          12295.09,
          17881.186,
          15124.234,
          15250.282
         ],
         "textPosition": [
          8353.444,
          4399.389,
          5004.65,
          5197.88,
          5364.261,
          6272.647,
          6091.8384,
          10499.162,
          5372.8013,
          5305.4365,
          7192.249,
          7063.691,
          8378.998,
          8286.286,
          5716.4443,
          11867.747,
          9917.502,
          6598.939,
          6692.229,
          11265.703,
          6147.545,
          8940.593,
          7562.117,
          7625.141
         ],
         "name": [
          "baselineInt",
          "longPackInt",
          "mutableSpecificRefInt",
          "mutableUniversalRefIntIn1Long",
          "mutableUniversalRefIntIn2Longs",
          "valueInt",
          "valuePreserveBoxInt",
          "baselineLong",
          "mutableSpecificRefLong",
          "mutableUniversalRefLong",
          "valueLong",
          "valuePreserveBoxLong",
          "baselineFloat",
          "longPackFloat",
          "mutableSpecificRefFloat",
          "mutableUniversalRefFloatIn1Long",
          "mutableUniversalRefFloatIn2Longs",
          "valueFloat",
          "valuePreserveBoxFloat",
          "baselineDouble",
          "mutableSpecificRefDouble",
          "mutableUniversalRefDouble",
          "valueDouble",
          "valuePreserveBoxDouble"
         ],
         "minErr": [
          16372.142,
          8605.293,
          9956.902,
          10328.876,
          10416.084,
          12305.387,
          12074.705,
          15800.093,
          10490.126,
          10523.985,
          14214.553,
          13982.87,
          16604.555,
          16524.115,
          11354.183,
          18879.354,
          14093.212,
          13096.497,
          13168.512,
          17240.31,
          12225.826,
          12530.562,
          14892.007,
          14937.591
         ],
         "label": [
          "100%\n±\n2.0%\nInt",
          "53%\n±\n1.2%\nInt",
          "60%\n±\n0.3%\nInt",
          "62%\n±\n0.4%\nInt",
          "64%\n±\n1.9%\nInt",
          "75%\n±\n1.4%\nInt",
          "73%\n±\n0.7%\nInt",
          "100%\n±\n24.8%\nLong",
          "51%\n±\n1.2%\nLong",
          "51%\n±\n0.4%\nLong",
          "69%\n±\n0.8%\nLong",
          "67%\n±\n0.7%\nLong",
          "100%\n±\n0.9%\nFloat",
          "99%\n±\n0.3%\nFloat",
          "68%\n±\n0.5%\nFloat",
          "142%\n±\n29.0%\nFloat",
          "118%\n±\n34.3%\nFloat",
          "79%\n±\n0.6%\nFloat",
          "80%\n±\n1.3%\nFloat",
          "100%\n±\n23.5%\nDouble",
          "55%\n±\n0.3%\nDouble",
          "79%\n±\n23.7%\nDouble",
          "67%\n±\n1.0%\nDouble",
          "68%\n±\n1.4%\nDouble"
         ],
         "type": [
          "Int",
          "Int",
          "Int",
          "Int",
          "Int",
          "Int",
          "Int",
          "Long",
          "Long",
          "Long",
          "Long",
          "Long",
          "Float",
          "Float",
          "Float",
          "Float",
          "Float",
          "Float",
          "Float",
          "Double",
          "Double",
          "Double",
          "Double",
          "Double"
         ],
         "maxErr": [
          17041.635,
          8992.263,
          10061.698,
          10462.644,
          11040.96,
          12785.201,
          12292.649,
          26196.555,
          11001.08,
          10697.761,
          14554.443,
          14271.894,
          16911.44,
          16621.027,
          11511.595,
          28591.635,
          25576.795,
          13299.259,
          13600.404,
          27822.502,
          12364.354,
          23231.81,
          15356.461,
          15562.973
         ]
        },
        "ggsize": {
         "width": 800.0,
         "height": 600.0
        },
        "kind": "plot",
        "scales": [
         {
          "aesthetic": "x",
          "breaks": [
           "baselineInt",
           "longPackInt",
           "mutableSpecificRefInt",
           "mutableUniversalRefIntIn1Long",
           "mutableUniversalRefIntIn2Longs",
           "valueInt",
           "valuePreserveBoxInt",
           "baselineLong",
           "mutableSpecificRefLong",
           "mutableUniversalRefLong",
           "valueLong",
           "valuePreserveBoxLong",
           "baselineFloat",
           "longPackFloat",
           "mutableSpecificRefFloat",
           "mutableUniversalRefFloatIn1Long",
           "mutableUniversalRefFloatIn2Longs",
           "valueFloat",
           "valuePreserveBoxFloat",
           "baselineDouble",
           "mutableSpecificRefDouble",
           "mutableUniversalRefDouble",
           "valueDouble",
           "valuePreserveBoxDouble"
          ],
          "name": "Benchmark",
          "labels": [
           "baseline",
           "longPack",
           "mutableSpecificRef",
           "mutableUniversalRefIn1Long",
           "mutableUniversalRefIn2Longs",
           "value",
           "valuePreserveBox",
           "baseline",
           "mutableSpecificRef",
           "mutableUniversalRef",
           "value",
           "valuePreserveBox",
           "baseline",
           "longPack",
           "mutableSpecificRef",
           "mutableUniversalRefIn1Long",
           "mutableUniversalRefIn2Longs",
           "value",
           "valuePreserveBox",
           "baseline",
           "mutableSpecificRef",
           "mutableUniversalRef",
           "value",
           "valuePreserveBox"
          ]
         },
         {
          "aesthetic": "y",
          "name": "ns/op",
          "limits": [
           null,
           null
          ]
         },
         {
          "aesthetic": "fill",
          "discrete": true,
          "name": "Type",
          "guide": {
           "name": "legend"
          }
         },
         {
          "aesthetic": "x"
         },
         {
          "aesthetic": "x"
         },
         {
          "aesthetic": "y",
          "limits": [
           null,
           null
          ]
         }
        ],
        "layers": [
         {
          "mapping": {
           "x": "name",
           "y": "score",
           "fill": "type"
          },
          "stat": "identity",
          "sampling": "none",
          "position": "dodge",
          "geom": "bar",
          "tooltips": {
           "lines": [
            "Type|@type",
            "Benchmark|@name",
            "Score|@score"
           ]
          }
         },
         {
          "mapping": {
           "x": "name",
           "ymin": "minErr",
           "ymax": "maxErr"
          },
          "stat": "identity",
          "sampling": "none",
          "width": 0.5,
          "position": "identity",
          "geom": "errorbar"
         },
         {
          "mapping": {
           "x": "name",
           "y": "textPosition",
           "label": "label"
          },
          "stat": "identity",
          "size": 3.2,
          "sampling": "none",
          "position": "identity",
          "geom": "text"
         }
        ],
        "theme": {
         "flavor": "solarized_light"
        }
       },
       "apply_color_scheme": true,
       "swing_enabled": true
      }
     },
     "metadata": {},
     "output_type": "display_data"
    },
    {
     "data": {
      "text/html": "            <script type=\"text/javascript\" data-lets-plot-script=\"library\" src=\"https://cdn.jsdelivr.net/gh/JetBrains/lets-plot@v3.1.0/js-package/distr/lets-plot.min.js\"></script>    \n               <div id=\"z6p9hR\"></div>\n   <script type=\"text/javascript\" data-lets-plot-script=\"plot\">\n       var plotSpec={\n\"ggtitle\":{\n\"text\":\"BoxRecreation\",\n\"subtitle\":\"Hotspot\"\n},\n\"mapping\":{\n},\n\"data\":{\n\"score\":[63.495,592.82,619.262,61.855,65.777,650.124,66.623,64.785,613.593,621.495,61.182,67.827,648.595,63.997],\n\"textPosition\":[102.63018,296.41,309.631,100.99018,104.91218,325.062,105.75818000000001,103.92017999999999,306.7965,310.7475,100.31718000000001,106.96217999999999,324.2975,103.13218],\n\"name\":[\"baselineInt\",\"longPackInt\",\"valueInt\",\"valuePreserveBoxInt\",\"baselineLong\",\"valueLong\",\"valuePreserveBoxLong\",\"baselineFloat\",\"longPackFloat\",\"valueFloat\",\"valuePreserveBoxFloat\",\"baselineDouble\",\"valueDouble\",\"valuePreserveBoxDouble\"],\n\"minErr\":[63.401999999999994,592.1940000000001,617.531,61.72,65.513,647.995,66.412,64.553,612.015,620.175,61.059000000000005,67.611,647.217,63.706],\n\"label\":[\"100%\\n±\\n0.1%\\nInt\",\"934%\\n±\\n1.0%\\nInt\",\"975%\\n±\\n2.7%\\nInt\",\"97%\\n±\\n0.2%\\nInt\",\"100%\\n±\\n0.4%\\nLong\",\"988%\\n±\\n3.2%\\nLong\",\"101%\\n±\\n0.3%\\nLong\",\"100%\\n±\\n0.4%\\nFloat\",\"947%\\n±\\n2.4%\\nFloat\",\"959%\\n±\\n2.0%\\nFloat\",\"94%\\n±\\n0.2%\\nFloat\",\"100%\\n±\\n0.3%\\nDouble\",\"956%\\n±\\n2.0%\\nDouble\",\"94%\\n±\\n0.4%\\nDouble\"],\n\"type\":[\"Int\",\"Int\",\"Int\",\"Int\",\"Long\",\"Long\",\"Long\",\"Float\",\"Float\",\"Float\",\"Float\",\"Double\",\"Double\",\"Double\"],\n\"maxErr\":[63.588,593.446,620.9929999999999,61.989999999999995,66.041,652.253,66.834,65.017,615.1709999999999,622.815,61.305,68.04299999999999,649.9730000000001,64.288]\n},\n\"ggsize\":{\n\"width\":800.0,\n\"height\":600.0\n},\n\"kind\":\"plot\",\n\"scales\":[{\n\"aesthetic\":\"x\",\n\"breaks\":[\"baselineInt\",\"longPackInt\",\"valueInt\",\"valuePreserveBoxInt\",\"baselineLong\",\"valueLong\",\"valuePreserveBoxLong\",\"baselineFloat\",\"longPackFloat\",\"valueFloat\",\"valuePreserveBoxFloat\",\"baselineDouble\",\"valueDouble\",\"valuePreserveBoxDouble\"],\n\"name\":\"Benchmark\",\n\"labels\":[\"baseline\",\"longPack\",\"value\",\"valuePreserveBox\",\"baseline\",\"value\",\"valuePreserveBox\",\"baseline\",\"longPack\",\"value\",\"valuePreserveBox\",\"baseline\",\"value\",\"valuePreserveBox\"]\n},{\n\"aesthetic\":\"y\",\n\"name\":\"ns/op\",\n\"limits\":[null,null]\n},{\n\"aesthetic\":\"fill\",\n\"discrete\":true,\n\"name\":\"Type\",\n\"guide\":{\n\"name\":\"legend\"\n}\n},{\n\"aesthetic\":\"x\"\n},{\n\"aesthetic\":\"x\"\n},{\n\"aesthetic\":\"y\",\n\"limits\":[null,null]\n}],\n\"layers\":[{\n\"mapping\":{\n\"x\":\"name\",\n\"y\":\"score\",\n\"fill\":\"type\"\n},\n\"stat\":\"identity\",\n\"sampling\":\"none\",\n\"position\":\"dodge\",\n\"geom\":\"bar\",\n\"tooltips\":{\n\"lines\":[\"Type|@type\",\"Benchmark|@name\",\"Score|@score\"]\n},\n\"data\":{\n}\n},{\n\"mapping\":{\n\"x\":\"name\",\n\"ymin\":\"minErr\",\n\"ymax\":\"maxErr\"\n},\n\"stat\":\"identity\",\n\"sampling\":\"none\",\n\"width\":0.5,\n\"position\":\"identity\",\n\"geom\":\"errorbar\",\n\"data\":{\n}\n},{\n\"mapping\":{\n\"x\":\"name\",\n\"y\":\"textPosition\",\n\"label\":\"label\"\n},\n\"stat\":\"identity\",\n\"size\":5.2,\n\"sampling\":\"none\",\n\"position\":\"identity\",\n\"geom\":\"text\",\n\"data\":{\n}\n}],\n\"theme\":{\n\"flavor\":\"solarized_light\"\n}\n};\n       var plotContainer = document.getElementById(\"z6p9hR\");\n       LetsPlot.buildPlotFromProcessedSpecs(plotSpec, -1, -1, plotContainer);\n   </script>    ",
      "application/plot+json": {
       "output_type": "lets_plot_spec",
       "output": {
        "ggtitle": {
         "text": "BoxRecreation",
         "subtitle": "Hotspot"
        },
        "mapping": {},
        "data": {
         "score": [
          63.495,
          592.82,
          619.262,
          61.855,
          65.777,
          650.124,
          66.623,
          64.785,
          613.593,
          621.495,
          61.182,
          67.827,
          648.595,
          63.997
         ],
         "textPosition": [
          102.63018,
          296.41,
          309.631,
          100.99018,
          104.91218,
          325.062,
          105.75818,
          103.92018,
          306.7965,
          310.7475,
          100.31718,
          106.96218,
          324.2975,
          103.13218
         ],
         "name": [
          "baselineInt",
          "longPackInt",
          "valueInt",
          "valuePreserveBoxInt",
          "baselineLong",
          "valueLong",
          "valuePreserveBoxLong",
          "baselineFloat",
          "longPackFloat",
          "valueFloat",
          "valuePreserveBoxFloat",
          "baselineDouble",
          "valueDouble",
          "valuePreserveBoxDouble"
         ],
         "minErr": [
          63.402,
          592.194,
          617.531,
          61.72,
          65.513,
          647.995,
          66.412,
          64.553,
          612.015,
          620.175,
          61.059,
          67.611,
          647.217,
          63.706
         ],
         "label": [
          "100%\n±\n0.1%\nInt",
          "934%\n±\n1.0%\nInt",
          "975%\n±\n2.7%\nInt",
          "97%\n±\n0.2%\nInt",
          "100%\n±\n0.4%\nLong",
          "988%\n±\n3.2%\nLong",
          "101%\n±\n0.3%\nLong",
          "100%\n±\n0.4%\nFloat",
          "947%\n±\n2.4%\nFloat",
          "959%\n±\n2.0%\nFloat",
          "94%\n±\n0.2%\nFloat",
          "100%\n±\n0.3%\nDouble",
          "956%\n±\n2.0%\nDouble",
          "94%\n±\n0.4%\nDouble"
         ],
         "type": [
          "Int",
          "Int",
          "Int",
          "Int",
          "Long",
          "Long",
          "Long",
          "Float",
          "Float",
          "Float",
          "Float",
          "Double",
          "Double",
          "Double"
         ],
         "maxErr": [
          63.588,
          593.446,
          620.993,
          61.99,
          66.041,
          652.253,
          66.834,
          65.017,
          615.171,
          622.815,
          61.305,
          68.043,
          649.973,
          64.288
         ]
        },
        "ggsize": {
         "width": 800.0,
         "height": 600.0
        },
        "kind": "plot",
        "scales": [
         {
          "aesthetic": "x",
          "breaks": [
           "baselineInt",
           "longPackInt",
           "valueInt",
           "valuePreserveBoxInt",
           "baselineLong",
           "valueLong",
           "valuePreserveBoxLong",
           "baselineFloat",
           "longPackFloat",
           "valueFloat",
           "valuePreserveBoxFloat",
           "baselineDouble",
           "valueDouble",
           "valuePreserveBoxDouble"
          ],
          "name": "Benchmark",
          "labels": [
           "baseline",
           "longPack",
           "value",
           "valuePreserveBox",
           "baseline",
           "value",
           "valuePreserveBox",
           "baseline",
           "longPack",
           "value",
           "valuePreserveBox",
           "baseline",
           "value",
           "valuePreserveBox"
          ]
         },
         {
          "aesthetic": "y",
          "name": "ns/op",
          "limits": [
           null,
           null
          ]
         },
         {
          "aesthetic": "fill",
          "discrete": true,
          "name": "Type",
          "guide": {
           "name": "legend"
          }
         },
         {
          "aesthetic": "x"
         },
         {
          "aesthetic": "x"
         },
         {
          "aesthetic": "y",
          "limits": [
           null,
           null
          ]
         }
        ],
        "layers": [
         {
          "mapping": {
           "x": "name",
           "y": "score",
           "fill": "type"
          },
          "stat": "identity",
          "sampling": "none",
          "position": "dodge",
          "geom": "bar",
          "tooltips": {
           "lines": [
            "Type|@type",
            "Benchmark|@name",
            "Score|@score"
           ]
          }
         },
         {
          "mapping": {
           "x": "name",
           "ymin": "minErr",
           "ymax": "maxErr"
          },
          "stat": "identity",
          "sampling": "none",
          "width": 0.5,
          "position": "identity",
          "geom": "errorbar"
         },
         {
          "mapping": {
           "x": "name",
           "y": "textPosition",
           "label": "label"
          },
          "stat": "identity",
          "size": 5.2,
          "sampling": "none",
          "position": "identity",
          "geom": "text"
         }
        ],
        "theme": {
         "flavor": "solarized_light"
        }
       },
       "apply_color_scheme": true,
       "swing_enabled": true
      }
     },
     "metadata": {},
     "output_type": "display_data"
    }
   ],
   "source": [
    "makePlot(\"Wolf3d\", \"Hotspot\", readHotspotBenchmarkData(\"Wolf3dBenchmark\"))?.let { DISPLAY(it) }\n",
    "makePlot(\"Ackermann\", \"Hotspot\", readHotspotBenchmarkData(\"AckermannBenchmark\"))?.let { DISPLAY(it) }\n",
    "makePlot(\"BoxRecreation\", \"Hotspot\", readHotspotBenchmarkData(\"BoxRecreationBenchmark\"))?.let { DISPLAY(it) }"
   ],
   "metadata": {
    "collapsed": false,
    "ExecuteTime": {
     "end_time": "2023-05-19T01:48:44.378879Z",
     "start_time": "2023-05-19T01:48:43.009229Z"
    }
   }
  },
  {
   "cell_type": "code",
   "execution_count": 7,
   "outputs": [
    {
     "data": {
      "text/html": "            <script type=\"text/javascript\" data-lets-plot-script=\"library\" src=\"https://cdn.jsdelivr.net/gh/JetBrains/lets-plot@v3.1.0/js-package/distr/lets-plot.min.js\"></script>    \n               <div id=\"hTqLkW\"></div>\n   <script type=\"text/javascript\" data-lets-plot-script=\"plot\">\n       var plotSpec={\n\"ggtitle\":{\n\"text\":\"Wolf3d\",\n\"subtitle\":\"Graal\"\n},\n\"mapping\":{\n},\n\"data\":{\n\"score\":[3.1267926487E7,3.1407003291E7,6.2640333155E7,2.2641175345E7,6.2505813268E7,2.5785582099E7,2.3615583767E7,2.3766726155E7,2.3750361882E7,3.1812011572E7,3.1750810176E7,2.2904311003E7,2.6214300814E7,2.3965700864E7,2.3840402132E7,2.4041514909E7],\n\"textPosition\":[1.56339632435E7,1.57035016455E7,3.13201665775E7,1.13205876725E7,3.1252906634E7,1.28927910495E7,1.18077918835E7,1.18833630775E7,1.1875180941E7,1.5906005786E7,1.5875405088E7,1.14521555015E7,1.3107150407E7,1.1982850432E7,1.1920201066E7,1.20207574545E7],\n\"name\":[\"baselineFloat\",\"inlineFloat\",\"longPackFloat\",\"mutableSpecificRefFloat\",\"mutableUniversalRefFloatIn1Long\",\"mutableUniversalRefFloatIn2Longs\",\"valueFloat\",\"valueInlineFloat\",\"valuePreserveBoxFloat\",\"baselineDouble\",\"inlineDouble\",\"mutableSpecificRefDouble\",\"mutableUniversalRefDouble\",\"valueDouble\",\"valueInlineDouble\",\"valuePreserveBoxDouble\"],\n\"minErr\":[3.1174529455E7,3.125136798E7,6.2475875446E7,2.2571503279E7,6.2388339657E7,2.5677524698E7,2.3534267601E7,2.3713632176000003E7,2.3612144777E7,3.1686994166E7,3.1650895678999998E7,2.2823748279999997E7,2.606372877E7,2.3863980205E7,2.3735762406E7,2.3912374887000002E7],\n\"label\":[\"100%\\n±\\n0.3%\\nFloat\",\"100%\\n±\\n0.5%\\nFloat\",\"200%\\n±\\n0.5%\\nFloat\",\"72%\\n±\\n0.2%\\nFloat\",\"200%\\n±\\n0.4%\\nFloat\",\"82%\\n±\\n0.3%\\nFloat\",\"76%\\n±\\n0.3%\\nFloat\",\"76%\\n±\\n0.2%\\nFloat\",\"76%\\n±\\n0.4%\\nFloat\",\"100%\\n±\\n0.4%\\nDouble\",\"100%\\n±\\n0.3%\\nDouble\",\"72%\\n±\\n0.3%\\nDouble\",\"82%\\n±\\n0.5%\\nDouble\",\"75%\\n±\\n0.3%\\nDouble\",\"75%\\n±\\n0.3%\\nDouble\",\"76%\\n±\\n0.4%\\nDouble\"],\n\"type\":[\"Float\",\"Float\",\"Float\",\"Float\",\"Float\",\"Float\",\"Float\",\"Float\",\"Float\",\"Double\",\"Double\",\"Double\",\"Double\",\"Double\",\"Double\",\"Double\"],\n\"maxErr\":[3.1361323519E7,3.1562638602E7,6.2804790864E7,2.2710847411E7,6.2623286879E7,2.58936395E7,2.3696899933000002E7,2.3819820134E7,2.3888578987E7,3.1937028978E7,3.1850724673E7,2.2984873726E7,2.6364872858E7,2.4067421523000002E7,2.3945041858E7,2.4170654931E7]\n},\n\"ggsize\":{\n\"width\":800.0,\n\"height\":600.0\n},\n\"kind\":\"plot\",\n\"scales\":[{\n\"aesthetic\":\"x\",\n\"breaks\":[\"baselineFloat\",\"inlineFloat\",\"longPackFloat\",\"mutableSpecificRefFloat\",\"mutableUniversalRefFloatIn1Long\",\"mutableUniversalRefFloatIn2Longs\",\"valueFloat\",\"valueInlineFloat\",\"valuePreserveBoxFloat\",\"baselineDouble\",\"inlineDouble\",\"mutableSpecificRefDouble\",\"mutableUniversalRefDouble\",\"valueDouble\",\"valueInlineDouble\",\"valuePreserveBoxDouble\"],\n\"name\":\"Benchmark\",\n\"labels\":[\"baseline\",\"inline\",\"longPack\",\"mutableSpecificRef\",\"mutableUniversalRefIn1Long\",\"mutableUniversalRefIn2Longs\",\"value\",\"valueInline\",\"valuePreserveBox\",\"baseline\",\"inline\",\"mutableSpecificRef\",\"mutableUniversalRef\",\"value\",\"valueInline\",\"valuePreserveBox\"]\n},{\n\"aesthetic\":\"y\",\n\"name\":\"ns/op\",\n\"limits\":[null,null]\n},{\n\"aesthetic\":\"fill\",\n\"discrete\":true,\n\"name\":\"Type\",\n\"guide\":{\n\"name\":\"legend\"\n}\n},{\n\"aesthetic\":\"x\"\n},{\n\"aesthetic\":\"x\"\n},{\n\"aesthetic\":\"y\",\n\"limits\":[null,null]\n}],\n\"layers\":[{\n\"mapping\":{\n\"x\":\"name\",\n\"y\":\"score\",\n\"fill\":\"type\"\n},\n\"stat\":\"identity\",\n\"sampling\":\"none\",\n\"position\":\"dodge\",\n\"geom\":\"bar\",\n\"tooltips\":{\n\"lines\":[\"Type|@type\",\"Benchmark|@name\",\"Score|@score\"]\n},\n\"data\":{\n}\n},{\n\"mapping\":{\n\"x\":\"name\",\n\"ymin\":\"minErr\",\n\"ymax\":\"maxErr\"\n},\n\"stat\":\"identity\",\n\"sampling\":\"none\",\n\"width\":0.5,\n\"position\":\"identity\",\n\"geom\":\"errorbar\",\n\"data\":{\n}\n},{\n\"mapping\":{\n\"x\":\"name\",\n\"y\":\"textPosition\",\n\"label\":\"label\"\n},\n\"stat\":\"identity\",\n\"size\":4.8,\n\"sampling\":\"none\",\n\"position\":\"identity\",\n\"geom\":\"text\",\n\"data\":{\n}\n}],\n\"theme\":{\n\"flavor\":\"solarized_light\"\n}\n};\n       var plotContainer = document.getElementById(\"hTqLkW\");\n       LetsPlot.buildPlotFromProcessedSpecs(plotSpec, -1, -1, plotContainer);\n   </script>    ",
      "application/plot+json": {
       "output_type": "lets_plot_spec",
       "output": {
        "ggtitle": {
         "text": "Wolf3d",
         "subtitle": "Graal"
        },
        "mapping": {},
        "data": {
         "score": [
          3.1267926E7,
          3.1407004E7,
          6.2640332E7,
          2.2641176E7,
          6.2505812E7,
          2.5785582E7,
          2.3615584E7,
          2.3766726E7,
          2.3750362E7,
          3.1812012E7,
          3.175081E7,
          2.2904312E7,
          2.62143E7,
          2.39657E7,
          2.3840402E7,
          2.4041514E7
         ],
         "textPosition": [
          1.5633963E7,
          1.5703502E7,
          3.1320166E7,
          1.1320588E7,
          3.1252906E7,
          1.2892791E7,
          1.1807792E7,
          1.1883363E7,
          1.1875181E7,
          1.5906006E7,
          1.5875405E7,
          1.1452156E7,
          1.310715E7,
          1.198285E7,
          1.1920201E7,
          1.2020757E7
         ],
         "name": [
          "baselineFloat",
          "inlineFloat",
          "longPackFloat",
          "mutableSpecificRefFloat",
          "mutableUniversalRefFloatIn1Long",
          "mutableUniversalRefFloatIn2Longs",
          "valueFloat",
          "valueInlineFloat",
          "valuePreserveBoxFloat",
          "baselineDouble",
          "inlineDouble",
          "mutableSpecificRefDouble",
          "mutableUniversalRefDouble",
          "valueDouble",
          "valueInlineDouble",
          "valuePreserveBoxDouble"
         ],
         "minErr": [
          3.117453E7,
          3.1251368E7,
          6.2475876E7,
          2.2571504E7,
          6.238834E7,
          2.5677524E7,
          2.3534268E7,
          2.3713632E7,
          2.3612144E7,
          3.1686994E7,
          3.1650896E7,
          2.2823748E7,
          2.6063728E7,
          2.386398E7,
          2.3735762E7,
          2.3912374E7
         ],
         "label": [
          "100%\n±\n0.3%\nFloat",
          "100%\n±\n0.5%\nFloat",
          "200%\n±\n0.5%\nFloat",
          "72%\n±\n0.2%\nFloat",
          "200%\n±\n0.4%\nFloat",
          "82%\n±\n0.3%\nFloat",
          "76%\n±\n0.3%\nFloat",
          "76%\n±\n0.2%\nFloat",
          "76%\n±\n0.4%\nFloat",
          "100%\n±\n0.4%\nDouble",
          "100%\n±\n0.3%\nDouble",
          "72%\n±\n0.3%\nDouble",
          "82%\n±\n0.5%\nDouble",
          "75%\n±\n0.3%\nDouble",
          "75%\n±\n0.3%\nDouble",
          "76%\n±\n0.4%\nDouble"
         ],
         "type": [
          "Float",
          "Float",
          "Float",
          "Float",
          "Float",
          "Float",
          "Float",
          "Float",
          "Float",
          "Double",
          "Double",
          "Double",
          "Double",
          "Double",
          "Double",
          "Double"
         ],
         "maxErr": [
          3.1361324E7,
          3.1562638E7,
          6.2804792E7,
          2.2710848E7,
          6.2623288E7,
          2.589364E7,
          2.36969E7,
          2.381982E7,
          2.3888578E7,
          3.1937028E7,
          3.1850724E7,
          2.2984874E7,
          2.6364872E7,
          2.4067422E7,
          2.3945042E7,
          2.4170654E7
         ]
        },
        "ggsize": {
         "width": 800.0,
         "height": 600.0
        },
        "kind": "plot",
        "scales": [
         {
          "aesthetic": "x",
          "breaks": [
           "baselineFloat",
           "inlineFloat",
           "longPackFloat",
           "mutableSpecificRefFloat",
           "mutableUniversalRefFloatIn1Long",
           "mutableUniversalRefFloatIn2Longs",
           "valueFloat",
           "valueInlineFloat",
           "valuePreserveBoxFloat",
           "baselineDouble",
           "inlineDouble",
           "mutableSpecificRefDouble",
           "mutableUniversalRefDouble",
           "valueDouble",
           "valueInlineDouble",
           "valuePreserveBoxDouble"
          ],
          "name": "Benchmark",
          "labels": [
           "baseline",
           "inline",
           "longPack",
           "mutableSpecificRef",
           "mutableUniversalRefIn1Long",
           "mutableUniversalRefIn2Longs",
           "value",
           "valueInline",
           "valuePreserveBox",
           "baseline",
           "inline",
           "mutableSpecificRef",
           "mutableUniversalRef",
           "value",
           "valueInline",
           "valuePreserveBox"
          ]
         },
         {
          "aesthetic": "y",
          "name": "ns/op",
          "limits": [
           null,
           null
          ]
         },
         {
          "aesthetic": "fill",
          "discrete": true,
          "name": "Type",
          "guide": {
           "name": "legend"
          }
         },
         {
          "aesthetic": "x"
         },
         {
          "aesthetic": "x"
         },
         {
          "aesthetic": "y",
          "limits": [
           null,
           null
          ]
         }
        ],
        "layers": [
         {
          "mapping": {
           "x": "name",
           "y": "score",
           "fill": "type"
          },
          "stat": "identity",
          "sampling": "none",
          "position": "dodge",
          "geom": "bar",
          "tooltips": {
           "lines": [
            "Type|@type",
            "Benchmark|@name",
            "Score|@score"
           ]
          }
         },
         {
          "mapping": {
           "x": "name",
           "ymin": "minErr",
           "ymax": "maxErr"
          },
          "stat": "identity",
          "sampling": "none",
          "width": 0.5,
          "position": "identity",
          "geom": "errorbar"
         },
         {
          "mapping": {
           "x": "name",
           "y": "textPosition",
           "label": "label"
          },
          "stat": "identity",
          "size": 4.8,
          "sampling": "none",
          "position": "identity",
          "geom": "text"
         }
        ],
        "theme": {
         "flavor": "solarized_light"
        }
       },
       "apply_color_scheme": true,
       "swing_enabled": true
      }
     },
     "metadata": {},
     "output_type": "display_data"
    },
    {
     "data": {
      "text/html": "            <script type=\"text/javascript\" data-lets-plot-script=\"library\" src=\"https://cdn.jsdelivr.net/gh/JetBrains/lets-plot@v3.1.0/js-package/distr/lets-plot.min.js\"></script>    \n               <div id=\"5NS54Q\"></div>\n   <script type=\"text/javascript\" data-lets-plot-script=\"plot\">\n       var plotSpec={\n\"ggtitle\":{\n\"text\":\"Ackermann\",\n\"subtitle\":\"Graal\"\n},\n\"mapping\":{\n},\n\"data\":{\n\"score\":[12430.384,9173.753,7842.778,9774.265,7745.047,10369.162,10460.282,14230.448,7696.586,7698.283,12713.429,12624.947,13088.041,17129.602,9221.231,19052.896,11220.653,10876.946,10861.61,15109.068,9342.68,9353.865,12772.074,12755.105],\n\"textPosition\":[6215.192,4586.8765,3921.389,4887.1325,3872.5235,5184.581,5230.141,7115.224,3848.293,3849.1415,6356.7145,6312.4735,6544.0205,8564.801,4610.6155,9526.448,5610.3265,5438.473,5430.805,7554.534,4671.34,4676.9325,6386.037,6377.5525],\n\"name\":[\"baselineInt\",\"longPackInt\",\"mutableSpecificRefInt\",\"mutableUniversalRefIntIn1Long\",\"mutableUniversalRefIntIn2Longs\",\"valueInt\",\"valuePreserveBoxInt\",\"baselineLong\",\"mutableSpecificRefLong\",\"mutableUniversalRefLong\",\"valueLong\",\"valuePreserveBoxLong\",\"baselineFloat\",\"longPackFloat\",\"mutableSpecificRefFloat\",\"mutableUniversalRefFloatIn1Long\",\"mutableUniversalRefFloatIn2Longs\",\"valueFloat\",\"valuePreserveBoxFloat\",\"baselineDouble\",\"mutableSpecificRefDouble\",\"mutableUniversalRefDouble\",\"valueDouble\",\"valuePreserveBoxDouble\"],\n\"minErr\":[12230.588,9066.092,7641.002,9749.445,7716.597,10141.628,10338.599999999999,14181.07,7663.9220000000005,7654.944,12416.363,12468.799,13029.836,17097.154,9192.46,19029.085,11164.703,10809.737,10804.567000000001,15001.803,9310.372,9311.646,12606.596000000001,12606.712],\n\"label\":[\"100%\\n±\\n1.6%\\nInt\",\"74%\\n±\\n0.9%\\nInt\",\"63%\\n±\\n1.6%\\nInt\",\"79%\\n±\\n0.2%\\nInt\",\"62%\\n±\\n0.2%\\nInt\",\"83%\\n±\\n1.8%\\nInt\",\"84%\\n±\\n1.0%\\nInt\",\"100%\\n±\\n0.3%\\nLong\",\"54%\\n±\\n0.2%\\nLong\",\"54%\\n±\\n0.3%\\nLong\",\"89%\\n±\\n2.1%\\nLong\",\"89%\\n±\\n1.1%\\nLong\",\"100%\\n±\\n0.4%\\nFloat\",\"131%\\n±\\n0.2%\\nFloat\",\"70%\\n±\\n0.2%\\nFloat\",\"146%\\n±\\n0.2%\\nFloat\",\"86%\\n±\\n0.4%\\nFloat\",\"83%\\n±\\n0.5%\\nFloat\",\"83%\\n±\\n0.4%\\nFloat\",\"100%\\n±\\n0.7%\\nDouble\",\"62%\\n±\\n0.2%\\nDouble\",\"62%\\n±\\n0.3%\\nDouble\",\"85%\\n±\\n1.1%\\nDouble\",\"84%\\n±\\n1.0%\\nDouble\"],\n\"type\":[\"Int\",\"Int\",\"Int\",\"Int\",\"Int\",\"Int\",\"Int\",\"Long\",\"Long\",\"Long\",\"Long\",\"Long\",\"Float\",\"Float\",\"Float\",\"Float\",\"Float\",\"Float\",\"Float\",\"Double\",\"Double\",\"Double\",\"Double\",\"Double\"],\n\"maxErr\":[12630.18,9281.414,8044.554,9799.085,7773.496999999999,10596.696,10581.964,14279.826000000001,7729.25,7741.622,13010.495,12781.095,13146.246,17162.05,9250.002,19076.707000000002,11276.603000000001,10944.155,10918.653,15216.332999999999,9374.988000000001,9396.083999999999,12937.552,12903.498]\n},\n\"ggsize\":{\n\"width\":800.0,\n\"height\":600.0\n},\n\"kind\":\"plot\",\n\"scales\":[{\n\"aesthetic\":\"x\",\n\"breaks\":[\"baselineInt\",\"longPackInt\",\"mutableSpecificRefInt\",\"mutableUniversalRefIntIn1Long\",\"mutableUniversalRefIntIn2Longs\",\"valueInt\",\"valuePreserveBoxInt\",\"baselineLong\",\"mutableSpecificRefLong\",\"mutableUniversalRefLong\",\"valueLong\",\"valuePreserveBoxLong\",\"baselineFloat\",\"longPackFloat\",\"mutableSpecificRefFloat\",\"mutableUniversalRefFloatIn1Long\",\"mutableUniversalRefFloatIn2Longs\",\"valueFloat\",\"valuePreserveBoxFloat\",\"baselineDouble\",\"mutableSpecificRefDouble\",\"mutableUniversalRefDouble\",\"valueDouble\",\"valuePreserveBoxDouble\"],\n\"name\":\"Benchmark\",\n\"labels\":[\"baseline\",\"longPack\",\"mutableSpecificRef\",\"mutableUniversalRefIn1Long\",\"mutableUniversalRefIn2Longs\",\"value\",\"valuePreserveBox\",\"baseline\",\"mutableSpecificRef\",\"mutableUniversalRef\",\"value\",\"valuePreserveBox\",\"baseline\",\"longPack\",\"mutableSpecificRef\",\"mutableUniversalRefIn1Long\",\"mutableUniversalRefIn2Longs\",\"value\",\"valuePreserveBox\",\"baseline\",\"mutableSpecificRef\",\"mutableUniversalRef\",\"value\",\"valuePreserveBox\"]\n},{\n\"aesthetic\":\"y\",\n\"name\":\"ns/op\",\n\"limits\":[null,null]\n},{\n\"aesthetic\":\"fill\",\n\"discrete\":true,\n\"name\":\"Type\",\n\"guide\":{\n\"name\":\"legend\"\n}\n},{\n\"aesthetic\":\"x\"\n},{\n\"aesthetic\":\"x\"\n},{\n\"aesthetic\":\"y\",\n\"limits\":[null,null]\n}],\n\"layers\":[{\n\"mapping\":{\n\"x\":\"name\",\n\"y\":\"score\",\n\"fill\":\"type\"\n},\n\"stat\":\"identity\",\n\"sampling\":\"none\",\n\"position\":\"dodge\",\n\"geom\":\"bar\",\n\"tooltips\":{\n\"lines\":[\"Type|@type\",\"Benchmark|@name\",\"Score|@score\"]\n},\n\"data\":{\n}\n},{\n\"mapping\":{\n\"x\":\"name\",\n\"ymin\":\"minErr\",\n\"ymax\":\"maxErr\"\n},\n\"stat\":\"identity\",\n\"sampling\":\"none\",\n\"width\":0.5,\n\"position\":\"identity\",\n\"geom\":\"errorbar\",\n\"data\":{\n}\n},{\n\"mapping\":{\n\"x\":\"name\",\n\"y\":\"textPosition\",\n\"label\":\"label\"\n},\n\"stat\":\"identity\",\n\"size\":3.2,\n\"sampling\":\"none\",\n\"position\":\"identity\",\n\"geom\":\"text\",\n\"data\":{\n}\n}],\n\"theme\":{\n\"flavor\":\"solarized_light\"\n}\n};\n       var plotContainer = document.getElementById(\"5NS54Q\");\n       LetsPlot.buildPlotFromProcessedSpecs(plotSpec, -1, -1, plotContainer);\n   </script>    ",
      "application/plot+json": {
       "output_type": "lets_plot_spec",
       "output": {
        "ggtitle": {
         "text": "Ackermann",
         "subtitle": "Graal"
        },
        "mapping": {},
        "data": {
         "score": [
          12430.384,
          9173.753,
          7842.778,
          9774.265,
          7745.047,
          10369.162,
          10460.282,
          14230.448,
          7696.586,
          7698.283,
          12713.429,
          12624.947,
          13088.041,
          17129.602,
          9221.231,
          19052.896,
          11220.653,
          10876.946,
          10861.61,
          15109.068,
          9342.68,
          9353.865,
          12772.074,
          12755.105
         ],
         "textPosition": [
          6215.192,
          4586.8765,
          3921.389,
          4887.1323,
          3872.5234,
          5184.581,
          5230.141,
          7115.224,
          3848.293,
          3849.1416,
          6356.7144,
          6312.4736,
          6544.0205,
          8564.801,
          4610.6157,
          9526.448,
          5610.3267,
          5438.473,
          5430.805,
          7554.534,
          4671.34,
          4676.9326,
          6386.037,
          6377.5527
         ],
         "name": [
          "baselineInt",
          "longPackInt",
          "mutableSpecificRefInt",
          "mutableUniversalRefIntIn1Long",
          "mutableUniversalRefIntIn2Longs",
          "valueInt",
          "valuePreserveBoxInt",
          "baselineLong",
          "mutableSpecificRefLong",
          "mutableUniversalRefLong",
          "valueLong",
          "valuePreserveBoxLong",
          "baselineFloat",
          "longPackFloat",
          "mutableSpecificRefFloat",
          "mutableUniversalRefFloatIn1Long",
          "mutableUniversalRefFloatIn2Longs",
          "valueFloat",
          "valuePreserveBoxFloat",
          "baselineDouble",
          "mutableSpecificRefDouble",
          "mutableUniversalRefDouble",
          "valueDouble",
          "valuePreserveBoxDouble"
         ],
         "minErr": [
          12230.588,
          9066.092,
          7641.002,
          9749.445,
          7716.597,
          10141.628,
          10338.6,
          14181.07,
          7663.922,
          7654.944,
          12416.363,
          12468.799,
          13029.836,
          17097.154,
          9192.46,
          19029.086,
          11164.703,
          10809.737,
          10804.567,
          15001.803,
          9310.372,
          9311.646,
          12606.596,
          12606.712
         ],
         "label": [
          "100%\n±\n1.6%\nInt",
          "74%\n±\n0.9%\nInt",
          "63%\n±\n1.6%\nInt",
          "79%\n±\n0.2%\nInt",
          "62%\n±\n0.2%\nInt",
          "83%\n±\n1.8%\nInt",
          "84%\n±\n1.0%\nInt",
          "100%\n±\n0.3%\nLong",
          "54%\n±\n0.2%\nLong",
          "54%\n±\n0.3%\nLong",
          "89%\n±\n2.1%\nLong",
          "89%\n±\n1.1%\nLong",
          "100%\n±\n0.4%\nFloat",
          "131%\n±\n0.2%\nFloat",
          "70%\n±\n0.2%\nFloat",
          "146%\n±\n0.2%\nFloat",
          "86%\n±\n0.4%\nFloat",
          "83%\n±\n0.5%\nFloat",
          "83%\n±\n0.4%\nFloat",
          "100%\n±\n0.7%\nDouble",
          "62%\n±\n0.2%\nDouble",
          "62%\n±\n0.3%\nDouble",
          "85%\n±\n1.1%\nDouble",
          "84%\n±\n1.0%\nDouble"
         ],
         "type": [
          "Int",
          "Int",
          "Int",
          "Int",
          "Int",
          "Int",
          "Int",
          "Long",
          "Long",
          "Long",
          "Long",
          "Long",
          "Float",
          "Float",
          "Float",
          "Float",
          "Float",
          "Float",
          "Float",
          "Double",
          "Double",
          "Double",
          "Double",
          "Double"
         ],
         "maxErr": [
          12630.18,
          9281.414,
          8044.554,
          9799.085,
          7773.497,
          10596.696,
          10581.964,
          14279.826,
          7729.25,
          7741.622,
          13010.495,
          12781.095,
          13146.246,
          17162.05,
          9250.002,
          19076.707,
          11276.603,
          10944.155,
          10918.653,
          15216.333,
          9374.988,
          9396.084,
          12937.552,
          12903.498
         ]
        },
        "ggsize": {
         "width": 800.0,
         "height": 600.0
        },
        "kind": "plot",
        "scales": [
         {
          "aesthetic": "x",
          "breaks": [
           "baselineInt",
           "longPackInt",
           "mutableSpecificRefInt",
           "mutableUniversalRefIntIn1Long",
           "mutableUniversalRefIntIn2Longs",
           "valueInt",
           "valuePreserveBoxInt",
           "baselineLong",
           "mutableSpecificRefLong",
           "mutableUniversalRefLong",
           "valueLong",
           "valuePreserveBoxLong",
           "baselineFloat",
           "longPackFloat",
           "mutableSpecificRefFloat",
           "mutableUniversalRefFloatIn1Long",
           "mutableUniversalRefFloatIn2Longs",
           "valueFloat",
           "valuePreserveBoxFloat",
           "baselineDouble",
           "mutableSpecificRefDouble",
           "mutableUniversalRefDouble",
           "valueDouble",
           "valuePreserveBoxDouble"
          ],
          "name": "Benchmark",
          "labels": [
           "baseline",
           "longPack",
           "mutableSpecificRef",
           "mutableUniversalRefIn1Long",
           "mutableUniversalRefIn2Longs",
           "value",
           "valuePreserveBox",
           "baseline",
           "mutableSpecificRef",
           "mutableUniversalRef",
           "value",
           "valuePreserveBox",
           "baseline",
           "longPack",
           "mutableSpecificRef",
           "mutableUniversalRefIn1Long",
           "mutableUniversalRefIn2Longs",
           "value",
           "valuePreserveBox",
           "baseline",
           "mutableSpecificRef",
           "mutableUniversalRef",
           "value",
           "valuePreserveBox"
          ]
         },
         {
          "aesthetic": "y",
          "name": "ns/op",
          "limits": [
           null,
           null
          ]
         },
         {
          "aesthetic": "fill",
          "discrete": true,
          "name": "Type",
          "guide": {
           "name": "legend"
          }
         },
         {
          "aesthetic": "x"
         },
         {
          "aesthetic": "x"
         },
         {
          "aesthetic": "y",
          "limits": [
           null,
           null
          ]
         }
        ],
        "layers": [
         {
          "mapping": {
           "x": "name",
           "y": "score",
           "fill": "type"
          },
          "stat": "identity",
          "sampling": "none",
          "position": "dodge",
          "geom": "bar",
          "tooltips": {
           "lines": [
            "Type|@type",
            "Benchmark|@name",
            "Score|@score"
           ]
          }
         },
         {
          "mapping": {
           "x": "name",
           "ymin": "minErr",
           "ymax": "maxErr"
          },
          "stat": "identity",
          "sampling": "none",
          "width": 0.5,
          "position": "identity",
          "geom": "errorbar"
         },
         {
          "mapping": {
           "x": "name",
           "y": "textPosition",
           "label": "label"
          },
          "stat": "identity",
          "size": 3.2,
          "sampling": "none",
          "position": "identity",
          "geom": "text"
         }
        ],
        "theme": {
         "flavor": "solarized_light"
        }
       },
       "apply_color_scheme": true,
       "swing_enabled": true
      }
     },
     "metadata": {},
     "output_type": "display_data"
    },
    {
     "data": {
      "text/html": "            <script type=\"text/javascript\" data-lets-plot-script=\"library\" src=\"https://cdn.jsdelivr.net/gh/JetBrains/lets-plot@v3.1.0/js-package/distr/lets-plot.min.js\"></script>    \n               <div id=\"xnAmnN\"></div>\n   <script type=\"text/javascript\" data-lets-plot-script=\"plot\">\n       var plotSpec={\n\"ggtitle\":{\n\"text\":\"BoxRecreation\",\n\"subtitle\":\"Graal\"\n},\n\"mapping\":{\n},\n\"data\":{\n\"score\":[65.703,619.643,645.335,68.451,76.027,724.556,80.188,69.208,617.233,649.494,67.719,76.465,722.782,80.538],\n\"textPosition\":[109.36896000000002,309.8215,322.6675,112.11696,119.69296,362.278,123.85396,112.87396000000001,308.6165,324.747,111.38496,120.13096000000002,361.391,124.20396],\n\"name\":[\"baselineInt\",\"longPackInt\",\"valueInt\",\"valuePreserveBoxInt\",\"baselineLong\",\"valueLong\",\"valuePreserveBoxLong\",\"baselineFloat\",\"longPackFloat\",\"valueFloat\",\"valuePreserveBoxFloat\",\"baselineDouble\",\"valueDouble\",\"valuePreserveBoxDouble\"],\n\"minErr\":[64.989,617.363,641.205,66.487,73.74,721.346,79.898,66.667,613.5889999999999,645.046,66.07799999999999,74.489,719.4960000000001,80.14999999999999],\n\"label\":[\"100%\\n±\\n1.1%\\nInt\",\"943%\\n±\\n3.5%\\nInt\",\"982%\\n±\\n6.3%\\nInt\",\"104%\\n±\\n3.0%\\nInt\",\"100%\\n±\\n3.0%\\nLong\",\"953%\\n±\\n4.2%\\nLong\",\"105%\\n±\\n0.4%\\nLong\",\"100%\\n±\\n3.7%\\nFloat\",\"892%\\n±\\n5.3%\\nFloat\",\"938%\\n±\\n6.4%\\nFloat\",\"98%\\n±\\n2.4%\\nFloat\",\"100%\\n±\\n2.6%\\nDouble\",\"945%\\n±\\n4.3%\\nDouble\",\"105%\\n±\\n0.5%\\nDouble\"],\n\"type\":[\"Int\",\"Int\",\"Int\",\"Int\",\"Long\",\"Long\",\"Long\",\"Float\",\"Float\",\"Float\",\"Float\",\"Double\",\"Double\",\"Double\"],\n\"maxErr\":[66.417,621.923,649.465,70.41499999999999,78.31400000000001,727.7660000000001,80.47800000000001,71.749,620.877,653.942,69.36,78.441,726.068,80.926]\n},\n\"ggsize\":{\n\"width\":800.0,\n\"height\":600.0\n},\n\"kind\":\"plot\",\n\"scales\":[{\n\"aesthetic\":\"x\",\n\"breaks\":[\"baselineInt\",\"longPackInt\",\"valueInt\",\"valuePreserveBoxInt\",\"baselineLong\",\"valueLong\",\"valuePreserveBoxLong\",\"baselineFloat\",\"longPackFloat\",\"valueFloat\",\"valuePreserveBoxFloat\",\"baselineDouble\",\"valueDouble\",\"valuePreserveBoxDouble\"],\n\"name\":\"Benchmark\",\n\"labels\":[\"baseline\",\"longPack\",\"value\",\"valuePreserveBox\",\"baseline\",\"value\",\"valuePreserveBox\",\"baseline\",\"longPack\",\"value\",\"valuePreserveBox\",\"baseline\",\"value\",\"valuePreserveBox\"]\n},{\n\"aesthetic\":\"y\",\n\"name\":\"ns/op\",\n\"limits\":[null,null]\n},{\n\"aesthetic\":\"fill\",\n\"discrete\":true,\n\"name\":\"Type\",\n\"guide\":{\n\"name\":\"legend\"\n}\n},{\n\"aesthetic\":\"x\"\n},{\n\"aesthetic\":\"x\"\n},{\n\"aesthetic\":\"y\",\n\"limits\":[null,null]\n}],\n\"layers\":[{\n\"mapping\":{\n\"x\":\"name\",\n\"y\":\"score\",\n\"fill\":\"type\"\n},\n\"stat\":\"identity\",\n\"sampling\":\"none\",\n\"position\":\"dodge\",\n\"geom\":\"bar\",\n\"tooltips\":{\n\"lines\":[\"Type|@type\",\"Benchmark|@name\",\"Score|@score\"]\n},\n\"data\":{\n}\n},{\n\"mapping\":{\n\"x\":\"name\",\n\"ymin\":\"minErr\",\n\"ymax\":\"maxErr\"\n},\n\"stat\":\"identity\",\n\"sampling\":\"none\",\n\"width\":0.5,\n\"position\":\"identity\",\n\"geom\":\"errorbar\",\n\"data\":{\n}\n},{\n\"mapping\":{\n\"x\":\"name\",\n\"y\":\"textPosition\",\n\"label\":\"label\"\n},\n\"stat\":\"identity\",\n\"size\":5.2,\n\"sampling\":\"none\",\n\"position\":\"identity\",\n\"geom\":\"text\",\n\"data\":{\n}\n}],\n\"theme\":{\n\"flavor\":\"solarized_light\"\n}\n};\n       var plotContainer = document.getElementById(\"xnAmnN\");\n       LetsPlot.buildPlotFromProcessedSpecs(plotSpec, -1, -1, plotContainer);\n   </script>    ",
      "application/plot+json": {
       "output_type": "lets_plot_spec",
       "output": {
        "ggtitle": {
         "text": "BoxRecreation",
         "subtitle": "Graal"
        },
        "mapping": {},
        "data": {
         "score": [
          65.703,
          619.643,
          645.335,
          68.451,
          76.027,
          724.556,
          80.188,
          69.208,
          617.233,
          649.494,
          67.719,
          76.465,
          722.782,
          80.538
         ],
         "textPosition": [
          109.36896,
          309.8215,
          322.6675,
          112.11696,
          119.69296,
          362.278,
          123.85396,
          112.87396,
          308.6165,
          324.747,
          111.38496,
          120.13096,
          361.391,
          124.20396
         ],
         "name": [
          "baselineInt",
          "longPackInt",
          "valueInt",
          "valuePreserveBoxInt",
          "baselineLong",
          "valueLong",
          "valuePreserveBoxLong",
          "baselineFloat",
          "longPackFloat",
          "valueFloat",
          "valuePreserveBoxFloat",
          "baselineDouble",
          "valueDouble",
          "valuePreserveBoxDouble"
         ],
         "minErr": [
          64.989,
          617.363,
          641.205,
          66.487,
          73.74,
          721.346,
          79.898,
          66.667,
          613.589,
          645.046,
          66.078,
          74.489,
          719.496,
          80.15
         ],
         "label": [
          "100%\n±\n1.1%\nInt",
          "943%\n±\n3.5%\nInt",
          "982%\n±\n6.3%\nInt",
          "104%\n±\n3.0%\nInt",
          "100%\n±\n3.0%\nLong",
          "953%\n±\n4.2%\nLong",
          "105%\n±\n0.4%\nLong",
          "100%\n±\n3.7%\nFloat",
          "892%\n±\n5.3%\nFloat",
          "938%\n±\n6.4%\nFloat",
          "98%\n±\n2.4%\nFloat",
          "100%\n±\n2.6%\nDouble",
          "945%\n±\n4.3%\nDouble",
          "105%\n±\n0.5%\nDouble"
         ],
         "type": [
          "Int",
          "Int",
          "Int",
          "Int",
          "Long",
          "Long",
          "Long",
          "Float",
          "Float",
          "Float",
          "Float",
          "Double",
          "Double",
          "Double"
         ],
         "maxErr": [
          66.417,
          621.923,
          649.465,
          70.415,
          78.314,
          727.766,
          80.478,
          71.749,
          620.877,
          653.942,
          69.36,
          78.441,
          726.068,
          80.926
         ]
        },
        "ggsize": {
         "width": 800.0,
         "height": 600.0
        },
        "kind": "plot",
        "scales": [
         {
          "aesthetic": "x",
          "breaks": [
           "baselineInt",
           "longPackInt",
           "valueInt",
           "valuePreserveBoxInt",
           "baselineLong",
           "valueLong",
           "valuePreserveBoxLong",
           "baselineFloat",
           "longPackFloat",
           "valueFloat",
           "valuePreserveBoxFloat",
           "baselineDouble",
           "valueDouble",
           "valuePreserveBoxDouble"
          ],
          "name": "Benchmark",
          "labels": [
           "baseline",
           "longPack",
           "value",
           "valuePreserveBox",
           "baseline",
           "value",
           "valuePreserveBox",
           "baseline",
           "longPack",
           "value",
           "valuePreserveBox",
           "baseline",
           "value",
           "valuePreserveBox"
          ]
         },
         {
          "aesthetic": "y",
          "name": "ns/op",
          "limits": [
           null,
           null
          ]
         },
         {
          "aesthetic": "fill",
          "discrete": true,
          "name": "Type",
          "guide": {
           "name": "legend"
          }
         },
         {
          "aesthetic": "x"
         },
         {
          "aesthetic": "x"
         },
         {
          "aesthetic": "y",
          "limits": [
           null,
           null
          ]
         }
        ],
        "layers": [
         {
          "mapping": {
           "x": "name",
           "y": "score",
           "fill": "type"
          },
          "stat": "identity",
          "sampling": "none",
          "position": "dodge",
          "geom": "bar",
          "tooltips": {
           "lines": [
            "Type|@type",
            "Benchmark|@name",
            "Score|@score"
           ]
          }
         },
         {
          "mapping": {
           "x": "name",
           "ymin": "minErr",
           "ymax": "maxErr"
          },
          "stat": "identity",
          "sampling": "none",
          "width": 0.5,
          "position": "identity",
          "geom": "errorbar"
         },
         {
          "mapping": {
           "x": "name",
           "y": "textPosition",
           "label": "label"
          },
          "stat": "identity",
          "size": 5.2,
          "sampling": "none",
          "position": "identity",
          "geom": "text"
         }
        ],
        "theme": {
         "flavor": "solarized_light"
        }
       },
       "apply_color_scheme": true,
       "swing_enabled": true
      }
     },
     "metadata": {},
     "output_type": "display_data"
    }
   ],
   "source": [
    "makePlot(\"Wolf3d\", \"Graal\", readGraalBenchmarkData(\"Wolf3dBenchmark\"))?.let { DISPLAY(it) }\n",
    "makePlot(\"Ackermann\", \"Graal\", readGraalBenchmarkData(\"AckermannBenchmark\"))?.let { DISPLAY(it) }\n",
    "makePlot(\"BoxRecreation\", \"Graal\", readGraalBenchmarkData(\"BoxRecreationBenchmark\"))?.let { DISPLAY(it) }"
   ],
   "metadata": {
    "collapsed": false,
    "ExecuteTime": {
     "end_time": "2023-05-19T01:48:45.489823Z",
     "start_time": "2023-05-19T01:48:44.374926Z"
    }
   }
  },
  {
   "cell_type": "code",
   "execution_count": 8,
   "outputs": [],
   "source": [
    "import java.io.FileFilter\n",
    "import kotlin.io.path.listDirectoryEntries\n",
    "\n",
    "fun readArtBenchmarkData(benchmarkName: String) = Path.of(\"android-benchmark/build/outputs/androidTest-results/connected\")\n",
    "    .toFile().listFiles(FileFilter { it.isDirectory })!!.single()\n",
    "    .listFiles { _, name -> name.startsWith(\"logcat-org.jetbrains.\") }!!.flatMap { it.readLines() }\n",
    "    .parseBenchmarkData(Regex(\"^\\\\d{2}-\\\\d{2} +\\\\d+:\\\\d+:\\\\d+.\\\\d+ +\\\\d+ +\\\\d+ +I +Benchmark: +$benchmarkName\\\\.(?<name>[^\\\\[]+)\\\\[Metric \\\\(timeNs\\\\) +results: +median +(?<score>[^,]+), +min [^,]+, +max [^,]+, +standardDeviation: +(?<error>[^,]+), +.*\"))"
   ],
   "metadata": {
    "collapsed": false,
    "ExecuteTime": {
     "end_time": "2023-05-19T01:48:46.579941Z",
     "start_time": "2023-05-19T01:48:45.493186Z"
    }
   }
  },
  {
   "cell_type": "code",
   "execution_count": 9,
   "outputs": [
    {
     "data": {
      "text/html": "            <iframe onload=\"o_resize_iframe_out_3()\" style=\"width:100%;\" class=\"result_container\" id=\"iframe_out_3\" frameBorder=\"0\" srcdoc=\"        &lt;html theme='dark'&gt;\n        &lt;head&gt;\n            &lt;style type=&quot;text&sol;css&quot;&gt;\n                :root {\n    --background: #fff;\n    --background-odd: #f5f5f5;\n    --background-hover: #d9edfd;\n    --header-text-color: #474747;\n    --text-color: #848484;\n    --text-color-dark: #000;\n    --text-color-medium: #737373;\n    --text-color-pale: #b3b3b3;\n    --inner-border-color: #aaa;\n    --bold-border-color: #000;\n    --link-color: #296eaa;\n    --link-color-pale: #296eaa;\n    --link-hover: #1a466c;\n}\n\n:root[theme=&quot;dark&quot;], :root [data-jp-theme-light=&quot;false&quot;], .dataframe_dark{\n    --background: #303030;\n    --background-odd: #3c3c3c;\n    --background-hover: #464646;\n    --header-text-color: #dddddd;\n    --text-color: #b3b3b3;\n    --text-color-dark: #dddddd;\n    --text-color-medium: #b2b2b2;\n    --text-color-pale: #737373;\n    --inner-border-color: #707070;\n    --bold-border-color: #777777;\n    --link-color: #008dc0;\n    --link-color-pale: #97e1fb;\n    --link-hover: #00688e;\n}\n\np.dataframe_description {\n    color: var(--text-color-dark);\n}\n\ntable.dataframe {\n    font-family: &quot;Helvetica Neue&quot;, Helvetica, Arial, sans-serif;\n    font-size: 12px;\n    background-color: var(--background);\n    color: var(--text-color-dark);\n    border: none;\n    border-collapse: collapse;\n}\n\ntable.dataframe th, td {\n    padding: 6px;\n    border: 1px solid transparent;\n    text-align: left;\n}\n\ntable.dataframe th {\n    background-color: var(--background);\n    color: var(--header-text-color);\n}\n\ntable.dataframe td {\n    vertical-align: top;\n}\n\ntable.dataframe th.bottomBorder {\n    border-bottom-color: var(--bold-border-color);\n}\n\ntable.dataframe tbody &gt; tr:nth-child(odd) {\n    background: var(--background-odd);\n}\n\ntable.dataframe tbody &gt; tr:nth-child(even) {\n    background: var(--background);\n}\n\ntable.dataframe tbody &gt; tr:hover {\n    background: var(--background-hover);\n}\n\ntable.dataframe a {\n    cursor: pointer;\n    color: var(--link-color);\n    text-decoration: none;\n}\n\ntable.dataframe tr:hover &gt; td a {\n    color: var(--link-color-pale);\n}\n\ntable.dataframe a:hover {\n    color: var(--link-hover);\n    text-decoration: underline;\n}\n\ntable.dataframe img {\n    max-width: fit-content;\n}\n\ntable.dataframe th.complex {\n    background-color: var(--background);\n    border: 1px solid var(--background);\n}\n\ntable.dataframe .leftBorder {\n    border-left-color: var(--inner-border-color);\n}\n\ntable.dataframe .rightBorder {\n    border-right-color: var(--inner-border-color);\n}\n\ntable.dataframe .rightAlign {\n    text-align: right;\n}\n\ntable.dataframe .expanderSvg {\n    width: 8px;\n    height: 8px;\n    margin-right: 3px;\n}\n\ntable.dataframe .expander {\n    display: flex;\n    align-items: center;\n}\n\n&sol;* formatting *&sol;\n\ntable.dataframe .null {\n    color: var(--text-color-pale);\n}\n\ntable.dataframe .structural {\n    color: var(--text-color-medium);\n    font-weight: bold;\n}\n\ntable.dataframe .dataFrameCaption {\n    font-weight: bold;\n}\n\ntable.dataframe .numbers {\n    color: var(--text-color-dark);\n}\n\ntable.dataframe td:hover .formatted .structural, .null {\n    color: var(--text-color-dark);\n}\n\ntable.dataframe tr:hover .formatted .structural, .null {\n    color: var(--text-color-dark);\n}\n\n\n\n\n:root {\n    --scroll-bg: #f5f5f5;\n    --scroll-fg: #b3b3b3;\n}\n:root[theme=&quot;dark&quot;], :root [data-jp-theme-light=&quot;false&quot;]{\n    --scroll-bg: #3c3c3c;\n    --scroll-fg: #97e1fb;\n}\nbody {\n    scrollbar-color: var(--scroll-fg) var(--scroll-bg);\n}\nbody::-webkit-scrollbar {\n    width: 10px; &sol;* Mostly for vertical scrollbars *&sol;\n    height: 10px; &sol;* Mostly for horizontal scrollbars *&sol;\n}\nbody::-webkit-scrollbar-thumb {\n    background-color: var(--scroll-fg);\n}\nbody::-webkit-scrollbar-track {\n    background-color: var(--scroll-bg);\n}\n            &lt;&sol;style&gt;\n        &lt;&sol;head&gt;\n        &lt;body&gt;\n            \n&lt;table class=&quot;dataframe&quot; id=&quot;df_570425346&quot;&gt;&lt;&sol;table&gt;\n\n&lt;p class=&quot;dataframe_description&quot;&gt;DataFrame: rowsCount = 16, columnsCount = 4&lt;&sol;p&gt;\n\n        &lt;&sol;body&gt;\n        &lt;script&gt;\n            (function () {\n    window.DataFrame = window.DataFrame || new (function () {\n        this.addTable = function (df) {\n            let cols = df.cols;\n            for (let i = 0; i &lt; cols.length; i++) {\n                for (let c of cols[i].children) {\n                    cols[c].parent = i;\n                }\n            }\n            df.nrow = 0\n            for (let i = 0; i &lt; df.cols.length; i++) {\n                if (df.cols[i].values.length &gt; df.nrow) df.nrow = df.cols[i].values.length\n            }\n            if (df.id === df.rootId) {\n                df.expandedFrames = new Set()\n                df.childFrames = {}\n                const table = this.getTableElement(df.id)\n                table.df = df\n                for (let i = 0; i &lt; df.cols.length; i++) {\n                    let col = df.cols[i]\n                    if (col.parent === undefined &amp;&amp; col.children.length &gt; 0) col.expanded = true\n                }\n            } else {\n                const rootDf = this.getTableData(df.rootId)\n                rootDf.childFrames[df.id] = df\n            }\n        }\n\n        this.computeRenderData = function (df) {\n            let result = []\n            let pos = 0\n            for (let col = 0; col &lt; df.cols.length; col++) {\n                if (df.cols[col].parent === undefined)\n                    pos += this.computeRenderDataRec(df.cols, col, pos, 0, result, false, false)\n            }\n            for (let i = 0; i &lt; result.length; i++) {\n                let row = result[i]\n                for (let j = 0; j &lt; row.length; j++) {\n                    let cell = row[j]\n                    if (j === 0)\n                        cell.leftBd = false\n                    if (j &lt; row.length - 1) {\n                        let nextData = row[j + 1]\n                        if (nextData.leftBd) cell.rightBd = true\n                        else if (cell.rightBd) nextData.leftBd = true\n                    } else cell.rightBd = false\n                }\n            }\n            return result\n        }\n\n        this.computeRenderDataRec = function (cols, colId, pos, depth, result, leftBorder, rightBorder) {\n            if (result.length === depth) {\n                const array = [];\n                if (pos &gt; 0) {\n                    let j = 0\n                    for (let i = 0; j &lt; pos; i++) {\n                        let c = result[depth - 1][i]\n                        j += c.span\n                        let copy = Object.assign({empty: true}, c)\n                        array.push(copy)\n                    }\n                }\n                result.push(array)\n            }\n            const col = cols[colId];\n            let size = 0;\n            if (col.expanded) {\n                let childPos = pos\n                for (let i = 0; i &lt; col.children.length; i++) {\n                    let child = col.children[i]\n                    let childLeft = i === 0 &amp;&amp; (col.children.length &gt; 1 || leftBorder)\n                    let childRight = i === col.children.length - 1 &amp;&amp; (col.children.length &gt; 1 || rightBorder)\n                    let childSize = this.computeRenderDataRec(cols, child, childPos, depth + 1, result, childLeft, childRight)\n                    childPos += childSize\n                    size += childSize\n                }\n            } else {\n                for (let i = depth + 1; i &lt; result.length; i++)\n                    result[i].push({id: colId, span: 1, leftBd: leftBorder, rightBd: rightBorder, empty: true})\n                size = 1\n            }\n            let left = leftBorder\n            let right = rightBorder\n            if (size &gt; 1) {\n                left = true\n                right = true\n            }\n            result[depth].push({id: colId, span: size, leftBd: left, rightBd: right})\n            return size\n        }\n\n        this.getTableElement = function (id) {\n            return document.getElementById(&quot;df_&quot; + id)\n        }\n\n        this.getTableData = function (id) {\n            return this.getTableElement(id).df\n        }\n\n        this.createExpander = function (isExpanded) {\n            const svgNs = &quot;http:&sol;&sol;www.w3.org&sol;2000&sol;svg&quot;\n            let svg = document.createElementNS(svgNs, &quot;svg&quot;)\n            svg.classList.add(&quot;expanderSvg&quot;)\n            let path = document.createElementNS(svgNs, &quot;path&quot;)\n            if (isExpanded) {\n                svg.setAttribute(&quot;viewBox&quot;, &quot;0 -2 8 8&quot;)\n                path.setAttribute(&quot;d&quot;, &quot;M1 0 l-1 1 4 4 4 -4 -1 -1 -3 3Z&quot;)\n            } else {\n                svg.setAttribute(&quot;viewBox&quot;, &quot;-2 0 8 8&quot;)\n                path.setAttribute(&quot;d&quot;, &quot;M1 0 l-1 1 3 3 -3 3 1 1 4 -4Z&quot;)\n            }\n            path.setAttribute(&quot;fill&quot;, &quot;currentColor&quot;)\n            svg.appendChild(path)\n            return svg\n        }\n\n        this.renderTable = function (id) {\n\n            let table = this.getTableElement(id)\n\n            if (table === null) return\n\n            table.innerHTML = &quot;&quot;\n\n            let df = table.df\n            let rootDf = df.rootId === df.id ? df : this.getTableData(df.rootId)\n\n            &sol;&sol; header\n            let header = document.createElement(&quot;thead&quot;)\n            table.appendChild(header)\n\n            let renderData = this.computeRenderData(df)\n            for (let j = 0; j &lt; renderData.length; j++) {\n                let rowData = renderData[j]\n                let tr = document.createElement(&quot;tr&quot;);\n                let isLastRow = j === renderData.length - 1\n                header.appendChild(tr);\n                for (let i = 0; i &lt; rowData.length; i++) {\n                    let cell = rowData[i]\n                    let th = document.createElement(&quot;th&quot;);\n                    th.setAttribute(&quot;colspan&quot;, cell.span)\n                    let colId = cell.id\n                    let col = df.cols[colId];\n                    if (!cell.empty) {\n                        if (col.children.length === 0) {\n                            th.innerHTML = col.name\n                        } else {\n                            let link = document.createElement(&quot;a&quot;)\n                            link.className = &quot;expander&quot;\n                            let that = this\n                            link.onclick = function () {\n                                col.expanded = !col.expanded\n                                that.renderTable(id)\n                            }\n                            link.appendChild(this.createExpander(col.expanded))\n                            link.innerHTML += col.name\n                            th.appendChild(link)\n                        }\n                    }\n                    let classes = (cell.leftBd ? &quot; leftBorder&quot; : &quot;&quot;) + (cell.rightBd ? &quot; rightBorder&quot; : &quot;&quot;)\n                    if (col.rightAlign)\n                        classes += &quot; rightAlign&quot;\n                    if (isLastRow)\n                        classes += &quot; bottomBorder&quot;\n                    if (classes.length &gt; 0)\n                        th.setAttribute(&quot;class&quot;, classes)\n                    tr.appendChild(th)\n                }\n            }\n\n            &sol;&sol; body\n            let body = document.createElement(&quot;tbody&quot;)\n            table.appendChild(body)\n\n            let columns = renderData.pop()\n            for (let row = 0; row &lt; df.nrow; row++) {\n                let tr = document.createElement(&quot;tr&quot;);\n                body.appendChild(tr)\n                for (let i = 0; i &lt; columns.length; i++) {\n                    let cell = columns[i]\n                    let td = document.createElement(&quot;td&quot;);\n                    let colId = cell.id\n                    let col = df.cols[colId]\n                    let classes = (cell.leftBd ? &quot; leftBorder&quot; : &quot;&quot;) + (cell.rightBd ? &quot; rightBorder&quot; : &quot;&quot;)\n                    if (col.rightAlign)\n                        classes += &quot; rightAlign&quot;\n                    if (classes.length &gt; 0)\n                        td.setAttribute(&quot;class&quot;, classes)\n                    tr.appendChild(td)\n                    let value = col.values[row]\n                    if (value.frameId !== undefined) {\n                        let frameId = value.frameId\n                        let expanded = rootDf.expandedFrames.has(frameId)\n                        let link = document.createElement(&quot;a&quot;)\n                        link.className = &quot;expander&quot;\n                        let that = this\n                        link.onclick = function () {\n                            if (rootDf.expandedFrames.has(frameId))\n                                rootDf.expandedFrames.delete(frameId)\n                            else rootDf.expandedFrames.add(frameId)\n                            that.renderTable(id)\n                        }\n                        link.appendChild(this.createExpander(expanded))\n                        link.innerHTML += value.value\n                        if (expanded) {\n                            td.appendChild(link)\n                            td.appendChild(document.createElement(&quot;p&quot;))\n                            const childTable = document.createElement(&quot;table&quot;)\n                            childTable.className = &quot;dataframe&quot;\n                            childTable.id = &quot;df_&quot; + frameId\n                            let childDf = rootDf.childFrames[frameId]\n                            childTable.df = childDf\n                            td.appendChild(childTable)\n                            this.renderTable(frameId)\n                            if (childDf.nrow !== childDf.totalRows) {\n                                const footer = document.createElement(&quot;p&quot;)\n                                footer.innerText = `... showing only top ${childDf.nrow} of ${childDf.totalRows} rows`\n                                td.appendChild(footer)\n                            }\n                        } else {\n                            td.appendChild(link)\n                        }\n                    } else if (value.style !== undefined) {\n                        td.innerHTML = value.value\n                        td.setAttribute(&quot;style&quot;, value.style)\n                    } else td.innerHTML = value\n                    this.nodeScriptReplace(td)\n                }\n            }\n        }\n\n        this.nodeScriptReplace = function (node) {\n            if (this.nodeScriptIs(node) === true) {\n                node.parentNode.replaceChild(this.nodeScriptClone(node), node);\n            } else {\n                let i = -1, children = node.childNodes;\n                while (++i &lt; children.length) {\n                    this.nodeScriptReplace(children[i]);\n                }\n            }\n\n            return node;\n        }\n\n        this.nodeScriptClone = function (node) {\n            let script = document.createElement(&quot;script&quot;);\n            script.text = node.innerHTML;\n\n            let i = -1, attrs = node.attributes, attr;\n            while (++i &lt; attrs.length) {\n                script.setAttribute((attr = attrs[i]).name, attr.value);\n            }\n            return script;\n        }\n\n        this.nodeScriptIs = function (node) {\n            return node.tagName === 'SCRIPT';\n        }\n    })()\n\n    window.call_DataFrame = function (f) {\n        return f();\n    };\n\n    let funQueue = window[&quot;kotlinQueues&quot;] &amp;&amp; window[&quot;kotlinQueues&quot;][&quot;DataFrame&quot;];\n    if (funQueue) {\n        funQueue.forEach(function (f) {\n            f();\n        });\n        funQueue = [];\n    }\n})()\n\n&sol;*&lt;!--*&sol;\ncall_DataFrame(function() { DataFrame.addTable({ cols: [{ name: &quot;&lt;span title=&bsol;&quot;name: String&bsol;&quot;&gt;name&lt;&sol;span&gt;&quot;, children: [], rightAlign: false, values: [&quot;baselineFloat&quot;,&quot;inlineFloat&quot;,&quot;longPackFloat&quot;,&quot;mutableSpecificRefFloat&quot;,&quot;mutableUniversalRefFloatIn1Long&quot;,&quot;mutableUniversalRefFloatIn2Longs&quot;,&quot;valueFloat&quot;,&quot;valueInlineFloat&quot;,&quot;valuePreserveBoxFloat&quot;,&quot;baselineDouble&quot;,&quot;inlineDouble&quot;,&quot;mutableSpecificRefDouble&quot;,&quot;mutableUniversalRefDouble&quot;,&quot;valueDouble&quot;,&quot;valueInlineDouble&quot;,&quot;valuePreserveBoxDouble&quot;] }, \n{ name: &quot;&lt;span title=&bsol;&quot;score: Double&bsol;&quot;&gt;score&lt;&sol;span&gt;&quot;, children: [], rightAlign: true, values: [&quot;&lt;span class=&bsol;&quot;formatted&bsol;&quot; title=&bsol;&quot;&bsol;&quot;&gt;&lt;span class=&bsol;&quot;numbers&bsol;&quot;&gt;315779173.000000&lt;&sol;span&gt;&lt;&sol;span&gt;&quot;,&quot;&lt;span class=&bsol;&quot;formatted&bsol;&quot; title=&bsol;&quot;&bsol;&quot;&gt;&lt;span class=&bsol;&quot;numbers&bsol;&quot;&gt;666750865.000000&lt;&sol;span&gt;&lt;&sol;span&gt;&quot;,&quot;&lt;span class=&bsol;&quot;formatted&bsol;&quot; title=&bsol;&quot;&bsol;&quot;&gt;&lt;span class=&bsol;&quot;numbers&bsol;&quot;&gt;77758230.500000&lt;&sol;span&gt;&lt;&sol;span&gt;&quot;,&quot;&lt;span class=&bsol;&quot;formatted&bsol;&quot; title=&bsol;&quot;&bsol;&quot;&gt;&lt;span class=&bsol;&quot;numbers&bsol;&quot;&gt;47492788.250000&lt;&sol;span&gt;&lt;&sol;span&gt;&quot;,&quot;&lt;span class=&bsol;&quot;formatted&bsol;&quot; title=&bsol;&quot;&bsol;&quot;&gt;&lt;span class=&bsol;&quot;numbers&bsol;&quot;&gt;159557769.000000&lt;&sol;span&gt;&lt;&sol;span&gt;&quot;,&quot;&lt;span class=&bsol;&quot;formatted&bsol;&quot; title=&bsol;&quot;&bsol;&quot;&gt;&lt;span class=&bsol;&quot;numbers&bsol;&quot;&gt;101469154.000000&lt;&sol;span&gt;&lt;&sol;span&gt;&quot;,&quot;&lt;span class=&bsol;&quot;formatted&bsol;&quot; title=&bsol;&quot;&bsol;&quot;&gt;&lt;span class=&bsol;&quot;numbers&bsol;&quot;&gt;288772038.500000&lt;&sol;span&gt;&lt;&sol;span&gt;&quot;,&quot;&lt;span class=&bsol;&quot;formatted&bsol;&quot; title=&bsol;&quot;&bsol;&quot;&gt;&lt;span class=&bsol;&quot;numbers&bsol;&quot;&gt;17610849.900000&lt;&sol;span&gt;&lt;&sol;span&gt;&quot;,&quot;&lt;span class=&bsol;&quot;formatted&bsol;&quot; title=&bsol;&quot;&bsol;&quot;&gt;&lt;span class=&bsol;&quot;numbers&bsol;&quot;&gt;287181038.000000&lt;&sol;span&gt;&lt;&sol;span&gt;&quot;,&quot;&lt;span class=&bsol;&quot;formatted&bsol;&quot; title=&bsol;&quot;&bsol;&quot;&gt;&lt;span class=&bsol;&quot;numbers&bsol;&quot;&gt;393032230.500000&lt;&sol;span&gt;&lt;&sol;span&gt;&quot;,&quot;&lt;span class=&bsol;&quot;formatted&bsol;&quot; title=&bsol;&quot;&bsol;&quot;&gt;&lt;span class=&bsol;&quot;numbers&bsol;&quot;&gt;847105903.500000&lt;&sol;span&gt;&lt;&sol;span&gt;&quot;,&quot;&lt;span class=&bsol;&quot;formatted&bsol;&quot; title=&bsol;&quot;&bsol;&quot;&gt;&lt;span class=&bsol;&quot;numbers&bsol;&quot;&gt;81016769.500000&lt;&sol;span&gt;&lt;&sol;span&gt;&quot;,&quot;&lt;span class=&bsol;&quot;formatted&bsol;&quot; title=&bsol;&quot;&bsol;&quot;&gt;&lt;span class=&bsol;&quot;numbers&bsol;&quot;&gt;106563384.500000&lt;&sol;span&gt;&lt;&sol;span&gt;&quot;,&quot;&lt;span class=&bsol;&quot;formatted&bsol;&quot; title=&bsol;&quot;&bsol;&quot;&gt;&lt;span class=&bsol;&quot;numbers&bsol;&quot;&gt;468825980.000000&lt;&sol;span&gt;&lt;&sol;span&gt;&quot;,&quot;&lt;span class=&bsol;&quot;formatted&bsol;&quot; title=&bsol;&quot;&bsol;&quot;&gt;&lt;span class=&bsol;&quot;numbers&bsol;&quot;&gt;18635442.300000&lt;&sol;span&gt;&lt;&sol;span&gt;&quot;,&quot;&lt;span class=&bsol;&quot;formatted&bsol;&quot; title=&bsol;&quot;&bsol;&quot;&gt;&lt;span class=&bsol;&quot;numbers&bsol;&quot;&gt;441777538.000000&lt;&sol;span&gt;&lt;&sol;span&gt;&quot;] }, \n{ name: &quot;&lt;span title=&bsol;&quot;error: Double&bsol;&quot;&gt;error&lt;&sol;span&gt;&quot;, children: [], rightAlign: true, values: [&quot;&lt;span class=&bsol;&quot;formatted&bsol;&quot; title=&bsol;&quot;&bsol;&quot;&gt;&lt;span class=&bsol;&quot;numbers&bsol;&quot;&gt;9167676.600532&lt;&sol;span&gt;&lt;&sol;span&gt;&quot;,&quot;&lt;span class=&bsol;&quot;formatted&bsol;&quot; title=&bsol;&quot;&bsol;&quot;&gt;&lt;span class=&bsol;&quot;numbers&bsol;&quot;&gt;16464937.314997&lt;&sol;span&gt;&lt;&sol;span&gt;&quot;,&quot;&lt;span class=&bsol;&quot;formatted&bsol;&quot; title=&bsol;&quot;&bsol;&quot;&gt;&lt;span class=&bsol;&quot;numbers&bsol;&quot;&gt;1127037.871673&lt;&sol;span&gt;&lt;&sol;span&gt;&quot;,&quot;&lt;span class=&bsol;&quot;formatted&bsol;&quot; title=&bsol;&quot;&bsol;&quot;&gt;&lt;span class=&bsol;&quot;numbers&bsol;&quot;&gt;109137.755120&lt;&sol;span&gt;&lt;&sol;span&gt;&quot;,&quot;&lt;span class=&bsol;&quot;formatted&bsol;&quot; title=&bsol;&quot;&bsol;&quot;&gt;&lt;span class=&bsol;&quot;numbers&bsol;&quot;&gt;1440399.027876&lt;&sol;span&gt;&lt;&sol;span&gt;&quot;,&quot;&lt;span class=&bsol;&quot;formatted&bsol;&quot; title=&bsol;&quot;&bsol;&quot;&gt;&lt;span class=&bsol;&quot;numbers&bsol;&quot;&gt;138738.704674&lt;&sol;span&gt;&lt;&sol;span&gt;&quot;,&quot;&lt;span class=&bsol;&quot;formatted&bsol;&quot; title=&bsol;&quot;&bsol;&quot;&gt;&lt;span class=&bsol;&quot;numbers&bsol;&quot;&gt;11965123.446280&lt;&sol;span&gt;&lt;&sol;span&gt;&quot;,&quot;&lt;span class=&bsol;&quot;formatted&bsol;&quot; title=&bsol;&quot;&bsol;&quot;&gt;&lt;span class=&bsol;&quot;numbers&bsol;&quot;&gt;46384.491498&lt;&sol;span&gt;&lt;&sol;span&gt;&quot;,&quot;&lt;span class=&bsol;&quot;formatted&bsol;&quot; title=&bsol;&quot;&bsol;&quot;&gt;&lt;span class=&bsol;&quot;numbers&bsol;&quot;&gt;8515221.611477&lt;&sol;span&gt;&lt;&sol;span&gt;&quot;,&quot;&lt;span class=&bsol;&quot;formatted&bsol;&quot; title=&bsol;&quot;&bsol;&quot;&gt;&lt;span class=&bsol;&quot;numbers&bsol;&quot;&gt;10160078.706655&lt;&sol;span&gt;&lt;&sol;span&gt;&quot;,&quot;&lt;span class=&bsol;&quot;formatted&bsol;&quot; title=&bsol;&quot;&bsol;&quot;&gt;&lt;span class=&bsol;&quot;numbers&bsol;&quot;&gt;78180647.568928&lt;&sol;span&gt;&lt;&sol;span&gt;&quot;,&quot;&lt;span class=&bsol;&quot;formatted&bsol;&quot; title=&bsol;&quot;&bsol;&quot;&gt;&lt;span class=&bsol;&quot;numbers&bsol;&quot;&gt;1001262.661636&lt;&sol;span&gt;&lt;&sol;span&gt;&quot;,&quot;&lt;span class=&bsol;&quot;formatted&bsol;&quot; title=&bsol;&quot;&bsol;&quot;&gt;&lt;span class=&bsol;&quot;numbers&bsol;&quot;&gt;80328.649978&lt;&sol;span&gt;&lt;&sol;span&gt;&quot;,&quot;&lt;span class=&bsol;&quot;formatted&bsol;&quot; title=&bsol;&quot;&bsol;&quot;&gt;&lt;span class=&bsol;&quot;numbers&bsol;&quot;&gt;9850239.376568&lt;&sol;span&gt;&lt;&sol;span&gt;&quot;,&quot;&lt;span class=&bsol;&quot;formatted&bsol;&quot; title=&bsol;&quot;&bsol;&quot;&gt;&lt;span class=&bsol;&quot;numbers&bsol;&quot;&gt;17876.798319&lt;&sol;span&gt;&lt;&sol;span&gt;&quot;,&quot;&lt;span class=&bsol;&quot;formatted&bsol;&quot; title=&bsol;&quot;&bsol;&quot;&gt;&lt;span class=&bsol;&quot;numbers&bsol;&quot;&gt;13441218.392310&lt;&sol;span&gt;&lt;&sol;span&gt;&quot;] }, \n{ name: &quot;&lt;span title=&bsol;&quot;type: Line_9_jupyter.Type&bsol;&quot;&gt;type&lt;&sol;span&gt;&quot;, children: [], rightAlign: false, values: [&quot;Float&quot;,&quot;Float&quot;,&quot;Float&quot;,&quot;Float&quot;,&quot;Float&quot;,&quot;Float&quot;,&quot;Float&quot;,&quot;Float&quot;,&quot;Float&quot;,&quot;Double&quot;,&quot;Double&quot;,&quot;Double&quot;,&quot;Double&quot;,&quot;Double&quot;,&quot;Double&quot;,&quot;Double&quot;] }, \n], id: 570425346, rootId: 570425346, totalRows: 16 } ) });\n&sol;*--&gt;*&sol;\n\ncall_DataFrame(function() { DataFrame.renderTable(570425346) });\n\n\n\n        &lt;&sol;script&gt;\n        &lt;&sol;html&gt;\"></iframe>\n            <script>\n                function o_resize_iframe_out_3() {\n                    let elem = document.getElementById(\"iframe_out_3\");\n                    resize_iframe_out_3(elem);\n                    setInterval(resize_iframe_out_3, 5000, elem);\n                }\n                function resize_iframe_out_3(el) {\n                    let h = el.contentWindow.document.body.scrollHeight;\n                    el.height = h === 0 ? 0 : h + 41;\n                }\n            </script>",
      "application/kotlindataframe+json": "{\"nrow\":16,\"ncol\":4,\"columns\":[\"name\",\"score\",\"error\",\"type\"],\"kotlin_dataframe\":[{\"name\":\"baselineFloat\",\"score\":3.15779173E8,\"error\":9167676.600532217,\"type\":\"Float\"},{\"name\":\"inlineFloat\",\"score\":6.66750865E8,\"error\":1.6464937314997058E7,\"type\":\"Float\"},{\"name\":\"longPackFloat\",\"score\":7.77582305E7,\"error\":1127037.8716726247,\"type\":\"Float\"},{\"name\":\"mutableSpecificRefFloat\",\"score\":4.749278825E7,\"error\":109137.75512004289,\"type\":\"Float\"},{\"name\":\"mutableUniversalRefFloatIn1Long\",\"score\":1.59557769E8,\"error\":1440399.0278757631,\"type\":\"Float\"},{\"name\":\"mutableUniversalRefFloatIn2Longs\",\"score\":1.01469154E8,\"error\":138738.7046736639,\"type\":\"Float\"},{\"name\":\"valueFloat\",\"score\":2.887720385E8,\"error\":1.196512344627951E7,\"type\":\"Float\"},{\"name\":\"valueInlineFloat\",\"score\":1.76108499E7,\"error\":46384.491498023366,\"type\":\"Float\"},{\"name\":\"valuePreserveBoxFloat\",\"score\":2.87181038E8,\"error\":8515221.611477472,\"type\":\"Float\"},{\"name\":\"baselineDouble\",\"score\":3.930322305E8,\"error\":1.0160078706654595E7,\"type\":\"Double\"},{\"name\":\"inlineDouble\",\"score\":8.471059035E8,\"error\":7.818064756892842E7,\"type\":\"Double\"},{\"name\":\"mutableSpecificRefDouble\",\"score\":8.10167695E7,\"error\":1001262.6616362086,\"type\":\"Double\"},{\"name\":\"mutableUniversalRefDouble\",\"score\":1.065633845E8,\"error\":80328.64997797029,\"type\":\"Double\"},{\"name\":\"valueDouble\",\"score\":4.6882598E8,\"error\":9850239.376567667,\"type\":\"Double\"},{\"name\":\"valueInlineDouble\",\"score\":1.8635442299999997E7,\"error\":17876.79831856923,\"type\":\"Double\"},{\"name\":\"valuePreserveBoxDouble\",\"score\":4.41777538E8,\"error\":1.3441218392310157E7,\"type\":\"Double\"}]}"
     },
     "execution_count": 9,
     "metadata": {},
     "output_type": "execute_result"
    }
   ],
   "source": [
    "readArtBenchmarkData(\"Wolf3dBenchmark\").concat(readArtBenchmarkData(\"FibonacciBenchmark\"))"
   ],
   "metadata": {
    "collapsed": false,
    "ExecuteTime": {
     "end_time": "2023-05-19T01:48:46.899344Z",
     "start_time": "2023-05-19T01:48:46.582086Z"
    }
   }
  },
  {
   "cell_type": "code",
   "execution_count": 10,
   "outputs": [
    {
     "data": {
      "text/html": "            <script type=\"text/javascript\" data-lets-plot-script=\"library\" src=\"https://cdn.jsdelivr.net/gh/JetBrains/lets-plot@v3.1.0/js-package/distr/lets-plot.min.js\"></script>    \n               <div id=\"I4K6td\"></div>\n   <script type=\"text/javascript\" data-lets-plot-script=\"plot\">\n       var plotSpec={\n\"ggtitle\":{\n\"text\":\"Wolf3d\",\n\"subtitle\":\"ART\"\n},\n\"mapping\":{\n},\n\"data\":{\n\"score\":[3.15779173E8,6.66750865E8,7.77582305E7,4.749278825E7,1.59557769E8,1.01469154E8,2.887720385E8,1.76108499E7,2.87181038E8,3.930322305E8,8.471059035E8,8.10167695E7,1.065633845E8,4.6882598E8,1.8635442299999997E7,4.41777538E8],\n\"textPosition\":[1.578895865E8,3.333754325E8,1.332754235641357E8,1.030099813141357E8,7.97788845E7,1.569863470641357E8,1.4438601925E8,7.31280429641357E7,1.43590519E8,1.9651611525E8,4.2355295175E8,1.365339625641357E8,1.620805775641357E8,2.3441299E8,7.415263536413571E7,2.20888769E8],\n\"name\":[\"baselineFloat\",\"inlineFloat\",\"longPackFloat\",\"mutableSpecificRefFloat\",\"mutableUniversalRefFloatIn1Long\",\"mutableUniversalRefFloatIn2Longs\",\"valueFloat\",\"valueInlineFloat\",\"valuePreserveBoxFloat\",\"baselineDouble\",\"inlineDouble\",\"mutableSpecificRefDouble\",\"mutableUniversalRefDouble\",\"valueDouble\",\"valueInlineDouble\",\"valuePreserveBoxDouble\"],\n\"minErr\":[3.0661149639946777E8,6.502859276850029E8,7.663119262832737E7,4.738365049487995E7,1.5811736997212425E8,1.0133041529532634E8,2.768069150537205E8,1.7564465408501975E7,2.786658163885225E8,3.828721517933454E8,7.689252559310715E8,8.00155068383638E7,1.0648305585002203E8,4.5897574062343234E8,1.861756550168143E7,4.2833631960768986E8],\n\"label\":[\"100%\\n±\\n2.9%\\nFloat\",\"211%\\n±\\n5.2%\\nFloat\",\"25%\\n±\\n0.4%\\nFloat\",\"15%\\n±\\n0.0%\\nFloat\",\"51%\\n±\\n0.5%\\nFloat\",\"32%\\n±\\n0.0%\\nFloat\",\"91%\\n±\\n3.8%\\nFloat\",\"6%\\n±\\n0.0%\\nFloat\",\"91%\\n±\\n2.7%\\nFloat\",\"100%\\n±\\n2.6%\\nDouble\",\"216%\\n±\\n19.9%\\nDouble\",\"21%\\n±\\n0.3%\\nDouble\",\"27%\\n±\\n0.0%\\nDouble\",\"119%\\n±\\n2.5%\\nDouble\",\"5%\\n±\\n0.0%\\nDouble\",\"112%\\n±\\n3.4%\\nDouble\"],\n\"type\":[\"Float\",\"Float\",\"Float\",\"Float\",\"Float\",\"Float\",\"Float\",\"Float\",\"Float\",\"Double\",\"Double\",\"Double\",\"Double\",\"Double\",\"Double\",\"Double\"],\n\"maxErr\":[3.2494684960053223E8,6.832158023149971E8,7.888526837167263E7,4.760192600512005E7,1.6099816802787575E8,1.0160789270467366E8,3.007371619462795E8,1.765723439149802E7,2.956962596114775E8,4.031923092066546E8,9.252865510689285E8,8.20180321616362E7,1.0664371314997797E8,4.7867621937656766E8,1.8653319098318566E7,4.5521875639231014E8]\n},\n\"ggsize\":{\n\"width\":800.0,\n\"height\":600.0\n},\n\"kind\":\"plot\",\n\"scales\":[{\n\"aesthetic\":\"x\",\n\"breaks\":[\"baselineFloat\",\"inlineFloat\",\"longPackFloat\",\"mutableSpecificRefFloat\",\"mutableUniversalRefFloatIn1Long\",\"mutableUniversalRefFloatIn2Longs\",\"valueFloat\",\"valueInlineFloat\",\"valuePreserveBoxFloat\",\"baselineDouble\",\"inlineDouble\",\"mutableSpecificRefDouble\",\"mutableUniversalRefDouble\",\"valueDouble\",\"valueInlineDouble\",\"valuePreserveBoxDouble\"],\n\"name\":\"Benchmark\",\n\"labels\":[\"baseline\",\"inline\",\"longPack\",\"mutableSpecificRef\",\"mutableUniversalRefIn1Long\",\"mutableUniversalRefIn2Longs\",\"value\",\"valueInline\",\"valuePreserveBox\",\"baseline\",\"inline\",\"mutableSpecificRef\",\"mutableUniversalRef\",\"value\",\"valueInline\",\"valuePreserveBox\"]\n},{\n\"aesthetic\":\"y\",\n\"name\":\"ns/op\",\n\"limits\":[null,null]\n},{\n\"aesthetic\":\"fill\",\n\"discrete\":true,\n\"name\":\"Type\",\n\"guide\":{\n\"name\":\"legend\"\n}\n},{\n\"aesthetic\":\"x\"\n},{\n\"aesthetic\":\"x\"\n},{\n\"aesthetic\":\"y\",\n\"limits\":[null,null]\n}],\n\"layers\":[{\n\"mapping\":{\n\"x\":\"name\",\n\"y\":\"score\",\n\"fill\":\"type\"\n},\n\"stat\":\"identity\",\n\"sampling\":\"none\",\n\"position\":\"dodge\",\n\"geom\":\"bar\",\n\"tooltips\":{\n\"lines\":[\"Type|@type\",\"Benchmark|@name\",\"Score|@score\"]\n},\n\"data\":{\n}\n},{\n\"mapping\":{\n\"x\":\"name\",\n\"ymin\":\"minErr\",\n\"ymax\":\"maxErr\"\n},\n\"stat\":\"identity\",\n\"sampling\":\"none\",\n\"width\":0.5,\n\"position\":\"identity\",\n\"geom\":\"errorbar\",\n\"data\":{\n}\n},{\n\"mapping\":{\n\"x\":\"name\",\n\"y\":\"textPosition\",\n\"label\":\"label\"\n},\n\"stat\":\"identity\",\n\"size\":4.8,\n\"sampling\":\"none\",\n\"position\":\"identity\",\n\"geom\":\"text\",\n\"data\":{\n}\n}],\n\"theme\":{\n\"flavor\":\"solarized_light\"\n}\n};\n       var plotContainer = document.getElementById(\"I4K6td\");\n       LetsPlot.buildPlotFromProcessedSpecs(plotSpec, -1, -1, plotContainer);\n   </script>    ",
      "application/plot+json": {
       "output_type": "lets_plot_spec",
       "output": {
        "ggtitle": {
         "text": "Wolf3d",
         "subtitle": "ART"
        },
        "mapping": {},
        "data": {
         "score": [
          3.15779168E8,
          6.6675085E8,
          7.7758232E7,
          4.7492788E7,
          1.59557776E8,
          1.01469152E8,
          2.88772032E8,
          1.761085E7,
          2.87181024E8,
          3.93032224E8,
          8.4710592E8,
          8.1016768E7,
          1.06563384E8,
          4.68825984E8,
          1.8635442E7,
          4.41777536E8
         ],
         "textPosition": [
          1.57889584E8,
          3.33375424E8,
          1.33275424E8,
          1.03009984E8,
          7.9778888E7,
          1.56986352E8,
          1.44386016E8,
          7.312804E7,
          1.43590512E8,
          1.96516112E8,
          4.2355296E8,
          1.36533968E8,
          1.62080576E8,
          2.34412992E8,
          7.4152632E7,
          2.20888768E8
         ],
         "name": [
          "baselineFloat",
          "inlineFloat",
          "longPackFloat",
          "mutableSpecificRefFloat",
          "mutableUniversalRefFloatIn1Long",
          "mutableUniversalRefFloatIn2Longs",
          "valueFloat",
          "valueInlineFloat",
          "valuePreserveBoxFloat",
          "baselineDouble",
          "inlineDouble",
          "mutableSpecificRefDouble",
          "mutableUniversalRefDouble",
          "valueDouble",
          "valueInlineDouble",
          "valuePreserveBoxDouble"
         ],
         "minErr": [
          3.06611488E8,
          6.5028595E8,
          7.6631192E7,
          4.7383652E7,
          1.58117376E8,
          1.01330416E8,
          2.76806912E8,
          1.7564466E7,
          2.78665824E8,
          3.8287216E8,
          7.6892525E8,
          8.0015504E7,
          1.06483056E8,
          4.58975744E8,
          1.8617566E7,
          4.2833632E8
         ],
         "label": [
          "100%\n±\n2.9%\nFloat",
          "211%\n±\n5.2%\nFloat",
          "25%\n±\n0.4%\nFloat",
          "15%\n±\n0.0%\nFloat",
          "51%\n±\n0.5%\nFloat",
          "32%\n±\n0.0%\nFloat",
          "91%\n±\n3.8%\nFloat",
          "6%\n±\n0.0%\nFloat",
          "91%\n±\n2.7%\nFloat",
          "100%\n±\n2.6%\nDouble",
          "216%\n±\n19.9%\nDouble",
          "21%\n±\n0.3%\nDouble",
          "27%\n±\n0.0%\nDouble",
          "119%\n±\n2.5%\nDouble",
          "5%\n±\n0.0%\nDouble",
          "112%\n±\n3.4%\nDouble"
         ],
         "type": [
          "Float",
          "Float",
          "Float",
          "Float",
          "Float",
          "Float",
          "Float",
          "Float",
          "Float",
          "Double",
          "Double",
          "Double",
          "Double",
          "Double",
          "Double",
          "Double"
         ],
         "maxErr": [
          3.24946848E8,
          6.8321581E8,
          7.8885272E7,
          4.7601928E7,
          1.60998176E8,
          1.01607896E8,
          3.00737152E8,
          1.7657234E7,
          2.95696256E8,
          4.0319232E8,
          9.2528653E8,
          8.2018032E7,
          1.06643712E8,
          4.78676224E8,
          1.865332E7,
          4.55218752E8
         ]
        },
        "ggsize": {
         "width": 800.0,
         "height": 600.0
        },
        "kind": "plot",
        "scales": [
         {
          "aesthetic": "x",
          "breaks": [
           "baselineFloat",
           "inlineFloat",
           "longPackFloat",
           "mutableSpecificRefFloat",
           "mutableUniversalRefFloatIn1Long",
           "mutableUniversalRefFloatIn2Longs",
           "valueFloat",
           "valueInlineFloat",
           "valuePreserveBoxFloat",
           "baselineDouble",
           "inlineDouble",
           "mutableSpecificRefDouble",
           "mutableUniversalRefDouble",
           "valueDouble",
           "valueInlineDouble",
           "valuePreserveBoxDouble"
          ],
          "name": "Benchmark",
          "labels": [
           "baseline",
           "inline",
           "longPack",
           "mutableSpecificRef",
           "mutableUniversalRefIn1Long",
           "mutableUniversalRefIn2Longs",
           "value",
           "valueInline",
           "valuePreserveBox",
           "baseline",
           "inline",
           "mutableSpecificRef",
           "mutableUniversalRef",
           "value",
           "valueInline",
           "valuePreserveBox"
          ]
         },
         {
          "aesthetic": "y",
          "name": "ns/op",
          "limits": [
           null,
           null
          ]
         },
         {
          "aesthetic": "fill",
          "discrete": true,
          "name": "Type",
          "guide": {
           "name": "legend"
          }
         },
         {
          "aesthetic": "x"
         },
         {
          "aesthetic": "x"
         },
         {
          "aesthetic": "y",
          "limits": [
           null,
           null
          ]
         }
        ],
        "layers": [
         {
          "mapping": {
           "x": "name",
           "y": "score",
           "fill": "type"
          },
          "stat": "identity",
          "sampling": "none",
          "position": "dodge",
          "geom": "bar",
          "tooltips": {
           "lines": [
            "Type|@type",
            "Benchmark|@name",
            "Score|@score"
           ]
          }
         },
         {
          "mapping": {
           "x": "name",
           "ymin": "minErr",
           "ymax": "maxErr"
          },
          "stat": "identity",
          "sampling": "none",
          "width": 0.5,
          "position": "identity",
          "geom": "errorbar"
         },
         {
          "mapping": {
           "x": "name",
           "y": "textPosition",
           "label": "label"
          },
          "stat": "identity",
          "size": 4.8,
          "sampling": "none",
          "position": "identity",
          "geom": "text"
         }
        ],
        "theme": {
         "flavor": "solarized_light"
        }
       },
       "apply_color_scheme": true,
       "swing_enabled": true
      }
     },
     "metadata": {},
     "output_type": "display_data"
    },
    {
     "data": {
      "text/html": "            <script type=\"text/javascript\" data-lets-plot-script=\"library\" src=\"https://cdn.jsdelivr.net/gh/JetBrains/lets-plot@v3.1.0/js-package/distr/lets-plot.min.js\"></script>    \n               <div id=\"kXb7pF\"></div>\n   <script type=\"text/javascript\" data-lets-plot-script=\"plot\">\n       var plotSpec={\n\"ggtitle\":{\n\"text\":\"Ackermann\",\n\"subtitle\":\"ART\"\n},\n\"mapping\":{\n},\n\"data\":{\n\"score\":[75808.07012195123,14090.56996799431,21928.603279111798,23604.055093555093,22854.09073975519,43663.98981399469,45806.53946813001,94417.88756613756,35567.942956120096,35455.65621156212,89764.12039045553,92165.89937943262,78111.98484848485,21346.70530688823,24397.379436516647,26565.956759149944,26169.266273041474,45554.70582379293,48774.95400183993,102287.9017288444,34733.89569973595,35996.10502019619,111341.83018867925,111984.67101449275],\n\"textPosition\":[37904.03506097561,7045.284983997155,10964.301639555899,11802.027546777546,11427.045369877595,21831.994906997345,22903.269734065005,47208.94378306878,17783.971478060048,17727.82810578106,44882.060195227765,46082.94968971631,39055.992424242424,10673.352653444115,12198.689718258323,13282.978379574972,13084.633136520737,22777.352911896465,24387.477000919964,51143.9508644222,17366.947849867975,17998.052510098096,55670.91509433962,55992.335507246375],\n\"name\":[\"baselineInt\",\"longPackInt\",\"mutableSpecificRefInt\",\"mutableUniversalRefIntIn1Long\",\"mutableUniversalRefIntIn2Longs\",\"valueInt\",\"valuePreserveBoxInt\",\"baselineLong\",\"mutableSpecificRefLong\",\"mutableUniversalRefLong\",\"valueLong\",\"valuePreserveBoxLong\",\"baselineFloat\",\"longPackFloat\",\"mutableSpecificRefFloat\",\"mutableUniversalRefFloatIn1Long\",\"mutableUniversalRefFloatIn2Longs\",\"valueFloat\",\"valuePreserveBoxFloat\",\"baselineDouble\",\"mutableSpecificRefDouble\",\"mutableUniversalRefDouble\",\"valueDouble\",\"valuePreserveBoxDouble\"],\n\"minErr\":[72366.93310028182,14009.362116097733,21523.465079269015,22704.383607496886,22097.97471425856,41378.82071462502,43772.34432762875,90654.57124261503,33785.089411886496,34612.70057963924,87400.0862001847,90237.31531452663,75458.4570562788,20872.604362795824,23504.328861579925,25492.68318380383,25005.740046176314,43879.743515076196,46943.10832638475,96817.49518548159,33082.13102465671,33602.19078063264,107209.88882455081,108308.967125488],\n\"label\":[\"100%\\n±\\n4.5%\\nInt\",\"19%\\n±\\n0.1%\\nInt\",\"29%\\n±\\n0.5%\\nInt\",\"31%\\n±\\n1.2%\\nInt\",\"30%\\n±\\n1.0%\\nInt\",\"58%\\n±\\n3.0%\\nInt\",\"60%\\n±\\n2.7%\\nInt\",\"100%\\n±\\n4.0%\\nLong\",\"38%\\n±\\n1.9%\\nLong\",\"38%\\n±\\n0.9%\\nLong\",\"95%\\n±\\n2.5%\\nLong\",\"98%\\n±\\n2.0%\\nLong\",\"100%\\n±\\n3.4%\\nFloat\",\"27%\\n±\\n0.6%\\nFloat\",\"31%\\n±\\n1.1%\\nFloat\",\"34%\\n±\\n1.4%\\nFloat\",\"34%\\n±\\n1.5%\\nFloat\",\"58%\\n±\\n2.1%\\nFloat\",\"62%\\n±\\n2.3%\\nFloat\",\"100%\\n±\\n5.3%\\nDouble\",\"34%\\n±\\n1.6%\\nDouble\",\"35%\\n±\\n2.3%\\nDouble\",\"109%\\n±\\n4.0%\\nDouble\",\"109%\\n±\\n3.6%\\nDouble\"],\n\"type\":[\"Int\",\"Int\",\"Int\",\"Int\",\"Int\",\"Int\",\"Int\",\"Long\",\"Long\",\"Long\",\"Long\",\"Long\",\"Float\",\"Float\",\"Float\",\"Float\",\"Float\",\"Float\",\"Float\",\"Double\",\"Double\",\"Double\",\"Double\",\"Double\"],\n\"maxErr\":[79249.20714362063,14171.777819890887,22333.74147895458,24503.7265796133,23610.20676525182,45949.15891336436,47840.73460863127,98181.2038896601,37350.796500353696,36298.611843485,92128.15458072636,94094.48344433862,80765.5126406909,21820.806250980637,25290.43001145337,27639.230334496056,27332.792499906634,47229.668132509665,50606.79967729511,107758.30827220721,36385.66037481519,38390.01925975974,115473.77155280768,115660.3749034975]\n},\n\"ggsize\":{\n\"width\":800.0,\n\"height\":600.0\n},\n\"kind\":\"plot\",\n\"scales\":[{\n\"aesthetic\":\"x\",\n\"breaks\":[\"baselineInt\",\"longPackInt\",\"mutableSpecificRefInt\",\"mutableUniversalRefIntIn1Long\",\"mutableUniversalRefIntIn2Longs\",\"valueInt\",\"valuePreserveBoxInt\",\"baselineLong\",\"mutableSpecificRefLong\",\"mutableUniversalRefLong\",\"valueLong\",\"valuePreserveBoxLong\",\"baselineFloat\",\"longPackFloat\",\"mutableSpecificRefFloat\",\"mutableUniversalRefFloatIn1Long\",\"mutableUniversalRefFloatIn2Longs\",\"valueFloat\",\"valuePreserveBoxFloat\",\"baselineDouble\",\"mutableSpecificRefDouble\",\"mutableUniversalRefDouble\",\"valueDouble\",\"valuePreserveBoxDouble\"],\n\"name\":\"Benchmark\",\n\"labels\":[\"baseline\",\"longPack\",\"mutableSpecificRef\",\"mutableUniversalRefIn1Long\",\"mutableUniversalRefIn2Longs\",\"value\",\"valuePreserveBox\",\"baseline\",\"mutableSpecificRef\",\"mutableUniversalRef\",\"value\",\"valuePreserveBox\",\"baseline\",\"longPack\",\"mutableSpecificRef\",\"mutableUniversalRefIn1Long\",\"mutableUniversalRefIn2Longs\",\"value\",\"valuePreserveBox\",\"baseline\",\"mutableSpecificRef\",\"mutableUniversalRef\",\"value\",\"valuePreserveBox\"]\n},{\n\"aesthetic\":\"y\",\n\"name\":\"ns/op\",\n\"limits\":[null,null]\n},{\n\"aesthetic\":\"fill\",\n\"discrete\":true,\n\"name\":\"Type\",\n\"guide\":{\n\"name\":\"legend\"\n}\n},{\n\"aesthetic\":\"x\"\n},{\n\"aesthetic\":\"x\"\n},{\n\"aesthetic\":\"y\",\n\"limits\":[null,null]\n}],\n\"layers\":[{\n\"mapping\":{\n\"x\":\"name\",\n\"y\":\"score\",\n\"fill\":\"type\"\n},\n\"stat\":\"identity\",\n\"sampling\":\"none\",\n\"position\":\"dodge\",\n\"geom\":\"bar\",\n\"tooltips\":{\n\"lines\":[\"Type|@type\",\"Benchmark|@name\",\"Score|@score\"]\n},\n\"data\":{\n}\n},{\n\"mapping\":{\n\"x\":\"name\",\n\"ymin\":\"minErr\",\n\"ymax\":\"maxErr\"\n},\n\"stat\":\"identity\",\n\"sampling\":\"none\",\n\"width\":0.5,\n\"position\":\"identity\",\n\"geom\":\"errorbar\",\n\"data\":{\n}\n},{\n\"mapping\":{\n\"x\":\"name\",\n\"y\":\"textPosition\",\n\"label\":\"label\"\n},\n\"stat\":\"identity\",\n\"size\":3.2,\n\"sampling\":\"none\",\n\"position\":\"identity\",\n\"geom\":\"text\",\n\"data\":{\n}\n}],\n\"theme\":{\n\"flavor\":\"solarized_light\"\n}\n};\n       var plotContainer = document.getElementById(\"kXb7pF\");\n       LetsPlot.buildPlotFromProcessedSpecs(plotSpec, -1, -1, plotContainer);\n   </script>    ",
      "application/plot+json": {
       "output_type": "lets_plot_spec",
       "output": {
        "ggtitle": {
         "text": "Ackermann",
         "subtitle": "ART"
        },
        "mapping": {},
        "data": {
         "score": [
          75808.07,
          14090.57,
          21928.604,
          23604.055,
          22854.09,
          43663.99,
          45806.54,
          94417.89,
          35567.94,
          35455.656,
          89764.12,
          92165.9,
          78111.984,
          21346.705,
          24397.379,
          26565.957,
          26169.266,
          45554.707,
          48774.953,
          102287.9,
          34733.895,
          35996.105,
          111341.83,
          111984.67
         ],
         "textPosition": [
          37904.035,
          7045.285,
          10964.302,
          11802.027,
          11427.045,
          21831.994,
          22903.27,
          47208.945,
          17783.97,
          17727.828,
          44882.06,
          46082.95,
          39055.992,
          10673.353,
          12198.689,
          13282.979,
          13084.633,
          22777.354,
          24387.477,
          51143.95,
          17366.947,
          17998.053,
          55670.914,
          55992.336
         ],
         "name": [
          "baselineInt",
          "longPackInt",
          "mutableSpecificRefInt",
          "mutableUniversalRefIntIn1Long",
          "mutableUniversalRefIntIn2Longs",
          "valueInt",
          "valuePreserveBoxInt",
          "baselineLong",
          "mutableSpecificRefLong",
          "mutableUniversalRefLong",
          "valueLong",
          "valuePreserveBoxLong",
          "baselineFloat",
          "longPackFloat",
          "mutableSpecificRefFloat",
          "mutableUniversalRefFloatIn1Long",
          "mutableUniversalRefFloatIn2Longs",
          "valueFloat",
          "valuePreserveBoxFloat",
          "baselineDouble",
          "mutableSpecificRefDouble",
          "mutableUniversalRefDouble",
          "valueDouble",
          "valuePreserveBoxDouble"
         ],
         "minErr": [
          72366.93,
          14009.362,
          21523.465,
          22704.383,
          22097.975,
          41378.82,
          43772.344,
          90654.57,
          33785.09,
          34612.7,
          87400.086,
          90237.31,
          75458.46,
          20872.604,
          23504.328,
          25492.684,
          25005.74,
          43879.742,
          46943.11,
          96817.49,
          33082.133,
          33602.19,
          107209.89,
          108308.97
         ],
         "label": [
          "100%\n±\n4.5%\nInt",
          "19%\n±\n0.1%\nInt",
          "29%\n±\n0.5%\nInt",
          "31%\n±\n1.2%\nInt",
          "30%\n±\n1.0%\nInt",
          "58%\n±\n3.0%\nInt",
          "60%\n±\n2.7%\nInt",
          "100%\n±\n4.0%\nLong",
          "38%\n±\n1.9%\nLong",
          "38%\n±\n0.9%\nLong",
          "95%\n±\n2.5%\nLong",
          "98%\n±\n2.0%\nLong",
          "100%\n±\n3.4%\nFloat",
          "27%\n±\n0.6%\nFloat",
          "31%\n±\n1.1%\nFloat",
          "34%\n±\n1.4%\nFloat",
          "34%\n±\n1.5%\nFloat",
          "58%\n±\n2.1%\nFloat",
          "62%\n±\n2.3%\nFloat",
          "100%\n±\n5.3%\nDouble",
          "34%\n±\n1.6%\nDouble",
          "35%\n±\n2.3%\nDouble",
          "109%\n±\n4.0%\nDouble",
          "109%\n±\n3.6%\nDouble"
         ],
         "type": [
          "Int",
          "Int",
          "Int",
          "Int",
          "Int",
          "Int",
          "Int",
          "Long",
          "Long",
          "Long",
          "Long",
          "Long",
          "Float",
          "Float",
          "Float",
          "Float",
          "Float",
          "Float",
          "Float",
          "Double",
          "Double",
          "Double",
          "Double",
          "Double"
         ],
         "maxErr": [
          79249.21,
          14171.777,
          22333.742,
          24503.727,
          23610.207,
          45949.16,
          47840.734,
          98181.2,
          37350.797,
          36298.613,
          92128.16,
          94094.484,
          80765.516,
          21820.807,
          25290.43,
          27639.23,
          27332.793,
          47229.668,
          50606.8,
          107758.305,
          36385.66,
          38390.02,
          115473.77,
          115660.375
         ]
        },
        "ggsize": {
         "width": 800.0,
         "height": 600.0
        },
        "kind": "plot",
        "scales": [
         {
          "aesthetic": "x",
          "breaks": [
           "baselineInt",
           "longPackInt",
           "mutableSpecificRefInt",
           "mutableUniversalRefIntIn1Long",
           "mutableUniversalRefIntIn2Longs",
           "valueInt",
           "valuePreserveBoxInt",
           "baselineLong",
           "mutableSpecificRefLong",
           "mutableUniversalRefLong",
           "valueLong",
           "valuePreserveBoxLong",
           "baselineFloat",
           "longPackFloat",
           "mutableSpecificRefFloat",
           "mutableUniversalRefFloatIn1Long",
           "mutableUniversalRefFloatIn2Longs",
           "valueFloat",
           "valuePreserveBoxFloat",
           "baselineDouble",
           "mutableSpecificRefDouble",
           "mutableUniversalRefDouble",
           "valueDouble",
           "valuePreserveBoxDouble"
          ],
          "name": "Benchmark",
          "labels": [
           "baseline",
           "longPack",
           "mutableSpecificRef",
           "mutableUniversalRefIn1Long",
           "mutableUniversalRefIn2Longs",
           "value",
           "valuePreserveBox",
           "baseline",
           "mutableSpecificRef",
           "mutableUniversalRef",
           "value",
           "valuePreserveBox",
           "baseline",
           "longPack",
           "mutableSpecificRef",
           "mutableUniversalRefIn1Long",
           "mutableUniversalRefIn2Longs",
           "value",
           "valuePreserveBox",
           "baseline",
           "mutableSpecificRef",
           "mutableUniversalRef",
           "value",
           "valuePreserveBox"
          ]
         },
         {
          "aesthetic": "y",
          "name": "ns/op",
          "limits": [
           null,
           null
          ]
         },
         {
          "aesthetic": "fill",
          "discrete": true,
          "name": "Type",
          "guide": {
           "name": "legend"
          }
         },
         {
          "aesthetic": "x"
         },
         {
          "aesthetic": "x"
         },
         {
          "aesthetic": "y",
          "limits": [
           null,
           null
          ]
         }
        ],
        "layers": [
         {
          "mapping": {
           "x": "name",
           "y": "score",
           "fill": "type"
          },
          "stat": "identity",
          "sampling": "none",
          "position": "dodge",
          "geom": "bar",
          "tooltips": {
           "lines": [
            "Type|@type",
            "Benchmark|@name",
            "Score|@score"
           ]
          }
         },
         {
          "mapping": {
           "x": "name",
           "ymin": "minErr",
           "ymax": "maxErr"
          },
          "stat": "identity",
          "sampling": "none",
          "width": 0.5,
          "position": "identity",
          "geom": "errorbar"
         },
         {
          "mapping": {
           "x": "name",
           "y": "textPosition",
           "label": "label"
          },
          "stat": "identity",
          "size": 3.2,
          "sampling": "none",
          "position": "identity",
          "geom": "text"
         }
        ],
        "theme": {
         "flavor": "solarized_light"
        }
       },
       "apply_color_scheme": true,
       "swing_enabled": true
      }
     },
     "metadata": {},
     "output_type": "display_data"
    },
    {
     "data": {
      "text/html": "            <script type=\"text/javascript\" data-lets-plot-script=\"library\" src=\"https://cdn.jsdelivr.net/gh/JetBrains/lets-plot@v3.1.0/js-package/distr/lets-plot.min.js\"></script>    \n               <div id=\"Fe0Wod\"></div>\n   <script type=\"text/javascript\" data-lets-plot-script=\"plot\">\n       var plotSpec={\n\"ggtitle\":{\n\"text\":\"BoxRecreation\",\n\"subtitle\":\"ART\"\n},\n\"mapping\":{\n},\n\"data\":{\n\"score\":[532.6938228354901,2921.434734909547,3080.5311241570034,522.7599638002627,612.7381290872903,4113.340300776372,609.5194924076534,547.8715451174289,2859.365821724102,2806.7325996430695,527.4263630532392,623.7141344725112,3995.057335677423,612.6814213162654],\n\"textPosition\":[266.34691141774505,1460.7173674547735,1540.2655620785017,785.8676152389693,306.36906454364515,2056.670150388186,304.7597462038267,273.93577255871446,1429.682910862051,1403.3662998215348,263.7131815266196,311.8570672362556,1997.5286678387115,306.3407106581327],\n\"name\":[\"baselineInt\",\"longPackInt\",\"valueInt\",\"valuePreserveBoxInt\",\"baselineLong\",\"valueLong\",\"valuePreserveBoxLong\",\"baselineFloat\",\"longPackFloat\",\"valueFloat\",\"valuePreserveBoxFloat\",\"baselineDouble\",\"valueDouble\",\"valuePreserveBoxDouble\"],\n\"minErr\":[511.5032425450811,2785.1320904366676,2948.331365572247,492.83459891268296,554.1520477351363,3841.5530775743005,585.7037357285723,512.4955620857451,2717.880466034956,2713.178781982694,507.06664564146223,551.4214199453083,3694.5575613562623,563.8372755222863],\n\"label\":[\"100%\\n±\\n4.0%\\nInt\",\"548%\\n±\\n25.6%\\nInt\",\"578%\\n±\\n24.8%\\nInt\",\"98%\\n±\\n5.6%\\nInt\",\"100%\\n±\\n9.6%\\nLong\",\"671%\\n±\\n44.4%\\nLong\",\"99%\\n±\\n3.9%\\nLong\",\"100%\\n±\\n6.5%\\nFloat\",\"522%\\n±\\n25.8%\\nFloat\",\"512%\\n±\\n17.1%\\nFloat\",\"96%\\n±\\n3.7%\\nFloat\",\"100%\\n±\\n11.6%\\nDouble\",\"641%\\n±\\n48.2%\\nDouble\",\"98%\\n±\\n7.8%\\nDouble\"],\n\"type\":[\"Int\",\"Int\",\"Int\",\"Int\",\"Long\",\"Long\",\"Long\",\"Float\",\"Float\",\"Float\",\"Float\",\"Double\",\"Double\",\"Double\"],\n\"maxErr\":[553.8844031258991,3057.7373793824263,3212.73088274176,552.6853286878423,671.3242104394443,4385.127523978444,633.3352490867345,583.2475281491128,3000.8511774132476,2900.286417303445,547.7860804650162,696.0068489997141,4295.557109998584,661.5255671102445]\n},\n\"ggsize\":{\n\"width\":800.0,\n\"height\":600.0\n},\n\"kind\":\"plot\",\n\"scales\":[{\n\"aesthetic\":\"x\",\n\"breaks\":[\"baselineInt\",\"longPackInt\",\"valueInt\",\"valuePreserveBoxInt\",\"baselineLong\",\"valueLong\",\"valuePreserveBoxLong\",\"baselineFloat\",\"longPackFloat\",\"valueFloat\",\"valuePreserveBoxFloat\",\"baselineDouble\",\"valueDouble\",\"valuePreserveBoxDouble\"],\n\"name\":\"Benchmark\",\n\"labels\":[\"baseline\",\"longPack\",\"value\",\"valuePreserveBox\",\"baseline\",\"value\",\"valuePreserveBox\",\"baseline\",\"longPack\",\"value\",\"valuePreserveBox\",\"baseline\",\"value\",\"valuePreserveBox\"]\n},{\n\"aesthetic\":\"y\",\n\"name\":\"ns/op\",\n\"limits\":[null,null]\n},{\n\"aesthetic\":\"fill\",\n\"discrete\":true,\n\"name\":\"Type\",\n\"guide\":{\n\"name\":\"legend\"\n}\n},{\n\"aesthetic\":\"x\"\n},{\n\"aesthetic\":\"x\"\n},{\n\"aesthetic\":\"y\",\n\"limits\":[null,null]\n}],\n\"layers\":[{\n\"mapping\":{\n\"x\":\"name\",\n\"y\":\"score\",\n\"fill\":\"type\"\n},\n\"stat\":\"identity\",\n\"sampling\":\"none\",\n\"position\":\"dodge\",\n\"geom\":\"bar\",\n\"tooltips\":{\n\"lines\":[\"Type|@type\",\"Benchmark|@name\",\"Score|@score\"]\n},\n\"data\":{\n}\n},{\n\"mapping\":{\n\"x\":\"name\",\n\"ymin\":\"minErr\",\n\"ymax\":\"maxErr\"\n},\n\"stat\":\"identity\",\n\"sampling\":\"none\",\n\"width\":0.5,\n\"position\":\"identity\",\n\"geom\":\"errorbar\",\n\"data\":{\n}\n},{\n\"mapping\":{\n\"x\":\"name\",\n\"y\":\"textPosition\",\n\"label\":\"label\"\n},\n\"stat\":\"identity\",\n\"size\":5.2,\n\"sampling\":\"none\",\n\"position\":\"identity\",\n\"geom\":\"text\",\n\"data\":{\n}\n}],\n\"theme\":{\n\"flavor\":\"solarized_light\"\n}\n};\n       var plotContainer = document.getElementById(\"Fe0Wod\");\n       LetsPlot.buildPlotFromProcessedSpecs(plotSpec, -1, -1, plotContainer);\n   </script>    ",
      "application/plot+json": {
       "output_type": "lets_plot_spec",
       "output": {
        "ggtitle": {
         "text": "BoxRecreation",
         "subtitle": "ART"
        },
        "mapping": {},
        "data": {
         "score": [
          532.69385,
          2921.4348,
          3080.531,
          522.75995,
          612.73816,
          4113.3403,
          609.5195,
          547.8715,
          2859.3657,
          2806.7327,
          527.4264,
          623.7141,
          3995.0574,
          612.6814
         ],
         "textPosition": [
          266.34692,
          1460.7174,
          1540.2655,
          785.8676,
          306.36908,
          2056.6702,
          304.75974,
          273.93576,
          1429.6829,
          1403.3663,
          263.7132,
          311.85706,
          1997.5287,
          306.3407
         ],
         "name": [
          "baselineInt",
          "longPackInt",
          "valueInt",
          "valuePreserveBoxInt",
          "baselineLong",
          "valueLong",
          "valuePreserveBoxLong",
          "baselineFloat",
          "longPackFloat",
          "valueFloat",
          "valuePreserveBoxFloat",
          "baselineDouble",
          "valueDouble",
          "valuePreserveBoxDouble"
         ],
         "minErr": [
          511.50323,
          2785.132,
          2948.3313,
          492.8346,
          554.15204,
          3841.553,
          585.70374,
          512.49554,
          2717.8804,
          2713.1787,
          507.06665,
          551.42145,
          3694.5576,
          563.8373
         ],
         "label": [
          "100%\n±\n4.0%\nInt",
          "548%\n±\n25.6%\nInt",
          "578%\n±\n24.8%\nInt",
          "98%\n±\n5.6%\nInt",
          "100%\n±\n9.6%\nLong",
          "671%\n±\n44.4%\nLong",
          "99%\n±\n3.9%\nLong",
          "100%\n±\n6.5%\nFloat",
          "522%\n±\n25.8%\nFloat",
          "512%\n±\n17.1%\nFloat",
          "96%\n±\n3.7%\nFloat",
          "100%\n±\n11.6%\nDouble",
          "641%\n±\n48.2%\nDouble",
          "98%\n±\n7.8%\nDouble"
         ],
         "type": [
          "Int",
          "Int",
          "Int",
          "Int",
          "Long",
          "Long",
          "Long",
          "Float",
          "Float",
          "Float",
          "Float",
          "Double",
          "Double",
          "Double"
         ],
         "maxErr": [
          553.8844,
          3057.7373,
          3212.731,
          552.6853,
          671.3242,
          4385.1274,
          633.33527,
          583.24756,
          3000.851,
          2900.2864,
          547.7861,
          696.00684,
          4295.557,
          661.5256
         ]
        },
        "ggsize": {
         "width": 800.0,
         "height": 600.0
        },
        "kind": "plot",
        "scales": [
         {
          "aesthetic": "x",
          "breaks": [
           "baselineInt",
           "longPackInt",
           "valueInt",
           "valuePreserveBoxInt",
           "baselineLong",
           "valueLong",
           "valuePreserveBoxLong",
           "baselineFloat",
           "longPackFloat",
           "valueFloat",
           "valuePreserveBoxFloat",
           "baselineDouble",
           "valueDouble",
           "valuePreserveBoxDouble"
          ],
          "name": "Benchmark",
          "labels": [
           "baseline",
           "longPack",
           "value",
           "valuePreserveBox",
           "baseline",
           "value",
           "valuePreserveBox",
           "baseline",
           "longPack",
           "value",
           "valuePreserveBox",
           "baseline",
           "value",
           "valuePreserveBox"
          ]
         },
         {
          "aesthetic": "y",
          "name": "ns/op",
          "limits": [
           null,
           null
          ]
         },
         {
          "aesthetic": "fill",
          "discrete": true,
          "name": "Type",
          "guide": {
           "name": "legend"
          }
         },
         {
          "aesthetic": "x"
         },
         {
          "aesthetic": "x"
         },
         {
          "aesthetic": "y",
          "limits": [
           null,
           null
          ]
         }
        ],
        "layers": [
         {
          "mapping": {
           "x": "name",
           "y": "score",
           "fill": "type"
          },
          "stat": "identity",
          "sampling": "none",
          "position": "dodge",
          "geom": "bar",
          "tooltips": {
           "lines": [
            "Type|@type",
            "Benchmark|@name",
            "Score|@score"
           ]
          }
         },
         {
          "mapping": {
           "x": "name",
           "ymin": "minErr",
           "ymax": "maxErr"
          },
          "stat": "identity",
          "sampling": "none",
          "width": 0.5,
          "position": "identity",
          "geom": "errorbar"
         },
         {
          "mapping": {
           "x": "name",
           "y": "textPosition",
           "label": "label"
          },
          "stat": "identity",
          "size": 5.2,
          "sampling": "none",
          "position": "identity",
          "geom": "text"
         }
        ],
        "theme": {
         "flavor": "solarized_light"
        }
       },
       "apply_color_scheme": true,
       "swing_enabled": true
      }
     },
     "metadata": {},
     "output_type": "display_data"
    }
   ],
   "source": [
    "makePlot(\"Wolf3d\", \"ART\", readArtBenchmarkData(\"Wolf3dBenchmark\"))?.let { DISPLAY(it) }\n",
    "makePlot(\"Ackermann\", \"ART\", readArtBenchmarkData(\"AckermannBenchmark\"))?.let { DISPLAY(it) }\n",
    "makePlot(\"BoxRecreation\", \"ART\", readArtBenchmarkData(\"BoxRecreationBenchmark\"))?.let { DISPLAY(it) }"
   ],
   "metadata": {
    "collapsed": false,
    "ExecuteTime": {
     "end_time": "2023-05-19T01:48:47.867957Z",
     "start_time": "2023-05-19T01:48:46.902691Z"
    }
   }
  }
 ],
 "metadata": {
  "kernelspec": {
   "display_name": "Kotlin",
   "language": "kotlin",
   "name": "kotlin"
  },
  "language_info": {
   "name": "kotlin",
   "version": "1.8.0",
   "mimetype": "text/x-kotlin",
   "file_extension": ".kt",
   "pygments_lexer": "kotlin",
   "codemirror_mode": "text/x-kotlin",
   "nbconvert_exporter": ""
  },
  "ktnbPluginMetadata": {
   "isAddProjectLibrariesToClasspath": false
  }
 },
 "nbformat": 4,
 "nbformat_minor": 0
}
