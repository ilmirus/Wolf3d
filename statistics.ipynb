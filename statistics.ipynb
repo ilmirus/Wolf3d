{
 "cells": [
  {
   "cell_type": "code",
   "execution_count": 1,
   "metadata": {
    "collapsed": true,
    "ExecuteTime": {
     "start_time": "2023-04-16T07:04:49.952776Z",
     "end_time": "2023-04-16T07:04:50.774910Z"
    }
   },
   "outputs": [
    {
     "data": {
      "text/plain": "baselineDouble: 917835.788 ± 2297.417 ns/op\nbaselineFloat: 890312.969 ± 1636.437 ns/op\ninlineDouble: 916968.087 ± 2338.012 ns/op\ninlineFloat: 898776.711 ± 2532.563 ns/op\nlongPackFloat: 1591993.034 ± 683.825 ns/op\nmutableRefDouble: 644314.935 ± 2209.507 ns/op\nmutableRefFloatIn1Long: 1551868.621 ± 552.106 ns/op\nmutableRefFloatIn2Longs: 643496.128 ± 936.294 ns/op\nvalueDouble: 670610.691 ± 886.765 ns/op\nvalueFloat: 665058.83 ± 7302.755 ns/op\nvalueInlineDouble: 645546.683 ± 800.916 ns/op\nvalueInlineFloat: 672885.812 ± 8046.276 ns/op\nvaluePreserveBoxDouble: 644801.406 ± 684.261 ns/op\nvaluePreserveBoxFloat: 667967.836 ± 9624.674 ns/op\nbaselineInt: 379.562 ± 2.372 ns/op\nbaselineLong: 403.359 ± 3.133 ns/op\nlongPackInt: 188.212 ± 0.541 ns/op\nmutableRefIntIn1Long: 299.232 ± 0.773 ns/op\nmutableRefIntIn2Longs: 249.907 ± 1.374 ns/op\nmutableRefLong: 238.002 ± 1.016 ns/op\nvalueInt: 357.104 ± 0.745 ns/op\nvalueLong: 360.018 ± 1.989 ns/op\nvaluePreserveBoxInt: 356.658 ± 0.522 ns/op\nvaluePreserveBoxLong: 359.023 ± 0.531 ns/op"
     },
     "execution_count": 1,
     "metadata": {},
     "output_type": "execute_result"
    }
   ],
   "source": [
    "import java.nio.file.Files\n",
    "import java.nio.file.Path\n",
    "\n",
    "data class BenchmarkData(val name: String, val score: Double, val error: Double) {\n",
    "    override fun toString(): String = \"$name: $score ± $error ns/op\"\n",
    "}\n",
    "\n",
    "fun readHotspotBenchmarkData(benchmarkName: String) = Files.readAllLines(Path.of(\"build\", \"results\", \"jmh\", \"results.txt\"))\n",
    "    .mapNotNull {\n",
    "        val r = Regex(\"$benchmarkName\\\\.([^ ]+) +avgt +\\\\d+ +([0-9.]+) +± +([0-9.]+) +ns/op\")\n",
    "        val match = r.matchEntire(it) ?: return@mapNotNull null\n",
    "        BenchmarkData(\n",
    "            match.groups[1]!!.value,\n",
    "            match.groups[2]!!.value.toDouble(),\n",
    "            match.groups[3]!!.value.toDouble(),\n",
    "        )\n",
    "    }\n",
    "(readHotspotBenchmarkData(\"Wolf3dBenchmark\") + readHotspotBenchmarkData(\"FibonacciBenchmark\")).joinToString(\"\\n\")"
   ]
  },
  {
   "cell_type": "code",
   "execution_count": 2,
   "outputs": [
    {
     "data": {
      "text/html": "   <div id=\"0ApzWA\"></div>\n   <script type=\"text/javascript\" data-lets-plot-script=\"library\">\n       if(!window.letsPlotCallQueue) {\n           window.letsPlotCallQueue = [];\n       }; \n       window.letsPlotCall = function(f) {\n           window.letsPlotCallQueue.push(f);\n       };\n       (function() {\n           var script = document.createElement(\"script\");\n           script.type = \"text/javascript\";\n           script.src = \"https://cdn.jsdelivr.net/gh/JetBrains/lets-plot@v3.0.0/js-package/distr/lets-plot.min.js\";\n           script.onload = function() {\n               window.letsPlotCall = function(f) {f();};\n               window.letsPlotCallQueue.forEach(function(f) {f();});\n               window.letsPlotCallQueue = [];\n               \n               \n           };\n           script.onerror = function(event) {\n               window.letsPlotCall = function(f) {};\n               window.letsPlotCallQueue = [];\n               var div = document.createElement(\"div\");\n               div.style.color = 'darkred';\n               div.textContent = 'Error loading Lets-Plot JS';\n               document.getElementById(\"0ApzWA\").appendChild(div);\n           };\n           var e = document.getElementById(\"0ApzWA\");\n           e.appendChild(script);\n       })();\n   </script>"
     },
     "metadata": {},
     "output_type": "display_data"
    }
   ],
   "source": [
    "%use lets-plot"
   ],
   "metadata": {
    "collapsed": false,
    "ExecuteTime": {
     "start_time": "2023-04-16T07:04:50.759338Z",
     "end_time": "2023-04-16T07:04:53.880542Z"
    }
   }
  },
  {
   "cell_type": "code",
   "execution_count": 3,
   "outputs": [],
   "source": [
    "import org.jetbrains.letsPlot.intern.PosKind\n",
    "import org.jetbrains.letsPlot.intern.StatKind\n",
    "import org.jetbrains.letsPlot.intern.layer.PosOptions\n",
    "import org.jetbrains.letsPlot.intern.layer.StatOptions\n",
    "\n",
    "fun makePlot(name: String, platform: String, benchmarkLines: List<BenchmarkData>) {\n",
    "    if (benchmarkLines.isEmpty()) return\n",
    "    val names = benchmarkLines.map { it.name }\n",
    "    val scores = benchmarkLines.map { it.score }\n",
    "    val scoresMinusErrors = benchmarkLines.map { it.score - it.error / 2 }\n",
    "    val scoresPlusErrors = benchmarkLines.map { it.score + it.error / 2 }\n",
    "    val baseline = listOf(\"Float\", \"Double\", \"Int\", \"Long\").mapNotNull { type ->\n",
    "        val result = benchmarkLines.singleOrNull { it.name == \"baseline$type\" }\n",
    "        if (result != null) type to result else null\n",
    "    }.toMap()\n",
    "    val maxScore = scoresPlusErrors.max()\n",
    "    val plot = letsPlot() +\n",
    "            labs(\"$name ($platform)\", fill = \"Benchmark\", y = \"ns/op\") +\n",
    "            geomBar(stat = StatOptions(kind = StatKind.IDENTITY)) {\n",
    "                x = names\n",
    "                y = scores\n",
    "                fill = names\n",
    "            } +\n",
    "            geomErrorBar(\n",
    "                width = 0.5,\n",
    "                position = PosOptions(kind = PosKind.DODGE),\n",
    "                size = 0.6\n",
    "            ) {\n",
    "                x = names\n",
    "                ymin = scoresMinusErrors\n",
    "                ymax = scoresPlusErrors\n",
    "            } +\n",
    "            geomText(\n",
    "                stat = StatOptions(kind = StatKind.IDENTITY),\n",
    "                position = positionStack(vjust = 1.0),\n",
    "                size = 5,\n",
    "            ) {\n",
    "                x = names\n",
    "                y = scores.map {\n",
    "                    val threshold = 0.08\n",
    "                    if (it < maxScore * threshold) it + threshold * maxScore / 2 else it / 2\n",
    "                }\n",
    "                label = benchmarkLines.map {\n",
    "                    val type = when {\n",
    "                        it.name.contains(\"Float\") -> \"Float\"\n",
    "                        it.name.contains(\"Int\") -> \"Int\"\n",
    "                        it.name.contains(\"Double\") -> \"Double\"\n",
    "                        it.name.contains(\"Long\") -> \"Long\"\n",
    "                        else -> error(\"Unknown name: ${it.name}\")\n",
    "                    }\n",
    "                    val score = it.score / baseline[type]!!.score\n",
    "                    val error = it.error / baseline[type]!!.score\n",
    "                    \"${String.format(\"%.0f\", score * 100)}%\\n±\\n${String.format(\"%.1f\", error * 100)}%\\n${type}\"\n",
    "                }\n",
    "            } +\n",
    "            scaleXDiscrete(\n",
    "                labels = names,\n",
    "                name = \"\",\n",
    "                limits = names + listOf(\"\"),\n",
    "                breaks = names.toList()\n",
    "            ) +\n",
    "            scaleYContinuous(limits = 0 to maxScore, name = \"ns/op\") +\n",
    "            theme(plotTitle = elementText(hjust = 0.5)).legendPositionRight() +\n",
    "            ggsize(1000, 800)\n",
    "    ggsave(plot = plot, filename = \"$name ($platform).svg\")\n",
    "    plot.show()\n",
    "}\n"
   ],
   "metadata": {
    "collapsed": false,
    "ExecuteTime": {
     "start_time": "2023-04-16T07:04:53.879237Z",
     "end_time": "2023-04-16T07:04:54.668823Z"
    }
   }
  },
  {
   "cell_type": "code",
   "execution_count": 4,
   "outputs": [
    {
     "data": {
      "text/html": "   <div id=\"3W6DzZ\"></div>\n   <script type=\"text/javascript\" data-lets-plot-script=\"plot\">\n       (function() {\n           var plotSpec={\n\"ggtitle\":{\n\"text\":\"Wolf3d (Hotspot)\"\n},\n\"mapping\":{\n},\n\"ggsize\":{\n\"width\":1000.0,\n\"height\":800.0\n},\n\"kind\":\"plot\",\n\"scales\":[{\n\"aesthetic\":\"y\",\n\"name\":\"ns/op\"\n},{\n\"aesthetic\":\"fill\",\n\"name\":\"Benchmark\"\n},{\n\"aesthetic\":\"x\",\n\"breaks\":[\"baselineDouble\",\"baselineFloat\",\"inlineDouble\",\"inlineFloat\",\"longPackFloat\",\"mutableRefDouble\",\"mutableRefFloatIn1Long\",\"mutableRefFloatIn2Longs\",\"valueDouble\",\"valueFloat\",\"valueInlineDouble\",\"valueInlineFloat\",\"valuePreserveBoxDouble\",\"valuePreserveBoxFloat\"],\n\"name\":\"\",\n\"limits\":[\"baselineDouble\",\"baselineFloat\",\"inlineDouble\",\"inlineFloat\",\"longPackFloat\",\"mutableRefDouble\",\"mutableRefFloatIn1Long\",\"mutableRefFloatIn2Longs\",\"valueDouble\",\"valueFloat\",\"valueInlineDouble\",\"valueInlineFloat\",\"valuePreserveBoxDouble\",\"valuePreserveBoxFloat\",\"\"],\n\"labels\":[\"baselineDouble\",\"baselineFloat\",\"inlineDouble\",\"inlineFloat\",\"longPackFloat\",\"mutableRefDouble\",\"mutableRefFloatIn1Long\",\"mutableRefFloatIn2Longs\",\"valueDouble\",\"valueFloat\",\"valueInlineDouble\",\"valueInlineFloat\",\"valuePreserveBoxDouble\",\"valuePreserveBoxFloat\"]\n},{\n\"aesthetic\":\"y\",\n\"name\":\"ns/op\",\n\"limits\":[0.0,1592334.9465]\n}],\n\"layers\":[{\n\"mapping\":{\n\"x\":\"x\",\n\"y\":\"y\",\n\"fill\":\"fill\"\n},\n\"stat\":\"identity\",\n\"position\":\"stack\",\n\"geom\":\"bar\",\n\"data\":{\n\"x\":[\"baselineDouble\",\"baselineFloat\",\"inlineDouble\",\"inlineFloat\",\"longPackFloat\",\"mutableRefDouble\",\"mutableRefFloatIn1Long\",\"mutableRefFloatIn2Longs\",\"valueDouble\",\"valueFloat\",\"valueInlineDouble\",\"valueInlineFloat\",\"valuePreserveBoxDouble\",\"valuePreserveBoxFloat\"],\n\"y\":[917835.788,890312.969,916968.087,898776.711,1591993.034,644314.935,1551868.621,643496.128,670610.691,665058.83,645546.683,672885.812,644801.406,667967.836],\n\"fill\":[\"baselineDouble\",\"baselineFloat\",\"inlineDouble\",\"inlineFloat\",\"longPackFloat\",\"mutableRefDouble\",\"mutableRefFloatIn1Long\",\"mutableRefFloatIn2Longs\",\"valueDouble\",\"valueFloat\",\"valueInlineDouble\",\"valueInlineFloat\",\"valuePreserveBoxDouble\",\"valuePreserveBoxFloat\"]\n}\n},{\n\"mapping\":{\n\"x\":\"x1\",\n\"ymin\":\"ymin\",\n\"ymax\":\"ymax\"\n},\n\"stat\":\"identity\",\n\"size\":0.6,\n\"width\":0.5,\n\"position\":\"dodge\",\n\"geom\":\"errorbar\",\n\"data\":{\n\"ymin\":[916687.0795,889494.7505000001,915799.081,897510.4295,1591651.1215,643210.1815000001,1551592.568,643027.981,670167.3085,661407.4525,645146.225,668862.674,644459.2755,663155.499],\n\"ymax\":[918984.4964999999,891131.1875,918137.0930000001,900042.9925,1592334.9465,645419.6885,1552144.674,643964.275,671054.0734999999,668710.2074999999,645947.141,676908.9500000001,645143.5364999999,672780.1730000001],\n\"x1\":[\"baselineDouble\",\"baselineFloat\",\"inlineDouble\",\"inlineFloat\",\"longPackFloat\",\"mutableRefDouble\",\"mutableRefFloatIn1Long\",\"mutableRefFloatIn2Longs\",\"valueDouble\",\"valueFloat\",\"valueInlineDouble\",\"valueInlineFloat\",\"valuePreserveBoxDouble\",\"valuePreserveBoxFloat\"]\n}\n},{\n\"mapping\":{\n\"x\":\"x2\",\n\"y\":\"y1\",\n\"label\":\"label\"\n},\n\"stat\":\"identity\",\n\"size\":5.0,\n\"position\":{\n\"name\":\"stack\",\n\"vjust\":1.0,\n\"kind\":\"pos\"\n},\n\"geom\":\"text\",\n\"data\":{\n\"y1\":[458917.894,445156.4845,458484.0435,449388.3555,795996.517,322157.4675,775934.3105,321748.064,335305.3455,332529.415,322773.3415,336442.906,322400.703,333983.918],\n\"x2\":[\"baselineDouble\",\"baselineFloat\",\"inlineDouble\",\"inlineFloat\",\"longPackFloat\",\"mutableRefDouble\",\"mutableRefFloatIn1Long\",\"mutableRefFloatIn2Longs\",\"valueDouble\",\"valueFloat\",\"valueInlineDouble\",\"valueInlineFloat\",\"valuePreserveBoxDouble\",\"valuePreserveBoxFloat\"],\n\"label\":[\"100%\\n±\\n0.3%\\nDouble\",\"100%\\n±\\n0.2%\\nFloat\",\"100%\\n±\\n0.3%\\nDouble\",\"101%\\n±\\n0.3%\\nFloat\",\"179%\\n±\\n0.1%\\nFloat\",\"70%\\n±\\n0.2%\\nDouble\",\"174%\\n±\\n0.1%\\nFloat\",\"72%\\n±\\n0.1%\\nFloat\",\"73%\\n±\\n0.1%\\nDouble\",\"75%\\n±\\n0.8%\\nFloat\",\"70%\\n±\\n0.1%\\nDouble\",\"76%\\n±\\n0.9%\\nFloat\",\"70%\\n±\\n0.1%\\nDouble\",\"75%\\n±\\n1.1%\\nFloat\"]\n}\n}],\n\"theme\":{\n\"plot_title\":{\n\"hjust\":0.5,\n\"blank\":false\n},\n\"legend_position\":\"right\"\n}\n};\n           var plotContainer = document.getElementById(\"3W6DzZ\");\n           window.letsPlotCall(function() {{\n               LetsPlot.buildPlotFromProcessedSpecs(plotSpec, -1, -1, plotContainer);\n           }});\n       })();    \n   </script>"
     },
     "metadata": {},
     "output_type": "display_data"
    },
    {
     "data": {
      "text/html": "   <div id=\"jaVNdL\"></div>\n   <script type=\"text/javascript\" data-lets-plot-script=\"plot\">\n       (function() {\n           var plotSpec={\n\"ggtitle\":{\n\"text\":\"Fibonacci (Hotspot)\"\n},\n\"mapping\":{\n},\n\"ggsize\":{\n\"width\":1000.0,\n\"height\":800.0\n},\n\"kind\":\"plot\",\n\"scales\":[{\n\"aesthetic\":\"y\",\n\"name\":\"ns/op\"\n},{\n\"aesthetic\":\"fill\",\n\"name\":\"Benchmark\"\n},{\n\"aesthetic\":\"x\",\n\"breaks\":[\"baselineInt\",\"baselineLong\",\"longPackInt\",\"mutableRefIntIn1Long\",\"mutableRefIntIn2Longs\",\"mutableRefLong\",\"valueInt\",\"valueLong\",\"valuePreserveBoxInt\",\"valuePreserveBoxLong\"],\n\"name\":\"\",\n\"limits\":[\"baselineInt\",\"baselineLong\",\"longPackInt\",\"mutableRefIntIn1Long\",\"mutableRefIntIn2Longs\",\"mutableRefLong\",\"valueInt\",\"valueLong\",\"valuePreserveBoxInt\",\"valuePreserveBoxLong\",\"\"],\n\"labels\":[\"baselineInt\",\"baselineLong\",\"longPackInt\",\"mutableRefIntIn1Long\",\"mutableRefIntIn2Longs\",\"mutableRefLong\",\"valueInt\",\"valueLong\",\"valuePreserveBoxInt\",\"valuePreserveBoxLong\"]\n},{\n\"aesthetic\":\"y\",\n\"name\":\"ns/op\",\n\"limits\":[0.0,404.9255]\n}],\n\"layers\":[{\n\"mapping\":{\n\"x\":\"x\",\n\"y\":\"y\",\n\"fill\":\"fill\"\n},\n\"stat\":\"identity\",\n\"position\":\"stack\",\n\"geom\":\"bar\",\n\"data\":{\n\"x\":[\"baselineInt\",\"baselineLong\",\"longPackInt\",\"mutableRefIntIn1Long\",\"mutableRefIntIn2Longs\",\"mutableRefLong\",\"valueInt\",\"valueLong\",\"valuePreserveBoxInt\",\"valuePreserveBoxLong\"],\n\"y\":[379.562,403.359,188.212,299.232,249.907,238.002,357.104,360.018,356.658,359.023],\n\"fill\":[\"baselineInt\",\"baselineLong\",\"longPackInt\",\"mutableRefIntIn1Long\",\"mutableRefIntIn2Longs\",\"mutableRefLong\",\"valueInt\",\"valueLong\",\"valuePreserveBoxInt\",\"valuePreserveBoxLong\"]\n}\n},{\n\"mapping\":{\n\"x\":\"x1\",\n\"ymin\":\"ymin\",\n\"ymax\":\"ymax\"\n},\n\"stat\":\"identity\",\n\"size\":0.6,\n\"width\":0.5,\n\"position\":\"dodge\",\n\"geom\":\"errorbar\",\n\"data\":{\n\"ymin\":[378.37600000000003,401.79249999999996,187.9415,298.8455,249.22,237.494,356.7315,359.02349999999996,356.397,358.75750000000005],\n\"ymax\":[380.748,404.9255,188.4825,299.61850000000004,250.59400000000002,238.51000000000002,357.4765,361.0125,356.91900000000004,359.2885],\n\"x1\":[\"baselineInt\",\"baselineLong\",\"longPackInt\",\"mutableRefIntIn1Long\",\"mutableRefIntIn2Longs\",\"mutableRefLong\",\"valueInt\",\"valueLong\",\"valuePreserveBoxInt\",\"valuePreserveBoxLong\"]\n}\n},{\n\"mapping\":{\n\"x\":\"x2\",\n\"y\":\"y1\",\n\"label\":\"label\"\n},\n\"stat\":\"identity\",\n\"size\":5.0,\n\"position\":{\n\"name\":\"stack\",\n\"vjust\":1.0,\n\"kind\":\"pos\"\n},\n\"geom\":\"text\",\n\"data\":{\n\"y1\":[189.781,201.6795,94.106,149.616,124.9535,119.001,178.552,180.009,178.329,179.5115],\n\"x2\":[\"baselineInt\",\"baselineLong\",\"longPackInt\",\"mutableRefIntIn1Long\",\"mutableRefIntIn2Longs\",\"mutableRefLong\",\"valueInt\",\"valueLong\",\"valuePreserveBoxInt\",\"valuePreserveBoxLong\"],\n\"label\":[\"100%\\n±\\n0.6%\\nInt\",\"100%\\n±\\n0.8%\\nLong\",\"50%\\n±\\n0.1%\\nInt\",\"79%\\n±\\n0.2%\\nInt\",\"66%\\n±\\n0.4%\\nInt\",\"59%\\n±\\n0.3%\\nLong\",\"94%\\n±\\n0.2%\\nInt\",\"89%\\n±\\n0.5%\\nLong\",\"94%\\n±\\n0.1%\\nInt\",\"89%\\n±\\n0.1%\\nLong\"]\n}\n}],\n\"theme\":{\n\"plot_title\":{\n\"hjust\":0.5,\n\"blank\":false\n},\n\"legend_position\":\"right\"\n}\n};\n           var plotContainer = document.getElementById(\"jaVNdL\");\n           window.letsPlotCall(function() {{\n               LetsPlot.buildPlotFromProcessedSpecs(plotSpec, -1, -1, plotContainer);\n           }});\n       })();    \n   </script>"
     },
     "metadata": {},
     "output_type": "display_data"
    }
   ],
   "source": [
    "makePlot(\"Wolf3d\", \"Hotspot\", readHotspotBenchmarkData(\"Wolf3dBenchmark\"))\n",
    "makePlot(\"Fibonacci\", \"Hotspot\", readHotspotBenchmarkData(\"FibonacciBenchmark\"))"
   ],
   "metadata": {
    "collapsed": false,
    "ExecuteTime": {
     "start_time": "2023-04-16T07:04:54.667782Z",
     "end_time": "2023-04-16T07:04:55.188134Z"
    }
   }
  },
  {
   "cell_type": "code",
   "execution_count": 5,
   "outputs": [
    {
     "data": {
      "text/plain": "baselineDouble: 1.13492355625E7 ± 567324.6828501407 ns/op\nbaselineFloat: 1.0749055611111112E7 ± 208081.14501088014 ns/op\ninlineDouble: 2.6348384666666668E7 ± 897765.9408843282 ns/op\ninlineFloat: 1.81996192E7 ± 869342.0280970045 ns/op\nlongPackFloat: 4498985.159090909 ± 6425.947585356221 ns/op\nmutableRefDouble: 3495787.7857142854 ± 77551.18177884219 ns/op\nmutableRefFloatIn1Long: 5392803.416666666 ± 3577.281170979714 ns/op\nmutableRefFloatIn2Longs: 3790135.3653846155 ± 4171.6093971590835 ns/op\nvalueDouble: 1.3040708785714287E7 ± 560399.4740374224 ns/op\nvalueFloat: 9895196.1 ± 216034.87733118472 ns/op\nvalueInlineDouble: 553418.2936507936 ± 9597.880179356167 ns/op\nvalueInlineFloat: 668067.6308724831 ± 4397.283857968942 ns/op\nvaluePreserveBoxDouble: 1.12226058125E7 ± 567258.6931291434 ns/op\nvaluePreserveBoxFloat: 7904216.375 ± 322249.39055868314 ns/op\nbaselineInt: 2823.7224371373304 ± 31.95413745546588 ns/op\nbaselineLong: 2063.303395225464 ± 169.45488866622892 ns/op\nlongPackInt: 175.09018928035982 ± 6.819331178688192 ns/op\nmutableRefIntIn1Long: 391.47644266944496 ± 34.06000289428338 ns/op\nmutableRefIntIn2Longs: 344.06848806230147 ± 16.538333715188635 ns/op\nmutableRefLong: 446.9511361830605 ± 42.74601006016899 ns/op\nvalueInt: 437.7279379824239 ± 45.859414794705955 ns/op\nvalueLong: 586.7775452235012 ± 70.83371043100627 ns/op\nvaluePreserveBoxInt: 1574.3525526043463 ± 68.72088178932425 ns/op\nvaluePreserveBoxLong: 2020.0262030738222 ± 50.466511749281956 ns/op"
     },
     "execution_count": 5,
     "metadata": {},
     "output_type": "execute_result"
    }
   ],
   "source": [
    "import java.io.FileFilter\n",
    "import kotlin.io.path.listDirectoryEntries\n",
    "\n",
    "fun readArtBenchmarkData(benchmarkName: String) = Path.of(\"android-benchmark/build/outputs/androidTest-results/connected\")\n",
    "    .toFile().listFiles(FileFilter { it.isDirectory })!!.single()\n",
    "    .listFiles { dir, name -> name.startsWith(\"logcat-org.jetbrains.\") }!!.flatMap { it.readLines() }\n",
    "    .mapNotNull {\n",
    "        val pattern = Regex(\"^\\\\d{2}-\\\\d{2} +\\\\d+:\\\\d+:\\\\d+.\\\\d+ +\\\\d+ +\\\\d+ +I +Benchmark: +$benchmarkName\\\\.([^\\\\[]+)\\\\[Metric \\\\(timeNs\\\\) +results: +median +([^,]+), +min [^,]+, +max [^,]+, +standardDeviation: +([^,]+), +.*\")\n",
    "        val match = pattern.matchEntire(it) ?: return@mapNotNull null\n",
    "        BenchmarkData(\n",
    "            match.groups[1]!!.value,\n",
    "            match.groups[2]!!.value.toDouble(),\n",
    "            match.groups[3]!!.value.toDouble(),\n",
    "        )\n",
    "     }.let { lines ->\n",
    "         val indexes = readHotspotBenchmarkData(benchmarkName).mapIndexed { index, benchmarkData -> benchmarkData.name to index }.toMap()\n",
    "         if (lines.all { it.name in indexes }) lines.sortedBy { indexes[it.name]!! } else lines\n",
    "     }\n",
    "(readArtBenchmarkData(\"Wolf3dBenchmark\") + readArtBenchmarkData(\"FibonacciBenchmark\")).joinToString(\"\\n\")"
   ],
   "metadata": {
    "collapsed": false,
    "ExecuteTime": {
     "start_time": "2023-04-16T07:04:55.188692Z",
     "end_time": "2023-04-16T07:04:56.023171Z"
    }
   }
  },
  {
   "cell_type": "code",
   "execution_count": 6,
   "outputs": [
    {
     "data": {
      "text/html": "   <div id=\"ID8BXX\"></div>\n   <script type=\"text/javascript\" data-lets-plot-script=\"plot\">\n       (function() {\n           var plotSpec={\n\"ggtitle\":{\n\"text\":\"Wolf3d (ART)\"\n},\n\"mapping\":{\n},\n\"ggsize\":{\n\"width\":1000.0,\n\"height\":800.0\n},\n\"kind\":\"plot\",\n\"scales\":[{\n\"aesthetic\":\"y\",\n\"name\":\"ns/op\"\n},{\n\"aesthetic\":\"fill\",\n\"name\":\"Benchmark\"\n},{\n\"aesthetic\":\"x\",\n\"breaks\":[\"baselineDouble\",\"baselineFloat\",\"inlineDouble\",\"inlineFloat\",\"longPackFloat\",\"mutableRefDouble\",\"mutableRefFloatIn1Long\",\"mutableRefFloatIn2Longs\",\"valueDouble\",\"valueFloat\",\"valueInlineDouble\",\"valueInlineFloat\",\"valuePreserveBoxDouble\",\"valuePreserveBoxFloat\"],\n\"name\":\"\",\n\"limits\":[\"baselineDouble\",\"baselineFloat\",\"inlineDouble\",\"inlineFloat\",\"longPackFloat\",\"mutableRefDouble\",\"mutableRefFloatIn1Long\",\"mutableRefFloatIn2Longs\",\"valueDouble\",\"valueFloat\",\"valueInlineDouble\",\"valueInlineFloat\",\"valuePreserveBoxDouble\",\"valuePreserveBoxFloat\",\"\"],\n\"labels\":[\"baselineDouble\",\"baselineFloat\",\"inlineDouble\",\"inlineFloat\",\"longPackFloat\",\"mutableRefDouble\",\"mutableRefFloatIn1Long\",\"mutableRefFloatIn2Longs\",\"valueDouble\",\"valueFloat\",\"valueInlineDouble\",\"valueInlineFloat\",\"valuePreserveBoxDouble\",\"valuePreserveBoxFloat\"]\n},{\n\"aesthetic\":\"y\",\n\"name\":\"ns/op\",\n\"limits\":[0.0,2.6797267637108833E7]\n}],\n\"layers\":[{\n\"mapping\":{\n\"x\":\"x\",\n\"y\":\"y\",\n\"fill\":\"fill\"\n},\n\"stat\":\"identity\",\n\"position\":\"stack\",\n\"geom\":\"bar\",\n\"data\":{\n\"x\":[\"baselineDouble\",\"baselineFloat\",\"inlineDouble\",\"inlineFloat\",\"longPackFloat\",\"mutableRefDouble\",\"mutableRefFloatIn1Long\",\"mutableRefFloatIn2Longs\",\"valueDouble\",\"valueFloat\",\"valueInlineDouble\",\"valueInlineFloat\",\"valuePreserveBoxDouble\",\"valuePreserveBoxFloat\"],\n\"y\":[1.13492355625E7,1.0749055611111112E7,2.6348384666666668E7,1.81996192E7,4498985.159090909,3495787.7857142854,5392803.416666666,3790135.3653846155,1.3040708785714287E7,9895196.1,553418.2936507936,668067.6308724831,1.12226058125E7,7904216.375],\n\"fill\":[\"baselineDouble\",\"baselineFloat\",\"inlineDouble\",\"inlineFloat\",\"longPackFloat\",\"mutableRefDouble\",\"mutableRefFloatIn1Long\",\"mutableRefFloatIn2Longs\",\"valueDouble\",\"valueFloat\",\"valueInlineDouble\",\"valueInlineFloat\",\"valuePreserveBoxDouble\",\"valuePreserveBoxFloat\"]\n}\n},{\n\"mapping\":{\n\"x\":\"x1\",\n\"ymin\":\"ymin\",\n\"ymax\":\"ymax\"\n},\n\"stat\":\"identity\",\n\"size\":0.6,\n\"width\":0.5,\n\"position\":\"dodge\",\n\"geom\":\"errorbar\",\n\"data\":{\n\"ymin\":[1.106557322107493E7,1.0645015038605671E7,2.5899501696224503E7,1.7764948185951497E7,4495772.185298231,3457012.194824864,5391014.7760811765,3788049.560686036,1.2760509048695575E7,9787178.661334407,548619.3535611156,665868.9889434987,1.0938976465935428E7,7743091.679720659],\n\"ymax\":[1.163289790392507E7,1.0853096183616553E7,2.6797267637108833E7,1.86342902140485E7,4502198.132883587,3534563.3766037067,5394592.057252156,3792221.170083195,1.3320908522733E7,1.0003213538665593E7,558217.2337404717,670266.2728014676,1.1506235159064572E7,8065341.070279341],\n\"x1\":[\"baselineDouble\",\"baselineFloat\",\"inlineDouble\",\"inlineFloat\",\"longPackFloat\",\"mutableRefDouble\",\"mutableRefFloatIn1Long\",\"mutableRefFloatIn2Longs\",\"valueDouble\",\"valueFloat\",\"valueInlineDouble\",\"valueInlineFloat\",\"valuePreserveBoxDouble\",\"valuePreserveBoxFloat\"]\n}\n},{\n\"mapping\":{\n\"x\":\"x2\",\n\"y\":\"y1\",\n\"label\":\"label\"\n},\n\"stat\":\"identity\",\n\"size\":5.0,\n\"position\":{\n\"name\":\"stack\",\n\"vjust\":1.0,\n\"kind\":\"pos\"\n},\n\"geom\":\"text\",\n\"data\":{\n\"y1\":[5674617.78125,5374527.805555556,1.3174192333333334E7,9099809.6,2249492.5795454546,1747893.8928571427,2696401.708333333,1895067.6826923077,6520354.392857144,4947598.05,1625308.9991351468,1739958.3363568364,5611302.90625,3952108.1875],\n\"x2\":[\"baselineDouble\",\"baselineFloat\",\"inlineDouble\",\"inlineFloat\",\"longPackFloat\",\"mutableRefDouble\",\"mutableRefFloatIn1Long\",\"mutableRefFloatIn2Longs\",\"valueDouble\",\"valueFloat\",\"valueInlineDouble\",\"valueInlineFloat\",\"valuePreserveBoxDouble\",\"valuePreserveBoxFloat\"],\n\"label\":[\"100%\\n±\\n5.0%\\nDouble\",\"100%\\n±\\n1.9%\\nFloat\",\"232%\\n±\\n7.9%\\nDouble\",\"169%\\n±\\n8.1%\\nFloat\",\"42%\\n±\\n0.1%\\nFloat\",\"31%\\n±\\n0.7%\\nDouble\",\"50%\\n±\\n0.0%\\nFloat\",\"35%\\n±\\n0.0%\\nFloat\",\"115%\\n±\\n4.9%\\nDouble\",\"92%\\n±\\n2.0%\\nFloat\",\"5%\\n±\\n0.1%\\nDouble\",\"6%\\n±\\n0.0%\\nFloat\",\"99%\\n±\\n5.0%\\nDouble\",\"74%\\n±\\n3.0%\\nFloat\"]\n}\n}],\n\"theme\":{\n\"plot_title\":{\n\"hjust\":0.5,\n\"blank\":false\n},\n\"legend_position\":\"right\"\n}\n};\n           var plotContainer = document.getElementById(\"ID8BXX\");\n           window.letsPlotCall(function() {{\n               LetsPlot.buildPlotFromProcessedSpecs(plotSpec, -1, -1, plotContainer);\n           }});\n       })();    \n   </script>"
     },
     "metadata": {},
     "output_type": "display_data"
    },
    {
     "data": {
      "text/html": "   <div id=\"gPI13c\"></div>\n   <script type=\"text/javascript\" data-lets-plot-script=\"plot\">\n       (function() {\n           var plotSpec={\n\"ggtitle\":{\n\"text\":\"Fibonacci (ART)\"\n},\n\"mapping\":{\n},\n\"ggsize\":{\n\"width\":1000.0,\n\"height\":800.0\n},\n\"kind\":\"plot\",\n\"scales\":[{\n\"aesthetic\":\"y\",\n\"name\":\"ns/op\"\n},{\n\"aesthetic\":\"fill\",\n\"name\":\"Benchmark\"\n},{\n\"aesthetic\":\"x\",\n\"breaks\":[\"baselineInt\",\"baselineLong\",\"longPackInt\",\"mutableRefIntIn1Long\",\"mutableRefIntIn2Longs\",\"mutableRefLong\",\"valueInt\",\"valueLong\",\"valuePreserveBoxInt\",\"valuePreserveBoxLong\"],\n\"name\":\"\",\n\"limits\":[\"baselineInt\",\"baselineLong\",\"longPackInt\",\"mutableRefIntIn1Long\",\"mutableRefIntIn2Longs\",\"mutableRefLong\",\"valueInt\",\"valueLong\",\"valuePreserveBoxInt\",\"valuePreserveBoxLong\",\"\"],\n\"labels\":[\"baselineInt\",\"baselineLong\",\"longPackInt\",\"mutableRefIntIn1Long\",\"mutableRefIntIn2Longs\",\"mutableRefLong\",\"valueInt\",\"valueLong\",\"valuePreserveBoxInt\",\"valuePreserveBoxLong\"]\n},{\n\"aesthetic\":\"y\",\n\"name\":\"ns/op\",\n\"limits\":[0.0,2839.699505865063]\n}],\n\"layers\":[{\n\"mapping\":{\n\"x\":\"x\",\n\"y\":\"y\",\n\"fill\":\"fill\"\n},\n\"stat\":\"identity\",\n\"position\":\"stack\",\n\"geom\":\"bar\",\n\"data\":{\n\"x\":[\"baselineInt\",\"baselineLong\",\"longPackInt\",\"mutableRefIntIn1Long\",\"mutableRefIntIn2Longs\",\"mutableRefLong\",\"valueInt\",\"valueLong\",\"valuePreserveBoxInt\",\"valuePreserveBoxLong\"],\n\"y\":[2823.7224371373304,2063.303395225464,175.09018928035982,391.47644266944496,344.06848806230147,446.9511361830605,437.7279379824239,586.7775452235012,1574.3525526043463,2020.0262030738222],\n\"fill\":[\"baselineInt\",\"baselineLong\",\"longPackInt\",\"mutableRefIntIn1Long\",\"mutableRefIntIn2Longs\",\"mutableRefLong\",\"valueInt\",\"valueLong\",\"valuePreserveBoxInt\",\"valuePreserveBoxLong\"]\n}\n},{\n\"mapping\":{\n\"x\":\"x1\",\n\"ymin\":\"ymin\",\n\"ymax\":\"ymax\"\n},\n\"stat\":\"identity\",\n\"size\":0.6,\n\"width\":0.5,\n\"position\":\"dodge\",\n\"geom\":\"errorbar\",\n\"data\":{\n\"ymin\":[2807.7453684095976,1978.5759508923497,171.68052369101574,374.4464412223033,335.79932120470716,425.578131152976,414.79823058507094,551.3606900079981,1539.9921117096842,1994.7929471991813],\n\"ymax\":[2839.699505865063,2148.0308395585785,178.4998548697039,408.50644411658664,352.3376549198958,468.32414121314497,460.65764537977685,622.1944004390043,1608.7129934990085,2045.2594589484631],\n\"x1\":[\"baselineInt\",\"baselineLong\",\"longPackInt\",\"mutableRefIntIn1Long\",\"mutableRefIntIn2Longs\",\"mutableRefLong\",\"valueInt\",\"valueLong\",\"valuePreserveBoxInt\",\"valuePreserveBoxLong\"]\n}\n},{\n\"mapping\":{\n\"x\":\"x2\",\n\"y\":\"y1\",\n\"label\":\"label\"\n},\n\"stat\":\"identity\",\n\"size\":5.0,\n\"position\":{\n\"name\":\"stack\",\n\"vjust\":1.0,\n\"kind\":\"pos\"\n},\n\"geom\":\"text\",\n\"data\":{\n\"y1\":[1411.8612185686652,1031.651697612732,288.67816951496235,195.73822133472248,172.03424403115073,223.47556809153025,218.86396899121195,293.3887726117506,787.1762763021732,1010.0131015369111],\n\"x2\":[\"baselineInt\",\"baselineLong\",\"longPackInt\",\"mutableRefIntIn1Long\",\"mutableRefIntIn2Longs\",\"mutableRefLong\",\"valueInt\",\"valueLong\",\"valuePreserveBoxInt\",\"valuePreserveBoxLong\"],\n\"label\":[\"100%\\n±\\n1.1%\\nInt\",\"100%\\n±\\n8.2%\\nLong\",\"6%\\n±\\n0.2%\\nInt\",\"14%\\n±\\n1.2%\\nInt\",\"12%\\n±\\n0.6%\\nInt\",\"22%\\n±\\n2.1%\\nLong\",\"16%\\n±\\n1.6%\\nInt\",\"28%\\n±\\n3.4%\\nLong\",\"56%\\n±\\n2.4%\\nInt\",\"98%\\n±\\n2.4%\\nLong\"]\n}\n}],\n\"theme\":{\n\"plot_title\":{\n\"hjust\":0.5,\n\"blank\":false\n},\n\"legend_position\":\"right\"\n}\n};\n           var plotContainer = document.getElementById(\"gPI13c\");\n           window.letsPlotCall(function() {{\n               LetsPlot.buildPlotFromProcessedSpecs(plotSpec, -1, -1, plotContainer);\n           }});\n       })();    \n   </script>"
     },
     "metadata": {},
     "output_type": "display_data"
    }
   ],
   "source": [
    "makePlot(\"Wolf3d\", \"ART\", readArtBenchmarkData(\"Wolf3dBenchmark\"))\n",
    "makePlot(\"Fibonacci\", \"ART\", readArtBenchmarkData(\"FibonacciBenchmark\"))"
   ],
   "metadata": {
    "collapsed": false,
    "ExecuteTime": {
     "start_time": "2023-04-16T07:04:56.022624Z",
     "end_time": "2023-04-16T07:04:56.354055Z"
    }
   }
  }
 ],
 "metadata": {
  "kernelspec": {
   "display_name": "Kotlin",
   "language": "kotlin",
   "name": "kotlin"
  },
  "language_info": {
   "name": "kotlin",
   "version": "1.8.0",
   "mimetype": "text/x-kotlin",
   "file_extension": ".kt",
   "pygments_lexer": "kotlin",
   "codemirror_mode": "text/x-kotlin",
   "nbconvert_exporter": ""
  }
 },
 "nbformat": 4,
 "nbformat_minor": 0
}
