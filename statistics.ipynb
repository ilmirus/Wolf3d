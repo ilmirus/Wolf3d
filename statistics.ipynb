{
 "cells": [
  {
   "cell_type": "code",
   "execution_count": 123,
   "metadata": {
    "collapsed": true,
    "ExecuteTime": {
     "start_time": "2023-04-09T19:35:04.191455Z",
     "end_time": "2023-04-09T19:35:04.381695Z"
    }
   },
   "outputs": [
    {
     "data": {
      "text/plain": "baselineDouble: 931858.124 ± 2707.644 ns/op\nbaselineFloat: 928123.143 ± 12428.765 ns/op\ninlineDouble: 930382.882 ± 6153.134 ns/op\ninlineFloat: 900125.64 ± 3895.555 ns/op\nlongPackFloat: 1547488.939 ± 2048.011 ns/op\nmutableRefDouble: 663923.418 ± 1923.981 ns/op\nmutableRefFloatIn1Long: 1535125.654 ± 1731.307 ns/op\nmutableRefFloatIn2Longs: 660791.922 ± 1326.528 ns/op\nvalueDouble: 656028.937 ± 884.5 ns/op\nvalueFloat: 667792.942 ± 18023.542 ns/op\nvalueInlineDouble: 653461.746 ± 6090.136 ns/op\nvalueInlineFloat: 674163.867 ± 16781.843 ns/op"
     },
     "execution_count": 123,
     "metadata": {},
     "output_type": "execute_result"
    }
   ],
   "source": [
    "import java.nio.file.Files\n",
    "import java.nio.file.Path\n",
    "\n",
    "data class BenchmarkData(val name: String, val score: Double, val error: Double) {\n",
    "    override fun toString(): String = \"$name: $score ± $error ns/op\"\n",
    "}\n",
    "\n",
    "val benchmarkLines = Files.readAllLines(Path.of(\"build\", \"results\", \"jmh\", \"results.txt\"))\n",
    "    .mapNotNull {\n",
    "        val r = Regex(\"JmhBenchmark\\\\.([^ ]+) +avgt +\\\\d+ +([0-9.]+) +± +([0-9.]+) +ns/op\")\n",
    "        val match = r.matchEntire(it) ?: return@mapNotNull null\n",
    "        BenchmarkData(\n",
    "            match.groups[1]!!.value,\n",
    "            match.groups[2]!!.value.toDouble(),\n",
    "            match.groups[3]!!.value.toDouble(),\n",
    "        )\n",
    "    }\n",
    "benchmarkLines.joinToString(\"\\n\")"
   ]
  },
  {
   "cell_type": "code",
   "execution_count": 124,
   "outputs": [
    {
     "data": {
      "text/html": "   <div id=\"dtZZ3p\"></div>\n   <script type=\"text/javascript\" data-lets-plot-script=\"library\">\n       if(!window.letsPlotCallQueue) {\n           window.letsPlotCallQueue = [];\n       }; \n       window.letsPlotCall = function(f) {\n           window.letsPlotCallQueue.push(f);\n       };\n       (function() {\n           var script = document.createElement(\"script\");\n           script.type = \"text/javascript\";\n           script.src = \"https://cdn.jsdelivr.net/gh/JetBrains/lets-plot@v3.0.0/js-package/distr/lets-plot.min.js\";\n           script.onload = function() {\n               window.letsPlotCall = function(f) {f();};\n               window.letsPlotCallQueue.forEach(function(f) {f();});\n               window.letsPlotCallQueue = [];\n               \n               \n           };\n           script.onerror = function(event) {\n               window.letsPlotCall = function(f) {};\n               window.letsPlotCallQueue = [];\n               var div = document.createElement(\"div\");\n               div.style.color = 'darkred';\n               div.textContent = 'Error loading Lets-Plot JS';\n               document.getElementById(\"dtZZ3p\").appendChild(div);\n           };\n           var e = document.getElementById(\"dtZZ3p\");\n           e.appendChild(script);\n       })();\n   </script>"
     },
     "metadata": {},
     "output_type": "display_data"
    }
   ],
   "source": [
    "%use lets-plot"
   ],
   "metadata": {
    "collapsed": false,
    "ExecuteTime": {
     "start_time": "2023-04-09T19:35:04.379566Z",
     "end_time": "2023-04-09T19:35:10.109830Z"
    }
   }
  },
  {
   "cell_type": "code",
   "execution_count": 125,
   "outputs": [
    {
     "data": {
      "text/html": "   <div id=\"GTWrPX\"></div>\n   <script type=\"text/javascript\" data-lets-plot-script=\"plot\">\n       (function() {\n           var plotSpec={\n\"ggtitle\":{\n\"text\":\"Microbenchmark of 3D scene rendering\"\n},\n\"mapping\":{\n},\n\"ggsize\":{\n\"width\":1000.0,\n\"height\":800.0\n},\n\"kind\":\"plot\",\n\"scales\":[{\n\"aesthetic\":\"y\",\n\"name\":\"ns/op\"\n},{\n\"aesthetic\":\"fill\",\n\"name\":\"Benchmark\"\n},{\n\"aesthetic\":\"x\",\n\"breaks\":[\"baselineDouble\",\"baselineFloat\",\"inlineDouble\",\"inlineFloat\",\"longPackFloat\",\"mutableRefDouble\",\"mutableRefFloatIn1Long\",\"mutableRefFloatIn2Longs\",\"valueDouble\",\"valueFloat\",\"valueInlineDouble\",\"valueInlineFloat\"],\n\"name\":\"\",\n\"limits\":[\"baselineDouble\",\"baselineFloat\",\"inlineDouble\",\"inlineFloat\",\"longPackFloat\",\"mutableRefDouble\",\"mutableRefFloatIn1Long\",\"mutableRefFloatIn2Longs\",\"valueDouble\",\"valueFloat\",\"valueInlineDouble\",\"valueInlineFloat\",\"\"],\n\"labels\":[\"baselineDouble\",\"baselineFloat\",\"inlineDouble\",\"inlineFloat\",\"longPackFloat\",\"mutableRefDouble\",\"mutableRefFloatIn1Long\",\"mutableRefFloatIn2Longs\",\"valueDouble\",\"valueFloat\",\"valueInlineDouble\",\"valueInlineFloat\"]\n},{\n\"aesthetic\":\"y\",\n\"name\":\"ns/op\",\n\"limits\":[0.0,1548512.9445]\n}],\n\"layers\":[{\n\"mapping\":{\n\"x\":\"x\",\n\"y\":\"y\",\n\"fill\":\"fill\"\n},\n\"stat\":\"identity\",\n\"position\":\"stack\",\n\"geom\":\"bar\",\n\"data\":{\n\"x\":[\"baselineDouble\",\"baselineFloat\",\"inlineDouble\",\"inlineFloat\",\"longPackFloat\",\"mutableRefDouble\",\"mutableRefFloatIn1Long\",\"mutableRefFloatIn2Longs\",\"valueDouble\",\"valueFloat\",\"valueInlineDouble\",\"valueInlineFloat\"],\n\"y\":[931858.124,928123.143,930382.882,900125.64,1547488.939,663923.418,1535125.654,660791.922,656028.937,667792.942,653461.746,674163.867],\n\"fill\":[\"baselineDouble\",\"baselineFloat\",\"inlineDouble\",\"inlineFloat\",\"longPackFloat\",\"mutableRefDouble\",\"mutableRefFloatIn1Long\",\"mutableRefFloatIn2Longs\",\"valueDouble\",\"valueFloat\",\"valueInlineDouble\",\"valueInlineFloat\"]\n}\n},{\n\"mapping\":{\n\"x\":\"x1\",\n\"ymin\":\"ymin\",\n\"ymax\":\"ymax\"\n},\n\"stat\":\"identity\",\n\"size\":0.6,\n\"width\":0.5,\n\"position\":\"dodge\",\n\"geom\":\"errorbar\",\n\"data\":{\n\"ymin\":[930504.3019999999,921908.7605000001,927306.315,898177.8625,1546464.9335,662961.4275,1534260.0005,660128.658,655586.687,658781.1710000001,650416.6780000001,665772.9454999999],\n\"ymax\":[933211.946,934337.5255,933459.449,902073.4175,1548512.9445,664885.4084999999,1535991.3075,661455.186,656471.187,676804.713,656506.814,682554.7885],\n\"x1\":[\"baselineDouble\",\"baselineFloat\",\"inlineDouble\",\"inlineFloat\",\"longPackFloat\",\"mutableRefDouble\",\"mutableRefFloatIn1Long\",\"mutableRefFloatIn2Longs\",\"valueDouble\",\"valueFloat\",\"valueInlineDouble\",\"valueInlineFloat\"]\n}\n},{\n\"mapping\":{\n\"x\":\"x2\",\n\"y\":\"y1\",\n\"label\":\"label\"\n},\n\"stat\":\"identity\",\n\"size\":5.0,\n\"position\":{\n\"name\":\"stack\",\n\"vjust\":0.5,\n\"kind\":\"pos\"\n},\n\"geom\":\"text\",\n\"data\":{\n\"y1\":[931858.124,928123.143,930382.882,900125.64,1547488.939,663923.418,1535125.654,660791.922,656028.937,667792.942,653461.746,674163.867],\n\"x2\":[\"baselineDouble\",\"baselineFloat\",\"inlineDouble\",\"inlineFloat\",\"longPackFloat\",\"mutableRefDouble\",\"mutableRefFloatIn1Long\",\"mutableRefFloatIn2Longs\",\"valueDouble\",\"valueFloat\",\"valueInlineDouble\",\"valueInlineFloat\"],\n\"label\":[\"100%\\n±\\n0.3%\\nDouble\",\"100%\\n±\\n1.3%\\nFloat\",\"100%\\n±\\n0.7%\\nDouble\",\"97%\\n±\\n0.4%\\nFloat\",\"167%\\n±\\n0.2%\\nFloat\",\"71%\\n±\\n0.2%\\nDouble\",\"165%\\n±\\n0.2%\\nFloat\",\"71%\\n±\\n0.1%\\nFloat\",\"70%\\n±\\n0.1%\\nDouble\",\"72%\\n±\\n1.9%\\nFloat\",\"70%\\n±\\n0.7%\\nDouble\",\"73%\\n±\\n1.8%\\nFloat\"]\n}\n}],\n\"theme\":{\n\"plot_title\":{\n\"hjust\":0.5,\n\"blank\":false\n},\n\"legend_position\":\"right\"\n}\n};\n           var plotContainer = document.getElementById(\"GTWrPX\");\n           window.letsPlotCall(function() {{\n               LetsPlot.buildPlotFromProcessedSpecs(plotSpec, -1, -1, plotContainer);\n           }});\n       })();    \n   </script>"
     },
     "metadata": {},
     "output_type": "display_data"
    }
   ],
   "source": [
    "import org.jetbrains.letsPlot.intern.PosKind\n",
    "import org.jetbrains.letsPlot.intern.StatKind\n",
    "import org.jetbrains.letsPlot.intern.layer.PosOptions\n",
    "import org.jetbrains.letsPlot.intern.layer.StatOptions\n",
    "\n",
    "val names = benchmarkLines.map { it.name }\n",
    "val scores = benchmarkLines.map { it.score }\n",
    "val scoresMinusErrors = benchmarkLines.map { it.score - it.error / 2 }\n",
    "val scoresPlusErrors = benchmarkLines.map { it.score + it.error / 2 }\n",
    "val baseline = listOf(\"Float\", \"Double\").associateWith { type ->\n",
    "    benchmarkLines.single { it.name == \"baseline$type\" }\n",
    "}\n",
    "val plot = letsPlot() +\n",
    "        labs(\"Microbenchmark of 3D scene rendering\", fill = \"Benchmark\", y = \"ns/op\") +\n",
    "        geomBar(stat = StatOptions(kind = StatKind.IDENTITY)) {\n",
    "            x = names\n",
    "            y = scores\n",
    "            fill = names\n",
    "        } +\n",
    "        geomErrorBar(\n",
    "            width = 0.5,\n",
    "            position = PosOptions(kind = PosKind.DODGE),\n",
    "            size = 0.6\n",
    "        ) {\n",
    "            x = names\n",
    "            ymin = scoresMinusErrors\n",
    "            ymax = scoresPlusErrors\n",
    "        } +\n",
    "        geomText(\n",
    "            stat = StatOptions(kind = StatKind.IDENTITY),\n",
    "            position = positionStack(vjust = 0.5),\n",
    "            size = 5,\n",
    "        ) {\n",
    "            x = names\n",
    "            y = scores\n",
    "            label = benchmarkLines.map {\n",
    "                val isFloat = it.name.contains(\"Float\")\n",
    "                val type = if (isFloat) \"Float\" else \"Double\"\n",
    "                val score = it.score / baseline[type]!!.score\n",
    "                val error = it.error / baseline[type]!!.score\n",
    "                \"${String.format(\"%.0f\", score * 100)}%\\n±\\n${String.format(\"%.1f\", error * 100)}%\\n${type}\"\n",
    "            }\n",
    "        } +\n",
    "        scaleXDiscrete(\n",
    "            labels = names,\n",
    "            name = \"\",\n",
    "            limits = names + listOf(\"\"),\n",
    "            breaks = names.toList()\n",
    "        ) +\n",
    "        scaleYContinuous(limits = 0 to scoresPlusErrors.max(), name = \"ns/op\") +\n",
    "        theme(plotTitle = elementText(hjust = 0.5)).legendPositionRight() +\n",
    "        ggsize(1000, 800)\n",
    "\n",
    "\n",
    "plot.show()"
   ],
   "metadata": {
    "collapsed": false,
    "ExecuteTime": {
     "start_time": "2023-04-09T19:35:10.102716Z",
     "end_time": "2023-04-09T19:35:10.745836Z"
    }
   }
  },
  {
   "cell_type": "code",
   "execution_count": 126,
   "outputs": [
    {
     "data": {
      "text/plain": "/Users/Evgeniy.Zhelenskiy/IdeaProjects/Wolf3d/lets-plot-images/results.svg"
     },
     "execution_count": 126,
     "metadata": {},
     "output_type": "execute_result"
    }
   ],
   "source": [
    "ggsave(plot = plot, filename = \"results.svg\")"
   ],
   "metadata": {
    "collapsed": false,
    "ExecuteTime": {
     "start_time": "2023-04-09T19:35:10.744150Z",
     "end_time": "2023-04-09T19:35:10.816378Z"
    }
   }
  }
 ],
 "metadata": {
  "kernelspec": {
   "display_name": "Kotlin",
   "language": "kotlin",
   "name": "kotlin"
  },
  "language_info": {
   "name": "kotlin",
   "version": "1.8.0",
   "mimetype": "text/x-kotlin",
   "file_extension": ".kt",
   "pygments_lexer": "kotlin",
   "codemirror_mode": "text/x-kotlin",
   "nbconvert_exporter": ""
  }
 },
 "nbformat": 4,
 "nbformat_minor": 0
}
