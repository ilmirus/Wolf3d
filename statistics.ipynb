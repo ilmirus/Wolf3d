{
 "cells": [
  {
   "cell_type": "code",
   "execution_count": 1,
   "metadata": {
    "collapsed": true,
    "ExecuteTime": {
     "end_time": "2023-04-27T18:34:29.393667Z",
     "start_time": "2023-04-27T18:34:28.350254Z"
    }
   },
   "outputs": [
    {
     "data": {
      "text/plain": "baselineFloat: 4.9087861753E7 ± 195844.365 ns/op\ninlineFloat: 4.885733804E7 ± 489046.649 ns/op\nlongPackFloat: 8.311550343E7 ± 140224.653 ns/op\nmutableRefFloatIn1Long: 9.4012622697E7 ± 2415715.124 ns/op\nmutableRefFloatIn2Longs: 5.6710156491E7 ± 1826058.309 ns/op\nvalueFloat: 3.6907016518E7 ± 37524.791 ns/op\nvalueInlineFloat: 3.7185954413E7 ± 160470.782 ns/op\nvaluePreserveBoxFloat: 3.6009581147E7 ± 1854930.088 ns/op\nbaselineDouble: 5.0412366376E7 ± 1079493.27 ns/op\ninlineDouble: 5.1395603639E7 ± 355671.909 ns/op\nmutableRefDouble: 5.8632792455E7 ± 109080.116 ns/op\nvalueDouble: 3.582699471E7 ± 1160759.908 ns/op\nvalueInlineDouble: 3.6537176037E7 ± 248733.877 ns/op\nvaluePreserveBoxDouble: 3.5883592673E7 ± 1037520.526 ns/op"
     },
     "execution_count": 1,
     "metadata": {},
     "output_type": "execute_result"
    }
   ],
   "source": [
    "import java.nio.file.Files\n",
    "import java.nio.file.Path\n",
    "\n",
    "data class BenchmarkData(val name: String, val score: Double, val error: Double) {\n",
    "    val type = getType(name)\n",
    "    override fun toString(): String = \"$name: $score ± $error ns/op\"\n",
    "}\n",
    "\n",
    "enum class Type { Int, Long, Float, Double }\n",
    "\n",
    "fun getType(name: String) = when {\n",
    "    name.contains(\"Float\") -> Type.Float\n",
    "    name.contains(\"Int\") -> Type.Int\n",
    "    name.contains(\"Double\") -> Type.Double\n",
    "    name.contains(\"Long\") -> Type.Long // Long must be the last as it is contained in other test names\n",
    "    else -> error(\"Unknown type: ${name}\")\n",
    "}\n",
    "\n",
    "fun readHotspotBenchmarkData(benchmarkName: String) = Files.readAllLines(Path.of(\"build\", \"results\", \"jmh\", \"results.txt\"))\n",
    "    .mapNotNull {\n",
    "        val r = Regex(\"$benchmarkName\\\\.([^ ]+) +avgt +\\\\d+ +([0-9.]+) +± +([0-9.]+) +ns/op\")\n",
    "        val match = r.matchEntire(it) ?: return@mapNotNull null\n",
    "        BenchmarkData(\n",
    "            name = match.groups[1]!!.value,\n",
    "            score = match.groups[2]!!.value.toDouble(),\n",
    "            error = match.groups[3]!!.value.toDouble(),\n",
    "        )\n",
    "    }.sortedBy { it.type }\n",
    "(readHotspotBenchmarkData(\"Wolf3dBenchmark\") + readHotspotBenchmarkData(\"FibonacciBenchmark\")).joinToString(\"\\n\")"
   ]
  },
  {
   "cell_type": "code",
   "execution_count": 2,
   "outputs": [
    {
     "data": {
      "text/html": "   <div id=\"tvvVqm\"></div>\n   <script type=\"text/javascript\" data-lets-plot-script=\"library\">\n       if(!window.letsPlotCallQueue) {\n           window.letsPlotCallQueue = [];\n       }; \n       window.letsPlotCall = function(f) {\n           window.letsPlotCallQueue.push(f);\n       };\n       (function() {\n           var script = document.createElement(\"script\");\n           script.type = \"text/javascript\";\n           script.src = \"https://cdn.jsdelivr.net/gh/JetBrains/lets-plot@v3.1.0/js-package/distr/lets-plot.min.js\";\n           script.onload = function() {\n               window.letsPlotCall = function(f) {f();};\n               window.letsPlotCallQueue.forEach(function(f) {f();});\n               window.letsPlotCallQueue = [];\n               \n               \n           };\n           script.onerror = function(event) {\n               window.letsPlotCall = function(f) {};\n               window.letsPlotCallQueue = [];\n               var div = document.createElement(\"div\");\n               div.style.color = 'darkred';\n               div.textContent = 'Error loading Lets-Plot JS';\n               document.getElementById(\"tvvVqm\").appendChild(div);\n           };\n           var e = document.getElementById(\"tvvVqm\");\n           e.appendChild(script);\n       })();\n   </script>"
     },
     "metadata": {},
     "output_type": "display_data"
    }
   ],
   "source": [
    "%use lets-plot"
   ],
   "metadata": {
    "collapsed": false,
    "ExecuteTime": {
     "end_time": "2023-04-27T18:34:32.943832Z",
     "start_time": "2023-04-27T18:34:29.394071Z"
    }
   }
  },
  {
   "cell_type": "code",
   "execution_count": 3,
   "outputs": [],
   "source": [
    "import org.jetbrains.letsPlot.intern.PosKind\n",
    "import org.jetbrains.letsPlot.intern.StatKind\n",
    "import org.jetbrains.letsPlot.intern.layer.PosOptions\n",
    "import org.jetbrains.letsPlot.intern.layer.StatOptions\n",
    "\n",
    "fun makePlot(name: String, platform: String, benchmarkLines: List<BenchmarkData>) {\n",
    "    if (benchmarkLines.isEmpty()) return\n",
    "    val names = benchmarkLines.map { it.name }\n",
    "    val scores = benchmarkLines.map { it.score }\n",
    "    val scoresMinusErrors = benchmarkLines.map { it.score - it.error / 2 }\n",
    "    val scoresPlusErrors = benchmarkLines.map { it.score + it.error / 2 }\n",
    "    val baseline = benchmarkLines.filter { it.name.startsWith(\"baseline\") }.groupBy { it.type }.mapValues { (_, v) -> v.single() }\n",
    "    val maxScore = scoresPlusErrors.max()\n",
    "    val plot = letsPlot() +\n",
    "            labs(\"$name ($platform)\", fill = \"Benchmark\", y = \"ns/op\") +\n",
    "            geomBar(stat = StatOptions(kind = StatKind.IDENTITY)) {\n",
    "                x = names\n",
    "                y = scores\n",
    "                fill = names\n",
    "            } +\n",
    "            geomErrorBar(\n",
    "                width = 0.5,\n",
    "                position = PosOptions(kind = PosKind.DODGE),\n",
    "                size = 0.6\n",
    "            ) {\n",
    "                x = names\n",
    "                ymin = scoresMinusErrors\n",
    "                ymax = scoresPlusErrors\n",
    "            } +\n",
    "            geomText(\n",
    "                stat = StatOptions(kind = StatKind.IDENTITY),\n",
    "                position = positionStack(vjust = 1.0),\n",
    "                size = 4.5,\n",
    "            ) {\n",
    "                x = names\n",
    "                y = scores.map {\n",
    "                    val threshold = 0.08\n",
    "                    if (it < maxScore * threshold) it + threshold * maxScore / 2 else it / 2\n",
    "                }\n",
    "                label = benchmarkLines.map {\n",
    "                    val score = it.score / baseline[it.type]!!.score\n",
    "                    val error = it.error / baseline[it.type]!!.score\n",
    "                    \"${String.format(\"%.0f\", score * 100)}%\\n±\\n${String.format(\"%.1f\", error * 100)}%\\n${it.type}\"\n",
    "                }\n",
    "            } +\n",
    "            scaleXDiscrete(\n",
    "                labels = names,\n",
    "                name = \"\",\n",
    "                limits = names + listOf(\"\"),\n",
    "                breaks = names.toList()\n",
    "            ) +\n",
    "            scaleYContinuous(limits = 0 to maxScore, name = \"ns/op\") +\n",
    "            theme(plotTitle = elementText(hjust = 0.5)).legendPositionRight() +\n",
    "            ggsize(1000, 800)\n",
    "    ggsave(plot = plot, filename = \"$name ($platform).svg\")\n",
    "    plot.show()\n",
    "}\n"
   ],
   "metadata": {
    "collapsed": false,
    "ExecuteTime": {
     "end_time": "2023-04-27T18:34:33.875662Z",
     "start_time": "2023-04-27T18:34:32.938505Z"
    }
   }
  },
  {
   "cell_type": "code",
   "execution_count": 4,
   "outputs": [
    {
     "data": {
      "text/html": "   <div id=\"TjWukJ\"></div>\n   <script type=\"text/javascript\" data-lets-plot-script=\"plot\">\n       (function() {\n           var plotSpec={\n\"ggtitle\":{\n\"text\":\"Wolf3d (Hotspot)\"\n},\n\"mapping\":{\n},\n\"ggsize\":{\n\"width\":1000.0,\n\"height\":800.0\n},\n\"kind\":\"plot\",\n\"scales\":[{\n\"aesthetic\":\"y\",\n\"name\":\"ns/op\"\n},{\n\"aesthetic\":\"fill\",\n\"name\":\"Benchmark\"\n},{\n\"aesthetic\":\"x\",\n\"breaks\":[\"baselineFloat\",\"inlineFloat\",\"longPackFloat\",\"mutableRefFloatIn1Long\",\"mutableRefFloatIn2Longs\",\"valueFloat\",\"valueInlineFloat\",\"valuePreserveBoxFloat\",\"baselineDouble\",\"inlineDouble\",\"mutableRefDouble\",\"valueDouble\",\"valueInlineDouble\",\"valuePreserveBoxDouble\"],\n\"name\":\"\",\n\"limits\":[\"baselineFloat\",\"inlineFloat\",\"longPackFloat\",\"mutableRefFloatIn1Long\",\"mutableRefFloatIn2Longs\",\"valueFloat\",\"valueInlineFloat\",\"valuePreserveBoxFloat\",\"baselineDouble\",\"inlineDouble\",\"mutableRefDouble\",\"valueDouble\",\"valueInlineDouble\",\"valuePreserveBoxDouble\",\"\"],\n\"labels\":[\"baselineFloat\",\"inlineFloat\",\"longPackFloat\",\"mutableRefFloatIn1Long\",\"mutableRefFloatIn2Longs\",\"valueFloat\",\"valueInlineFloat\",\"valuePreserveBoxFloat\",\"baselineDouble\",\"inlineDouble\",\"mutableRefDouble\",\"valueDouble\",\"valueInlineDouble\",\"valuePreserveBoxDouble\"]\n},{\n\"aesthetic\":\"y\",\n\"name\":\"ns/op\",\n\"limits\":[0.0,9.5220480259E7]\n}],\n\"layers\":[{\n\"mapping\":{\n\"x\":\"x\",\n\"y\":\"y\",\n\"fill\":\"fill\"\n},\n\"stat\":\"identity\",\n\"position\":\"stack\",\n\"geom\":\"bar\",\n\"data\":{\n\"x\":[\"baselineFloat\",\"inlineFloat\",\"longPackFloat\",\"mutableRefFloatIn1Long\",\"mutableRefFloatIn2Longs\",\"valueFloat\",\"valueInlineFloat\",\"valuePreserveBoxFloat\",\"baselineDouble\",\"inlineDouble\",\"mutableRefDouble\",\"valueDouble\",\"valueInlineDouble\",\"valuePreserveBoxDouble\"],\n\"y\":[4.9087861753E7,4.885733804E7,8.311550343E7,9.4012622697E7,5.6710156491E7,3.6907016518E7,3.7185954413E7,3.6009581147E7,5.0412366376E7,5.1395603639E7,5.8632792455E7,3.582699471E7,3.6537176037E7,3.5883592673E7],\n\"fill\":[\"baselineFloat\",\"inlineFloat\",\"longPackFloat\",\"mutableRefFloatIn1Long\",\"mutableRefFloatIn2Longs\",\"valueFloat\",\"valueInlineFloat\",\"valuePreserveBoxFloat\",\"baselineDouble\",\"inlineDouble\",\"mutableRefDouble\",\"valueDouble\",\"valueInlineDouble\",\"valuePreserveBoxDouble\"]\n}\n},{\n\"mapping\":{\n\"x\":\"x1\",\n\"ymin\":\"ymin\",\n\"ymax\":\"ymax\"\n},\n\"stat\":\"identity\",\n\"size\":0.6,\n\"width\":0.5,\n\"position\":\"dodge\",\n\"geom\":\"errorbar\",\n\"data\":{\n\"ymin\":[4.89899395705E7,4.86128147155E7,8.304539110350001E7,9.280476513499999E7,5.57971273365E7,3.68882541225E7,3.7105719022E7,3.5082116103E7,4.9872619741000004E7,5.12177676845E7,5.8578252397E7,3.5246614756E7,3.64128090985E7,3.5364832410000004E7],\n\"ymax\":[4.9185783935499996E7,4.91018613645E7,8.31856157565E7,9.5220480259E7,5.76231856455E7,3.6925778913499996E7,3.7266189804000005E7,3.6937046191E7,5.0952113011E7,5.1573439593499996E7,5.8687332513E7,3.6407374664000005E7,3.66615429755E7,3.6402352936E7],\n\"x1\":[\"baselineFloat\",\"inlineFloat\",\"longPackFloat\",\"mutableRefFloatIn1Long\",\"mutableRefFloatIn2Longs\",\"valueFloat\",\"valueInlineFloat\",\"valuePreserveBoxFloat\",\"baselineDouble\",\"inlineDouble\",\"mutableRefDouble\",\"valueDouble\",\"valueInlineDouble\",\"valuePreserveBoxDouble\"]\n}\n},{\n\"mapping\":{\n\"x\":\"x2\",\n\"y\":\"y1\",\n\"label\":\"label\"\n},\n\"stat\":\"identity\",\n\"size\":4.5,\n\"position\":{\n\"name\":\"stack\",\n\"vjust\":1.0\n},\n\"geom\":\"text\",\n\"data\":{\n\"y1\":[2.45439308765E7,2.442866902E7,4.1557751715E7,4.70063113485E7,2.83550782455E7,1.8453508259E7,1.85929772065E7,1.80047905735E7,2.5206183188E7,2.56978018195E7,2.93163962275E7,1.7913497355E7,1.82685880185E7,1.79417963365E7],\n\"x2\":[\"baselineFloat\",\"inlineFloat\",\"longPackFloat\",\"mutableRefFloatIn1Long\",\"mutableRefFloatIn2Longs\",\"valueFloat\",\"valueInlineFloat\",\"valuePreserveBoxFloat\",\"baselineDouble\",\"inlineDouble\",\"mutableRefDouble\",\"valueDouble\",\"valueInlineDouble\",\"valuePreserveBoxDouble\"],\n\"label\":[\"100%\\n±\\n0.4%\\nFloat\",\"100%\\n±\\n1.0%\\nFloat\",\"169%\\n±\\n0.3%\\nFloat\",\"192%\\n±\\n4.9%\\nFloat\",\"116%\\n±\\n3.7%\\nFloat\",\"75%\\n±\\n0.1%\\nFloat\",\"76%\\n±\\n0.3%\\nFloat\",\"73%\\n±\\n3.8%\\nFloat\",\"100%\\n±\\n2.1%\\nDouble\",\"102%\\n±\\n0.7%\\nDouble\",\"116%\\n±\\n0.2%\\nDouble\",\"71%\\n±\\n2.3%\\nDouble\",\"72%\\n±\\n0.5%\\nDouble\",\"71%\\n±\\n2.1%\\nDouble\"]\n}\n}],\n\"theme\":{\n\"plot_title\":{\n\"hjust\":0.5,\n\"blank\":false\n},\n\"legend_position\":\"right\"\n}\n};\n           var plotContainer = document.getElementById(\"TjWukJ\");\n           window.letsPlotCall(function() {{\n               LetsPlot.buildPlotFromProcessedSpecs(plotSpec, -1, -1, plotContainer);\n           }});\n       })();    \n   </script>"
     },
     "metadata": {},
     "output_type": "display_data"
    },
    {
     "data": {
      "text/html": "   <div id=\"7pa9OE\"></div>\n   <script type=\"text/javascript\" data-lets-plot-script=\"plot\">\n       (function() {\n           var plotSpec={\n\"ggtitle\":{\n\"text\":\"Ackermann (Hotspot)\"\n},\n\"mapping\":{\n},\n\"ggsize\":{\n\"width\":1000.0,\n\"height\":800.0\n},\n\"kind\":\"plot\",\n\"scales\":[{\n\"aesthetic\":\"y\",\n\"name\":\"ns/op\"\n},{\n\"aesthetic\":\"fill\",\n\"name\":\"Benchmark\"\n},{\n\"aesthetic\":\"x\",\n\"breaks\":[\"baselineInt\",\"longPackInt\",\"mutableRefIntIn1Long\",\"mutableRefIntIn2Longs\",\"valueInt\",\"valuePreserveBoxInt\",\"baselineLong\",\"mutableRefLong\",\"valueLong\",\"valuePreserveBoxLong\",\"baselineFloat\",\"longPackFloat\",\"mutableRefFloatIn1Long\",\"mutableRefFloatIn2Longs\",\"valueFloat\",\"valuePreserveBoxFloat\",\"baselineDouble\",\"mutableRefDouble\",\"valueDouble\",\"valuePreserveBoxDouble\"],\n\"name\":\"\",\n\"limits\":[\"baselineInt\",\"longPackInt\",\"mutableRefIntIn1Long\",\"mutableRefIntIn2Longs\",\"valueInt\",\"valuePreserveBoxInt\",\"baselineLong\",\"mutableRefLong\",\"valueLong\",\"valuePreserveBoxLong\",\"baselineFloat\",\"longPackFloat\",\"mutableRefFloatIn1Long\",\"mutableRefFloatIn2Longs\",\"valueFloat\",\"valuePreserveBoxFloat\",\"baselineDouble\",\"mutableRefDouble\",\"valueDouble\",\"valuePreserveBoxDouble\",\"\"],\n\"labels\":[\"baselineInt\",\"longPackInt\",\"mutableRefIntIn1Long\",\"mutableRefIntIn2Longs\",\"valueInt\",\"valuePreserveBoxInt\",\"baselineLong\",\"mutableRefLong\",\"valueLong\",\"valuePreserveBoxLong\",\"baselineFloat\",\"longPackFloat\",\"mutableRefFloatIn1Long\",\"mutableRefFloatIn2Longs\",\"valueFloat\",\"valuePreserveBoxFloat\",\"baselineDouble\",\"mutableRefDouble\",\"valueDouble\",\"valuePreserveBoxDouble\"]\n},{\n\"aesthetic\":\"y\",\n\"name\":\"ns/op\",\n\"limits\":[0.0,41241.347499999996]\n}],\n\"layers\":[{\n\"mapping\":{\n\"x\":\"x\",\n\"y\":\"y\",\n\"fill\":\"fill\"\n},\n\"stat\":\"identity\",\n\"position\":\"stack\",\n\"geom\":\"bar\",\n\"data\":{\n\"x\":[\"baselineInt\",\"longPackInt\",\"mutableRefIntIn1Long\",\"mutableRefIntIn2Longs\",\"valueInt\",\"valuePreserveBoxInt\",\"baselineLong\",\"mutableRefLong\",\"valueLong\",\"valuePreserveBoxLong\",\"baselineFloat\",\"longPackFloat\",\"mutableRefFloatIn1Long\",\"mutableRefFloatIn2Longs\",\"valueFloat\",\"valuePreserveBoxFloat\",\"baselineDouble\",\"mutableRefDouble\",\"valueDouble\",\"valuePreserveBoxDouble\"],\n\"y\":[27964.296,13692.876,21459.67,16640.671,19899.986,19852.537,28369.033,16962.648,23365.268,23858.271,30192.969,26417.707,37349.299,36211.546,21932.501,21566.727,34492.18,33798.332,24564.102,24386.306],\n\"fill\":[\"baselineInt\",\"longPackInt\",\"mutableRefIntIn1Long\",\"mutableRefIntIn2Longs\",\"valueInt\",\"valuePreserveBoxInt\",\"baselineLong\",\"mutableRefLong\",\"valueLong\",\"valuePreserveBoxLong\",\"baselineFloat\",\"longPackFloat\",\"mutableRefFloatIn1Long\",\"mutableRefFloatIn2Longs\",\"valueFloat\",\"valuePreserveBoxFloat\",\"baselineDouble\",\"mutableRefDouble\",\"valueDouble\",\"valuePreserveBoxDouble\"]\n}\n},{\n\"mapping\":{\n\"x\":\"x1\",\n\"ymin\":\"ymin\",\n\"ymax\":\"ymax\"\n},\n\"stat\":\"identity\",\n\"size\":0.6,\n\"width\":0.5,\n\"position\":\"dodge\",\n\"geom\":\"errorbar\",\n\"data\":{\n\"ymin\":[27239.907499999998,13645.101,17652.603,16560.6505,19754.9085,19705.903000000002,28208.874,16816.258,23261.16,23524.443,30033.647500000003,26113.6655,33457.2505,31676.284000000003,21741.729,21476.278,34369.1925,29520.095500000003,24404.203999999998,24186.111],\n\"ymax\":[28688.6845,13740.651,25266.736999999997,16720.691499999997,20045.0635,19999.171,28529.192,17109.038,23469.376,24192.099000000002,30352.2905,26721.748499999998,41241.347499999996,40746.808000000005,22123.273,21657.176,34615.1675,38076.5685,24724.0,24586.501],\n\"x1\":[\"baselineInt\",\"longPackInt\",\"mutableRefIntIn1Long\",\"mutableRefIntIn2Longs\",\"valueInt\",\"valuePreserveBoxInt\",\"baselineLong\",\"mutableRefLong\",\"valueLong\",\"valuePreserveBoxLong\",\"baselineFloat\",\"longPackFloat\",\"mutableRefFloatIn1Long\",\"mutableRefFloatIn2Longs\",\"valueFloat\",\"valuePreserveBoxFloat\",\"baselineDouble\",\"mutableRefDouble\",\"valueDouble\",\"valuePreserveBoxDouble\"]\n}\n},{\n\"mapping\":{\n\"x\":\"x2\",\n\"y\":\"y1\",\n\"label\":\"label\"\n},\n\"stat\":\"identity\",\n\"size\":4.5,\n\"position\":{\n\"name\":\"stack\",\n\"vjust\":1.0\n},\n\"geom\":\"text\",\n\"data\":{\n\"y1\":[13982.148,6846.438,10729.835,8320.3355,9949.993,9926.2685,14184.5165,8481.324,11682.634,11929.1355,15096.4845,13208.8535,18674.6495,18105.773,10966.2505,10783.3635,17246.09,16899.166,12282.051,12193.153],\n\"x2\":[\"baselineInt\",\"longPackInt\",\"mutableRefIntIn1Long\",\"mutableRefIntIn2Longs\",\"valueInt\",\"valuePreserveBoxInt\",\"baselineLong\",\"mutableRefLong\",\"valueLong\",\"valuePreserveBoxLong\",\"baselineFloat\",\"longPackFloat\",\"mutableRefFloatIn1Long\",\"mutableRefFloatIn2Longs\",\"valueFloat\",\"valuePreserveBoxFloat\",\"baselineDouble\",\"mutableRefDouble\",\"valueDouble\",\"valuePreserveBoxDouble\"],\n\"label\":[\"100%\\n±\\n5.2%\\nInt\",\"49%\\n±\\n0.3%\\nInt\",\"77%\\n±\\n27.2%\\nInt\",\"60%\\n±\\n0.6%\\nInt\",\"71%\\n±\\n1.0%\\nInt\",\"71%\\n±\\n1.0%\\nInt\",\"100%\\n±\\n1.1%\\nLong\",\"60%\\n±\\n1.0%\\nLong\",\"82%\\n±\\n0.7%\\nLong\",\"84%\\n±\\n2.4%\\nLong\",\"100%\\n±\\n1.1%\\nFloat\",\"87%\\n±\\n2.0%\\nFloat\",\"124%\\n±\\n25.8%\\nFloat\",\"120%\\n±\\n30.0%\\nFloat\",\"73%\\n±\\n1.3%\\nFloat\",\"71%\\n±\\n0.6%\\nFloat\",\"100%\\n±\\n0.7%\\nDouble\",\"98%\\n±\\n24.8%\\nDouble\",\"71%\\n±\\n0.9%\\nDouble\",\"71%\\n±\\n1.2%\\nDouble\"]\n}\n}],\n\"theme\":{\n\"plot_title\":{\n\"hjust\":0.5,\n\"blank\":false\n},\n\"legend_position\":\"right\"\n}\n};\n           var plotContainer = document.getElementById(\"7pa9OE\");\n           window.letsPlotCall(function() {{\n               LetsPlot.buildPlotFromProcessedSpecs(plotSpec, -1, -1, plotContainer);\n           }});\n       })();    \n   </script>"
     },
     "metadata": {},
     "output_type": "display_data"
    },
    {
     "data": {
      "text/html": "   <div id=\"VnWw7K\"></div>\n   <script type=\"text/javascript\" data-lets-plot-script=\"plot\">\n       (function() {\n           var plotSpec={\n\"ggtitle\":{\n\"text\":\"BoxRecreation (Hotspot)\"\n},\n\"mapping\":{\n},\n\"ggsize\":{\n\"width\":1000.0,\n\"height\":800.0\n},\n\"kind\":\"plot\",\n\"scales\":[{\n\"aesthetic\":\"y\",\n\"name\":\"ns/op\"\n},{\n\"aesthetic\":\"fill\",\n\"name\":\"Benchmark\"\n},{\n\"aesthetic\":\"x\",\n\"breaks\":[\"baselineInt\",\"longPackInt\",\"valueInt\",\"valuePreserveBoxInt\",\"baselineLong\",\"valueLong\",\"valuePreserveBoxLong\",\"baselineFloat\",\"longPackFloat\",\"valueFloat\",\"valuePreserveBoxFloat\",\"baselineDouble\",\"valueDouble\",\"valuePreserveBoxDouble\"],\n\"name\":\"\",\n\"limits\":[\"baselineInt\",\"longPackInt\",\"valueInt\",\"valuePreserveBoxInt\",\"baselineLong\",\"valueLong\",\"valuePreserveBoxLong\",\"baselineFloat\",\"longPackFloat\",\"valueFloat\",\"valuePreserveBoxFloat\",\"baselineDouble\",\"valueDouble\",\"valuePreserveBoxDouble\",\"\"],\n\"labels\":[\"baselineInt\",\"longPackInt\",\"valueInt\",\"valuePreserveBoxInt\",\"baselineLong\",\"valueLong\",\"valuePreserveBoxLong\",\"baselineFloat\",\"longPackFloat\",\"valueFloat\",\"valuePreserveBoxFloat\",\"baselineDouble\",\"valueDouble\",\"valuePreserveBoxDouble\"]\n},{\n\"aesthetic\":\"y\",\n\"name\":\"ns/op\",\n\"limits\":[0.0,957.9069999999999]\n}],\n\"layers\":[{\n\"mapping\":{\n\"x\":\"x\",\n\"y\":\"y\",\n\"fill\":\"fill\"\n},\n\"stat\":\"identity\",\n\"position\":\"stack\",\n\"geom\":\"bar\",\n\"data\":{\n\"x\":[\"baselineInt\",\"longPackInt\",\"valueInt\",\"valuePreserveBoxInt\",\"baselineLong\",\"valueLong\",\"valuePreserveBoxLong\",\"baselineFloat\",\"longPackFloat\",\"valueFloat\",\"valuePreserveBoxFloat\",\"baselineDouble\",\"valueDouble\",\"valuePreserveBoxDouble\"],\n\"y\":[93.49,873.14,906.215,91.637,95.592,945.982,96.578,100.251,897.882,924.338,90.852,107.082,948.538,94.08],\n\"fill\":[\"baselineInt\",\"longPackInt\",\"valueInt\",\"valuePreserveBoxInt\",\"baselineLong\",\"valueLong\",\"valuePreserveBoxLong\",\"baselineFloat\",\"longPackFloat\",\"valueFloat\",\"valuePreserveBoxFloat\",\"baselineDouble\",\"valueDouble\",\"valuePreserveBoxDouble\"]\n}\n},{\n\"mapping\":{\n\"x\":\"x1\",\n\"ymin\":\"ymin\",\n\"ymax\":\"ymax\"\n},\n\"stat\":\"identity\",\n\"size\":0.6,\n\"width\":0.5,\n\"position\":\"dodge\",\n\"geom\":\"errorbar\",\n\"data\":{\n\"ymin\":[92.3065,861.331,891.9250000000001,90.736,94.6935,934.057,95.2535,98.78750000000001,887.151,922.7874999999999,90.726,106.34049999999999,942.041,93.874],\n\"ymax\":[94.67349999999999,884.949,920.505,92.538,96.4905,957.9069999999999,97.9025,101.7145,908.6129999999999,925.8885,90.97800000000001,107.8235,955.035,94.286],\n\"x1\":[\"baselineInt\",\"longPackInt\",\"valueInt\",\"valuePreserveBoxInt\",\"baselineLong\",\"valueLong\",\"valuePreserveBoxLong\",\"baselineFloat\",\"longPackFloat\",\"valueFloat\",\"valuePreserveBoxFloat\",\"baselineDouble\",\"valueDouble\",\"valuePreserveBoxDouble\"]\n}\n},{\n\"mapping\":{\n\"x\":\"x2\",\n\"y\":\"y1\",\n\"label\":\"label\"\n},\n\"stat\":\"identity\",\n\"size\":4.5,\n\"position\":{\n\"name\":\"stack\",\n\"vjust\":1.0\n},\n\"geom\":\"text\",\n\"data\":{\n\"y1\":[46.745,436.57,453.1075,45.8185,47.796,472.991,48.289,50.1255,448.941,462.169,45.426,53.541,474.269,47.04],\n\"x2\":[\"baselineInt\",\"longPackInt\",\"valueInt\",\"valuePreserveBoxInt\",\"baselineLong\",\"valueLong\",\"valuePreserveBoxLong\",\"baselineFloat\",\"longPackFloat\",\"valueFloat\",\"valuePreserveBoxFloat\",\"baselineDouble\",\"valueDouble\",\"valuePreserveBoxDouble\"],\n\"label\":[\"100%\\n±\\n2.5%\\nInt\",\"934%\\n±\\n25.3%\\nInt\",\"969%\\n±\\n30.6%\\nInt\",\"98%\\n±\\n1.9%\\nInt\",\"100%\\n±\\n1.9%\\nLong\",\"990%\\n±\\n24.9%\\nLong\",\"101%\\n±\\n2.8%\\nLong\",\"100%\\n±\\n2.9%\\nFloat\",\"896%\\n±\\n21.4%\\nFloat\",\"922%\\n±\\n3.1%\\nFloat\",\"91%\\n±\\n0.3%\\nFloat\",\"100%\\n±\\n1.4%\\nDouble\",\"886%\\n±\\n12.1%\\nDouble\",\"88%\\n±\\n0.4%\\nDouble\"]\n}\n}],\n\"theme\":{\n\"plot_title\":{\n\"hjust\":0.5,\n\"blank\":false\n},\n\"legend_position\":\"right\"\n}\n};\n           var plotContainer = document.getElementById(\"VnWw7K\");\n           window.letsPlotCall(function() {{\n               LetsPlot.buildPlotFromProcessedSpecs(plotSpec, -1, -1, plotContainer);\n           }});\n       })();    \n   </script>"
     },
     "metadata": {},
     "output_type": "display_data"
    }
   ],
   "source": [
    "makePlot(\"Wolf3d\", \"Hotspot\", readHotspotBenchmarkData(\"Wolf3dBenchmark\"))\n",
    "makePlot(\"Ackermann\", \"Hotspot\", readHotspotBenchmarkData(\"AckermannBenchmark\"))\n",
    "makePlot(\"BoxRecreation\", \"Hotspot\", readHotspotBenchmarkData(\"BoxRecreationBenchmark\"))"
   ],
   "metadata": {
    "collapsed": false,
    "ExecuteTime": {
     "end_time": "2023-04-27T18:34:34.487829Z",
     "start_time": "2023-04-27T18:34:33.873299Z"
    }
   }
  },
  {
   "cell_type": "code",
   "execution_count": 5,
   "outputs": [
    {
     "data": {
      "text/plain": "baselineFloat: 4.00157115E8 ± 4735939.996622451 ns/op\ninlineFloat: 6.456765765E8 ± 1.0298151356511936E7 ns/op\nlongPackFloat: 1.17772673E8 ± 909860.8247409129 ns/op\nmutableRefFloatIn1Long: 2.21949558E8 ± 277593.34878945735 ns/op\nmutableRefFloatIn2Longs: 1.018417885E8 ± 1526716.218396278 ns/op\nvalueFloat: 2.708624035E8 ± 9105529.563692564 ns/op\nvalueInlineFloat: 1.76175501E7 ± 92765.14436892745 ns/op\nvaluePreserveBoxFloat: 2.758951535E8 ± 7728145.790369684 ns/op\nbaselineDouble: 4.00080519E8 ± 1.1993105733045664E7 ns/op\ninlineDouble: 1.0867619605E9 ± 2.062175328498758E7 ns/op\nmutableRefDouble: 1.483998845E8 ± 926602.294472071 ns/op\nvalueDouble: 4.401975575E8 ± 7574697.719579655 ns/op\nvalueInlineDouble: 2.2745956625E7 ± 30365.671962527293 ns/op\nvaluePreserveBoxDouble: 4.178391535E8 ± 6403710.467099603 ns/op"
     },
     "execution_count": 5,
     "metadata": {},
     "output_type": "execute_result"
    }
   ],
   "source": [
    "import java.io.FileFilter\n",
    "import kotlin.io.path.listDirectoryEntries\n",
    "\n",
    "fun readArtBenchmarkData(benchmarkName: String) = Path.of(\"android-benchmark/build/outputs/androidTest-results/connected\")\n",
    "    .toFile().listFiles(FileFilter { it.isDirectory })!!.single()\n",
    "    .listFiles { dir, name -> name.startsWith(\"logcat-org.jetbrains.\") }!!.flatMap { it.readLines() }\n",
    "    .mapNotNull {\n",
    "        val pattern = Regex(\"^\\\\d{2}-\\\\d{2} +\\\\d+:\\\\d+:\\\\d+.\\\\d+ +\\\\d+ +\\\\d+ +I +Benchmark: +$benchmarkName\\\\.([^\\\\[]+)\\\\[Metric \\\\(timeNs\\\\) +results: +median +([^,]+), +min [^,]+, +max [^,]+, +standardDeviation: +([^,]+), +.*\")\n",
    "        val match = pattern.matchEntire(it) ?: return@mapNotNull null\n",
    "        BenchmarkData(\n",
    "            name = match.groups[1]!!.value,\n",
    "            score = match.groups[2]!!.value.toDouble(),\n",
    "            error = match.groups[3]!!.value.toDouble(),\n",
    "        )\n",
    "     }.let { lines ->\n",
    "         val indexes = readHotspotBenchmarkData(benchmarkName).mapIndexed { index, benchmarkData -> benchmarkData.name to index }.toMap()\n",
    "         if (lines.all { it.name in indexes }) lines.sortedBy { indexes[it.name]!! } else lines.sortedBy { it.type }\n",
    "     }\n",
    "(readArtBenchmarkData(\"Wolf3dBenchmark\") + readArtBenchmarkData(\"FibonacciBenchmark\")).joinToString(\"\\n\")"
   ],
   "metadata": {
    "collapsed": false,
    "ExecuteTime": {
     "end_time": "2023-04-27T18:34:35.444382Z",
     "start_time": "2023-04-27T18:34:34.488225Z"
    }
   }
  },
  {
   "cell_type": "code",
   "execution_count": 6,
   "outputs": [
    {
     "data": {
      "text/html": "   <div id=\"YRCjw9\"></div>\n   <script type=\"text/javascript\" data-lets-plot-script=\"plot\">\n       (function() {\n           var plotSpec={\n\"ggtitle\":{\n\"text\":\"Wolf3d (ART)\"\n},\n\"mapping\":{\n},\n\"ggsize\":{\n\"width\":1000.0,\n\"height\":800.0\n},\n\"kind\":\"plot\",\n\"scales\":[{\n\"aesthetic\":\"y\",\n\"name\":\"ns/op\"\n},{\n\"aesthetic\":\"fill\",\n\"name\":\"Benchmark\"\n},{\n\"aesthetic\":\"x\",\n\"breaks\":[\"baselineFloat\",\"inlineFloat\",\"longPackFloat\",\"mutableRefFloatIn1Long\",\"mutableRefFloatIn2Longs\",\"valueFloat\",\"valueInlineFloat\",\"valuePreserveBoxFloat\",\"baselineDouble\",\"inlineDouble\",\"mutableRefDouble\",\"valueDouble\",\"valueInlineDouble\",\"valuePreserveBoxDouble\"],\n\"name\":\"\",\n\"limits\":[\"baselineFloat\",\"inlineFloat\",\"longPackFloat\",\"mutableRefFloatIn1Long\",\"mutableRefFloatIn2Longs\",\"valueFloat\",\"valueInlineFloat\",\"valuePreserveBoxFloat\",\"baselineDouble\",\"inlineDouble\",\"mutableRefDouble\",\"valueDouble\",\"valueInlineDouble\",\"valuePreserveBoxDouble\",\"\"],\n\"labels\":[\"baselineFloat\",\"inlineFloat\",\"longPackFloat\",\"mutableRefFloatIn1Long\",\"mutableRefFloatIn2Longs\",\"valueFloat\",\"valueInlineFloat\",\"valuePreserveBoxFloat\",\"baselineDouble\",\"inlineDouble\",\"mutableRefDouble\",\"valueDouble\",\"valueInlineDouble\",\"valuePreserveBoxDouble\"]\n},{\n\"aesthetic\":\"y\",\n\"name\":\"ns/op\",\n\"limits\":[0.0,1.0970728371424937E9]\n}],\n\"layers\":[{\n\"mapping\":{\n\"x\":\"x\",\n\"y\":\"y\",\n\"fill\":\"fill\"\n},\n\"stat\":\"identity\",\n\"position\":\"stack\",\n\"geom\":\"bar\",\n\"data\":{\n\"x\":[\"baselineFloat\",\"inlineFloat\",\"longPackFloat\",\"mutableRefFloatIn1Long\",\"mutableRefFloatIn2Longs\",\"valueFloat\",\"valueInlineFloat\",\"valuePreserveBoxFloat\",\"baselineDouble\",\"inlineDouble\",\"mutableRefDouble\",\"valueDouble\",\"valueInlineDouble\",\"valuePreserveBoxDouble\"],\n\"y\":[4.00157115E8,6.456765765E8,1.17772673E8,2.21949558E8,1.018417885E8,2.708624035E8,1.76175501E7,2.758951535E8,4.00080519E8,1.0867619605E9,1.483998845E8,4.401975575E8,2.2745956625E7,4.178391535E8],\n\"fill\":[\"baselineFloat\",\"inlineFloat\",\"longPackFloat\",\"mutableRefFloatIn1Long\",\"mutableRefFloatIn2Longs\",\"valueFloat\",\"valueInlineFloat\",\"valuePreserveBoxFloat\",\"baselineDouble\",\"inlineDouble\",\"mutableRefDouble\",\"valueDouble\",\"valueInlineDouble\",\"valuePreserveBoxDouble\"]\n}\n},{\n\"mapping\":{\n\"x\":\"x1\",\n\"ymin\":\"ymin\",\n\"ymax\":\"ymax\"\n},\n\"stat\":\"identity\",\n\"size\":0.6,\n\"width\":0.5,\n\"position\":\"dodge\",\n\"geom\":\"errorbar\",\n\"data\":{\n\"ymin\":[3.977891450016888E8,6.405275008217441E8,1.1731774258762954E8,2.2181076132560527E8,1.0107843039080186E8,2.6630963871815372E8,1.757116752781554E7,2.720310806048152E8,3.9408396613347715E8,1.0764510838575063E9,1.4793658335276395E8,4.3641020864021015E8,2.2730773789018735E7,4.146372982664502E8],\n\"ymax\":[4.025250849983112E8,6.508256521782559E8,1.1822760341237046E8,2.2208835467439473E8,1.0260514660919814E8,2.754151682818463E8,1.7663932672184464E7,2.797592263951848E8,4.0607707186652285E8,1.0970728371424937E9,1.4886318564723605E8,4.4398490635978985E8,2.2761139460981265E7,4.210410087335498E8],\n\"x1\":[\"baselineFloat\",\"inlineFloat\",\"longPackFloat\",\"mutableRefFloatIn1Long\",\"mutableRefFloatIn2Longs\",\"valueFloat\",\"valueInlineFloat\",\"valuePreserveBoxFloat\",\"baselineDouble\",\"inlineDouble\",\"mutableRefDouble\",\"valueDouble\",\"valueInlineDouble\",\"valuePreserveBoxDouble\"]\n}\n},{\n\"mapping\":{\n\"x\":\"x2\",\n\"y\":\"y1\",\n\"label\":\"label\"\n},\n\"stat\":\"identity\",\n\"size\":4.5,\n\"position\":{\n\"name\":\"stack\",\n\"vjust\":1.0\n},\n\"geom\":\"text\",\n\"data\":{\n\"y1\":[2.000785575E8,3.2283828825E8,5.88863365E7,1.10974779E8,5.092089425E7,1.3543120175E8,6.150046358569975E7,1.3794757675E8,2.000402595E8,5.4338098025E8,7.419994225E7,2.2009877875E8,6.662887011069975E7,2.0891957675E8],\n\"x2\":[\"baselineFloat\",\"inlineFloat\",\"longPackFloat\",\"mutableRefFloatIn1Long\",\"mutableRefFloatIn2Longs\",\"valueFloat\",\"valueInlineFloat\",\"valuePreserveBoxFloat\",\"baselineDouble\",\"inlineDouble\",\"mutableRefDouble\",\"valueDouble\",\"valueInlineDouble\",\"valuePreserveBoxDouble\"],\n\"label\":[\"100%\\n±\\n1.2%\\nFloat\",\"161%\\n±\\n2.6%\\nFloat\",\"29%\\n±\\n0.2%\\nFloat\",\"55%\\n±\\n0.1%\\nFloat\",\"25%\\n±\\n0.4%\\nFloat\",\"68%\\n±\\n2.3%\\nFloat\",\"4%\\n±\\n0.0%\\nFloat\",\"69%\\n±\\n1.9%\\nFloat\",\"100%\\n±\\n3.0%\\nDouble\",\"272%\\n±\\n5.2%\\nDouble\",\"37%\\n±\\n0.2%\\nDouble\",\"110%\\n±\\n1.9%\\nDouble\",\"6%\\n±\\n0.0%\\nDouble\",\"104%\\n±\\n1.6%\\nDouble\"]\n}\n}],\n\"theme\":{\n\"plot_title\":{\n\"hjust\":0.5,\n\"blank\":false\n},\n\"legend_position\":\"right\"\n}\n};\n           var plotContainer = document.getElementById(\"YRCjw9\");\n           window.letsPlotCall(function() {{\n               LetsPlot.buildPlotFromProcessedSpecs(plotSpec, -1, -1, plotContainer);\n           }});\n       })();    \n   </script>"
     },
     "metadata": {},
     "output_type": "display_data"
    },
    {
     "data": {
      "text/html": "   <div id=\"9jMWQG\"></div>\n   <script type=\"text/javascript\" data-lets-plot-script=\"plot\">\n       (function() {\n           var plotSpec={\n\"ggtitle\":{\n\"text\":\"Ackermann (ART)\"\n},\n\"mapping\":{\n},\n\"ggsize\":{\n\"width\":1000.0,\n\"height\":800.0\n},\n\"kind\":\"plot\",\n\"scales\":[{\n\"aesthetic\":\"y\",\n\"name\":\"ns/op\"\n},{\n\"aesthetic\":\"fill\",\n\"name\":\"Benchmark\"\n},{\n\"aesthetic\":\"x\",\n\"breaks\":[\"baselineInt\",\"longPackInt\",\"mutableRefIntIn1Long\",\"mutableRefIntIn2Longs\",\"valueInt\",\"valuePreserveBoxInt\",\"baselineLong\",\"mutableRefLong\",\"valueLong\",\"valuePreserveBoxLong\",\"baselineFloat\",\"longPackFloat\",\"mutableRefFloatIn1Long\",\"mutableRefFloatIn2Longs\",\"valueFloat\",\"valuePreserveBoxFloat\",\"baselineDouble\",\"mutableRefDouble\",\"valueDouble\",\"valuePreserveBoxDouble\"],\n\"name\":\"\",\n\"limits\":[\"baselineInt\",\"longPackInt\",\"mutableRefIntIn1Long\",\"mutableRefIntIn2Longs\",\"valueInt\",\"valuePreserveBoxInt\",\"baselineLong\",\"mutableRefLong\",\"valueLong\",\"valuePreserveBoxLong\",\"baselineFloat\",\"longPackFloat\",\"mutableRefFloatIn1Long\",\"mutableRefFloatIn2Longs\",\"valueFloat\",\"valuePreserveBoxFloat\",\"baselineDouble\",\"mutableRefDouble\",\"valueDouble\",\"valuePreserveBoxDouble\",\"\"],\n\"labels\":[\"baselineInt\",\"longPackInt\",\"mutableRefIntIn1Long\",\"mutableRefIntIn2Longs\",\"valueInt\",\"valuePreserveBoxInt\",\"baselineLong\",\"mutableRefLong\",\"valueLong\",\"valuePreserveBoxLong\",\"baselineFloat\",\"longPackFloat\",\"mutableRefFloatIn1Long\",\"mutableRefFloatIn2Longs\",\"valueFloat\",\"valuePreserveBoxFloat\",\"baselineDouble\",\"mutableRefDouble\",\"valueDouble\",\"valuePreserveBoxDouble\"]\n},{\n\"aesthetic\":\"y\",\n\"name\":\"ns/op\",\n\"limits\":[0.0,103745.17938798672]\n}],\n\"layers\":[{\n\"mapping\":{\n\"x\":\"x\",\n\"y\":\"y\",\n\"fill\":\"fill\"\n},\n\"stat\":\"identity\",\n\"position\":\"stack\",\n\"geom\":\"bar\",\n\"data\":{\n\"x\":[\"baselineInt\",\"longPackInt\",\"mutableRefIntIn1Long\",\"mutableRefIntIn2Longs\",\"valueInt\",\"valuePreserveBoxInt\",\"baselineLong\",\"mutableRefLong\",\"valueLong\",\"valuePreserveBoxLong\",\"baselineFloat\",\"longPackFloat\",\"mutableRefFloatIn1Long\",\"mutableRefFloatIn2Longs\",\"valueFloat\",\"valuePreserveBoxFloat\",\"baselineDouble\",\"mutableRefDouble\",\"valueDouble\",\"valuePreserveBoxDouble\"],\n\"y\":[73514.36501766785,14097.561063344447,24921.434253008512,23034.32785825142,44313.81286836935,43890.66307761328,91100.00774443368,38000.8213622291,92956.72622622622,95065.48163693599,76688.3014937107,21303.584791559442,26917.978079331944,26149.974685440382,47276.480500722195,48232.147044088175,95860.44633901704,36155.75975810885,100676.92690875233,100932.968164794],\n\"fill\":[\"baselineInt\",\"longPackInt\",\"mutableRefIntIn1Long\",\"mutableRefIntIn2Longs\",\"valueInt\",\"valuePreserveBoxInt\",\"baselineLong\",\"mutableRefLong\",\"valueLong\",\"valuePreserveBoxLong\",\"baselineFloat\",\"longPackFloat\",\"mutableRefFloatIn1Long\",\"mutableRefFloatIn2Longs\",\"valueFloat\",\"valuePreserveBoxFloat\",\"baselineDouble\",\"mutableRefDouble\",\"valueDouble\",\"valuePreserveBoxDouble\"]\n}\n},{\n\"mapping\":{\n\"x\":\"x1\",\n\"ymin\":\"ymin\",\n\"ymax\":\"ymax\"\n},\n\"stat\":\"identity\",\n\"size\":0.6,\n\"width\":0.5,\n\"position\":\"dodge\",\n\"geom\":\"errorbar\",\n\"data\":{\n\"ymin\":[72376.23803403783,14000.665926390362,24158.420694634027,22666.195549786335,43439.45399782807,43217.664256172895,89461.54378819672,36718.95855293781,90946.70807100617,93126.4363060705,75565.85163304115,21012.48677544478,26436.18198609464,25579.520098941426,46414.46957292806,47309.216769020364,94273.1673819865,35177.776733191065,98558.58391278515,98120.75694160128],\n\"ymax\":[74652.49200129787,14194.456200298531,25684.447811382997,23402.460166716508,45188.17173891063,44563.661899053666,92738.47170067063,39282.68417152039,94966.74438144627,97004.52696780147,77810.75135438023,21594.682807674104,27399.774172569247,26720.429271939338,48138.49142851633,49155.077319155986,97447.72529604759,37133.74278302663,102795.2699047195,103745.17938798672],\n\"x1\":[\"baselineInt\",\"longPackInt\",\"mutableRefIntIn1Long\",\"mutableRefIntIn2Longs\",\"valueInt\",\"valuePreserveBoxInt\",\"baselineLong\",\"mutableRefLong\",\"valueLong\",\"valuePreserveBoxLong\",\"baselineFloat\",\"longPackFloat\",\"mutableRefFloatIn1Long\",\"mutableRefFloatIn2Longs\",\"valueFloat\",\"valuePreserveBoxFloat\",\"baselineDouble\",\"mutableRefDouble\",\"valueDouble\",\"valuePreserveBoxDouble\"]\n}\n},{\n\"mapping\":{\n\"x\":\"x2\",\n\"y\":\"y1\",\n\"label\":\"label\"\n},\n\"stat\":\"identity\",\n\"size\":4.5,\n\"position\":{\n\"name\":\"stack\",\n\"vjust\":1.0\n},\n\"geom\":\"text\",\n\"data\":{\n\"y1\":[36757.182508833925,7048.780531672223,12460.717126504256,11517.16392912571,22156.906434184675,21945.33153880664,45550.00387221684,19000.41068111455,46478.36311311311,47532.740818467995,38344.15074685535,10651.792395779721,13458.989039665972,13074.987342720191,23638.240250361097,24116.073522044087,47930.22316950852,18077.879879054424,50338.463454376164,50466.484082397],\n\"x2\":[\"baselineInt\",\"longPackInt\",\"mutableRefIntIn1Long\",\"mutableRefIntIn2Longs\",\"valueInt\",\"valuePreserveBoxInt\",\"baselineLong\",\"mutableRefLong\",\"valueLong\",\"valuePreserveBoxLong\",\"baselineFloat\",\"longPackFloat\",\"mutableRefFloatIn1Long\",\"mutableRefFloatIn2Longs\",\"valueFloat\",\"valuePreserveBoxFloat\",\"baselineDouble\",\"mutableRefDouble\",\"valueDouble\",\"valuePreserveBoxDouble\"],\n\"label\":[\"100%\\n±\\n3.1%\\nInt\",\"19%\\n±\\n0.3%\\nInt\",\"34%\\n±\\n2.1%\\nInt\",\"31%\\n±\\n1.0%\\nInt\",\"60%\\n±\\n2.4%\\nInt\",\"60%\\n±\\n1.8%\\nInt\",\"100%\\n±\\n3.6%\\nLong\",\"42%\\n±\\n2.8%\\nLong\",\"102%\\n±\\n4.4%\\nLong\",\"104%\\n±\\n4.3%\\nLong\",\"100%\\n±\\n2.9%\\nFloat\",\"28%\\n±\\n0.8%\\nFloat\",\"35%\\n±\\n1.3%\\nFloat\",\"34%\\n±\\n1.5%\\nFloat\",\"62%\\n±\\n2.2%\\nFloat\",\"63%\\n±\\n2.4%\\nFloat\",\"100%\\n±\\n3.3%\\nDouble\",\"38%\\n±\\n2.0%\\nDouble\",\"105%\\n±\\n4.4%\\nDouble\",\"105%\\n±\\n5.9%\\nDouble\"]\n}\n}],\n\"theme\":{\n\"plot_title\":{\n\"hjust\":0.5,\n\"blank\":false\n},\n\"legend_position\":\"right\"\n}\n};\n           var plotContainer = document.getElementById(\"9jMWQG\");\n           window.letsPlotCall(function() {{\n               LetsPlot.buildPlotFromProcessedSpecs(plotSpec, -1, -1, plotContainer);\n           }});\n       })();    \n   </script>"
     },
     "metadata": {},
     "output_type": "display_data"
    },
    {
     "data": {
      "text/html": "   <div id=\"Q3Cpq0\"></div>\n   <script type=\"text/javascript\" data-lets-plot-script=\"plot\">\n       (function() {\n           var plotSpec={\n\"ggtitle\":{\n\"text\":\"BoxRecreation (ART)\"\n},\n\"mapping\":{\n},\n\"ggsize\":{\n\"width\":1000.0,\n\"height\":800.0\n},\n\"kind\":\"plot\",\n\"scales\":[{\n\"aesthetic\":\"y\",\n\"name\":\"ns/op\"\n},{\n\"aesthetic\":\"fill\",\n\"name\":\"Benchmark\"\n},{\n\"aesthetic\":\"x\",\n\"breaks\":[\"baselineInt\",\"longPackInt\",\"valueInt\",\"valuePreserveBoxInt\",\"baselineLong\",\"valueLong\",\"valuePreserveBoxLong\",\"baselineFloat\",\"longPackFloat\",\"valueFloat\",\"valuePreserveBoxFloat\",\"baselineDouble\",\"valueDouble\",\"valuePreserveBoxDouble\"],\n\"name\":\"\",\n\"limits\":[\"baselineInt\",\"longPackInt\",\"valueInt\",\"valuePreserveBoxInt\",\"baselineLong\",\"valueLong\",\"valuePreserveBoxLong\",\"baselineFloat\",\"longPackFloat\",\"valueFloat\",\"valuePreserveBoxFloat\",\"baselineDouble\",\"valueDouble\",\"valuePreserveBoxDouble\",\"\"],\n\"labels\":[\"baselineInt\",\"longPackInt\",\"valueInt\",\"valuePreserveBoxInt\",\"baselineLong\",\"valueLong\",\"valuePreserveBoxLong\",\"baselineFloat\",\"longPackFloat\",\"valueFloat\",\"valuePreserveBoxFloat\",\"baselineDouble\",\"valueDouble\",\"valuePreserveBoxDouble\"]\n},{\n\"aesthetic\":\"y\",\n\"name\":\"ns/op\",\n\"limits\":[0.0,3931.8141671451363]\n}],\n\"layers\":[{\n\"mapping\":{\n\"x\":\"x\",\n\"y\":\"y\",\n\"fill\":\"fill\"\n},\n\"stat\":\"identity\",\n\"position\":\"stack\",\n\"geom\":\"bar\",\n\"data\":{\n\"x\":[\"baselineInt\",\"longPackInt\",\"valueInt\",\"valuePreserveBoxInt\",\"baselineLong\",\"valueLong\",\"valuePreserveBoxLong\",\"baselineFloat\",\"longPackFloat\",\"valueFloat\",\"valuePreserveBoxFloat\",\"baselineDouble\",\"valueDouble\",\"valuePreserveBoxDouble\"],\n\"y\":[517.4967681363521,2971.61287456188,2951.357861957171,521.512407630177,619.1665163156749,3836.2897763408946,616.857766783906,523.5745678132241,2925.2475884244373,2937.0396847576994,545.4221617186334,618.6475343430785,3846.0771554252196,616.6113008100549],\n\"fill\":[\"baselineInt\",\"longPackInt\",\"valueInt\",\"valuePreserveBoxInt\",\"baselineLong\",\"valueLong\",\"valuePreserveBoxLong\",\"baselineFloat\",\"longPackFloat\",\"valueFloat\",\"valuePreserveBoxFloat\",\"baselineDouble\",\"valueDouble\",\"valuePreserveBoxDouble\"]\n}\n},{\n\"mapping\":{\n\"x\":\"x1\",\n\"ymin\":\"ymin\",\n\"ymax\":\"ymax\"\n},\n\"stat\":\"identity\",\n\"size\":0.6,\n\"width\":0.5,\n\"position\":\"dodge\",\n\"geom\":\"errorbar\",\n\"data\":{\n\"ymin\":[483.37495669332935,2896.677561541713,2886.983626609951,495.58588815644373,598.2148652417737,3746.21147749223,588.7042136754251,513.1076740605288,2842.041937221128,2856.5258099781636,514.7219814241297,589.0194518089415,3760.340143705303,597.9906068588326],\n\"ymax\":[551.6185795793748,3046.5481875820465,3015.7320973043907,547.4389271039103,640.1181673895761,3926.368075189559,645.0113198923868,534.0414615659195,3008.4532396277464,3017.5535595372353,576.1223420131372,648.2756168772155,3931.8141671451363,635.2319947612772],\n\"x1\":[\"baselineInt\",\"longPackInt\",\"valueInt\",\"valuePreserveBoxInt\",\"baselineLong\",\"valueLong\",\"valuePreserveBoxLong\",\"baselineFloat\",\"longPackFloat\",\"valueFloat\",\"valuePreserveBoxFloat\",\"baselineDouble\",\"valueDouble\",\"valuePreserveBoxDouble\"]\n}\n},{\n\"mapping\":{\n\"x\":\"x2\",\n\"y\":\"y1\",\n\"label\":\"label\"\n},\n\"stat\":\"identity\",\n\"size\":4.5,\n\"position\":{\n\"name\":\"stack\",\n\"vjust\":1.0\n},\n\"geom\":\"text\",\n\"data\":{\n\"y1\":[258.74838406817605,1485.80643728094,1475.6789309785854,260.7562038150885,309.58325815783746,1918.1448881704473,308.428883391953,261.78728390661206,1462.6237942122186,1468.5198423788497,272.7110808593167,309.32376717153926,1923.0385777126098,308.30565040502745],\n\"x2\":[\"baselineInt\",\"longPackInt\",\"valueInt\",\"valuePreserveBoxInt\",\"baselineLong\",\"valueLong\",\"valuePreserveBoxLong\",\"baselineFloat\",\"longPackFloat\",\"valueFloat\",\"valuePreserveBoxFloat\",\"baselineDouble\",\"valueDouble\",\"valuePreserveBoxDouble\"],\n\"label\":[\"100%\\n±\\n13.2%\\nInt\",\"574%\\n±\\n29.0%\\nInt\",\"570%\\n±\\n24.9%\\nInt\",\"101%\\n±\\n10.0%\\nInt\",\"100%\\n±\\n6.8%\\nLong\",\"620%\\n±\\n29.1%\\nLong\",\"100%\\n±\\n9.1%\\nLong\",\"100%\\n±\\n4.0%\\nFloat\",\"559%\\n±\\n31.8%\\nFloat\",\"561%\\n±\\n30.8%\\nFloat\",\"104%\\n±\\n11.7%\\nFloat\",\"100%\\n±\\n9.6%\\nDouble\",\"622%\\n±\\n27.7%\\nDouble\",\"100%\\n±\\n6.0%\\nDouble\"]\n}\n}],\n\"theme\":{\n\"plot_title\":{\n\"hjust\":0.5,\n\"blank\":false\n},\n\"legend_position\":\"right\"\n}\n};\n           var plotContainer = document.getElementById(\"Q3Cpq0\");\n           window.letsPlotCall(function() {{\n               LetsPlot.buildPlotFromProcessedSpecs(plotSpec, -1, -1, plotContainer);\n           }});\n       })();    \n   </script>"
     },
     "metadata": {},
     "output_type": "display_data"
    }
   ],
   "source": [
    "makePlot(\"Wolf3d\", \"ART\", readArtBenchmarkData(\"Wolf3dBenchmark\"))\n",
    "makePlot(\"Ackermann\", \"ART\", readArtBenchmarkData(\"AckermannBenchmark\"))\n",
    "makePlot(\"BoxRecreation\", \"ART\", readArtBenchmarkData(\"BoxRecreationBenchmark\"))"
   ],
   "metadata": {
    "collapsed": false,
    "ExecuteTime": {
     "end_time": "2023-04-27T18:34:35.993901Z",
     "start_time": "2023-04-27T18:34:35.442833Z"
    }
   }
  }
 ],
 "metadata": {
  "kernelspec": {
   "display_name": "Kotlin",
   "language": "kotlin",
   "name": "kotlin"
  },
  "language_info": {
   "name": "kotlin",
   "version": "1.8.0",
   "mimetype": "text/x-kotlin",
   "file_extension": ".kt",
   "pygments_lexer": "kotlin",
   "codemirror_mode": "text/x-kotlin",
   "nbconvert_exporter": ""
  },
  "ktnbPluginMetadata": {
   "isAddProjectLibrariesToClasspath": false
  }
 },
 "nbformat": 4,
 "nbformat_minor": 0
}
