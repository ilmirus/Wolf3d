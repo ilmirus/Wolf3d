{
 "cells": [
  {
   "cell_type": "code",
   "execution_count": 1,
   "metadata": {
    "collapsed": true,
    "ExecuteTime": {
     "end_time": "2023-04-28T11:53:09.607450Z",
     "start_time": "2023-04-28T11:53:07.156Z"
    }
   },
   "outputs": [
    {
     "data": {
      "text/plain": "baselineFloat: 3.2691445983E7 ± 69466.905 ns/op\ninlineFloat: 3.242113406E7 ± 70299.166 ns/op\nlongPackFloat: 5.6830523627E7 ± 241134.675 ns/op\nmutableRefFloatIn1Long: 6.3871743398E7 ± 572515.259 ns/op\nmutableRefFloatIn2Longs: 3.8639579995E7 ± 46378.366 ns/op\nvalueFloat: 2.4868718136E7 ± 47922.097 ns/op\nvalueInlineFloat: 2.492274722E7 ± 42271.19 ns/op\nvaluePreserveBoxFloat: 2.4950436818E7 ± 41974.954 ns/op\nbaselineDouble: 3.368255698E7 ± 124420.029 ns/op\ninlineDouble: 3.4301550173E7 ± 135677.939 ns/op\nmutableRefDouble: 3.9446891111E7 ± 169020.613 ns/op\nvalueDouble: 2.4467271516E7 ± 31685.302 ns/op\nvalueInlineDouble: 2.4547361612E7 ± 162281.24 ns/op\nvaluePreserveBoxDouble: 2.4487710636E7 ± 28913.444 ns/op"
     },
     "execution_count": 1,
     "metadata": {},
     "output_type": "execute_result"
    }
   ],
   "source": [
    "import java.nio.file.Files\n",
    "import java.nio.file.Path\n",
    "\n",
    "data class BenchmarkData(val name: String, val score: Double, val error: Double) {\n",
    "    val type = getType(name)\n",
    "    override fun toString(): String = \"$name: $score ± $error ns/op\"\n",
    "}\n",
    "\n",
    "enum class Type { Int, Long, Float, Double }\n",
    "\n",
    "fun getType(name: String) = when {\n",
    "    name.contains(\"Float\") -> Type.Float\n",
    "    name.contains(\"Int\") -> Type.Int\n",
    "    name.contains(\"Double\") -> Type.Double\n",
    "    name.contains(\"Long\") -> Type.Long // Long must be the last as it is contained in other test names\n",
    "    else -> error(\"Unknown type: ${name}\")\n",
    "}\n",
    "\n",
    "fun readHotspotBenchmarkData(benchmarkName: String) = Files.readAllLines(Path.of(\"build\", \"results\", \"jmh\", \"results.txt\"))\n",
    "    .mapNotNull {\n",
    "        val r = Regex(\"$benchmarkName\\\\.([^ ]+) +avgt +\\\\d+ +([0-9.]+) +± +([0-9.]+) +ns/op\")\n",
    "        val match = r.matchEntire(it) ?: return@mapNotNull null\n",
    "        BenchmarkData(\n",
    "            name = match.groups[1]!!.value,\n",
    "            score = match.groups[2]!!.value.toDouble(),\n",
    "            error = match.groups[3]!!.value.toDouble(),\n",
    "        )\n",
    "    }.sortedBy { it.type }\n",
    "(readHotspotBenchmarkData(\"Wolf3dBenchmark\") + readHotspotBenchmarkData(\"FibonacciBenchmark\")).joinToString(\"\\n\")"
   ]
  },
  {
   "cell_type": "code",
   "execution_count": 2,
   "outputs": [
    {
     "data": {
      "text/html": "   <div id=\"eqOzGU\"></div>\n   <script type=\"text/javascript\" data-lets-plot-script=\"library\">\n       if(!window.letsPlotCallQueue) {\n           window.letsPlotCallQueue = [];\n       }; \n       window.letsPlotCall = function(f) {\n           window.letsPlotCallQueue.push(f);\n       };\n       (function() {\n           var script = document.createElement(\"script\");\n           script.type = \"text/javascript\";\n           script.src = \"https://cdn.jsdelivr.net/gh/JetBrains/lets-plot@v3.1.0/js-package/distr/lets-plot.min.js\";\n           script.onload = function() {\n               window.letsPlotCall = function(f) {f();};\n               window.letsPlotCallQueue.forEach(function(f) {f();});\n               window.letsPlotCallQueue = [];\n               \n               \n           };\n           script.onerror = function(event) {\n               window.letsPlotCall = function(f) {};\n               window.letsPlotCallQueue = [];\n               var div = document.createElement(\"div\");\n               div.style.color = 'darkred';\n               div.textContent = 'Error loading Lets-Plot JS';\n               document.getElementById(\"eqOzGU\").appendChild(div);\n           };\n           var e = document.getElementById(\"eqOzGU\");\n           e.appendChild(script);\n       })();\n   </script>"
     },
     "metadata": {},
     "output_type": "display_data"
    }
   ],
   "source": [
    "%use lets-plot"
   ],
   "metadata": {
    "collapsed": false,
    "ExecuteTime": {
     "end_time": "2023-04-28T11:53:14.611845Z",
     "start_time": "2023-04-28T11:53:09.599073Z"
    }
   }
  },
  {
   "cell_type": "code",
   "execution_count": 3,
   "outputs": [],
   "source": [
    "import org.jetbrains.letsPlot.intern.PosKind\n",
    "import org.jetbrains.letsPlot.intern.StatKind\n",
    "import org.jetbrains.letsPlot.intern.layer.PosOptions\n",
    "import org.jetbrains.letsPlot.intern.layer.StatOptions\n",
    "\n",
    "fun makePlot(name: String, platform: String, benchmarkLines: List<BenchmarkData>) {\n",
    "    if (benchmarkLines.isEmpty()) return\n",
    "    val names = benchmarkLines.map { it.name }\n",
    "    val scores = benchmarkLines.map { it.score }\n",
    "    val scoresMinusErrors = benchmarkLines.map { it.score - it.error / 2 }\n",
    "    val scoresPlusErrors = benchmarkLines.map { it.score + it.error / 2 }\n",
    "    val baseline = benchmarkLines.filter { it.name.startsWith(\"baseline\") }.groupBy { it.type }.mapValues { (_, v) -> v.single() }\n",
    "    val maxScore = scoresPlusErrors.max()\n",
    "    val plot = letsPlot() +\n",
    "            labs(\"$name ($platform)\", fill = \"Benchmark\", y = \"ns/op\") +\n",
    "            geomBar(stat = StatOptions(kind = StatKind.IDENTITY)) {\n",
    "                x = names\n",
    "                y = scores\n",
    "                fill = names\n",
    "            } +\n",
    "            geomErrorBar(\n",
    "                width = 0.5,\n",
    "                position = PosOptions(kind = PosKind.DODGE),\n",
    "                size = 0.6\n",
    "            ) {\n",
    "                x = names\n",
    "                ymin = scoresMinusErrors\n",
    "                ymax = scoresPlusErrors\n",
    "            } +\n",
    "            geomText(\n",
    "                stat = StatOptions(kind = StatKind.IDENTITY),\n",
    "                position = positionStack(vjust = 1.0),\n",
    "                size = 4.5,\n",
    "            ) {\n",
    "                x = names\n",
    "                y = scores.map {\n",
    "                    val threshold = 0.08\n",
    "                    if (it < maxScore * threshold) it + threshold * maxScore / 2 else it / 2\n",
    "                }\n",
    "                label = benchmarkLines.map {\n",
    "                    val score = it.score / baseline[it.type]!!.score\n",
    "                    val error = it.error / baseline[it.type]!!.score\n",
    "                    \"${String.format(\"%.0f\", score * 100)}%\\n±\\n${String.format(\"%.1f\", error * 100)}%\\n${it.type}\"\n",
    "                }\n",
    "            } +\n",
    "            scaleXDiscrete(\n",
    "                labels = names,\n",
    "                name = \"\",\n",
    "                limits = names + listOf(\"\"),\n",
    "                breaks = names.toList()\n",
    "            ) +\n",
    "            scaleYContinuous(limits = 0 to maxScore, name = \"ns/op\") +\n",
    "            theme(plotTitle = elementText(hjust = 0.5)).legendPositionRight() +\n",
    "            ggsize(1000, 800)\n",
    "    ggsave(plot = plot, filename = \"$name ($platform).svg\")\n",
    "    plot.show()\n",
    "}\n"
   ],
   "metadata": {
    "collapsed": false,
    "ExecuteTime": {
     "end_time": "2023-04-28T11:53:16.320625Z",
     "start_time": "2023-04-28T11:53:14.604326Z"
    }
   }
  },
  {
   "cell_type": "code",
   "execution_count": 4,
   "outputs": [
    {
     "data": {
      "text/html": "   <div id=\"NLvfwz\"></div>\n   <script type=\"text/javascript\" data-lets-plot-script=\"plot\">\n       (function() {\n           var plotSpec={\n\"ggtitle\":{\n\"text\":\"Wolf3d (Hotspot)\"\n},\n\"mapping\":{\n},\n\"ggsize\":{\n\"width\":1000.0,\n\"height\":800.0\n},\n\"kind\":\"plot\",\n\"scales\":[{\n\"aesthetic\":\"y\",\n\"name\":\"ns/op\"\n},{\n\"aesthetic\":\"fill\",\n\"name\":\"Benchmark\"\n},{\n\"aesthetic\":\"x\",\n\"breaks\":[\"baselineFloat\",\"inlineFloat\",\"longPackFloat\",\"mutableRefFloatIn1Long\",\"mutableRefFloatIn2Longs\",\"valueFloat\",\"valueInlineFloat\",\"valuePreserveBoxFloat\",\"baselineDouble\",\"inlineDouble\",\"mutableRefDouble\",\"valueDouble\",\"valueInlineDouble\",\"valuePreserveBoxDouble\"],\n\"name\":\"\",\n\"limits\":[\"baselineFloat\",\"inlineFloat\",\"longPackFloat\",\"mutableRefFloatIn1Long\",\"mutableRefFloatIn2Longs\",\"valueFloat\",\"valueInlineFloat\",\"valuePreserveBoxFloat\",\"baselineDouble\",\"inlineDouble\",\"mutableRefDouble\",\"valueDouble\",\"valueInlineDouble\",\"valuePreserveBoxDouble\",\"\"],\n\"labels\":[\"baselineFloat\",\"inlineFloat\",\"longPackFloat\",\"mutableRefFloatIn1Long\",\"mutableRefFloatIn2Longs\",\"valueFloat\",\"valueInlineFloat\",\"valuePreserveBoxFloat\",\"baselineDouble\",\"inlineDouble\",\"mutableRefDouble\",\"valueDouble\",\"valueInlineDouble\",\"valuePreserveBoxDouble\"]\n},{\n\"aesthetic\":\"y\",\n\"name\":\"ns/op\",\n\"limits\":[0.0,6.41580010275E7]\n}],\n\"layers\":[{\n\"mapping\":{\n\"x\":\"x\",\n\"y\":\"y\",\n\"fill\":\"fill\"\n},\n\"stat\":\"identity\",\n\"position\":\"stack\",\n\"geom\":\"bar\",\n\"data\":{\n\"x\":[\"baselineFloat\",\"inlineFloat\",\"longPackFloat\",\"mutableRefFloatIn1Long\",\"mutableRefFloatIn2Longs\",\"valueFloat\",\"valueInlineFloat\",\"valuePreserveBoxFloat\",\"baselineDouble\",\"inlineDouble\",\"mutableRefDouble\",\"valueDouble\",\"valueInlineDouble\",\"valuePreserveBoxDouble\"],\n\"y\":[3.2691445983E7,3.242113406E7,5.6830523627E7,6.3871743398E7,3.8639579995E7,2.4868718136E7,2.492274722E7,2.4950436818E7,3.368255698E7,3.4301550173E7,3.9446891111E7,2.4467271516E7,2.4547361612E7,2.4487710636E7],\n\"fill\":[\"baselineFloat\",\"inlineFloat\",\"longPackFloat\",\"mutableRefFloatIn1Long\",\"mutableRefFloatIn2Longs\",\"valueFloat\",\"valueInlineFloat\",\"valuePreserveBoxFloat\",\"baselineDouble\",\"inlineDouble\",\"mutableRefDouble\",\"valueDouble\",\"valueInlineDouble\",\"valuePreserveBoxDouble\"]\n}\n},{\n\"mapping\":{\n\"x\":\"x1\",\n\"ymin\":\"ymin\",\n\"ymax\":\"ymax\"\n},\n\"stat\":\"identity\",\n\"size\":0.6,\n\"width\":0.5,\n\"position\":\"dodge\",\n\"geom\":\"errorbar\",\n\"data\":{\n\"ymin\":[3.26567125305E7,3.2385984476999998E7,5.67099562895E7,6.35854857685E7,3.8616390812E7,2.48447570875E7,2.4901611625E7,2.4929449341E7,3.36203469655E7,3.42337112035E7,3.93623808045E7,2.4451428865E7,2.4466220992E7,2.4473253914E7],\n\"ymax\":[3.27261794355E7,3.2456283643E7,5.6951090964499995E7,6.41580010275E7,3.8662769177999996E7,2.48926791845E7,2.4943882814999998E7,2.4971424295E7,3.37447669945E7,3.43693891425E7,3.9531401417500004E7,2.4483114167E7,2.4628502232E7,2.4502167358E7],\n\"x1\":[\"baselineFloat\",\"inlineFloat\",\"longPackFloat\",\"mutableRefFloatIn1Long\",\"mutableRefFloatIn2Longs\",\"valueFloat\",\"valueInlineFloat\",\"valuePreserveBoxFloat\",\"baselineDouble\",\"inlineDouble\",\"mutableRefDouble\",\"valueDouble\",\"valueInlineDouble\",\"valuePreserveBoxDouble\"]\n}\n},{\n\"mapping\":{\n\"x\":\"x2\",\n\"y\":\"y1\",\n\"label\":\"label\"\n},\n\"stat\":\"identity\",\n\"size\":4.5,\n\"position\":{\n\"name\":\"stack\",\n\"vjust\":1.0\n},\n\"geom\":\"text\",\n\"data\":{\n\"y1\":[1.63457229915E7,1.621056703E7,2.84152618135E7,3.1935871699E7,1.93197899975E7,1.2434359068E7,1.246137361E7,1.2475218409E7,1.684127849E7,1.71507750865E7,1.97234455555E7,1.2233635758E7,1.2273680806E7,1.2243855318E7],\n\"x2\":[\"baselineFloat\",\"inlineFloat\",\"longPackFloat\",\"mutableRefFloatIn1Long\",\"mutableRefFloatIn2Longs\",\"valueFloat\",\"valueInlineFloat\",\"valuePreserveBoxFloat\",\"baselineDouble\",\"inlineDouble\",\"mutableRefDouble\",\"valueDouble\",\"valueInlineDouble\",\"valuePreserveBoxDouble\"],\n\"label\":[\"100%\\n±\\n0.2%\\nFloat\",\"99%\\n±\\n0.2%\\nFloat\",\"174%\\n±\\n0.7%\\nFloat\",\"195%\\n±\\n1.8%\\nFloat\",\"118%\\n±\\n0.1%\\nFloat\",\"76%\\n±\\n0.1%\\nFloat\",\"76%\\n±\\n0.1%\\nFloat\",\"76%\\n±\\n0.1%\\nFloat\",\"100%\\n±\\n0.4%\\nDouble\",\"102%\\n±\\n0.4%\\nDouble\",\"117%\\n±\\n0.5%\\nDouble\",\"73%\\n±\\n0.1%\\nDouble\",\"73%\\n±\\n0.5%\\nDouble\",\"73%\\n±\\n0.1%\\nDouble\"]\n}\n}],\n\"theme\":{\n\"plot_title\":{\n\"hjust\":0.5,\n\"blank\":false\n},\n\"legend_position\":\"right\"\n}\n};\n           var plotContainer = document.getElementById(\"NLvfwz\");\n           window.letsPlotCall(function() {{\n               LetsPlot.buildPlotFromProcessedSpecs(plotSpec, -1, -1, plotContainer);\n           }});\n       })();    \n   </script>"
     },
     "metadata": {},
     "output_type": "display_data"
    },
    {
     "data": {
      "text/html": "   <div id=\"02d6dw\"></div>\n   <script type=\"text/javascript\" data-lets-plot-script=\"plot\">\n       (function() {\n           var plotSpec={\n\"ggtitle\":{\n\"text\":\"Ackermann (Hotspot)\"\n},\n\"mapping\":{\n},\n\"ggsize\":{\n\"width\":1000.0,\n\"height\":800.0\n},\n\"kind\":\"plot\",\n\"scales\":[{\n\"aesthetic\":\"y\",\n\"name\":\"ns/op\"\n},{\n\"aesthetic\":\"fill\",\n\"name\":\"Benchmark\"\n},{\n\"aesthetic\":\"x\",\n\"breaks\":[\"baselineInt\",\"longPackInt\",\"mutableRefIntIn1Long\",\"mutableRefIntIn2Longs\",\"valueInt\",\"valuePreserveBoxInt\",\"baselineLong\",\"mutableRefLong\",\"valueLong\",\"valuePreserveBoxLong\",\"baselineFloat\",\"longPackFloat\",\"mutableRefFloatIn1Long\",\"mutableRefFloatIn2Longs\",\"valueFloat\",\"valuePreserveBoxFloat\",\"baselineDouble\",\"mutableRefDouble\",\"valueDouble\",\"valuePreserveBoxDouble\"],\n\"name\":\"\",\n\"limits\":[\"baselineInt\",\"longPackInt\",\"mutableRefIntIn1Long\",\"mutableRefIntIn2Longs\",\"valueInt\",\"valuePreserveBoxInt\",\"baselineLong\",\"mutableRefLong\",\"valueLong\",\"valuePreserveBoxLong\",\"baselineFloat\",\"longPackFloat\",\"mutableRefFloatIn1Long\",\"mutableRefFloatIn2Longs\",\"valueFloat\",\"valuePreserveBoxFloat\",\"baselineDouble\",\"mutableRefDouble\",\"valueDouble\",\"valuePreserveBoxDouble\",\"\"],\n\"labels\":[\"baselineInt\",\"longPackInt\",\"mutableRefIntIn1Long\",\"mutableRefIntIn2Longs\",\"valueInt\",\"valuePreserveBoxInt\",\"baselineLong\",\"mutableRefLong\",\"valueLong\",\"valuePreserveBoxLong\",\"baselineFloat\",\"longPackFloat\",\"mutableRefFloatIn1Long\",\"mutableRefFloatIn2Longs\",\"valueFloat\",\"valuePreserveBoxFloat\",\"baselineDouble\",\"mutableRefDouble\",\"valueDouble\",\"valuePreserveBoxDouble\"]\n},{\n\"aesthetic\":\"y\",\n\"name\":\"ns/op\",\n\"limits\":[0.0,25559.8965]\n}],\n\"layers\":[{\n\"mapping\":{\n\"x\":\"x\",\n\"y\":\"y\",\n\"fill\":\"fill\"\n},\n\"stat\":\"identity\",\n\"position\":\"stack\",\n\"geom\":\"bar\",\n\"data\":{\n\"x\":[\"baselineInt\",\"longPackInt\",\"mutableRefIntIn1Long\",\"mutableRefIntIn2Longs\",\"valueInt\",\"valuePreserveBoxInt\",\"baselineLong\",\"mutableRefLong\",\"valueLong\",\"valuePreserveBoxLong\",\"baselineFloat\",\"longPackFloat\",\"mutableRefFloatIn1Long\",\"mutableRefFloatIn2Longs\",\"valueFloat\",\"valuePreserveBoxFloat\",\"baselineDouble\",\"mutableRefDouble\",\"valueDouble\",\"valuePreserveBoxDouble\"],\n\"y\":[16414.186,8718.141,10411.933,10548.908,12265.533,12297.228,17790.767,10542.03,14251.624,14379.378,16873.574,16556.476,21121.282,22638.225,13225.791,13527.859,18953.171,15157.661,15300.14,15343.176],\n\"fill\":[\"baselineInt\",\"longPackInt\",\"mutableRefIntIn1Long\",\"mutableRefIntIn2Longs\",\"valueInt\",\"valuePreserveBoxInt\",\"baselineLong\",\"mutableRefLong\",\"valueLong\",\"valuePreserveBoxLong\",\"baselineFloat\",\"longPackFloat\",\"mutableRefFloatIn1Long\",\"mutableRefFloatIn2Longs\",\"valueFloat\",\"valuePreserveBoxFloat\",\"baselineDouble\",\"mutableRefDouble\",\"valueDouble\",\"valuePreserveBoxDouble\"]\n}\n},{\n\"mapping\":{\n\"x\":\"x1\",\n\"ymin\":\"ymin\",\n\"ymax\":\"ymax\"\n},\n\"stat\":\"identity\",\n\"size\":0.6,\n\"width\":0.5,\n\"position\":\"dodge\",\n\"geom\":\"errorbar\",\n\"data\":{\n\"ymin\":[16315.3345,8683.1125,10362.040500000001,10507.539499999999,12204.881,12211.627999999999,17660.718,10508.293000000001,14167.9805,14289.4095,16615.6395,16526.4515,19133.922,19716.553499999998,13180.274,13385.189,18907.3595,12936.537,15146.417,15267.481],\n\"ymax\":[16513.037500000002,8753.1695,10461.8255,10590.2765,12326.185,12382.828,17920.816,10575.767,14335.2675,14469.346500000001,17131.5085,16586.5005,23108.642,25559.8965,13271.307999999999,13670.529,18998.9825,17378.785,15453.863,15418.871],\n\"x1\":[\"baselineInt\",\"longPackInt\",\"mutableRefIntIn1Long\",\"mutableRefIntIn2Longs\",\"valueInt\",\"valuePreserveBoxInt\",\"baselineLong\",\"mutableRefLong\",\"valueLong\",\"valuePreserveBoxLong\",\"baselineFloat\",\"longPackFloat\",\"mutableRefFloatIn1Long\",\"mutableRefFloatIn2Longs\",\"valueFloat\",\"valuePreserveBoxFloat\",\"baselineDouble\",\"mutableRefDouble\",\"valueDouble\",\"valuePreserveBoxDouble\"]\n}\n},{\n\"mapping\":{\n\"x\":\"x2\",\n\"y\":\"y1\",\n\"label\":\"label\"\n},\n\"stat\":\"identity\",\n\"size\":4.5,\n\"position\":{\n\"name\":\"stack\",\n\"vjust\":1.0\n},\n\"geom\":\"text\",\n\"data\":{\n\"y1\":[8207.093,4359.0705,5205.9665,5274.454,6132.7665,6148.614,8895.3835,5271.015,7125.812,7189.689,8436.787,8278.238,10560.641,11319.1125,6612.8955,6763.9295,9476.5855,7578.8305,7650.07,7671.588],\n\"x2\":[\"baselineInt\",\"longPackInt\",\"mutableRefIntIn1Long\",\"mutableRefIntIn2Longs\",\"valueInt\",\"valuePreserveBoxInt\",\"baselineLong\",\"mutableRefLong\",\"valueLong\",\"valuePreserveBoxLong\",\"baselineFloat\",\"longPackFloat\",\"mutableRefFloatIn1Long\",\"mutableRefFloatIn2Longs\",\"valueFloat\",\"valuePreserveBoxFloat\",\"baselineDouble\",\"mutableRefDouble\",\"valueDouble\",\"valuePreserveBoxDouble\"],\n\"label\":[\"100%\\n±\\n1.2%\\nInt\",\"53%\\n±\\n0.4%\\nInt\",\"63%\\n±\\n0.6%\\nInt\",\"64%\\n±\\n0.5%\\nInt\",\"75%\\n±\\n0.7%\\nInt\",\"75%\\n±\\n1.0%\\nInt\",\"100%\\n±\\n1.5%\\nLong\",\"59%\\n±\\n0.4%\\nLong\",\"80%\\n±\\n0.9%\\nLong\",\"81%\\n±\\n1.0%\\nLong\",\"100%\\n±\\n3.1%\\nFloat\",\"98%\\n±\\n0.4%\\nFloat\",\"125%\\n±\\n23.6%\\nFloat\",\"134%\\n±\\n34.6%\\nFloat\",\"78%\\n±\\n0.5%\\nFloat\",\"80%\\n±\\n1.7%\\nFloat\",\"100%\\n±\\n0.5%\\nDouble\",\"80%\\n±\\n23.4%\\nDouble\",\"81%\\n±\\n1.6%\\nDouble\",\"81%\\n±\\n0.8%\\nDouble\"]\n}\n}],\n\"theme\":{\n\"plot_title\":{\n\"hjust\":0.5,\n\"blank\":false\n},\n\"legend_position\":\"right\"\n}\n};\n           var plotContainer = document.getElementById(\"02d6dw\");\n           window.letsPlotCall(function() {{\n               LetsPlot.buildPlotFromProcessedSpecs(plotSpec, -1, -1, plotContainer);\n           }});\n       })();    \n   </script>"
     },
     "metadata": {},
     "output_type": "display_data"
    },
    {
     "data": {
      "text/html": "   <div id=\"iBdxnf\"></div>\n   <script type=\"text/javascript\" data-lets-plot-script=\"plot\">\n       (function() {\n           var plotSpec={\n\"ggtitle\":{\n\"text\":\"BoxRecreation (Hotspot)\"\n},\n\"mapping\":{\n},\n\"ggsize\":{\n\"width\":1000.0,\n\"height\":800.0\n},\n\"kind\":\"plot\",\n\"scales\":[{\n\"aesthetic\":\"y\",\n\"name\":\"ns/op\"\n},{\n\"aesthetic\":\"fill\",\n\"name\":\"Benchmark\"\n},{\n\"aesthetic\":\"x\",\n\"breaks\":[\"baselineInt\",\"longPackInt\",\"valueInt\",\"valuePreserveBoxInt\",\"baselineLong\",\"valueLong\",\"valuePreserveBoxLong\",\"baselineFloat\",\"longPackFloat\",\"valueFloat\",\"valuePreserveBoxFloat\",\"baselineDouble\",\"valueDouble\",\"valuePreserveBoxDouble\"],\n\"name\":\"\",\n\"limits\":[\"baselineInt\",\"longPackInt\",\"valueInt\",\"valuePreserveBoxInt\",\"baselineLong\",\"valueLong\",\"valuePreserveBoxLong\",\"baselineFloat\",\"longPackFloat\",\"valueFloat\",\"valuePreserveBoxFloat\",\"baselineDouble\",\"valueDouble\",\"valuePreserveBoxDouble\",\"\"],\n\"labels\":[\"baselineInt\",\"longPackInt\",\"valueInt\",\"valuePreserveBoxInt\",\"baselineLong\",\"valueLong\",\"valuePreserveBoxLong\",\"baselineFloat\",\"longPackFloat\",\"valueFloat\",\"valuePreserveBoxFloat\",\"baselineDouble\",\"valueDouble\",\"valuePreserveBoxDouble\"]\n},{\n\"aesthetic\":\"y\",\n\"name\":\"ns/op\",\n\"limits\":[0.0,650.641]\n}],\n\"layers\":[{\n\"mapping\":{\n\"x\":\"x\",\n\"y\":\"y\",\n\"fill\":\"fill\"\n},\n\"stat\":\"identity\",\n\"position\":\"stack\",\n\"geom\":\"bar\",\n\"data\":{\n\"x\":[\"baselineInt\",\"longPackInt\",\"valueInt\",\"valuePreserveBoxInt\",\"baselineLong\",\"valueLong\",\"valuePreserveBoxLong\",\"baselineFloat\",\"longPackFloat\",\"valueFloat\",\"valuePreserveBoxFloat\",\"baselineDouble\",\"valueDouble\",\"valuePreserveBoxDouble\"],\n\"y\":[63.399,594.494,619.308,61.786,65.677,648.746,66.283,64.669,612.69,620.99,61.072,67.575,649.348,64.025],\n\"fill\":[\"baselineInt\",\"longPackInt\",\"valueInt\",\"valuePreserveBoxInt\",\"baselineLong\",\"valueLong\",\"valuePreserveBoxLong\",\"baselineFloat\",\"longPackFloat\",\"valueFloat\",\"valuePreserveBoxFloat\",\"baselineDouble\",\"valueDouble\",\"valuePreserveBoxDouble\"]\n}\n},{\n\"mapping\":{\n\"x\":\"x1\",\n\"ymin\":\"ymin\",\n\"ymax\":\"ymax\"\n},\n\"stat\":\"identity\",\n\"size\":0.6,\n\"width\":0.5,\n\"position\":\"dodge\",\n\"geom\":\"errorbar\",\n\"data\":{\n\"ymin\":[63.3315,593.7695,618.6274999999999,61.7455,65.55900000000001,648.0805,66.2465,64.6015,611.0755,620.7855,61.039,67.424,648.055,63.92300000000001],\n\"ymax\":[63.4665,595.2185000000001,619.9885,61.8265,65.795,649.4114999999999,66.3195,64.73649999999999,614.3045000000001,621.1945000000001,61.105000000000004,67.726,650.641,64.12700000000001],\n\"x1\":[\"baselineInt\",\"longPackInt\",\"valueInt\",\"valuePreserveBoxInt\",\"baselineLong\",\"valueLong\",\"valuePreserveBoxLong\",\"baselineFloat\",\"longPackFloat\",\"valueFloat\",\"valuePreserveBoxFloat\",\"baselineDouble\",\"valueDouble\",\"valuePreserveBoxDouble\"]\n}\n},{\n\"mapping\":{\n\"x\":\"x2\",\n\"y\":\"y1\",\n\"label\":\"label\"\n},\n\"stat\":\"identity\",\n\"size\":4.5,\n\"position\":{\n\"name\":\"stack\",\n\"vjust\":1.0\n},\n\"geom\":\"text\",\n\"data\":{\n\"y1\":[31.6995,297.247,309.654,30.893,32.8385,324.373,33.1415,32.3345,306.345,310.495,30.536,33.7875,324.674,32.0125],\n\"x2\":[\"baselineInt\",\"longPackInt\",\"valueInt\",\"valuePreserveBoxInt\",\"baselineLong\",\"valueLong\",\"valuePreserveBoxLong\",\"baselineFloat\",\"longPackFloat\",\"valueFloat\",\"valuePreserveBoxFloat\",\"baselineDouble\",\"valueDouble\",\"valuePreserveBoxDouble\"],\n\"label\":[\"100%\\n±\\n0.2%\\nInt\",\"938%\\n±\\n2.3%\\nInt\",\"977%\\n±\\n2.1%\\nInt\",\"97%\\n±\\n0.1%\\nInt\",\"100%\\n±\\n0.4%\\nLong\",\"988%\\n±\\n2.0%\\nLong\",\"101%\\n±\\n0.1%\\nLong\",\"100%\\n±\\n0.2%\\nFloat\",\"947%\\n±\\n5.0%\\nFloat\",\"960%\\n±\\n0.6%\\nFloat\",\"94%\\n±\\n0.1%\\nFloat\",\"100%\\n±\\n0.4%\\nDouble\",\"961%\\n±\\n3.8%\\nDouble\",\"95%\\n±\\n0.3%\\nDouble\"]\n}\n}],\n\"theme\":{\n\"plot_title\":{\n\"hjust\":0.5,\n\"blank\":false\n},\n\"legend_position\":\"right\"\n}\n};\n           var plotContainer = document.getElementById(\"iBdxnf\");\n           window.letsPlotCall(function() {{\n               LetsPlot.buildPlotFromProcessedSpecs(plotSpec, -1, -1, plotContainer);\n           }});\n       })();    \n   </script>"
     },
     "metadata": {},
     "output_type": "display_data"
    }
   ],
   "source": [
    "makePlot(\"Wolf3d\", \"Hotspot\", readHotspotBenchmarkData(\"Wolf3dBenchmark\"))\n",
    "makePlot(\"Ackermann\", \"Hotspot\", readHotspotBenchmarkData(\"AckermannBenchmark\"))\n",
    "makePlot(\"BoxRecreation\", \"Hotspot\", readHotspotBenchmarkData(\"BoxRecreationBenchmark\"))"
   ],
   "metadata": {
    "collapsed": false,
    "ExecuteTime": {
     "end_time": "2023-04-28T11:53:17.327546Z",
     "start_time": "2023-04-28T11:53:16.306Z"
    }
   }
  },
  {
   "cell_type": "code",
   "execution_count": 5,
   "outputs": [
    {
     "data": {
      "text/plain": "baselineFloat: 3.08391077E8 ± 6947896.167355742 ns/op\ninlineFloat: 8.36105788E8 ± 1.3108268500106793E7 ns/op\nlongPackFloat: 7.77419805E7 ± 1624176.4022136945 ns/op\nmutableRefFloatIn1Long: 1.595877495E8 ± 2635529.401398846 ns/op\nmutableRefFloatIn2Longs: 1.01489596E8 ± 1955132.4707032915 ns/op\nvalueFloat: 3.118959615E8 ± 8983614.184004676 ns/op\nvalueInlineFloat: 1.86374308E7 ± 35957.79321975998 ns/op\nvaluePreserveBoxFloat: 3.603156535E8 ± 1.1222725355574882E7 ns/op\nbaselineDouble: 4.695191535E8 ± 1.1491546939985685E7 ns/op\ninlineDouble: 1.0423727495E9 ± 8.119720564459203E7 ns/op\nmutableRefDouble: 1.06578058E8 ± 1481233.2264560792 ns/op\nvalueDouble: 5.60696615E8 ± 1.1736808642243443E7 ns/op\nvalueInlineDouble: 2.5887717833333332E7 ± 29790.72557306751 ns/op\nvaluePreserveBoxDouble: 5.341226535E8 ± 1.2601148601575267E7 ns/op"
     },
     "execution_count": 5,
     "metadata": {},
     "output_type": "execute_result"
    }
   ],
   "source": [
    "import java.io.FileFilter\n",
    "import kotlin.io.path.listDirectoryEntries\n",
    "\n",
    "fun readArtBenchmarkData(benchmarkName: String) = Path.of(\"android-benchmark/build/outputs/androidTest-results/connected\")\n",
    "    .toFile().listFiles(FileFilter { it.isDirectory })!!.single()\n",
    "    .listFiles { dir, name -> name.startsWith(\"logcat-org.jetbrains.\") }!!.flatMap { it.readLines() }\n",
    "    .mapNotNull {\n",
    "        val pattern = Regex(\"^\\\\d{2}-\\\\d{2} +\\\\d+:\\\\d+:\\\\d+.\\\\d+ +\\\\d+ +\\\\d+ +I +Benchmark: +$benchmarkName\\\\.([^\\\\[]+)\\\\[Metric \\\\(timeNs\\\\) +results: +median +([^,]+), +min [^,]+, +max [^,]+, +standardDeviation: +([^,]+), +.*\")\n",
    "        val match = pattern.matchEntire(it) ?: return@mapNotNull null\n",
    "        BenchmarkData(\n",
    "            name = match.groups[1]!!.value,\n",
    "            score = match.groups[2]!!.value.toDouble(),\n",
    "            error = match.groups[3]!!.value.toDouble(),\n",
    "        )\n",
    "     }.let { lines ->\n",
    "         val indexes = readHotspotBenchmarkData(benchmarkName).mapIndexed { index, benchmarkData -> benchmarkData.name to index }.toMap()\n",
    "         if (lines.all { it.name in indexes }) lines.sortedBy { indexes[it.name]!! } else lines.sortedBy { it.type }\n",
    "     }\n",
    "(readArtBenchmarkData(\"Wolf3dBenchmark\") + readArtBenchmarkData(\"FibonacciBenchmark\")).joinToString(\"\\n\")"
   ],
   "metadata": {
    "collapsed": false,
    "ExecuteTime": {
     "end_time": "2023-04-28T11:53:20.055206Z",
     "start_time": "2023-04-28T11:53:17.297342Z"
    }
   }
  },
  {
   "cell_type": "code",
   "execution_count": 6,
   "outputs": [
    {
     "data": {
      "text/html": "   <div id=\"0JK1MZ\"></div>\n   <script type=\"text/javascript\" data-lets-plot-script=\"plot\">\n       (function() {\n           var plotSpec={\n\"ggtitle\":{\n\"text\":\"Wolf3d (ART)\"\n},\n\"mapping\":{\n},\n\"ggsize\":{\n\"width\":1000.0,\n\"height\":800.0\n},\n\"kind\":\"plot\",\n\"scales\":[{\n\"aesthetic\":\"y\",\n\"name\":\"ns/op\"\n},{\n\"aesthetic\":\"fill\",\n\"name\":\"Benchmark\"\n},{\n\"aesthetic\":\"x\",\n\"breaks\":[\"baselineFloat\",\"inlineFloat\",\"longPackFloat\",\"mutableRefFloatIn1Long\",\"mutableRefFloatIn2Longs\",\"valueFloat\",\"valueInlineFloat\",\"valuePreserveBoxFloat\",\"baselineDouble\",\"inlineDouble\",\"mutableRefDouble\",\"valueDouble\",\"valueInlineDouble\",\"valuePreserveBoxDouble\"],\n\"name\":\"\",\n\"limits\":[\"baselineFloat\",\"inlineFloat\",\"longPackFloat\",\"mutableRefFloatIn1Long\",\"mutableRefFloatIn2Longs\",\"valueFloat\",\"valueInlineFloat\",\"valuePreserveBoxFloat\",\"baselineDouble\",\"inlineDouble\",\"mutableRefDouble\",\"valueDouble\",\"valueInlineDouble\",\"valuePreserveBoxDouble\",\"\"],\n\"labels\":[\"baselineFloat\",\"inlineFloat\",\"longPackFloat\",\"mutableRefFloatIn1Long\",\"mutableRefFloatIn2Longs\",\"valueFloat\",\"valueInlineFloat\",\"valuePreserveBoxFloat\",\"baselineDouble\",\"inlineDouble\",\"mutableRefDouble\",\"valueDouble\",\"valueInlineDouble\",\"valuePreserveBoxDouble\"]\n},{\n\"aesthetic\":\"y\",\n\"name\":\"ns/op\",\n\"limits\":[0.0,1.082971352322296E9]\n}],\n\"layers\":[{\n\"mapping\":{\n\"x\":\"x\",\n\"y\":\"y\",\n\"fill\":\"fill\"\n},\n\"stat\":\"identity\",\n\"position\":\"stack\",\n\"geom\":\"bar\",\n\"data\":{\n\"x\":[\"baselineFloat\",\"inlineFloat\",\"longPackFloat\",\"mutableRefFloatIn1Long\",\"mutableRefFloatIn2Longs\",\"valueFloat\",\"valueInlineFloat\",\"valuePreserveBoxFloat\",\"baselineDouble\",\"inlineDouble\",\"mutableRefDouble\",\"valueDouble\",\"valueInlineDouble\",\"valuePreserveBoxDouble\"],\n\"y\":[3.08391077E8,8.36105788E8,7.77419805E7,1.595877495E8,1.01489596E8,3.118959615E8,1.86374308E7,3.603156535E8,4.695191535E8,1.0423727495E9,1.06578058E8,5.60696615E8,2.5887717833333332E7,5.341226535E8],\n\"fill\":[\"baselineFloat\",\"inlineFloat\",\"longPackFloat\",\"mutableRefFloatIn1Long\",\"mutableRefFloatIn2Longs\",\"valueFloat\",\"valueInlineFloat\",\"valuePreserveBoxFloat\",\"baselineDouble\",\"inlineDouble\",\"mutableRefDouble\",\"valueDouble\",\"valueInlineDouble\",\"valuePreserveBoxDouble\"]\n}\n},{\n\"mapping\":{\n\"x\":\"x1\",\n\"ymin\":\"ymin\",\n\"ymax\":\"ymax\"\n},\n\"stat\":\"identity\",\n\"size\":0.6,\n\"width\":0.5,\n\"position\":\"dodge\",\n\"geom\":\"errorbar\",\n\"data\":{\n\"ymin\":[3.049171289163221E8,8.295516537499466E8,7.692989229889315E7,1.5826998479930058E8,1.0051202976464835E8,3.0740415440799767E8,1.861945190339012E7,3.547042908222126E8,4.637733800300072E8,1.001774146677704E9,1.0583744138677196E8,5.548282106788783E8,2.5872822470546797E7,5.278220791992124E8],\n\"ymax\":[3.118650250836779E8,8.426599222500534E8,7.855406870110685E7,1.6090551420069942E8,1.0246716223535165E8,3.1638776859200233E8,1.865540969660988E7,3.659270161777874E8,4.752649269699928E8,1.082971352322296E9,1.0731867461322804E8,5.665650193211217E8,2.5902613196119867E7,5.404232278007877E8],\n\"x1\":[\"baselineFloat\",\"inlineFloat\",\"longPackFloat\",\"mutableRefFloatIn1Long\",\"mutableRefFloatIn2Longs\",\"valueFloat\",\"valueInlineFloat\",\"valuePreserveBoxFloat\",\"baselineDouble\",\"inlineDouble\",\"mutableRefDouble\",\"valueDouble\",\"valueInlineDouble\",\"valuePreserveBoxDouble\"]\n}\n},{\n\"mapping\":{\n\"x\":\"x2\",\n\"y\":\"y1\",\n\"label\":\"label\"\n},\n\"stat\":\"identity\",\n\"size\":4.5,\n\"position\":{\n\"name\":\"stack\",\n\"vjust\":1.0\n},\n\"geom\":\"text\",\n\"data\":{\n\"y1\":[1.541955385E8,4.18052894E8,1.2106083459289184E8,7.979387475E7,5.0744798E7,1.5594798075E8,6.195628489289184E7,1.8015782675E8,2.3475957675E8,5.2118637475E8,5.3289029E7,2.803483075E8,6.920657192622517E7,2.6706132675E8],\n\"x2\":[\"baselineFloat\",\"inlineFloat\",\"longPackFloat\",\"mutableRefFloatIn1Long\",\"mutableRefFloatIn2Longs\",\"valueFloat\",\"valueInlineFloat\",\"valuePreserveBoxFloat\",\"baselineDouble\",\"inlineDouble\",\"mutableRefDouble\",\"valueDouble\",\"valueInlineDouble\",\"valuePreserveBoxDouble\"],\n\"label\":[\"100%\\n±\\n2.3%\\nFloat\",\"271%\\n±\\n4.3%\\nFloat\",\"25%\\n±\\n0.5%\\nFloat\",\"52%\\n±\\n0.9%\\nFloat\",\"33%\\n±\\n0.6%\\nFloat\",\"101%\\n±\\n2.9%\\nFloat\",\"6%\\n±\\n0.0%\\nFloat\",\"117%\\n±\\n3.6%\\nFloat\",\"100%\\n±\\n2.4%\\nDouble\",\"222%\\n±\\n17.3%\\nDouble\",\"23%\\n±\\n0.3%\\nDouble\",\"119%\\n±\\n2.5%\\nDouble\",\"6%\\n±\\n0.0%\\nDouble\",\"114%\\n±\\n2.7%\\nDouble\"]\n}\n}],\n\"theme\":{\n\"plot_title\":{\n\"hjust\":0.5,\n\"blank\":false\n},\n\"legend_position\":\"right\"\n}\n};\n           var plotContainer = document.getElementById(\"0JK1MZ\");\n           window.letsPlotCall(function() {{\n               LetsPlot.buildPlotFromProcessedSpecs(plotSpec, -1, -1, plotContainer);\n           }});\n       })();    \n   </script>"
     },
     "metadata": {},
     "output_type": "display_data"
    },
    {
     "data": {
      "text/html": "   <div id=\"j2Yvny\"></div>\n   <script type=\"text/javascript\" data-lets-plot-script=\"plot\">\n       (function() {\n           var plotSpec={\n\"ggtitle\":{\n\"text\":\"Ackermann (ART)\"\n},\n\"mapping\":{\n},\n\"ggsize\":{\n\"width\":1000.0,\n\"height\":800.0\n},\n\"kind\":\"plot\",\n\"scales\":[{\n\"aesthetic\":\"y\",\n\"name\":\"ns/op\"\n},{\n\"aesthetic\":\"fill\",\n\"name\":\"Benchmark\"\n},{\n\"aesthetic\":\"x\",\n\"breaks\":[\"baselineInt\",\"longPackInt\",\"mutableRefIntIn1Long\",\"mutableRefIntIn2Longs\",\"valueInt\",\"valuePreserveBoxInt\",\"baselineLong\",\"mutableRefLong\",\"valueLong\",\"valuePreserveBoxLong\",\"baselineFloat\",\"longPackFloat\",\"mutableRefFloatIn1Long\",\"mutableRefFloatIn2Longs\",\"valueFloat\",\"valuePreserveBoxFloat\",\"baselineDouble\",\"mutableRefDouble\",\"valueDouble\",\"valuePreserveBoxDouble\"],\n\"name\":\"\",\n\"limits\":[\"baselineInt\",\"longPackInt\",\"mutableRefIntIn1Long\",\"mutableRefIntIn2Longs\",\"valueInt\",\"valuePreserveBoxInt\",\"baselineLong\",\"mutableRefLong\",\"valueLong\",\"valuePreserveBoxLong\",\"baselineFloat\",\"longPackFloat\",\"mutableRefFloatIn1Long\",\"mutableRefFloatIn2Longs\",\"valueFloat\",\"valuePreserveBoxFloat\",\"baselineDouble\",\"mutableRefDouble\",\"valueDouble\",\"valuePreserveBoxDouble\",\"\"],\n\"labels\":[\"baselineInt\",\"longPackInt\",\"mutableRefIntIn1Long\",\"mutableRefIntIn2Longs\",\"valueInt\",\"valuePreserveBoxInt\",\"baselineLong\",\"mutableRefLong\",\"valueLong\",\"valuePreserveBoxLong\",\"baselineFloat\",\"longPackFloat\",\"mutableRefFloatIn1Long\",\"mutableRefFloatIn2Longs\",\"valueFloat\",\"valuePreserveBoxFloat\",\"baselineDouble\",\"mutableRefDouble\",\"valueDouble\",\"valuePreserveBoxDouble\"]\n},{\n\"aesthetic\":\"y\",\n\"name\":\"ns/op\",\n\"limits\":[0.0,102705.9682405803]\n}],\n\"layers\":[{\n\"mapping\":{\n\"x\":\"x\",\n\"y\":\"y\",\n\"fill\":\"fill\"\n},\n\"stat\":\"identity\",\n\"position\":\"stack\",\n\"geom\":\"bar\",\n\"data\":{\n\"x\":[\"baselineInt\",\"longPackInt\",\"mutableRefIntIn1Long\",\"mutableRefIntIn2Longs\",\"valueInt\",\"valuePreserveBoxInt\",\"baselineLong\",\"mutableRefLong\",\"valueLong\",\"valuePreserveBoxLong\",\"baselineFloat\",\"longPackFloat\",\"mutableRefFloatIn1Long\",\"mutableRefFloatIn2Longs\",\"valueFloat\",\"valuePreserveBoxFloat\",\"baselineDouble\",\"mutableRefDouble\",\"valueDouble\",\"valuePreserveBoxDouble\"],\n\"y\":[86018.31501831501,18459.28149790014,23577.005195843325,29746.984110535406,42701.360584843496,52318.83972240581,90101.17167381974,35753.53741231489,97198.94560669456,100168.40967153285,87696.04671717172,25972.318744473916,29330.143828960157,33846.96012994684,59844.3943254198,47683.56443584071,100296.71987641606,40077.00265800355,99623.56158759125,100340.65966386555],\n\"fill\":[\"baselineInt\",\"longPackInt\",\"mutableRefIntIn1Long\",\"mutableRefIntIn2Longs\",\"valueInt\",\"valuePreserveBoxInt\",\"baselineLong\",\"mutableRefLong\",\"valueLong\",\"valuePreserveBoxLong\",\"baselineFloat\",\"longPackFloat\",\"mutableRefFloatIn1Long\",\"mutableRefFloatIn2Longs\",\"valueFloat\",\"valuePreserveBoxFloat\",\"baselineDouble\",\"mutableRefDouble\",\"valueDouble\",\"valuePreserveBoxDouble\"]\n}\n},{\n\"mapping\":{\n\"x\":\"x1\",\n\"ymin\":\"ymin\",\n\"ymax\":\"ymax\"\n},\n\"stat\":\"identity\",\n\"size\":0.6,\n\"width\":0.5,\n\"position\":\"dodge\",\n\"geom\":\"errorbar\",\n\"data\":{\n\"ymin\":[84758.21177043795,18405.19093200896,22781.538440286677,29419.383013879342,41649.48462677139,51016.60957795511,88193.75730104413,34982.059638607105,95447.52031639717,98743.14866772409,86194.5380109683,25798.30788726563,28846.729515414005,32960.30287215202,58985.05721378629,46872.57872191093,98878.9197256703,39247.87483336441,96615.59731728441,97975.35108715079],\n\"ymax\":[87278.41826619208,18513.37206379132,24372.471951399973,30074.58520719147,43753.236542915605,53621.06986685652,92008.58604659536,36525.01518602267,98950.37089699194,101593.67067534161,89197.55542337513,26146.329601682202,29813.55814250631,34733.617387741666,60703.73143705331,48494.55014977048,101714.52002716181,40906.130482642686,102631.52585789809,102705.9682405803],\n\"x1\":[\"baselineInt\",\"longPackInt\",\"mutableRefIntIn1Long\",\"mutableRefIntIn2Longs\",\"valueInt\",\"valuePreserveBoxInt\",\"baselineLong\",\"mutableRefLong\",\"valueLong\",\"valuePreserveBoxLong\",\"baselineFloat\",\"longPackFloat\",\"mutableRefFloatIn1Long\",\"mutableRefFloatIn2Longs\",\"valueFloat\",\"valuePreserveBoxFloat\",\"baselineDouble\",\"mutableRefDouble\",\"valueDouble\",\"valuePreserveBoxDouble\"]\n}\n},{\n\"mapping\":{\n\"x\":\"x2\",\n\"y\":\"y1\",\n\"label\":\"label\"\n},\n\"stat\":\"identity\",\n\"size\":4.5,\n\"position\":{\n\"name\":\"stack\",\n\"vjust\":1.0\n},\n\"geom\":\"text\",\n\"data\":{\n\"y1\":[43009.15750915751,9229.64074895007,11788.502597921663,14873.492055267703,21350.680292421748,26159.419861202907,45050.58583690987,17876.768706157443,48599.47280334728,50084.204835766424,43848.02335858586,12986.159372236958,14665.071914480079,16923.48006497342,29922.1971627099,23841.782217920354,50148.35993820803,20038.501329001774,49811.780793795624,50170.32983193277],\n\"x2\":[\"baselineInt\",\"longPackInt\",\"mutableRefIntIn1Long\",\"mutableRefIntIn2Longs\",\"valueInt\",\"valuePreserveBoxInt\",\"baselineLong\",\"mutableRefLong\",\"valueLong\",\"valuePreserveBoxLong\",\"baselineFloat\",\"longPackFloat\",\"mutableRefFloatIn1Long\",\"mutableRefFloatIn2Longs\",\"valueFloat\",\"valuePreserveBoxFloat\",\"baselineDouble\",\"mutableRefDouble\",\"valueDouble\",\"valuePreserveBoxDouble\"],\n\"label\":[\"100%\\n±\\n2.9%\\nInt\",\"21%\\n±\\n0.1%\\nInt\",\"27%\\n±\\n1.8%\\nInt\",\"35%\\n±\\n0.8%\\nInt\",\"50%\\n±\\n2.4%\\nInt\",\"61%\\n±\\n3.0%\\nInt\",\"100%\\n±\\n4.2%\\nLong\",\"40%\\n±\\n1.7%\\nLong\",\"108%\\n±\\n3.9%\\nLong\",\"111%\\n±\\n3.2%\\nLong\",\"100%\\n±\\n3.4%\\nFloat\",\"30%\\n±\\n0.4%\\nFloat\",\"33%\\n±\\n1.1%\\nFloat\",\"39%\\n±\\n2.0%\\nFloat\",\"68%\\n±\\n2.0%\\nFloat\",\"54%\\n±\\n1.8%\\nFloat\",\"100%\\n±\\n2.8%\\nDouble\",\"40%\\n±\\n1.7%\\nDouble\",\"99%\\n±\\n6.0%\\nDouble\",\"100%\\n±\\n4.7%\\nDouble\"]\n}\n}],\n\"theme\":{\n\"plot_title\":{\n\"hjust\":0.5,\n\"blank\":false\n},\n\"legend_position\":\"right\"\n}\n};\n           var plotContainer = document.getElementById(\"j2Yvny\");\n           window.letsPlotCall(function() {{\n               LetsPlot.buildPlotFromProcessedSpecs(plotSpec, -1, -1, plotContainer);\n           }});\n       })();    \n   </script>"
     },
     "metadata": {},
     "output_type": "display_data"
    },
    {
     "data": {
      "text/html": "   <div id=\"ciyh2R\"></div>\n   <script type=\"text/javascript\" data-lets-plot-script=\"plot\">\n       (function() {\n           var plotSpec={\n\"ggtitle\":{\n\"text\":\"BoxRecreation (ART)\"\n},\n\"mapping\":{\n},\n\"ggsize\":{\n\"width\":1000.0,\n\"height\":800.0\n},\n\"kind\":\"plot\",\n\"scales\":[{\n\"aesthetic\":\"y\",\n\"name\":\"ns/op\"\n},{\n\"aesthetic\":\"fill\",\n\"name\":\"Benchmark\"\n},{\n\"aesthetic\":\"x\",\n\"breaks\":[\"baselineInt\",\"longPackInt\",\"valueInt\",\"valuePreserveBoxInt\",\"baselineLong\",\"valueLong\",\"valuePreserveBoxLong\",\"baselineFloat\",\"longPackFloat\",\"valueFloat\",\"valuePreserveBoxFloat\",\"baselineDouble\",\"valueDouble\",\"valuePreserveBoxDouble\"],\n\"name\":\"\",\n\"limits\":[\"baselineInt\",\"longPackInt\",\"valueInt\",\"valuePreserveBoxInt\",\"baselineLong\",\"valueLong\",\"valuePreserveBoxLong\",\"baselineFloat\",\"longPackFloat\",\"valueFloat\",\"valuePreserveBoxFloat\",\"baselineDouble\",\"valueDouble\",\"valuePreserveBoxDouble\",\"\"],\n\"labels\":[\"baselineInt\",\"longPackInt\",\"valueInt\",\"valuePreserveBoxInt\",\"baselineLong\",\"valueLong\",\"valuePreserveBoxLong\",\"baselineFloat\",\"longPackFloat\",\"valueFloat\",\"valuePreserveBoxFloat\",\"baselineDouble\",\"valueDouble\",\"valuePreserveBoxDouble\"]\n},{\n\"aesthetic\":\"y\",\n\"name\":\"ns/op\",\n\"limits\":[0.0,4997.352647356203]\n}],\n\"layers\":[{\n\"mapping\":{\n\"x\":\"x\",\n\"y\":\"y\",\n\"fill\":\"fill\"\n},\n\"stat\":\"identity\",\n\"position\":\"stack\",\n\"geom\":\"bar\",\n\"data\":{\n\"x\":[\"baselineInt\",\"longPackInt\",\"valueInt\",\"valuePreserveBoxInt\",\"baselineLong\",\"valueLong\",\"valuePreserveBoxLong\",\"baselineFloat\",\"longPackFloat\",\"valueFloat\",\"valuePreserveBoxFloat\",\"baselineDouble\",\"valueDouble\",\"valuePreserveBoxDouble\"],\n\"y\":[688.5099240265907,3701.795294619376,3727.2578929188257,699.4513189566243,803.0770147718774,4900.071710922059,838.6960563598959,719.7231430038751,3719.4216867469877,3726.835195877569,693.4751325653685,841.3832867364829,4890.821666300929,817.349997583724],\n\"fill\":[\"baselineInt\",\"longPackInt\",\"valueInt\",\"valuePreserveBoxInt\",\"baselineLong\",\"valueLong\",\"valuePreserveBoxLong\",\"baselineFloat\",\"longPackFloat\",\"valueFloat\",\"valuePreserveBoxFloat\",\"baselineDouble\",\"valueDouble\",\"valuePreserveBoxDouble\"]\n}\n},{\n\"mapping\":{\n\"x\":\"x1\",\n\"ymin\":\"ymin\",\n\"ymax\":\"ymax\"\n},\n\"stat\":\"identity\",\n\"size\":0.6,\n\"width\":0.5,\n\"position\":\"dodge\",\n\"geom\":\"errorbar\",\n\"data\":{\n\"ymin\":[655.5545852047961,3633.302251431779,3671.934457237736,680.523297086119,781.6953821285059,4809.142717723839,803.5386019991029,701.8103935070363,3544.4335760014615,3654.0124472132047,682.3393697702164,827.1201717196973,4784.2906852456545,803.3252504976283],\n\"ymax\":[721.4652628483854,3770.288337806973,3782.5813285999157,718.3793408271296,824.458647415249,4991.000704120278,873.853510720689,737.6358925007138,3894.409797492514,3799.657944541933,704.6108953605207,855.6464017532685,4997.352647356203,831.3747446698196],\n\"x1\":[\"baselineInt\",\"longPackInt\",\"valueInt\",\"valuePreserveBoxInt\",\"baselineLong\",\"valueLong\",\"valuePreserveBoxLong\",\"baselineFloat\",\"longPackFloat\",\"valueFloat\",\"valuePreserveBoxFloat\",\"baselineDouble\",\"valueDouble\",\"valuePreserveBoxDouble\"]\n}\n},{\n\"mapping\":{\n\"x\":\"x2\",\n\"y\":\"y1\",\n\"label\":\"label\"\n},\n\"stat\":\"identity\",\n\"size\":4.5,\n\"position\":{\n\"name\":\"stack\",\n\"vjust\":1.0\n},\n\"geom\":\"text\",\n\"data\":{\n\"y1\":[344.25496201329537,1850.897647309688,1863.6289464594129,349.72565947831214,401.5385073859387,2450.0358554610293,419.34802817994796,359.86157150193753,1859.7108433734938,1863.4175979387844,346.73756628268427,420.69164336824144,2445.4108331504644,408.674998791862],\n\"x2\":[\"baselineInt\",\"longPackInt\",\"valueInt\",\"valuePreserveBoxInt\",\"baselineLong\",\"valueLong\",\"valuePreserveBoxLong\",\"baselineFloat\",\"longPackFloat\",\"valueFloat\",\"valuePreserveBoxFloat\",\"baselineDouble\",\"valueDouble\",\"valuePreserveBoxDouble\"],\n\"label\":[\"100%\\n±\\n9.6%\\nInt\",\"538%\\n±\\n19.9%\\nInt\",\"541%\\n±\\n16.1%\\nInt\",\"102%\\n±\\n5.5%\\nInt\",\"100%\\n±\\n5.3%\\nLong\",\"610%\\n±\\n22.6%\\nLong\",\"104%\\n±\\n8.8%\\nLong\",\"100%\\n±\\n5.0%\\nFloat\",\"517%\\n±\\n48.6%\\nFloat\",\"518%\\n±\\n20.2%\\nFloat\",\"96%\\n±\\n3.1%\\nFloat\",\"100%\\n±\\n3.4%\\nDouble\",\"581%\\n±\\n25.3%\\nDouble\",\"97%\\n±\\n3.3%\\nDouble\"]\n}\n}],\n\"theme\":{\n\"plot_title\":{\n\"hjust\":0.5,\n\"blank\":false\n},\n\"legend_position\":\"right\"\n}\n};\n           var plotContainer = document.getElementById(\"ciyh2R\");\n           window.letsPlotCall(function() {{\n               LetsPlot.buildPlotFromProcessedSpecs(plotSpec, -1, -1, plotContainer);\n           }});\n       })();    \n   </script>"
     },
     "metadata": {},
     "output_type": "display_data"
    }
   ],
   "source": [
    "makePlot(\"Wolf3d\", \"ART\", readArtBenchmarkData(\"Wolf3dBenchmark\"))\n",
    "makePlot(\"Ackermann\", \"ART\", readArtBenchmarkData(\"AckermannBenchmark\"))\n",
    "makePlot(\"BoxRecreation\", \"ART\", readArtBenchmarkData(\"BoxRecreationBenchmark\"))"
   ],
   "metadata": {
    "collapsed": false,
    "ExecuteTime": {
     "end_time": "2023-04-28T11:53:21.288348Z",
     "start_time": "2023-04-28T11:53:19.998955Z"
    }
   }
  }
 ],
 "metadata": {
  "kernelspec": {
   "display_name": "Kotlin",
   "language": "kotlin",
   "name": "kotlin"
  },
  "language_info": {
   "name": "kotlin",
   "version": "1.8.0",
   "mimetype": "text/x-kotlin",
   "file_extension": ".kt",
   "pygments_lexer": "kotlin",
   "codemirror_mode": "text/x-kotlin",
   "nbconvert_exporter": ""
  },
  "ktnbPluginMetadata": {
   "isAddProjectLibrariesToClasspath": false
  }
 },
 "nbformat": 4,
 "nbformat_minor": 0
}
